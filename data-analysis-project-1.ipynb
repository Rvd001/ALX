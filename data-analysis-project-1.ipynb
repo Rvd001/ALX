{
 "cells": [
  {
   "cell_type": "markdown",
   "id": "131d0ef2",
   "metadata": {
    "papermill": {
     "duration": 0.014548,
     "end_time": "2022-12-20T01:41:32.601297",
     "exception": false,
     "start_time": "2022-12-20T01:41:32.586749",
     "status": "completed"
    },
    "tags": []
   },
   "source": [
    "> **Tip**: Welcome to the Investigate a Dataset project! You will find tips in quoted sections like this to help organize your approach to your investigation. Before submitting your project, it will be a good idea to go back through your report and remove these sections to make the presentation of your work as tidy as possible. First things first, you might want to double-click this Markdown cell and change the title so that it reflects your dataset and investigation.\n",
    "\n",
    "# Project: Investigate a Dataset (Replace this with something more specific!)\n",
    "\n",
    "## Table of Contents\n",
    "<ul>\n",
    "<li><a href=\"#intro\">Introduction</a></li>\n",
    "<li><a href=\"#wrangling\">Data Wrangling</a></li>\n",
    "<li><a href=\"#eda\">Exploratory Data Analysis</a></li>\n",
    "<li><a href=\"#conclusions\">Conclusions</a></li>\n",
    "</ul>"
   ]
  },
  {
   "cell_type": "markdown",
   "id": "387814fe",
   "metadata": {
    "papermill": {
     "duration": 0.01477,
     "end_time": "2022-12-20T01:41:32.629589",
     "exception": false,
     "start_time": "2022-12-20T01:41:32.614819",
     "status": "completed"
    },
    "tags": []
   },
   "source": [
    "<a id='intro'></a>\n",
    "## Introduction\n",
    "\n",
    "> **Tip**: In this section of the report, provide a brief introduction to the dataset you've selected for analysis. At the end of this section, describe the questions that you plan on exploring over the course of the report. Try to build your report around the analysis of at least one dependent variable and three independent variables.\n",
    ">\n",
    "> If you haven't yet selected and downloaded your data, make sure you do that first before coming back here. If you're not sure what questions to ask right now, then make sure you familiarize yourself with the variables and the dataset context for ideas of what to explore."
   ]
  },
  {
   "cell_type": "code",
   "execution_count": 1,
   "id": "c5a61489",
   "metadata": {
    "execution": {
     "iopub.execute_input": "2022-12-20T01:41:32.658487Z",
     "iopub.status.busy": "2022-12-20T01:41:32.657793Z",
     "iopub.status.idle": "2022-12-20T01:41:33.613839Z",
     "shell.execute_reply": "2022-12-20T01:41:33.612713Z"
    },
    "papermill": {
     "duration": 0.974024,
     "end_time": "2022-12-20T01:41:33.616738",
     "exception": false,
     "start_time": "2022-12-20T01:41:32.642714",
     "status": "completed"
    },
    "tags": []
   },
   "outputs": [],
   "source": [
    "# import statements for all of the packages that I plan to use.\n",
    "\n",
    "\n",
    "import pandas as pd\n",
    "import numpy as np\n",
    "import matplotlib.pyplot as plt\n",
    "import seaborn as sns\n",
    "import os\n",
    "%matplotlib inline\n",
    "sns.set_style('darkgrid')\n"
   ]
  },
  {
   "cell_type": "markdown",
   "id": "941b6823",
   "metadata": {
    "papermill": {
     "duration": 0.013112,
     "end_time": "2022-12-20T01:41:33.643415",
     "exception": false,
     "start_time": "2022-12-20T01:41:33.630303",
     "status": "completed"
    },
    "tags": []
   },
   "source": [
    "<a id='wrangling'></a>\n",
    "## Data Wrangling\n",
    "\n",
    "> **Tip**: In this section of the report, you will load in the data, check for cleanliness, and then trim and clean your dataset for analysis. Make sure that you document your steps carefully and justify your cleaning decisions.\n",
    "\n",
    "### General Properties"
   ]
  },
  {
   "cell_type": "code",
   "execution_count": 2,
   "id": "4357e132",
   "metadata": {
    "execution": {
     "iopub.execute_input": "2022-12-20T01:41:33.671614Z",
     "iopub.status.busy": "2022-12-20T01:41:33.671233Z",
     "iopub.status.idle": "2022-12-20T01:41:33.680029Z",
     "shell.execute_reply": "2022-12-20T01:41:33.678738Z"
    },
    "papermill": {
     "duration": 0.02648,
     "end_time": "2022-12-20T01:41:33.683233",
     "exception": false,
     "start_time": "2022-12-20T01:41:33.656753",
     "status": "completed"
    },
    "tags": []
   },
   "outputs": [
    {
     "data": {
      "text/plain": [
       "'/kaggle/working'"
      ]
     },
     "execution_count": 2,
     "metadata": {},
     "output_type": "execute_result"
    }
   ],
   "source": [
    "pwd"
   ]
  },
  {
   "cell_type": "markdown",
   "id": "8d137f33",
   "metadata": {
    "execution": {
     "iopub.execute_input": "2022-12-19T21:47:58.671702Z",
     "iopub.status.busy": "2022-12-19T21:47:58.671069Z",
     "iopub.status.idle": "2022-12-19T21:47:58.705379Z",
     "shell.execute_reply": "2022-12-19T21:47:58.703653Z",
     "shell.execute_reply.started": "2022-12-19T21:47:58.671565Z"
    },
    "papermill": {
     "duration": 0.013039,
     "end_time": "2022-12-20T01:41:33.709434",
     "exception": false,
     "start_time": "2022-12-20T01:41:33.696395",
     "status": "completed"
    },
    "tags": []
   },
   "source": [
    "[Link](https://www.census.gov/quickfacts/gunbarrelcitycitytexas) to dataset"
   ]
  },
  {
   "cell_type": "markdown",
   "id": "bf697a4e",
   "metadata": {
    "papermill": {
     "duration": 0.012818,
     "end_time": "2022-12-20T01:41:33.735481",
     "exception": false,
     "start_time": "2022-12-20T01:41:33.722663",
     "status": "completed"
    },
    "tags": []
   },
   "source": [
    "Some estimates presented here come from sample data, and thus have sampling errors that may render some apparent differences between geographies statistically indistinguishable. Click the Quick Info  icon to the left of each row in TABLE view to learn about sampling error.\n",
    "\n",
    "The vintage year (e.g., V2021) refers to the final year of the series (2020 thru 2021). Different vintage years of estimates are not comparable.\n",
    "\n",
    "Users should exercise caution when comparing 2017-2021 ACS 5-year estimates to other ACS estimates. For more information, please visit the 2021 5-year ACS Comparison Guidance page.\n",
    "\n",
    "Fact Notes\n",
    "(a)Includes persons reporting only one race\n",
    "(c)Economic Census - Puerto Rico data are not comparable to U.S. Economic Census data\n",
    "(b)Hispanics may be of any race, so also are included in applicable race categories\n",
    "Value Flags\n",
    "-Either no or too few sample observations were available to compute an estimate, or a ratio of medians cannot be calculated because one or both of the median estimates falls in the lowest or upper interval of an open ended distribution.\n",
    "FFewer than 25 firms\n",
    "DSuppressed to avoid disclosure of confidential information\n",
    "NData for this geographic area cannot be displayed because the number of sample cases is too small.\n",
    "FNFootnote on this item in place of data\n",
    "XNot applicable\n",
    "SSuppressed; does not meet publication standards\n",
    "NANot available\n",
    "ZValue greater than zero but less than half unit of measure shown\n",
    "QuickFacts data are derived from: Population Estimates, American Community Survey, Census of Population and Housing, Current Population Survey, Small Area Health Insurance Estimates, Small Area Income and Poverty Estimates, State and County Housing Unit Estimates, County Business Patterns, Nonemployer Statistics, Economic Census, Survey of Business Owners, Building Permits."
   ]
  },
  {
   "cell_type": "markdown",
   "id": "6448cef8",
   "metadata": {
    "papermill": {
     "duration": 0.012829,
     "end_time": "2022-12-20T01:41:33.761480",
     "exception": false,
     "start_time": "2022-12-20T01:41:33.748651",
     "status": "completed"
    },
    "tags": []
   },
   "source": [
    "### Gun data"
   ]
  },
  {
   "cell_type": "markdown",
   "id": "32e6d552",
   "metadata": {
    "papermill": {
     "duration": 0.012873,
     "end_time": "2022-12-20T01:41:33.787389",
     "exception": false,
     "start_time": "2022-12-20T01:41:33.774516",
     "status": "completed"
    },
    "tags": []
   },
   "source": [
    "Here is a [link](https://www.fbi.gov/file-repository/nics_firearm_checks_-_month_year_by_state_type.pdf/view) to the description of firearms\n",
    "\n",
    "\n",
    "\n",
    "Each column represents the type of transaction submitted to the **National Instant Criminal Background Check System (NICS)**. In addition, each type of transaction is broken down by the type of firearm—handgun, long gun, and other. The types of firearms are defined by the **Bureau of Alcohol, Tobacco, Firearms and Explosives** as follows:\n",
    "\n",
    "- Handgun—(a) any firearm which has a short stock and is designed to be held and fired by the use of a single hand; and (b) any combination of parts from which a firearm described in paragraph (a) can be assembled.\n",
    "\n",
    "- Long Gun—a weapon designed or redesigned, made or remade, and intended to be fired from the shoulder, and designed or redesigned and made or remade to use the energy of the explosive in (a) a fixed metallic cartridge to fire a single projectile through a rifled bore for each single pull of the trigger; or (b) a fixed shotgun shell to fire through a smooth bore either\n",
    "a number of ball shot or a single projectile for each single pull of the trigger.\n",
    "\n",
    "- Other—refers to frames, receivers, and other firearms that are neither handguns nor long guns (rifles or shotguns), such as firearms having a pistol grip that expel a shotgun shell, or National Firearms Act firearms, including silencers.\n",
    "\n",
    "The transaction types indicated in yellow on the chart are for background checks initiated by an officially-licensed **Federal Firearms Licensee** (FFL) or criminal justice/law enforcement agency prior to the issuance of a firearm-related permit or transfer. \n",
    "\n",
    "\n",
    "The indication of **“multiple”** denotes a background check where more than one type of firearm is associated to a single\n",
    "background check.\n",
    "\n",
    "**“Admin”** denotes the administrative checks that are for other authorized uses of the NICS.\n",
    "\n",
    "Other types of transactions are explained below:\n",
    "\n",
    "- Pre-Pawn—background checks requested by an officially-licensed FFL on prospective firearm transferees seeking to pledge or pawn a firearm as security for the payment or repayment of money, prior to actually pledging or pawning the firearm.\n",
    "\n",
    "- Redemption—background checks requested by an officially-licensed FFL on prospective firearm transferees attempting to regain possession of a firearm after pledging or pawning a firearm as security at a pawn shop.\n",
    "\n",
    "- Returned/Disposition—background checks requested by criminal justice/law enforcement agencies prior to returning a firearm in its possession to the respective transferee, to ensure the individual is not prohibited.\n",
    "\n",
    "- Rentals—background checks requested by an officially-licensed FFL on prospective firearm transferees attempting to possess a firearm when the firearm is loaned or rented for use off the premises of the business.\n",
    "\n",
    "- Private Sale—background checks requested by an officially-licensed FFL on prospective firearm transferees attempting to possess a firearm from a private party seller who is not an officially-licensed FFL.\n",
    "\n",
    "- Return to Seller-Private Sale—background checks requested by an officially-licensed FFL on prospective firearm transferees attempting to possess a firearm from a private party seller who is not an officially-licensed FFL.\n",
    "\n",
    "It is important to note that the statistics within this chart represent the number of firearm background checks initiated through the NICS. They do not represent the number of firearms sold. Based on varying state laws and purchase scenarios, a one-to-one correlation cannot be made between a firearm background check and a firearm sale."
   ]
  },
  {
   "cell_type": "markdown",
   "id": "6d40e19d",
   "metadata": {
    "papermill": {
     "duration": 0.012936,
     "end_time": "2022-12-20T01:41:33.813427",
     "exception": false,
     "start_time": "2022-12-20T01:41:33.800491",
     "status": "completed"
    },
    "tags": []
   },
   "source": [
    "- month\n",
    "- state\n",
    "- permit\n",
    "- permit_recheck\n",
    "- handgun\n",
    "- long_gun\n",
    "- other\n",
    "- multiple\n",
    "- admin\n",
    "- prepawn_handgun\n",
    "- prepawn_long_gun\n",
    "- prepawn_other\n",
    "- redemption_handgun\n",
    "- redemption_long_gun\n",
    "- redemption_other\n",
    "- returned_handgun \n",
    "- returned_long_gun\n",
    "- returned_other \n",
    "- rentals_handgun\n",
    "- rentals_long_gun\n",
    "- private_sale_handgun \n",
    "- private_sale_long_gun\n",
    "- private_sale_other\n",
    "- return_to_seller_handgun\n",
    "- return_to_seller_long_gun\n",
    "- return_to_seller_other\n",
    "- totals"
   ]
  },
  {
   "cell_type": "markdown",
   "id": "fab31fe9",
   "metadata": {
    "papermill": {
     "duration": 0.01282,
     "end_time": "2022-12-20T01:41:33.839553",
     "exception": false,
     "start_time": "2022-12-20T01:41:33.826733",
     "status": "completed"
    },
    "tags": []
   },
   "source": [
    "## US Census data and Categories\n",
    "\n",
    "The data in the US Census data is classified under different categories as seen below\n",
    "\n",
    "- Population\n",
    "- Age and Sex\n",
    "- Race and Hispanic Origin\n",
    "- Population Characteristics\n",
    "- Housing\n",
    "- Families & Living Arrangements\n",
    "- Computer and Internet Use\n",
    "- Education\n",
    "- Health\n",
    "- Economy\n",
    "- Transportation\n",
    "- Income & Poverty\n",
    "- Businesses\n",
    "- Geography"
   ]
  },
  {
   "cell_type": "code",
   "execution_count": 3,
   "id": "4ff27222",
   "metadata": {
    "execution": {
     "iopub.execute_input": "2022-12-20T01:41:33.868093Z",
     "iopub.status.busy": "2022-12-20T01:41:33.867128Z",
     "iopub.status.idle": "2022-12-20T01:41:33.883258Z",
     "shell.execute_reply": "2022-12-20T01:41:33.881915Z"
    },
    "papermill": {
     "duration": 0.032976,
     "end_time": "2022-12-20T01:41:33.885721",
     "exception": false,
     "start_time": "2022-12-20T01:41:33.852745",
     "status": "completed"
    },
    "tags": []
   },
   "outputs": [
    {
     "name": "stdout",
     "output_type": "stream",
     "text": [
      "/kaggle/src/script.ipynb\n",
      "/kaggle/lib/kaggle/gcp.py\n",
      "/kaggle/input/uscensus/u.s.-census-data.csv\n",
      "/kaggle/input/gundata/gun-data.xlsx\n",
      "/kaggle/working/__notebook__.ipynb\n"
     ]
    }
   ],
   "source": [
    "for dirname, _, filenames in os.walk('/kaggle/'):\n",
    "    for filename in filenames:\n",
    "        print(os.path.join(dirname, filename))"
   ]
  },
  {
   "cell_type": "code",
   "execution_count": 4,
   "id": "9dfb37b1",
   "metadata": {
    "execution": {
     "iopub.execute_input": "2022-12-20T01:41:33.913941Z",
     "iopub.status.busy": "2022-12-20T01:41:33.913537Z",
     "iopub.status.idle": "2022-12-20T01:41:37.363457Z",
     "shell.execute_reply": "2022-12-20T01:41:37.362353Z"
    },
    "papermill": {
     "duration": 3.466943,
     "end_time": "2022-12-20T01:41:37.365996",
     "exception": false,
     "start_time": "2022-12-20T01:41:33.899053",
     "status": "completed"
    },
    "tags": []
   },
   "outputs": [
    {
     "data": {
      "text/html": [
       "<div>\n",
       "<style scoped>\n",
       "    .dataframe tbody tr th:only-of-type {\n",
       "        vertical-align: middle;\n",
       "    }\n",
       "\n",
       "    .dataframe tbody tr th {\n",
       "        vertical-align: top;\n",
       "    }\n",
       "\n",
       "    .dataframe thead th {\n",
       "        text-align: right;\n",
       "    }\n",
       "</style>\n",
       "<table border=\"1\" class=\"dataframe\">\n",
       "  <thead>\n",
       "    <tr style=\"text-align: right;\">\n",
       "      <th></th>\n",
       "      <th>month</th>\n",
       "      <th>state</th>\n",
       "      <th>permit</th>\n",
       "      <th>permit_recheck</th>\n",
       "      <th>handgun</th>\n",
       "      <th>long_gun</th>\n",
       "      <th>other</th>\n",
       "      <th>multiple</th>\n",
       "      <th>admin</th>\n",
       "      <th>prepawn_handgun</th>\n",
       "      <th>...</th>\n",
       "      <th>returned_other</th>\n",
       "      <th>rentals_handgun</th>\n",
       "      <th>rentals_long_gun</th>\n",
       "      <th>private_sale_handgun</th>\n",
       "      <th>private_sale_long_gun</th>\n",
       "      <th>private_sale_other</th>\n",
       "      <th>return_to_seller_handgun</th>\n",
       "      <th>return_to_seller_long_gun</th>\n",
       "      <th>return_to_seller_other</th>\n",
       "      <th>totals</th>\n",
       "    </tr>\n",
       "  </thead>\n",
       "  <tbody>\n",
       "    <tr>\n",
       "      <th>0</th>\n",
       "      <td>2017-09</td>\n",
       "      <td>Alabama</td>\n",
       "      <td>16717.0</td>\n",
       "      <td>0.0</td>\n",
       "      <td>5734.0</td>\n",
       "      <td>6320.0</td>\n",
       "      <td>221.0</td>\n",
       "      <td>317</td>\n",
       "      <td>0.0</td>\n",
       "      <td>15.0</td>\n",
       "      <td>...</td>\n",
       "      <td>0.0</td>\n",
       "      <td>0.0</td>\n",
       "      <td>0.0</td>\n",
       "      <td>9.0</td>\n",
       "      <td>16.0</td>\n",
       "      <td>3.0</td>\n",
       "      <td>0.0</td>\n",
       "      <td>0.0</td>\n",
       "      <td>3.0</td>\n",
       "      <td>32019</td>\n",
       "    </tr>\n",
       "    <tr>\n",
       "      <th>1</th>\n",
       "      <td>2017-09</td>\n",
       "      <td>Alaska</td>\n",
       "      <td>209.0</td>\n",
       "      <td>2.0</td>\n",
       "      <td>2320.0</td>\n",
       "      <td>2930.0</td>\n",
       "      <td>219.0</td>\n",
       "      <td>160</td>\n",
       "      <td>0.0</td>\n",
       "      <td>5.0</td>\n",
       "      <td>...</td>\n",
       "      <td>0.0</td>\n",
       "      <td>0.0</td>\n",
       "      <td>0.0</td>\n",
       "      <td>17.0</td>\n",
       "      <td>24.0</td>\n",
       "      <td>1.0</td>\n",
       "      <td>0.0</td>\n",
       "      <td>0.0</td>\n",
       "      <td>0.0</td>\n",
       "      <td>6303</td>\n",
       "    </tr>\n",
       "    <tr>\n",
       "      <th>2</th>\n",
       "      <td>2017-09</td>\n",
       "      <td>Arizona</td>\n",
       "      <td>5069.0</td>\n",
       "      <td>382.0</td>\n",
       "      <td>11063.0</td>\n",
       "      <td>7946.0</td>\n",
       "      <td>920.0</td>\n",
       "      <td>631</td>\n",
       "      <td>0.0</td>\n",
       "      <td>13.0</td>\n",
       "      <td>...</td>\n",
       "      <td>0.0</td>\n",
       "      <td>0.0</td>\n",
       "      <td>0.0</td>\n",
       "      <td>38.0</td>\n",
       "      <td>12.0</td>\n",
       "      <td>2.0</td>\n",
       "      <td>0.0</td>\n",
       "      <td>0.0</td>\n",
       "      <td>0.0</td>\n",
       "      <td>28394</td>\n",
       "    </tr>\n",
       "  </tbody>\n",
       "</table>\n",
       "<p>3 rows × 27 columns</p>\n",
       "</div>"
      ],
      "text/plain": [
       "     month    state   permit  permit_recheck  handgun  long_gun  other  \\\n",
       "0  2017-09  Alabama  16717.0             0.0   5734.0    6320.0  221.0   \n",
       "1  2017-09   Alaska    209.0             2.0   2320.0    2930.0  219.0   \n",
       "2  2017-09  Arizona   5069.0           382.0  11063.0    7946.0  920.0   \n",
       "\n",
       "   multiple  admin  prepawn_handgun  ...  returned_other  rentals_handgun  \\\n",
       "0       317    0.0             15.0  ...             0.0              0.0   \n",
       "1       160    0.0              5.0  ...             0.0              0.0   \n",
       "2       631    0.0             13.0  ...             0.0              0.0   \n",
       "\n",
       "   rentals_long_gun  private_sale_handgun  private_sale_long_gun  \\\n",
       "0               0.0                   9.0                   16.0   \n",
       "1               0.0                  17.0                   24.0   \n",
       "2               0.0                  38.0                   12.0   \n",
       "\n",
       "   private_sale_other  return_to_seller_handgun  return_to_seller_long_gun  \\\n",
       "0                 3.0                       0.0                        0.0   \n",
       "1                 1.0                       0.0                        0.0   \n",
       "2                 2.0                       0.0                        0.0   \n",
       "\n",
       "   return_to_seller_other  totals  \n",
       "0                     3.0   32019  \n",
       "1                     0.0    6303  \n",
       "2                     0.0   28394  \n",
       "\n",
       "[3 rows x 27 columns]"
      ]
     },
     "execution_count": 4,
     "metadata": {},
     "output_type": "execute_result"
    }
   ],
   "source": [
    "gun_data = pd.read_excel('/kaggle/input/gundata/gun-data.xlsx')\n",
    "gun_data.head(3)"
   ]
  },
  {
   "cell_type": "code",
   "execution_count": 5,
   "id": "62c467b0",
   "metadata": {
    "execution": {
     "iopub.execute_input": "2022-12-20T01:41:37.394522Z",
     "iopub.status.busy": "2022-12-20T01:41:37.394138Z",
     "iopub.status.idle": "2022-12-20T01:41:37.426499Z",
     "shell.execute_reply": "2022-12-20T01:41:37.425362Z"
    },
    "papermill": {
     "duration": 0.049608,
     "end_time": "2022-12-20T01:41:37.429085",
     "exception": false,
     "start_time": "2022-12-20T01:41:37.379477",
     "status": "completed"
    },
    "tags": []
   },
   "outputs": [
    {
     "data": {
      "text/html": [
       "<div>\n",
       "<style scoped>\n",
       "    .dataframe tbody tr th:only-of-type {\n",
       "        vertical-align: middle;\n",
       "    }\n",
       "\n",
       "    .dataframe tbody tr th {\n",
       "        vertical-align: top;\n",
       "    }\n",
       "\n",
       "    .dataframe thead th {\n",
       "        text-align: right;\n",
       "    }\n",
       "</style>\n",
       "<table border=\"1\" class=\"dataframe\">\n",
       "  <thead>\n",
       "    <tr style=\"text-align: right;\">\n",
       "      <th></th>\n",
       "      <th>Fact</th>\n",
       "      <th>Fact Note</th>\n",
       "      <th>Alabama</th>\n",
       "      <th>Alaska</th>\n",
       "      <th>Arizona</th>\n",
       "      <th>Arkansas</th>\n",
       "      <th>California</th>\n",
       "      <th>Colorado</th>\n",
       "      <th>Connecticut</th>\n",
       "      <th>Delaware</th>\n",
       "      <th>...</th>\n",
       "      <th>South Dakota</th>\n",
       "      <th>Tennessee</th>\n",
       "      <th>Texas</th>\n",
       "      <th>Utah</th>\n",
       "      <th>Vermont</th>\n",
       "      <th>Virginia</th>\n",
       "      <th>Washington</th>\n",
       "      <th>West Virginia</th>\n",
       "      <th>Wisconsin</th>\n",
       "      <th>Wyoming</th>\n",
       "    </tr>\n",
       "  </thead>\n",
       "  <tbody>\n",
       "    <tr>\n",
       "      <th>0</th>\n",
       "      <td>Population estimates, July 1, 2016,  (V2016)</td>\n",
       "      <td>NaN</td>\n",
       "      <td>4,863,300</td>\n",
       "      <td>741,894</td>\n",
       "      <td>6,931,071</td>\n",
       "      <td>2,988,248</td>\n",
       "      <td>39,250,017</td>\n",
       "      <td>5,540,545</td>\n",
       "      <td>3,576,452</td>\n",
       "      <td>952,065</td>\n",
       "      <td>...</td>\n",
       "      <td>865454</td>\n",
       "      <td>6651194</td>\n",
       "      <td>27,862,596</td>\n",
       "      <td>3,051,217</td>\n",
       "      <td>624,594</td>\n",
       "      <td>8,411,808</td>\n",
       "      <td>7,288,000</td>\n",
       "      <td>1,831,102</td>\n",
       "      <td>5,778,708</td>\n",
       "      <td>585,501</td>\n",
       "    </tr>\n",
       "    <tr>\n",
       "      <th>1</th>\n",
       "      <td>Population estimates base, April 1, 2010,  (V2...</td>\n",
       "      <td>NaN</td>\n",
       "      <td>4,780,131</td>\n",
       "      <td>710,249</td>\n",
       "      <td>6,392,301</td>\n",
       "      <td>2,916,025</td>\n",
       "      <td>37,254,522</td>\n",
       "      <td>5,029,324</td>\n",
       "      <td>3,574,114</td>\n",
       "      <td>897,936</td>\n",
       "      <td>...</td>\n",
       "      <td>814195</td>\n",
       "      <td>6346298</td>\n",
       "      <td>25,146,100</td>\n",
       "      <td>2,763,888</td>\n",
       "      <td>625,741</td>\n",
       "      <td>8,001,041</td>\n",
       "      <td>6,724,545</td>\n",
       "      <td>1,853,011</td>\n",
       "      <td>5,687,289</td>\n",
       "      <td>563,767</td>\n",
       "    </tr>\n",
       "    <tr>\n",
       "      <th>2</th>\n",
       "      <td>Population, percent change - April 1, 2010 (es...</td>\n",
       "      <td>NaN</td>\n",
       "      <td>1.70%</td>\n",
       "      <td>4.50%</td>\n",
       "      <td>8.40%</td>\n",
       "      <td>2.50%</td>\n",
       "      <td>5.40%</td>\n",
       "      <td>10.20%</td>\n",
       "      <td>0.10%</td>\n",
       "      <td>6.00%</td>\n",
       "      <td>...</td>\n",
       "      <td>0.063</td>\n",
       "      <td>0.048</td>\n",
       "      <td>10.80%</td>\n",
       "      <td>10.40%</td>\n",
       "      <td>-0.20%</td>\n",
       "      <td>5.10%</td>\n",
       "      <td>8.40%</td>\n",
       "      <td>-1.20%</td>\n",
       "      <td>1.60%</td>\n",
       "      <td>3.90%</td>\n",
       "    </tr>\n",
       "  </tbody>\n",
       "</table>\n",
       "<p>3 rows × 52 columns</p>\n",
       "</div>"
      ],
      "text/plain": [
       "                                                Fact Fact Note    Alabama  \\\n",
       "0       Population estimates, July 1, 2016,  (V2016)       NaN  4,863,300   \n",
       "1  Population estimates base, April 1, 2010,  (V2...       NaN  4,780,131   \n",
       "2  Population, percent change - April 1, 2010 (es...       NaN      1.70%   \n",
       "\n",
       "    Alaska    Arizona   Arkansas  California   Colorado Connecticut Delaware  \\\n",
       "0  741,894  6,931,071  2,988,248  39,250,017  5,540,545   3,576,452  952,065   \n",
       "1  710,249  6,392,301  2,916,025  37,254,522  5,029,324   3,574,114  897,936   \n",
       "2    4.50%      8.40%      2.50%       5.40%     10.20%       0.10%    6.00%   \n",
       "\n",
       "   ... South Dakota Tennessee       Texas       Utah  Vermont   Virginia  \\\n",
       "0  ...       865454   6651194  27,862,596  3,051,217  624,594  8,411,808   \n",
       "1  ...       814195   6346298  25,146,100  2,763,888  625,741  8,001,041   \n",
       "2  ...        0.063     0.048      10.80%     10.40%   -0.20%      5.10%   \n",
       "\n",
       "  Washington West Virginia  Wisconsin  Wyoming  \n",
       "0  7,288,000     1,831,102  5,778,708  585,501  \n",
       "1  6,724,545     1,853,011  5,687,289  563,767  \n",
       "2      8.40%        -1.20%      1.60%    3.90%  \n",
       "\n",
       "[3 rows x 52 columns]"
      ]
     },
     "execution_count": 5,
     "metadata": {},
     "output_type": "execute_result"
    }
   ],
   "source": [
    "us_census = pd.read_csv('/kaggle/input/uscensus/u.s.-census-data.csv')\n",
    "us_census.head(3)"
   ]
  },
  {
   "cell_type": "code",
   "execution_count": 6,
   "id": "5d445f2d",
   "metadata": {
    "execution": {
     "iopub.execute_input": "2022-12-20T01:41:37.458619Z",
     "iopub.status.busy": "2022-12-20T01:41:37.458242Z",
     "iopub.status.idle": "2022-12-20T01:41:37.464930Z",
     "shell.execute_reply": "2022-12-20T01:41:37.463952Z"
    },
    "papermill": {
     "duration": 0.023972,
     "end_time": "2022-12-20T01:41:37.467206",
     "exception": false,
     "start_time": "2022-12-20T01:41:37.443234",
     "status": "completed"
    },
    "tags": []
   },
   "outputs": [
    {
     "data": {
      "text/plain": [
       "(12485, 27)"
      ]
     },
     "execution_count": 6,
     "metadata": {},
     "output_type": "execute_result"
    }
   ],
   "source": [
    "gun_data.shape"
   ]
  },
  {
   "cell_type": "code",
   "execution_count": 7,
   "id": "392e8aac",
   "metadata": {
    "execution": {
     "iopub.execute_input": "2022-12-20T01:41:37.497262Z",
     "iopub.status.busy": "2022-12-20T01:41:37.496357Z",
     "iopub.status.idle": "2022-12-20T01:41:37.503207Z",
     "shell.execute_reply": "2022-12-20T01:41:37.502104Z"
    },
    "papermill": {
     "duration": 0.024168,
     "end_time": "2022-12-20T01:41:37.505325",
     "exception": false,
     "start_time": "2022-12-20T01:41:37.481157",
     "status": "completed"
    },
    "tags": []
   },
   "outputs": [
    {
     "data": {
      "text/plain": [
       "(85, 52)"
      ]
     },
     "execution_count": 7,
     "metadata": {},
     "output_type": "execute_result"
    }
   ],
   "source": [
    "us_census.shape"
   ]
  },
  {
   "cell_type": "code",
   "execution_count": 8,
   "id": "8ea1255c",
   "metadata": {
    "execution": {
     "iopub.execute_input": "2022-12-20T01:41:37.535684Z",
     "iopub.status.busy": "2022-12-20T01:41:37.535267Z",
     "iopub.status.idle": "2022-12-20T01:41:37.560309Z",
     "shell.execute_reply": "2022-12-20T01:41:37.559168Z"
    },
    "papermill": {
     "duration": 0.04329,
     "end_time": "2022-12-20T01:41:37.563107",
     "exception": false,
     "start_time": "2022-12-20T01:41:37.519817",
     "status": "completed"
    },
    "tags": []
   },
   "outputs": [
    {
     "name": "stdout",
     "output_type": "stream",
     "text": [
      "<class 'pandas.core.frame.DataFrame'>\n",
      "RangeIndex: 12485 entries, 0 to 12484\n",
      "Data columns (total 27 columns):\n",
      " #   Column                     Non-Null Count  Dtype  \n",
      "---  ------                     --------------  -----  \n",
      " 0   month                      12485 non-null  object \n",
      " 1   state                      12485 non-null  object \n",
      " 2   permit                     12461 non-null  float64\n",
      " 3   permit_recheck             1100 non-null   float64\n",
      " 4   handgun                    12465 non-null  float64\n",
      " 5   long_gun                   12466 non-null  float64\n",
      " 6   other                      5500 non-null   float64\n",
      " 7   multiple                   12485 non-null  int64  \n",
      " 8   admin                      12462 non-null  float64\n",
      " 9   prepawn_handgun            10542 non-null  float64\n",
      " 10  prepawn_long_gun           10540 non-null  float64\n",
      " 11  prepawn_other              5115 non-null   float64\n",
      " 12  redemption_handgun         10545 non-null  float64\n",
      " 13  redemption_long_gun        10544 non-null  float64\n",
      " 14  redemption_other           5115 non-null   float64\n",
      " 15  returned_handgun           2200 non-null   float64\n",
      " 16  returned_long_gun          2145 non-null   float64\n",
      " 17  returned_other             1815 non-null   float64\n",
      " 18  rentals_handgun            990 non-null    float64\n",
      " 19  rentals_long_gun           825 non-null    float64\n",
      " 20  private_sale_handgun       2750 non-null   float64\n",
      " 21  private_sale_long_gun      2750 non-null   float64\n",
      " 22  private_sale_other         2750 non-null   float64\n",
      " 23  return_to_seller_handgun   2475 non-null   float64\n",
      " 24  return_to_seller_long_gun  2750 non-null   float64\n",
      " 25  return_to_seller_other     2255 non-null   float64\n",
      " 26  totals                     12485 non-null  int64  \n",
      "dtypes: float64(23), int64(2), object(2)\n",
      "memory usage: 2.6+ MB\n"
     ]
    }
   ],
   "source": [
    "gun_data.info()"
   ]
  },
  {
   "cell_type": "markdown",
   "id": "24bc6c7b",
   "metadata": {
    "papermill": {
     "duration": 0.013839,
     "end_time": "2022-12-20T01:41:37.591880",
     "exception": false,
     "start_time": "2022-12-20T01:41:37.578041",
     "status": "completed"
    },
    "tags": []
   },
   "source": [
    "### Checking for the datatypes and the null values"
   ]
  },
  {
   "cell_type": "code",
   "execution_count": 9,
   "id": "f9cf756b",
   "metadata": {
    "execution": {
     "iopub.execute_input": "2022-12-20T01:41:37.623120Z",
     "iopub.status.busy": "2022-12-20T01:41:37.622370Z",
     "iopub.status.idle": "2022-12-20T01:41:37.638864Z",
     "shell.execute_reply": "2022-12-20T01:41:37.636971Z"
    },
    "papermill": {
     "duration": 0.035352,
     "end_time": "2022-12-20T01:41:37.641328",
     "exception": false,
     "start_time": "2022-12-20T01:41:37.605976",
     "status": "completed"
    },
    "tags": []
   },
   "outputs": [
    {
     "name": "stdout",
     "output_type": "stream",
     "text": [
      "<class 'pandas.core.frame.DataFrame'>\n",
      "RangeIndex: 85 entries, 0 to 84\n",
      "Data columns (total 52 columns):\n",
      " #   Column          Non-Null Count  Dtype \n",
      "---  ------          --------------  ----- \n",
      " 0   Fact            80 non-null     object\n",
      " 1   Fact Note       28 non-null     object\n",
      " 2   Alabama         65 non-null     object\n",
      " 3   Alaska          65 non-null     object\n",
      " 4   Arizona         65 non-null     object\n",
      " 5   Arkansas        65 non-null     object\n",
      " 6   California      65 non-null     object\n",
      " 7   Colorado        65 non-null     object\n",
      " 8   Connecticut     65 non-null     object\n",
      " 9   Delaware        65 non-null     object\n",
      " 10  Florida         65 non-null     object\n",
      " 11  Georgia         65 non-null     object\n",
      " 12  Hawaii          65 non-null     object\n",
      " 13  Idaho           65 non-null     object\n",
      " 14  Illinois        65 non-null     object\n",
      " 15  Indiana         65 non-null     object\n",
      " 16  Iowa            65 non-null     object\n",
      " 17  Kansas          65 non-null     object\n",
      " 18  Kentucky        65 non-null     object\n",
      " 19  Louisiana       65 non-null     object\n",
      " 20  Maine           65 non-null     object\n",
      " 21  Maryland        65 non-null     object\n",
      " 22  Massachusetts   65 non-null     object\n",
      " 23  Michigan        65 non-null     object\n",
      " 24  Minnesota       65 non-null     object\n",
      " 25  Mississippi     65 non-null     object\n",
      " 26  Missouri        65 non-null     object\n",
      " 27  Montana         65 non-null     object\n",
      " 28  Nebraska        65 non-null     object\n",
      " 29  Nevada          65 non-null     object\n",
      " 30  New Hampshire   65 non-null     object\n",
      " 31  New Jersey      65 non-null     object\n",
      " 32  New Mexico      65 non-null     object\n",
      " 33  New York        65 non-null     object\n",
      " 34  North Carolina  65 non-null     object\n",
      " 35  North Dakota    65 non-null     object\n",
      " 36  Ohio            65 non-null     object\n",
      " 37  Oklahoma        65 non-null     object\n",
      " 38  Oregon          65 non-null     object\n",
      " 39  Pennsylvania    65 non-null     object\n",
      " 40  Rhode Island    65 non-null     object\n",
      " 41  South Carolina  65 non-null     object\n",
      " 42  South Dakota    65 non-null     object\n",
      " 43  Tennessee       65 non-null     object\n",
      " 44  Texas           65 non-null     object\n",
      " 45  Utah            65 non-null     object\n",
      " 46  Vermont         65 non-null     object\n",
      " 47  Virginia        65 non-null     object\n",
      " 48  Washington      65 non-null     object\n",
      " 49  West Virginia   65 non-null     object\n",
      " 50  Wisconsin       65 non-null     object\n",
      " 51  Wyoming         65 non-null     object\n",
      "dtypes: object(52)\n",
      "memory usage: 34.7+ KB\n"
     ]
    }
   ],
   "source": [
    "us_census.info()"
   ]
  },
  {
   "cell_type": "markdown",
   "id": "86302db4",
   "metadata": {
    "papermill": {
     "duration": 0.015395,
     "end_time": "2022-12-20T01:41:37.671029",
     "exception": false,
     "start_time": "2022-12-20T01:41:37.655634",
     "status": "completed"
    },
    "tags": []
   },
   "source": [
    "### Columns for the data"
   ]
  },
  {
   "cell_type": "code",
   "execution_count": 10,
   "id": "de477361",
   "metadata": {
    "execution": {
     "iopub.execute_input": "2022-12-20T01:41:37.701958Z",
     "iopub.status.busy": "2022-12-20T01:41:37.701111Z",
     "iopub.status.idle": "2022-12-20T01:41:37.705950Z",
     "shell.execute_reply": "2022-12-20T01:41:37.705141Z"
    },
    "papermill": {
     "duration": 0.022846,
     "end_time": "2022-12-20T01:41:37.708247",
     "exception": false,
     "start_time": "2022-12-20T01:41:37.685401",
     "status": "completed"
    },
    "tags": []
   },
   "outputs": [],
   "source": [
    "# class column_names:\n",
    "#     def __init__(self, df):\n",
    "#         self.df = df\n",
    "    \n",
    "#     def colnames():\n",
    "#         for columns in df.columns:\n",
    "#             print(column)\n",
    "            \n",
    "    "
   ]
  },
  {
   "cell_type": "code",
   "execution_count": 11,
   "id": "3751058a",
   "metadata": {
    "execution": {
     "iopub.execute_input": "2022-12-20T01:41:37.738949Z",
     "iopub.status.busy": "2022-12-20T01:41:37.738157Z",
     "iopub.status.idle": "2022-12-20T01:41:37.743071Z",
     "shell.execute_reply": "2022-12-20T01:41:37.742202Z"
    },
    "papermill": {
     "duration": 0.022514,
     "end_time": "2022-12-20T01:41:37.745097",
     "exception": false,
     "start_time": "2022-12-20T01:41:37.722583",
     "status": "completed"
    },
    "tags": []
   },
   "outputs": [],
   "source": [
    "# x = column_names(gun_data)"
   ]
  },
  {
   "cell_type": "code",
   "execution_count": 12,
   "id": "2b16033f",
   "metadata": {
    "execution": {
     "iopub.execute_input": "2022-12-20T01:41:37.776469Z",
     "iopub.status.busy": "2022-12-20T01:41:37.775318Z",
     "iopub.status.idle": "2022-12-20T01:41:37.779714Z",
     "shell.execute_reply": "2022-12-20T01:41:37.778903Z"
    },
    "papermill": {
     "duration": 0.022152,
     "end_time": "2022-12-20T01:41:37.781871",
     "exception": false,
     "start_time": "2022-12-20T01:41:37.759719",
     "status": "completed"
    },
    "tags": []
   },
   "outputs": [],
   "source": [
    "# x.colnames()"
   ]
  },
  {
   "cell_type": "code",
   "execution_count": 13,
   "id": "e24e9a9b",
   "metadata": {
    "execution": {
     "iopub.execute_input": "2022-12-20T01:41:37.812296Z",
     "iopub.status.busy": "2022-12-20T01:41:37.811880Z",
     "iopub.status.idle": "2022-12-20T01:41:37.819058Z",
     "shell.execute_reply": "2022-12-20T01:41:37.817949Z"
    },
    "papermill": {
     "duration": 0.024926,
     "end_time": "2022-12-20T01:41:37.821245",
     "exception": false,
     "start_time": "2022-12-20T01:41:37.796319",
     "status": "completed"
    },
    "tags": []
   },
   "outputs": [
    {
     "data": {
      "text/plain": [
       "Index(['month', 'state', 'permit', 'permit_recheck', 'handgun', 'long_gun',\n",
       "       'other', 'multiple', 'admin', 'prepawn_handgun', 'prepawn_long_gun',\n",
       "       'prepawn_other', 'redemption_handgun', 'redemption_long_gun',\n",
       "       'redemption_other', 'returned_handgun', 'returned_long_gun',\n",
       "       'returned_other', 'rentals_handgun', 'rentals_long_gun',\n",
       "       'private_sale_handgun', 'private_sale_long_gun', 'private_sale_other',\n",
       "       'return_to_seller_handgun', 'return_to_seller_long_gun',\n",
       "       'return_to_seller_other', 'totals'],\n",
       "      dtype='object')"
      ]
     },
     "execution_count": 13,
     "metadata": {},
     "output_type": "execute_result"
    }
   ],
   "source": [
    "# for gun data\n",
    "\n",
    "gun_data.columns"
   ]
  },
  {
   "cell_type": "code",
   "execution_count": 14,
   "id": "d1b449a7",
   "metadata": {
    "execution": {
     "iopub.execute_input": "2022-12-20T01:41:37.852316Z",
     "iopub.status.busy": "2022-12-20T01:41:37.851887Z",
     "iopub.status.idle": "2022-12-20T01:41:37.856337Z",
     "shell.execute_reply": "2022-12-20T01:41:37.855444Z"
    },
    "papermill": {
     "duration": 0.022702,
     "end_time": "2022-12-20T01:41:37.858433",
     "exception": false,
     "start_time": "2022-12-20T01:41:37.835731",
     "status": "completed"
    },
    "tags": []
   },
   "outputs": [],
   "source": [
    "# for the us census data I will be doing a transpose to have the states as rows inorde to join with the state column of the gun violence data"
   ]
  },
  {
   "cell_type": "markdown",
   "id": "192416d2",
   "metadata": {
    "papermill": {
     "duration": 0.014138,
     "end_time": "2022-12-20T01:41:37.887093",
     "exception": false,
     "start_time": "2022-12-20T01:41:37.872955",
     "status": "completed"
    },
    "tags": []
   },
   "source": [
    "### Check for missing / null values"
   ]
  },
  {
   "cell_type": "code",
   "execution_count": 15,
   "id": "6b6f6d65",
   "metadata": {
    "execution": {
     "iopub.execute_input": "2022-12-20T01:41:37.918670Z",
     "iopub.status.busy": "2022-12-20T01:41:37.917489Z",
     "iopub.status.idle": "2022-12-20T01:41:37.928146Z",
     "shell.execute_reply": "2022-12-20T01:41:37.927266Z"
    },
    "papermill": {
     "duration": 0.028819,
     "end_time": "2022-12-20T01:41:37.930360",
     "exception": false,
     "start_time": "2022-12-20T01:41:37.901541",
     "status": "completed"
    },
    "tags": []
   },
   "outputs": [
    {
     "data": {
      "text/plain": [
       "month                            0\n",
       "state                            0\n",
       "permit                          24\n",
       "permit_recheck               11385\n",
       "handgun                         20\n",
       "long_gun                        19\n",
       "other                         6985\n",
       "multiple                         0\n",
       "admin                           23\n",
       "prepawn_handgun               1943\n",
       "prepawn_long_gun              1945\n",
       "prepawn_other                 7370\n",
       "redemption_handgun            1940\n",
       "redemption_long_gun           1941\n",
       "redemption_other              7370\n",
       "returned_handgun             10285\n",
       "returned_long_gun            10340\n",
       "returned_other               10670\n",
       "rentals_handgun              11495\n",
       "rentals_long_gun             11660\n",
       "private_sale_handgun          9735\n",
       "private_sale_long_gun         9735\n",
       "private_sale_other            9735\n",
       "return_to_seller_handgun     10010\n",
       "return_to_seller_long_gun     9735\n",
       "return_to_seller_other       10230\n",
       "totals                           0\n",
       "dtype: int64"
      ]
     },
     "execution_count": 15,
     "metadata": {},
     "output_type": "execute_result"
    }
   ],
   "source": [
    "gun_data.isnull().sum()"
   ]
  },
  {
   "cell_type": "code",
   "execution_count": 16,
   "id": "31803d68",
   "metadata": {
    "execution": {
     "iopub.execute_input": "2022-12-20T01:41:37.965465Z",
     "iopub.status.busy": "2022-12-20T01:41:37.964292Z",
     "iopub.status.idle": "2022-12-20T01:41:37.977580Z",
     "shell.execute_reply": "2022-12-20T01:41:37.976686Z"
    },
    "papermill": {
     "duration": 0.035685,
     "end_time": "2022-12-20T01:41:37.980724",
     "exception": false,
     "start_time": "2022-12-20T01:41:37.945039",
     "status": "completed"
    },
    "tags": []
   },
   "outputs": [
    {
     "data": {
      "text/plain": [
       "Fact               5\n",
       "Fact Note         57\n",
       "Alabama           20\n",
       "Alaska            20\n",
       "Arizona           20\n",
       "Arkansas          20\n",
       "California        20\n",
       "Colorado          20\n",
       "Connecticut       20\n",
       "Delaware          20\n",
       "Florida           20\n",
       "Georgia           20\n",
       "Hawaii            20\n",
       "Idaho             20\n",
       "Illinois          20\n",
       "Indiana           20\n",
       "Iowa              20\n",
       "Kansas            20\n",
       "Kentucky          20\n",
       "Louisiana         20\n",
       "Maine             20\n",
       "Maryland          20\n",
       "Massachusetts     20\n",
       "Michigan          20\n",
       "Minnesota         20\n",
       "Mississippi       20\n",
       "Missouri          20\n",
       "Montana           20\n",
       "Nebraska          20\n",
       "Nevada            20\n",
       "New Hampshire     20\n",
       "New Jersey        20\n",
       "New Mexico        20\n",
       "New York          20\n",
       "North Carolina    20\n",
       "North Dakota      20\n",
       "Ohio              20\n",
       "Oklahoma          20\n",
       "Oregon            20\n",
       "Pennsylvania      20\n",
       "Rhode Island      20\n",
       "South Carolina    20\n",
       "South Dakota      20\n",
       "Tennessee         20\n",
       "Texas             20\n",
       "Utah              20\n",
       "Vermont           20\n",
       "Virginia          20\n",
       "Washington        20\n",
       "West Virginia     20\n",
       "Wisconsin         20\n",
       "Wyoming           20\n",
       "dtype: int64"
      ]
     },
     "execution_count": 16,
     "metadata": {},
     "output_type": "execute_result"
    }
   ],
   "source": [
    "us_census.isnull().sum()"
   ]
  },
  {
   "cell_type": "markdown",
   "id": "bace97bd",
   "metadata": {
    "papermill": {
     "duration": 0.019011,
     "end_time": "2022-12-20T01:41:38.018773",
     "exception": false,
     "start_time": "2022-12-20T01:41:37.999762",
     "status": "completed"
    },
    "tags": []
   },
   "source": [
    "### checking for duplicates in the data"
   ]
  },
  {
   "cell_type": "code",
   "execution_count": 17,
   "id": "fedf7717",
   "metadata": {
    "execution": {
     "iopub.execute_input": "2022-12-20T01:41:38.055505Z",
     "iopub.status.busy": "2022-12-20T01:41:38.054578Z",
     "iopub.status.idle": "2022-12-20T01:41:38.078193Z",
     "shell.execute_reply": "2022-12-20T01:41:38.077364Z"
    },
    "papermill": {
     "duration": 0.046208,
     "end_time": "2022-12-20T01:41:38.080845",
     "exception": false,
     "start_time": "2022-12-20T01:41:38.034637",
     "status": "completed"
    },
    "tags": []
   },
   "outputs": [
    {
     "data": {
      "text/plain": [
       "0"
      ]
     },
     "execution_count": 17,
     "metadata": {},
     "output_type": "execute_result"
    }
   ],
   "source": [
    "gun_data.duplicated().sum()"
   ]
  },
  {
   "cell_type": "code",
   "execution_count": 18,
   "id": "7fd607dd",
   "metadata": {
    "execution": {
     "iopub.execute_input": "2022-12-20T01:41:38.120088Z",
     "iopub.status.busy": "2022-12-20T01:41:38.119068Z",
     "iopub.status.idle": "2022-12-20T01:41:38.135121Z",
     "shell.execute_reply": "2022-12-20T01:41:38.133776Z"
    },
    "papermill": {
     "duration": 0.035596,
     "end_time": "2022-12-20T01:41:38.137720",
     "exception": false,
     "start_time": "2022-12-20T01:41:38.102124",
     "status": "completed"
    },
    "tags": []
   },
   "outputs": [
    {
     "data": {
      "text/plain": [
       "3"
      ]
     },
     "execution_count": 18,
     "metadata": {},
     "output_type": "execute_result"
    }
   ],
   "source": [
    "us_census.duplicated().sum()"
   ]
  },
  {
   "cell_type": "markdown",
   "id": "312184d8",
   "metadata": {
    "papermill": {
     "duration": 0.024733,
     "end_time": "2022-12-20T01:41:38.177972",
     "exception": false,
     "start_time": "2022-12-20T01:41:38.153239",
     "status": "completed"
    },
    "tags": []
   },
   "source": [
    "### Removing Duplicates"
   ]
  },
  {
   "cell_type": "code",
   "execution_count": 19,
   "id": "387c0e4f",
   "metadata": {
    "execution": {
     "iopub.execute_input": "2022-12-20T01:41:38.211009Z",
     "iopub.status.busy": "2022-12-20T01:41:38.209571Z",
     "iopub.status.idle": "2022-12-20T01:41:38.223152Z",
     "shell.execute_reply": "2022-12-20T01:41:38.222278Z"
    },
    "papermill": {
     "duration": 0.033177,
     "end_time": "2022-12-20T01:41:38.226207",
     "exception": false,
     "start_time": "2022-12-20T01:41:38.193030",
     "status": "completed"
    },
    "tags": []
   },
   "outputs": [],
   "source": [
    "us_census.drop_duplicates(inplace = True)"
   ]
  },
  {
   "cell_type": "code",
   "execution_count": 20,
   "id": "9944fe25",
   "metadata": {
    "execution": {
     "iopub.execute_input": "2022-12-20T01:41:38.265389Z",
     "iopub.status.busy": "2022-12-20T01:41:38.264431Z",
     "iopub.status.idle": "2022-12-20T01:41:38.284667Z",
     "shell.execute_reply": "2022-12-20T01:41:38.283275Z"
    },
    "papermill": {
     "duration": 0.0397,
     "end_time": "2022-12-20T01:41:38.287105",
     "exception": false,
     "start_time": "2022-12-20T01:41:38.247405",
     "status": "completed"
    },
    "tags": []
   },
   "outputs": [
    {
     "data": {
      "text/plain": [
       "0"
      ]
     },
     "execution_count": 20,
     "metadata": {},
     "output_type": "execute_result"
    }
   ],
   "source": [
    "us_census.duplicated().sum()"
   ]
  },
  {
   "cell_type": "code",
   "execution_count": 21,
   "id": "4a4a1571",
   "metadata": {
    "execution": {
     "iopub.execute_input": "2022-12-20T01:41:38.324332Z",
     "iopub.status.busy": "2022-12-20T01:41:38.323440Z",
     "iopub.status.idle": "2022-12-20T01:41:38.332271Z",
     "shell.execute_reply": "2022-12-20T01:41:38.331516Z"
    },
    "papermill": {
     "duration": 0.031625,
     "end_time": "2022-12-20T01:41:38.334219",
     "exception": false,
     "start_time": "2022-12-20T01:41:38.302594",
     "status": "completed"
    },
    "tags": []
   },
   "outputs": [
    {
     "data": {
      "text/plain": [
       "55"
      ]
     },
     "execution_count": 21,
     "metadata": {},
     "output_type": "execute_result"
    }
   ],
   "source": [
    "gun_data['state'].nunique()"
   ]
  },
  {
   "cell_type": "code",
   "execution_count": 22,
   "id": "48afa91e",
   "metadata": {
    "execution": {
     "iopub.execute_input": "2022-12-20T01:41:38.376533Z",
     "iopub.status.busy": "2022-12-20T01:41:38.375638Z",
     "iopub.status.idle": "2022-12-20T01:41:38.384827Z",
     "shell.execute_reply": "2022-12-20T01:41:38.384062Z"
    },
    "papermill": {
     "duration": 0.031156,
     "end_time": "2022-12-20T01:41:38.387429",
     "exception": false,
     "start_time": "2022-12-20T01:41:38.356273",
     "status": "completed"
    },
    "tags": []
   },
   "outputs": [
    {
     "data": {
      "text/plain": [
       "array(['Alabama', 'Alaska', 'Arizona', 'Arkansas', 'California',\n",
       "       'Colorado', 'Connecticut', 'Delaware', 'District of Columbia',\n",
       "       'Florida', 'Georgia', 'Guam', 'Hawaii', 'Idaho', 'Illinois',\n",
       "       'Indiana', 'Iowa', 'Kansas', 'Kentucky', 'Louisiana', 'Maine',\n",
       "       'Mariana Islands', 'Maryland', 'Massachusetts', 'Michigan',\n",
       "       'Minnesota', 'Mississippi', 'Missouri', 'Montana', 'Nebraska',\n",
       "       'Nevada', 'New Hampshire', 'New Jersey', 'New Mexico', 'New York',\n",
       "       'North Carolina', 'North Dakota', 'Ohio', 'Oklahoma', 'Oregon',\n",
       "       'Pennsylvania', 'Puerto Rico', 'Rhode Island', 'South Carolina',\n",
       "       'South Dakota', 'Tennessee', 'Texas', 'Utah', 'Vermont',\n",
       "       'Virgin Islands', 'Virginia', 'Washington', 'West Virginia',\n",
       "       'Wisconsin', 'Wyoming'], dtype=object)"
      ]
     },
     "execution_count": 22,
     "metadata": {},
     "output_type": "execute_result"
    }
   ],
   "source": [
    "gun_data['state'].unique()"
   ]
  },
  {
   "cell_type": "markdown",
   "id": "9d4f2353",
   "metadata": {
    "papermill": {
     "duration": 0.015112,
     "end_time": "2022-12-20T01:41:38.421385",
     "exception": false,
     "start_time": "2022-12-20T01:41:38.406273",
     "status": "completed"
    },
    "tags": []
   },
   "source": [
    "#### USA has 50 state as seen from [here](https://www.nationsonline.org/oneworld/US-states-by-area.htm)"
   ]
  },
  {
   "cell_type": "code",
   "execution_count": 23,
   "id": "e871dbc5",
   "metadata": {
    "execution": {
     "iopub.execute_input": "2022-12-20T01:41:38.453529Z",
     "iopub.status.busy": "2022-12-20T01:41:38.453146Z",
     "iopub.status.idle": "2022-12-20T01:41:38.460639Z",
     "shell.execute_reply": "2022-12-20T01:41:38.459429Z"
    },
    "papermill": {
     "duration": 0.026321,
     "end_time": "2022-12-20T01:41:38.462887",
     "exception": false,
     "start_time": "2022-12-20T01:41:38.436566",
     "status": "completed"
    },
    "tags": []
   },
   "outputs": [
    {
     "data": {
      "text/plain": [
       "['District of Columbia',\n",
       " 'Guam',\n",
       " 'Mariana Islands',\n",
       " 'Puerto Rico',\n",
       " 'Virgin Islands']"
      ]
     },
     "execution_count": 23,
     "metadata": {},
     "output_type": "execute_result"
    }
   ],
   "source": [
    "not_us = ['District of Columbia','Guam', 'Mariana Islands', 'Puerto Rico', 'Virgin Islands']\n",
    "not_us"
   ]
  },
  {
   "cell_type": "markdown",
   "id": "426cf72d",
   "metadata": {
    "execution": {
     "iopub.execute_input": "2022-12-20T00:33:47.246945Z",
     "iopub.status.busy": "2022-12-20T00:33:47.246451Z",
     "iopub.status.idle": "2022-12-20T00:33:47.252428Z",
     "shell.execute_reply": "2022-12-20T00:33:47.251213Z",
     "shell.execute_reply.started": "2022-12-20T00:33:47.246898Z"
    },
    "papermill": {
     "duration": 0.015964,
     "end_time": "2022-12-20T01:41:38.495633",
     "exception": false,
     "start_time": "2022-12-20T01:41:38.479669",
     "status": "completed"
    },
    "tags": []
   },
   "source": [
    "## Dropping a column"
   ]
  },
  {
   "cell_type": "code",
   "execution_count": 24,
   "id": "801cef81",
   "metadata": {
    "execution": {
     "iopub.execute_input": "2022-12-20T01:41:38.529780Z",
     "iopub.status.busy": "2022-12-20T01:41:38.529393Z",
     "iopub.status.idle": "2022-12-20T01:41:38.555588Z",
     "shell.execute_reply": "2022-12-20T01:41:38.554480Z"
    },
    "papermill": {
     "duration": 0.045957,
     "end_time": "2022-12-20T01:41:38.558253",
     "exception": false,
     "start_time": "2022-12-20T01:41:38.512296",
     "status": "completed"
    },
    "tags": []
   },
   "outputs": [
    {
     "data": {
      "text/html": [
       "<div>\n",
       "<style scoped>\n",
       "    .dataframe tbody tr th:only-of-type {\n",
       "        vertical-align: middle;\n",
       "    }\n",
       "\n",
       "    .dataframe tbody tr th {\n",
       "        vertical-align: top;\n",
       "    }\n",
       "\n",
       "    .dataframe thead th {\n",
       "        text-align: right;\n",
       "    }\n",
       "</style>\n",
       "<table border=\"1\" class=\"dataframe\">\n",
       "  <thead>\n",
       "    <tr style=\"text-align: right;\">\n",
       "      <th></th>\n",
       "      <th>Fact</th>\n",
       "      <th>Alabama</th>\n",
       "      <th>Alaska</th>\n",
       "      <th>Arizona</th>\n",
       "      <th>Arkansas</th>\n",
       "      <th>California</th>\n",
       "      <th>Colorado</th>\n",
       "      <th>Connecticut</th>\n",
       "      <th>Delaware</th>\n",
       "      <th>Florida</th>\n",
       "      <th>...</th>\n",
       "      <th>South Dakota</th>\n",
       "      <th>Tennessee</th>\n",
       "      <th>Texas</th>\n",
       "      <th>Utah</th>\n",
       "      <th>Vermont</th>\n",
       "      <th>Virginia</th>\n",
       "      <th>Washington</th>\n",
       "      <th>West Virginia</th>\n",
       "      <th>Wisconsin</th>\n",
       "      <th>Wyoming</th>\n",
       "    </tr>\n",
       "  </thead>\n",
       "  <tbody>\n",
       "    <tr>\n",
       "      <th>0</th>\n",
       "      <td>Population estimates, July 1, 2016,  (V2016)</td>\n",
       "      <td>4,863,300</td>\n",
       "      <td>741,894</td>\n",
       "      <td>6,931,071</td>\n",
       "      <td>2,988,248</td>\n",
       "      <td>39,250,017</td>\n",
       "      <td>5,540,545</td>\n",
       "      <td>3,576,452</td>\n",
       "      <td>952,065</td>\n",
       "      <td>20,612,439</td>\n",
       "      <td>...</td>\n",
       "      <td>865454</td>\n",
       "      <td>6651194</td>\n",
       "      <td>27,862,596</td>\n",
       "      <td>3,051,217</td>\n",
       "      <td>624,594</td>\n",
       "      <td>8,411,808</td>\n",
       "      <td>7,288,000</td>\n",
       "      <td>1,831,102</td>\n",
       "      <td>5,778,708</td>\n",
       "      <td>585,501</td>\n",
       "    </tr>\n",
       "    <tr>\n",
       "      <th>1</th>\n",
       "      <td>Population estimates base, April 1, 2010,  (V2...</td>\n",
       "      <td>4,780,131</td>\n",
       "      <td>710,249</td>\n",
       "      <td>6,392,301</td>\n",
       "      <td>2,916,025</td>\n",
       "      <td>37,254,522</td>\n",
       "      <td>5,029,324</td>\n",
       "      <td>3,574,114</td>\n",
       "      <td>897,936</td>\n",
       "      <td>18,804,592</td>\n",
       "      <td>...</td>\n",
       "      <td>814195</td>\n",
       "      <td>6346298</td>\n",
       "      <td>25,146,100</td>\n",
       "      <td>2,763,888</td>\n",
       "      <td>625,741</td>\n",
       "      <td>8,001,041</td>\n",
       "      <td>6,724,545</td>\n",
       "      <td>1,853,011</td>\n",
       "      <td>5,687,289</td>\n",
       "      <td>563,767</td>\n",
       "    </tr>\n",
       "  </tbody>\n",
       "</table>\n",
       "<p>2 rows × 51 columns</p>\n",
       "</div>"
      ],
      "text/plain": [
       "                                                Fact    Alabama   Alaska  \\\n",
       "0       Population estimates, July 1, 2016,  (V2016)  4,863,300  741,894   \n",
       "1  Population estimates base, April 1, 2010,  (V2...  4,780,131  710,249   \n",
       "\n",
       "     Arizona   Arkansas  California   Colorado Connecticut Delaware  \\\n",
       "0  6,931,071  2,988,248  39,250,017  5,540,545   3,576,452  952,065   \n",
       "1  6,392,301  2,916,025  37,254,522  5,029,324   3,574,114  897,936   \n",
       "\n",
       "      Florida  ... South Dakota Tennessee       Texas       Utah  Vermont  \\\n",
       "0  20,612,439  ...       865454   6651194  27,862,596  3,051,217  624,594   \n",
       "1  18,804,592  ...       814195   6346298  25,146,100  2,763,888  625,741   \n",
       "\n",
       "    Virginia Washington West Virginia  Wisconsin  Wyoming  \n",
       "0  8,411,808  7,288,000     1,831,102  5,778,708  585,501  \n",
       "1  8,001,041  6,724,545     1,853,011  5,687,289  563,767  \n",
       "\n",
       "[2 rows x 51 columns]"
      ]
     },
     "execution_count": 24,
     "metadata": {},
     "output_type": "execute_result"
    }
   ],
   "source": [
    "us_census.drop('Fact Note', axis = 1, inplace = True)\n",
    "us_census.head(2)"
   ]
  },
  {
   "cell_type": "markdown",
   "id": "bd014f15",
   "metadata": {
    "papermill": {
     "duration": 0.015299,
     "end_time": "2022-12-20T01:41:38.592500",
     "exception": false,
     "start_time": "2022-12-20T01:41:38.577201",
     "status": "completed"
    },
    "tags": []
   },
   "source": [
    "### Transposing the data structure"
   ]
  },
  {
   "cell_type": "code",
   "execution_count": 25,
   "id": "aa7552ce",
   "metadata": {
    "execution": {
     "iopub.execute_input": "2022-12-20T01:41:38.626511Z",
     "iopub.status.busy": "2022-12-20T01:41:38.626133Z",
     "iopub.status.idle": "2022-12-20T01:41:38.633708Z",
     "shell.execute_reply": "2022-12-20T01:41:38.632582Z"
    },
    "papermill": {
     "duration": 0.027819,
     "end_time": "2022-12-20T01:41:38.636151",
     "exception": false,
     "start_time": "2022-12-20T01:41:38.608332",
     "status": "completed"
    },
    "tags": []
   },
   "outputs": [
    {
     "data": {
      "text/plain": [
       "Index(['Fact', 'Alabama', 'Alaska', 'Arizona', 'Arkansas', 'California',\n",
       "       'Colorado', 'Connecticut', 'Delaware', 'Florida', 'Georgia', 'Hawaii',\n",
       "       'Idaho', 'Illinois', 'Indiana', 'Iowa', 'Kansas', 'Kentucky',\n",
       "       'Louisiana', 'Maine', 'Maryland', 'Massachusetts', 'Michigan',\n",
       "       'Minnesota', 'Mississippi', 'Missouri', 'Montana', 'Nebraska', 'Nevada',\n",
       "       'New Hampshire', 'New Jersey', 'New Mexico', 'New York',\n",
       "       'North Carolina', 'North Dakota', 'Ohio', 'Oklahoma', 'Oregon',\n",
       "       'Pennsylvania', 'Rhode Island', 'South Carolina', 'South Dakota',\n",
       "       'Tennessee', 'Texas', 'Utah', 'Vermont', 'Virginia', 'Washington',\n",
       "       'West Virginia', 'Wisconsin', 'Wyoming'],\n",
       "      dtype='object')"
      ]
     },
     "execution_count": 25,
     "metadata": {},
     "output_type": "execute_result"
    }
   ],
   "source": [
    "us_cens_colnames = us_census.columns\n",
    "us_cens_colnames"
   ]
  },
  {
   "cell_type": "code",
   "execution_count": 26,
   "id": "b8fdb3d1",
   "metadata": {
    "execution": {
     "iopub.execute_input": "2022-12-20T01:41:38.671090Z",
     "iopub.status.busy": "2022-12-20T01:41:38.670588Z",
     "iopub.status.idle": "2022-12-20T01:41:38.684115Z",
     "shell.execute_reply": "2022-12-20T01:41:38.682390Z"
    },
    "papermill": {
     "duration": 0.034602,
     "end_time": "2022-12-20T01:41:38.687007",
     "exception": false,
     "start_time": "2022-12-20T01:41:38.652405",
     "status": "completed"
    },
    "tags": []
   },
   "outputs": [
    {
     "name": "stderr",
     "output_type": "stream",
     "text": [
      "/opt/conda/lib/python3.7/site-packages/pandas/core/indexes/base.py:4616: FutureWarning: Using a non-tuple sequence for multidimensional indexing is deprecated; use `arr[tuple(seq)]` instead of `arr[seq]`. In the future this will be interpreted as an array index, `arr[np.array(seq)]`, which will result either in an error or a different result.\n",
      "  result = getitem(key)\n"
     ]
    },
    {
     "data": {
      "text/plain": [
       "Index(['Alabama', 'Alaska', 'Arizona', 'Arkansas', 'California', 'Colorado',\n",
       "       'Connecticut', 'Delaware', 'Florida', 'Georgia', 'Hawaii', 'Idaho',\n",
       "       'Illinois', 'Indiana', 'Iowa', 'Kansas', 'Kentucky', 'Louisiana',\n",
       "       'Maine', 'Maryland', 'Massachusetts', 'Michigan', 'Minnesota',\n",
       "       'Mississippi', 'Missouri', 'Montana', 'Nebraska', 'Nevada',\n",
       "       'New Hampshire', 'New Jersey', 'New Mexico', 'New York',\n",
       "       'North Carolina', 'North Dakota', 'Ohio', 'Oklahoma', 'Oregon',\n",
       "       'Pennsylvania', 'Rhode Island', 'South Carolina', 'South Dakota',\n",
       "       'Tennessee', 'Texas', 'Utah', 'Vermont', 'Virginia', 'Washington',\n",
       "       'West Virginia', 'Wisconsin', 'Wyoming'],\n",
       "      dtype='object')"
      ]
     },
     "execution_count": 26,
     "metadata": {},
     "output_type": "execute_result"
    }
   ],
   "source": [
    "us_states = us_cens_colnames[[us_census.columns != 'Fact']]\n",
    "us_states"
   ]
  },
  {
   "cell_type": "code",
   "execution_count": 27,
   "id": "7522465d",
   "metadata": {
    "execution": {
     "iopub.execute_input": "2022-12-20T01:41:38.722051Z",
     "iopub.status.busy": "2022-12-20T01:41:38.721117Z",
     "iopub.status.idle": "2022-12-20T01:41:38.730194Z",
     "shell.execute_reply": "2022-12-20T01:41:38.729150Z"
    },
    "papermill": {
     "duration": 0.028969,
     "end_time": "2022-12-20T01:41:38.732378",
     "exception": false,
     "start_time": "2022-12-20T01:41:38.703409",
     "status": "completed"
    },
    "tags": []
   },
   "outputs": [
    {
     "data": {
      "text/plain": [
       "array(['Population estimates, July 1, 2016,  (V2016)',\n",
       "       'Population estimates base, April 1, 2010,  (V2016)',\n",
       "       'Population, percent change - April 1, 2010 (estimates base) to July 1, 2016,  (V2016)',\n",
       "       'Population, Census, April 1, 2010',\n",
       "       'Persons under 5 years, percent, July 1, 2016,  (V2016)',\n",
       "       'Persons under 5 years, percent, April 1, 2010',\n",
       "       'Persons under 18 years, percent, July 1, 2016,  (V2016)',\n",
       "       'Persons under 18 years, percent, April 1, 2010',\n",
       "       'Persons 65 years and over, percent,  July 1, 2016,  (V2016)',\n",
       "       'Persons 65 years and over, percent, April 1, 2010',\n",
       "       'Female persons, percent,  July 1, 2016,  (V2016)',\n",
       "       'Female persons, percent, April 1, 2010',\n",
       "       'White alone, percent, July 1, 2016,  (V2016)',\n",
       "       'Black or African American alone, percent, July 1, 2016,  (V2016)',\n",
       "       'American Indian and Alaska Native alone, percent, July 1, 2016,  (V2016)',\n",
       "       'Asian alone, percent, July 1, 2016,  (V2016)',\n",
       "       'Native Hawaiian and Other Pacific Islander alone, percent, July 1, 2016,  (V2016)',\n",
       "       'Two or More Races, percent, July 1, 2016,  (V2016)',\n",
       "       'Hispanic or Latino, percent, July 1, 2016,  (V2016)',\n",
       "       'White alone, not Hispanic or Latino, percent, July 1, 2016,  (V2016)',\n",
       "       'Veterans, 2011-2015', 'Foreign born persons, percent, 2011-2015',\n",
       "       'Housing units,  July 1, 2016,  (V2016)',\n",
       "       'Housing units, April 1, 2010',\n",
       "       'Owner-occupied housing unit rate, 2011-2015',\n",
       "       'Median value of owner-occupied housing units, 2011-2015',\n",
       "       'Median selected monthly owner costs -with a mortgage, 2011-2015',\n",
       "       'Median selected monthly owner costs -without a mortgage, 2011-2015',\n",
       "       'Median gross rent, 2011-2015', 'Building permits, 2016',\n",
       "       'Households, 2011-2015', 'Persons per household, 2011-2015',\n",
       "       'Living in same house 1 year ago, percent of persons age 1 year+, 2011-2015',\n",
       "       'Language other than English spoken at home, percent of persons age 5 years+, 2011-2015',\n",
       "       'High school graduate or higher, percent of persons age 25 years+, 2011-2015',\n",
       "       \"Bachelor's degree or higher, percent of persons age 25 years+, 2011-2015\",\n",
       "       'With a disability, under age 65 years, percent, 2011-2015',\n",
       "       'Persons  without health insurance, under age 65 years, percent',\n",
       "       'In civilian labor force, total, percent of population age 16 years+, 2011-2015',\n",
       "       'In civilian labor force, female, percent of population age 16 years+, 2011-2015',\n",
       "       'Total accommodation and food services sales, 2012 ($1,000)',\n",
       "       'Total health care and social assistance receipts/revenue, 2012 ($1,000)',\n",
       "       'Total manufacturers shipments, 2012 ($1,000)',\n",
       "       'Total merchant wholesaler sales, 2012 ($1,000)',\n",
       "       'Total retail sales, 2012 ($1,000)',\n",
       "       'Total retail sales per capita, 2012',\n",
       "       'Mean travel time to work (minutes), workers age 16 years+, 2011-2015',\n",
       "       'Median household income (in 2015 dollars), 2011-2015',\n",
       "       'Per capita income in past 12 months (in 2015 dollars), 2011-2015',\n",
       "       'Persons in poverty, percent',\n",
       "       'Total employer establishments, 2015', 'Total employment, 2015',\n",
       "       'Total annual payroll, 2015 ($1,000)',\n",
       "       'Total employment, percent change, 2014-2015',\n",
       "       'Total nonemployer establishments, 2015', 'All firms, 2012',\n",
       "       'Men-owned firms, 2012', 'Women-owned firms, 2012',\n",
       "       'Minority-owned firms, 2012', 'Nonminority-owned firms, 2012',\n",
       "       'Veteran-owned firms, 2012', 'Nonveteran-owned firms, 2012',\n",
       "       'Population per square mile, 2010',\n",
       "       'Land area in square miles, 2010', 'FIPS Code', nan,\n",
       "       'NOTE: FIPS Code values are enclosed in quotes to ensure leading zeros remain intact.',\n",
       "       'Value Notes', '1', 'Fact Notes', '(a)', '(b)', '(c)',\n",
       "       'Value Flags', '-', 'D', 'F', 'FN', 'S', 'X', 'Z'], dtype=object)"
      ]
     },
     "execution_count": 27,
     "metadata": {},
     "output_type": "execute_result"
    }
   ],
   "source": [
    "new_col = us_census['Fact'].unique()\n",
    "new_col"
   ]
  },
  {
   "cell_type": "code",
   "execution_count": 28,
   "id": "ad367d59",
   "metadata": {
    "execution": {
     "iopub.execute_input": "2022-12-20T01:41:38.767908Z",
     "iopub.status.busy": "2022-12-20T01:41:38.766970Z",
     "iopub.status.idle": "2022-12-20T01:41:38.774295Z",
     "shell.execute_reply": "2022-12-20T01:41:38.773287Z"
    },
    "papermill": {
     "duration": 0.027773,
     "end_time": "2022-12-20T01:41:38.776510",
     "exception": false,
     "start_time": "2022-12-20T01:41:38.748737",
     "status": "completed"
    },
    "tags": []
   },
   "outputs": [
    {
     "data": {
      "text/plain": [
       "(82, 51)"
      ]
     },
     "execution_count": 28,
     "metadata": {},
     "output_type": "execute_result"
    }
   ],
   "source": [
    "us_census.shape"
   ]
  },
  {
   "cell_type": "code",
   "execution_count": 29,
   "id": "8a41ba1d",
   "metadata": {
    "execution": {
     "iopub.execute_input": "2022-12-20T01:41:38.811798Z",
     "iopub.status.busy": "2022-12-20T01:41:38.810869Z",
     "iopub.status.idle": "2022-12-20T01:41:38.840815Z",
     "shell.execute_reply": "2022-12-20T01:41:38.839714Z"
    },
    "papermill": {
     "duration": 0.050262,
     "end_time": "2022-12-20T01:41:38.843142",
     "exception": false,
     "start_time": "2022-12-20T01:41:38.792880",
     "status": "completed"
    },
    "tags": []
   },
   "outputs": [
    {
     "data": {
      "text/html": [
       "<div>\n",
       "<style scoped>\n",
       "    .dataframe tbody tr th:only-of-type {\n",
       "        vertical-align: middle;\n",
       "    }\n",
       "\n",
       "    .dataframe tbody tr th {\n",
       "        vertical-align: top;\n",
       "    }\n",
       "\n",
       "    .dataframe thead th {\n",
       "        text-align: right;\n",
       "    }\n",
       "</style>\n",
       "<table border=\"1\" class=\"dataframe\">\n",
       "  <thead>\n",
       "    <tr style=\"text-align: right;\">\n",
       "      <th></th>\n",
       "      <th>0</th>\n",
       "      <th>1</th>\n",
       "      <th>2</th>\n",
       "      <th>3</th>\n",
       "      <th>4</th>\n",
       "      <th>5</th>\n",
       "      <th>6</th>\n",
       "      <th>7</th>\n",
       "      <th>8</th>\n",
       "      <th>9</th>\n",
       "      <th>...</th>\n",
       "      <th>74</th>\n",
       "      <th>76</th>\n",
       "      <th>77</th>\n",
       "      <th>78</th>\n",
       "      <th>79</th>\n",
       "      <th>80</th>\n",
       "      <th>81</th>\n",
       "      <th>82</th>\n",
       "      <th>83</th>\n",
       "      <th>84</th>\n",
       "    </tr>\n",
       "  </thead>\n",
       "  <tbody>\n",
       "    <tr>\n",
       "      <th>Fact</th>\n",
       "      <td>Population estimates, July 1, 2016,  (V2016)</td>\n",
       "      <td>Population estimates base, April 1, 2010,  (V2...</td>\n",
       "      <td>Population, percent change - April 1, 2010 (es...</td>\n",
       "      <td>Population, Census, April 1, 2010</td>\n",
       "      <td>Persons under 5 years, percent, July 1, 2016, ...</td>\n",
       "      <td>Persons under 5 years, percent, April 1, 2010</td>\n",
       "      <td>Persons under 18 years, percent, July 1, 2016,...</td>\n",
       "      <td>Persons under 18 years, percent, April 1, 2010</td>\n",
       "      <td>Persons 65 years and over, percent,  July 1, 2...</td>\n",
       "      <td>Persons 65 years and over, percent, April 1, 2010</td>\n",
       "      <td>...</td>\n",
       "      <td>(c)</td>\n",
       "      <td>Value Flags</td>\n",
       "      <td>-</td>\n",
       "      <td>D</td>\n",
       "      <td>F</td>\n",
       "      <td>FN</td>\n",
       "      <td>NaN</td>\n",
       "      <td>S</td>\n",
       "      <td>X</td>\n",
       "      <td>Z</td>\n",
       "    </tr>\n",
       "    <tr>\n",
       "      <th>Alabama</th>\n",
       "      <td>4,863,300</td>\n",
       "      <td>4,780,131</td>\n",
       "      <td>1.70%</td>\n",
       "      <td>4,779,736</td>\n",
       "      <td>6.00%</td>\n",
       "      <td>6.40%</td>\n",
       "      <td>22.60%</td>\n",
       "      <td>23.70%</td>\n",
       "      <td>16.10%</td>\n",
       "      <td>13.80%</td>\n",
       "      <td>...</td>\n",
       "      <td>NaN</td>\n",
       "      <td>NaN</td>\n",
       "      <td>NaN</td>\n",
       "      <td>NaN</td>\n",
       "      <td>NaN</td>\n",
       "      <td>NaN</td>\n",
       "      <td>NaN</td>\n",
       "      <td>NaN</td>\n",
       "      <td>NaN</td>\n",
       "      <td>NaN</td>\n",
       "    </tr>\n",
       "    <tr>\n",
       "      <th>Alaska</th>\n",
       "      <td>741,894</td>\n",
       "      <td>710,249</td>\n",
       "      <td>4.50%</td>\n",
       "      <td>710,231</td>\n",
       "      <td>7.30%</td>\n",
       "      <td>7.60%</td>\n",
       "      <td>25.20%</td>\n",
       "      <td>26.40%</td>\n",
       "      <td>10.40%</td>\n",
       "      <td>7.70%</td>\n",
       "      <td>...</td>\n",
       "      <td>NaN</td>\n",
       "      <td>NaN</td>\n",
       "      <td>NaN</td>\n",
       "      <td>NaN</td>\n",
       "      <td>NaN</td>\n",
       "      <td>NaN</td>\n",
       "      <td>NaN</td>\n",
       "      <td>NaN</td>\n",
       "      <td>NaN</td>\n",
       "      <td>NaN</td>\n",
       "    </tr>\n",
       "  </tbody>\n",
       "</table>\n",
       "<p>3 rows × 82 columns</p>\n",
       "</div>"
      ],
      "text/plain": [
       "                                                   0   \\\n",
       "Fact     Population estimates, July 1, 2016,  (V2016)   \n",
       "Alabama                                     4,863,300   \n",
       "Alaska                                        741,894   \n",
       "\n",
       "                                                        1   \\\n",
       "Fact     Population estimates base, April 1, 2010,  (V2...   \n",
       "Alabama                                          4,780,131   \n",
       "Alaska                                             710,249   \n",
       "\n",
       "                                                        2   \\\n",
       "Fact     Population, percent change - April 1, 2010 (es...   \n",
       "Alabama                                              1.70%   \n",
       "Alaska                                               4.50%   \n",
       "\n",
       "                                        3   \\\n",
       "Fact     Population, Census, April 1, 2010   \n",
       "Alabama                          4,779,736   \n",
       "Alaska                             710,231   \n",
       "\n",
       "                                                        4   \\\n",
       "Fact     Persons under 5 years, percent, July 1, 2016, ...   \n",
       "Alabama                                              6.00%   \n",
       "Alaska                                               7.30%   \n",
       "\n",
       "                                                    5   \\\n",
       "Fact     Persons under 5 years, percent, April 1, 2010   \n",
       "Alabama                                          6.40%   \n",
       "Alaska                                           7.60%   \n",
       "\n",
       "                                                        6   \\\n",
       "Fact     Persons under 18 years, percent, July 1, 2016,...   \n",
       "Alabama                                             22.60%   \n",
       "Alaska                                              25.20%   \n",
       "\n",
       "                                                     7   \\\n",
       "Fact     Persons under 18 years, percent, April 1, 2010   \n",
       "Alabama                                          23.70%   \n",
       "Alaska                                           26.40%   \n",
       "\n",
       "                                                        8   \\\n",
       "Fact     Persons 65 years and over, percent,  July 1, 2...   \n",
       "Alabama                                             16.10%   \n",
       "Alaska                                              10.40%   \n",
       "\n",
       "                                                        9   ...   74  \\\n",
       "Fact     Persons 65 years and over, percent, April 1, 2010  ...  (c)   \n",
       "Alabama                                             13.80%  ...  NaN   \n",
       "Alaska                                               7.70%  ...  NaN   \n",
       "\n",
       "                  76   77   78   79   80   81   82   83   84  \n",
       "Fact     Value Flags    -    D    F   FN  NaN    S    X    Z  \n",
       "Alabama          NaN  NaN  NaN  NaN  NaN  NaN  NaN  NaN  NaN  \n",
       "Alaska           NaN  NaN  NaN  NaN  NaN  NaN  NaN  NaN  NaN  \n",
       "\n",
       "[3 rows x 82 columns]"
      ]
     },
     "execution_count": 29,
     "metadata": {},
     "output_type": "execute_result"
    }
   ],
   "source": [
    "new_us_census = us_census.transpose()   #us_census.T can also be used\n",
    "new_us_census.head(3)"
   ]
  },
  {
   "cell_type": "code",
   "execution_count": 30,
   "id": "a860362a",
   "metadata": {
    "execution": {
     "iopub.execute_input": "2022-12-20T01:41:38.879802Z",
     "iopub.status.busy": "2022-12-20T01:41:38.878800Z",
     "iopub.status.idle": "2022-12-20T01:41:38.904739Z",
     "shell.execute_reply": "2022-12-20T01:41:38.903404Z"
    },
    "papermill": {
     "duration": 0.0474,
     "end_time": "2022-12-20T01:41:38.907344",
     "exception": false,
     "start_time": "2022-12-20T01:41:38.859944",
     "status": "completed"
    },
    "tags": []
   },
   "outputs": [
    {
     "data": {
      "text/html": [
       "<div>\n",
       "<style scoped>\n",
       "    .dataframe tbody tr th:only-of-type {\n",
       "        vertical-align: middle;\n",
       "    }\n",
       "\n",
       "    .dataframe tbody tr th {\n",
       "        vertical-align: top;\n",
       "    }\n",
       "\n",
       "    .dataframe thead th {\n",
       "        text-align: right;\n",
       "    }\n",
       "</style>\n",
       "<table border=\"1\" class=\"dataframe\">\n",
       "  <thead>\n",
       "    <tr style=\"text-align: right;\">\n",
       "      <th></th>\n",
       "      <th>0</th>\n",
       "      <th>1</th>\n",
       "      <th>2</th>\n",
       "      <th>3</th>\n",
       "      <th>4</th>\n",
       "      <th>5</th>\n",
       "      <th>6</th>\n",
       "      <th>7</th>\n",
       "      <th>8</th>\n",
       "      <th>9</th>\n",
       "      <th>...</th>\n",
       "      <th>54</th>\n",
       "      <th>55</th>\n",
       "      <th>56</th>\n",
       "      <th>57</th>\n",
       "      <th>58</th>\n",
       "      <th>59</th>\n",
       "      <th>60</th>\n",
       "      <th>61</th>\n",
       "      <th>62</th>\n",
       "      <th>63</th>\n",
       "    </tr>\n",
       "  </thead>\n",
       "  <tbody>\n",
       "    <tr>\n",
       "      <th>Fact</th>\n",
       "      <td>Population estimates, July 1, 2016,  (V2016)</td>\n",
       "      <td>Population estimates base, April 1, 2010,  (V2...</td>\n",
       "      <td>Population, percent change - April 1, 2010 (es...</td>\n",
       "      <td>Population, Census, April 1, 2010</td>\n",
       "      <td>Persons under 5 years, percent, July 1, 2016, ...</td>\n",
       "      <td>Persons under 5 years, percent, April 1, 2010</td>\n",
       "      <td>Persons under 18 years, percent, July 1, 2016,...</td>\n",
       "      <td>Persons under 18 years, percent, April 1, 2010</td>\n",
       "      <td>Persons 65 years and over, percent,  July 1, 2...</td>\n",
       "      <td>Persons 65 years and over, percent, April 1, 2010</td>\n",
       "      <td>...</td>\n",
       "      <td>Total nonemployer establishments, 2015</td>\n",
       "      <td>All firms, 2012</td>\n",
       "      <td>Men-owned firms, 2012</td>\n",
       "      <td>Women-owned firms, 2012</td>\n",
       "      <td>Minority-owned firms, 2012</td>\n",
       "      <td>Nonminority-owned firms, 2012</td>\n",
       "      <td>Veteran-owned firms, 2012</td>\n",
       "      <td>Nonveteran-owned firms, 2012</td>\n",
       "      <td>Population per square mile, 2010</td>\n",
       "      <td>Land area in square miles, 2010</td>\n",
       "    </tr>\n",
       "    <tr>\n",
       "      <th>Alabama</th>\n",
       "      <td>4,863,300</td>\n",
       "      <td>4,780,131</td>\n",
       "      <td>1.70%</td>\n",
       "      <td>4,779,736</td>\n",
       "      <td>6.00%</td>\n",
       "      <td>6.40%</td>\n",
       "      <td>22.60%</td>\n",
       "      <td>23.70%</td>\n",
       "      <td>16.10%</td>\n",
       "      <td>13.80%</td>\n",
       "      <td>...</td>\n",
       "      <td>322,025</td>\n",
       "      <td>374,153</td>\n",
       "      <td>203,604</td>\n",
       "      <td>137,630</td>\n",
       "      <td>92,219</td>\n",
       "      <td>272,651</td>\n",
       "      <td>41,943</td>\n",
       "      <td>316,984</td>\n",
       "      <td>94.4</td>\n",
       "      <td>50,645.33</td>\n",
       "    </tr>\n",
       "    <tr>\n",
       "      <th>Alaska</th>\n",
       "      <td>741,894</td>\n",
       "      <td>710,249</td>\n",
       "      <td>4.50%</td>\n",
       "      <td>710,231</td>\n",
       "      <td>7.30%</td>\n",
       "      <td>7.60%</td>\n",
       "      <td>25.20%</td>\n",
       "      <td>26.40%</td>\n",
       "      <td>10.40%</td>\n",
       "      <td>7.70%</td>\n",
       "      <td>...</td>\n",
       "      <td>55,521</td>\n",
       "      <td>68,032</td>\n",
       "      <td>35,402</td>\n",
       "      <td>22,141</td>\n",
       "      <td>13,688</td>\n",
       "      <td>51,147</td>\n",
       "      <td>7,953</td>\n",
       "      <td>56,091</td>\n",
       "      <td>1.2</td>\n",
       "      <td>570,640.95</td>\n",
       "    </tr>\n",
       "    <tr>\n",
       "      <th>Arizona</th>\n",
       "      <td>6,931,071</td>\n",
       "      <td>6,392,301</td>\n",
       "      <td>8.40%</td>\n",
       "      <td>6,392,017</td>\n",
       "      <td>6.30%</td>\n",
       "      <td>7.10%</td>\n",
       "      <td>23.50%</td>\n",
       "      <td>25.50%</td>\n",
       "      <td>16.90%</td>\n",
       "      <td>13.80%</td>\n",
       "      <td>...</td>\n",
       "      <td>451,951</td>\n",
       "      <td>499,926</td>\n",
       "      <td>245,243</td>\n",
       "      <td>182,425</td>\n",
       "      <td>135,313</td>\n",
       "      <td>344,981</td>\n",
       "      <td>46,780</td>\n",
       "      <td>427,582</td>\n",
       "      <td>56.3</td>\n",
       "      <td>113,594.08</td>\n",
       "    </tr>\n",
       "  </tbody>\n",
       "</table>\n",
       "<p>4 rows × 64 columns</p>\n",
       "</div>"
      ],
      "text/plain": [
       "                                                   0   \\\n",
       "Fact     Population estimates, July 1, 2016,  (V2016)   \n",
       "Alabama                                     4,863,300   \n",
       "Alaska                                        741,894   \n",
       "Arizona                                     6,931,071   \n",
       "\n",
       "                                                        1   \\\n",
       "Fact     Population estimates base, April 1, 2010,  (V2...   \n",
       "Alabama                                          4,780,131   \n",
       "Alaska                                             710,249   \n",
       "Arizona                                          6,392,301   \n",
       "\n",
       "                                                        2   \\\n",
       "Fact     Population, percent change - April 1, 2010 (es...   \n",
       "Alabama                                              1.70%   \n",
       "Alaska                                               4.50%   \n",
       "Arizona                                              8.40%   \n",
       "\n",
       "                                        3   \\\n",
       "Fact     Population, Census, April 1, 2010   \n",
       "Alabama                          4,779,736   \n",
       "Alaska                             710,231   \n",
       "Arizona                          6,392,017   \n",
       "\n",
       "                                                        4   \\\n",
       "Fact     Persons under 5 years, percent, July 1, 2016, ...   \n",
       "Alabama                                              6.00%   \n",
       "Alaska                                               7.30%   \n",
       "Arizona                                              6.30%   \n",
       "\n",
       "                                                    5   \\\n",
       "Fact     Persons under 5 years, percent, April 1, 2010   \n",
       "Alabama                                          6.40%   \n",
       "Alaska                                           7.60%   \n",
       "Arizona                                          7.10%   \n",
       "\n",
       "                                                        6   \\\n",
       "Fact     Persons under 18 years, percent, July 1, 2016,...   \n",
       "Alabama                                             22.60%   \n",
       "Alaska                                              25.20%   \n",
       "Arizona                                             23.50%   \n",
       "\n",
       "                                                     7   \\\n",
       "Fact     Persons under 18 years, percent, April 1, 2010   \n",
       "Alabama                                          23.70%   \n",
       "Alaska                                           26.40%   \n",
       "Arizona                                          25.50%   \n",
       "\n",
       "                                                        8   \\\n",
       "Fact     Persons 65 years and over, percent,  July 1, 2...   \n",
       "Alabama                                             16.10%   \n",
       "Alaska                                              10.40%   \n",
       "Arizona                                             16.90%   \n",
       "\n",
       "                                                        9   ...  \\\n",
       "Fact     Persons 65 years and over, percent, April 1, 2010  ...   \n",
       "Alabama                                             13.80%  ...   \n",
       "Alaska                                               7.70%  ...   \n",
       "Arizona                                             13.80%  ...   \n",
       "\n",
       "                                             54               55  \\\n",
       "Fact     Total nonemployer establishments, 2015  All firms, 2012   \n",
       "Alabama                                 322,025          374,153   \n",
       "Alaska                                   55,521           68,032   \n",
       "Arizona                                 451,951          499,926   \n",
       "\n",
       "                            56                       57  \\\n",
       "Fact     Men-owned firms, 2012  Women-owned firms, 2012   \n",
       "Alabama                203,604                  137,630   \n",
       "Alaska                  35,402                   22,141   \n",
       "Arizona                245,243                  182,425   \n",
       "\n",
       "                                 58                             59  \\\n",
       "Fact     Minority-owned firms, 2012  Nonminority-owned firms, 2012   \n",
       "Alabama                      92,219                        272,651   \n",
       "Alaska                       13,688                         51,147   \n",
       "Arizona                     135,313                        344,981   \n",
       "\n",
       "                                60                            61  \\\n",
       "Fact     Veteran-owned firms, 2012  Nonveteran-owned firms, 2012   \n",
       "Alabama                     41,943                       316,984   \n",
       "Alaska                       7,953                        56,091   \n",
       "Arizona                     46,780                       427,582   \n",
       "\n",
       "                                       62                               63  \n",
       "Fact     Population per square mile, 2010  Land area in square miles, 2010  \n",
       "Alabama                              94.4                        50,645.33  \n",
       "Alaska                                1.2                       570,640.95  \n",
       "Arizona                              56.3                       113,594.08  \n",
       "\n",
       "[4 rows x 64 columns]"
      ]
     },
     "execution_count": 30,
     "metadata": {},
     "output_type": "execute_result"
    }
   ],
   "source": [
    "us_census = new_us_census.iloc[:,:64]\n",
    "us_census.head(4)"
   ]
  },
  {
   "cell_type": "code",
   "execution_count": 31,
   "id": "725a07e5",
   "metadata": {
    "execution": {
     "iopub.execute_input": "2022-12-20T01:41:38.947368Z",
     "iopub.status.busy": "2022-12-20T01:41:38.946986Z",
     "iopub.status.idle": "2022-12-20T01:41:38.971356Z",
     "shell.execute_reply": "2022-12-20T01:41:38.970077Z"
    },
    "papermill": {
     "duration": 0.046978,
     "end_time": "2022-12-20T01:41:38.973841",
     "exception": false,
     "start_time": "2022-12-20T01:41:38.926863",
     "status": "completed"
    },
    "tags": []
   },
   "outputs": [
    {
     "data": {
      "text/html": [
       "<div>\n",
       "<style scoped>\n",
       "    .dataframe tbody tr th:only-of-type {\n",
       "        vertical-align: middle;\n",
       "    }\n",
       "\n",
       "    .dataframe tbody tr th {\n",
       "        vertical-align: top;\n",
       "    }\n",
       "\n",
       "    .dataframe thead th {\n",
       "        text-align: right;\n",
       "    }\n",
       "</style>\n",
       "<table border=\"1\" class=\"dataframe\">\n",
       "  <thead>\n",
       "    <tr style=\"text-align: right;\">\n",
       "      <th>Fact</th>\n",
       "      <th>Population estimates, July 1, 2016,  (V2016)</th>\n",
       "      <th>Population estimates base, April 1, 2010,  (V2016)</th>\n",
       "      <th>Population, percent change - April 1, 2010 (estimates base) to July 1, 2016,  (V2016)</th>\n",
       "      <th>Population, Census, April 1, 2010</th>\n",
       "      <th>Persons under 5 years, percent, July 1, 2016,  (V2016)</th>\n",
       "      <th>Persons under 5 years, percent, April 1, 2010</th>\n",
       "      <th>Persons under 18 years, percent, July 1, 2016,  (V2016)</th>\n",
       "      <th>Persons under 18 years, percent, April 1, 2010</th>\n",
       "      <th>Persons 65 years and over, percent,  July 1, 2016,  (V2016)</th>\n",
       "      <th>Persons 65 years and over, percent, April 1, 2010</th>\n",
       "      <th>...</th>\n",
       "      <th>Total nonemployer establishments, 2015</th>\n",
       "      <th>All firms, 2012</th>\n",
       "      <th>Men-owned firms, 2012</th>\n",
       "      <th>Women-owned firms, 2012</th>\n",
       "      <th>Minority-owned firms, 2012</th>\n",
       "      <th>Nonminority-owned firms, 2012</th>\n",
       "      <th>Veteran-owned firms, 2012</th>\n",
       "      <th>Nonveteran-owned firms, 2012</th>\n",
       "      <th>Population per square mile, 2010</th>\n",
       "      <th>Land area in square miles, 2010</th>\n",
       "    </tr>\n",
       "  </thead>\n",
       "  <tbody>\n",
       "    <tr>\n",
       "      <th>Fact</th>\n",
       "      <td>Population estimates, July 1, 2016,  (V2016)</td>\n",
       "      <td>Population estimates base, April 1, 2010,  (V2...</td>\n",
       "      <td>Population, percent change - April 1, 2010 (es...</td>\n",
       "      <td>Population, Census, April 1, 2010</td>\n",
       "      <td>Persons under 5 years, percent, July 1, 2016, ...</td>\n",
       "      <td>Persons under 5 years, percent, April 1, 2010</td>\n",
       "      <td>Persons under 18 years, percent, July 1, 2016,...</td>\n",
       "      <td>Persons under 18 years, percent, April 1, 2010</td>\n",
       "      <td>Persons 65 years and over, percent,  July 1, 2...</td>\n",
       "      <td>Persons 65 years and over, percent, April 1, 2010</td>\n",
       "      <td>...</td>\n",
       "      <td>Total nonemployer establishments, 2015</td>\n",
       "      <td>All firms, 2012</td>\n",
       "      <td>Men-owned firms, 2012</td>\n",
       "      <td>Women-owned firms, 2012</td>\n",
       "      <td>Minority-owned firms, 2012</td>\n",
       "      <td>Nonminority-owned firms, 2012</td>\n",
       "      <td>Veteran-owned firms, 2012</td>\n",
       "      <td>Nonveteran-owned firms, 2012</td>\n",
       "      <td>Population per square mile, 2010</td>\n",
       "      <td>Land area in square miles, 2010</td>\n",
       "    </tr>\n",
       "    <tr>\n",
       "      <th>Alabama</th>\n",
       "      <td>4,863,300</td>\n",
       "      <td>4,780,131</td>\n",
       "      <td>1.70%</td>\n",
       "      <td>4,779,736</td>\n",
       "      <td>6.00%</td>\n",
       "      <td>6.40%</td>\n",
       "      <td>22.60%</td>\n",
       "      <td>23.70%</td>\n",
       "      <td>16.10%</td>\n",
       "      <td>13.80%</td>\n",
       "      <td>...</td>\n",
       "      <td>322,025</td>\n",
       "      <td>374,153</td>\n",
       "      <td>203,604</td>\n",
       "      <td>137,630</td>\n",
       "      <td>92,219</td>\n",
       "      <td>272,651</td>\n",
       "      <td>41,943</td>\n",
       "      <td>316,984</td>\n",
       "      <td>94.4</td>\n",
       "      <td>50,645.33</td>\n",
       "    </tr>\n",
       "    <tr>\n",
       "      <th>Alaska</th>\n",
       "      <td>741,894</td>\n",
       "      <td>710,249</td>\n",
       "      <td>4.50%</td>\n",
       "      <td>710,231</td>\n",
       "      <td>7.30%</td>\n",
       "      <td>7.60%</td>\n",
       "      <td>25.20%</td>\n",
       "      <td>26.40%</td>\n",
       "      <td>10.40%</td>\n",
       "      <td>7.70%</td>\n",
       "      <td>...</td>\n",
       "      <td>55,521</td>\n",
       "      <td>68,032</td>\n",
       "      <td>35,402</td>\n",
       "      <td>22,141</td>\n",
       "      <td>13,688</td>\n",
       "      <td>51,147</td>\n",
       "      <td>7,953</td>\n",
       "      <td>56,091</td>\n",
       "      <td>1.2</td>\n",
       "      <td>570,640.95</td>\n",
       "    </tr>\n",
       "  </tbody>\n",
       "</table>\n",
       "<p>3 rows × 64 columns</p>\n",
       "</div>"
      ],
      "text/plain": [
       "Fact     Population estimates, July 1, 2016,  (V2016)  \\\n",
       "Fact     Population estimates, July 1, 2016,  (V2016)   \n",
       "Alabama                                     4,863,300   \n",
       "Alaska                                        741,894   \n",
       "\n",
       "Fact    Population estimates base, April 1, 2010,  (V2016)  \\\n",
       "Fact     Population estimates base, April 1, 2010,  (V2...   \n",
       "Alabama                                          4,780,131   \n",
       "Alaska                                             710,249   \n",
       "\n",
       "Fact    Population, percent change - April 1, 2010 (estimates base) to July 1, 2016,  (V2016)  \\\n",
       "Fact     Population, percent change - April 1, 2010 (es...                                      \n",
       "Alabama                                              1.70%                                      \n",
       "Alaska                                               4.50%                                      \n",
       "\n",
       "Fact     Population, Census, April 1, 2010  \\\n",
       "Fact     Population, Census, April 1, 2010   \n",
       "Alabama                          4,779,736   \n",
       "Alaska                             710,231   \n",
       "\n",
       "Fact    Persons under 5 years, percent, July 1, 2016,  (V2016)  \\\n",
       "Fact     Persons under 5 years, percent, July 1, 2016, ...       \n",
       "Alabama                                              6.00%       \n",
       "Alaska                                               7.30%       \n",
       "\n",
       "Fact     Persons under 5 years, percent, April 1, 2010  \\\n",
       "Fact     Persons under 5 years, percent, April 1, 2010   \n",
       "Alabama                                          6.40%   \n",
       "Alaska                                           7.60%   \n",
       "\n",
       "Fact    Persons under 18 years, percent, July 1, 2016,  (V2016)  \\\n",
       "Fact     Persons under 18 years, percent, July 1, 2016,...        \n",
       "Alabama                                             22.60%        \n",
       "Alaska                                              25.20%        \n",
       "\n",
       "Fact     Persons under 18 years, percent, April 1, 2010  \\\n",
       "Fact     Persons under 18 years, percent, April 1, 2010   \n",
       "Alabama                                          23.70%   \n",
       "Alaska                                           26.40%   \n",
       "\n",
       "Fact    Persons 65 years and over, percent,  July 1, 2016,  (V2016)  \\\n",
       "Fact     Persons 65 years and over, percent,  July 1, 2...            \n",
       "Alabama                                             16.10%            \n",
       "Alaska                                              10.40%            \n",
       "\n",
       "Fact     Persons 65 years and over, percent, April 1, 2010  ...  \\\n",
       "Fact     Persons 65 years and over, percent, April 1, 2010  ...   \n",
       "Alabama                                             13.80%  ...   \n",
       "Alaska                                               7.70%  ...   \n",
       "\n",
       "Fact     Total nonemployer establishments, 2015  All firms, 2012  \\\n",
       "Fact     Total nonemployer establishments, 2015  All firms, 2012   \n",
       "Alabama                                 322,025          374,153   \n",
       "Alaska                                   55,521           68,032   \n",
       "\n",
       "Fact     Men-owned firms, 2012  Women-owned firms, 2012  \\\n",
       "Fact     Men-owned firms, 2012  Women-owned firms, 2012   \n",
       "Alabama                203,604                  137,630   \n",
       "Alaska                  35,402                   22,141   \n",
       "\n",
       "Fact     Minority-owned firms, 2012  Nonminority-owned firms, 2012  \\\n",
       "Fact     Minority-owned firms, 2012  Nonminority-owned firms, 2012   \n",
       "Alabama                      92,219                        272,651   \n",
       "Alaska                       13,688                         51,147   \n",
       "\n",
       "Fact     Veteran-owned firms, 2012  Nonveteran-owned firms, 2012  \\\n",
       "Fact     Veteran-owned firms, 2012  Nonveteran-owned firms, 2012   \n",
       "Alabama                     41,943                       316,984   \n",
       "Alaska                       7,953                        56,091   \n",
       "\n",
       "Fact     Population per square mile, 2010  Land area in square miles, 2010  \n",
       "Fact     Population per square mile, 2010  Land area in square miles, 2010  \n",
       "Alabama                              94.4                        50,645.33  \n",
       "Alaska                                1.2                       570,640.95  \n",
       "\n",
       "[3 rows x 64 columns]"
      ]
     },
     "execution_count": 31,
     "metadata": {},
     "output_type": "execute_result"
    }
   ],
   "source": [
    "us_census.columns = us_census.iloc[0]\n",
    "us_census.head(3)"
   ]
  },
  {
   "cell_type": "code",
   "execution_count": 32,
   "id": "b8b9eb5f",
   "metadata": {
    "execution": {
     "iopub.execute_input": "2022-12-20T01:41:39.011082Z",
     "iopub.status.busy": "2022-12-20T01:41:39.010666Z",
     "iopub.status.idle": "2022-12-20T01:41:39.020700Z",
     "shell.execute_reply": "2022-12-20T01:41:39.019517Z"
    },
    "papermill": {
     "duration": 0.031725,
     "end_time": "2022-12-20T01:41:39.023140",
     "exception": false,
     "start_time": "2022-12-20T01:41:38.991415",
     "status": "completed"
    },
    "tags": []
   },
   "outputs": [
    {
     "name": "stderr",
     "output_type": "stream",
     "text": [
      "/opt/conda/lib/python3.7/site-packages/pandas/core/frame.py:4913: SettingWithCopyWarning: \n",
      "A value is trying to be set on a copy of a slice from a DataFrame\n",
      "\n",
      "See the caveats in the documentation: https://pandas.pydata.org/pandas-docs/stable/user_guide/indexing.html#returning-a-view-versus-a-copy\n",
      "  errors=errors,\n"
     ]
    }
   ],
   "source": [
    "us_census.drop(us_census.index[0], inplace = True)"
   ]
  },
  {
   "cell_type": "code",
   "execution_count": 33,
   "id": "d43a9774",
   "metadata": {
    "execution": {
     "iopub.execute_input": "2022-12-20T01:41:39.061493Z",
     "iopub.status.busy": "2022-12-20T01:41:39.060758Z",
     "iopub.status.idle": "2022-12-20T01:41:39.084111Z",
     "shell.execute_reply": "2022-12-20T01:41:39.082929Z"
    },
    "papermill": {
     "duration": 0.045561,
     "end_time": "2022-12-20T01:41:39.086500",
     "exception": false,
     "start_time": "2022-12-20T01:41:39.040939",
     "status": "completed"
    },
    "tags": []
   },
   "outputs": [
    {
     "data": {
      "text/html": [
       "<div>\n",
       "<style scoped>\n",
       "    .dataframe tbody tr th:only-of-type {\n",
       "        vertical-align: middle;\n",
       "    }\n",
       "\n",
       "    .dataframe tbody tr th {\n",
       "        vertical-align: top;\n",
       "    }\n",
       "\n",
       "    .dataframe thead th {\n",
       "        text-align: right;\n",
       "    }\n",
       "</style>\n",
       "<table border=\"1\" class=\"dataframe\">\n",
       "  <thead>\n",
       "    <tr style=\"text-align: right;\">\n",
       "      <th>Fact</th>\n",
       "      <th>index</th>\n",
       "      <th>Population estimates, July 1, 2016,  (V2016)</th>\n",
       "      <th>Population estimates base, April 1, 2010,  (V2016)</th>\n",
       "      <th>Population, percent change - April 1, 2010 (estimates base) to July 1, 2016,  (V2016)</th>\n",
       "      <th>Population, Census, April 1, 2010</th>\n",
       "      <th>Persons under 5 years, percent, July 1, 2016,  (V2016)</th>\n",
       "      <th>Persons under 5 years, percent, April 1, 2010</th>\n",
       "      <th>Persons under 18 years, percent, July 1, 2016,  (V2016)</th>\n",
       "      <th>Persons under 18 years, percent, April 1, 2010</th>\n",
       "      <th>Persons 65 years and over, percent,  July 1, 2016,  (V2016)</th>\n",
       "      <th>...</th>\n",
       "      <th>Total nonemployer establishments, 2015</th>\n",
       "      <th>All firms, 2012</th>\n",
       "      <th>Men-owned firms, 2012</th>\n",
       "      <th>Women-owned firms, 2012</th>\n",
       "      <th>Minority-owned firms, 2012</th>\n",
       "      <th>Nonminority-owned firms, 2012</th>\n",
       "      <th>Veteran-owned firms, 2012</th>\n",
       "      <th>Nonveteran-owned firms, 2012</th>\n",
       "      <th>Population per square mile, 2010</th>\n",
       "      <th>Land area in square miles, 2010</th>\n",
       "    </tr>\n",
       "  </thead>\n",
       "  <tbody>\n",
       "    <tr>\n",
       "      <th>0</th>\n",
       "      <td>Alabama</td>\n",
       "      <td>4,863,300</td>\n",
       "      <td>4,780,131</td>\n",
       "      <td>1.70%</td>\n",
       "      <td>4,779,736</td>\n",
       "      <td>6.00%</td>\n",
       "      <td>6.40%</td>\n",
       "      <td>22.60%</td>\n",
       "      <td>23.70%</td>\n",
       "      <td>16.10%</td>\n",
       "      <td>...</td>\n",
       "      <td>322,025</td>\n",
       "      <td>374,153</td>\n",
       "      <td>203,604</td>\n",
       "      <td>137,630</td>\n",
       "      <td>92,219</td>\n",
       "      <td>272,651</td>\n",
       "      <td>41,943</td>\n",
       "      <td>316,984</td>\n",
       "      <td>94.4</td>\n",
       "      <td>50,645.33</td>\n",
       "    </tr>\n",
       "    <tr>\n",
       "      <th>1</th>\n",
       "      <td>Alaska</td>\n",
       "      <td>741,894</td>\n",
       "      <td>710,249</td>\n",
       "      <td>4.50%</td>\n",
       "      <td>710,231</td>\n",
       "      <td>7.30%</td>\n",
       "      <td>7.60%</td>\n",
       "      <td>25.20%</td>\n",
       "      <td>26.40%</td>\n",
       "      <td>10.40%</td>\n",
       "      <td>...</td>\n",
       "      <td>55,521</td>\n",
       "      <td>68,032</td>\n",
       "      <td>35,402</td>\n",
       "      <td>22,141</td>\n",
       "      <td>13,688</td>\n",
       "      <td>51,147</td>\n",
       "      <td>7,953</td>\n",
       "      <td>56,091</td>\n",
       "      <td>1.2</td>\n",
       "      <td>570,640.95</td>\n",
       "    </tr>\n",
       "    <tr>\n",
       "      <th>2</th>\n",
       "      <td>Arizona</td>\n",
       "      <td>6,931,071</td>\n",
       "      <td>6,392,301</td>\n",
       "      <td>8.40%</td>\n",
       "      <td>6,392,017</td>\n",
       "      <td>6.30%</td>\n",
       "      <td>7.10%</td>\n",
       "      <td>23.50%</td>\n",
       "      <td>25.50%</td>\n",
       "      <td>16.90%</td>\n",
       "      <td>...</td>\n",
       "      <td>451,951</td>\n",
       "      <td>499,926</td>\n",
       "      <td>245,243</td>\n",
       "      <td>182,425</td>\n",
       "      <td>135,313</td>\n",
       "      <td>344,981</td>\n",
       "      <td>46,780</td>\n",
       "      <td>427,582</td>\n",
       "      <td>56.3</td>\n",
       "      <td>113,594.08</td>\n",
       "    </tr>\n",
       "  </tbody>\n",
       "</table>\n",
       "<p>3 rows × 65 columns</p>\n",
       "</div>"
      ],
      "text/plain": [
       "Fact    index Population estimates, July 1, 2016,  (V2016)  \\\n",
       "0     Alabama                                    4,863,300   \n",
       "1      Alaska                                      741,894   \n",
       "2     Arizona                                    6,931,071   \n",
       "\n",
       "Fact Population estimates base, April 1, 2010,  (V2016)  \\\n",
       "0                                             4,780,131   \n",
       "1                                               710,249   \n",
       "2                                             6,392,301   \n",
       "\n",
       "Fact Population, percent change - April 1, 2010 (estimates base) to July 1, 2016,  (V2016)  \\\n",
       "0                                                 1.70%                                      \n",
       "1                                                 4.50%                                      \n",
       "2                                                 8.40%                                      \n",
       "\n",
       "Fact Population, Census, April 1, 2010  \\\n",
       "0                            4,779,736   \n",
       "1                              710,231   \n",
       "2                            6,392,017   \n",
       "\n",
       "Fact Persons under 5 years, percent, July 1, 2016,  (V2016)  \\\n",
       "0                                                 6.00%       \n",
       "1                                                 7.30%       \n",
       "2                                                 6.30%       \n",
       "\n",
       "Fact Persons under 5 years, percent, April 1, 2010  \\\n",
       "0                                            6.40%   \n",
       "1                                            7.60%   \n",
       "2                                            7.10%   \n",
       "\n",
       "Fact Persons under 18 years, percent, July 1, 2016,  (V2016)  \\\n",
       "0                                                22.60%        \n",
       "1                                                25.20%        \n",
       "2                                                23.50%        \n",
       "\n",
       "Fact Persons under 18 years, percent, April 1, 2010  \\\n",
       "0                                            23.70%   \n",
       "1                                            26.40%   \n",
       "2                                            25.50%   \n",
       "\n",
       "Fact Persons 65 years and over, percent,  July 1, 2016,  (V2016)  ...  \\\n",
       "0                                                16.10%           ...   \n",
       "1                                                10.40%           ...   \n",
       "2                                                16.90%           ...   \n",
       "\n",
       "Fact Total nonemployer establishments, 2015 All firms, 2012  \\\n",
       "0                                   322,025         374,153   \n",
       "1                                    55,521          68,032   \n",
       "2                                   451,951         499,926   \n",
       "\n",
       "Fact Men-owned firms, 2012 Women-owned firms, 2012 Minority-owned firms, 2012  \\\n",
       "0                  203,604                 137,630                     92,219   \n",
       "1                   35,402                  22,141                     13,688   \n",
       "2                  245,243                 182,425                    135,313   \n",
       "\n",
       "Fact Nonminority-owned firms, 2012 Veteran-owned firms, 2012  \\\n",
       "0                          272,651                    41,943   \n",
       "1                           51,147                     7,953   \n",
       "2                          344,981                    46,780   \n",
       "\n",
       "Fact Nonveteran-owned firms, 2012 Population per square mile, 2010  \\\n",
       "0                         316,984                             94.4   \n",
       "1                          56,091                              1.2   \n",
       "2                         427,582                             56.3   \n",
       "\n",
       "Fact Land area in square miles, 2010  \n",
       "0                          50,645.33  \n",
       "1                         570,640.95  \n",
       "2                         113,594.08  \n",
       "\n",
       "[3 rows x 65 columns]"
      ]
     },
     "execution_count": 33,
     "metadata": {},
     "output_type": "execute_result"
    }
   ],
   "source": [
    "us_census.reset_index().head(3)"
   ]
  },
  {
   "cell_type": "markdown",
   "id": "4a87c4f8",
   "metadata": {
    "papermill": {
     "duration": 0.017763,
     "end_time": "2022-12-20T01:41:39.122416",
     "exception": false,
     "start_time": "2022-12-20T01:41:39.104653",
     "status": "completed"
    },
    "tags": []
   },
   "source": [
    "### Renaming Column name"
   ]
  },
  {
   "cell_type": "code",
   "execution_count": 34,
   "id": "aacfd19f",
   "metadata": {
    "execution": {
     "iopub.execute_input": "2022-12-20T01:41:39.160976Z",
     "iopub.status.busy": "2022-12-20T01:41:39.160554Z",
     "iopub.status.idle": "2022-12-20T01:41:39.167196Z",
     "shell.execute_reply": "2022-12-20T01:41:39.165930Z"
    },
    "papermill": {
     "duration": 0.029962,
     "end_time": "2022-12-20T01:41:39.170229",
     "exception": false,
     "start_time": "2022-12-20T01:41:39.140267",
     "status": "completed"
    },
    "tags": []
   },
   "outputs": [
    {
     "name": "stderr",
     "output_type": "stream",
     "text": [
      "/opt/conda/lib/python3.7/site-packages/pandas/core/frame.py:5047: SettingWithCopyWarning: \n",
      "A value is trying to be set on a copy of a slice from a DataFrame\n",
      "\n",
      "See the caveats in the documentation: https://pandas.pydata.org/pandas-docs/stable/user_guide/indexing.html#returning-a-view-versus-a-copy\n",
      "  errors=errors,\n"
     ]
    }
   ],
   "source": [
    "us_census.rename(columns = {'index': 'state'}, inplace = True)"
   ]
  },
  {
   "cell_type": "code",
   "execution_count": 35,
   "id": "e773ab56",
   "metadata": {
    "execution": {
     "iopub.execute_input": "2022-12-20T01:41:39.209826Z",
     "iopub.status.busy": "2022-12-20T01:41:39.209192Z",
     "iopub.status.idle": "2022-12-20T01:41:39.231386Z",
     "shell.execute_reply": "2022-12-20T01:41:39.230237Z"
    },
    "papermill": {
     "duration": 0.044461,
     "end_time": "2022-12-20T01:41:39.233661",
     "exception": false,
     "start_time": "2022-12-20T01:41:39.189200",
     "status": "completed"
    },
    "tags": []
   },
   "outputs": [
    {
     "data": {
      "text/html": [
       "<div>\n",
       "<style scoped>\n",
       "    .dataframe tbody tr th:only-of-type {\n",
       "        vertical-align: middle;\n",
       "    }\n",
       "\n",
       "    .dataframe tbody tr th {\n",
       "        vertical-align: top;\n",
       "    }\n",
       "\n",
       "    .dataframe thead th {\n",
       "        text-align: right;\n",
       "    }\n",
       "</style>\n",
       "<table border=\"1\" class=\"dataframe\">\n",
       "  <thead>\n",
       "    <tr style=\"text-align: right;\">\n",
       "      <th>Fact</th>\n",
       "      <th>Population estimates, July 1, 2016,  (V2016)</th>\n",
       "      <th>Population estimates base, April 1, 2010,  (V2016)</th>\n",
       "      <th>Population, percent change - April 1, 2010 (estimates base) to July 1, 2016,  (V2016)</th>\n",
       "      <th>Population, Census, April 1, 2010</th>\n",
       "      <th>Persons under 5 years, percent, July 1, 2016,  (V2016)</th>\n",
       "      <th>Persons under 5 years, percent, April 1, 2010</th>\n",
       "      <th>Persons under 18 years, percent, July 1, 2016,  (V2016)</th>\n",
       "      <th>Persons under 18 years, percent, April 1, 2010</th>\n",
       "      <th>Persons 65 years and over, percent,  July 1, 2016,  (V2016)</th>\n",
       "      <th>Persons 65 years and over, percent, April 1, 2010</th>\n",
       "      <th>...</th>\n",
       "      <th>Total nonemployer establishments, 2015</th>\n",
       "      <th>All firms, 2012</th>\n",
       "      <th>Men-owned firms, 2012</th>\n",
       "      <th>Women-owned firms, 2012</th>\n",
       "      <th>Minority-owned firms, 2012</th>\n",
       "      <th>Nonminority-owned firms, 2012</th>\n",
       "      <th>Veteran-owned firms, 2012</th>\n",
       "      <th>Nonveteran-owned firms, 2012</th>\n",
       "      <th>Population per square mile, 2010</th>\n",
       "      <th>Land area in square miles, 2010</th>\n",
       "    </tr>\n",
       "  </thead>\n",
       "  <tbody>\n",
       "    <tr>\n",
       "      <th>Alabama</th>\n",
       "      <td>4,863,300</td>\n",
       "      <td>4,780,131</td>\n",
       "      <td>1.70%</td>\n",
       "      <td>4,779,736</td>\n",
       "      <td>6.00%</td>\n",
       "      <td>6.40%</td>\n",
       "      <td>22.60%</td>\n",
       "      <td>23.70%</td>\n",
       "      <td>16.10%</td>\n",
       "      <td>13.80%</td>\n",
       "      <td>...</td>\n",
       "      <td>322,025</td>\n",
       "      <td>374,153</td>\n",
       "      <td>203,604</td>\n",
       "      <td>137,630</td>\n",
       "      <td>92,219</td>\n",
       "      <td>272,651</td>\n",
       "      <td>41,943</td>\n",
       "      <td>316,984</td>\n",
       "      <td>94.4</td>\n",
       "      <td>50,645.33</td>\n",
       "    </tr>\n",
       "    <tr>\n",
       "      <th>Alaska</th>\n",
       "      <td>741,894</td>\n",
       "      <td>710,249</td>\n",
       "      <td>4.50%</td>\n",
       "      <td>710,231</td>\n",
       "      <td>7.30%</td>\n",
       "      <td>7.60%</td>\n",
       "      <td>25.20%</td>\n",
       "      <td>26.40%</td>\n",
       "      <td>10.40%</td>\n",
       "      <td>7.70%</td>\n",
       "      <td>...</td>\n",
       "      <td>55,521</td>\n",
       "      <td>68,032</td>\n",
       "      <td>35,402</td>\n",
       "      <td>22,141</td>\n",
       "      <td>13,688</td>\n",
       "      <td>51,147</td>\n",
       "      <td>7,953</td>\n",
       "      <td>56,091</td>\n",
       "      <td>1.2</td>\n",
       "      <td>570,640.95</td>\n",
       "    </tr>\n",
       "  </tbody>\n",
       "</table>\n",
       "<p>2 rows × 64 columns</p>\n",
       "</div>"
      ],
      "text/plain": [
       "Fact    Population estimates, July 1, 2016,  (V2016)  \\\n",
       "Alabama                                    4,863,300   \n",
       "Alaska                                       741,894   \n",
       "\n",
       "Fact    Population estimates base, April 1, 2010,  (V2016)  \\\n",
       "Alabama                                          4,780,131   \n",
       "Alaska                                             710,249   \n",
       "\n",
       "Fact    Population, percent change - April 1, 2010 (estimates base) to July 1, 2016,  (V2016)  \\\n",
       "Alabama                                              1.70%                                      \n",
       "Alaska                                               4.50%                                      \n",
       "\n",
       "Fact    Population, Census, April 1, 2010  \\\n",
       "Alabama                         4,779,736   \n",
       "Alaska                            710,231   \n",
       "\n",
       "Fact    Persons under 5 years, percent, July 1, 2016,  (V2016)  \\\n",
       "Alabama                                              6.00%       \n",
       "Alaska                                               7.30%       \n",
       "\n",
       "Fact    Persons under 5 years, percent, April 1, 2010  \\\n",
       "Alabama                                         6.40%   \n",
       "Alaska                                          7.60%   \n",
       "\n",
       "Fact    Persons under 18 years, percent, July 1, 2016,  (V2016)  \\\n",
       "Alabama                                             22.60%        \n",
       "Alaska                                              25.20%        \n",
       "\n",
       "Fact    Persons under 18 years, percent, April 1, 2010  \\\n",
       "Alabama                                         23.70%   \n",
       "Alaska                                          26.40%   \n",
       "\n",
       "Fact    Persons 65 years and over, percent,  July 1, 2016,  (V2016)  \\\n",
       "Alabama                                             16.10%            \n",
       "Alaska                                              10.40%            \n",
       "\n",
       "Fact    Persons 65 years and over, percent, April 1, 2010  ...  \\\n",
       "Alabama                                            13.80%  ...   \n",
       "Alaska                                              7.70%  ...   \n",
       "\n",
       "Fact    Total nonemployer establishments, 2015 All firms, 2012  \\\n",
       "Alabama                                322,025         374,153   \n",
       "Alaska                                  55,521          68,032   \n",
       "\n",
       "Fact    Men-owned firms, 2012 Women-owned firms, 2012  \\\n",
       "Alabama               203,604                 137,630   \n",
       "Alaska                 35,402                  22,141   \n",
       "\n",
       "Fact    Minority-owned firms, 2012 Nonminority-owned firms, 2012  \\\n",
       "Alabama                     92,219                       272,651   \n",
       "Alaska                      13,688                        51,147   \n",
       "\n",
       "Fact    Veteran-owned firms, 2012 Nonveteran-owned firms, 2012  \\\n",
       "Alabama                    41,943                      316,984   \n",
       "Alaska                      7,953                       56,091   \n",
       "\n",
       "Fact    Population per square mile, 2010 Land area in square miles, 2010  \n",
       "Alabama                             94.4                       50,645.33  \n",
       "Alaska                               1.2                      570,640.95  \n",
       "\n",
       "[2 rows x 64 columns]"
      ]
     },
     "execution_count": 35,
     "metadata": {},
     "output_type": "execute_result"
    }
   ],
   "source": [
    "us_census.head(2)"
   ]
  },
  {
   "cell_type": "code",
   "execution_count": 36,
   "id": "f1b0bbb3",
   "metadata": {
    "execution": {
     "iopub.execute_input": "2022-12-20T01:41:39.271696Z",
     "iopub.status.busy": "2022-12-20T01:41:39.271088Z",
     "iopub.status.idle": "2022-12-20T01:41:39.274906Z",
     "shell.execute_reply": "2022-12-20T01:41:39.274046Z"
    },
    "papermill": {
     "duration": 0.025188,
     "end_time": "2022-12-20T01:41:39.276937",
     "exception": false,
     "start_time": "2022-12-20T01:41:39.251749",
     "status": "completed"
    },
    "tags": []
   },
   "outputs": [],
   "source": [
    "#pd.wide_to_long(us_census, i = us_states, )"
   ]
  },
  {
   "cell_type": "code",
   "execution_count": 37,
   "id": "d53881f0",
   "metadata": {
    "execution": {
     "iopub.execute_input": "2022-12-20T01:41:39.315720Z",
     "iopub.status.busy": "2022-12-20T01:41:39.315116Z",
     "iopub.status.idle": "2022-12-20T01:41:39.319438Z",
     "shell.execute_reply": "2022-12-20T01:41:39.318277Z"
    },
    "papermill": {
     "duration": 0.026311,
     "end_time": "2022-12-20T01:41:39.321676",
     "exception": false,
     "start_time": "2022-12-20T01:41:39.295365",
     "status": "completed"
    },
    "tags": []
   },
   "outputs": [],
   "source": [
    "# new = us_census.pivot(index = us_states, columns = new_col)\n",
    "# new.head(5)"
   ]
  },
  {
   "cell_type": "code",
   "execution_count": 38,
   "id": "92c11190",
   "metadata": {
    "execution": {
     "iopub.execute_input": "2022-12-20T01:41:39.359609Z",
     "iopub.status.busy": "2022-12-20T01:41:39.359230Z",
     "iopub.status.idle": "2022-12-20T01:41:39.366179Z",
     "shell.execute_reply": "2022-12-20T01:41:39.365239Z"
    },
    "papermill": {
     "duration": 0.028602,
     "end_time": "2022-12-20T01:41:39.368408",
     "exception": false,
     "start_time": "2022-12-20T01:41:39.339806",
     "status": "completed"
    },
    "tags": []
   },
   "outputs": [
    {
     "data": {
      "text/plain": [
       "Index(['Population estimates, July 1, 2016,  (V2016)',\n",
       "       'Population estimates base, April 1, 2010,  (V2016)',\n",
       "       'Population, percent change - April 1, 2010 (estimates base) to July 1, 2016,  (V2016)',\n",
       "       'Population, Census, April 1, 2010',\n",
       "       'Persons under 5 years, percent, July 1, 2016,  (V2016)',\n",
       "       'Persons under 5 years, percent, April 1, 2010',\n",
       "       'Persons under 18 years, percent, July 1, 2016,  (V2016)',\n",
       "       'Persons under 18 years, percent, April 1, 2010',\n",
       "       'Persons 65 years and over, percent,  July 1, 2016,  (V2016)',\n",
       "       'Persons 65 years and over, percent, April 1, 2010',\n",
       "       'Female persons, percent,  July 1, 2016,  (V2016)',\n",
       "       'Female persons, percent, April 1, 2010',\n",
       "       'White alone, percent, July 1, 2016,  (V2016)',\n",
       "       'Black or African American alone, percent, July 1, 2016,  (V2016)',\n",
       "       'American Indian and Alaska Native alone, percent, July 1, 2016,  (V2016)',\n",
       "       'Asian alone, percent, July 1, 2016,  (V2016)',\n",
       "       'Native Hawaiian and Other Pacific Islander alone, percent, July 1, 2016,  (V2016)',\n",
       "       'Two or More Races, percent, July 1, 2016,  (V2016)',\n",
       "       'Hispanic or Latino, percent, July 1, 2016,  (V2016)',\n",
       "       'White alone, not Hispanic or Latino, percent, July 1, 2016,  (V2016)',\n",
       "       'Veterans, 2011-2015', 'Foreign born persons, percent, 2011-2015',\n",
       "       'Housing units,  July 1, 2016,  (V2016)',\n",
       "       'Housing units, April 1, 2010',\n",
       "       'Owner-occupied housing unit rate, 2011-2015',\n",
       "       'Median value of owner-occupied housing units, 2011-2015',\n",
       "       'Median selected monthly owner costs -with a mortgage, 2011-2015',\n",
       "       'Median selected monthly owner costs -without a mortgage, 2011-2015',\n",
       "       'Median gross rent, 2011-2015', 'Building permits, 2016',\n",
       "       'Households, 2011-2015', 'Persons per household, 2011-2015',\n",
       "       'Living in same house 1 year ago, percent of persons age 1 year+, 2011-2015',\n",
       "       'Language other than English spoken at home, percent of persons age 5 years+, 2011-2015',\n",
       "       'High school graduate or higher, percent of persons age 25 years+, 2011-2015',\n",
       "       'Bachelor's degree or higher, percent of persons age 25 years+, 2011-2015',\n",
       "       'With a disability, under age 65 years, percent, 2011-2015',\n",
       "       'Persons  without health insurance, under age 65 years, percent',\n",
       "       'In civilian labor force, total, percent of population age 16 years+, 2011-2015',\n",
       "       'In civilian labor force, female, percent of population age 16 years+, 2011-2015',\n",
       "       'Total accommodation and food services sales, 2012 ($1,000)',\n",
       "       'Total health care and social assistance receipts/revenue, 2012 ($1,000)',\n",
       "       'Total manufacturers shipments, 2012 ($1,000)',\n",
       "       'Total merchant wholesaler sales, 2012 ($1,000)',\n",
       "       'Total retail sales, 2012 ($1,000)',\n",
       "       'Total retail sales per capita, 2012',\n",
       "       'Mean travel time to work (minutes), workers age 16 years+, 2011-2015',\n",
       "       'Median household income (in 2015 dollars), 2011-2015',\n",
       "       'Per capita income in past 12 months (in 2015 dollars), 2011-2015',\n",
       "       'Persons in poverty, percent', 'Total employer establishments, 2015',\n",
       "       'Total employment, 2015', 'Total annual payroll, 2015 ($1,000)',\n",
       "       'Total employment, percent change, 2014-2015',\n",
       "       'Total nonemployer establishments, 2015', 'All firms, 2012',\n",
       "       'Men-owned firms, 2012', 'Women-owned firms, 2012',\n",
       "       'Minority-owned firms, 2012', 'Nonminority-owned firms, 2012',\n",
       "       'Veteran-owned firms, 2012', 'Nonveteran-owned firms, 2012',\n",
       "       'Population per square mile, 2010', 'Land area in square miles, 2010'],\n",
       "      dtype='object', name='Fact')"
      ]
     },
     "execution_count": 38,
     "metadata": {},
     "output_type": "execute_result"
    }
   ],
   "source": [
    "us_census.columns"
   ]
  },
  {
   "cell_type": "markdown",
   "id": "b9fe0558",
   "metadata": {
    "papermill": {
     "duration": 0.018417,
     "end_time": "2022-12-20T01:41:39.405163",
     "exception": false,
     "start_time": "2022-12-20T01:41:39.386746",
     "status": "completed"
    },
    "tags": []
   },
   "source": [
    "### Classifying/Grouping state s to west, east...\n",
    "\n",
    "\n",
    "np.repeat('red', len(red_df))\n",
    "# create color array for red dataframe\n",
    "color_red = np.repeat('red', len(red_df))\n",
    "color_red\n",
    "array(['red', 'red', 'red', ..., 'red', 'red', 'red'], \n",
    "      dtype='<U3')\n",
    ".shape\n",
    "white_df.shape\n",
    "(4898, 12)\n",
    "len(white_df)\n",
    "4898"
   ]
  },
  {
   "cell_type": "code",
   "execution_count": 39,
   "id": "81ccf6ed",
   "metadata": {
    "execution": {
     "iopub.execute_input": "2022-12-20T01:41:39.443560Z",
     "iopub.status.busy": "2022-12-20T01:41:39.443146Z",
     "iopub.status.idle": "2022-12-20T01:41:39.447816Z",
     "shell.execute_reply": "2022-12-20T01:41:39.446663Z"
    },
    "papermill": {
     "duration": 0.026764,
     "end_time": "2022-12-20T01:41:39.450287",
     "exception": false,
     "start_time": "2022-12-20T01:41:39.423523",
     "status": "completed"
    },
    "tags": []
   },
   "outputs": [],
   "source": [
    "# Load your data and print out a few lines. Perform operations to inspect data\n",
    "#   types and look for instances of missing or possibly errant data.\n"
   ]
  },
  {
   "cell_type": "markdown",
   "id": "519426cb",
   "metadata": {
    "papermill": {
     "duration": 0.018546,
     "end_time": "2022-12-20T01:41:39.487479",
     "exception": false,
     "start_time": "2022-12-20T01:41:39.468933",
     "status": "completed"
    },
    "tags": []
   },
   "source": [
    "> **Tip**: You should _not_ perform too many operations in each cell. Create cells freely to explore your data. One option that you can take with this project is to do a lot of explorations in an initial notebook. These don't have to be organized, but make sure you use enough comments to understand the purpose of each code cell. Then, after you're done with your analysis, create a duplicate notebook where you will trim the excess and organize your steps so that you have a flowing, cohesive report.\n",
    "\n",
    "> **Tip**: Make sure that you keep your reader informed on the steps that you are taking in your investigation. Follow every code cell, or every set of related code cells, with a markdown cell to describe to the reader what was found in the preceding cell(s). Try to make it so that the reader can then understand what they will be seeing in the following cell(s).\n",
    "\n",
    "### Data Cleaning (Replace this with more specific notes!)"
   ]
  },
  {
   "cell_type": "code",
   "execution_count": 40,
   "id": "4c08f0a8",
   "metadata": {
    "execution": {
     "iopub.execute_input": "2022-12-20T01:41:39.527210Z",
     "iopub.status.busy": "2022-12-20T01:41:39.525972Z",
     "iopub.status.idle": "2022-12-20T01:41:39.531041Z",
     "shell.execute_reply": "2022-12-20T01:41:39.529903Z"
    },
    "papermill": {
     "duration": 0.027405,
     "end_time": "2022-12-20T01:41:39.533571",
     "exception": false,
     "start_time": "2022-12-20T01:41:39.506166",
     "status": "completed"
    },
    "tags": []
   },
   "outputs": [],
   "source": [
    "# After discussing the structure of the data and any problems that need to be\n",
    "#   cleaned, perform those cleaning steps in the second part of this section.\n"
   ]
  },
  {
   "cell_type": "markdown",
   "id": "50002777",
   "metadata": {
    "papermill": {
     "duration": 0.01833,
     "end_time": "2022-12-20T01:41:39.571445",
     "exception": false,
     "start_time": "2022-12-20T01:41:39.553115",
     "status": "completed"
    },
    "tags": []
   },
   "source": [
    "<a id='eda'></a>\n",
    "## Exploratory Data Analysis\n",
    "\n",
    "> **Tip**: Now that you've trimmed and cleaned your data, you're ready to move on to exploration. Compute statistics and create visualizations with the goal of addressing the research questions that you posed in the Introduction section. It is recommended that you be systematic with your approach. Look at one variable at a time, and then follow it up by looking at relationships between variables.\n",
    "\n",
    "### Research Question 1 (Replace this header name!)"
   ]
  },
  {
   "cell_type": "code",
   "execution_count": 41,
   "id": "09c68682",
   "metadata": {
    "execution": {
     "iopub.execute_input": "2022-12-20T01:41:39.611115Z",
     "iopub.status.busy": "2022-12-20T01:41:39.610282Z",
     "iopub.status.idle": "2022-12-20T01:41:39.614509Z",
     "shell.execute_reply": "2022-12-20T01:41:39.613710Z"
    },
    "papermill": {
     "duration": 0.026634,
     "end_time": "2022-12-20T01:41:39.616723",
     "exception": false,
     "start_time": "2022-12-20T01:41:39.590089",
     "status": "completed"
    },
    "tags": []
   },
   "outputs": [],
   "source": [
    "# Use this, and more code cells, to explore your data. Don't forget to add\n",
    "#   Markdown cells to document your observations and findings.\n"
   ]
  },
  {
   "cell_type": "markdown",
   "id": "c247327b",
   "metadata": {
    "papermill": {
     "duration": 0.018264,
     "end_time": "2022-12-20T01:41:39.653880",
     "exception": false,
     "start_time": "2022-12-20T01:41:39.635616",
     "status": "completed"
    },
    "tags": []
   },
   "source": [
    "### Research Question 2  (Replace this header name!)"
   ]
  },
  {
   "cell_type": "code",
   "execution_count": 42,
   "id": "b3998bb6",
   "metadata": {
    "collapsed": true,
    "execution": {
     "iopub.execute_input": "2022-12-20T01:41:39.693202Z",
     "iopub.status.busy": "2022-12-20T01:41:39.692770Z",
     "iopub.status.idle": "2022-12-20T01:41:39.697465Z",
     "shell.execute_reply": "2022-12-20T01:41:39.696291Z"
    },
    "jupyter": {
     "outputs_hidden": true
    },
    "papermill": {
     "duration": 0.027164,
     "end_time": "2022-12-20T01:41:39.699623",
     "exception": false,
     "start_time": "2022-12-20T01:41:39.672459",
     "status": "completed"
    },
    "tags": []
   },
   "outputs": [],
   "source": [
    "# Continue to explore the data to address your additional research\n",
    "#   questions. Add more headers as needed if you have more questions to\n",
    "#   investigate.\n"
   ]
  },
  {
   "cell_type": "markdown",
   "id": "712e20d7",
   "metadata": {
    "papermill": {
     "duration": 0.018307,
     "end_time": "2022-12-20T01:41:39.736872",
     "exception": false,
     "start_time": "2022-12-20T01:41:39.718565",
     "status": "completed"
    },
    "tags": []
   },
   "source": [
    "<a id='conclusions'></a>\n",
    "## Conclusions\n",
    "\n",
    "> **Tip**: Finally, summarize your findings and the results that have been performed. Make sure that you are clear with regards to the limitations of your exploration. If you haven't done any statistical tests, do not imply any statistical conclusions. And make sure you avoid implying causation from correlation!\n",
    "\n",
    "> **Tip**: Once you are satisfied with your work, you should save a copy of the report in HTML or PDF form via the **File** > **Download as** submenu. Before exporting your report, check over it to make sure that the flow of the report is complete. You should probably remove all of the \"Tip\" quotes like this one so that the presentation is as tidy as possible. Congratulations!"
   ]
  },
  {
   "cell_type": "code",
   "execution_count": null,
   "id": "0aa3d90b",
   "metadata": {
    "collapsed": true,
    "jupyter": {
     "outputs_hidden": true
    },
    "papermill": {
     "duration": 0.018678,
     "end_time": "2022-12-20T01:41:39.774141",
     "exception": false,
     "start_time": "2022-12-20T01:41:39.755463",
     "status": "completed"
    },
    "tags": []
   },
   "outputs": [],
   "source": []
  }
 ],
 "metadata": {
  "kernelspec": {
   "display_name": "Python 3",
   "language": "python",
   "name": "python3"
  },
  "language_info": {
   "codemirror_mode": {
    "name": "ipython",
    "version": 3
   },
   "file_extension": ".py",
   "mimetype": "text/x-python",
   "name": "python",
   "nbconvert_exporter": "python",
   "pygments_lexer": "ipython3",
   "version": "3.7.12"
  },
  "papermill": {
   "default_parameters": {},
   "duration": 16.564849,
   "end_time": "2022-12-20T01:41:40.515376",
   "environment_variables": {},
   "exception": null,
   "input_path": "__notebook__.ipynb",
   "output_path": "__notebook__.ipynb",
   "parameters": {},
   "start_time": "2022-12-20T01:41:23.950527",
   "version": "2.3.4"
  }
 },
 "nbformat": 4,
 "nbformat_minor": 5
}
