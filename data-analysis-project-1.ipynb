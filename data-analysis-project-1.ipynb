{
 "cells": [
  {
   "cell_type": "markdown",
   "id": "d88f2b35",
   "metadata": {
    "execution": {
     "iopub.execute_input": "2022-12-20T07:38:30.293106Z",
     "iopub.status.busy": "2022-12-20T07:38:30.292588Z",
     "iopub.status.idle": "2022-12-20T07:38:30.300755Z",
     "shell.execute_reply": "2022-12-20T07:38:30.298968Z",
     "shell.execute_reply.started": "2022-12-20T07:38:30.293061Z"
    },
    "papermill": {
     "duration": 0.038977,
     "end_time": "2022-12-23T09:44:22.123242",
     "exception": false,
     "start_time": "2022-12-23T09:44:22.084265",
     "status": "completed"
    },
    "tags": []
   },
   "source": [
    "#### Author: Fagbamigbe Kehinde\n",
    "- [Github](https://github.com/Rvd001/ALX/blob/main/data-analysis-project-1.ipynb)\n",
    "- [Twitter](https://twitter.com/bornofdata)\n"
   ]
  },
  {
   "cell_type": "markdown",
   "id": "a88eaf98",
   "metadata": {
    "papermill": {
     "duration": 0.03388,
     "end_time": "2022-12-23T09:44:22.193899",
     "exception": false,
     "start_time": "2022-12-23T09:44:22.160019",
     "status": "completed"
    },
    "tags": []
   },
   "source": [
    "> **Tip**: Welcome to the Investigate a Dataset project! You will find tips in quoted sections like this to help organize your approach to your investigation. Before submitting your project, it will be a good idea to go back through your report and remove these sections to make the presentation of your work as tidy as possible. First things first, you might want to double-click this Markdown cell and change the title so that it reflects your dataset and investigation.\n",
    "\n",
    "# Project: Investigate a Dataset (Replace this with something more specific!)\n",
    "\n",
    "## Table of Contents\n",
    "<ul>\n",
    "<li><a href=\"#intro\">Introduction</a></li>\n",
    "<li><a href=\"#wrangling\">Data Wrangling</a></li>\n",
    "<li><a href=\"#eda\">Exploratory Data Analysis</a></li>\n",
    "<li><a href=\"#conclusions\">Conclusions</a></li>\n",
    "</ul>"
   ]
  },
  {
   "cell_type": "markdown",
   "id": "ecb0ab40",
   "metadata": {
    "papermill": {
     "duration": 0.032955,
     "end_time": "2022-12-23T09:44:22.261531",
     "exception": false,
     "start_time": "2022-12-23T09:44:22.228576",
     "status": "completed"
    },
    "tags": []
   },
   "source": [
    "<a id='intro'></a>\n",
    "## Introduction\n",
    "\n",
    "I will be working on the gun data set and the US census dataset. The gun data provides information about monthly possession of firearms, the permits issues and the transaction invloved in gun exchange. The US census dataset provides information about several divisions within a specific timeframe"
   ]
  },
  {
   "cell_type": "markdown",
   "id": "452489d7",
   "metadata": {
    "execution": {
     "iopub.execute_input": "2022-12-19T21:47:58.671702Z",
     "iopub.status.busy": "2022-12-19T21:47:58.671069Z",
     "iopub.status.idle": "2022-12-19T21:47:58.705379Z",
     "shell.execute_reply": "2022-12-19T21:47:58.703653Z",
     "shell.execute_reply.started": "2022-12-19T21:47:58.671565Z"
    },
    "papermill": {
     "duration": 0.036999,
     "end_time": "2022-12-23T09:44:22.332620",
     "exception": false,
     "start_time": "2022-12-23T09:44:22.295621",
     "status": "completed"
    },
    "tags": []
   },
   "source": [
    "- [Link](https://www.census.gov/quickfacts/gunbarrelcitycitytexas) to US census dataset.\n",
    "- Here is a [link](https://www.fbi.gov/file-repository/nics_firearm_checks_-_month_year_by_state_type.pdf/view) to the description of the gun data"
   ]
  },
  {
   "cell_type": "markdown",
   "id": "9ad9d31e",
   "metadata": {
    "papermill": {
     "duration": 0.034685,
     "end_time": "2022-12-23T09:44:22.401914",
     "exception": false,
     "start_time": "2022-12-23T09:44:22.367229",
     "status": "completed"
    },
    "tags": []
   },
   "source": [
    "### Gun data\n",
    "\n",
    "\n",
    "Here is a detailed explanation of variables in the gun dataset as seen from the source"
   ]
  },
  {
   "cell_type": "markdown",
   "id": "fd9864c2",
   "metadata": {
    "papermill": {
     "duration": 0.034201,
     "end_time": "2022-12-23T09:44:22.470552",
     "exception": false,
     "start_time": "2022-12-23T09:44:22.436351",
     "status": "completed"
    },
    "tags": []
   },
   "source": [
    "\n",
    "\n",
    "\n",
    "\n",
    "Each column represents the type of transaction submitted to the **National Instant Criminal Background Check System (NICS)**. In addition, each type of transaction is broken down by the type of firearm—handgun, long gun, and other. The types of firearms are defined by the **Bureau of Alcohol, Tobacco, Firearms and Explosives** as follows:\n",
    "\n",
    "- Handgun—(a) any firearm which has a short stock and is designed to be held and fired by the use of a single hand; and (b) any combination of parts from which a firearm described in paragraph (a) can be assembled.\n",
    "\n",
    "- Long Gun—a weapon designed or redesigned, made or remade, and intended to be fired from the shoulder, and designed or redesigned and made or remade to use the energy of the explosive in (a) a fixed metallic cartridge to fire a single projectile through a rifled bore for each single pull of the trigger; or (b) a fixed shotgun shell to fire through a smooth bore either\n",
    "a number of ball shot or a single projectile for each single pull of the trigger.\n",
    "\n",
    "- Other—refers to frames, receivers, and other firearms that are neither handguns nor long guns (rifles or shotguns), such as firearms having a pistol grip that expel a shotgun shell, or National Firearms Act firearms, including silencers.\n",
    "\n",
    "The transaction types indicated in yellow on the chart are for background checks initiated by an officially-licensed **Federal Firearms Licensee** (FFL) or criminal justice/law enforcement agency prior to the issuance of a firearm-related permit or transfer. \n",
    "\n",
    "\n",
    "The indication of **“multiple”** denotes a background check where more than one type of firearm is associated to a single\n",
    "background check.\n",
    "\n",
    "**“Admin”** denotes the administrative checks that are for other authorized uses of the NICS.\n",
    "\n",
    "Other types of transactions are explained below:\n",
    "\n",
    "- Pre-Pawn—background checks requested by an officially-licensed FFL on prospective firearm transferees seeking to pledge or pawn a firearm as security for the payment or repayment of money, prior to actually pledging or pawning the firearm.\n",
    "\n",
    "- Redemption—background checks requested by an officially-licensed FFL on prospective firearm transferees attempting to regain possession of a firearm after pledging or pawning a firearm as security at a pawn shop.\n",
    "\n",
    "- Returned/Disposition—background checks requested by criminal justice/law enforcement agencies prior to returning a firearm in its possession to the respective transferee, to ensure the individual is not prohibited.\n",
    "\n",
    "- Rentals—background checks requested by an officially-licensed FFL on prospective firearm transferees attempting to possess a firearm when the firearm is loaned or rented for use off the premises of the business.\n",
    "\n",
    "- Private Sale—background checks requested by an officially-licensed FFL on prospective firearm transferees attempting to possess a firearm from a private party seller who is not an officially-licensed FFL.\n",
    "\n",
    "- Return to Seller-Private Sale—background checks requested by an officially-licensed FFL on prospective firearm transferees attempting to possess a firearm from a private party seller who is not an officially-licensed FFL.\n",
    "\n",
    "It is important to note that the statistics within this chart represent the number of firearm background checks initiated through the NICS. They do not represent the number of firearms sold. Based on varying state laws and purchase scenarios, a one-to-one correlation cannot be made between a firearm background check and a firearm sale."
   ]
  },
  {
   "cell_type": "markdown",
   "id": "145c0026",
   "metadata": {
    "papermill": {
     "duration": 0.032502,
     "end_time": "2022-12-23T09:44:22.537138",
     "exception": false,
     "start_time": "2022-12-23T09:44:22.504636",
     "status": "completed"
    },
    "tags": []
   },
   "source": [
    "## US Census Data\n",
    "\n",
    "Some important thing to know about the US census data\n",
    "\n",
    "The vintage year (e.g., V2021) refers to the final year of the series (2020 thru 2021). Different vintage years of estimates are not comparable.\n",
    "\n",
    "\n",
    "Fact Notes\n",
    "- (a) Includes persons reporting only one race\n",
    "- (b) Hispanics may be of any race, so also are included in applicable race categories\n",
    "- (c) Economic Census - Puerto Rico data are not comparable to U.S. Economic Census data\n",
    "\n"
   ]
  },
  {
   "cell_type": "markdown",
   "id": "ffd3a984",
   "metadata": {
    "papermill": {
     "duration": 0.034178,
     "end_time": "2022-12-23T09:44:22.605126",
     "exception": false,
     "start_time": "2022-12-23T09:44:22.570948",
     "status": "completed"
    },
    "tags": []
   },
   "source": [
    "## Attributes / Columns of the gun dataset"
   ]
  },
  {
   "cell_type": "markdown",
   "id": "d3316d6a",
   "metadata": {
    "papermill": {
     "duration": 0.033016,
     "end_time": "2022-12-23T09:44:22.671420",
     "exception": false,
     "start_time": "2022-12-23T09:44:22.638404",
     "status": "completed"
    },
    "tags": []
   },
   "source": [
    "- month\n",
    "- state\n",
    "- permit\n",
    "- permit_recheck\n",
    "- handgun\n",
    "- long_gun\n",
    "- other\n",
    "- multiple\n",
    "- admin\n",
    "- prepawn_handgun\n",
    "- prepawn_long_gun\n",
    "- prepawn_other\n",
    "- redemption_handgun\n",
    "- redemption_long_gun\n",
    "- redemption_other\n",
    "- returned_handgun \n",
    "- returned_long_gun\n",
    "- returned_other \n",
    "- rentals_handgun\n",
    "- rentals_long_gun\n",
    "- private_sale_handgun \n",
    "- private_sale_long_gun\n",
    "- private_sale_other\n",
    "- return_to_seller_handgun\n",
    "- return_to_seller_long_gun\n",
    "- return_to_seller_other\n",
    "- totals"
   ]
  },
  {
   "cell_type": "markdown",
   "id": "af6f6d74",
   "metadata": {
    "papermill": {
     "duration": 0.033134,
     "end_time": "2022-12-23T09:44:22.737838",
     "exception": false,
     "start_time": "2022-12-23T09:44:22.704704",
     "status": "completed"
    },
    "tags": []
   },
   "source": [
    "## Categories of the US Census data\n",
    "\n",
    "The data in the US Census data is classified under different categories as seen below\n",
    "\n",
    "- Population\n",
    "- Age and Sex\n",
    "- Race and Hispanic Origin\n",
    "- Population Characteristics\n",
    "- Housing\n",
    "- Families & Living Arrangements\n",
    "- Computer and Internet Use\n",
    "- Education\n",
    "- Health\n",
    "- Economy\n",
    "- Transportation\n",
    "- Income & Poverty\n",
    "- Businesses\n",
    "- Geography"
   ]
  },
  {
   "cell_type": "markdown",
   "id": "42de8f3a",
   "metadata": {
    "papermill": {
     "duration": 0.033951,
     "end_time": "2022-12-23T09:44:22.805877",
     "exception": false,
     "start_time": "2022-12-23T09:44:22.771926",
     "status": "completed"
    },
    "tags": []
   },
   "source": [
    "\n",
    "## Population\n",
    "\n",
    "\n",
    "- Population estimates, July 1, 2016,  (V2016) - April 1, 2010,  (V2016)\n",
    "- Population, percent change - April 1, 2010 (estimates base) to July 1, 2016,  (V2016)\n",
    "- Population, Census, April 1, 2010\n",
    "\n",
    "\n",
    "## Age and Sex\n",
    "- Persons under 5 years, percent, July 1, 2016,  (V2016) - April 1, 2010\n",
    "- Persons under 18 years, percent, July 1, 2016,  (V2016) - April 1, 2010\n",
    "- Persons 65 years and over, percent,  July 1, 2016,  (V2016) - April 1, 2010\n",
    "- Female persons, percent,  July 1, 2016,  (V2016) - April 1, 2010\n",
    "\n",
    "\n",
    "\n",
    "## Race and Hispanic Origin\n",
    "- White alone, percent, July 1, 2016,  (V2016)\n",
    "- Black or African American alone, percent, July 1, 2016,  (V2016)\n",
    "- American Indian and Alaska Native alone, percent, July 1, 2016,  (V2016)\n",
    "- Asian alone, percent, July 1, 2016,  (V2016)\n",
    "- Native Hawaiian and Other Pacific Islander alone, percent, July 1, 2016,  (V2016)\n",
    "- Two or More Races, percent, July 1, 2016,  (V2016)\n",
    "- Hispanic or Latino, percent, July 1, 2016,  (V2016)\n",
    "- White alone, not Hispanic or Latino, percent, July 1, 2016,  (V2016)"
   ]
  },
  {
   "cell_type": "markdown",
   "id": "edaa2818",
   "metadata": {
    "papermill": {
     "duration": 0.032333,
     "end_time": "2022-12-23T09:44:22.872631",
     "exception": false,
     "start_time": "2022-12-23T09:44:22.840298",
     "status": "completed"
    },
    "tags": []
   },
   "source": [
    "\n",
    "## Families & Living Arrangements\n",
    "- Persons per household, 2011-2015\n",
    "- Living in same house 1 year ago, percent of persons age 1 year+, 2011-2015\n",
    "\n",
    "\n",
    "## Education\n",
    "- High school graduate or higher, percent of persons age 25 years+, 2011-2015\n",
    "- Bachelor's degree or higher, percent of persons age 25 years+, 2011-2015\n",
    "\n",
    "\n",
    "## Health\n",
    "- With a disability, under age 65 years, percent, 2011-2015"
   ]
  },
  {
   "cell_type": "markdown",
   "id": "163b5e73",
   "metadata": {
    "papermill": {
     "duration": 0.032281,
     "end_time": "2022-12-23T09:44:22.937512",
     "exception": false,
     "start_time": "2022-12-23T09:44:22.905231",
     "status": "completed"
    },
    "tags": []
   },
   "source": [
    "## Dataset location\n",
    "\n",
    "This helps me to locate what is in my directory so I can know how to read my files.\n",
    "The gun dataset is an excel file while the US census data is a comma separated value file"
   ]
  },
  {
   "cell_type": "code",
   "execution_count": 1,
   "id": "c2a04303",
   "metadata": {
    "execution": {
     "iopub.execute_input": "2022-12-23T09:44:23.007815Z",
     "iopub.status.busy": "2022-12-23T09:44:23.006468Z",
     "iopub.status.idle": "2022-12-23T09:44:24.131826Z",
     "shell.execute_reply": "2022-12-23T09:44:24.130572Z"
    },
    "papermill": {
     "duration": 1.163516,
     "end_time": "2022-12-23T09:44:24.134584",
     "exception": false,
     "start_time": "2022-12-23T09:44:22.971068",
     "status": "completed"
    },
    "tags": []
   },
   "outputs": [],
   "source": [
    "# import statements for all of the packages that I plan to use.\n",
    "\n",
    "\n",
    "import pandas as pd\n",
    "import numpy as np\n",
    "import matplotlib.pyplot as plt\n",
    "import seaborn as sns\n",
    "import os\n",
    "%matplotlib inline\n",
    "sns.set_style('darkgrid')\n"
   ]
  },
  {
   "cell_type": "code",
   "execution_count": 2,
   "id": "5f9de02e",
   "metadata": {
    "execution": {
     "iopub.execute_input": "2022-12-23T09:44:24.206733Z",
     "iopub.status.busy": "2022-12-23T09:44:24.205895Z",
     "iopub.status.idle": "2022-12-23T09:44:24.228575Z",
     "shell.execute_reply": "2022-12-23T09:44:24.227741Z"
    },
    "papermill": {
     "duration": 0.062682,
     "end_time": "2022-12-23T09:44:24.231302",
     "exception": false,
     "start_time": "2022-12-23T09:44:24.168620",
     "status": "completed"
    },
    "tags": []
   },
   "outputs": [
    {
     "name": "stdout",
     "output_type": "stream",
     "text": [
      "/kaggle/src/script.ipynb\n",
      "/kaggle/lib/kaggle/gcp.py\n",
      "/kaggle/input/gundata/gun-data.xlsx\n",
      "/kaggle/input/uscensus/u.s.-census-data.csv\n",
      "/kaggle/working/__notebook__.ipynb\n"
     ]
    }
   ],
   "source": [
    "for dirname, _, filenames in os.walk('/kaggle/'):\n",
    "    for filename in filenames:\n",
    "        print(os.path.join(dirname, filename))"
   ]
  },
  {
   "cell_type": "markdown",
   "id": "cf6644a3",
   "metadata": {
    "papermill": {
     "duration": 0.034126,
     "end_time": "2022-12-23T09:44:24.298837",
     "exception": false,
     "start_time": "2022-12-23T09:44:24.264711",
     "status": "completed"
    },
    "tags": []
   },
   "source": [
    "<a id='wrangling'></a>\n",
    "## Data Wrangling"
   ]
  },
  {
   "cell_type": "markdown",
   "id": "262390d1",
   "metadata": {
    "papermill": {
     "duration": 0.03608,
     "end_time": "2022-12-23T09:44:24.367746",
     "exception": false,
     "start_time": "2022-12-23T09:44:24.331666",
     "status": "completed"
    },
    "tags": []
   },
   "source": [
    "## Importing the data"
   ]
  },
  {
   "cell_type": "code",
   "execution_count": 3,
   "id": "1d20de8f",
   "metadata": {
    "execution": {
     "iopub.execute_input": "2022-12-23T09:44:24.437667Z",
     "iopub.status.busy": "2022-12-23T09:44:24.437248Z",
     "iopub.status.idle": "2022-12-23T09:44:28.060473Z",
     "shell.execute_reply": "2022-12-23T09:44:28.059097Z"
    },
    "papermill": {
     "duration": 3.664413,
     "end_time": "2022-12-23T09:44:28.066256",
     "exception": false,
     "start_time": "2022-12-23T09:44:24.401843",
     "status": "completed"
    },
    "tags": []
   },
   "outputs": [
    {
     "data": {
      "text/html": [
       "<div>\n",
       "<style scoped>\n",
       "    .dataframe tbody tr th:only-of-type {\n",
       "        vertical-align: middle;\n",
       "    }\n",
       "\n",
       "    .dataframe tbody tr th {\n",
       "        vertical-align: top;\n",
       "    }\n",
       "\n",
       "    .dataframe thead th {\n",
       "        text-align: right;\n",
       "    }\n",
       "</style>\n",
       "<table border=\"1\" class=\"dataframe\">\n",
       "  <thead>\n",
       "    <tr style=\"text-align: right;\">\n",
       "      <th></th>\n",
       "      <th>month</th>\n",
       "      <th>state</th>\n",
       "      <th>permit</th>\n",
       "      <th>permit_recheck</th>\n",
       "      <th>handgun</th>\n",
       "      <th>long_gun</th>\n",
       "      <th>other</th>\n",
       "      <th>multiple</th>\n",
       "      <th>admin</th>\n",
       "      <th>prepawn_handgun</th>\n",
       "      <th>...</th>\n",
       "      <th>returned_other</th>\n",
       "      <th>rentals_handgun</th>\n",
       "      <th>rentals_long_gun</th>\n",
       "      <th>private_sale_handgun</th>\n",
       "      <th>private_sale_long_gun</th>\n",
       "      <th>private_sale_other</th>\n",
       "      <th>return_to_seller_handgun</th>\n",
       "      <th>return_to_seller_long_gun</th>\n",
       "      <th>return_to_seller_other</th>\n",
       "      <th>totals</th>\n",
       "    </tr>\n",
       "  </thead>\n",
       "  <tbody>\n",
       "    <tr>\n",
       "      <th>0</th>\n",
       "      <td>2017-09</td>\n",
       "      <td>Alabama</td>\n",
       "      <td>16717.0</td>\n",
       "      <td>0.0</td>\n",
       "      <td>5734.0</td>\n",
       "      <td>6320.0</td>\n",
       "      <td>221.0</td>\n",
       "      <td>317</td>\n",
       "      <td>0.0</td>\n",
       "      <td>15.0</td>\n",
       "      <td>...</td>\n",
       "      <td>0.0</td>\n",
       "      <td>0.0</td>\n",
       "      <td>0.0</td>\n",
       "      <td>9.0</td>\n",
       "      <td>16.0</td>\n",
       "      <td>3.0</td>\n",
       "      <td>0.0</td>\n",
       "      <td>0.0</td>\n",
       "      <td>3.0</td>\n",
       "      <td>32019</td>\n",
       "    </tr>\n",
       "    <tr>\n",
       "      <th>1</th>\n",
       "      <td>2017-09</td>\n",
       "      <td>Alaska</td>\n",
       "      <td>209.0</td>\n",
       "      <td>2.0</td>\n",
       "      <td>2320.0</td>\n",
       "      <td>2930.0</td>\n",
       "      <td>219.0</td>\n",
       "      <td>160</td>\n",
       "      <td>0.0</td>\n",
       "      <td>5.0</td>\n",
       "      <td>...</td>\n",
       "      <td>0.0</td>\n",
       "      <td>0.0</td>\n",
       "      <td>0.0</td>\n",
       "      <td>17.0</td>\n",
       "      <td>24.0</td>\n",
       "      <td>1.0</td>\n",
       "      <td>0.0</td>\n",
       "      <td>0.0</td>\n",
       "      <td>0.0</td>\n",
       "      <td>6303</td>\n",
       "    </tr>\n",
       "    <tr>\n",
       "      <th>2</th>\n",
       "      <td>2017-09</td>\n",
       "      <td>Arizona</td>\n",
       "      <td>5069.0</td>\n",
       "      <td>382.0</td>\n",
       "      <td>11063.0</td>\n",
       "      <td>7946.0</td>\n",
       "      <td>920.0</td>\n",
       "      <td>631</td>\n",
       "      <td>0.0</td>\n",
       "      <td>13.0</td>\n",
       "      <td>...</td>\n",
       "      <td>0.0</td>\n",
       "      <td>0.0</td>\n",
       "      <td>0.0</td>\n",
       "      <td>38.0</td>\n",
       "      <td>12.0</td>\n",
       "      <td>2.0</td>\n",
       "      <td>0.0</td>\n",
       "      <td>0.0</td>\n",
       "      <td>0.0</td>\n",
       "      <td>28394</td>\n",
       "    </tr>\n",
       "  </tbody>\n",
       "</table>\n",
       "<p>3 rows × 27 columns</p>\n",
       "</div>"
      ],
      "text/plain": [
       "     month    state   permit  permit_recheck  handgun  long_gun  other  \\\n",
       "0  2017-09  Alabama  16717.0             0.0   5734.0    6320.0  221.0   \n",
       "1  2017-09   Alaska    209.0             2.0   2320.0    2930.0  219.0   \n",
       "2  2017-09  Arizona   5069.0           382.0  11063.0    7946.0  920.0   \n",
       "\n",
       "   multiple  admin  prepawn_handgun  ...  returned_other  rentals_handgun  \\\n",
       "0       317    0.0             15.0  ...             0.0              0.0   \n",
       "1       160    0.0              5.0  ...             0.0              0.0   \n",
       "2       631    0.0             13.0  ...             0.0              0.0   \n",
       "\n",
       "   rentals_long_gun  private_sale_handgun  private_sale_long_gun  \\\n",
       "0               0.0                   9.0                   16.0   \n",
       "1               0.0                  17.0                   24.0   \n",
       "2               0.0                  38.0                   12.0   \n",
       "\n",
       "   private_sale_other  return_to_seller_handgun  return_to_seller_long_gun  \\\n",
       "0                 3.0                       0.0                        0.0   \n",
       "1                 1.0                       0.0                        0.0   \n",
       "2                 2.0                       0.0                        0.0   \n",
       "\n",
       "   return_to_seller_other  totals  \n",
       "0                     3.0   32019  \n",
       "1                     0.0    6303  \n",
       "2                     0.0   28394  \n",
       "\n",
       "[3 rows x 27 columns]"
      ]
     },
     "execution_count": 3,
     "metadata": {},
     "output_type": "execute_result"
    }
   ],
   "source": [
    "gun_data = pd.read_excel('/kaggle/input/gundata/gun-data.xlsx')\n",
    "gun_data.head(3)"
   ]
  },
  {
   "cell_type": "code",
   "execution_count": 4,
   "id": "8a6492db",
   "metadata": {
    "execution": {
     "iopub.execute_input": "2022-12-23T09:44:28.140396Z",
     "iopub.status.busy": "2022-12-23T09:44:28.139973Z",
     "iopub.status.idle": "2022-12-23T09:44:28.179096Z",
     "shell.execute_reply": "2022-12-23T09:44:28.177847Z"
    },
    "papermill": {
     "duration": 0.078975,
     "end_time": "2022-12-23T09:44:28.181648",
     "exception": false,
     "start_time": "2022-12-23T09:44:28.102673",
     "status": "completed"
    },
    "tags": []
   },
   "outputs": [
    {
     "data": {
      "text/html": [
       "<div>\n",
       "<style scoped>\n",
       "    .dataframe tbody tr th:only-of-type {\n",
       "        vertical-align: middle;\n",
       "    }\n",
       "\n",
       "    .dataframe tbody tr th {\n",
       "        vertical-align: top;\n",
       "    }\n",
       "\n",
       "    .dataframe thead th {\n",
       "        text-align: right;\n",
       "    }\n",
       "</style>\n",
       "<table border=\"1\" class=\"dataframe\">\n",
       "  <thead>\n",
       "    <tr style=\"text-align: right;\">\n",
       "      <th></th>\n",
       "      <th>Fact</th>\n",
       "      <th>Fact Note</th>\n",
       "      <th>Alabama</th>\n",
       "      <th>Alaska</th>\n",
       "      <th>Arizona</th>\n",
       "      <th>Arkansas</th>\n",
       "      <th>California</th>\n",
       "      <th>Colorado</th>\n",
       "      <th>Connecticut</th>\n",
       "      <th>Delaware</th>\n",
       "      <th>...</th>\n",
       "      <th>South Dakota</th>\n",
       "      <th>Tennessee</th>\n",
       "      <th>Texas</th>\n",
       "      <th>Utah</th>\n",
       "      <th>Vermont</th>\n",
       "      <th>Virginia</th>\n",
       "      <th>Washington</th>\n",
       "      <th>West Virginia</th>\n",
       "      <th>Wisconsin</th>\n",
       "      <th>Wyoming</th>\n",
       "    </tr>\n",
       "  </thead>\n",
       "  <tbody>\n",
       "    <tr>\n",
       "      <th>0</th>\n",
       "      <td>Population estimates, July 1, 2016,  (V2016)</td>\n",
       "      <td>NaN</td>\n",
       "      <td>4,863,300</td>\n",
       "      <td>741,894</td>\n",
       "      <td>6,931,071</td>\n",
       "      <td>2,988,248</td>\n",
       "      <td>39,250,017</td>\n",
       "      <td>5,540,545</td>\n",
       "      <td>3,576,452</td>\n",
       "      <td>952,065</td>\n",
       "      <td>...</td>\n",
       "      <td>865454</td>\n",
       "      <td>6651194</td>\n",
       "      <td>27,862,596</td>\n",
       "      <td>3,051,217</td>\n",
       "      <td>624,594</td>\n",
       "      <td>8,411,808</td>\n",
       "      <td>7,288,000</td>\n",
       "      <td>1,831,102</td>\n",
       "      <td>5,778,708</td>\n",
       "      <td>585,501</td>\n",
       "    </tr>\n",
       "    <tr>\n",
       "      <th>1</th>\n",
       "      <td>Population estimates base, April 1, 2010,  (V2...</td>\n",
       "      <td>NaN</td>\n",
       "      <td>4,780,131</td>\n",
       "      <td>710,249</td>\n",
       "      <td>6,392,301</td>\n",
       "      <td>2,916,025</td>\n",
       "      <td>37,254,522</td>\n",
       "      <td>5,029,324</td>\n",
       "      <td>3,574,114</td>\n",
       "      <td>897,936</td>\n",
       "      <td>...</td>\n",
       "      <td>814195</td>\n",
       "      <td>6346298</td>\n",
       "      <td>25,146,100</td>\n",
       "      <td>2,763,888</td>\n",
       "      <td>625,741</td>\n",
       "      <td>8,001,041</td>\n",
       "      <td>6,724,545</td>\n",
       "      <td>1,853,011</td>\n",
       "      <td>5,687,289</td>\n",
       "      <td>563,767</td>\n",
       "    </tr>\n",
       "    <tr>\n",
       "      <th>2</th>\n",
       "      <td>Population, percent change - April 1, 2010 (es...</td>\n",
       "      <td>NaN</td>\n",
       "      <td>1.70%</td>\n",
       "      <td>4.50%</td>\n",
       "      <td>8.40%</td>\n",
       "      <td>2.50%</td>\n",
       "      <td>5.40%</td>\n",
       "      <td>10.20%</td>\n",
       "      <td>0.10%</td>\n",
       "      <td>6.00%</td>\n",
       "      <td>...</td>\n",
       "      <td>0.063</td>\n",
       "      <td>0.048</td>\n",
       "      <td>10.80%</td>\n",
       "      <td>10.40%</td>\n",
       "      <td>-0.20%</td>\n",
       "      <td>5.10%</td>\n",
       "      <td>8.40%</td>\n",
       "      <td>-1.20%</td>\n",
       "      <td>1.60%</td>\n",
       "      <td>3.90%</td>\n",
       "    </tr>\n",
       "  </tbody>\n",
       "</table>\n",
       "<p>3 rows × 52 columns</p>\n",
       "</div>"
      ],
      "text/plain": [
       "                                                Fact Fact Note    Alabama  \\\n",
       "0       Population estimates, July 1, 2016,  (V2016)       NaN  4,863,300   \n",
       "1  Population estimates base, April 1, 2010,  (V2...       NaN  4,780,131   \n",
       "2  Population, percent change - April 1, 2010 (es...       NaN      1.70%   \n",
       "\n",
       "    Alaska    Arizona   Arkansas  California   Colorado Connecticut Delaware  \\\n",
       "0  741,894  6,931,071  2,988,248  39,250,017  5,540,545   3,576,452  952,065   \n",
       "1  710,249  6,392,301  2,916,025  37,254,522  5,029,324   3,574,114  897,936   \n",
       "2    4.50%      8.40%      2.50%       5.40%     10.20%       0.10%    6.00%   \n",
       "\n",
       "   ... South Dakota Tennessee       Texas       Utah  Vermont   Virginia  \\\n",
       "0  ...       865454   6651194  27,862,596  3,051,217  624,594  8,411,808   \n",
       "1  ...       814195   6346298  25,146,100  2,763,888  625,741  8,001,041   \n",
       "2  ...        0.063     0.048      10.80%     10.40%   -0.20%      5.10%   \n",
       "\n",
       "  Washington West Virginia  Wisconsin  Wyoming  \n",
       "0  7,288,000     1,831,102  5,778,708  585,501  \n",
       "1  6,724,545     1,853,011  5,687,289  563,767  \n",
       "2      8.40%        -1.20%      1.60%    3.90%  \n",
       "\n",
       "[3 rows x 52 columns]"
      ]
     },
     "execution_count": 4,
     "metadata": {},
     "output_type": "execute_result"
    }
   ],
   "source": [
    "us_census = pd.read_csv('/kaggle/input/uscensus/u.s.-census-data.csv')\n",
    "us_census.head(3)"
   ]
  },
  {
   "cell_type": "markdown",
   "id": "7ecf1eb3",
   "metadata": {
    "papermill": {
     "duration": 0.035536,
     "end_time": "2022-12-23T09:44:28.250547",
     "exception": false,
     "start_time": "2022-12-23T09:44:28.215011",
     "status": "completed"
    },
    "tags": []
   },
   "source": [
    "## Checking the structure of the data"
   ]
  },
  {
   "cell_type": "code",
   "execution_count": 5,
   "id": "4295297c",
   "metadata": {
    "execution": {
     "iopub.execute_input": "2022-12-23T09:44:28.324756Z",
     "iopub.status.busy": "2022-12-23T09:44:28.324000Z",
     "iopub.status.idle": "2022-12-23T09:44:28.331146Z",
     "shell.execute_reply": "2022-12-23T09:44:28.329887Z"
    },
    "papermill": {
     "duration": 0.048219,
     "end_time": "2022-12-23T09:44:28.333837",
     "exception": false,
     "start_time": "2022-12-23T09:44:28.285618",
     "status": "completed"
    },
    "tags": []
   },
   "outputs": [
    {
     "data": {
      "text/plain": [
       "(12485, 27)"
      ]
     },
     "execution_count": 5,
     "metadata": {},
     "output_type": "execute_result"
    }
   ],
   "source": [
    "gun_data.shape"
   ]
  },
  {
   "cell_type": "code",
   "execution_count": 6,
   "id": "7218bb7f",
   "metadata": {
    "execution": {
     "iopub.execute_input": "2022-12-23T09:44:28.410187Z",
     "iopub.status.busy": "2022-12-23T09:44:28.409797Z",
     "iopub.status.idle": "2022-12-23T09:44:28.418686Z",
     "shell.execute_reply": "2022-12-23T09:44:28.417230Z"
    },
    "papermill": {
     "duration": 0.049498,
     "end_time": "2022-12-23T09:44:28.421291",
     "exception": false,
     "start_time": "2022-12-23T09:44:28.371793",
     "status": "completed"
    },
    "tags": []
   },
   "outputs": [
    {
     "data": {
      "text/plain": [
       "(85, 52)"
      ]
     },
     "execution_count": 6,
     "metadata": {},
     "output_type": "execute_result"
    }
   ],
   "source": [
    "us_census.shape"
   ]
  },
  {
   "cell_type": "markdown",
   "id": "b1fbc20c",
   "metadata": {
    "papermill": {
     "duration": 0.033744,
     "end_time": "2022-12-23T09:44:28.491087",
     "exception": false,
     "start_time": "2022-12-23T09:44:28.457343",
     "status": "completed"
    },
    "tags": []
   },
   "source": [
    "## Checking for the datatypes and the null values"
   ]
  },
  {
   "cell_type": "code",
   "execution_count": 7,
   "id": "bfafe6cf",
   "metadata": {
    "execution": {
     "iopub.execute_input": "2022-12-23T09:44:28.565791Z",
     "iopub.status.busy": "2022-12-23T09:44:28.565396Z",
     "iopub.status.idle": "2022-12-23T09:44:28.592185Z",
     "shell.execute_reply": "2022-12-23T09:44:28.590960Z"
    },
    "papermill": {
     "duration": 0.065921,
     "end_time": "2022-12-23T09:44:28.595196",
     "exception": false,
     "start_time": "2022-12-23T09:44:28.529275",
     "status": "completed"
    },
    "tags": []
   },
   "outputs": [
    {
     "name": "stdout",
     "output_type": "stream",
     "text": [
      "<class 'pandas.core.frame.DataFrame'>\n",
      "RangeIndex: 12485 entries, 0 to 12484\n",
      "Data columns (total 27 columns):\n",
      " #   Column                     Non-Null Count  Dtype  \n",
      "---  ------                     --------------  -----  \n",
      " 0   month                      12485 non-null  object \n",
      " 1   state                      12485 non-null  object \n",
      " 2   permit                     12461 non-null  float64\n",
      " 3   permit_recheck             1100 non-null   float64\n",
      " 4   handgun                    12465 non-null  float64\n",
      " 5   long_gun                   12466 non-null  float64\n",
      " 6   other                      5500 non-null   float64\n",
      " 7   multiple                   12485 non-null  int64  \n",
      " 8   admin                      12462 non-null  float64\n",
      " 9   prepawn_handgun            10542 non-null  float64\n",
      " 10  prepawn_long_gun           10540 non-null  float64\n",
      " 11  prepawn_other              5115 non-null   float64\n",
      " 12  redemption_handgun         10545 non-null  float64\n",
      " 13  redemption_long_gun        10544 non-null  float64\n",
      " 14  redemption_other           5115 non-null   float64\n",
      " 15  returned_handgun           2200 non-null   float64\n",
      " 16  returned_long_gun          2145 non-null   float64\n",
      " 17  returned_other             1815 non-null   float64\n",
      " 18  rentals_handgun            990 non-null    float64\n",
      " 19  rentals_long_gun           825 non-null    float64\n",
      " 20  private_sale_handgun       2750 non-null   float64\n",
      " 21  private_sale_long_gun      2750 non-null   float64\n",
      " 22  private_sale_other         2750 non-null   float64\n",
      " 23  return_to_seller_handgun   2475 non-null   float64\n",
      " 24  return_to_seller_long_gun  2750 non-null   float64\n",
      " 25  return_to_seller_other     2255 non-null   float64\n",
      " 26  totals                     12485 non-null  int64  \n",
      "dtypes: float64(23), int64(2), object(2)\n",
      "memory usage: 2.6+ MB\n"
     ]
    }
   ],
   "source": [
    "gun_data.info()"
   ]
  },
  {
   "cell_type": "code",
   "execution_count": 8,
   "id": "0f1e75a8",
   "metadata": {
    "execution": {
     "iopub.execute_input": "2022-12-23T09:44:28.666206Z",
     "iopub.status.busy": "2022-12-23T09:44:28.665822Z",
     "iopub.status.idle": "2022-12-23T09:44:28.682394Z",
     "shell.execute_reply": "2022-12-23T09:44:28.680798Z"
    },
    "papermill": {
     "duration": 0.05495,
     "end_time": "2022-12-23T09:44:28.685606",
     "exception": false,
     "start_time": "2022-12-23T09:44:28.630656",
     "status": "completed"
    },
    "tags": []
   },
   "outputs": [
    {
     "name": "stdout",
     "output_type": "stream",
     "text": [
      "<class 'pandas.core.frame.DataFrame'>\n",
      "RangeIndex: 85 entries, 0 to 84\n",
      "Data columns (total 52 columns):\n",
      " #   Column          Non-Null Count  Dtype \n",
      "---  ------          --------------  ----- \n",
      " 0   Fact            80 non-null     object\n",
      " 1   Fact Note       28 non-null     object\n",
      " 2   Alabama         65 non-null     object\n",
      " 3   Alaska          65 non-null     object\n",
      " 4   Arizona         65 non-null     object\n",
      " 5   Arkansas        65 non-null     object\n",
      " 6   California      65 non-null     object\n",
      " 7   Colorado        65 non-null     object\n",
      " 8   Connecticut     65 non-null     object\n",
      " 9   Delaware        65 non-null     object\n",
      " 10  Florida         65 non-null     object\n",
      " 11  Georgia         65 non-null     object\n",
      " 12  Hawaii          65 non-null     object\n",
      " 13  Idaho           65 non-null     object\n",
      " 14  Illinois        65 non-null     object\n",
      " 15  Indiana         65 non-null     object\n",
      " 16  Iowa            65 non-null     object\n",
      " 17  Kansas          65 non-null     object\n",
      " 18  Kentucky        65 non-null     object\n",
      " 19  Louisiana       65 non-null     object\n",
      " 20  Maine           65 non-null     object\n",
      " 21  Maryland        65 non-null     object\n",
      " 22  Massachusetts   65 non-null     object\n",
      " 23  Michigan        65 non-null     object\n",
      " 24  Minnesota       65 non-null     object\n",
      " 25  Mississippi     65 non-null     object\n",
      " 26  Missouri        65 non-null     object\n",
      " 27  Montana         65 non-null     object\n",
      " 28  Nebraska        65 non-null     object\n",
      " 29  Nevada          65 non-null     object\n",
      " 30  New Hampshire   65 non-null     object\n",
      " 31  New Jersey      65 non-null     object\n",
      " 32  New Mexico      65 non-null     object\n",
      " 33  New York        65 non-null     object\n",
      " 34  North Carolina  65 non-null     object\n",
      " 35  North Dakota    65 non-null     object\n",
      " 36  Ohio            65 non-null     object\n",
      " 37  Oklahoma        65 non-null     object\n",
      " 38  Oregon          65 non-null     object\n",
      " 39  Pennsylvania    65 non-null     object\n",
      " 40  Rhode Island    65 non-null     object\n",
      " 41  South Carolina  65 non-null     object\n",
      " 42  South Dakota    65 non-null     object\n",
      " 43  Tennessee       65 non-null     object\n",
      " 44  Texas           65 non-null     object\n",
      " 45  Utah            65 non-null     object\n",
      " 46  Vermont         65 non-null     object\n",
      " 47  Virginia        65 non-null     object\n",
      " 48  Washington      65 non-null     object\n",
      " 49  West Virginia   65 non-null     object\n",
      " 50  Wisconsin       65 non-null     object\n",
      " 51  Wyoming         65 non-null     object\n",
      "dtypes: object(52)\n",
      "memory usage: 34.7+ KB\n"
     ]
    }
   ],
   "source": [
    "us_census.info()"
   ]
  },
  {
   "cell_type": "markdown",
   "id": "206a047e",
   "metadata": {
    "papermill": {
     "duration": 0.035066,
     "end_time": "2022-12-23T09:44:28.756217",
     "exception": false,
     "start_time": "2022-12-23T09:44:28.721151",
     "status": "completed"
    },
    "tags": []
   },
   "source": [
    "### Checking the Columns for the data"
   ]
  },
  {
   "cell_type": "code",
   "execution_count": 9,
   "id": "a58cf31b",
   "metadata": {
    "execution": {
     "iopub.execute_input": "2022-12-23T09:44:28.828706Z",
     "iopub.status.busy": "2022-12-23T09:44:28.828262Z",
     "iopub.status.idle": "2022-12-23T09:44:28.835098Z",
     "shell.execute_reply": "2022-12-23T09:44:28.834221Z"
    },
    "papermill": {
     "duration": 0.046025,
     "end_time": "2022-12-23T09:44:28.837491",
     "exception": false,
     "start_time": "2022-12-23T09:44:28.791466",
     "status": "completed"
    },
    "tags": []
   },
   "outputs": [
    {
     "data": {
      "text/plain": [
       "Index(['month', 'state', 'permit', 'permit_recheck', 'handgun', 'long_gun',\n",
       "       'other', 'multiple', 'admin', 'prepawn_handgun', 'prepawn_long_gun',\n",
       "       'prepawn_other', 'redemption_handgun', 'redemption_long_gun',\n",
       "       'redemption_other', 'returned_handgun', 'returned_long_gun',\n",
       "       'returned_other', 'rentals_handgun', 'rentals_long_gun',\n",
       "       'private_sale_handgun', 'private_sale_long_gun', 'private_sale_other',\n",
       "       'return_to_seller_handgun', 'return_to_seller_long_gun',\n",
       "       'return_to_seller_other', 'totals'],\n",
       "      dtype='object')"
      ]
     },
     "execution_count": 9,
     "metadata": {},
     "output_type": "execute_result"
    }
   ],
   "source": [
    "gun_data.columns"
   ]
  },
  {
   "cell_type": "code",
   "execution_count": 10,
   "id": "a12b6528",
   "metadata": {
    "execution": {
     "iopub.execute_input": "2022-12-23T09:44:28.910841Z",
     "iopub.status.busy": "2022-12-23T09:44:28.910419Z",
     "iopub.status.idle": "2022-12-23T09:44:28.917821Z",
     "shell.execute_reply": "2022-12-23T09:44:28.916718Z"
    },
    "papermill": {
     "duration": 0.046366,
     "end_time": "2022-12-23T09:44:28.920214",
     "exception": false,
     "start_time": "2022-12-23T09:44:28.873848",
     "status": "completed"
    },
    "tags": []
   },
   "outputs": [
    {
     "data": {
      "text/plain": [
       "Index(['Fact', 'Fact Note', 'Alabama', 'Alaska', 'Arizona', 'Arkansas',\n",
       "       'California', 'Colorado', 'Connecticut', 'Delaware', 'Florida',\n",
       "       'Georgia', 'Hawaii', 'Idaho', 'Illinois', 'Indiana', 'Iowa', 'Kansas',\n",
       "       'Kentucky', 'Louisiana', 'Maine', 'Maryland', 'Massachusetts',\n",
       "       'Michigan', 'Minnesota', 'Mississippi', 'Missouri', 'Montana',\n",
       "       'Nebraska', 'Nevada', 'New Hampshire', 'New Jersey', 'New Mexico',\n",
       "       'New York', 'North Carolina', 'North Dakota', 'Ohio', 'Oklahoma',\n",
       "       'Oregon', 'Pennsylvania', 'Rhode Island', 'South Carolina',\n",
       "       'South Dakota', 'Tennessee', 'Texas', 'Utah', 'Vermont', 'Virginia',\n",
       "       'Washington', 'West Virginia', 'Wisconsin', 'Wyoming'],\n",
       "      dtype='object')"
      ]
     },
     "execution_count": 10,
     "metadata": {},
     "output_type": "execute_result"
    }
   ],
   "source": [
    "us_census.columns"
   ]
  },
  {
   "cell_type": "markdown",
   "id": "3c0aa768",
   "metadata": {
    "papermill": {
     "duration": 0.03616,
     "end_time": "2022-12-23T09:44:28.992307",
     "exception": false,
     "start_time": "2022-12-23T09:44:28.956147",
     "status": "completed"
    },
    "tags": []
   },
   "source": [
    "### Check for missing / null values"
   ]
  },
  {
   "cell_type": "code",
   "execution_count": 11,
   "id": "c7a7fec4",
   "metadata": {
    "execution": {
     "iopub.execute_input": "2022-12-23T09:44:29.065115Z",
     "iopub.status.busy": "2022-12-23T09:44:29.064713Z",
     "iopub.status.idle": "2022-12-23T09:44:29.076024Z",
     "shell.execute_reply": "2022-12-23T09:44:29.074752Z"
    },
    "papermill": {
     "duration": 0.050242,
     "end_time": "2022-12-23T09:44:29.078522",
     "exception": false,
     "start_time": "2022-12-23T09:44:29.028280",
     "status": "completed"
    },
    "tags": []
   },
   "outputs": [
    {
     "data": {
      "text/plain": [
       "month                            0\n",
       "state                            0\n",
       "permit                          24\n",
       "permit_recheck               11385\n",
       "handgun                         20\n",
       "long_gun                        19\n",
       "other                         6985\n",
       "multiple                         0\n",
       "admin                           23\n",
       "prepawn_handgun               1943\n",
       "prepawn_long_gun              1945\n",
       "prepawn_other                 7370\n",
       "redemption_handgun            1940\n",
       "redemption_long_gun           1941\n",
       "redemption_other              7370\n",
       "returned_handgun             10285\n",
       "returned_long_gun            10340\n",
       "returned_other               10670\n",
       "rentals_handgun              11495\n",
       "rentals_long_gun             11660\n",
       "private_sale_handgun          9735\n",
       "private_sale_long_gun         9735\n",
       "private_sale_other            9735\n",
       "return_to_seller_handgun     10010\n",
       "return_to_seller_long_gun     9735\n",
       "return_to_seller_other       10230\n",
       "totals                           0\n",
       "dtype: int64"
      ]
     },
     "execution_count": 11,
     "metadata": {},
     "output_type": "execute_result"
    }
   ],
   "source": [
    "gun_data.isnull().sum()"
   ]
  },
  {
   "cell_type": "code",
   "execution_count": 12,
   "id": "6faad6cf",
   "metadata": {
    "execution": {
     "iopub.execute_input": "2022-12-23T09:44:29.154515Z",
     "iopub.status.busy": "2022-12-23T09:44:29.154062Z",
     "iopub.status.idle": "2022-12-23T09:44:29.164484Z",
     "shell.execute_reply": "2022-12-23T09:44:29.163483Z"
    },
    "papermill": {
     "duration": 0.052328,
     "end_time": "2022-12-23T09:44:29.166724",
     "exception": false,
     "start_time": "2022-12-23T09:44:29.114396",
     "status": "completed"
    },
    "tags": []
   },
   "outputs": [
    {
     "data": {
      "text/plain": [
       "Fact               5\n",
       "Fact Note         57\n",
       "Alabama           20\n",
       "Alaska            20\n",
       "Arizona           20\n",
       "Arkansas          20\n",
       "California        20\n",
       "Colorado          20\n",
       "Connecticut       20\n",
       "Delaware          20\n",
       "Florida           20\n",
       "Georgia           20\n",
       "Hawaii            20\n",
       "Idaho             20\n",
       "Illinois          20\n",
       "Indiana           20\n",
       "Iowa              20\n",
       "Kansas            20\n",
       "Kentucky          20\n",
       "Louisiana         20\n",
       "Maine             20\n",
       "Maryland          20\n",
       "Massachusetts     20\n",
       "Michigan          20\n",
       "Minnesota         20\n",
       "Mississippi       20\n",
       "Missouri          20\n",
       "Montana           20\n",
       "Nebraska          20\n",
       "Nevada            20\n",
       "New Hampshire     20\n",
       "New Jersey        20\n",
       "New Mexico        20\n",
       "New York          20\n",
       "North Carolina    20\n",
       "North Dakota      20\n",
       "Ohio              20\n",
       "Oklahoma          20\n",
       "Oregon            20\n",
       "Pennsylvania      20\n",
       "Rhode Island      20\n",
       "South Carolina    20\n",
       "South Dakota      20\n",
       "Tennessee         20\n",
       "Texas             20\n",
       "Utah              20\n",
       "Vermont           20\n",
       "Virginia          20\n",
       "Washington        20\n",
       "West Virginia     20\n",
       "Wisconsin         20\n",
       "Wyoming           20\n",
       "dtype: int64"
      ]
     },
     "execution_count": 12,
     "metadata": {},
     "output_type": "execute_result"
    }
   ],
   "source": [
    "us_census.isnull().sum()"
   ]
  },
  {
   "cell_type": "markdown",
   "id": "a9a525e2",
   "metadata": {
    "papermill": {
     "duration": 0.03991,
     "end_time": "2022-12-23T09:44:29.242978",
     "exception": false,
     "start_time": "2022-12-23T09:44:29.203068",
     "status": "completed"
    },
    "tags": []
   },
   "source": [
    "\n",
    "## Data Cleaning "
   ]
  },
  {
   "cell_type": "markdown",
   "id": "3137d564",
   "metadata": {
    "papermill": {
     "duration": 0.035177,
     "end_time": "2022-12-23T09:44:29.313898",
     "exception": false,
     "start_time": "2022-12-23T09:44:29.278721",
     "status": "completed"
    },
    "tags": []
   },
   "source": [
    "### checking for duplicates in the data"
   ]
  },
  {
   "cell_type": "code",
   "execution_count": 13,
   "id": "aa73cb58",
   "metadata": {
    "execution": {
     "iopub.execute_input": "2022-12-23T09:44:29.387412Z",
     "iopub.status.busy": "2022-12-23T09:44:29.386983Z",
     "iopub.status.idle": "2022-12-23T09:44:29.413133Z",
     "shell.execute_reply": "2022-12-23T09:44:29.411944Z"
    },
    "papermill": {
     "duration": 0.067632,
     "end_time": "2022-12-23T09:44:29.416914",
     "exception": false,
     "start_time": "2022-12-23T09:44:29.349282",
     "status": "completed"
    },
    "tags": []
   },
   "outputs": [
    {
     "data": {
      "text/plain": [
       "0"
      ]
     },
     "execution_count": 13,
     "metadata": {},
     "output_type": "execute_result"
    }
   ],
   "source": [
    "gun_data.duplicated().sum()"
   ]
  },
  {
   "cell_type": "code",
   "execution_count": 14,
   "id": "d9a1eec8",
   "metadata": {
    "execution": {
     "iopub.execute_input": "2022-12-23T09:44:29.494410Z",
     "iopub.status.busy": "2022-12-23T09:44:29.493987Z",
     "iopub.status.idle": "2022-12-23T09:44:29.507707Z",
     "shell.execute_reply": "2022-12-23T09:44:29.506562Z"
    },
    "papermill": {
     "duration": 0.053815,
     "end_time": "2022-12-23T09:44:29.510204",
     "exception": false,
     "start_time": "2022-12-23T09:44:29.456389",
     "status": "completed"
    },
    "tags": []
   },
   "outputs": [
    {
     "data": {
      "text/plain": [
       "3"
      ]
     },
     "execution_count": 14,
     "metadata": {},
     "output_type": "execute_result"
    }
   ],
   "source": [
    "us_census.duplicated().sum()"
   ]
  },
  {
   "cell_type": "markdown",
   "id": "49f6fe2f",
   "metadata": {
    "papermill": {
     "duration": 0.036026,
     "end_time": "2022-12-23T09:44:29.583123",
     "exception": false,
     "start_time": "2022-12-23T09:44:29.547097",
     "status": "completed"
    },
    "tags": []
   },
   "source": [
    "the gun data has no duplicates but the census data has three duplicate data so I will be dropping the duplicate values"
   ]
  },
  {
   "cell_type": "markdown",
   "id": "0c3dbb24",
   "metadata": {
    "papermill": {
     "duration": 0.03609,
     "end_time": "2022-12-23T09:44:29.655639",
     "exception": false,
     "start_time": "2022-12-23T09:44:29.619549",
     "status": "completed"
    },
    "tags": []
   },
   "source": [
    "### Removing Duplicates"
   ]
  },
  {
   "cell_type": "code",
   "execution_count": 15,
   "id": "c30117e2",
   "metadata": {
    "execution": {
     "iopub.execute_input": "2022-12-23T09:44:29.731151Z",
     "iopub.status.busy": "2022-12-23T09:44:29.730763Z",
     "iopub.status.idle": "2022-12-23T09:44:29.742799Z",
     "shell.execute_reply": "2022-12-23T09:44:29.741468Z"
    },
    "papermill": {
     "duration": 0.053149,
     "end_time": "2022-12-23T09:44:29.745665",
     "exception": false,
     "start_time": "2022-12-23T09:44:29.692516",
     "status": "completed"
    },
    "tags": []
   },
   "outputs": [],
   "source": [
    "us_census.drop_duplicates(inplace = True)"
   ]
  },
  {
   "cell_type": "markdown",
   "id": "87c34db1",
   "metadata": {
    "papermill": {
     "duration": 0.036544,
     "end_time": "2022-12-23T09:44:29.820229",
     "exception": false,
     "start_time": "2022-12-23T09:44:29.783685",
     "status": "completed"
    },
    "tags": []
   },
   "source": [
    "### Crosschecking the duplicate "
   ]
  },
  {
   "cell_type": "code",
   "execution_count": 16,
   "id": "2a5e3ac0",
   "metadata": {
    "execution": {
     "iopub.execute_input": "2022-12-23T09:44:29.895799Z",
     "iopub.status.busy": "2022-12-23T09:44:29.895354Z",
     "iopub.status.idle": "2022-12-23T09:44:29.913277Z",
     "shell.execute_reply": "2022-12-23T09:44:29.912157Z"
    },
    "papermill": {
     "duration": 0.058721,
     "end_time": "2022-12-23T09:44:29.915726",
     "exception": false,
     "start_time": "2022-12-23T09:44:29.857005",
     "status": "completed"
    },
    "tags": []
   },
   "outputs": [
    {
     "data": {
      "text/plain": [
       "0"
      ]
     },
     "execution_count": 16,
     "metadata": {},
     "output_type": "execute_result"
    }
   ],
   "source": [
    "us_census.duplicated().sum()"
   ]
  },
  {
   "cell_type": "markdown",
   "id": "c5507923",
   "metadata": {
    "papermill": {
     "duration": 0.035264,
     "end_time": "2022-12-23T09:44:29.986815",
     "exception": false,
     "start_time": "2022-12-23T09:44:29.951551",
     "status": "completed"
    },
    "tags": []
   },
   "source": [
    "## Checking the number of unique US State in the data"
   ]
  },
  {
   "cell_type": "code",
   "execution_count": 17,
   "id": "b72a8b79",
   "metadata": {
    "execution": {
     "iopub.execute_input": "2022-12-23T09:44:30.061929Z",
     "iopub.status.busy": "2022-12-23T09:44:30.061478Z",
     "iopub.status.idle": "2022-12-23T09:44:30.069561Z",
     "shell.execute_reply": "2022-12-23T09:44:30.068410Z"
    },
    "papermill": {
     "duration": 0.048672,
     "end_time": "2022-12-23T09:44:30.071921",
     "exception": false,
     "start_time": "2022-12-23T09:44:30.023249",
     "status": "completed"
    },
    "tags": []
   },
   "outputs": [
    {
     "data": {
      "text/plain": [
       "55"
      ]
     },
     "execution_count": 17,
     "metadata": {},
     "output_type": "execute_result"
    }
   ],
   "source": [
    "gun_data['state'].nunique()"
   ]
  },
  {
   "cell_type": "markdown",
   "id": "99209f9d",
   "metadata": {
    "papermill": {
     "duration": 0.035799,
     "end_time": "2022-12-23T09:44:30.145444",
     "exception": false,
     "start_time": "2022-12-23T09:44:30.109645",
     "status": "completed"
    },
    "tags": []
   },
   "source": [
    "#### USA has 50 state as seen from [here](https://www.nationsonline.org/oneworld/US-states-by-area.htm). I extracted the states that are currently not classified as a state in the US"
   ]
  },
  {
   "cell_type": "code",
   "execution_count": 18,
   "id": "0375c86b",
   "metadata": {
    "execution": {
     "iopub.execute_input": "2022-12-23T09:44:30.219221Z",
     "iopub.status.busy": "2022-12-23T09:44:30.218788Z",
     "iopub.status.idle": "2022-12-23T09:44:30.226727Z",
     "shell.execute_reply": "2022-12-23T09:44:30.225269Z"
    },
    "papermill": {
     "duration": 0.049079,
     "end_time": "2022-12-23T09:44:30.229782",
     "exception": false,
     "start_time": "2022-12-23T09:44:30.180703",
     "status": "completed"
    },
    "tags": []
   },
   "outputs": [
    {
     "data": {
      "text/plain": [
       "['District of Columbia',\n",
       " 'Guam',\n",
       " 'Mariana Islands',\n",
       " 'Puerto Rico',\n",
       " 'Virgin Islands']"
      ]
     },
     "execution_count": 18,
     "metadata": {},
     "output_type": "execute_result"
    }
   ],
   "source": [
    "not_us = ['District of Columbia','Guam', 'Mariana Islands', 'Puerto Rico', 'Virgin Islands']\n",
    "not_us"
   ]
  },
  {
   "cell_type": "markdown",
   "id": "1404ce71",
   "metadata": {
    "execution": {
     "iopub.execute_input": "2022-12-20T00:33:47.246945Z",
     "iopub.status.busy": "2022-12-20T00:33:47.246451Z",
     "iopub.status.idle": "2022-12-20T00:33:47.252428Z",
     "shell.execute_reply": "2022-12-20T00:33:47.251213Z",
     "shell.execute_reply.started": "2022-12-20T00:33:47.246898Z"
    },
    "papermill": {
     "duration": 0.035486,
     "end_time": "2022-12-23T09:44:30.301122",
     "exception": false,
     "start_time": "2022-12-23T09:44:30.265636",
     "status": "completed"
    },
    "tags": []
   },
   "source": [
    "## Dropping a column"
   ]
  },
  {
   "cell_type": "code",
   "execution_count": 19,
   "id": "b3cdcf9a",
   "metadata": {
    "execution": {
     "iopub.execute_input": "2022-12-23T09:44:30.378699Z",
     "iopub.status.busy": "2022-12-23T09:44:30.377400Z",
     "iopub.status.idle": "2022-12-23T09:44:30.405237Z",
     "shell.execute_reply": "2022-12-23T09:44:30.403636Z"
    },
    "papermill": {
     "duration": 0.06952,
     "end_time": "2022-12-23T09:44:30.408323",
     "exception": false,
     "start_time": "2022-12-23T09:44:30.338803",
     "status": "completed"
    },
    "tags": []
   },
   "outputs": [
    {
     "data": {
      "text/html": [
       "<div>\n",
       "<style scoped>\n",
       "    .dataframe tbody tr th:only-of-type {\n",
       "        vertical-align: middle;\n",
       "    }\n",
       "\n",
       "    .dataframe tbody tr th {\n",
       "        vertical-align: top;\n",
       "    }\n",
       "\n",
       "    .dataframe thead th {\n",
       "        text-align: right;\n",
       "    }\n",
       "</style>\n",
       "<table border=\"1\" class=\"dataframe\">\n",
       "  <thead>\n",
       "    <tr style=\"text-align: right;\">\n",
       "      <th></th>\n",
       "      <th>Fact</th>\n",
       "      <th>Alabama</th>\n",
       "      <th>Alaska</th>\n",
       "      <th>Arizona</th>\n",
       "      <th>Arkansas</th>\n",
       "      <th>California</th>\n",
       "      <th>Colorado</th>\n",
       "      <th>Connecticut</th>\n",
       "      <th>Delaware</th>\n",
       "      <th>Florida</th>\n",
       "      <th>...</th>\n",
       "      <th>South Dakota</th>\n",
       "      <th>Tennessee</th>\n",
       "      <th>Texas</th>\n",
       "      <th>Utah</th>\n",
       "      <th>Vermont</th>\n",
       "      <th>Virginia</th>\n",
       "      <th>Washington</th>\n",
       "      <th>West Virginia</th>\n",
       "      <th>Wisconsin</th>\n",
       "      <th>Wyoming</th>\n",
       "    </tr>\n",
       "  </thead>\n",
       "  <tbody>\n",
       "    <tr>\n",
       "      <th>0</th>\n",
       "      <td>Population estimates, July 1, 2016,  (V2016)</td>\n",
       "      <td>4,863,300</td>\n",
       "      <td>741,894</td>\n",
       "      <td>6,931,071</td>\n",
       "      <td>2,988,248</td>\n",
       "      <td>39,250,017</td>\n",
       "      <td>5,540,545</td>\n",
       "      <td>3,576,452</td>\n",
       "      <td>952,065</td>\n",
       "      <td>20,612,439</td>\n",
       "      <td>...</td>\n",
       "      <td>865454</td>\n",
       "      <td>6651194</td>\n",
       "      <td>27,862,596</td>\n",
       "      <td>3,051,217</td>\n",
       "      <td>624,594</td>\n",
       "      <td>8,411,808</td>\n",
       "      <td>7,288,000</td>\n",
       "      <td>1,831,102</td>\n",
       "      <td>5,778,708</td>\n",
       "      <td>585,501</td>\n",
       "    </tr>\n",
       "    <tr>\n",
       "      <th>1</th>\n",
       "      <td>Population estimates base, April 1, 2010,  (V2...</td>\n",
       "      <td>4,780,131</td>\n",
       "      <td>710,249</td>\n",
       "      <td>6,392,301</td>\n",
       "      <td>2,916,025</td>\n",
       "      <td>37,254,522</td>\n",
       "      <td>5,029,324</td>\n",
       "      <td>3,574,114</td>\n",
       "      <td>897,936</td>\n",
       "      <td>18,804,592</td>\n",
       "      <td>...</td>\n",
       "      <td>814195</td>\n",
       "      <td>6346298</td>\n",
       "      <td>25,146,100</td>\n",
       "      <td>2,763,888</td>\n",
       "      <td>625,741</td>\n",
       "      <td>8,001,041</td>\n",
       "      <td>6,724,545</td>\n",
       "      <td>1,853,011</td>\n",
       "      <td>5,687,289</td>\n",
       "      <td>563,767</td>\n",
       "    </tr>\n",
       "  </tbody>\n",
       "</table>\n",
       "<p>2 rows × 51 columns</p>\n",
       "</div>"
      ],
      "text/plain": [
       "                                                Fact    Alabama   Alaska  \\\n",
       "0       Population estimates, July 1, 2016,  (V2016)  4,863,300  741,894   \n",
       "1  Population estimates base, April 1, 2010,  (V2...  4,780,131  710,249   \n",
       "\n",
       "     Arizona   Arkansas  California   Colorado Connecticut Delaware  \\\n",
       "0  6,931,071  2,988,248  39,250,017  5,540,545   3,576,452  952,065   \n",
       "1  6,392,301  2,916,025  37,254,522  5,029,324   3,574,114  897,936   \n",
       "\n",
       "      Florida  ... South Dakota Tennessee       Texas       Utah  Vermont  \\\n",
       "0  20,612,439  ...       865454   6651194  27,862,596  3,051,217  624,594   \n",
       "1  18,804,592  ...       814195   6346298  25,146,100  2,763,888  625,741   \n",
       "\n",
       "    Virginia Washington West Virginia  Wisconsin  Wyoming  \n",
       "0  8,411,808  7,288,000     1,831,102  5,778,708  585,501  \n",
       "1  8,001,041  6,724,545     1,853,011  5,687,289  563,767  \n",
       "\n",
       "[2 rows x 51 columns]"
      ]
     },
     "execution_count": 19,
     "metadata": {},
     "output_type": "execute_result"
    }
   ],
   "source": [
    "# Dropping the factnote column as it is not needed in this analysis\n",
    "\n",
    "us_census.drop('Fact Note', axis = 1, inplace = True)\n",
    "us_census.head(2)"
   ]
  },
  {
   "cell_type": "markdown",
   "id": "855e79e9",
   "metadata": {
    "papermill": {
     "duration": 0.038036,
     "end_time": "2022-12-23T09:44:30.483880",
     "exception": false,
     "start_time": "2022-12-23T09:44:30.445844",
     "status": "completed"
    },
    "tags": []
   },
   "source": [
    "### Transposing the data structure\n",
    "\n",
    "since the US data has states as columns, i will like to make it rows so I can later join it with the gun dataset."
   ]
  },
  {
   "cell_type": "code",
   "execution_count": 20,
   "id": "5da3277c",
   "metadata": {
    "execution": {
     "iopub.execute_input": "2022-12-23T09:44:30.561710Z",
     "iopub.status.busy": "2022-12-23T09:44:30.561317Z",
     "iopub.status.idle": "2022-12-23T09:44:30.569185Z",
     "shell.execute_reply": "2022-12-23T09:44:30.568023Z"
    },
    "papermill": {
     "duration": 0.051079,
     "end_time": "2022-12-23T09:44:30.571945",
     "exception": false,
     "start_time": "2022-12-23T09:44:30.520866",
     "status": "completed"
    },
    "tags": []
   },
   "outputs": [
    {
     "data": {
      "text/plain": [
       "Index(['Fact', 'Alabama', 'Alaska', 'Arizona', 'Arkansas', 'California',\n",
       "       'Colorado', 'Connecticut', 'Delaware', 'Florida', 'Georgia', 'Hawaii',\n",
       "       'Idaho', 'Illinois', 'Indiana', 'Iowa', 'Kansas', 'Kentucky',\n",
       "       'Louisiana', 'Maine', 'Maryland', 'Massachusetts', 'Michigan',\n",
       "       'Minnesota', 'Mississippi', 'Missouri', 'Montana', 'Nebraska', 'Nevada',\n",
       "       'New Hampshire', 'New Jersey', 'New Mexico', 'New York',\n",
       "       'North Carolina', 'North Dakota', 'Ohio', 'Oklahoma', 'Oregon',\n",
       "       'Pennsylvania', 'Rhode Island', 'South Carolina', 'South Dakota',\n",
       "       'Tennessee', 'Texas', 'Utah', 'Vermont', 'Virginia', 'Washington',\n",
       "       'West Virginia', 'Wisconsin', 'Wyoming'],\n",
       "      dtype='object')"
      ]
     },
     "execution_count": 20,
     "metadata": {},
     "output_type": "execute_result"
    }
   ],
   "source": [
    "us_cens_colnames = us_census.columns\n",
    "us_cens_colnames"
   ]
  },
  {
   "cell_type": "markdown",
   "id": "b9bd2554",
   "metadata": {
    "papermill": {
     "duration": 0.038243,
     "end_time": "2022-12-23T09:44:30.647432",
     "exception": false,
     "start_time": "2022-12-23T09:44:30.609189",
     "status": "completed"
    },
    "tags": []
   },
   "source": [
    "#### excluding the fact columns"
   ]
  },
  {
   "cell_type": "code",
   "execution_count": 21,
   "id": "86160cdd",
   "metadata": {
    "execution": {
     "iopub.execute_input": "2022-12-23T09:44:30.723207Z",
     "iopub.status.busy": "2022-12-23T09:44:30.722823Z",
     "iopub.status.idle": "2022-12-23T09:44:30.734683Z",
     "shell.execute_reply": "2022-12-23T09:44:30.733424Z"
    },
    "papermill": {
     "duration": 0.053304,
     "end_time": "2022-12-23T09:44:30.737827",
     "exception": false,
     "start_time": "2022-12-23T09:44:30.684523",
     "status": "completed"
    },
    "tags": []
   },
   "outputs": [
    {
     "name": "stderr",
     "output_type": "stream",
     "text": [
      "/opt/conda/lib/python3.7/site-packages/pandas/core/indexes/base.py:4616: FutureWarning: Using a non-tuple sequence for multidimensional indexing is deprecated; use `arr[tuple(seq)]` instead of `arr[seq]`. In the future this will be interpreted as an array index, `arr[np.array(seq)]`, which will result either in an error or a different result.\n",
      "  result = getitem(key)\n"
     ]
    },
    {
     "data": {
      "text/plain": [
       "Index(['Alabama', 'Alaska', 'Arizona', 'Arkansas', 'California', 'Colorado',\n",
       "       'Connecticut', 'Delaware', 'Florida', 'Georgia', 'Hawaii', 'Idaho',\n",
       "       'Illinois', 'Indiana', 'Iowa', 'Kansas', 'Kentucky', 'Louisiana',\n",
       "       'Maine', 'Maryland', 'Massachusetts', 'Michigan', 'Minnesota',\n",
       "       'Mississippi', 'Missouri', 'Montana', 'Nebraska', 'Nevada',\n",
       "       'New Hampshire', 'New Jersey', 'New Mexico', 'New York',\n",
       "       'North Carolina', 'North Dakota', 'Ohio', 'Oklahoma', 'Oregon',\n",
       "       'Pennsylvania', 'Rhode Island', 'South Carolina', 'South Dakota',\n",
       "       'Tennessee', 'Texas', 'Utah', 'Vermont', 'Virginia', 'Washington',\n",
       "       'West Virginia', 'Wisconsin', 'Wyoming'],\n",
       "      dtype='object')"
      ]
     },
     "execution_count": 21,
     "metadata": {},
     "output_type": "execute_result"
    }
   ],
   "source": [
    "us_states = us_cens_colnames[[us_census.columns != 'Fact']]\n",
    "us_states"
   ]
  },
  {
   "cell_type": "code",
   "execution_count": 22,
   "id": "cb88d126",
   "metadata": {
    "execution": {
     "iopub.execute_input": "2022-12-23T09:44:30.817764Z",
     "iopub.status.busy": "2022-12-23T09:44:30.816621Z",
     "iopub.status.idle": "2022-12-23T09:44:30.826530Z",
     "shell.execute_reply": "2022-12-23T09:44:30.825142Z"
    },
    "papermill": {
     "duration": 0.052019,
     "end_time": "2022-12-23T09:44:30.829059",
     "exception": false,
     "start_time": "2022-12-23T09:44:30.777040",
     "status": "completed"
    },
    "tags": []
   },
   "outputs": [
    {
     "data": {
      "text/plain": [
       "array(['Population estimates, July 1, 2016,  (V2016)',\n",
       "       'Population estimates base, April 1, 2010,  (V2016)',\n",
       "       'Population, percent change - April 1, 2010 (estimates base) to July 1, 2016,  (V2016)',\n",
       "       'Population, Census, April 1, 2010',\n",
       "       'Persons under 5 years, percent, July 1, 2016,  (V2016)',\n",
       "       'Persons under 5 years, percent, April 1, 2010',\n",
       "       'Persons under 18 years, percent, July 1, 2016,  (V2016)',\n",
       "       'Persons under 18 years, percent, April 1, 2010',\n",
       "       'Persons 65 years and over, percent,  July 1, 2016,  (V2016)',\n",
       "       'Persons 65 years and over, percent, April 1, 2010',\n",
       "       'Female persons, percent,  July 1, 2016,  (V2016)',\n",
       "       'Female persons, percent, April 1, 2010',\n",
       "       'White alone, percent, July 1, 2016,  (V2016)',\n",
       "       'Black or African American alone, percent, July 1, 2016,  (V2016)',\n",
       "       'American Indian and Alaska Native alone, percent, July 1, 2016,  (V2016)',\n",
       "       'Asian alone, percent, July 1, 2016,  (V2016)',\n",
       "       'Native Hawaiian and Other Pacific Islander alone, percent, July 1, 2016,  (V2016)',\n",
       "       'Two or More Races, percent, July 1, 2016,  (V2016)',\n",
       "       'Hispanic or Latino, percent, July 1, 2016,  (V2016)',\n",
       "       'White alone, not Hispanic or Latino, percent, July 1, 2016,  (V2016)',\n",
       "       'Veterans, 2011-2015', 'Foreign born persons, percent, 2011-2015',\n",
       "       'Housing units,  July 1, 2016,  (V2016)',\n",
       "       'Housing units, April 1, 2010',\n",
       "       'Owner-occupied housing unit rate, 2011-2015',\n",
       "       'Median value of owner-occupied housing units, 2011-2015',\n",
       "       'Median selected monthly owner costs -with a mortgage, 2011-2015',\n",
       "       'Median selected monthly owner costs -without a mortgage, 2011-2015',\n",
       "       'Median gross rent, 2011-2015', 'Building permits, 2016',\n",
       "       'Households, 2011-2015', 'Persons per household, 2011-2015',\n",
       "       'Living in same house 1 year ago, percent of persons age 1 year+, 2011-2015',\n",
       "       'Language other than English spoken at home, percent of persons age 5 years+, 2011-2015',\n",
       "       'High school graduate or higher, percent of persons age 25 years+, 2011-2015',\n",
       "       \"Bachelor's degree or higher, percent of persons age 25 years+, 2011-2015\",\n",
       "       'With a disability, under age 65 years, percent, 2011-2015',\n",
       "       'Persons  without health insurance, under age 65 years, percent',\n",
       "       'In civilian labor force, total, percent of population age 16 years+, 2011-2015',\n",
       "       'In civilian labor force, female, percent of population age 16 years+, 2011-2015',\n",
       "       'Total accommodation and food services sales, 2012 ($1,000)',\n",
       "       'Total health care and social assistance receipts/revenue, 2012 ($1,000)',\n",
       "       'Total manufacturers shipments, 2012 ($1,000)',\n",
       "       'Total merchant wholesaler sales, 2012 ($1,000)',\n",
       "       'Total retail sales, 2012 ($1,000)',\n",
       "       'Total retail sales per capita, 2012',\n",
       "       'Mean travel time to work (minutes), workers age 16 years+, 2011-2015',\n",
       "       'Median household income (in 2015 dollars), 2011-2015',\n",
       "       'Per capita income in past 12 months (in 2015 dollars), 2011-2015',\n",
       "       'Persons in poverty, percent',\n",
       "       'Total employer establishments, 2015', 'Total employment, 2015',\n",
       "       'Total annual payroll, 2015 ($1,000)',\n",
       "       'Total employment, percent change, 2014-2015',\n",
       "       'Total nonemployer establishments, 2015', 'All firms, 2012',\n",
       "       'Men-owned firms, 2012', 'Women-owned firms, 2012',\n",
       "       'Minority-owned firms, 2012', 'Nonminority-owned firms, 2012',\n",
       "       'Veteran-owned firms, 2012', 'Nonveteran-owned firms, 2012',\n",
       "       'Population per square mile, 2010',\n",
       "       'Land area in square miles, 2010', 'FIPS Code', nan,\n",
       "       'NOTE: FIPS Code values are enclosed in quotes to ensure leading zeros remain intact.',\n",
       "       'Value Notes', '1', 'Fact Notes', '(a)', '(b)', '(c)',\n",
       "       'Value Flags', '-', 'D', 'F', 'FN', 'S', 'X', 'Z'], dtype=object)"
      ]
     },
     "execution_count": 22,
     "metadata": {},
     "output_type": "execute_result"
    }
   ],
   "source": [
    "new_col = us_census['Fact'].unique()\n",
    "new_col"
   ]
  },
  {
   "cell_type": "code",
   "execution_count": 23,
   "id": "c0f66332",
   "metadata": {
    "execution": {
     "iopub.execute_input": "2022-12-23T09:44:30.910426Z",
     "iopub.status.busy": "2022-12-23T09:44:30.909600Z",
     "iopub.status.idle": "2022-12-23T09:44:30.918892Z",
     "shell.execute_reply": "2022-12-23T09:44:30.917201Z"
    },
    "papermill": {
     "duration": 0.054791,
     "end_time": "2022-12-23T09:44:30.921620",
     "exception": false,
     "start_time": "2022-12-23T09:44:30.866829",
     "status": "completed"
    },
    "tags": []
   },
   "outputs": [
    {
     "data": {
      "text/plain": [
       "(82, 51)"
      ]
     },
     "execution_count": 23,
     "metadata": {},
     "output_type": "execute_result"
    }
   ],
   "source": [
    "us_census.shape"
   ]
  },
  {
   "cell_type": "code",
   "execution_count": 24,
   "id": "76b9cb24",
   "metadata": {
    "execution": {
     "iopub.execute_input": "2022-12-23T09:44:31.000386Z",
     "iopub.status.busy": "2022-12-23T09:44:30.999983Z",
     "iopub.status.idle": "2022-12-23T09:44:31.028873Z",
     "shell.execute_reply": "2022-12-23T09:44:31.027454Z"
    },
    "papermill": {
     "duration": 0.070922,
     "end_time": "2022-12-23T09:44:31.031261",
     "exception": false,
     "start_time": "2022-12-23T09:44:30.960339",
     "status": "completed"
    },
    "tags": []
   },
   "outputs": [
    {
     "data": {
      "text/html": [
       "<div>\n",
       "<style scoped>\n",
       "    .dataframe tbody tr th:only-of-type {\n",
       "        vertical-align: middle;\n",
       "    }\n",
       "\n",
       "    .dataframe tbody tr th {\n",
       "        vertical-align: top;\n",
       "    }\n",
       "\n",
       "    .dataframe thead th {\n",
       "        text-align: right;\n",
       "    }\n",
       "</style>\n",
       "<table border=\"1\" class=\"dataframe\">\n",
       "  <thead>\n",
       "    <tr style=\"text-align: right;\">\n",
       "      <th></th>\n",
       "      <th>0</th>\n",
       "      <th>1</th>\n",
       "      <th>2</th>\n",
       "      <th>3</th>\n",
       "      <th>4</th>\n",
       "      <th>5</th>\n",
       "      <th>6</th>\n",
       "      <th>7</th>\n",
       "      <th>8</th>\n",
       "      <th>9</th>\n",
       "      <th>...</th>\n",
       "      <th>74</th>\n",
       "      <th>76</th>\n",
       "      <th>77</th>\n",
       "      <th>78</th>\n",
       "      <th>79</th>\n",
       "      <th>80</th>\n",
       "      <th>81</th>\n",
       "      <th>82</th>\n",
       "      <th>83</th>\n",
       "      <th>84</th>\n",
       "    </tr>\n",
       "  </thead>\n",
       "  <tbody>\n",
       "    <tr>\n",
       "      <th>Fact</th>\n",
       "      <td>Population estimates, July 1, 2016,  (V2016)</td>\n",
       "      <td>Population estimates base, April 1, 2010,  (V2...</td>\n",
       "      <td>Population, percent change - April 1, 2010 (es...</td>\n",
       "      <td>Population, Census, April 1, 2010</td>\n",
       "      <td>Persons under 5 years, percent, July 1, 2016, ...</td>\n",
       "      <td>Persons under 5 years, percent, April 1, 2010</td>\n",
       "      <td>Persons under 18 years, percent, July 1, 2016,...</td>\n",
       "      <td>Persons under 18 years, percent, April 1, 2010</td>\n",
       "      <td>Persons 65 years and over, percent,  July 1, 2...</td>\n",
       "      <td>Persons 65 years and over, percent, April 1, 2010</td>\n",
       "      <td>...</td>\n",
       "      <td>(c)</td>\n",
       "      <td>Value Flags</td>\n",
       "      <td>-</td>\n",
       "      <td>D</td>\n",
       "      <td>F</td>\n",
       "      <td>FN</td>\n",
       "      <td>NaN</td>\n",
       "      <td>S</td>\n",
       "      <td>X</td>\n",
       "      <td>Z</td>\n",
       "    </tr>\n",
       "    <tr>\n",
       "      <th>Alabama</th>\n",
       "      <td>4,863,300</td>\n",
       "      <td>4,780,131</td>\n",
       "      <td>1.70%</td>\n",
       "      <td>4,779,736</td>\n",
       "      <td>6.00%</td>\n",
       "      <td>6.40%</td>\n",
       "      <td>22.60%</td>\n",
       "      <td>23.70%</td>\n",
       "      <td>16.10%</td>\n",
       "      <td>13.80%</td>\n",
       "      <td>...</td>\n",
       "      <td>NaN</td>\n",
       "      <td>NaN</td>\n",
       "      <td>NaN</td>\n",
       "      <td>NaN</td>\n",
       "      <td>NaN</td>\n",
       "      <td>NaN</td>\n",
       "      <td>NaN</td>\n",
       "      <td>NaN</td>\n",
       "      <td>NaN</td>\n",
       "      <td>NaN</td>\n",
       "    </tr>\n",
       "    <tr>\n",
       "      <th>Alaska</th>\n",
       "      <td>741,894</td>\n",
       "      <td>710,249</td>\n",
       "      <td>4.50%</td>\n",
       "      <td>710,231</td>\n",
       "      <td>7.30%</td>\n",
       "      <td>7.60%</td>\n",
       "      <td>25.20%</td>\n",
       "      <td>26.40%</td>\n",
       "      <td>10.40%</td>\n",
       "      <td>7.70%</td>\n",
       "      <td>...</td>\n",
       "      <td>NaN</td>\n",
       "      <td>NaN</td>\n",
       "      <td>NaN</td>\n",
       "      <td>NaN</td>\n",
       "      <td>NaN</td>\n",
       "      <td>NaN</td>\n",
       "      <td>NaN</td>\n",
       "      <td>NaN</td>\n",
       "      <td>NaN</td>\n",
       "      <td>NaN</td>\n",
       "    </tr>\n",
       "  </tbody>\n",
       "</table>\n",
       "<p>3 rows × 82 columns</p>\n",
       "</div>"
      ],
      "text/plain": [
       "                                                   0   \\\n",
       "Fact     Population estimates, July 1, 2016,  (V2016)   \n",
       "Alabama                                     4,863,300   \n",
       "Alaska                                        741,894   \n",
       "\n",
       "                                                        1   \\\n",
       "Fact     Population estimates base, April 1, 2010,  (V2...   \n",
       "Alabama                                          4,780,131   \n",
       "Alaska                                             710,249   \n",
       "\n",
       "                                                        2   \\\n",
       "Fact     Population, percent change - April 1, 2010 (es...   \n",
       "Alabama                                              1.70%   \n",
       "Alaska                                               4.50%   \n",
       "\n",
       "                                        3   \\\n",
       "Fact     Population, Census, April 1, 2010   \n",
       "Alabama                          4,779,736   \n",
       "Alaska                             710,231   \n",
       "\n",
       "                                                        4   \\\n",
       "Fact     Persons under 5 years, percent, July 1, 2016, ...   \n",
       "Alabama                                              6.00%   \n",
       "Alaska                                               7.30%   \n",
       "\n",
       "                                                    5   \\\n",
       "Fact     Persons under 5 years, percent, April 1, 2010   \n",
       "Alabama                                          6.40%   \n",
       "Alaska                                           7.60%   \n",
       "\n",
       "                                                        6   \\\n",
       "Fact     Persons under 18 years, percent, July 1, 2016,...   \n",
       "Alabama                                             22.60%   \n",
       "Alaska                                              25.20%   \n",
       "\n",
       "                                                     7   \\\n",
       "Fact     Persons under 18 years, percent, April 1, 2010   \n",
       "Alabama                                          23.70%   \n",
       "Alaska                                           26.40%   \n",
       "\n",
       "                                                        8   \\\n",
       "Fact     Persons 65 years and over, percent,  July 1, 2...   \n",
       "Alabama                                             16.10%   \n",
       "Alaska                                              10.40%   \n",
       "\n",
       "                                                        9   ...   74  \\\n",
       "Fact     Persons 65 years and over, percent, April 1, 2010  ...  (c)   \n",
       "Alabama                                             13.80%  ...  NaN   \n",
       "Alaska                                               7.70%  ...  NaN   \n",
       "\n",
       "                  76   77   78   79   80   81   82   83   84  \n",
       "Fact     Value Flags    -    D    F   FN  NaN    S    X    Z  \n",
       "Alabama          NaN  NaN  NaN  NaN  NaN  NaN  NaN  NaN  NaN  \n",
       "Alaska           NaN  NaN  NaN  NaN  NaN  NaN  NaN  NaN  NaN  \n",
       "\n",
       "[3 rows x 82 columns]"
      ]
     },
     "execution_count": 24,
     "metadata": {},
     "output_type": "execute_result"
    }
   ],
   "source": [
    "# for the us census data I will be doing a transpose to have the states as rows inorde to join with the state column of the gun violence data\n",
    "new_us_census = us_census.transpose()   #us_census.T can also be used\n",
    "new_us_census.head(3)"
   ]
  },
  {
   "cell_type": "markdown",
   "id": "4773c4f1",
   "metadata": {
    "papermill": {
     "duration": 0.040252,
     "end_time": "2022-12-23T09:44:31.110713",
     "exception": false,
     "start_time": "2022-12-23T09:44:31.070461",
     "status": "completed"
    },
    "tags": []
   },
   "source": [
    "### Excluding irrelevant columns"
   ]
  },
  {
   "cell_type": "code",
   "execution_count": 25,
   "id": "87bbe88b",
   "metadata": {
    "execution": {
     "iopub.execute_input": "2022-12-23T09:44:31.196512Z",
     "iopub.status.busy": "2022-12-23T09:44:31.195805Z",
     "iopub.status.idle": "2022-12-23T09:44:31.221185Z",
     "shell.execute_reply": "2022-12-23T09:44:31.220239Z"
    },
    "papermill": {
     "duration": 0.070711,
     "end_time": "2022-12-23T09:44:31.224395",
     "exception": false,
     "start_time": "2022-12-23T09:44:31.153684",
     "status": "completed"
    },
    "tags": []
   },
   "outputs": [
    {
     "data": {
      "text/html": [
       "<div>\n",
       "<style scoped>\n",
       "    .dataframe tbody tr th:only-of-type {\n",
       "        vertical-align: middle;\n",
       "    }\n",
       "\n",
       "    .dataframe tbody tr th {\n",
       "        vertical-align: top;\n",
       "    }\n",
       "\n",
       "    .dataframe thead th {\n",
       "        text-align: right;\n",
       "    }\n",
       "</style>\n",
       "<table border=\"1\" class=\"dataframe\">\n",
       "  <thead>\n",
       "    <tr style=\"text-align: right;\">\n",
       "      <th></th>\n",
       "      <th>0</th>\n",
       "      <th>1</th>\n",
       "      <th>2</th>\n",
       "      <th>3</th>\n",
       "      <th>4</th>\n",
       "      <th>5</th>\n",
       "      <th>6</th>\n",
       "      <th>7</th>\n",
       "      <th>8</th>\n",
       "      <th>9</th>\n",
       "      <th>...</th>\n",
       "      <th>54</th>\n",
       "      <th>55</th>\n",
       "      <th>56</th>\n",
       "      <th>57</th>\n",
       "      <th>58</th>\n",
       "      <th>59</th>\n",
       "      <th>60</th>\n",
       "      <th>61</th>\n",
       "      <th>62</th>\n",
       "      <th>63</th>\n",
       "    </tr>\n",
       "  </thead>\n",
       "  <tbody>\n",
       "    <tr>\n",
       "      <th>Fact</th>\n",
       "      <td>Population estimates, July 1, 2016,  (V2016)</td>\n",
       "      <td>Population estimates base, April 1, 2010,  (V2...</td>\n",
       "      <td>Population, percent change - April 1, 2010 (es...</td>\n",
       "      <td>Population, Census, April 1, 2010</td>\n",
       "      <td>Persons under 5 years, percent, July 1, 2016, ...</td>\n",
       "      <td>Persons under 5 years, percent, April 1, 2010</td>\n",
       "      <td>Persons under 18 years, percent, July 1, 2016,...</td>\n",
       "      <td>Persons under 18 years, percent, April 1, 2010</td>\n",
       "      <td>Persons 65 years and over, percent,  July 1, 2...</td>\n",
       "      <td>Persons 65 years and over, percent, April 1, 2010</td>\n",
       "      <td>...</td>\n",
       "      <td>Total nonemployer establishments, 2015</td>\n",
       "      <td>All firms, 2012</td>\n",
       "      <td>Men-owned firms, 2012</td>\n",
       "      <td>Women-owned firms, 2012</td>\n",
       "      <td>Minority-owned firms, 2012</td>\n",
       "      <td>Nonminority-owned firms, 2012</td>\n",
       "      <td>Veteran-owned firms, 2012</td>\n",
       "      <td>Nonveteran-owned firms, 2012</td>\n",
       "      <td>Population per square mile, 2010</td>\n",
       "      <td>Land area in square miles, 2010</td>\n",
       "    </tr>\n",
       "    <tr>\n",
       "      <th>Alabama</th>\n",
       "      <td>4,863,300</td>\n",
       "      <td>4,780,131</td>\n",
       "      <td>1.70%</td>\n",
       "      <td>4,779,736</td>\n",
       "      <td>6.00%</td>\n",
       "      <td>6.40%</td>\n",
       "      <td>22.60%</td>\n",
       "      <td>23.70%</td>\n",
       "      <td>16.10%</td>\n",
       "      <td>13.80%</td>\n",
       "      <td>...</td>\n",
       "      <td>322,025</td>\n",
       "      <td>374,153</td>\n",
       "      <td>203,604</td>\n",
       "      <td>137,630</td>\n",
       "      <td>92,219</td>\n",
       "      <td>272,651</td>\n",
       "      <td>41,943</td>\n",
       "      <td>316,984</td>\n",
       "      <td>94.4</td>\n",
       "      <td>50,645.33</td>\n",
       "    </tr>\n",
       "    <tr>\n",
       "      <th>Alaska</th>\n",
       "      <td>741,894</td>\n",
       "      <td>710,249</td>\n",
       "      <td>4.50%</td>\n",
       "      <td>710,231</td>\n",
       "      <td>7.30%</td>\n",
       "      <td>7.60%</td>\n",
       "      <td>25.20%</td>\n",
       "      <td>26.40%</td>\n",
       "      <td>10.40%</td>\n",
       "      <td>7.70%</td>\n",
       "      <td>...</td>\n",
       "      <td>55,521</td>\n",
       "      <td>68,032</td>\n",
       "      <td>35,402</td>\n",
       "      <td>22,141</td>\n",
       "      <td>13,688</td>\n",
       "      <td>51,147</td>\n",
       "      <td>7,953</td>\n",
       "      <td>56,091</td>\n",
       "      <td>1.2</td>\n",
       "      <td>570,640.95</td>\n",
       "    </tr>\n",
       "    <tr>\n",
       "      <th>Arizona</th>\n",
       "      <td>6,931,071</td>\n",
       "      <td>6,392,301</td>\n",
       "      <td>8.40%</td>\n",
       "      <td>6,392,017</td>\n",
       "      <td>6.30%</td>\n",
       "      <td>7.10%</td>\n",
       "      <td>23.50%</td>\n",
       "      <td>25.50%</td>\n",
       "      <td>16.90%</td>\n",
       "      <td>13.80%</td>\n",
       "      <td>...</td>\n",
       "      <td>451,951</td>\n",
       "      <td>499,926</td>\n",
       "      <td>245,243</td>\n",
       "      <td>182,425</td>\n",
       "      <td>135,313</td>\n",
       "      <td>344,981</td>\n",
       "      <td>46,780</td>\n",
       "      <td>427,582</td>\n",
       "      <td>56.3</td>\n",
       "      <td>113,594.08</td>\n",
       "    </tr>\n",
       "  </tbody>\n",
       "</table>\n",
       "<p>4 rows × 64 columns</p>\n",
       "</div>"
      ],
      "text/plain": [
       "                                                   0   \\\n",
       "Fact     Population estimates, July 1, 2016,  (V2016)   \n",
       "Alabama                                     4,863,300   \n",
       "Alaska                                        741,894   \n",
       "Arizona                                     6,931,071   \n",
       "\n",
       "                                                        1   \\\n",
       "Fact     Population estimates base, April 1, 2010,  (V2...   \n",
       "Alabama                                          4,780,131   \n",
       "Alaska                                             710,249   \n",
       "Arizona                                          6,392,301   \n",
       "\n",
       "                                                        2   \\\n",
       "Fact     Population, percent change - April 1, 2010 (es...   \n",
       "Alabama                                              1.70%   \n",
       "Alaska                                               4.50%   \n",
       "Arizona                                              8.40%   \n",
       "\n",
       "                                        3   \\\n",
       "Fact     Population, Census, April 1, 2010   \n",
       "Alabama                          4,779,736   \n",
       "Alaska                             710,231   \n",
       "Arizona                          6,392,017   \n",
       "\n",
       "                                                        4   \\\n",
       "Fact     Persons under 5 years, percent, July 1, 2016, ...   \n",
       "Alabama                                              6.00%   \n",
       "Alaska                                               7.30%   \n",
       "Arizona                                              6.30%   \n",
       "\n",
       "                                                    5   \\\n",
       "Fact     Persons under 5 years, percent, April 1, 2010   \n",
       "Alabama                                          6.40%   \n",
       "Alaska                                           7.60%   \n",
       "Arizona                                          7.10%   \n",
       "\n",
       "                                                        6   \\\n",
       "Fact     Persons under 18 years, percent, July 1, 2016,...   \n",
       "Alabama                                             22.60%   \n",
       "Alaska                                              25.20%   \n",
       "Arizona                                             23.50%   \n",
       "\n",
       "                                                     7   \\\n",
       "Fact     Persons under 18 years, percent, April 1, 2010   \n",
       "Alabama                                          23.70%   \n",
       "Alaska                                           26.40%   \n",
       "Arizona                                          25.50%   \n",
       "\n",
       "                                                        8   \\\n",
       "Fact     Persons 65 years and over, percent,  July 1, 2...   \n",
       "Alabama                                             16.10%   \n",
       "Alaska                                              10.40%   \n",
       "Arizona                                             16.90%   \n",
       "\n",
       "                                                        9   ...  \\\n",
       "Fact     Persons 65 years and over, percent, April 1, 2010  ...   \n",
       "Alabama                                             13.80%  ...   \n",
       "Alaska                                               7.70%  ...   \n",
       "Arizona                                             13.80%  ...   \n",
       "\n",
       "                                             54               55  \\\n",
       "Fact     Total nonemployer establishments, 2015  All firms, 2012   \n",
       "Alabama                                 322,025          374,153   \n",
       "Alaska                                   55,521           68,032   \n",
       "Arizona                                 451,951          499,926   \n",
       "\n",
       "                            56                       57  \\\n",
       "Fact     Men-owned firms, 2012  Women-owned firms, 2012   \n",
       "Alabama                203,604                  137,630   \n",
       "Alaska                  35,402                   22,141   \n",
       "Arizona                245,243                  182,425   \n",
       "\n",
       "                                 58                             59  \\\n",
       "Fact     Minority-owned firms, 2012  Nonminority-owned firms, 2012   \n",
       "Alabama                      92,219                        272,651   \n",
       "Alaska                       13,688                         51,147   \n",
       "Arizona                     135,313                        344,981   \n",
       "\n",
       "                                60                            61  \\\n",
       "Fact     Veteran-owned firms, 2012  Nonveteran-owned firms, 2012   \n",
       "Alabama                     41,943                       316,984   \n",
       "Alaska                       7,953                        56,091   \n",
       "Arizona                     46,780                       427,582   \n",
       "\n",
       "                                       62                               63  \n",
       "Fact     Population per square mile, 2010  Land area in square miles, 2010  \n",
       "Alabama                              94.4                        50,645.33  \n",
       "Alaska                                1.2                       570,640.95  \n",
       "Arizona                              56.3                       113,594.08  \n",
       "\n",
       "[4 rows x 64 columns]"
      ]
     },
     "execution_count": 25,
     "metadata": {},
     "output_type": "execute_result"
    }
   ],
   "source": [
    "us_census = new_us_census.iloc[:,:64]\n",
    "us_census.head(4)"
   ]
  },
  {
   "cell_type": "markdown",
   "id": "35382c36",
   "metadata": {
    "papermill": {
     "duration": 0.038156,
     "end_time": "2022-12-23T09:44:31.302962",
     "exception": false,
     "start_time": "2022-12-23T09:44:31.264806",
     "status": "completed"
    },
    "tags": []
   },
   "source": [
    "### Giving the dataframe the appropriate column names"
   ]
  },
  {
   "cell_type": "code",
   "execution_count": 26,
   "id": "2bd17f5e",
   "metadata": {
    "execution": {
     "iopub.execute_input": "2022-12-23T09:44:31.381697Z",
     "iopub.status.busy": "2022-12-23T09:44:31.381199Z",
     "iopub.status.idle": "2022-12-23T09:44:31.406619Z",
     "shell.execute_reply": "2022-12-23T09:44:31.405142Z"
    },
    "papermill": {
     "duration": 0.067574,
     "end_time": "2022-12-23T09:44:31.409271",
     "exception": false,
     "start_time": "2022-12-23T09:44:31.341697",
     "status": "completed"
    },
    "tags": []
   },
   "outputs": [
    {
     "data": {
      "text/html": [
       "<div>\n",
       "<style scoped>\n",
       "    .dataframe tbody tr th:only-of-type {\n",
       "        vertical-align: middle;\n",
       "    }\n",
       "\n",
       "    .dataframe tbody tr th {\n",
       "        vertical-align: top;\n",
       "    }\n",
       "\n",
       "    .dataframe thead th {\n",
       "        text-align: right;\n",
       "    }\n",
       "</style>\n",
       "<table border=\"1\" class=\"dataframe\">\n",
       "  <thead>\n",
       "    <tr style=\"text-align: right;\">\n",
       "      <th>Fact</th>\n",
       "      <th>Population estimates, July 1, 2016,  (V2016)</th>\n",
       "      <th>Population estimates base, April 1, 2010,  (V2016)</th>\n",
       "      <th>Population, percent change - April 1, 2010 (estimates base) to July 1, 2016,  (V2016)</th>\n",
       "      <th>Population, Census, April 1, 2010</th>\n",
       "      <th>Persons under 5 years, percent, July 1, 2016,  (V2016)</th>\n",
       "      <th>Persons under 5 years, percent, April 1, 2010</th>\n",
       "      <th>Persons under 18 years, percent, July 1, 2016,  (V2016)</th>\n",
       "      <th>Persons under 18 years, percent, April 1, 2010</th>\n",
       "      <th>Persons 65 years and over, percent,  July 1, 2016,  (V2016)</th>\n",
       "      <th>Persons 65 years and over, percent, April 1, 2010</th>\n",
       "      <th>...</th>\n",
       "      <th>Total nonemployer establishments, 2015</th>\n",
       "      <th>All firms, 2012</th>\n",
       "      <th>Men-owned firms, 2012</th>\n",
       "      <th>Women-owned firms, 2012</th>\n",
       "      <th>Minority-owned firms, 2012</th>\n",
       "      <th>Nonminority-owned firms, 2012</th>\n",
       "      <th>Veteran-owned firms, 2012</th>\n",
       "      <th>Nonveteran-owned firms, 2012</th>\n",
       "      <th>Population per square mile, 2010</th>\n",
       "      <th>Land area in square miles, 2010</th>\n",
       "    </tr>\n",
       "  </thead>\n",
       "  <tbody>\n",
       "    <tr>\n",
       "      <th>Fact</th>\n",
       "      <td>Population estimates, July 1, 2016,  (V2016)</td>\n",
       "      <td>Population estimates base, April 1, 2010,  (V2...</td>\n",
       "      <td>Population, percent change - April 1, 2010 (es...</td>\n",
       "      <td>Population, Census, April 1, 2010</td>\n",
       "      <td>Persons under 5 years, percent, July 1, 2016, ...</td>\n",
       "      <td>Persons under 5 years, percent, April 1, 2010</td>\n",
       "      <td>Persons under 18 years, percent, July 1, 2016,...</td>\n",
       "      <td>Persons under 18 years, percent, April 1, 2010</td>\n",
       "      <td>Persons 65 years and over, percent,  July 1, 2...</td>\n",
       "      <td>Persons 65 years and over, percent, April 1, 2010</td>\n",
       "      <td>...</td>\n",
       "      <td>Total nonemployer establishments, 2015</td>\n",
       "      <td>All firms, 2012</td>\n",
       "      <td>Men-owned firms, 2012</td>\n",
       "      <td>Women-owned firms, 2012</td>\n",
       "      <td>Minority-owned firms, 2012</td>\n",
       "      <td>Nonminority-owned firms, 2012</td>\n",
       "      <td>Veteran-owned firms, 2012</td>\n",
       "      <td>Nonveteran-owned firms, 2012</td>\n",
       "      <td>Population per square mile, 2010</td>\n",
       "      <td>Land area in square miles, 2010</td>\n",
       "    </tr>\n",
       "    <tr>\n",
       "      <th>Alabama</th>\n",
       "      <td>4,863,300</td>\n",
       "      <td>4,780,131</td>\n",
       "      <td>1.70%</td>\n",
       "      <td>4,779,736</td>\n",
       "      <td>6.00%</td>\n",
       "      <td>6.40%</td>\n",
       "      <td>22.60%</td>\n",
       "      <td>23.70%</td>\n",
       "      <td>16.10%</td>\n",
       "      <td>13.80%</td>\n",
       "      <td>...</td>\n",
       "      <td>322,025</td>\n",
       "      <td>374,153</td>\n",
       "      <td>203,604</td>\n",
       "      <td>137,630</td>\n",
       "      <td>92,219</td>\n",
       "      <td>272,651</td>\n",
       "      <td>41,943</td>\n",
       "      <td>316,984</td>\n",
       "      <td>94.4</td>\n",
       "      <td>50,645.33</td>\n",
       "    </tr>\n",
       "    <tr>\n",
       "      <th>Alaska</th>\n",
       "      <td>741,894</td>\n",
       "      <td>710,249</td>\n",
       "      <td>4.50%</td>\n",
       "      <td>710,231</td>\n",
       "      <td>7.30%</td>\n",
       "      <td>7.60%</td>\n",
       "      <td>25.20%</td>\n",
       "      <td>26.40%</td>\n",
       "      <td>10.40%</td>\n",
       "      <td>7.70%</td>\n",
       "      <td>...</td>\n",
       "      <td>55,521</td>\n",
       "      <td>68,032</td>\n",
       "      <td>35,402</td>\n",
       "      <td>22,141</td>\n",
       "      <td>13,688</td>\n",
       "      <td>51,147</td>\n",
       "      <td>7,953</td>\n",
       "      <td>56,091</td>\n",
       "      <td>1.2</td>\n",
       "      <td>570,640.95</td>\n",
       "    </tr>\n",
       "  </tbody>\n",
       "</table>\n",
       "<p>3 rows × 64 columns</p>\n",
       "</div>"
      ],
      "text/plain": [
       "Fact     Population estimates, July 1, 2016,  (V2016)  \\\n",
       "Fact     Population estimates, July 1, 2016,  (V2016)   \n",
       "Alabama                                     4,863,300   \n",
       "Alaska                                        741,894   \n",
       "\n",
       "Fact    Population estimates base, April 1, 2010,  (V2016)  \\\n",
       "Fact     Population estimates base, April 1, 2010,  (V2...   \n",
       "Alabama                                          4,780,131   \n",
       "Alaska                                             710,249   \n",
       "\n",
       "Fact    Population, percent change - April 1, 2010 (estimates base) to July 1, 2016,  (V2016)  \\\n",
       "Fact     Population, percent change - April 1, 2010 (es...                                      \n",
       "Alabama                                              1.70%                                      \n",
       "Alaska                                               4.50%                                      \n",
       "\n",
       "Fact     Population, Census, April 1, 2010  \\\n",
       "Fact     Population, Census, April 1, 2010   \n",
       "Alabama                          4,779,736   \n",
       "Alaska                             710,231   \n",
       "\n",
       "Fact    Persons under 5 years, percent, July 1, 2016,  (V2016)  \\\n",
       "Fact     Persons under 5 years, percent, July 1, 2016, ...       \n",
       "Alabama                                              6.00%       \n",
       "Alaska                                               7.30%       \n",
       "\n",
       "Fact     Persons under 5 years, percent, April 1, 2010  \\\n",
       "Fact     Persons under 5 years, percent, April 1, 2010   \n",
       "Alabama                                          6.40%   \n",
       "Alaska                                           7.60%   \n",
       "\n",
       "Fact    Persons under 18 years, percent, July 1, 2016,  (V2016)  \\\n",
       "Fact     Persons under 18 years, percent, July 1, 2016,...        \n",
       "Alabama                                             22.60%        \n",
       "Alaska                                              25.20%        \n",
       "\n",
       "Fact     Persons under 18 years, percent, April 1, 2010  \\\n",
       "Fact     Persons under 18 years, percent, April 1, 2010   \n",
       "Alabama                                          23.70%   \n",
       "Alaska                                           26.40%   \n",
       "\n",
       "Fact    Persons 65 years and over, percent,  July 1, 2016,  (V2016)  \\\n",
       "Fact     Persons 65 years and over, percent,  July 1, 2...            \n",
       "Alabama                                             16.10%            \n",
       "Alaska                                              10.40%            \n",
       "\n",
       "Fact     Persons 65 years and over, percent, April 1, 2010  ...  \\\n",
       "Fact     Persons 65 years and over, percent, April 1, 2010  ...   \n",
       "Alabama                                             13.80%  ...   \n",
       "Alaska                                               7.70%  ...   \n",
       "\n",
       "Fact     Total nonemployer establishments, 2015  All firms, 2012  \\\n",
       "Fact     Total nonemployer establishments, 2015  All firms, 2012   \n",
       "Alabama                                 322,025          374,153   \n",
       "Alaska                                   55,521           68,032   \n",
       "\n",
       "Fact     Men-owned firms, 2012  Women-owned firms, 2012  \\\n",
       "Fact     Men-owned firms, 2012  Women-owned firms, 2012   \n",
       "Alabama                203,604                  137,630   \n",
       "Alaska                  35,402                   22,141   \n",
       "\n",
       "Fact     Minority-owned firms, 2012  Nonminority-owned firms, 2012  \\\n",
       "Fact     Minority-owned firms, 2012  Nonminority-owned firms, 2012   \n",
       "Alabama                      92,219                        272,651   \n",
       "Alaska                       13,688                         51,147   \n",
       "\n",
       "Fact     Veteran-owned firms, 2012  Nonveteran-owned firms, 2012  \\\n",
       "Fact     Veteran-owned firms, 2012  Nonveteran-owned firms, 2012   \n",
       "Alabama                     41,943                       316,984   \n",
       "Alaska                       7,953                        56,091   \n",
       "\n",
       "Fact     Population per square mile, 2010  Land area in square miles, 2010  \n",
       "Fact     Population per square mile, 2010  Land area in square miles, 2010  \n",
       "Alabama                              94.4                        50,645.33  \n",
       "Alaska                                1.2                       570,640.95  \n",
       "\n",
       "[3 rows x 64 columns]"
      ]
     },
     "execution_count": 26,
     "metadata": {},
     "output_type": "execute_result"
    }
   ],
   "source": [
    "us_census.columns = us_census.iloc[0]\n",
    "us_census.head(3)"
   ]
  },
  {
   "cell_type": "markdown",
   "id": "4a1f3ee5",
   "metadata": {
    "papermill": {
     "duration": 0.040499,
     "end_time": "2022-12-23T09:44:31.488643",
     "exception": false,
     "start_time": "2022-12-23T09:44:31.448144",
     "status": "completed"
    },
    "tags": []
   },
   "source": [
    "### Removng redundant column name"
   ]
  },
  {
   "cell_type": "code",
   "execution_count": 27,
   "id": "7a52d32d",
   "metadata": {
    "execution": {
     "iopub.execute_input": "2022-12-23T09:44:31.570453Z",
     "iopub.status.busy": "2022-12-23T09:44:31.569995Z",
     "iopub.status.idle": "2022-12-23T09:44:31.583013Z",
     "shell.execute_reply": "2022-12-23T09:44:31.581206Z"
    },
    "papermill": {
     "duration": 0.056768,
     "end_time": "2022-12-23T09:44:31.585705",
     "exception": false,
     "start_time": "2022-12-23T09:44:31.528937",
     "status": "completed"
    },
    "tags": []
   },
   "outputs": [
    {
     "name": "stderr",
     "output_type": "stream",
     "text": [
      "/opt/conda/lib/python3.7/site-packages/pandas/core/frame.py:4913: SettingWithCopyWarning: \n",
      "A value is trying to be set on a copy of a slice from a DataFrame\n",
      "\n",
      "See the caveats in the documentation: https://pandas.pydata.org/pandas-docs/stable/user_guide/indexing.html#returning-a-view-versus-a-copy\n",
      "  errors=errors,\n"
     ]
    }
   ],
   "source": [
    "us_census.drop(us_census.index[0], inplace = True)"
   ]
  },
  {
   "cell_type": "code",
   "execution_count": 28,
   "id": "8f59fb54",
   "metadata": {
    "execution": {
     "iopub.execute_input": "2022-12-23T09:44:31.667222Z",
     "iopub.status.busy": "2022-12-23T09:44:31.666077Z",
     "iopub.status.idle": "2022-12-23T09:44:31.693817Z",
     "shell.execute_reply": "2022-12-23T09:44:31.692468Z"
    },
    "papermill": {
     "duration": 0.071705,
     "end_time": "2022-12-23T09:44:31.696304",
     "exception": false,
     "start_time": "2022-12-23T09:44:31.624599",
     "status": "completed"
    },
    "tags": []
   },
   "outputs": [
    {
     "data": {
      "text/html": [
       "<div>\n",
       "<style scoped>\n",
       "    .dataframe tbody tr th:only-of-type {\n",
       "        vertical-align: middle;\n",
       "    }\n",
       "\n",
       "    .dataframe tbody tr th {\n",
       "        vertical-align: top;\n",
       "    }\n",
       "\n",
       "    .dataframe thead th {\n",
       "        text-align: right;\n",
       "    }\n",
       "</style>\n",
       "<table border=\"1\" class=\"dataframe\">\n",
       "  <thead>\n",
       "    <tr style=\"text-align: right;\">\n",
       "      <th>Fact</th>\n",
       "      <th>Population estimates, July 1, 2016,  (V2016)</th>\n",
       "      <th>Population estimates base, April 1, 2010,  (V2016)</th>\n",
       "      <th>Population, percent change - April 1, 2010 (estimates base) to July 1, 2016,  (V2016)</th>\n",
       "      <th>Population, Census, April 1, 2010</th>\n",
       "      <th>Persons under 5 years, percent, July 1, 2016,  (V2016)</th>\n",
       "      <th>Persons under 5 years, percent, April 1, 2010</th>\n",
       "      <th>Persons under 18 years, percent, July 1, 2016,  (V2016)</th>\n",
       "      <th>Persons under 18 years, percent, April 1, 2010</th>\n",
       "      <th>Persons 65 years and over, percent,  July 1, 2016,  (V2016)</th>\n",
       "      <th>Persons 65 years and over, percent, April 1, 2010</th>\n",
       "      <th>...</th>\n",
       "      <th>Total nonemployer establishments, 2015</th>\n",
       "      <th>All firms, 2012</th>\n",
       "      <th>Men-owned firms, 2012</th>\n",
       "      <th>Women-owned firms, 2012</th>\n",
       "      <th>Minority-owned firms, 2012</th>\n",
       "      <th>Nonminority-owned firms, 2012</th>\n",
       "      <th>Veteran-owned firms, 2012</th>\n",
       "      <th>Nonveteran-owned firms, 2012</th>\n",
       "      <th>Population per square mile, 2010</th>\n",
       "      <th>Land area in square miles, 2010</th>\n",
       "    </tr>\n",
       "  </thead>\n",
       "  <tbody>\n",
       "    <tr>\n",
       "      <th>Alabama</th>\n",
       "      <td>4,863,300</td>\n",
       "      <td>4,780,131</td>\n",
       "      <td>1.70%</td>\n",
       "      <td>4,779,736</td>\n",
       "      <td>6.00%</td>\n",
       "      <td>6.40%</td>\n",
       "      <td>22.60%</td>\n",
       "      <td>23.70%</td>\n",
       "      <td>16.10%</td>\n",
       "      <td>13.80%</td>\n",
       "      <td>...</td>\n",
       "      <td>322,025</td>\n",
       "      <td>374,153</td>\n",
       "      <td>203,604</td>\n",
       "      <td>137,630</td>\n",
       "      <td>92,219</td>\n",
       "      <td>272,651</td>\n",
       "      <td>41,943</td>\n",
       "      <td>316,984</td>\n",
       "      <td>94.4</td>\n",
       "      <td>50,645.33</td>\n",
       "    </tr>\n",
       "    <tr>\n",
       "      <th>Alaska</th>\n",
       "      <td>741,894</td>\n",
       "      <td>710,249</td>\n",
       "      <td>4.50%</td>\n",
       "      <td>710,231</td>\n",
       "      <td>7.30%</td>\n",
       "      <td>7.60%</td>\n",
       "      <td>25.20%</td>\n",
       "      <td>26.40%</td>\n",
       "      <td>10.40%</td>\n",
       "      <td>7.70%</td>\n",
       "      <td>...</td>\n",
       "      <td>55,521</td>\n",
       "      <td>68,032</td>\n",
       "      <td>35,402</td>\n",
       "      <td>22,141</td>\n",
       "      <td>13,688</td>\n",
       "      <td>51,147</td>\n",
       "      <td>7,953</td>\n",
       "      <td>56,091</td>\n",
       "      <td>1.2</td>\n",
       "      <td>570,640.95</td>\n",
       "    </tr>\n",
       "  </tbody>\n",
       "</table>\n",
       "<p>2 rows × 64 columns</p>\n",
       "</div>"
      ],
      "text/plain": [
       "Fact    Population estimates, July 1, 2016,  (V2016)  \\\n",
       "Alabama                                    4,863,300   \n",
       "Alaska                                       741,894   \n",
       "\n",
       "Fact    Population estimates base, April 1, 2010,  (V2016)  \\\n",
       "Alabama                                          4,780,131   \n",
       "Alaska                                             710,249   \n",
       "\n",
       "Fact    Population, percent change - April 1, 2010 (estimates base) to July 1, 2016,  (V2016)  \\\n",
       "Alabama                                              1.70%                                      \n",
       "Alaska                                               4.50%                                      \n",
       "\n",
       "Fact    Population, Census, April 1, 2010  \\\n",
       "Alabama                         4,779,736   \n",
       "Alaska                            710,231   \n",
       "\n",
       "Fact    Persons under 5 years, percent, July 1, 2016,  (V2016)  \\\n",
       "Alabama                                              6.00%       \n",
       "Alaska                                               7.30%       \n",
       "\n",
       "Fact    Persons under 5 years, percent, April 1, 2010  \\\n",
       "Alabama                                         6.40%   \n",
       "Alaska                                          7.60%   \n",
       "\n",
       "Fact    Persons under 18 years, percent, July 1, 2016,  (V2016)  \\\n",
       "Alabama                                             22.60%        \n",
       "Alaska                                              25.20%        \n",
       "\n",
       "Fact    Persons under 18 years, percent, April 1, 2010  \\\n",
       "Alabama                                         23.70%   \n",
       "Alaska                                          26.40%   \n",
       "\n",
       "Fact    Persons 65 years and over, percent,  July 1, 2016,  (V2016)  \\\n",
       "Alabama                                             16.10%            \n",
       "Alaska                                              10.40%            \n",
       "\n",
       "Fact    Persons 65 years and over, percent, April 1, 2010  ...  \\\n",
       "Alabama                                            13.80%  ...   \n",
       "Alaska                                              7.70%  ...   \n",
       "\n",
       "Fact    Total nonemployer establishments, 2015 All firms, 2012  \\\n",
       "Alabama                                322,025         374,153   \n",
       "Alaska                                  55,521          68,032   \n",
       "\n",
       "Fact    Men-owned firms, 2012 Women-owned firms, 2012  \\\n",
       "Alabama               203,604                 137,630   \n",
       "Alaska                 35,402                  22,141   \n",
       "\n",
       "Fact    Minority-owned firms, 2012 Nonminority-owned firms, 2012  \\\n",
       "Alabama                     92,219                       272,651   \n",
       "Alaska                      13,688                        51,147   \n",
       "\n",
       "Fact    Veteran-owned firms, 2012 Nonveteran-owned firms, 2012  \\\n",
       "Alabama                    41,943                      316,984   \n",
       "Alaska                      7,953                       56,091   \n",
       "\n",
       "Fact    Population per square mile, 2010 Land area in square miles, 2010  \n",
       "Alabama                             94.4                       50,645.33  \n",
       "Alaska                               1.2                      570,640.95  \n",
       "\n",
       "[2 rows x 64 columns]"
      ]
     },
     "execution_count": 28,
     "metadata": {},
     "output_type": "execute_result"
    }
   ],
   "source": [
    "us_census.head(2)"
   ]
  },
  {
   "cell_type": "markdown",
   "id": "9875d3a0",
   "metadata": {
    "papermill": {
     "duration": 0.038401,
     "end_time": "2022-12-23T09:44:31.776504",
     "exception": false,
     "start_time": "2022-12-23T09:44:31.738103",
     "status": "completed"
    },
    "tags": []
   },
   "source": [
    "## Croschecking the number of state in the data"
   ]
  },
  {
   "cell_type": "code",
   "execution_count": 29,
   "id": "1f153d74",
   "metadata": {
    "execution": {
     "iopub.execute_input": "2022-12-23T09:44:31.857402Z",
     "iopub.status.busy": "2022-12-23T09:44:31.856986Z",
     "iopub.status.idle": "2022-12-23T09:44:31.865784Z",
     "shell.execute_reply": "2022-12-23T09:44:31.864149Z"
    },
    "papermill": {
     "duration": 0.053752,
     "end_time": "2022-12-23T09:44:31.868580",
     "exception": false,
     "start_time": "2022-12-23T09:44:31.814828",
     "status": "completed"
    },
    "tags": []
   },
   "outputs": [
    {
     "data": {
      "text/plain": [
       "50"
      ]
     },
     "execution_count": 29,
     "metadata": {},
     "output_type": "execute_result"
    }
   ],
   "source": [
    "len(us_census.index)"
   ]
  },
  {
   "cell_type": "markdown",
   "id": "39851ace",
   "metadata": {
    "papermill": {
     "duration": 0.039384,
     "end_time": "2022-12-23T09:44:31.948841",
     "exception": false,
     "start_time": "2022-12-23T09:44:31.909457",
     "status": "completed"
    },
    "tags": []
   },
   "source": [
    "## Making the state index as a column for the purpose of join"
   ]
  },
  {
   "cell_type": "code",
   "execution_count": 30,
   "id": "ddcae9b9",
   "metadata": {
    "execution": {
     "iopub.execute_input": "2022-12-23T09:44:32.030448Z",
     "iopub.status.busy": "2022-12-23T09:44:32.029232Z",
     "iopub.status.idle": "2022-12-23T09:44:32.035491Z",
     "shell.execute_reply": "2022-12-23T09:44:32.034561Z"
    },
    "papermill": {
     "duration": 0.049452,
     "end_time": "2022-12-23T09:44:32.037976",
     "exception": false,
     "start_time": "2022-12-23T09:44:31.988524",
     "status": "completed"
    },
    "tags": []
   },
   "outputs": [],
   "source": [
    "us_census.reset_index(inplace = True)"
   ]
  },
  {
   "cell_type": "markdown",
   "id": "69b34f74",
   "metadata": {
    "papermill": {
     "duration": 0.039309,
     "end_time": "2022-12-23T09:44:32.119250",
     "exception": false,
     "start_time": "2022-12-23T09:44:32.079941",
     "status": "completed"
    },
    "tags": []
   },
   "source": [
    "### Renaming Column name"
   ]
  },
  {
   "cell_type": "code",
   "execution_count": 31,
   "id": "1bd6d481",
   "metadata": {
    "execution": {
     "iopub.execute_input": "2022-12-23T09:44:32.201310Z",
     "iopub.status.busy": "2022-12-23T09:44:32.200707Z",
     "iopub.status.idle": "2022-12-23T09:44:32.206956Z",
     "shell.execute_reply": "2022-12-23T09:44:32.205807Z"
    },
    "papermill": {
     "duration": 0.050192,
     "end_time": "2022-12-23T09:44:32.209234",
     "exception": false,
     "start_time": "2022-12-23T09:44:32.159042",
     "status": "completed"
    },
    "tags": []
   },
   "outputs": [
    {
     "data": {
      "text/plain": [
       "Index(['index', 'Population estimates, July 1, 2016,  (V2016)',\n",
       "       'Population estimates base, April 1, 2010,  (V2016)',\n",
       "       'Population, percent change - April 1, 2010 (estimates base) to July 1, 2016,  (V2016)',\n",
       "       'Population, Census, April 1, 2010'],\n",
       "      dtype='object', name='Fact')"
      ]
     },
     "execution_count": 31,
     "metadata": {},
     "output_type": "execute_result"
    }
   ],
   "source": [
    "us_census.columns[:5]"
   ]
  },
  {
   "cell_type": "markdown",
   "id": "08c73cf2",
   "metadata": {
    "papermill": {
     "duration": 0.039012,
     "end_time": "2022-12-23T09:44:32.287408",
     "exception": false,
     "start_time": "2022-12-23T09:44:32.248396",
     "status": "completed"
    },
    "tags": []
   },
   "source": [
    "## Renaming the column name"
   ]
  },
  {
   "cell_type": "code",
   "execution_count": 32,
   "id": "9b17fcce",
   "metadata": {
    "execution": {
     "iopub.execute_input": "2022-12-23T09:44:32.367787Z",
     "iopub.status.busy": "2022-12-23T09:44:32.367148Z",
     "iopub.status.idle": "2022-12-23T09:44:32.372900Z",
     "shell.execute_reply": "2022-12-23T09:44:32.371950Z"
    },
    "papermill": {
     "duration": 0.049094,
     "end_time": "2022-12-23T09:44:32.376004",
     "exception": false,
     "start_time": "2022-12-23T09:44:32.326910",
     "status": "completed"
    },
    "tags": []
   },
   "outputs": [
    {
     "name": "stderr",
     "output_type": "stream",
     "text": [
      "/opt/conda/lib/python3.7/site-packages/pandas/core/frame.py:5047: SettingWithCopyWarning: \n",
      "A value is trying to be set on a copy of a slice from a DataFrame\n",
      "\n",
      "See the caveats in the documentation: https://pandas.pydata.org/pandas-docs/stable/user_guide/indexing.html#returning-a-view-versus-a-copy\n",
      "  errors=errors,\n"
     ]
    }
   ],
   "source": [
    "us_census.rename(columns = {'index': 'state'}, inplace = True, errors='ignore' )"
   ]
  },
  {
   "cell_type": "code",
   "execution_count": 33,
   "id": "d6367d1f",
   "metadata": {
    "execution": {
     "iopub.execute_input": "2022-12-23T09:44:32.458031Z",
     "iopub.status.busy": "2022-12-23T09:44:32.456836Z",
     "iopub.status.idle": "2022-12-23T09:44:32.480817Z",
     "shell.execute_reply": "2022-12-23T09:44:32.479556Z"
    },
    "papermill": {
     "duration": 0.068366,
     "end_time": "2022-12-23T09:44:32.483874",
     "exception": false,
     "start_time": "2022-12-23T09:44:32.415508",
     "status": "completed"
    },
    "tags": []
   },
   "outputs": [
    {
     "data": {
      "text/html": [
       "<div>\n",
       "<style scoped>\n",
       "    .dataframe tbody tr th:only-of-type {\n",
       "        vertical-align: middle;\n",
       "    }\n",
       "\n",
       "    .dataframe tbody tr th {\n",
       "        vertical-align: top;\n",
       "    }\n",
       "\n",
       "    .dataframe thead th {\n",
       "        text-align: right;\n",
       "    }\n",
       "</style>\n",
       "<table border=\"1\" class=\"dataframe\">\n",
       "  <thead>\n",
       "    <tr style=\"text-align: right;\">\n",
       "      <th>Fact</th>\n",
       "      <th>state</th>\n",
       "      <th>Population estimates, July 1, 2016,  (V2016)</th>\n",
       "      <th>Population estimates base, April 1, 2010,  (V2016)</th>\n",
       "      <th>Population, percent change - April 1, 2010 (estimates base) to July 1, 2016,  (V2016)</th>\n",
       "      <th>Population, Census, April 1, 2010</th>\n",
       "      <th>Persons under 5 years, percent, July 1, 2016,  (V2016)</th>\n",
       "      <th>Persons under 5 years, percent, April 1, 2010</th>\n",
       "      <th>Persons under 18 years, percent, July 1, 2016,  (V2016)</th>\n",
       "      <th>Persons under 18 years, percent, April 1, 2010</th>\n",
       "      <th>Persons 65 years and over, percent,  July 1, 2016,  (V2016)</th>\n",
       "      <th>...</th>\n",
       "      <th>Total nonemployer establishments, 2015</th>\n",
       "      <th>All firms, 2012</th>\n",
       "      <th>Men-owned firms, 2012</th>\n",
       "      <th>Women-owned firms, 2012</th>\n",
       "      <th>Minority-owned firms, 2012</th>\n",
       "      <th>Nonminority-owned firms, 2012</th>\n",
       "      <th>Veteran-owned firms, 2012</th>\n",
       "      <th>Nonveteran-owned firms, 2012</th>\n",
       "      <th>Population per square mile, 2010</th>\n",
       "      <th>Land area in square miles, 2010</th>\n",
       "    </tr>\n",
       "  </thead>\n",
       "  <tbody>\n",
       "    <tr>\n",
       "      <th>0</th>\n",
       "      <td>Alabama</td>\n",
       "      <td>4,863,300</td>\n",
       "      <td>4,780,131</td>\n",
       "      <td>1.70%</td>\n",
       "      <td>4,779,736</td>\n",
       "      <td>6.00%</td>\n",
       "      <td>6.40%</td>\n",
       "      <td>22.60%</td>\n",
       "      <td>23.70%</td>\n",
       "      <td>16.10%</td>\n",
       "      <td>...</td>\n",
       "      <td>322,025</td>\n",
       "      <td>374,153</td>\n",
       "      <td>203,604</td>\n",
       "      <td>137,630</td>\n",
       "      <td>92,219</td>\n",
       "      <td>272,651</td>\n",
       "      <td>41,943</td>\n",
       "      <td>316,984</td>\n",
       "      <td>94.4</td>\n",
       "      <td>50,645.33</td>\n",
       "    </tr>\n",
       "    <tr>\n",
       "      <th>1</th>\n",
       "      <td>Alaska</td>\n",
       "      <td>741,894</td>\n",
       "      <td>710,249</td>\n",
       "      <td>4.50%</td>\n",
       "      <td>710,231</td>\n",
       "      <td>7.30%</td>\n",
       "      <td>7.60%</td>\n",
       "      <td>25.20%</td>\n",
       "      <td>26.40%</td>\n",
       "      <td>10.40%</td>\n",
       "      <td>...</td>\n",
       "      <td>55,521</td>\n",
       "      <td>68,032</td>\n",
       "      <td>35,402</td>\n",
       "      <td>22,141</td>\n",
       "      <td>13,688</td>\n",
       "      <td>51,147</td>\n",
       "      <td>7,953</td>\n",
       "      <td>56,091</td>\n",
       "      <td>1.2</td>\n",
       "      <td>570,640.95</td>\n",
       "    </tr>\n",
       "  </tbody>\n",
       "</table>\n",
       "<p>2 rows × 65 columns</p>\n",
       "</div>"
      ],
      "text/plain": [
       "Fact    state Population estimates, July 1, 2016,  (V2016)  \\\n",
       "0     Alabama                                    4,863,300   \n",
       "1      Alaska                                      741,894   \n",
       "\n",
       "Fact Population estimates base, April 1, 2010,  (V2016)  \\\n",
       "0                                             4,780,131   \n",
       "1                                               710,249   \n",
       "\n",
       "Fact Population, percent change - April 1, 2010 (estimates base) to July 1, 2016,  (V2016)  \\\n",
       "0                                                 1.70%                                      \n",
       "1                                                 4.50%                                      \n",
       "\n",
       "Fact Population, Census, April 1, 2010  \\\n",
       "0                            4,779,736   \n",
       "1                              710,231   \n",
       "\n",
       "Fact Persons under 5 years, percent, July 1, 2016,  (V2016)  \\\n",
       "0                                                 6.00%       \n",
       "1                                                 7.30%       \n",
       "\n",
       "Fact Persons under 5 years, percent, April 1, 2010  \\\n",
       "0                                            6.40%   \n",
       "1                                            7.60%   \n",
       "\n",
       "Fact Persons under 18 years, percent, July 1, 2016,  (V2016)  \\\n",
       "0                                                22.60%        \n",
       "1                                                25.20%        \n",
       "\n",
       "Fact Persons under 18 years, percent, April 1, 2010  \\\n",
       "0                                            23.70%   \n",
       "1                                            26.40%   \n",
       "\n",
       "Fact Persons 65 years and over, percent,  July 1, 2016,  (V2016)  ...  \\\n",
       "0                                                16.10%           ...   \n",
       "1                                                10.40%           ...   \n",
       "\n",
       "Fact Total nonemployer establishments, 2015 All firms, 2012  \\\n",
       "0                                   322,025         374,153   \n",
       "1                                    55,521          68,032   \n",
       "\n",
       "Fact Men-owned firms, 2012 Women-owned firms, 2012 Minority-owned firms, 2012  \\\n",
       "0                  203,604                 137,630                     92,219   \n",
       "1                   35,402                  22,141                     13,688   \n",
       "\n",
       "Fact Nonminority-owned firms, 2012 Veteran-owned firms, 2012  \\\n",
       "0                          272,651                    41,943   \n",
       "1                           51,147                     7,953   \n",
       "\n",
       "Fact Nonveteran-owned firms, 2012 Population per square mile, 2010  \\\n",
       "0                         316,984                             94.4   \n",
       "1                          56,091                              1.2   \n",
       "\n",
       "Fact Land area in square miles, 2010  \n",
       "0                          50,645.33  \n",
       "1                         570,640.95  \n",
       "\n",
       "[2 rows x 65 columns]"
      ]
     },
     "execution_count": 33,
     "metadata": {},
     "output_type": "execute_result"
    }
   ],
   "source": [
    "us_census.head(2)"
   ]
  },
  {
   "cell_type": "code",
   "execution_count": 34,
   "id": "c0044523",
   "metadata": {
    "execution": {
     "iopub.execute_input": "2022-12-23T09:44:32.568512Z",
     "iopub.status.busy": "2022-12-23T09:44:32.567634Z",
     "iopub.status.idle": "2022-12-23T09:44:32.574327Z",
     "shell.execute_reply": "2022-12-23T09:44:32.573454Z"
    },
    "papermill": {
     "duration": 0.051699,
     "end_time": "2022-12-23T09:44:32.576533",
     "exception": false,
     "start_time": "2022-12-23T09:44:32.524834",
     "status": "completed"
    },
    "tags": []
   },
   "outputs": [
    {
     "data": {
      "text/plain": [
       "50"
      ]
     },
     "execution_count": 34,
     "metadata": {},
     "output_type": "execute_result"
    }
   ],
   "source": [
    "us_census['state'].count()"
   ]
  },
  {
   "cell_type": "markdown",
   "id": "eb50c3f4",
   "metadata": {
    "papermill": {
     "duration": 0.038359,
     "end_time": "2022-12-23T09:44:32.653746",
     "exception": false,
     "start_time": "2022-12-23T09:44:32.615387",
     "status": "completed"
    },
    "tags": []
   },
   "source": [
    "## Checking the data types of the data"
   ]
  },
  {
   "cell_type": "code",
   "execution_count": 35,
   "id": "388bea30",
   "metadata": {
    "execution": {
     "iopub.execute_input": "2022-12-23T09:44:32.736170Z",
     "iopub.status.busy": "2022-12-23T09:44:32.735517Z",
     "iopub.status.idle": "2022-12-23T09:44:32.743085Z",
     "shell.execute_reply": "2022-12-23T09:44:32.741932Z"
    },
    "papermill": {
     "duration": 0.050969,
     "end_time": "2022-12-23T09:44:32.745538",
     "exception": false,
     "start_time": "2022-12-23T09:44:32.694569",
     "status": "completed"
    },
    "tags": []
   },
   "outputs": [
    {
     "data": {
      "text/plain": [
       "month                         object\n",
       "state                         object\n",
       "permit                       float64\n",
       "permit_recheck               float64\n",
       "handgun                      float64\n",
       "long_gun                     float64\n",
       "other                        float64\n",
       "multiple                       int64\n",
       "admin                        float64\n",
       "prepawn_handgun              float64\n",
       "prepawn_long_gun             float64\n",
       "prepawn_other                float64\n",
       "redemption_handgun           float64\n",
       "redemption_long_gun          float64\n",
       "redemption_other             float64\n",
       "returned_handgun             float64\n",
       "returned_long_gun            float64\n",
       "returned_other               float64\n",
       "rentals_handgun              float64\n",
       "rentals_long_gun             float64\n",
       "private_sale_handgun         float64\n",
       "private_sale_long_gun        float64\n",
       "private_sale_other           float64\n",
       "return_to_seller_handgun     float64\n",
       "return_to_seller_long_gun    float64\n",
       "return_to_seller_other       float64\n",
       "totals                         int64\n",
       "dtype: object"
      ]
     },
     "execution_count": 35,
     "metadata": {},
     "output_type": "execute_result"
    }
   ],
   "source": [
    "gun_data.dtypes"
   ]
  },
  {
   "cell_type": "code",
   "execution_count": 36,
   "id": "0c2d52ab",
   "metadata": {
    "execution": {
     "iopub.execute_input": "2022-12-23T09:44:32.827469Z",
     "iopub.status.busy": "2022-12-23T09:44:32.827029Z",
     "iopub.status.idle": "2022-12-23T09:44:32.835351Z",
     "shell.execute_reply": "2022-12-23T09:44:32.834449Z"
    },
    "papermill": {
     "duration": 0.053528,
     "end_time": "2022-12-23T09:44:32.838458",
     "exception": false,
     "start_time": "2022-12-23T09:44:32.784930",
     "status": "completed"
    },
    "tags": []
   },
   "outputs": [
    {
     "data": {
      "text/plain": [
       "Fact\n",
       "state                                                                                    object\n",
       "Population estimates, July 1, 2016,  (V2016)                                             object\n",
       "Population estimates base, April 1, 2010,  (V2016)                                       object\n",
       "Population, percent change - April 1, 2010 (estimates base) to July 1, 2016,  (V2016)    object\n",
       "Population, Census, April 1, 2010                                                        object\n",
       "                                                                                          ...  \n",
       "Nonminority-owned firms, 2012                                                            object\n",
       "Veteran-owned firms, 2012                                                                object\n",
       "Nonveteran-owned firms, 2012                                                             object\n",
       "Population per square mile, 2010                                                         object\n",
       "Land area in square miles, 2010                                                          object\n",
       "Length: 65, dtype: object"
      ]
     },
     "execution_count": 36,
     "metadata": {},
     "output_type": "execute_result"
    }
   ],
   "source": [
    "us_census.dtypes"
   ]
  },
  {
   "cell_type": "markdown",
   "id": "493c0794",
   "metadata": {
    "papermill": {
     "duration": 0.03996,
     "end_time": "2022-12-23T09:44:32.919547",
     "exception": false,
     "start_time": "2022-12-23T09:44:32.879587",
     "status": "completed"
    },
    "tags": []
   },
   "source": [
    "the data type for the census data are all objects because it was a csv file"
   ]
  },
  {
   "cell_type": "code",
   "execution_count": 37,
   "id": "ffc28f7e",
   "metadata": {
    "execution": {
     "iopub.execute_input": "2022-12-23T09:44:33.004671Z",
     "iopub.status.busy": "2022-12-23T09:44:33.002644Z",
     "iopub.status.idle": "2022-12-23T09:44:33.012678Z",
     "shell.execute_reply": "2022-12-23T09:44:33.011152Z"
    },
    "papermill": {
     "duration": 0.058658,
     "end_time": "2022-12-23T09:44:33.017576",
     "exception": false,
     "start_time": "2022-12-23T09:44:32.958918",
     "status": "completed"
    },
    "tags": []
   },
   "outputs": [
    {
     "data": {
      "text/plain": [
       "['District of Columbia',\n",
       " 'Guam',\n",
       " 'Mariana Islands',\n",
       " 'Puerto Rico',\n",
       " 'Virgin Islands']"
      ]
     },
     "execution_count": 37,
     "metadata": {},
     "output_type": "execute_result"
    }
   ],
   "source": [
    "not_us = ['District of Columbia','Guam', 'Mariana Islands', 'Puerto Rico', 'Virgin Islands']\n",
    "not_us"
   ]
  },
  {
   "cell_type": "markdown",
   "id": "bf43d6b4",
   "metadata": {
    "papermill": {
     "duration": 0.038758,
     "end_time": "2022-12-23T09:44:33.100080",
     "exception": false,
     "start_time": "2022-12-23T09:44:33.061322",
     "status": "completed"
    },
    "tags": []
   },
   "source": [
    "### Changing Datatype"
   ]
  },
  {
   "cell_type": "code",
   "execution_count": 38,
   "id": "db9a3c2b",
   "metadata": {
    "execution": {
     "iopub.execute_input": "2022-12-23T09:44:33.181472Z",
     "iopub.status.busy": "2022-12-23T09:44:33.181076Z",
     "iopub.status.idle": "2022-12-23T09:44:33.190004Z",
     "shell.execute_reply": "2022-12-23T09:44:33.188852Z"
    },
    "papermill": {
     "duration": 0.053267,
     "end_time": "2022-12-23T09:44:33.192430",
     "exception": false,
     "start_time": "2022-12-23T09:44:33.139163",
     "status": "completed"
    },
    "tags": []
   },
   "outputs": [
    {
     "data": {
      "text/plain": [
       "Fact\n",
       "state                                                                                    object\n",
       "Population estimates, July 1, 2016,  (V2016)                                             object\n",
       "Population estimates base, April 1, 2010,  (V2016)                                       object\n",
       "Population, percent change - April 1, 2010 (estimates base) to July 1, 2016,  (V2016)    object\n",
       "Population, Census, April 1, 2010                                                        object\n",
       "                                                                                          ...  \n",
       "Nonminority-owned firms, 2012                                                            object\n",
       "Veteran-owned firms, 2012                                                                object\n",
       "Nonveteran-owned firms, 2012                                                             object\n",
       "Population per square mile, 2010                                                         object\n",
       "Land area in square miles, 2010                                                          object\n",
       "Length: 65, dtype: object"
      ]
     },
     "execution_count": 38,
     "metadata": {},
     "output_type": "execute_result"
    }
   ],
   "source": [
    "us_census.dtypes"
   ]
  },
  {
   "cell_type": "code",
   "execution_count": 39,
   "id": "cecaed67",
   "metadata": {
    "execution": {
     "iopub.execute_input": "2022-12-23T09:44:33.276345Z",
     "iopub.status.busy": "2022-12-23T09:44:33.275560Z",
     "iopub.status.idle": "2022-12-23T09:44:33.283702Z",
     "shell.execute_reply": "2022-12-23T09:44:33.282762Z"
    },
    "papermill": {
     "duration": 0.052432,
     "end_time": "2022-12-23T09:44:33.285863",
     "exception": false,
     "start_time": "2022-12-23T09:44:33.233431",
     "status": "completed"
    },
    "tags": []
   },
   "outputs": [
    {
     "data": {
      "text/plain": [
       "Index(['Population estimates, July 1, 2016,  (V2016)',\n",
       "       'Population estimates base, April 1, 2010,  (V2016)',\n",
       "       'Population, percent change - April 1, 2010 (estimates base) to July 1, 2016,  (V2016)',\n",
       "       'Population, Census, April 1, 2010',\n",
       "       'Persons under 5 years, percent, July 1, 2016,  (V2016)',\n",
       "       'Persons under 5 years, percent, April 1, 2010',\n",
       "       'Persons under 18 years, percent, July 1, 2016,  (V2016)',\n",
       "       'Persons under 18 years, percent, April 1, 2010',\n",
       "       'Persons 65 years and over, percent,  July 1, 2016,  (V2016)',\n",
       "       'Persons 65 years and over, percent, April 1, 2010',\n",
       "       'Female persons, percent,  July 1, 2016,  (V2016)',\n",
       "       'Female persons, percent, April 1, 2010',\n",
       "       'White alone, percent, July 1, 2016,  (V2016)',\n",
       "       'Black or African American alone, percent, July 1, 2016,  (V2016)',\n",
       "       'American Indian and Alaska Native alone, percent, July 1, 2016,  (V2016)',\n",
       "       'Asian alone, percent, July 1, 2016,  (V2016)',\n",
       "       'Native Hawaiian and Other Pacific Islander alone, percent, July 1, 2016,  (V2016)',\n",
       "       'Two or More Races, percent, July 1, 2016,  (V2016)',\n",
       "       'Hispanic or Latino, percent, July 1, 2016,  (V2016)',\n",
       "       'White alone, not Hispanic or Latino, percent, July 1, 2016,  (V2016)',\n",
       "       'Veterans, 2011-2015', 'Foreign born persons, percent, 2011-2015',\n",
       "       'Housing units,  July 1, 2016,  (V2016)',\n",
       "       'Housing units, April 1, 2010',\n",
       "       'Owner-occupied housing unit rate, 2011-2015',\n",
       "       'Median value of owner-occupied housing units, 2011-2015',\n",
       "       'Median selected monthly owner costs -with a mortgage, 2011-2015',\n",
       "       'Median selected monthly owner costs -without a mortgage, 2011-2015',\n",
       "       'Median gross rent, 2011-2015', 'Building permits, 2016',\n",
       "       'Households, 2011-2015', 'Persons per household, 2011-2015',\n",
       "       'Living in same house 1 year ago, percent of persons age 1 year+, 2011-2015',\n",
       "       'Language other than English spoken at home, percent of persons age 5 years+, 2011-2015',\n",
       "       'High school graduate or higher, percent of persons age 25 years+, 2011-2015',\n",
       "       'Bachelor's degree or higher, percent of persons age 25 years+, 2011-2015',\n",
       "       'With a disability, under age 65 years, percent, 2011-2015',\n",
       "       'Persons  without health insurance, under age 65 years, percent',\n",
       "       'In civilian labor force, total, percent of population age 16 years+, 2011-2015',\n",
       "       'In civilian labor force, female, percent of population age 16 years+, 2011-2015',\n",
       "       'Total accommodation and food services sales, 2012 ($1,000)',\n",
       "       'Total health care and social assistance receipts/revenue, 2012 ($1,000)',\n",
       "       'Total manufacturers shipments, 2012 ($1,000)',\n",
       "       'Total merchant wholesaler sales, 2012 ($1,000)',\n",
       "       'Total retail sales, 2012 ($1,000)',\n",
       "       'Total retail sales per capita, 2012',\n",
       "       'Mean travel time to work (minutes), workers age 16 years+, 2011-2015',\n",
       "       'Median household income (in 2015 dollars), 2011-2015',\n",
       "       'Per capita income in past 12 months (in 2015 dollars), 2011-2015',\n",
       "       'Persons in poverty, percent', 'Total employer establishments, 2015',\n",
       "       'Total employment, 2015', 'Total annual payroll, 2015 ($1,000)',\n",
       "       'Total employment, percent change, 2014-2015',\n",
       "       'Total nonemployer establishments, 2015', 'All firms, 2012',\n",
       "       'Men-owned firms, 2012', 'Women-owned firms, 2012',\n",
       "       'Minority-owned firms, 2012', 'Nonminority-owned firms, 2012',\n",
       "       'Veteran-owned firms, 2012', 'Nonveteran-owned firms, 2012',\n",
       "       'Population per square mile, 2010', 'Land area in square miles, 2010'],\n",
       "      dtype='object', name='Fact')"
      ]
     },
     "execution_count": 39,
     "metadata": {},
     "output_type": "execute_result"
    }
   ],
   "source": [
    "to_float = us_census.columns[1:]\n",
    "to_float"
   ]
  },
  {
   "cell_type": "markdown",
   "id": "0d3ee24b",
   "metadata": {
    "papermill": {
     "duration": 0.041753,
     "end_time": "2022-12-23T09:44:33.366722",
     "exception": false,
     "start_time": "2022-12-23T09:44:33.324969",
     "status": "completed"
    },
    "tags": []
   },
   "source": [
    "## Obtaining columns whose values are in %"
   ]
  },
  {
   "cell_type": "code",
   "execution_count": 40,
   "id": "87ceed7e",
   "metadata": {
    "execution": {
     "iopub.execute_input": "2022-12-23T09:44:33.447876Z",
     "iopub.status.busy": "2022-12-23T09:44:33.447496Z",
     "iopub.status.idle": "2022-12-23T09:44:33.454613Z",
     "shell.execute_reply": "2022-12-23T09:44:33.453549Z"
    },
    "papermill": {
     "duration": 0.050072,
     "end_time": "2022-12-23T09:44:33.456767",
     "exception": false,
     "start_time": "2022-12-23T09:44:33.406695",
     "status": "completed"
    },
    "tags": []
   },
   "outputs": [],
   "source": [
    "in_percentage = ['Population, percent change - April 1, 2010 (estimates base) to July 1, 2016,  (V2016)',            \n",
    "'Persons under 5 years, percent, July 1, 2016,  (V2016)',\n",
    "'Persons under 5 years, percent, April 1, 2010',\n",
    "'Persons under 18 years, percent, July 1, 2016,  (V2016)',\n",
    "'Persons under 18 years, percent, April 1, 2010',\n",
    "'Persons 65 years and over, percent,  July 1, 2016,  (V2016)',\n",
    "'Persons 65 years and over, percent, April 1, 2010',\n",
    "'Female persons, percent,  July 1, 2016,  (V2016)',\n",
    "'Female persons, percent, April 1, 2010',\n",
    "'White alone, percent, July 1, 2016,  (V2016)',\n",
    "'Black or African American alone, percent, July 1, 2016,  (V2016)',\n",
    "'American Indian and Alaska Native alone, percent, July 1, 2016,  (V2016)',\n",
    "'Asian alone, percent, July 1, 2016,  (V2016)',\n",
    "'Native Hawaiian and Other Pacific Islander alone, percent, July 1, 2016,  (V2016)',\n",
    "'Two or More Races, percent, July 1, 2016,  (V2016)',\n",
    "'Hispanic or Latino, percent, July 1, 2016,  (V2016)',\n",
    "'White alone, not Hispanic or Latino, percent, July 1, 2016,  (V2016)',\n",
    "'Foreign born persons, percent, 2011-2015',\n",
    "'Owner-occupied housing unit rate, 2011-2015',\n",
    "'Living in same house 1 year ago, percent of persons age 1 year+, 2011-2015',\n",
    "'Language other than English spoken at home, percent of persons age 5 years+, 2011-2015',\n",
    "'High school graduate or higher, percent of persons age 25 years+, 2011-2015',\n",
    "\"Bachelor's degree or higher, percent of persons age 25 years+, 2011-2015\",\n",
    "'With a disability, under age 65 years, percent, 2011-2015',\n",
    "'Persons  without health insurance, under age 65 years, percent',\n",
    "'In civilian labor force, total, percent of population age 16 years+, 2011-2015',\n",
    "'In civilian labor force, female, percent of population age 16 years+, 2011-2015',\n",
    "'Persons in poverty, percent',\n",
    "'Total employment, percent change, 2014-2015'\n",
    "                ]"
   ]
  },
  {
   "cell_type": "code",
   "execution_count": 41,
   "id": "040cfe03",
   "metadata": {
    "execution": {
     "iopub.execute_input": "2022-12-23T09:44:33.541057Z",
     "iopub.status.busy": "2022-12-23T09:44:33.540281Z",
     "iopub.status.idle": "2022-12-23T09:44:33.547715Z",
     "shell.execute_reply": "2022-12-23T09:44:33.546567Z"
    },
    "papermill": {
     "duration": 0.050661,
     "end_time": "2022-12-23T09:44:33.550045",
     "exception": false,
     "start_time": "2022-12-23T09:44:33.499384",
     "status": "completed"
    },
    "tags": []
   },
   "outputs": [
    {
     "data": {
      "text/plain": [
       "['Population, percent change - April 1, 2010 (estimates base) to July 1, 2016,  (V2016)',\n",
       " 'Persons under 5 years, percent, July 1, 2016,  (V2016)',\n",
       " 'Persons under 5 years, percent, April 1, 2010',\n",
       " 'Persons under 18 years, percent, July 1, 2016,  (V2016)',\n",
       " 'Persons under 18 years, percent, April 1, 2010',\n",
       " 'Persons 65 years and over, percent,  July 1, 2016,  (V2016)',\n",
       " 'Persons 65 years and over, percent, April 1, 2010',\n",
       " 'Female persons, percent,  July 1, 2016,  (V2016)',\n",
       " 'Female persons, percent, April 1, 2010',\n",
       " 'White alone, percent, July 1, 2016,  (V2016)',\n",
       " 'Black or African American alone, percent, July 1, 2016,  (V2016)',\n",
       " 'American Indian and Alaska Native alone, percent, July 1, 2016,  (V2016)',\n",
       " 'Asian alone, percent, July 1, 2016,  (V2016)',\n",
       " 'Native Hawaiian and Other Pacific Islander alone, percent, July 1, 2016,  (V2016)',\n",
       " 'Two or More Races, percent, July 1, 2016,  (V2016)',\n",
       " 'Hispanic or Latino, percent, July 1, 2016,  (V2016)',\n",
       " 'White alone, not Hispanic or Latino, percent, July 1, 2016,  (V2016)',\n",
       " 'Foreign born persons, percent, 2011-2015',\n",
       " 'Owner-occupied housing unit rate, 2011-2015',\n",
       " 'Living in same house 1 year ago, percent of persons age 1 year+, 2011-2015',\n",
       " 'Language other than English spoken at home, percent of persons age 5 years+, 2011-2015',\n",
       " 'High school graduate or higher, percent of persons age 25 years+, 2011-2015',\n",
       " \"Bachelor's degree or higher, percent of persons age 25 years+, 2011-2015\",\n",
       " 'With a disability, under age 65 years, percent, 2011-2015',\n",
       " 'Persons  without health insurance, under age 65 years, percent',\n",
       " 'In civilian labor force, total, percent of population age 16 years+, 2011-2015',\n",
       " 'In civilian labor force, female, percent of population age 16 years+, 2011-2015',\n",
       " 'Persons in poverty, percent',\n",
       " 'Total employment, percent change, 2014-2015']"
      ]
     },
     "execution_count": 41,
     "metadata": {},
     "output_type": "execute_result"
    }
   ],
   "source": [
    "in_percentage"
   ]
  },
  {
   "cell_type": "markdown",
   "id": "701fa5da",
   "metadata": {
    "papermill": {
     "duration": 0.041669,
     "end_time": "2022-12-23T09:44:33.630949",
     "exception": false,
     "start_time": "2022-12-23T09:44:33.589280",
     "status": "completed"
    },
    "tags": []
   },
   "source": [
    "## Obtaining columns whose values are in USD"
   ]
  },
  {
   "cell_type": "code",
   "execution_count": 42,
   "id": "052becf3",
   "metadata": {
    "execution": {
     "iopub.execute_input": "2022-12-23T09:44:33.715575Z",
     "iopub.status.busy": "2022-12-23T09:44:33.714908Z",
     "iopub.status.idle": "2022-12-23T09:44:33.720300Z",
     "shell.execute_reply": "2022-12-23T09:44:33.719382Z"
    },
    "papermill": {
     "duration": 0.05105,
     "end_time": "2022-12-23T09:44:33.722683",
     "exception": false,
     "start_time": "2022-12-23T09:44:33.671633",
     "status": "completed"
    },
    "tags": []
   },
   "outputs": [],
   "source": [
    "in_usd = [\"Median value of owner-occupied housing units, 2011-2015\",\n",
    "\"Median selected monthly owner costs -with a mortgage, 2011-2015\",\n",
    "\"Median selected monthly owner costs -without a mortgage, 2011-2015\",\n",
    "\"Median gross rent, 2011-2015\",\n",
    "\"Total retail sales per capita, 2012\",\n",
    "\"Median household income (in 2015 dollars), 2011-2015\",\n",
    "\"Per capita income in past 12 months (in 2015 dollars), 2011-2015\"\n",
    "]"
   ]
  },
  {
   "cell_type": "code",
   "execution_count": 43,
   "id": "b4685edb",
   "metadata": {
    "execution": {
     "iopub.execute_input": "2022-12-23T09:44:33.805012Z",
     "iopub.status.busy": "2022-12-23T09:44:33.804314Z",
     "iopub.status.idle": "2022-12-23T09:44:33.811875Z",
     "shell.execute_reply": "2022-12-23T09:44:33.810774Z"
    },
    "papermill": {
     "duration": 0.051411,
     "end_time": "2022-12-23T09:44:33.814854",
     "exception": false,
     "start_time": "2022-12-23T09:44:33.763443",
     "status": "completed"
    },
    "tags": []
   },
   "outputs": [
    {
     "data": {
      "text/plain": [
       "['Median value of owner-occupied housing units, 2011-2015',\n",
       " 'Median selected monthly owner costs -with a mortgage, 2011-2015',\n",
       " 'Median selected monthly owner costs -without a mortgage, 2011-2015',\n",
       " 'Median gross rent, 2011-2015',\n",
       " 'Total retail sales per capita, 2012',\n",
       " 'Median household income (in 2015 dollars), 2011-2015',\n",
       " 'Per capita income in past 12 months (in 2015 dollars), 2011-2015']"
      ]
     },
     "execution_count": 43,
     "metadata": {},
     "output_type": "execute_result"
    }
   ],
   "source": [
    "in_usd"
   ]
  },
  {
   "cell_type": "markdown",
   "id": "ee57da9d",
   "metadata": {
    "papermill": {
     "duration": 0.041576,
     "end_time": "2022-12-23T09:44:33.896168",
     "exception": false,
     "start_time": "2022-12-23T09:44:33.854592",
     "status": "completed"
    },
    "tags": []
   },
   "source": [
    "## Replacing the % value with empty string in order to change the data type"
   ]
  },
  {
   "cell_type": "code",
   "execution_count": 44,
   "id": "263d1511",
   "metadata": {
    "execution": {
     "iopub.execute_input": "2022-12-23T09:44:33.979532Z",
     "iopub.status.busy": "2022-12-23T09:44:33.978818Z",
     "iopub.status.idle": "2022-12-23T09:44:34.001135Z",
     "shell.execute_reply": "2022-12-23T09:44:33.999909Z"
    },
    "papermill": {
     "duration": 0.066099,
     "end_time": "2022-12-23T09:44:34.003774",
     "exception": false,
     "start_time": "2022-12-23T09:44:33.937675",
     "status": "completed"
    },
    "tags": []
   },
   "outputs": [
    {
     "name": "stderr",
     "output_type": "stream",
     "text": [
      "/opt/conda/lib/python3.7/site-packages/ipykernel_launcher.py:2: SettingWithCopyWarning: \n",
      "A value is trying to be set on a copy of a slice from a DataFrame.\n",
      "Try using .loc[row_indexer,col_indexer] = value instead\n",
      "\n",
      "See the caveats in the documentation: https://pandas.pydata.org/pandas-docs/stable/user_guide/indexing.html#returning-a-view-versus-a-copy\n",
      "  \n"
     ]
    }
   ],
   "source": [
    "for i in in_percentage:\n",
    "    us_census[i] = us_census[i].str.replace( \"%\", \"\")"
   ]
  },
  {
   "cell_type": "code",
   "execution_count": 45,
   "id": "970eb89b",
   "metadata": {
    "execution": {
     "iopub.execute_input": "2022-12-23T09:44:34.085871Z",
     "iopub.status.busy": "2022-12-23T09:44:34.085473Z",
     "iopub.status.idle": "2022-12-23T09:44:34.113193Z",
     "shell.execute_reply": "2022-12-23T09:44:34.111960Z"
    },
    "papermill": {
     "duration": 0.071731,
     "end_time": "2022-12-23T09:44:34.115719",
     "exception": false,
     "start_time": "2022-12-23T09:44:34.043988",
     "status": "completed"
    },
    "tags": []
   },
   "outputs": [
    {
     "data": {
      "text/html": [
       "<div>\n",
       "<style scoped>\n",
       "    .dataframe tbody tr th:only-of-type {\n",
       "        vertical-align: middle;\n",
       "    }\n",
       "\n",
       "    .dataframe tbody tr th {\n",
       "        vertical-align: top;\n",
       "    }\n",
       "\n",
       "    .dataframe thead th {\n",
       "        text-align: right;\n",
       "    }\n",
       "</style>\n",
       "<table border=\"1\" class=\"dataframe\">\n",
       "  <thead>\n",
       "    <tr style=\"text-align: right;\">\n",
       "      <th>Fact</th>\n",
       "      <th>state</th>\n",
       "      <th>Population estimates, July 1, 2016,  (V2016)</th>\n",
       "      <th>Population estimates base, April 1, 2010,  (V2016)</th>\n",
       "      <th>Population, percent change - April 1, 2010 (estimates base) to July 1, 2016,  (V2016)</th>\n",
       "      <th>Population, Census, April 1, 2010</th>\n",
       "      <th>Persons under 5 years, percent, July 1, 2016,  (V2016)</th>\n",
       "      <th>Persons under 5 years, percent, April 1, 2010</th>\n",
       "      <th>Persons under 18 years, percent, July 1, 2016,  (V2016)</th>\n",
       "      <th>Persons under 18 years, percent, April 1, 2010</th>\n",
       "      <th>Persons 65 years and over, percent,  July 1, 2016,  (V2016)</th>\n",
       "      <th>...</th>\n",
       "      <th>Total nonemployer establishments, 2015</th>\n",
       "      <th>All firms, 2012</th>\n",
       "      <th>Men-owned firms, 2012</th>\n",
       "      <th>Women-owned firms, 2012</th>\n",
       "      <th>Minority-owned firms, 2012</th>\n",
       "      <th>Nonminority-owned firms, 2012</th>\n",
       "      <th>Veteran-owned firms, 2012</th>\n",
       "      <th>Nonveteran-owned firms, 2012</th>\n",
       "      <th>Population per square mile, 2010</th>\n",
       "      <th>Land area in square miles, 2010</th>\n",
       "    </tr>\n",
       "  </thead>\n",
       "  <tbody>\n",
       "    <tr>\n",
       "      <th>0</th>\n",
       "      <td>Alabama</td>\n",
       "      <td>4,863,300</td>\n",
       "      <td>4,780,131</td>\n",
       "      <td>1.70</td>\n",
       "      <td>4,779,736</td>\n",
       "      <td>6.00</td>\n",
       "      <td>6.40</td>\n",
       "      <td>22.60</td>\n",
       "      <td>23.70</td>\n",
       "      <td>16.10</td>\n",
       "      <td>...</td>\n",
       "      <td>322,025</td>\n",
       "      <td>374,153</td>\n",
       "      <td>203,604</td>\n",
       "      <td>137,630</td>\n",
       "      <td>92,219</td>\n",
       "      <td>272,651</td>\n",
       "      <td>41,943</td>\n",
       "      <td>316,984</td>\n",
       "      <td>94.4</td>\n",
       "      <td>50,645.33</td>\n",
       "    </tr>\n",
       "    <tr>\n",
       "      <th>1</th>\n",
       "      <td>Alaska</td>\n",
       "      <td>741,894</td>\n",
       "      <td>710,249</td>\n",
       "      <td>4.50</td>\n",
       "      <td>710,231</td>\n",
       "      <td>7.30</td>\n",
       "      <td>7.60</td>\n",
       "      <td>25.20</td>\n",
       "      <td>26.40</td>\n",
       "      <td>10.40</td>\n",
       "      <td>...</td>\n",
       "      <td>55,521</td>\n",
       "      <td>68,032</td>\n",
       "      <td>35,402</td>\n",
       "      <td>22,141</td>\n",
       "      <td>13,688</td>\n",
       "      <td>51,147</td>\n",
       "      <td>7,953</td>\n",
       "      <td>56,091</td>\n",
       "      <td>1.2</td>\n",
       "      <td>570,640.95</td>\n",
       "    </tr>\n",
       "    <tr>\n",
       "      <th>2</th>\n",
       "      <td>Arizona</td>\n",
       "      <td>6,931,071</td>\n",
       "      <td>6,392,301</td>\n",
       "      <td>8.40</td>\n",
       "      <td>6,392,017</td>\n",
       "      <td>6.30</td>\n",
       "      <td>7.10</td>\n",
       "      <td>23.50</td>\n",
       "      <td>25.50</td>\n",
       "      <td>16.90</td>\n",
       "      <td>...</td>\n",
       "      <td>451,951</td>\n",
       "      <td>499,926</td>\n",
       "      <td>245,243</td>\n",
       "      <td>182,425</td>\n",
       "      <td>135,313</td>\n",
       "      <td>344,981</td>\n",
       "      <td>46,780</td>\n",
       "      <td>427,582</td>\n",
       "      <td>56.3</td>\n",
       "      <td>113,594.08</td>\n",
       "    </tr>\n",
       "    <tr>\n",
       "      <th>3</th>\n",
       "      <td>Arkansas</td>\n",
       "      <td>2,988,248</td>\n",
       "      <td>2,916,025</td>\n",
       "      <td>2.50</td>\n",
       "      <td>2,915,918</td>\n",
       "      <td>6.40</td>\n",
       "      <td>6.80</td>\n",
       "      <td>23.60</td>\n",
       "      <td>24.40</td>\n",
       "      <td>16.30</td>\n",
       "      <td>...</td>\n",
       "      <td>198,380</td>\n",
       "      <td>231,959</td>\n",
       "      <td>123,158</td>\n",
       "      <td>75,962</td>\n",
       "      <td>35,982</td>\n",
       "      <td>189,029</td>\n",
       "      <td>25,915</td>\n",
       "      <td>192,988</td>\n",
       "      <td>56</td>\n",
       "      <td>52,035.48</td>\n",
       "    </tr>\n",
       "    <tr>\n",
       "      <th>4</th>\n",
       "      <td>California</td>\n",
       "      <td>39,250,017</td>\n",
       "      <td>37,254,522</td>\n",
       "      <td>5.40</td>\n",
       "      <td>37,253,956</td>\n",
       "      <td>6.30</td>\n",
       "      <td>6.80</td>\n",
       "      <td>23.20</td>\n",
       "      <td>25.00</td>\n",
       "      <td>13.60</td>\n",
       "      <td>...</td>\n",
       "      <td>3,206,958</td>\n",
       "      <td>3,548,449</td>\n",
       "      <td>1,852,580</td>\n",
       "      <td>1,320,085</td>\n",
       "      <td>1,619,857</td>\n",
       "      <td>1,819,107</td>\n",
       "      <td>252,377</td>\n",
       "      <td>3,176,341</td>\n",
       "      <td>239.1</td>\n",
       "      <td>155,779.22</td>\n",
       "    </tr>\n",
       "  </tbody>\n",
       "</table>\n",
       "<p>5 rows × 65 columns</p>\n",
       "</div>"
      ],
      "text/plain": [
       "Fact       state Population estimates, July 1, 2016,  (V2016)  \\\n",
       "0        Alabama                                    4,863,300   \n",
       "1         Alaska                                      741,894   \n",
       "2        Arizona                                    6,931,071   \n",
       "3       Arkansas                                    2,988,248   \n",
       "4     California                                   39,250,017   \n",
       "\n",
       "Fact Population estimates base, April 1, 2010,  (V2016)  \\\n",
       "0                                             4,780,131   \n",
       "1                                               710,249   \n",
       "2                                             6,392,301   \n",
       "3                                             2,916,025   \n",
       "4                                            37,254,522   \n",
       "\n",
       "Fact Population, percent change - April 1, 2010 (estimates base) to July 1, 2016,  (V2016)  \\\n",
       "0                                                  1.70                                      \n",
       "1                                                  4.50                                      \n",
       "2                                                  8.40                                      \n",
       "3                                                  2.50                                      \n",
       "4                                                  5.40                                      \n",
       "\n",
       "Fact Population, Census, April 1, 2010  \\\n",
       "0                            4,779,736   \n",
       "1                              710,231   \n",
       "2                            6,392,017   \n",
       "3                            2,915,918   \n",
       "4                           37,253,956   \n",
       "\n",
       "Fact Persons under 5 years, percent, July 1, 2016,  (V2016)  \\\n",
       "0                                                  6.00       \n",
       "1                                                  7.30       \n",
       "2                                                  6.30       \n",
       "3                                                  6.40       \n",
       "4                                                  6.30       \n",
       "\n",
       "Fact Persons under 5 years, percent, April 1, 2010  \\\n",
       "0                                             6.40   \n",
       "1                                             7.60   \n",
       "2                                             7.10   \n",
       "3                                             6.80   \n",
       "4                                             6.80   \n",
       "\n",
       "Fact Persons under 18 years, percent, July 1, 2016,  (V2016)  \\\n",
       "0                                                 22.60        \n",
       "1                                                 25.20        \n",
       "2                                                 23.50        \n",
       "3                                                 23.60        \n",
       "4                                                 23.20        \n",
       "\n",
       "Fact Persons under 18 years, percent, April 1, 2010  \\\n",
       "0                                             23.70   \n",
       "1                                             26.40   \n",
       "2                                             25.50   \n",
       "3                                             24.40   \n",
       "4                                             25.00   \n",
       "\n",
       "Fact Persons 65 years and over, percent,  July 1, 2016,  (V2016)  ...  \\\n",
       "0                                                 16.10           ...   \n",
       "1                                                 10.40           ...   \n",
       "2                                                 16.90           ...   \n",
       "3                                                 16.30           ...   \n",
       "4                                                 13.60           ...   \n",
       "\n",
       "Fact Total nonemployer establishments, 2015 All firms, 2012  \\\n",
       "0                                   322,025         374,153   \n",
       "1                                    55,521          68,032   \n",
       "2                                   451,951         499,926   \n",
       "3                                   198,380         231,959   \n",
       "4                                 3,206,958       3,548,449   \n",
       "\n",
       "Fact Men-owned firms, 2012 Women-owned firms, 2012 Minority-owned firms, 2012  \\\n",
       "0                  203,604                 137,630                     92,219   \n",
       "1                   35,402                  22,141                     13,688   \n",
       "2                  245,243                 182,425                    135,313   \n",
       "3                  123,158                  75,962                     35,982   \n",
       "4                1,852,580               1,320,085                  1,619,857   \n",
       "\n",
       "Fact Nonminority-owned firms, 2012 Veteran-owned firms, 2012  \\\n",
       "0                          272,651                    41,943   \n",
       "1                           51,147                     7,953   \n",
       "2                          344,981                    46,780   \n",
       "3                          189,029                    25,915   \n",
       "4                        1,819,107                   252,377   \n",
       "\n",
       "Fact Nonveteran-owned firms, 2012 Population per square mile, 2010  \\\n",
       "0                         316,984                             94.4   \n",
       "1                          56,091                              1.2   \n",
       "2                         427,582                             56.3   \n",
       "3                         192,988                               56   \n",
       "4                       3,176,341                            239.1   \n",
       "\n",
       "Fact Land area in square miles, 2010  \n",
       "0                          50,645.33  \n",
       "1                         570,640.95  \n",
       "2                         113,594.08  \n",
       "3                          52,035.48  \n",
       "4                         155,779.22  \n",
       "\n",
       "[5 rows x 65 columns]"
      ]
     },
     "execution_count": 45,
     "metadata": {},
     "output_type": "execute_result"
    }
   ],
   "source": [
    "#crosschecking the removal of the % sign\n",
    "us_census.head(5)"
   ]
  },
  {
   "cell_type": "markdown",
   "id": "04e8064c",
   "metadata": {
    "papermill": {
     "duration": 0.04054,
     "end_time": "2022-12-23T09:44:34.196156",
     "exception": false,
     "start_time": "2022-12-23T09:44:34.155616",
     "status": "completed"
    },
    "tags": []
   },
   "source": [
    "## Confirmation of the existence of the USD symbol "
   ]
  },
  {
   "cell_type": "code",
   "execution_count": 46,
   "id": "17fb7c95",
   "metadata": {
    "execution": {
     "iopub.execute_input": "2022-12-23T09:44:34.279092Z",
     "iopub.status.busy": "2022-12-23T09:44:34.278727Z",
     "iopub.status.idle": "2022-12-23T09:44:34.286693Z",
     "shell.execute_reply": "2022-12-23T09:44:34.285552Z"
    },
    "papermill": {
     "duration": 0.051519,
     "end_time": "2022-12-23T09:44:34.288992",
     "exception": false,
     "start_time": "2022-12-23T09:44:34.237473",
     "status": "completed"
    },
    "tags": []
   },
   "outputs": [
    {
     "data": {
      "text/plain": [
       "0    $125,500 \n",
       "1    $250,000 \n",
       "2    $167,500 \n",
       "3    $111,400 \n",
       "Name: Median value of owner-occupied housing units, 2011-2015, dtype: object"
      ]
     },
     "execution_count": 46,
     "metadata": {},
     "output_type": "execute_result"
    }
   ],
   "source": [
    "us_census['Median value of owner-occupied housing units, 2011-2015'].head(4)"
   ]
  },
  {
   "cell_type": "markdown",
   "id": "450f228a",
   "metadata": {
    "papermill": {
     "duration": 0.040035,
     "end_time": "2022-12-23T09:44:34.370821",
     "exception": false,
     "start_time": "2022-12-23T09:44:34.330786",
     "status": "completed"
    },
    "tags": []
   },
   "source": [
    "## Replacing the USD value with empty string in order to change the data type"
   ]
  },
  {
   "cell_type": "code",
   "execution_count": 47,
   "id": "d07974f8",
   "metadata": {
    "execution": {
     "iopub.execute_input": "2022-12-23T09:44:34.453024Z",
     "iopub.status.busy": "2022-12-23T09:44:34.452636Z",
     "iopub.status.idle": "2022-12-23T09:44:34.462210Z",
     "shell.execute_reply": "2022-12-23T09:44:34.460891Z"
    },
    "papermill": {
     "duration": 0.054524,
     "end_time": "2022-12-23T09:44:34.465440",
     "exception": false,
     "start_time": "2022-12-23T09:44:34.410916",
     "status": "completed"
    },
    "tags": []
   },
   "outputs": [
    {
     "name": "stderr",
     "output_type": "stream",
     "text": [
      "/opt/conda/lib/python3.7/site-packages/ipykernel_launcher.py:2: FutureWarning: The default value of regex will change from True to False in a future version. In addition, single character regular expressions will *not* be treated as literal strings when regex=True.\n",
      "  \n",
      "/opt/conda/lib/python3.7/site-packages/ipykernel_launcher.py:2: SettingWithCopyWarning: \n",
      "A value is trying to be set on a copy of a slice from a DataFrame.\n",
      "Try using .loc[row_indexer,col_indexer] = value instead\n",
      "\n",
      "See the caveats in the documentation: https://pandas.pydata.org/pandas-docs/stable/user_guide/indexing.html#returning-a-view-versus-a-copy\n",
      "  \n"
     ]
    }
   ],
   "source": [
    "for i in in_usd:\n",
    "    us_census[i] = us_census[i].str.replace( \"$\", \"\")\n"
   ]
  },
  {
   "cell_type": "markdown",
   "id": "be52722d",
   "metadata": {
    "papermill": {
     "duration": 0.039682,
     "end_time": "2022-12-23T09:44:34.550590",
     "exception": false,
     "start_time": "2022-12-23T09:44:34.510908",
     "status": "completed"
    },
    "tags": []
   },
   "source": [
    "## Confirmation of the non-existence of the USD symbol "
   ]
  },
  {
   "cell_type": "code",
   "execution_count": 48,
   "id": "c21e2a01",
   "metadata": {
    "execution": {
     "iopub.execute_input": "2022-12-23T09:44:34.633476Z",
     "iopub.status.busy": "2022-12-23T09:44:34.633051Z",
     "iopub.status.idle": "2022-12-23T09:44:34.641867Z",
     "shell.execute_reply": "2022-12-23T09:44:34.640600Z"
    },
    "papermill": {
     "duration": 0.052401,
     "end_time": "2022-12-23T09:44:34.644209",
     "exception": false,
     "start_time": "2022-12-23T09:44:34.591808",
     "status": "completed"
    },
    "tags": []
   },
   "outputs": [
    {
     "data": {
      "text/plain": [
       "0    125,500 \n",
       "1    250,000 \n",
       "2    167,500 \n",
       "3    111,400 \n",
       "Name: Median value of owner-occupied housing units, 2011-2015, dtype: object"
      ]
     },
     "execution_count": 48,
     "metadata": {},
     "output_type": "execute_result"
    }
   ],
   "source": [
    "us_census['Median value of owner-occupied housing units, 2011-2015'].head(4)"
   ]
  },
  {
   "cell_type": "markdown",
   "id": "77571990",
   "metadata": {
    "papermill": {
     "duration": 0.03974,
     "end_time": "2022-12-23T09:44:34.724581",
     "exception": false,
     "start_time": "2022-12-23T09:44:34.684841",
     "status": "completed"
    },
    "tags": []
   },
   "source": [
    "## Converting datatype from string to float"
   ]
  },
  {
   "cell_type": "markdown",
   "id": "f32e9f90",
   "metadata": {
    "papermill": {
     "duration": 0.04043,
     "end_time": "2022-12-23T09:44:34.805545",
     "exception": false,
     "start_time": "2022-12-23T09:44:34.765115",
     "status": "completed"
    },
    "tags": []
   },
   "source": [
    "Some of the values contains some symbols and characters so this will replace all non digits with empty string"
   ]
  },
  {
   "cell_type": "code",
   "execution_count": 49,
   "id": "0701f420",
   "metadata": {
    "execution": {
     "iopub.execute_input": "2022-12-23T09:44:34.889522Z",
     "iopub.status.busy": "2022-12-23T09:44:34.888717Z",
     "iopub.status.idle": "2022-12-23T09:44:34.926115Z",
     "shell.execute_reply": "2022-12-23T09:44:34.924927Z"
    },
    "papermill": {
     "duration": 0.081331,
     "end_time": "2022-12-23T09:44:34.928415",
     "exception": false,
     "start_time": "2022-12-23T09:44:34.847084",
     "status": "completed"
    },
    "tags": []
   },
   "outputs": [
    {
     "name": "stderr",
     "output_type": "stream",
     "text": [
      "/opt/conda/lib/python3.7/site-packages/ipykernel_launcher.py:4: SettingWithCopyWarning: \n",
      "A value is trying to be set on a copy of a slice from a DataFrame.\n",
      "Try using .loc[row_indexer,col_indexer] = value instead\n",
      "\n",
      "See the caveats in the documentation: https://pandas.pydata.org/pandas-docs/stable/user_guide/indexing.html#returning-a-view-versus-a-copy\n",
      "  after removing the cwd from sys.path.\n"
     ]
    }
   ],
   "source": [
    "to_float = us_census.columns[1:]\n",
    "import re\n",
    "for c in to_float:\n",
    "    us_census[c] = us_census[c].apply(lambda x: re.sub(\"\\D\", \"\", x))"
   ]
  },
  {
   "cell_type": "code",
   "execution_count": 50,
   "id": "28a14575",
   "metadata": {
    "execution": {
     "iopub.execute_input": "2022-12-23T09:44:35.014152Z",
     "iopub.status.busy": "2022-12-23T09:44:35.013140Z",
     "iopub.status.idle": "2022-12-23T09:44:35.041401Z",
     "shell.execute_reply": "2022-12-23T09:44:35.040088Z"
    },
    "papermill": {
     "duration": 0.074204,
     "end_time": "2022-12-23T09:44:35.043991",
     "exception": false,
     "start_time": "2022-12-23T09:44:34.969787",
     "status": "completed"
    },
    "tags": []
   },
   "outputs": [
    {
     "data": {
      "text/html": [
       "<div>\n",
       "<style scoped>\n",
       "    .dataframe tbody tr th:only-of-type {\n",
       "        vertical-align: middle;\n",
       "    }\n",
       "\n",
       "    .dataframe tbody tr th {\n",
       "        vertical-align: top;\n",
       "    }\n",
       "\n",
       "    .dataframe thead th {\n",
       "        text-align: right;\n",
       "    }\n",
       "</style>\n",
       "<table border=\"1\" class=\"dataframe\">\n",
       "  <thead>\n",
       "    <tr style=\"text-align: right;\">\n",
       "      <th>Fact</th>\n",
       "      <th>state</th>\n",
       "      <th>Population estimates, July 1, 2016,  (V2016)</th>\n",
       "      <th>Population estimates base, April 1, 2010,  (V2016)</th>\n",
       "      <th>Population, percent change - April 1, 2010 (estimates base) to July 1, 2016,  (V2016)</th>\n",
       "      <th>Population, Census, April 1, 2010</th>\n",
       "      <th>Persons under 5 years, percent, July 1, 2016,  (V2016)</th>\n",
       "      <th>Persons under 5 years, percent, April 1, 2010</th>\n",
       "      <th>Persons under 18 years, percent, July 1, 2016,  (V2016)</th>\n",
       "      <th>Persons under 18 years, percent, April 1, 2010</th>\n",
       "      <th>Persons 65 years and over, percent,  July 1, 2016,  (V2016)</th>\n",
       "      <th>...</th>\n",
       "      <th>Total nonemployer establishments, 2015</th>\n",
       "      <th>All firms, 2012</th>\n",
       "      <th>Men-owned firms, 2012</th>\n",
       "      <th>Women-owned firms, 2012</th>\n",
       "      <th>Minority-owned firms, 2012</th>\n",
       "      <th>Nonminority-owned firms, 2012</th>\n",
       "      <th>Veteran-owned firms, 2012</th>\n",
       "      <th>Nonveteran-owned firms, 2012</th>\n",
       "      <th>Population per square mile, 2010</th>\n",
       "      <th>Land area in square miles, 2010</th>\n",
       "    </tr>\n",
       "  </thead>\n",
       "  <tbody>\n",
       "    <tr>\n",
       "      <th>0</th>\n",
       "      <td>Alabama</td>\n",
       "      <td>4863300</td>\n",
       "      <td>4780131</td>\n",
       "      <td>170</td>\n",
       "      <td>4779736</td>\n",
       "      <td>600</td>\n",
       "      <td>640</td>\n",
       "      <td>2260</td>\n",
       "      <td>2370</td>\n",
       "      <td>1610</td>\n",
       "      <td>...</td>\n",
       "      <td>322025</td>\n",
       "      <td>374153</td>\n",
       "      <td>203604</td>\n",
       "      <td>137630</td>\n",
       "      <td>92219</td>\n",
       "      <td>272651</td>\n",
       "      <td>41943</td>\n",
       "      <td>316984</td>\n",
       "      <td>944</td>\n",
       "      <td>5064533</td>\n",
       "    </tr>\n",
       "    <tr>\n",
       "      <th>1</th>\n",
       "      <td>Alaska</td>\n",
       "      <td>741894</td>\n",
       "      <td>710249</td>\n",
       "      <td>450</td>\n",
       "      <td>710231</td>\n",
       "      <td>730</td>\n",
       "      <td>760</td>\n",
       "      <td>2520</td>\n",
       "      <td>2640</td>\n",
       "      <td>1040</td>\n",
       "      <td>...</td>\n",
       "      <td>55521</td>\n",
       "      <td>68032</td>\n",
       "      <td>35402</td>\n",
       "      <td>22141</td>\n",
       "      <td>13688</td>\n",
       "      <td>51147</td>\n",
       "      <td>7953</td>\n",
       "      <td>56091</td>\n",
       "      <td>12</td>\n",
       "      <td>57064095</td>\n",
       "    </tr>\n",
       "    <tr>\n",
       "      <th>2</th>\n",
       "      <td>Arizona</td>\n",
       "      <td>6931071</td>\n",
       "      <td>6392301</td>\n",
       "      <td>840</td>\n",
       "      <td>6392017</td>\n",
       "      <td>630</td>\n",
       "      <td>710</td>\n",
       "      <td>2350</td>\n",
       "      <td>2550</td>\n",
       "      <td>1690</td>\n",
       "      <td>...</td>\n",
       "      <td>451951</td>\n",
       "      <td>499926</td>\n",
       "      <td>245243</td>\n",
       "      <td>182425</td>\n",
       "      <td>135313</td>\n",
       "      <td>344981</td>\n",
       "      <td>46780</td>\n",
       "      <td>427582</td>\n",
       "      <td>563</td>\n",
       "      <td>11359408</td>\n",
       "    </tr>\n",
       "  </tbody>\n",
       "</table>\n",
       "<p>3 rows × 65 columns</p>\n",
       "</div>"
      ],
      "text/plain": [
       "Fact    state Population estimates, July 1, 2016,  (V2016)  \\\n",
       "0     Alabama                                      4863300   \n",
       "1      Alaska                                       741894   \n",
       "2     Arizona                                      6931071   \n",
       "\n",
       "Fact Population estimates base, April 1, 2010,  (V2016)  \\\n",
       "0                                               4780131   \n",
       "1                                                710249   \n",
       "2                                               6392301   \n",
       "\n",
       "Fact Population, percent change - April 1, 2010 (estimates base) to July 1, 2016,  (V2016)  \\\n",
       "0                                                   170                                      \n",
       "1                                                   450                                      \n",
       "2                                                   840                                      \n",
       "\n",
       "Fact Population, Census, April 1, 2010  \\\n",
       "0                              4779736   \n",
       "1                               710231   \n",
       "2                              6392017   \n",
       "\n",
       "Fact Persons under 5 years, percent, July 1, 2016,  (V2016)  \\\n",
       "0                                                   600       \n",
       "1                                                   730       \n",
       "2                                                   630       \n",
       "\n",
       "Fact Persons under 5 years, percent, April 1, 2010  \\\n",
       "0                                              640   \n",
       "1                                              760   \n",
       "2                                              710   \n",
       "\n",
       "Fact Persons under 18 years, percent, July 1, 2016,  (V2016)  \\\n",
       "0                                                  2260        \n",
       "1                                                  2520        \n",
       "2                                                  2350        \n",
       "\n",
       "Fact Persons under 18 years, percent, April 1, 2010  \\\n",
       "0                                              2370   \n",
       "1                                              2640   \n",
       "2                                              2550   \n",
       "\n",
       "Fact Persons 65 years and over, percent,  July 1, 2016,  (V2016)  ...  \\\n",
       "0                                                  1610           ...   \n",
       "1                                                  1040           ...   \n",
       "2                                                  1690           ...   \n",
       "\n",
       "Fact Total nonemployer establishments, 2015 All firms, 2012  \\\n",
       "0                                    322025          374153   \n",
       "1                                     55521           68032   \n",
       "2                                    451951          499926   \n",
       "\n",
       "Fact Men-owned firms, 2012 Women-owned firms, 2012 Minority-owned firms, 2012  \\\n",
       "0                   203604                  137630                      92219   \n",
       "1                    35402                   22141                      13688   \n",
       "2                   245243                  182425                     135313   \n",
       "\n",
       "Fact Nonminority-owned firms, 2012 Veteran-owned firms, 2012  \\\n",
       "0                           272651                     41943   \n",
       "1                            51147                      7953   \n",
       "2                           344981                     46780   \n",
       "\n",
       "Fact Nonveteran-owned firms, 2012 Population per square mile, 2010  \\\n",
       "0                          316984                              944   \n",
       "1                           56091                               12   \n",
       "2                          427582                              563   \n",
       "\n",
       "Fact Land area in square miles, 2010  \n",
       "0                            5064533  \n",
       "1                           57064095  \n",
       "2                           11359408  \n",
       "\n",
       "[3 rows x 65 columns]"
      ]
     },
     "execution_count": 50,
     "metadata": {},
     "output_type": "execute_result"
    }
   ],
   "source": [
    "us_census.head(3)"
   ]
  },
  {
   "cell_type": "code",
   "execution_count": 51,
   "id": "113ce375",
   "metadata": {
    "execution": {
     "iopub.execute_input": "2022-12-23T09:44:35.129585Z",
     "iopub.status.busy": "2022-12-23T09:44:35.129131Z",
     "iopub.status.idle": "2022-12-23T09:44:35.139048Z",
     "shell.execute_reply": "2022-12-23T09:44:35.137911Z"
    },
    "papermill": {
     "duration": 0.055215,
     "end_time": "2022-12-23T09:44:35.141301",
     "exception": false,
     "start_time": "2022-12-23T09:44:35.086086",
     "status": "completed"
    },
    "tags": []
   },
   "outputs": [
    {
     "data": {
      "text/plain": [
       "Fact\n",
       "state                                                                                    object\n",
       "Population estimates, July 1, 2016,  (V2016)                                             object\n",
       "Population estimates base, April 1, 2010,  (V2016)                                       object\n",
       "Population, percent change - April 1, 2010 (estimates base) to July 1, 2016,  (V2016)    object\n",
       "Population, Census, April 1, 2010                                                        object\n",
       "                                                                                          ...  \n",
       "Nonminority-owned firms, 2012                                                            object\n",
       "Veteran-owned firms, 2012                                                                object\n",
       "Nonveteran-owned firms, 2012                                                             object\n",
       "Population per square mile, 2010                                                         object\n",
       "Land area in square miles, 2010                                                          object\n",
       "Length: 65, dtype: object"
      ]
     },
     "execution_count": 51,
     "metadata": {},
     "output_type": "execute_result"
    }
   ],
   "source": [
    "us_census.dtypes"
   ]
  },
  {
   "cell_type": "code",
   "execution_count": 52,
   "id": "b01d1ddb",
   "metadata": {
    "execution": {
     "iopub.execute_input": "2022-12-23T09:44:35.227487Z",
     "iopub.status.busy": "2022-12-23T09:44:35.226794Z",
     "iopub.status.idle": "2022-12-23T09:44:35.263959Z",
     "shell.execute_reply": "2022-12-23T09:44:35.262704Z"
    },
    "papermill": {
     "duration": 0.082966,
     "end_time": "2022-12-23T09:44:35.266893",
     "exception": false,
     "start_time": "2022-12-23T09:44:35.183927",
     "status": "completed"
    },
    "tags": []
   },
   "outputs": [
    {
     "name": "stderr",
     "output_type": "stream",
     "text": [
      "/opt/conda/lib/python3.7/site-packages/ipykernel_launcher.py:2: SettingWithCopyWarning: \n",
      "A value is trying to be set on a copy of a slice from a DataFrame.\n",
      "Try using .loc[row_indexer,col_indexer] = value instead\n",
      "\n",
      "See the caveats in the documentation: https://pandas.pydata.org/pandas-docs/stable/user_guide/indexing.html#returning-a-view-versus-a-copy\n",
      "  \n"
     ]
    }
   ],
   "source": [
    "for c in to_float:\n",
    "    us_census[c] = pd.to_numeric(us_census[c], errors = 'ignore')"
   ]
  },
  {
   "cell_type": "code",
   "execution_count": 53,
   "id": "c0f004d7",
   "metadata": {
    "execution": {
     "iopub.execute_input": "2022-12-23T09:44:35.354491Z",
     "iopub.status.busy": "2022-12-23T09:44:35.353522Z",
     "iopub.status.idle": "2022-12-23T09:44:35.377222Z",
     "shell.execute_reply": "2022-12-23T09:44:35.375996Z"
    },
    "papermill": {
     "duration": 0.070941,
     "end_time": "2022-12-23T09:44:35.379745",
     "exception": false,
     "start_time": "2022-12-23T09:44:35.308804",
     "status": "completed"
    },
    "tags": []
   },
   "outputs": [
    {
     "data": {
      "text/html": [
       "<div>\n",
       "<style scoped>\n",
       "    .dataframe tbody tr th:only-of-type {\n",
       "        vertical-align: middle;\n",
       "    }\n",
       "\n",
       "    .dataframe tbody tr th {\n",
       "        vertical-align: top;\n",
       "    }\n",
       "\n",
       "    .dataframe thead th {\n",
       "        text-align: right;\n",
       "    }\n",
       "</style>\n",
       "<table border=\"1\" class=\"dataframe\">\n",
       "  <thead>\n",
       "    <tr style=\"text-align: right;\">\n",
       "      <th>Fact</th>\n",
       "      <th>state</th>\n",
       "      <th>Population estimates, July 1, 2016,  (V2016)</th>\n",
       "      <th>Population estimates base, April 1, 2010,  (V2016)</th>\n",
       "      <th>Population, percent change - April 1, 2010 (estimates base) to July 1, 2016,  (V2016)</th>\n",
       "      <th>Population, Census, April 1, 2010</th>\n",
       "      <th>Persons under 5 years, percent, July 1, 2016,  (V2016)</th>\n",
       "      <th>Persons under 5 years, percent, April 1, 2010</th>\n",
       "      <th>Persons under 18 years, percent, July 1, 2016,  (V2016)</th>\n",
       "      <th>Persons under 18 years, percent, April 1, 2010</th>\n",
       "      <th>Persons 65 years and over, percent,  July 1, 2016,  (V2016)</th>\n",
       "      <th>...</th>\n",
       "      <th>Total nonemployer establishments, 2015</th>\n",
       "      <th>All firms, 2012</th>\n",
       "      <th>Men-owned firms, 2012</th>\n",
       "      <th>Women-owned firms, 2012</th>\n",
       "      <th>Minority-owned firms, 2012</th>\n",
       "      <th>Nonminority-owned firms, 2012</th>\n",
       "      <th>Veteran-owned firms, 2012</th>\n",
       "      <th>Nonveteran-owned firms, 2012</th>\n",
       "      <th>Population per square mile, 2010</th>\n",
       "      <th>Land area in square miles, 2010</th>\n",
       "    </tr>\n",
       "  </thead>\n",
       "  <tbody>\n",
       "    <tr>\n",
       "      <th>0</th>\n",
       "      <td>Alabama</td>\n",
       "      <td>4863300</td>\n",
       "      <td>4780131</td>\n",
       "      <td>170</td>\n",
       "      <td>4779736</td>\n",
       "      <td>600</td>\n",
       "      <td>640</td>\n",
       "      <td>2260</td>\n",
       "      <td>2370</td>\n",
       "      <td>1610</td>\n",
       "      <td>...</td>\n",
       "      <td>322025</td>\n",
       "      <td>374153</td>\n",
       "      <td>203604</td>\n",
       "      <td>137630</td>\n",
       "      <td>92219</td>\n",
       "      <td>272651</td>\n",
       "      <td>41943</td>\n",
       "      <td>316984</td>\n",
       "      <td>944</td>\n",
       "      <td>5064533</td>\n",
       "    </tr>\n",
       "    <tr>\n",
       "      <th>1</th>\n",
       "      <td>Alaska</td>\n",
       "      <td>741894</td>\n",
       "      <td>710249</td>\n",
       "      <td>450</td>\n",
       "      <td>710231</td>\n",
       "      <td>730</td>\n",
       "      <td>760</td>\n",
       "      <td>2520</td>\n",
       "      <td>2640</td>\n",
       "      <td>1040</td>\n",
       "      <td>...</td>\n",
       "      <td>55521</td>\n",
       "      <td>68032</td>\n",
       "      <td>35402</td>\n",
       "      <td>22141</td>\n",
       "      <td>13688</td>\n",
       "      <td>51147</td>\n",
       "      <td>7953</td>\n",
       "      <td>56091</td>\n",
       "      <td>12</td>\n",
       "      <td>57064095</td>\n",
       "    </tr>\n",
       "    <tr>\n",
       "      <th>2</th>\n",
       "      <td>Arizona</td>\n",
       "      <td>6931071</td>\n",
       "      <td>6392301</td>\n",
       "      <td>840</td>\n",
       "      <td>6392017</td>\n",
       "      <td>630</td>\n",
       "      <td>710</td>\n",
       "      <td>2350</td>\n",
       "      <td>2550</td>\n",
       "      <td>1690</td>\n",
       "      <td>...</td>\n",
       "      <td>451951</td>\n",
       "      <td>499926</td>\n",
       "      <td>245243</td>\n",
       "      <td>182425</td>\n",
       "      <td>135313</td>\n",
       "      <td>344981</td>\n",
       "      <td>46780</td>\n",
       "      <td>427582</td>\n",
       "      <td>563</td>\n",
       "      <td>11359408</td>\n",
       "    </tr>\n",
       "    <tr>\n",
       "      <th>3</th>\n",
       "      <td>Arkansas</td>\n",
       "      <td>2988248</td>\n",
       "      <td>2916025</td>\n",
       "      <td>250</td>\n",
       "      <td>2915918</td>\n",
       "      <td>640</td>\n",
       "      <td>680</td>\n",
       "      <td>2360</td>\n",
       "      <td>2440</td>\n",
       "      <td>1630</td>\n",
       "      <td>...</td>\n",
       "      <td>198380</td>\n",
       "      <td>231959</td>\n",
       "      <td>123158</td>\n",
       "      <td>75962</td>\n",
       "      <td>35982</td>\n",
       "      <td>189029</td>\n",
       "      <td>25915</td>\n",
       "      <td>192988</td>\n",
       "      <td>56</td>\n",
       "      <td>5203548</td>\n",
       "    </tr>\n",
       "    <tr>\n",
       "      <th>4</th>\n",
       "      <td>California</td>\n",
       "      <td>39250017</td>\n",
       "      <td>37254522</td>\n",
       "      <td>540</td>\n",
       "      <td>37253956</td>\n",
       "      <td>630</td>\n",
       "      <td>680</td>\n",
       "      <td>2320</td>\n",
       "      <td>2500</td>\n",
       "      <td>1360</td>\n",
       "      <td>...</td>\n",
       "      <td>3206958</td>\n",
       "      <td>3548449</td>\n",
       "      <td>1852580</td>\n",
       "      <td>1320085</td>\n",
       "      <td>1619857</td>\n",
       "      <td>1819107</td>\n",
       "      <td>252377</td>\n",
       "      <td>3176341</td>\n",
       "      <td>2391</td>\n",
       "      <td>15577922</td>\n",
       "    </tr>\n",
       "  </tbody>\n",
       "</table>\n",
       "<p>5 rows × 65 columns</p>\n",
       "</div>"
      ],
      "text/plain": [
       "Fact       state  Population estimates, July 1, 2016,  (V2016)  \\\n",
       "0        Alabama                                       4863300   \n",
       "1         Alaska                                        741894   \n",
       "2        Arizona                                       6931071   \n",
       "3       Arkansas                                       2988248   \n",
       "4     California                                      39250017   \n",
       "\n",
       "Fact  Population estimates base, April 1, 2010,  (V2016)  \\\n",
       "0                                               4780131    \n",
       "1                                                710249    \n",
       "2                                               6392301    \n",
       "3                                               2916025    \n",
       "4                                              37254522    \n",
       "\n",
       "Fact  Population, percent change - April 1, 2010 (estimates base) to July 1, 2016,  (V2016)  \\\n",
       "0                                                   170                                       \n",
       "1                                                   450                                       \n",
       "2                                                   840                                       \n",
       "3                                                   250                                       \n",
       "4                                                   540                                       \n",
       "\n",
       "Fact  Population, Census, April 1, 2010  \\\n",
       "0                               4779736   \n",
       "1                                710231   \n",
       "2                               6392017   \n",
       "3                               2915918   \n",
       "4                              37253956   \n",
       "\n",
       "Fact  Persons under 5 years, percent, July 1, 2016,  (V2016)  \\\n",
       "0                                                   600        \n",
       "1                                                   730        \n",
       "2                                                   630        \n",
       "3                                                   640        \n",
       "4                                                   630        \n",
       "\n",
       "Fact  Persons under 5 years, percent, April 1, 2010  \\\n",
       "0                                               640   \n",
       "1                                               760   \n",
       "2                                               710   \n",
       "3                                               680   \n",
       "4                                               680   \n",
       "\n",
       "Fact  Persons under 18 years, percent, July 1, 2016,  (V2016)  \\\n",
       "0                                                  2260         \n",
       "1                                                  2520         \n",
       "2                                                  2350         \n",
       "3                                                  2360         \n",
       "4                                                  2320         \n",
       "\n",
       "Fact  Persons under 18 years, percent, April 1, 2010  \\\n",
       "0                                               2370   \n",
       "1                                               2640   \n",
       "2                                               2550   \n",
       "3                                               2440   \n",
       "4                                               2500   \n",
       "\n",
       "Fact  Persons 65 years and over, percent,  July 1, 2016,  (V2016)  ...  \\\n",
       "0                                                  1610            ...   \n",
       "1                                                  1040            ...   \n",
       "2                                                  1690            ...   \n",
       "3                                                  1630            ...   \n",
       "4                                                  1360            ...   \n",
       "\n",
       "Fact  Total nonemployer establishments, 2015  All firms, 2012  \\\n",
       "0                                     322025           374153   \n",
       "1                                      55521            68032   \n",
       "2                                     451951           499926   \n",
       "3                                     198380           231959   \n",
       "4                                    3206958          3548449   \n",
       "\n",
       "Fact  Men-owned firms, 2012  Women-owned firms, 2012  \\\n",
       "0                    203604                   137630   \n",
       "1                     35402                    22141   \n",
       "2                    245243                   182425   \n",
       "3                    123158                    75962   \n",
       "4                   1852580                  1320085   \n",
       "\n",
       "Fact  Minority-owned firms, 2012  Nonminority-owned firms, 2012  \\\n",
       "0                          92219                         272651   \n",
       "1                          13688                          51147   \n",
       "2                         135313                         344981   \n",
       "3                          35982                         189029   \n",
       "4                        1619857                        1819107   \n",
       "\n",
       "Fact  Veteran-owned firms, 2012  Nonveteran-owned firms, 2012  \\\n",
       "0                         41943                        316984   \n",
       "1                          7953                         56091   \n",
       "2                         46780                        427582   \n",
       "3                         25915                        192988   \n",
       "4                        252377                       3176341   \n",
       "\n",
       "Fact  Population per square mile, 2010  Land area in square miles, 2010  \n",
       "0                                  944                          5064533  \n",
       "1                                   12                         57064095  \n",
       "2                                  563                         11359408  \n",
       "3                                   56                          5203548  \n",
       "4                                 2391                         15577922  \n",
       "\n",
       "[5 rows x 65 columns]"
      ]
     },
     "execution_count": 53,
     "metadata": {},
     "output_type": "execute_result"
    }
   ],
   "source": [
    "us_census.head()"
   ]
  },
  {
   "cell_type": "markdown",
   "id": "45c106ce",
   "metadata": {
    "papermill": {
     "duration": 0.041908,
     "end_time": "2022-12-23T09:44:35.463913",
     "exception": false,
     "start_time": "2022-12-23T09:44:35.422005",
     "status": "completed"
    },
    "tags": []
   },
   "source": [
    "## Confirmation of change in data type"
   ]
  },
  {
   "cell_type": "code",
   "execution_count": 54,
   "id": "09736d53",
   "metadata": {
    "execution": {
     "iopub.execute_input": "2022-12-23T09:44:35.551409Z",
     "iopub.status.busy": "2022-12-23T09:44:35.550943Z",
     "iopub.status.idle": "2022-12-23T09:44:35.561410Z",
     "shell.execute_reply": "2022-12-23T09:44:35.560128Z"
    },
    "papermill": {
     "duration": 0.057131,
     "end_time": "2022-12-23T09:44:35.563968",
     "exception": false,
     "start_time": "2022-12-23T09:44:35.506837",
     "status": "completed"
    },
    "tags": []
   },
   "outputs": [
    {
     "data": {
      "text/plain": [
       "Fact\n",
       "state                                                                                    object\n",
       "Population estimates, July 1, 2016,  (V2016)                                              int64\n",
       "Population estimates base, April 1, 2010,  (V2016)                                        int64\n",
       "Population, percent change - April 1, 2010 (estimates base) to July 1, 2016,  (V2016)     int64\n",
       "Population, Census, April 1, 2010                                                         int64\n",
       "                                                                                          ...  \n",
       "Nonminority-owned firms, 2012                                                             int64\n",
       "Veteran-owned firms, 2012                                                                 int64\n",
       "Nonveteran-owned firms, 2012                                                              int64\n",
       "Population per square mile, 2010                                                          int64\n",
       "Land area in square miles, 2010                                                           int64\n",
       "Length: 65, dtype: object"
      ]
     },
     "execution_count": 54,
     "metadata": {},
     "output_type": "execute_result"
    }
   ],
   "source": [
    "us_census.dtypes"
   ]
  },
  {
   "cell_type": "code",
   "execution_count": 55,
   "id": "fb05c578",
   "metadata": {
    "execution": {
     "iopub.execute_input": "2022-12-23T09:44:35.649598Z",
     "iopub.status.busy": "2022-12-23T09:44:35.649160Z",
     "iopub.status.idle": "2022-12-23T09:44:35.676822Z",
     "shell.execute_reply": "2022-12-23T09:44:35.674936Z"
    },
    "papermill": {
     "duration": 0.074271,
     "end_time": "2022-12-23T09:44:35.680289",
     "exception": false,
     "start_time": "2022-12-23T09:44:35.606018",
     "status": "completed"
    },
    "tags": []
   },
   "outputs": [
    {
     "name": "stdout",
     "output_type": "stream",
     "text": [
      "<class 'pandas.core.frame.DataFrame'>\n",
      "RangeIndex: 50 entries, 0 to 49\n",
      "Data columns (total 65 columns):\n",
      " #   Column                                                                                  Non-Null Count  Dtype  \n",
      "---  ------                                                                                  --------------  -----  \n",
      " 0   state                                                                                   50 non-null     object \n",
      " 1   Population estimates, July 1, 2016,  (V2016)                                            50 non-null     int64  \n",
      " 2   Population estimates base, April 1, 2010,  (V2016)                                      50 non-null     int64  \n",
      " 3   Population, percent change - April 1, 2010 (estimates base) to July 1, 2016,  (V2016)   50 non-null     int64  \n",
      " 4   Population, Census, April 1, 2010                                                       50 non-null     int64  \n",
      " 5   Persons under 5 years, percent, July 1, 2016,  (V2016)                                  50 non-null     int64  \n",
      " 6   Persons under 5 years, percent, April 1, 2010                                           50 non-null     int64  \n",
      " 7   Persons under 18 years, percent, July 1, 2016,  (V2016)                                 50 non-null     int64  \n",
      " 8   Persons under 18 years, percent, April 1, 2010                                          50 non-null     int64  \n",
      " 9   Persons 65 years and over, percent,  July 1, 2016,  (V2016)                             50 non-null     int64  \n",
      " 10  Persons 65 years and over, percent, April 1, 2010                                       50 non-null     int64  \n",
      " 11  Female persons, percent,  July 1, 2016,  (V2016)                                        50 non-null     int64  \n",
      " 12  Female persons, percent, April 1, 2010                                                  50 non-null     int64  \n",
      " 13  White alone, percent, July 1, 2016,  (V2016)                                            50 non-null     int64  \n",
      " 14  Black or African American alone, percent, July 1, 2016,  (V2016)                        50 non-null     int64  \n",
      " 15  American Indian and Alaska Native alone, percent, July 1, 2016,  (V2016)                50 non-null     int64  \n",
      " 16  Asian alone, percent, July 1, 2016,  (V2016)                                            50 non-null     int64  \n",
      " 17  Native Hawaiian and Other Pacific Islander alone, percent, July 1, 2016,  (V2016)       46 non-null     float64\n",
      " 18  Two or More Races, percent, July 1, 2016,  (V2016)                                      50 non-null     int64  \n",
      " 19  Hispanic or Latino, percent, July 1, 2016,  (V2016)                                     50 non-null     int64  \n",
      " 20  White alone, not Hispanic or Latino, percent, July 1, 2016,  (V2016)                    50 non-null     int64  \n",
      " 21  Veterans, 2011-2015                                                                     50 non-null     int64  \n",
      " 22  Foreign born persons, percent, 2011-2015                                                50 non-null     int64  \n",
      " 23  Housing units,  July 1, 2016,  (V2016)                                                  50 non-null     int64  \n",
      " 24  Housing units, April 1, 2010                                                            50 non-null     int64  \n",
      " 25  Owner-occupied housing unit rate, 2011-2015                                             50 non-null     int64  \n",
      " 26  Median value of owner-occupied housing units, 2011-2015                                 50 non-null     int64  \n",
      " 27  Median selected monthly owner costs -with a mortgage, 2011-2015                         50 non-null     int64  \n",
      " 28  Median selected monthly owner costs -without a mortgage, 2011-2015                      50 non-null     int64  \n",
      " 29  Median gross rent, 2011-2015                                                            50 non-null     int64  \n",
      " 30  Building permits, 2016                                                                  50 non-null     int64  \n",
      " 31  Households, 2011-2015                                                                   50 non-null     int64  \n",
      " 32  Persons per household, 2011-2015                                                        50 non-null     int64  \n",
      " 33  Living in same house 1 year ago, percent of persons age 1 year+, 2011-2015              50 non-null     int64  \n",
      " 34  Language other than English spoken at home, percent of persons age 5 years+, 2011-2015  50 non-null     int64  \n",
      " 35  High school graduate or higher, percent of persons age 25 years+, 2011-2015             50 non-null     int64  \n",
      " 36  Bachelor's degree or higher, percent of persons age 25 years+, 2011-2015                50 non-null     int64  \n",
      " 37  With a disability, under age 65 years, percent, 2011-2015                               50 non-null     int64  \n",
      " 38  Persons  without health insurance, under age 65 years, percent                          50 non-null     int64  \n",
      " 39  In civilian labor force, total, percent of population age 16 years+, 2011-2015          50 non-null     int64  \n",
      " 40  In civilian labor force, female, percent of population age 16 years+, 2011-2015         50 non-null     int64  \n",
      " 41  Total accommodation and food services sales, 2012 ($1,000)                              50 non-null     int64  \n",
      " 42  Total health care and social assistance receipts/revenue, 2012 ($1,000)                 50 non-null     int64  \n",
      " 43  Total manufacturers shipments, 2012 ($1,000)                                            48 non-null     float64\n",
      " 44  Total merchant wholesaler sales, 2012 ($1,000)                                          50 non-null     int64  \n",
      " 45  Total retail sales, 2012 ($1,000)                                                       50 non-null     int64  \n",
      " 46  Total retail sales per capita, 2012                                                     50 non-null     int64  \n",
      " 47  Mean travel time to work (minutes), workers age 16 years+, 2011-2015                    50 non-null     int64  \n",
      " 48  Median household income (in 2015 dollars), 2011-2015                                    50 non-null     int64  \n",
      " 49  Per capita income in past 12 months (in 2015 dollars), 2011-2015                        50 non-null     int64  \n",
      " 50  Persons in poverty, percent                                                             50 non-null     int64  \n",
      " 51  Total employer establishments, 2015                                                     50 non-null     int64  \n",
      " 52  Total employment, 2015                                                                  50 non-null     int64  \n",
      " 53  Total annual payroll, 2015 ($1,000)                                                     50 non-null     int64  \n",
      " 54  Total employment, percent change, 2014-2015                                             49 non-null     float64\n",
      " 55  Total nonemployer establishments, 2015                                                  50 non-null     int64  \n",
      " 56  All firms, 2012                                                                         50 non-null     int64  \n",
      " 57  Men-owned firms, 2012                                                                   50 non-null     int64  \n",
      " 58  Women-owned firms, 2012                                                                 50 non-null     int64  \n",
      " 59  Minority-owned firms, 2012                                                              50 non-null     int64  \n",
      " 60  Nonminority-owned firms, 2012                                                           50 non-null     int64  \n",
      " 61  Veteran-owned firms, 2012                                                               50 non-null     int64  \n",
      " 62  Nonveteran-owned firms, 2012                                                            50 non-null     int64  \n",
      " 63  Population per square mile, 2010                                                        50 non-null     int64  \n",
      " 64  Land area in square miles, 2010                                                         50 non-null     int64  \n",
      "dtypes: float64(3), int64(61), object(1)\n",
      "memory usage: 25.5+ KB\n"
     ]
    }
   ],
   "source": [
    "us_census.info()"
   ]
  },
  {
   "cell_type": "markdown",
   "id": "3d8e0df7",
   "metadata": {
    "papermill": {
     "duration": 0.043537,
     "end_time": "2022-12-23T09:44:35.768425",
     "exception": false,
     "start_time": "2022-12-23T09:44:35.724888",
     "status": "completed"
    },
    "tags": []
   },
   "source": [
    "### Obtaining Year and Month column to ease comparison and EDA\n"
   ]
  },
  {
   "cell_type": "code",
   "execution_count": 56,
   "id": "7e03e478",
   "metadata": {
    "execution": {
     "iopub.execute_input": "2022-12-23T09:44:35.858331Z",
     "iopub.status.busy": "2022-12-23T09:44:35.857902Z",
     "iopub.status.idle": "2022-12-23T09:44:35.888669Z",
     "shell.execute_reply": "2022-12-23T09:44:35.887540Z"
    },
    "papermill": {
     "duration": 0.079659,
     "end_time": "2022-12-23T09:44:35.891213",
     "exception": false,
     "start_time": "2022-12-23T09:44:35.811554",
     "status": "completed"
    },
    "tags": []
   },
   "outputs": [],
   "source": [
    "split_column = ['month']\n",
    "for c in split_column:\n",
    "    gun_data['new_year']  = gun_data[c].apply(lambda x: int(x.split(\"-\")[0].strip()))\n",
    "    gun_data['new_month'] = gun_data[c].apply(lambda x: int(x.split(\"-\")[1].strip()))"
   ]
  },
  {
   "cell_type": "code",
   "execution_count": 57,
   "id": "1db74877",
   "metadata": {
    "execution": {
     "iopub.execute_input": "2022-12-23T09:44:35.980155Z",
     "iopub.status.busy": "2022-12-23T09:44:35.979724Z",
     "iopub.status.idle": "2022-12-23T09:44:36.009916Z",
     "shell.execute_reply": "2022-12-23T09:44:36.008190Z"
    },
    "papermill": {
     "duration": 0.07895,
     "end_time": "2022-12-23T09:44:36.013301",
     "exception": false,
     "start_time": "2022-12-23T09:44:35.934351",
     "status": "completed"
    },
    "tags": []
   },
   "outputs": [
    {
     "data": {
      "text/html": [
       "<div>\n",
       "<style scoped>\n",
       "    .dataframe tbody tr th:only-of-type {\n",
       "        vertical-align: middle;\n",
       "    }\n",
       "\n",
       "    .dataframe tbody tr th {\n",
       "        vertical-align: top;\n",
       "    }\n",
       "\n",
       "    .dataframe thead th {\n",
       "        text-align: right;\n",
       "    }\n",
       "</style>\n",
       "<table border=\"1\" class=\"dataframe\">\n",
       "  <thead>\n",
       "    <tr style=\"text-align: right;\">\n",
       "      <th></th>\n",
       "      <th>month</th>\n",
       "      <th>state</th>\n",
       "      <th>permit</th>\n",
       "      <th>permit_recheck</th>\n",
       "      <th>handgun</th>\n",
       "      <th>long_gun</th>\n",
       "      <th>other</th>\n",
       "      <th>multiple</th>\n",
       "      <th>admin</th>\n",
       "      <th>prepawn_handgun</th>\n",
       "      <th>...</th>\n",
       "      <th>rentals_long_gun</th>\n",
       "      <th>private_sale_handgun</th>\n",
       "      <th>private_sale_long_gun</th>\n",
       "      <th>private_sale_other</th>\n",
       "      <th>return_to_seller_handgun</th>\n",
       "      <th>return_to_seller_long_gun</th>\n",
       "      <th>return_to_seller_other</th>\n",
       "      <th>totals</th>\n",
       "      <th>new_year</th>\n",
       "      <th>new_month</th>\n",
       "    </tr>\n",
       "  </thead>\n",
       "  <tbody>\n",
       "    <tr>\n",
       "      <th>0</th>\n",
       "      <td>2017-09</td>\n",
       "      <td>Alabama</td>\n",
       "      <td>16717.0</td>\n",
       "      <td>0.0</td>\n",
       "      <td>5734.0</td>\n",
       "      <td>6320.0</td>\n",
       "      <td>221.0</td>\n",
       "      <td>317</td>\n",
       "      <td>0.0</td>\n",
       "      <td>15.0</td>\n",
       "      <td>...</td>\n",
       "      <td>0.0</td>\n",
       "      <td>9.0</td>\n",
       "      <td>16.0</td>\n",
       "      <td>3.0</td>\n",
       "      <td>0.0</td>\n",
       "      <td>0.0</td>\n",
       "      <td>3.0</td>\n",
       "      <td>32019</td>\n",
       "      <td>2017</td>\n",
       "      <td>9</td>\n",
       "    </tr>\n",
       "    <tr>\n",
       "      <th>1</th>\n",
       "      <td>2017-09</td>\n",
       "      <td>Alaska</td>\n",
       "      <td>209.0</td>\n",
       "      <td>2.0</td>\n",
       "      <td>2320.0</td>\n",
       "      <td>2930.0</td>\n",
       "      <td>219.0</td>\n",
       "      <td>160</td>\n",
       "      <td>0.0</td>\n",
       "      <td>5.0</td>\n",
       "      <td>...</td>\n",
       "      <td>0.0</td>\n",
       "      <td>17.0</td>\n",
       "      <td>24.0</td>\n",
       "      <td>1.0</td>\n",
       "      <td>0.0</td>\n",
       "      <td>0.0</td>\n",
       "      <td>0.0</td>\n",
       "      <td>6303</td>\n",
       "      <td>2017</td>\n",
       "      <td>9</td>\n",
       "    </tr>\n",
       "    <tr>\n",
       "      <th>2</th>\n",
       "      <td>2017-09</td>\n",
       "      <td>Arizona</td>\n",
       "      <td>5069.0</td>\n",
       "      <td>382.0</td>\n",
       "      <td>11063.0</td>\n",
       "      <td>7946.0</td>\n",
       "      <td>920.0</td>\n",
       "      <td>631</td>\n",
       "      <td>0.0</td>\n",
       "      <td>13.0</td>\n",
       "      <td>...</td>\n",
       "      <td>0.0</td>\n",
       "      <td>38.0</td>\n",
       "      <td>12.0</td>\n",
       "      <td>2.0</td>\n",
       "      <td>0.0</td>\n",
       "      <td>0.0</td>\n",
       "      <td>0.0</td>\n",
       "      <td>28394</td>\n",
       "      <td>2017</td>\n",
       "      <td>9</td>\n",
       "    </tr>\n",
       "  </tbody>\n",
       "</table>\n",
       "<p>3 rows × 29 columns</p>\n",
       "</div>"
      ],
      "text/plain": [
       "     month    state   permit  permit_recheck  handgun  long_gun  other  \\\n",
       "0  2017-09  Alabama  16717.0             0.0   5734.0    6320.0  221.0   \n",
       "1  2017-09   Alaska    209.0             2.0   2320.0    2930.0  219.0   \n",
       "2  2017-09  Arizona   5069.0           382.0  11063.0    7946.0  920.0   \n",
       "\n",
       "   multiple  admin  prepawn_handgun  ...  rentals_long_gun  \\\n",
       "0       317    0.0             15.0  ...               0.0   \n",
       "1       160    0.0              5.0  ...               0.0   \n",
       "2       631    0.0             13.0  ...               0.0   \n",
       "\n",
       "   private_sale_handgun  private_sale_long_gun  private_sale_other  \\\n",
       "0                   9.0                   16.0                 3.0   \n",
       "1                  17.0                   24.0                 1.0   \n",
       "2                  38.0                   12.0                 2.0   \n",
       "\n",
       "   return_to_seller_handgun  return_to_seller_long_gun  \\\n",
       "0                       0.0                        0.0   \n",
       "1                       0.0                        0.0   \n",
       "2                       0.0                        0.0   \n",
       "\n",
       "   return_to_seller_other  totals  new_year  new_month  \n",
       "0                     3.0   32019      2017          9  \n",
       "1                     0.0    6303      2017          9  \n",
       "2                     0.0   28394      2017          9  \n",
       "\n",
       "[3 rows x 29 columns]"
      ]
     },
     "execution_count": 57,
     "metadata": {},
     "output_type": "execute_result"
    }
   ],
   "source": [
    "gun_data.head(3)"
   ]
  },
  {
   "cell_type": "code",
   "execution_count": 58,
   "id": "6e31de37",
   "metadata": {
    "execution": {
     "iopub.execute_input": "2022-12-23T09:44:36.123489Z",
     "iopub.status.busy": "2022-12-23T09:44:36.122996Z",
     "iopub.status.idle": "2022-12-23T09:44:36.132264Z",
     "shell.execute_reply": "2022-12-23T09:44:36.131015Z"
    },
    "papermill": {
     "duration": 0.063489,
     "end_time": "2022-12-23T09:44:36.134576",
     "exception": false,
     "start_time": "2022-12-23T09:44:36.071087",
     "status": "completed"
    },
    "tags": []
   },
   "outputs": [
    {
     "data": {
      "text/plain": [
       "month                         object\n",
       "state                         object\n",
       "permit                       float64\n",
       "permit_recheck               float64\n",
       "handgun                      float64\n",
       "long_gun                     float64\n",
       "other                        float64\n",
       "multiple                       int64\n",
       "admin                        float64\n",
       "prepawn_handgun              float64\n",
       "prepawn_long_gun             float64\n",
       "prepawn_other                float64\n",
       "redemption_handgun           float64\n",
       "redemption_long_gun          float64\n",
       "redemption_other             float64\n",
       "returned_handgun             float64\n",
       "returned_long_gun            float64\n",
       "returned_other               float64\n",
       "rentals_handgun              float64\n",
       "rentals_long_gun             float64\n",
       "private_sale_handgun         float64\n",
       "private_sale_long_gun        float64\n",
       "private_sale_other           float64\n",
       "return_to_seller_handgun     float64\n",
       "return_to_seller_long_gun    float64\n",
       "return_to_seller_other       float64\n",
       "totals                         int64\n",
       "new_year                       int64\n",
       "new_month                      int64\n",
       "dtype: object"
      ]
     },
     "execution_count": 58,
     "metadata": {},
     "output_type": "execute_result"
    }
   ],
   "source": [
    "gun_data.dtypes"
   ]
  },
  {
   "cell_type": "markdown",
   "id": "4e302a5b",
   "metadata": {
    "papermill": {
     "duration": 0.042313,
     "end_time": "2022-12-23T09:44:36.287857",
     "exception": false,
     "start_time": "2022-12-23T09:44:36.245544",
     "status": "completed"
    },
    "tags": []
   },
   "source": [
    "## Removal of non-us states"
   ]
  },
  {
   "cell_type": "code",
   "execution_count": 59,
   "id": "208ecf7b",
   "metadata": {
    "execution": {
     "iopub.execute_input": "2022-12-23T09:44:36.376342Z",
     "iopub.status.busy": "2022-12-23T09:44:36.375943Z",
     "iopub.status.idle": "2022-12-23T09:44:36.384562Z",
     "shell.execute_reply": "2022-12-23T09:44:36.383304Z"
    },
    "papermill": {
     "duration": 0.05648,
     "end_time": "2022-12-23T09:44:36.386960",
     "exception": false,
     "start_time": "2022-12-23T09:44:36.330480",
     "status": "completed"
    },
    "tags": []
   },
   "outputs": [
    {
     "data": {
      "text/plain": [
       "55"
      ]
     },
     "execution_count": 59,
     "metadata": {},
     "output_type": "execute_result"
    }
   ],
   "source": [
    "gun_data['state'].nunique()"
   ]
  },
  {
   "cell_type": "code",
   "execution_count": 60,
   "id": "64444311",
   "metadata": {
    "execution": {
     "iopub.execute_input": "2022-12-23T09:44:36.479642Z",
     "iopub.status.busy": "2022-12-23T09:44:36.479224Z",
     "iopub.status.idle": "2022-12-23T09:44:36.486158Z",
     "shell.execute_reply": "2022-12-23T09:44:36.484737Z"
    },
    "papermill": {
     "duration": 0.056698,
     "end_time": "2022-12-23T09:44:36.488660",
     "exception": false,
     "start_time": "2022-12-23T09:44:36.431962",
     "status": "completed"
    },
    "tags": []
   },
   "outputs": [
    {
     "data": {
      "text/plain": [
       "['District of Columbia',\n",
       " 'Guam',\n",
       " 'Mariana Islands',\n",
       " 'Puerto Rico',\n",
       " 'Virgin Islands']"
      ]
     },
     "execution_count": 60,
     "metadata": {},
     "output_type": "execute_result"
    }
   ],
   "source": [
    "not_us"
   ]
  },
  {
   "cell_type": "code",
   "execution_count": 61,
   "id": "4b0c2d6a",
   "metadata": {
    "execution": {
     "iopub.execute_input": "2022-12-23T09:44:36.578656Z",
     "iopub.status.busy": "2022-12-23T09:44:36.578237Z",
     "iopub.status.idle": "2022-12-23T09:44:36.585777Z",
     "shell.execute_reply": "2022-12-23T09:44:36.584296Z"
    },
    "papermill": {
     "duration": 0.056106,
     "end_time": "2022-12-23T09:44:36.588263",
     "exception": false,
     "start_time": "2022-12-23T09:44:36.532157",
     "status": "completed"
    },
    "tags": []
   },
   "outputs": [
    {
     "data": {
      "text/plain": [
       "(12485, 29)"
      ]
     },
     "execution_count": 61,
     "metadata": {},
     "output_type": "execute_result"
    }
   ],
   "source": [
    "gun_data.shape"
   ]
  },
  {
   "cell_type": "code",
   "execution_count": 62,
   "id": "79f729aa",
   "metadata": {
    "execution": {
     "iopub.execute_input": "2022-12-23T09:44:36.676173Z",
     "iopub.status.busy": "2022-12-23T09:44:36.675775Z",
     "iopub.status.idle": "2022-12-23T09:44:36.701215Z",
     "shell.execute_reply": "2022-12-23T09:44:36.700273Z"
    },
    "papermill": {
     "duration": 0.071927,
     "end_time": "2022-12-23T09:44:36.703713",
     "exception": false,
     "start_time": "2022-12-23T09:44:36.631786",
     "status": "completed"
    },
    "tags": []
   },
   "outputs": [],
   "source": [
    "for i in not_us:\n",
    "    index_state = gun_data[gun_data['state'] == i].index\n",
    "    gun_data.drop(index_state, inplace = True)"
   ]
  },
  {
   "cell_type": "markdown",
   "id": "08b51267",
   "metadata": {
    "papermill": {
     "duration": 0.0432,
     "end_time": "2022-12-23T09:44:36.791695",
     "exception": false,
     "start_time": "2022-12-23T09:44:36.748495",
     "status": "completed"
    },
    "tags": []
   },
   "source": [
    "## Confirmation of drop and normal count of US states"
   ]
  },
  {
   "cell_type": "code",
   "execution_count": 63,
   "id": "46f62a63",
   "metadata": {
    "execution": {
     "iopub.execute_input": "2022-12-23T09:44:36.882762Z",
     "iopub.status.busy": "2022-12-23T09:44:36.882172Z",
     "iopub.status.idle": "2022-12-23T09:44:36.887592Z",
     "shell.execute_reply": "2022-12-23T09:44:36.886733Z"
    },
    "papermill": {
     "duration": 0.053182,
     "end_time": "2022-12-23T09:44:36.889695",
     "exception": false,
     "start_time": "2022-12-23T09:44:36.836513",
     "status": "completed"
    },
    "tags": []
   },
   "outputs": [
    {
     "data": {
      "text/plain": [
       "(11350, 29)"
      ]
     },
     "execution_count": 63,
     "metadata": {},
     "output_type": "execute_result"
    }
   ],
   "source": [
    "gun_data.shape"
   ]
  },
  {
   "cell_type": "code",
   "execution_count": 64,
   "id": "d8f0aa15",
   "metadata": {
    "execution": {
     "iopub.execute_input": "2022-12-23T09:44:36.979896Z",
     "iopub.status.busy": "2022-12-23T09:44:36.978988Z",
     "iopub.status.idle": "2022-12-23T09:44:36.987236Z",
     "shell.execute_reply": "2022-12-23T09:44:36.986094Z"
    },
    "papermill": {
     "duration": 0.056548,
     "end_time": "2022-12-23T09:44:36.989593",
     "exception": false,
     "start_time": "2022-12-23T09:44:36.933045",
     "status": "completed"
    },
    "tags": []
   },
   "outputs": [
    {
     "data": {
      "text/plain": [
       "50"
      ]
     },
     "execution_count": 64,
     "metadata": {},
     "output_type": "execute_result"
    }
   ],
   "source": [
    "gun_data['state'].nunique()"
   ]
  },
  {
   "cell_type": "markdown",
   "id": "de4f699e",
   "metadata": {
    "papermill": {
     "duration": 0.045453,
     "end_time": "2022-12-23T09:44:37.078170",
     "exception": false,
     "start_time": "2022-12-23T09:44:37.032717",
     "status": "completed"
    },
    "tags": []
   },
   "source": [
    "### Obtainng 2011 - 2015 Data for analysis purpose"
   ]
  },
  {
   "cell_type": "code",
   "execution_count": 65,
   "id": "cbb282eb",
   "metadata": {
    "execution": {
     "iopub.execute_input": "2022-12-23T09:44:37.165825Z",
     "iopub.status.busy": "2022-12-23T09:44:37.165409Z",
     "iopub.status.idle": "2022-12-23T09:44:37.202085Z",
     "shell.execute_reply": "2022-12-23T09:44:37.200107Z"
    },
    "papermill": {
     "duration": 0.084343,
     "end_time": "2022-12-23T09:44:37.205433",
     "exception": false,
     "start_time": "2022-12-23T09:44:37.121090",
     "status": "completed"
    },
    "tags": []
   },
   "outputs": [
    {
     "data": {
      "text/html": [
       "<div>\n",
       "<style scoped>\n",
       "    .dataframe tbody tr th:only-of-type {\n",
       "        vertical-align: middle;\n",
       "    }\n",
       "\n",
       "    .dataframe tbody tr th {\n",
       "        vertical-align: top;\n",
       "    }\n",
       "\n",
       "    .dataframe thead th {\n",
       "        text-align: right;\n",
       "    }\n",
       "</style>\n",
       "<table border=\"1\" class=\"dataframe\">\n",
       "  <thead>\n",
       "    <tr style=\"text-align: right;\">\n",
       "      <th></th>\n",
       "      <th>month</th>\n",
       "      <th>state</th>\n",
       "      <th>permit</th>\n",
       "      <th>permit_recheck</th>\n",
       "      <th>handgun</th>\n",
       "      <th>long_gun</th>\n",
       "      <th>other</th>\n",
       "      <th>multiple</th>\n",
       "      <th>admin</th>\n",
       "      <th>prepawn_handgun</th>\n",
       "      <th>...</th>\n",
       "      <th>rentals_long_gun</th>\n",
       "      <th>private_sale_handgun</th>\n",
       "      <th>private_sale_long_gun</th>\n",
       "      <th>private_sale_other</th>\n",
       "      <th>return_to_seller_handgun</th>\n",
       "      <th>return_to_seller_long_gun</th>\n",
       "      <th>return_to_seller_other</th>\n",
       "      <th>totals</th>\n",
       "      <th>new_year</th>\n",
       "      <th>new_month</th>\n",
       "    </tr>\n",
       "  </thead>\n",
       "  <tbody>\n",
       "    <tr>\n",
       "      <th>1155</th>\n",
       "      <td>2015-12</td>\n",
       "      <td>Alabama</td>\n",
       "      <td>31359.0</td>\n",
       "      <td>NaN</td>\n",
       "      <td>47605.0</td>\n",
       "      <td>33710.0</td>\n",
       "      <td>1698.0</td>\n",
       "      <td>1752</td>\n",
       "      <td>0.0</td>\n",
       "      <td>18.0</td>\n",
       "      <td>...</td>\n",
       "      <td>NaN</td>\n",
       "      <td>12.0</td>\n",
       "      <td>14.0</td>\n",
       "      <td>4.0</td>\n",
       "      <td>2.0</td>\n",
       "      <td>0.0</td>\n",
       "      <td>0.0</td>\n",
       "      <td>120914</td>\n",
       "      <td>2015</td>\n",
       "      <td>12</td>\n",
       "    </tr>\n",
       "    <tr>\n",
       "      <th>1156</th>\n",
       "      <td>2015-12</td>\n",
       "      <td>Alaska</td>\n",
       "      <td>245.0</td>\n",
       "      <td>NaN</td>\n",
       "      <td>5265.0</td>\n",
       "      <td>4638.0</td>\n",
       "      <td>356.0</td>\n",
       "      <td>214</td>\n",
       "      <td>0.0</td>\n",
       "      <td>5.0</td>\n",
       "      <td>...</td>\n",
       "      <td>NaN</td>\n",
       "      <td>1.0</td>\n",
       "      <td>3.0</td>\n",
       "      <td>0.0</td>\n",
       "      <td>0.0</td>\n",
       "      <td>0.0</td>\n",
       "      <td>0.0</td>\n",
       "      <td>11055</td>\n",
       "      <td>2015</td>\n",
       "      <td>12</td>\n",
       "    </tr>\n",
       "    <tr>\n",
       "      <th>1157</th>\n",
       "      <td>2015-12</td>\n",
       "      <td>Arizona</td>\n",
       "      <td>2940.0</td>\n",
       "      <td>NaN</td>\n",
       "      <td>25562.0</td>\n",
       "      <td>14725.0</td>\n",
       "      <td>1327.0</td>\n",
       "      <td>995</td>\n",
       "      <td>0.0</td>\n",
       "      <td>6.0</td>\n",
       "      <td>...</td>\n",
       "      <td>NaN</td>\n",
       "      <td>6.0</td>\n",
       "      <td>2.0</td>\n",
       "      <td>2.0</td>\n",
       "      <td>1.0</td>\n",
       "      <td>0.0</td>\n",
       "      <td>0.0</td>\n",
       "      <td>47759</td>\n",
       "      <td>2015</td>\n",
       "      <td>12</td>\n",
       "    </tr>\n",
       "  </tbody>\n",
       "</table>\n",
       "<p>3 rows × 29 columns</p>\n",
       "</div>"
      ],
      "text/plain": [
       "        month    state   permit  permit_recheck  handgun  long_gun   other  \\\n",
       "1155  2015-12  Alabama  31359.0             NaN  47605.0   33710.0  1698.0   \n",
       "1156  2015-12   Alaska    245.0             NaN   5265.0    4638.0   356.0   \n",
       "1157  2015-12  Arizona   2940.0             NaN  25562.0   14725.0  1327.0   \n",
       "\n",
       "      multiple  admin  prepawn_handgun  ...  rentals_long_gun  \\\n",
       "1155      1752    0.0             18.0  ...               NaN   \n",
       "1156       214    0.0              5.0  ...               NaN   \n",
       "1157       995    0.0              6.0  ...               NaN   \n",
       "\n",
       "      private_sale_handgun  private_sale_long_gun  private_sale_other  \\\n",
       "1155                  12.0                   14.0                 4.0   \n",
       "1156                   1.0                    3.0                 0.0   \n",
       "1157                   6.0                    2.0                 2.0   \n",
       "\n",
       "      return_to_seller_handgun  return_to_seller_long_gun  \\\n",
       "1155                       2.0                        0.0   \n",
       "1156                       0.0                        0.0   \n",
       "1157                       1.0                        0.0   \n",
       "\n",
       "      return_to_seller_other  totals  new_year  new_month  \n",
       "1155                     0.0  120914      2015         12  \n",
       "1156                     0.0   11055      2015         12  \n",
       "1157                     0.0   47759      2015         12  \n",
       "\n",
       "[3 rows x 29 columns]"
      ]
     },
     "execution_count": 65,
     "metadata": {},
     "output_type": "execute_result"
    }
   ],
   "source": [
    "gun_data_2011_2015 = gun_data.query('new_year >= 2011 & new_year <= 2015')\n",
    "gun_data_2011_2015.head(3)"
   ]
  },
  {
   "cell_type": "code",
   "execution_count": 66,
   "id": "599b6c35",
   "metadata": {
    "execution": {
     "iopub.execute_input": "2022-12-23T09:44:37.295485Z",
     "iopub.status.busy": "2022-12-23T09:44:37.294795Z",
     "iopub.status.idle": "2022-12-23T09:44:37.302506Z",
     "shell.execute_reply": "2022-12-23T09:44:37.301063Z"
    },
    "papermill": {
     "duration": 0.05622,
     "end_time": "2022-12-23T09:44:37.305103",
     "exception": false,
     "start_time": "2022-12-23T09:44:37.248883",
     "status": "completed"
    },
    "tags": []
   },
   "outputs": [
    {
     "data": {
      "text/plain": [
       "(3000, 29)"
      ]
     },
     "execution_count": 66,
     "metadata": {},
     "output_type": "execute_result"
    }
   ],
   "source": [
    "gun_data_2011_2015.shape"
   ]
  },
  {
   "cell_type": "markdown",
   "id": "aaf6826d",
   "metadata": {
    "papermill": {
     "duration": 0.044465,
     "end_time": "2022-12-23T09:44:37.393006",
     "exception": false,
     "start_time": "2022-12-23T09:44:37.348541",
     "status": "completed"
    },
    "tags": []
   },
   "source": [
    "## State Level Aggregation\n",
    "\n",
    "\n",
    "I want to then get the average data per state. I will only be selecting a few of the columns needed for my analysis"
   ]
  },
  {
   "cell_type": "code",
   "execution_count": 67,
   "id": "7bc1c948",
   "metadata": {
    "execution": {
     "iopub.execute_input": "2022-12-23T09:44:37.484103Z",
     "iopub.status.busy": "2022-12-23T09:44:37.483093Z",
     "iopub.status.idle": "2022-12-23T09:44:37.502717Z",
     "shell.execute_reply": "2022-12-23T09:44:37.501492Z"
    },
    "papermill": {
     "duration": 0.067836,
     "end_time": "2022-12-23T09:44:37.505221",
     "exception": false,
     "start_time": "2022-12-23T09:44:37.437385",
     "status": "completed"
    },
    "tags": []
   },
   "outputs": [
    {
     "data": {
      "text/html": [
       "<div>\n",
       "<style scoped>\n",
       "    .dataframe tbody tr th:only-of-type {\n",
       "        vertical-align: middle;\n",
       "    }\n",
       "\n",
       "    .dataframe tbody tr th {\n",
       "        vertical-align: top;\n",
       "    }\n",
       "\n",
       "    .dataframe thead th {\n",
       "        text-align: right;\n",
       "    }\n",
       "</style>\n",
       "<table border=\"1\" class=\"dataframe\">\n",
       "  <thead>\n",
       "    <tr style=\"text-align: right;\">\n",
       "      <th></th>\n",
       "      <th>permit</th>\n",
       "      <th>permit_recheck</th>\n",
       "      <th>handgun</th>\n",
       "      <th>long_gun</th>\n",
       "      <th>other</th>\n",
       "      <th>multiple</th>\n",
       "    </tr>\n",
       "    <tr>\n",
       "      <th>state</th>\n",
       "      <th></th>\n",
       "      <th></th>\n",
       "      <th></th>\n",
       "      <th></th>\n",
       "      <th></th>\n",
       "      <th></th>\n",
       "    </tr>\n",
       "  </thead>\n",
       "  <tbody>\n",
       "    <tr>\n",
       "      <th>Alabama</th>\n",
       "      <td>9364.633333</td>\n",
       "      <td>NaN</td>\n",
       "      <td>15414.500000</td>\n",
       "      <td>14679.700000</td>\n",
       "      <td>476.350000</td>\n",
       "      <td>746.566667</td>\n",
       "    </tr>\n",
       "    <tr>\n",
       "      <th>Alaska</th>\n",
       "      <td>134.233333</td>\n",
       "      <td>NaN</td>\n",
       "      <td>2893.333333</td>\n",
       "      <td>3251.833333</td>\n",
       "      <td>164.066667</td>\n",
       "      <td>183.033333</td>\n",
       "    </tr>\n",
       "    <tr>\n",
       "      <th>Arizona</th>\n",
       "      <td>4476.416667</td>\n",
       "      <td>NaN</td>\n",
       "      <td>10963.566667</td>\n",
       "      <td>8048.566667</td>\n",
       "      <td>530.650000</td>\n",
       "      <td>511.983333</td>\n",
       "    </tr>\n",
       "  </tbody>\n",
       "</table>\n",
       "</div>"
      ],
      "text/plain": [
       "              permit  permit_recheck       handgun      long_gun       other  \\\n",
       "state                                                                          \n",
       "Alabama  9364.633333             NaN  15414.500000  14679.700000  476.350000   \n",
       "Alaska    134.233333             NaN   2893.333333   3251.833333  164.066667   \n",
       "Arizona  4476.416667             NaN  10963.566667   8048.566667  530.650000   \n",
       "\n",
       "           multiple  \n",
       "state                \n",
       "Alabama  746.566667  \n",
       "Alaska   183.033333  \n",
       "Arizona  511.983333  "
      ]
     },
     "execution_count": 67,
     "metadata": {},
     "output_type": "execute_result"
    }
   ],
   "source": [
    "gun_data_2011_2015 = gun_data_2011_2015.groupby('state').mean().iloc[:,:6]\n",
    "gun_data_2011_2015.head(3)"
   ]
  },
  {
   "cell_type": "code",
   "execution_count": 68,
   "id": "ffb80747",
   "metadata": {
    "execution": {
     "iopub.execute_input": "2022-12-23T09:44:37.594846Z",
     "iopub.status.busy": "2022-12-23T09:44:37.594424Z",
     "iopub.status.idle": "2022-12-23T09:44:37.600860Z",
     "shell.execute_reply": "2022-12-23T09:44:37.599783Z"
    },
    "papermill": {
     "duration": 0.053667,
     "end_time": "2022-12-23T09:44:37.603272",
     "exception": false,
     "start_time": "2022-12-23T09:44:37.549605",
     "status": "completed"
    },
    "tags": []
   },
   "outputs": [
    {
     "data": {
      "text/plain": [
       "(50, 6)"
      ]
     },
     "execution_count": 68,
     "metadata": {},
     "output_type": "execute_result"
    }
   ],
   "source": [
    "gun_data_2011_2015.shape"
   ]
  },
  {
   "cell_type": "markdown",
   "id": "cd9b6021",
   "metadata": {
    "papermill": {
     "duration": 0.04459,
     "end_time": "2022-12-23T09:44:37.692128",
     "exception": false,
     "start_time": "2022-12-23T09:44:37.647538",
     "status": "completed"
    },
    "tags": []
   },
   "source": [
    "## Joining Data \n",
    "Since I intend to join the gun data and us census data on state, I will be reseting the index so state can be a standalone column and not an index"
   ]
  },
  {
   "cell_type": "code",
   "execution_count": 69,
   "id": "8fef71c8",
   "metadata": {
    "execution": {
     "iopub.execute_input": "2022-12-23T09:44:37.783156Z",
     "iopub.status.busy": "2022-12-23T09:44:37.782769Z",
     "iopub.status.idle": "2022-12-23T09:44:37.789694Z",
     "shell.execute_reply": "2022-12-23T09:44:37.788459Z"
    },
    "papermill": {
     "duration": 0.056301,
     "end_time": "2022-12-23T09:44:37.792201",
     "exception": false,
     "start_time": "2022-12-23T09:44:37.735900",
     "status": "completed"
    },
    "tags": []
   },
   "outputs": [],
   "source": [
    "gun_data_2011_2015.reset_index(inplace = True)"
   ]
  },
  {
   "cell_type": "code",
   "execution_count": 70,
   "id": "4590fb5e",
   "metadata": {
    "execution": {
     "iopub.execute_input": "2022-12-23T09:44:37.883545Z",
     "iopub.status.busy": "2022-12-23T09:44:37.883116Z",
     "iopub.status.idle": "2022-12-23T09:44:37.896967Z",
     "shell.execute_reply": "2022-12-23T09:44:37.895969Z"
    },
    "papermill": {
     "duration": 0.062711,
     "end_time": "2022-12-23T09:44:37.899111",
     "exception": false,
     "start_time": "2022-12-23T09:44:37.836400",
     "status": "completed"
    },
    "tags": []
   },
   "outputs": [
    {
     "data": {
      "text/html": [
       "<div>\n",
       "<style scoped>\n",
       "    .dataframe tbody tr th:only-of-type {\n",
       "        vertical-align: middle;\n",
       "    }\n",
       "\n",
       "    .dataframe tbody tr th {\n",
       "        vertical-align: top;\n",
       "    }\n",
       "\n",
       "    .dataframe thead th {\n",
       "        text-align: right;\n",
       "    }\n",
       "</style>\n",
       "<table border=\"1\" class=\"dataframe\">\n",
       "  <thead>\n",
       "    <tr style=\"text-align: right;\">\n",
       "      <th></th>\n",
       "      <th>state</th>\n",
       "      <th>permit</th>\n",
       "      <th>permit_recheck</th>\n",
       "      <th>handgun</th>\n",
       "      <th>long_gun</th>\n",
       "      <th>other</th>\n",
       "      <th>multiple</th>\n",
       "    </tr>\n",
       "  </thead>\n",
       "  <tbody>\n",
       "    <tr>\n",
       "      <th>0</th>\n",
       "      <td>Alabama</td>\n",
       "      <td>9364.633333</td>\n",
       "      <td>NaN</td>\n",
       "      <td>15414.500000</td>\n",
       "      <td>14679.700000</td>\n",
       "      <td>476.350000</td>\n",
       "      <td>746.566667</td>\n",
       "    </tr>\n",
       "    <tr>\n",
       "      <th>1</th>\n",
       "      <td>Alaska</td>\n",
       "      <td>134.233333</td>\n",
       "      <td>NaN</td>\n",
       "      <td>2893.333333</td>\n",
       "      <td>3251.833333</td>\n",
       "      <td>164.066667</td>\n",
       "      <td>183.033333</td>\n",
       "    </tr>\n",
       "    <tr>\n",
       "      <th>2</th>\n",
       "      <td>Arizona</td>\n",
       "      <td>4476.416667</td>\n",
       "      <td>NaN</td>\n",
       "      <td>10963.566667</td>\n",
       "      <td>8048.566667</td>\n",
       "      <td>530.650000</td>\n",
       "      <td>511.983333</td>\n",
       "    </tr>\n",
       "  </tbody>\n",
       "</table>\n",
       "</div>"
      ],
      "text/plain": [
       "     state       permit  permit_recheck       handgun      long_gun  \\\n",
       "0  Alabama  9364.633333             NaN  15414.500000  14679.700000   \n",
       "1   Alaska   134.233333             NaN   2893.333333   3251.833333   \n",
       "2  Arizona  4476.416667             NaN  10963.566667   8048.566667   \n",
       "\n",
       "        other    multiple  \n",
       "0  476.350000  746.566667  \n",
       "1  164.066667  183.033333  \n",
       "2  530.650000  511.983333  "
      ]
     },
     "execution_count": 70,
     "metadata": {},
     "output_type": "execute_result"
    }
   ],
   "source": [
    "gun_data_2011_2015.head(3)"
   ]
  },
  {
   "cell_type": "code",
   "execution_count": 71,
   "id": "a52734b2",
   "metadata": {
    "execution": {
     "iopub.execute_input": "2022-12-23T09:44:37.994784Z",
     "iopub.status.busy": "2022-12-23T09:44:37.993607Z",
     "iopub.status.idle": "2022-12-23T09:44:38.015703Z",
     "shell.execute_reply": "2022-12-23T09:44:38.014397Z"
    },
    "papermill": {
     "duration": 0.071869,
     "end_time": "2022-12-23T09:44:38.019050",
     "exception": false,
     "start_time": "2022-12-23T09:44:37.947181",
     "status": "completed"
    },
    "tags": []
   },
   "outputs": [
    {
     "data": {
      "text/html": [
       "<div>\n",
       "<style scoped>\n",
       "    .dataframe tbody tr th:only-of-type {\n",
       "        vertical-align: middle;\n",
       "    }\n",
       "\n",
       "    .dataframe tbody tr th {\n",
       "        vertical-align: top;\n",
       "    }\n",
       "\n",
       "    .dataframe thead th {\n",
       "        text-align: right;\n",
       "    }\n",
       "</style>\n",
       "<table border=\"1\" class=\"dataframe\">\n",
       "  <thead>\n",
       "    <tr style=\"text-align: right;\">\n",
       "      <th>Fact</th>\n",
       "      <th>state</th>\n",
       "      <th>Population estimates, July 1, 2016,  (V2016)</th>\n",
       "      <th>Population estimates base, April 1, 2010,  (V2016)</th>\n",
       "      <th>Population, percent change - April 1, 2010 (estimates base) to July 1, 2016,  (V2016)</th>\n",
       "      <th>Population, Census, April 1, 2010</th>\n",
       "      <th>Persons under 5 years, percent, July 1, 2016,  (V2016)</th>\n",
       "      <th>Persons under 5 years, percent, April 1, 2010</th>\n",
       "      <th>Persons under 18 years, percent, July 1, 2016,  (V2016)</th>\n",
       "      <th>Persons under 18 years, percent, April 1, 2010</th>\n",
       "      <th>Persons 65 years and over, percent,  July 1, 2016,  (V2016)</th>\n",
       "      <th>...</th>\n",
       "      <th>Total nonemployer establishments, 2015</th>\n",
       "      <th>All firms, 2012</th>\n",
       "      <th>Men-owned firms, 2012</th>\n",
       "      <th>Women-owned firms, 2012</th>\n",
       "      <th>Minority-owned firms, 2012</th>\n",
       "      <th>Nonminority-owned firms, 2012</th>\n",
       "      <th>Veteran-owned firms, 2012</th>\n",
       "      <th>Nonveteran-owned firms, 2012</th>\n",
       "      <th>Population per square mile, 2010</th>\n",
       "      <th>Land area in square miles, 2010</th>\n",
       "    </tr>\n",
       "  </thead>\n",
       "  <tbody>\n",
       "    <tr>\n",
       "      <th>0</th>\n",
       "      <td>Alabama</td>\n",
       "      <td>4863300</td>\n",
       "      <td>4780131</td>\n",
       "      <td>170</td>\n",
       "      <td>4779736</td>\n",
       "      <td>600</td>\n",
       "      <td>640</td>\n",
       "      <td>2260</td>\n",
       "      <td>2370</td>\n",
       "      <td>1610</td>\n",
       "      <td>...</td>\n",
       "      <td>322025</td>\n",
       "      <td>374153</td>\n",
       "      <td>203604</td>\n",
       "      <td>137630</td>\n",
       "      <td>92219</td>\n",
       "      <td>272651</td>\n",
       "      <td>41943</td>\n",
       "      <td>316984</td>\n",
       "      <td>944</td>\n",
       "      <td>5064533</td>\n",
       "    </tr>\n",
       "    <tr>\n",
       "      <th>1</th>\n",
       "      <td>Alaska</td>\n",
       "      <td>741894</td>\n",
       "      <td>710249</td>\n",
       "      <td>450</td>\n",
       "      <td>710231</td>\n",
       "      <td>730</td>\n",
       "      <td>760</td>\n",
       "      <td>2520</td>\n",
       "      <td>2640</td>\n",
       "      <td>1040</td>\n",
       "      <td>...</td>\n",
       "      <td>55521</td>\n",
       "      <td>68032</td>\n",
       "      <td>35402</td>\n",
       "      <td>22141</td>\n",
       "      <td>13688</td>\n",
       "      <td>51147</td>\n",
       "      <td>7953</td>\n",
       "      <td>56091</td>\n",
       "      <td>12</td>\n",
       "      <td>57064095</td>\n",
       "    </tr>\n",
       "    <tr>\n",
       "      <th>2</th>\n",
       "      <td>Arizona</td>\n",
       "      <td>6931071</td>\n",
       "      <td>6392301</td>\n",
       "      <td>840</td>\n",
       "      <td>6392017</td>\n",
       "      <td>630</td>\n",
       "      <td>710</td>\n",
       "      <td>2350</td>\n",
       "      <td>2550</td>\n",
       "      <td>1690</td>\n",
       "      <td>...</td>\n",
       "      <td>451951</td>\n",
       "      <td>499926</td>\n",
       "      <td>245243</td>\n",
       "      <td>182425</td>\n",
       "      <td>135313</td>\n",
       "      <td>344981</td>\n",
       "      <td>46780</td>\n",
       "      <td>427582</td>\n",
       "      <td>563</td>\n",
       "      <td>11359408</td>\n",
       "    </tr>\n",
       "  </tbody>\n",
       "</table>\n",
       "<p>3 rows × 65 columns</p>\n",
       "</div>"
      ],
      "text/plain": [
       "Fact    state  Population estimates, July 1, 2016,  (V2016)  \\\n",
       "0     Alabama                                       4863300   \n",
       "1      Alaska                                        741894   \n",
       "2     Arizona                                       6931071   \n",
       "\n",
       "Fact  Population estimates base, April 1, 2010,  (V2016)  \\\n",
       "0                                               4780131    \n",
       "1                                                710249    \n",
       "2                                               6392301    \n",
       "\n",
       "Fact  Population, percent change - April 1, 2010 (estimates base) to July 1, 2016,  (V2016)  \\\n",
       "0                                                   170                                       \n",
       "1                                                   450                                       \n",
       "2                                                   840                                       \n",
       "\n",
       "Fact  Population, Census, April 1, 2010  \\\n",
       "0                               4779736   \n",
       "1                                710231   \n",
       "2                               6392017   \n",
       "\n",
       "Fact  Persons under 5 years, percent, July 1, 2016,  (V2016)  \\\n",
       "0                                                   600        \n",
       "1                                                   730        \n",
       "2                                                   630        \n",
       "\n",
       "Fact  Persons under 5 years, percent, April 1, 2010  \\\n",
       "0                                               640   \n",
       "1                                               760   \n",
       "2                                               710   \n",
       "\n",
       "Fact  Persons under 18 years, percent, July 1, 2016,  (V2016)  \\\n",
       "0                                                  2260         \n",
       "1                                                  2520         \n",
       "2                                                  2350         \n",
       "\n",
       "Fact  Persons under 18 years, percent, April 1, 2010  \\\n",
       "0                                               2370   \n",
       "1                                               2640   \n",
       "2                                               2550   \n",
       "\n",
       "Fact  Persons 65 years and over, percent,  July 1, 2016,  (V2016)  ...  \\\n",
       "0                                                  1610            ...   \n",
       "1                                                  1040            ...   \n",
       "2                                                  1690            ...   \n",
       "\n",
       "Fact  Total nonemployer establishments, 2015  All firms, 2012  \\\n",
       "0                                     322025           374153   \n",
       "1                                      55521            68032   \n",
       "2                                     451951           499926   \n",
       "\n",
       "Fact  Men-owned firms, 2012  Women-owned firms, 2012  \\\n",
       "0                    203604                   137630   \n",
       "1                     35402                    22141   \n",
       "2                    245243                   182425   \n",
       "\n",
       "Fact  Minority-owned firms, 2012  Nonminority-owned firms, 2012  \\\n",
       "0                          92219                         272651   \n",
       "1                          13688                          51147   \n",
       "2                         135313                         344981   \n",
       "\n",
       "Fact  Veteran-owned firms, 2012  Nonveteran-owned firms, 2012  \\\n",
       "0                         41943                        316984   \n",
       "1                          7953                         56091   \n",
       "2                         46780                        427582   \n",
       "\n",
       "Fact  Population per square mile, 2010  Land area in square miles, 2010  \n",
       "0                                  944                          5064533  \n",
       "1                                   12                         57064095  \n",
       "2                                  563                         11359408  \n",
       "\n",
       "[3 rows x 65 columns]"
      ]
     },
     "execution_count": 71,
     "metadata": {},
     "output_type": "execute_result"
    }
   ],
   "source": [
    "us_census.head(3)"
   ]
  },
  {
   "cell_type": "markdown",
   "id": "91c0906d",
   "metadata": {
    "papermill": {
     "duration": 0.045521,
     "end_time": "2022-12-23T09:44:38.109091",
     "exception": false,
     "start_time": "2022-12-23T09:44:38.063570",
     "status": "completed"
    },
    "tags": []
   },
   "source": [
    "## Joining the gun data set with the US census dataset\n",
    "\n",
    "I will do a left join. In this case this; a left, inner, and right join will product the same output because we are joining on the state column and both datasets have equal and unique number of state"
   ]
  },
  {
   "cell_type": "code",
   "execution_count": 72,
   "id": "5515b7d6",
   "metadata": {
    "execution": {
     "iopub.execute_input": "2022-12-23T09:44:38.205553Z",
     "iopub.status.busy": "2022-12-23T09:44:38.204741Z",
     "iopub.status.idle": "2022-12-23T09:44:38.236562Z",
     "shell.execute_reply": "2022-12-23T09:44:38.235685Z"
    },
    "papermill": {
     "duration": 0.082979,
     "end_time": "2022-12-23T09:44:38.239591",
     "exception": false,
     "start_time": "2022-12-23T09:44:38.156612",
     "status": "completed"
    },
    "tags": []
   },
   "outputs": [
    {
     "data": {
      "text/html": [
       "<div>\n",
       "<style scoped>\n",
       "    .dataframe tbody tr th:only-of-type {\n",
       "        vertical-align: middle;\n",
       "    }\n",
       "\n",
       "    .dataframe tbody tr th {\n",
       "        vertical-align: top;\n",
       "    }\n",
       "\n",
       "    .dataframe thead th {\n",
       "        text-align: right;\n",
       "    }\n",
       "</style>\n",
       "<table border=\"1\" class=\"dataframe\">\n",
       "  <thead>\n",
       "    <tr style=\"text-align: right;\">\n",
       "      <th></th>\n",
       "      <th>state</th>\n",
       "      <th>permit</th>\n",
       "      <th>permit_recheck</th>\n",
       "      <th>handgun</th>\n",
       "      <th>long_gun</th>\n",
       "      <th>other</th>\n",
       "      <th>multiple</th>\n",
       "      <th>Population estimates, July 1, 2016,  (V2016)</th>\n",
       "      <th>Population estimates base, April 1, 2010,  (V2016)</th>\n",
       "      <th>Population, percent change - April 1, 2010 (estimates base) to July 1, 2016,  (V2016)</th>\n",
       "      <th>...</th>\n",
       "      <th>Total nonemployer establishments, 2015</th>\n",
       "      <th>All firms, 2012</th>\n",
       "      <th>Men-owned firms, 2012</th>\n",
       "      <th>Women-owned firms, 2012</th>\n",
       "      <th>Minority-owned firms, 2012</th>\n",
       "      <th>Nonminority-owned firms, 2012</th>\n",
       "      <th>Veteran-owned firms, 2012</th>\n",
       "      <th>Nonveteran-owned firms, 2012</th>\n",
       "      <th>Population per square mile, 2010</th>\n",
       "      <th>Land area in square miles, 2010</th>\n",
       "    </tr>\n",
       "  </thead>\n",
       "  <tbody>\n",
       "    <tr>\n",
       "      <th>0</th>\n",
       "      <td>Alabama</td>\n",
       "      <td>9364.633333</td>\n",
       "      <td>NaN</td>\n",
       "      <td>15414.500000</td>\n",
       "      <td>14679.700000</td>\n",
       "      <td>476.350000</td>\n",
       "      <td>746.566667</td>\n",
       "      <td>4863300</td>\n",
       "      <td>4780131</td>\n",
       "      <td>170</td>\n",
       "      <td>...</td>\n",
       "      <td>322025</td>\n",
       "      <td>374153</td>\n",
       "      <td>203604</td>\n",
       "      <td>137630</td>\n",
       "      <td>92219</td>\n",
       "      <td>272651</td>\n",
       "      <td>41943</td>\n",
       "      <td>316984</td>\n",
       "      <td>944</td>\n",
       "      <td>5064533</td>\n",
       "    </tr>\n",
       "    <tr>\n",
       "      <th>1</th>\n",
       "      <td>Alaska</td>\n",
       "      <td>134.233333</td>\n",
       "      <td>NaN</td>\n",
       "      <td>2893.333333</td>\n",
       "      <td>3251.833333</td>\n",
       "      <td>164.066667</td>\n",
       "      <td>183.033333</td>\n",
       "      <td>741894</td>\n",
       "      <td>710249</td>\n",
       "      <td>450</td>\n",
       "      <td>...</td>\n",
       "      <td>55521</td>\n",
       "      <td>68032</td>\n",
       "      <td>35402</td>\n",
       "      <td>22141</td>\n",
       "      <td>13688</td>\n",
       "      <td>51147</td>\n",
       "      <td>7953</td>\n",
       "      <td>56091</td>\n",
       "      <td>12</td>\n",
       "      <td>57064095</td>\n",
       "    </tr>\n",
       "    <tr>\n",
       "      <th>2</th>\n",
       "      <td>Arizona</td>\n",
       "      <td>4476.416667</td>\n",
       "      <td>NaN</td>\n",
       "      <td>10963.566667</td>\n",
       "      <td>8048.566667</td>\n",
       "      <td>530.650000</td>\n",
       "      <td>511.983333</td>\n",
       "      <td>6931071</td>\n",
       "      <td>6392301</td>\n",
       "      <td>840</td>\n",
       "      <td>...</td>\n",
       "      <td>451951</td>\n",
       "      <td>499926</td>\n",
       "      <td>245243</td>\n",
       "      <td>182425</td>\n",
       "      <td>135313</td>\n",
       "      <td>344981</td>\n",
       "      <td>46780</td>\n",
       "      <td>427582</td>\n",
       "      <td>563</td>\n",
       "      <td>11359408</td>\n",
       "    </tr>\n",
       "  </tbody>\n",
       "</table>\n",
       "<p>3 rows × 71 columns</p>\n",
       "</div>"
      ],
      "text/plain": [
       "     state       permit  permit_recheck       handgun      long_gun  \\\n",
       "0  Alabama  9364.633333             NaN  15414.500000  14679.700000   \n",
       "1   Alaska   134.233333             NaN   2893.333333   3251.833333   \n",
       "2  Arizona  4476.416667             NaN  10963.566667   8048.566667   \n",
       "\n",
       "        other    multiple  Population estimates, July 1, 2016,  (V2016)  \\\n",
       "0  476.350000  746.566667                                       4863300   \n",
       "1  164.066667  183.033333                                        741894   \n",
       "2  530.650000  511.983333                                       6931071   \n",
       "\n",
       "   Population estimates base, April 1, 2010,  (V2016)  \\\n",
       "0                                            4780131    \n",
       "1                                             710249    \n",
       "2                                            6392301    \n",
       "\n",
       "   Population, percent change - April 1, 2010 (estimates base) to July 1, 2016,  (V2016)  \\\n",
       "0                                                170                                       \n",
       "1                                                450                                       \n",
       "2                                                840                                       \n",
       "\n",
       "   ...  Total nonemployer establishments, 2015  All firms, 2012  \\\n",
       "0  ...                                  322025           374153   \n",
       "1  ...                                   55521            68032   \n",
       "2  ...                                  451951           499926   \n",
       "\n",
       "   Men-owned firms, 2012  Women-owned firms, 2012  Minority-owned firms, 2012  \\\n",
       "0                 203604                   137630                       92219   \n",
       "1                  35402                    22141                       13688   \n",
       "2                 245243                   182425                      135313   \n",
       "\n",
       "   Nonminority-owned firms, 2012  Veteran-owned firms, 2012  \\\n",
       "0                         272651                      41943   \n",
       "1                          51147                       7953   \n",
       "2                         344981                      46780   \n",
       "\n",
       "   Nonveteran-owned firms, 2012  Population per square mile, 2010  \\\n",
       "0                        316984                               944   \n",
       "1                         56091                                12   \n",
       "2                        427582                               563   \n",
       "\n",
       "   Land area in square miles, 2010  \n",
       "0                          5064533  \n",
       "1                         57064095  \n",
       "2                         11359408  \n",
       "\n",
       "[3 rows x 71 columns]"
      ]
     },
     "execution_count": 72,
     "metadata": {},
     "output_type": "execute_result"
    }
   ],
   "source": [
    "gun_data_2011_2015 = pd.merge(gun_data_2011_2015, us_census, how = 'left', left_on='state', right_on= 'state' )\n",
    "gun_data_2011_2015.head(3)"
   ]
  },
  {
   "cell_type": "code",
   "execution_count": 73,
   "id": "b529ac05",
   "metadata": {
    "execution": {
     "iopub.execute_input": "2022-12-23T09:44:38.334350Z",
     "iopub.status.busy": "2022-12-23T09:44:38.333064Z",
     "iopub.status.idle": "2022-12-23T09:44:38.340981Z",
     "shell.execute_reply": "2022-12-23T09:44:38.340071Z"
    },
    "papermill": {
     "duration": 0.058599,
     "end_time": "2022-12-23T09:44:38.343976",
     "exception": false,
     "start_time": "2022-12-23T09:44:38.285377",
     "status": "completed"
    },
    "tags": []
   },
   "outputs": [
    {
     "data": {
      "text/plain": [
       "Index(['state', 'permit', 'permit_recheck', 'handgun', 'long_gun', 'other',\n",
       "       'multiple', 'Population estimates, July 1, 2016,  (V2016)',\n",
       "       'Population estimates base, April 1, 2010,  (V2016)',\n",
       "       'Population, percent change - April 1, 2010 (estimates base) to July 1, 2016,  (V2016)',\n",
       "       'Population, Census, April 1, 2010',\n",
       "       'Persons under 5 years, percent, July 1, 2016,  (V2016)',\n",
       "       'Persons under 5 years, percent, April 1, 2010',\n",
       "       'Persons under 18 years, percent, July 1, 2016,  (V2016)',\n",
       "       'Persons under 18 years, percent, April 1, 2010',\n",
       "       'Persons 65 years and over, percent,  July 1, 2016,  (V2016)',\n",
       "       'Persons 65 years and over, percent, April 1, 2010',\n",
       "       'Female persons, percent,  July 1, 2016,  (V2016)',\n",
       "       'Female persons, percent, April 1, 2010',\n",
       "       'White alone, percent, July 1, 2016,  (V2016)',\n",
       "       'Black or African American alone, percent, July 1, 2016,  (V2016)',\n",
       "       'American Indian and Alaska Native alone, percent, July 1, 2016,  (V2016)',\n",
       "       'Asian alone, percent, July 1, 2016,  (V2016)',\n",
       "       'Native Hawaiian and Other Pacific Islander alone, percent, July 1, 2016,  (V2016)',\n",
       "       'Two or More Races, percent, July 1, 2016,  (V2016)',\n",
       "       'Hispanic or Latino, percent, July 1, 2016,  (V2016)',\n",
       "       'White alone, not Hispanic or Latino, percent, July 1, 2016,  (V2016)',\n",
       "       'Veterans, 2011-2015', 'Foreign born persons, percent, 2011-2015',\n",
       "       'Housing units,  July 1, 2016,  (V2016)',\n",
       "       'Housing units, April 1, 2010',\n",
       "       'Owner-occupied housing unit rate, 2011-2015',\n",
       "       'Median value of owner-occupied housing units, 2011-2015',\n",
       "       'Median selected monthly owner costs -with a mortgage, 2011-2015',\n",
       "       'Median selected monthly owner costs -without a mortgage, 2011-2015',\n",
       "       'Median gross rent, 2011-2015', 'Building permits, 2016',\n",
       "       'Households, 2011-2015', 'Persons per household, 2011-2015',\n",
       "       'Living in same house 1 year ago, percent of persons age 1 year+, 2011-2015',\n",
       "       'Language other than English spoken at home, percent of persons age 5 years+, 2011-2015',\n",
       "       'High school graduate or higher, percent of persons age 25 years+, 2011-2015',\n",
       "       'Bachelor's degree or higher, percent of persons age 25 years+, 2011-2015',\n",
       "       'With a disability, under age 65 years, percent, 2011-2015',\n",
       "       'Persons  without health insurance, under age 65 years, percent',\n",
       "       'In civilian labor force, total, percent of population age 16 years+, 2011-2015',\n",
       "       'In civilian labor force, female, percent of population age 16 years+, 2011-2015',\n",
       "       'Total accommodation and food services sales, 2012 ($1,000)',\n",
       "       'Total health care and social assistance receipts/revenue, 2012 ($1,000)',\n",
       "       'Total manufacturers shipments, 2012 ($1,000)',\n",
       "       'Total merchant wholesaler sales, 2012 ($1,000)',\n",
       "       'Total retail sales, 2012 ($1,000)',\n",
       "       'Total retail sales per capita, 2012',\n",
       "       'Mean travel time to work (minutes), workers age 16 years+, 2011-2015',\n",
       "       'Median household income (in 2015 dollars), 2011-2015',\n",
       "       'Per capita income in past 12 months (in 2015 dollars), 2011-2015',\n",
       "       'Persons in poverty, percent', 'Total employer establishments, 2015',\n",
       "       'Total employment, 2015', 'Total annual payroll, 2015 ($1,000)',\n",
       "       'Total employment, percent change, 2014-2015',\n",
       "       'Total nonemployer establishments, 2015', 'All firms, 2012',\n",
       "       'Men-owned firms, 2012', 'Women-owned firms, 2012',\n",
       "       'Minority-owned firms, 2012', 'Nonminority-owned firms, 2012',\n",
       "       'Veteran-owned firms, 2012', 'Nonveteran-owned firms, 2012',\n",
       "       'Population per square mile, 2010', 'Land area in square miles, 2010'],\n",
       "      dtype='object')"
      ]
     },
     "execution_count": 73,
     "metadata": {},
     "output_type": "execute_result"
    }
   ],
   "source": [
    "gun_data_2011_2015.columns"
   ]
  },
  {
   "cell_type": "markdown",
   "id": "e47d6f44",
   "metadata": {
    "papermill": {
     "duration": 0.046088,
     "end_time": "2022-12-23T09:44:38.435747",
     "exception": false,
     "start_time": "2022-12-23T09:44:38.389659",
     "status": "completed"
    },
    "tags": []
   },
   "source": [
    "\n",
    "## Education\n",
    "- High school graduate or higher, percent of persons age 25 years+, 2011-2015\n",
    "- Bachelor's degree or higher, percent of persons age 25 years+, 2011-2015\n",
    "\n",
    "\n",
    "## Health\n",
    "- With a disability, under age 65 years, percent, 2011-2015"
   ]
  },
  {
   "cell_type": "markdown",
   "id": "fd7e5396",
   "metadata": {
    "papermill": {
     "duration": 0.044352,
     "end_time": "2022-12-23T09:44:38.525965",
     "exception": false,
     "start_time": "2022-12-23T09:44:38.481613",
     "status": "completed"
    },
    "tags": []
   },
   "source": [
    "## Selecting the data needed for analysis"
   ]
  },
  {
   "cell_type": "code",
   "execution_count": 74,
   "id": "855680ae",
   "metadata": {
    "execution": {
     "iopub.execute_input": "2022-12-23T09:44:38.621064Z",
     "iopub.status.busy": "2022-12-23T09:44:38.620096Z",
     "iopub.status.idle": "2022-12-23T09:44:38.648244Z",
     "shell.execute_reply": "2022-12-23T09:44:38.646613Z"
    },
    "papermill": {
     "duration": 0.079339,
     "end_time": "2022-12-23T09:44:38.650730",
     "exception": false,
     "start_time": "2022-12-23T09:44:38.571391",
     "status": "completed"
    },
    "tags": []
   },
   "outputs": [
    {
     "data": {
      "text/html": [
       "<div>\n",
       "<style scoped>\n",
       "    .dataframe tbody tr th:only-of-type {\n",
       "        vertical-align: middle;\n",
       "    }\n",
       "\n",
       "    .dataframe tbody tr th {\n",
       "        vertical-align: top;\n",
       "    }\n",
       "\n",
       "    .dataframe thead th {\n",
       "        text-align: right;\n",
       "    }\n",
       "</style>\n",
       "<table border=\"1\" class=\"dataframe\">\n",
       "  <thead>\n",
       "    <tr style=\"text-align: right;\">\n",
       "      <th></th>\n",
       "      <th>state</th>\n",
       "      <th>permit</th>\n",
       "      <th>handgun</th>\n",
       "      <th>long_gun</th>\n",
       "      <th>other</th>\n",
       "      <th>High school graduate or higher, percent of persons age 25 years+, 2011-2015</th>\n",
       "      <th>Bachelor's degree or higher, percent of persons age 25 years+, 2011-2015</th>\n",
       "      <th>With a disability, under age 65 years, percent, 2011-2015</th>\n",
       "    </tr>\n",
       "  </thead>\n",
       "  <tbody>\n",
       "    <tr>\n",
       "      <th>0</th>\n",
       "      <td>Alabama</td>\n",
       "      <td>9364.633333</td>\n",
       "      <td>15414.500000</td>\n",
       "      <td>14679.700000</td>\n",
       "      <td>476.350000</td>\n",
       "      <td>8430</td>\n",
       "      <td>2350</td>\n",
       "      <td>1180</td>\n",
       "    </tr>\n",
       "    <tr>\n",
       "      <th>1</th>\n",
       "      <td>Alaska</td>\n",
       "      <td>134.233333</td>\n",
       "      <td>2893.333333</td>\n",
       "      <td>3251.833333</td>\n",
       "      <td>164.066667</td>\n",
       "      <td>9210</td>\n",
       "      <td>2800</td>\n",
       "      <td>810</td>\n",
       "    </tr>\n",
       "    <tr>\n",
       "      <th>2</th>\n",
       "      <td>Arizona</td>\n",
       "      <td>4476.416667</td>\n",
       "      <td>10963.566667</td>\n",
       "      <td>8048.566667</td>\n",
       "      <td>530.650000</td>\n",
       "      <td>8600</td>\n",
       "      <td>2750</td>\n",
       "      <td>820</td>\n",
       "    </tr>\n",
       "    <tr>\n",
       "      <th>3</th>\n",
       "      <td>Arkansas</td>\n",
       "      <td>3948.766667</td>\n",
       "      <td>5615.633333</td>\n",
       "      <td>7232.483333</td>\n",
       "      <td>120.033333</td>\n",
       "      <td>8480</td>\n",
       "      <td>2110</td>\n",
       "      <td>1230</td>\n",
       "    </tr>\n",
       "    <tr>\n",
       "      <th>4</th>\n",
       "      <td>California</td>\n",
       "      <td>40797.966667</td>\n",
       "      <td>34331.283333</td>\n",
       "      <td>33042.033333</td>\n",
       "      <td>1748.616667</td>\n",
       "      <td>8180</td>\n",
       "      <td>3140</td>\n",
       "      <td>680</td>\n",
       "    </tr>\n",
       "    <tr>\n",
       "      <th>5</th>\n",
       "      <td>Colorado</td>\n",
       "      <td>3918.100000</td>\n",
       "      <td>15773.816667</td>\n",
       "      <td>13739.033333</td>\n",
       "      <td>569.216667</td>\n",
       "      <td>9070</td>\n",
       "      <td>3810</td>\n",
       "      <td>720</td>\n",
       "    </tr>\n",
       "    <tr>\n",
       "      <th>6</th>\n",
       "      <td>Connecticut</td>\n",
       "      <td>10631.966667</td>\n",
       "      <td>6407.116667</td>\n",
       "      <td>4345.033333</td>\n",
       "      <td>198.750000</td>\n",
       "      <td>8990</td>\n",
       "      <td>3760</td>\n",
       "      <td>710</td>\n",
       "    </tr>\n",
       "    <tr>\n",
       "      <th>7</th>\n",
       "      <td>Delaware</td>\n",
       "      <td>151.066667</td>\n",
       "      <td>1486.066667</td>\n",
       "      <td>1338.050000</td>\n",
       "      <td>55.266667</td>\n",
       "      <td>8840</td>\n",
       "      <td>3000</td>\n",
       "      <td>850</td>\n",
       "    </tr>\n",
       "    <tr>\n",
       "      <th>8</th>\n",
       "      <td>Florida</td>\n",
       "      <td>9556.033333</td>\n",
       "      <td>39968.850000</td>\n",
       "      <td>23136.466667</td>\n",
       "      <td>1392.150000</td>\n",
       "      <td>8690</td>\n",
       "      <td>2730</td>\n",
       "      <td>850</td>\n",
       "    </tr>\n",
       "    <tr>\n",
       "      <th>9</th>\n",
       "      <td>Georgia</td>\n",
       "      <td>12270.033333</td>\n",
       "      <td>12625.016667</td>\n",
       "      <td>10682.550000</td>\n",
       "      <td>278.983333</td>\n",
       "      <td>8540</td>\n",
       "      <td>2880</td>\n",
       "      <td>880</td>\n",
       "    </tr>\n",
       "    <tr>\n",
       "      <th>10</th>\n",
       "      <td>Hawaii</td>\n",
       "      <td>1298.966667</td>\n",
       "      <td>0.033333</td>\n",
       "      <td>0.033333</td>\n",
       "      <td>0.033333</td>\n",
       "      <td>9100</td>\n",
       "      <td>3080</td>\n",
       "      <td>650</td>\n",
       "    </tr>\n",
       "    <tr>\n",
       "      <th>11</th>\n",
       "      <td>Idaho</td>\n",
       "      <td>2404.600000</td>\n",
       "      <td>2861.016667</td>\n",
       "      <td>4439.533333</td>\n",
       "      <td>108.300000</td>\n",
       "      <td>8950</td>\n",
       "      <td>2590</td>\n",
       "      <td>900</td>\n",
       "    </tr>\n",
       "    <tr>\n",
       "      <th>12</th>\n",
       "      <td>Illinois</td>\n",
       "      <td>64249.600000</td>\n",
       "      <td>17342.166667</td>\n",
       "      <td>13251.700000</td>\n",
       "      <td>0.000000</td>\n",
       "      <td>8790</td>\n",
       "      <td>3230</td>\n",
       "      <td>710</td>\n",
       "    </tr>\n",
       "    <tr>\n",
       "      <th>13</th>\n",
       "      <td>Indiana</td>\n",
       "      <td>20668.233333</td>\n",
       "      <td>16589.816667</td>\n",
       "      <td>13459.650000</td>\n",
       "      <td>708.800000</td>\n",
       "      <td>8780</td>\n",
       "      <td>2410</td>\n",
       "      <td>970</td>\n",
       "    </tr>\n",
       "    <tr>\n",
       "      <th>14</th>\n",
       "      <td>Iowa</td>\n",
       "      <td>9097.316667</td>\n",
       "      <td>156.800000</td>\n",
       "      <td>3307.283333</td>\n",
       "      <td>22.366667</td>\n",
       "      <td>9150</td>\n",
       "      <td>2670</td>\n",
       "      <td>790</td>\n",
       "    </tr>\n",
       "    <tr>\n",
       "      <th>15</th>\n",
       "      <td>Kansas</td>\n",
       "      <td>1822.483333</td>\n",
       "      <td>6064.033333</td>\n",
       "      <td>6601.650000</td>\n",
       "      <td>239.800000</td>\n",
       "      <td>9020</td>\n",
       "      <td>3100</td>\n",
       "      <td>860</td>\n",
       "    </tr>\n",
       "    <tr>\n",
       "      <th>16</th>\n",
       "      <td>Kentucky</td>\n",
       "      <td>178562.016667</td>\n",
       "      <td>9416.850000</td>\n",
       "      <td>9790.433333</td>\n",
       "      <td>195.400000</td>\n",
       "      <td>8420</td>\n",
       "      <td>2230</td>\n",
       "      <td>1290</td>\n",
       "    </tr>\n",
       "    <tr>\n",
       "      <th>17</th>\n",
       "      <td>Louisiana</td>\n",
       "      <td>427.800000</td>\n",
       "      <td>11129.566667</td>\n",
       "      <td>12380.066667</td>\n",
       "      <td>446.716667</td>\n",
       "      <td>8340</td>\n",
       "      <td>2250</td>\n",
       "      <td>1100</td>\n",
       "    </tr>\n",
       "    <tr>\n",
       "      <th>18</th>\n",
       "      <td>Maine</td>\n",
       "      <td>63.000000</td>\n",
       "      <td>2955.666667</td>\n",
       "      <td>3748.216667</td>\n",
       "      <td>109.983333</td>\n",
       "      <td>9160</td>\n",
       "      <td>2900</td>\n",
       "      <td>1190</td>\n",
       "    </tr>\n",
       "    <tr>\n",
       "      <th>19</th>\n",
       "      <td>Maryland</td>\n",
       "      <td>764.400000</td>\n",
       "      <td>5621.883333</td>\n",
       "      <td>5597.166667</td>\n",
       "      <td>72.866667</td>\n",
       "      <td>8940</td>\n",
       "      <td>3790</td>\n",
       "      <td>710</td>\n",
       "    </tr>\n",
       "    <tr>\n",
       "      <th>20</th>\n",
       "      <td>Massachusetts</td>\n",
       "      <td>8057.916667</td>\n",
       "      <td>4739.416667</td>\n",
       "      <td>2790.550000</td>\n",
       "      <td>278.933333</td>\n",
       "      <td>8980</td>\n",
       "      <td>4050</td>\n",
       "      <td>790</td>\n",
       "    </tr>\n",
       "    <tr>\n",
       "      <th>21</th>\n",
       "      <td>Michigan</td>\n",
       "      <td>17314.583333</td>\n",
       "      <td>7076.200000</td>\n",
       "      <td>11700.083333</td>\n",
       "      <td>269.366667</td>\n",
       "      <td>8960</td>\n",
       "      <td>2690</td>\n",
       "      <td>1030</td>\n",
       "    </tr>\n",
       "    <tr>\n",
       "      <th>22</th>\n",
       "      <td>Minnesota</td>\n",
       "      <td>16978.083333</td>\n",
       "      <td>8356.066667</td>\n",
       "      <td>11630.383333</td>\n",
       "      <td>364.833333</td>\n",
       "      <td>9240</td>\n",
       "      <td>3370</td>\n",
       "      <td>710</td>\n",
       "    </tr>\n",
       "    <tr>\n",
       "      <th>23</th>\n",
       "      <td>Mississippi</td>\n",
       "      <td>629.183333</td>\n",
       "      <td>6691.566667</td>\n",
       "      <td>7831.550000</td>\n",
       "      <td>174.550000</td>\n",
       "      <td>8230</td>\n",
       "      <td>2070</td>\n",
       "      <td>1190</td>\n",
       "    </tr>\n",
       "    <tr>\n",
       "      <th>24</th>\n",
       "      <td>Missouri</td>\n",
       "      <td>4576.666667</td>\n",
       "      <td>18317.266667</td>\n",
       "      <td>15859.116667</td>\n",
       "      <td>688.916667</td>\n",
       "      <td>8840</td>\n",
       "      <td>2710</td>\n",
       "      <td>1040</td>\n",
       "    </tr>\n",
       "    <tr>\n",
       "      <th>25</th>\n",
       "      <td>Montana</td>\n",
       "      <td>1020.683333</td>\n",
       "      <td>2938.666667</td>\n",
       "      <td>4710.633333</td>\n",
       "      <td>82.300000</td>\n",
       "      <td>9280</td>\n",
       "      <td>2950</td>\n",
       "      <td>910</td>\n",
       "    </tr>\n",
       "    <tr>\n",
       "      <th>26</th>\n",
       "      <td>Nebraska</td>\n",
       "      <td>3766.050000</td>\n",
       "      <td>115.250000</td>\n",
       "      <td>2511.750000</td>\n",
       "      <td>15.616667</td>\n",
       "      <td>9070</td>\n",
       "      <td>2930</td>\n",
       "      <td>730</td>\n",
       "    </tr>\n",
       "    <tr>\n",
       "      <th>27</th>\n",
       "      <td>Nevada</td>\n",
       "      <td>1772.766667</td>\n",
       "      <td>4674.033333</td>\n",
       "      <td>3533.966667</td>\n",
       "      <td>182.083333</td>\n",
       "      <td>8510</td>\n",
       "      <td>2300</td>\n",
       "      <td>900</td>\n",
       "    </tr>\n",
       "    <tr>\n",
       "      <th>28</th>\n",
       "      <td>New Hampshire</td>\n",
       "      <td>3012.166667</td>\n",
       "      <td>4060.066667</td>\n",
       "      <td>3301.033333</td>\n",
       "      <td>59.666667</td>\n",
       "      <td>9230</td>\n",
       "      <td>3490</td>\n",
       "      <td>850</td>\n",
       "    </tr>\n",
       "    <tr>\n",
       "      <th>29</th>\n",
       "      <td>New Jersey</td>\n",
       "      <td>0.000000</td>\n",
       "      <td>4014.316667</td>\n",
       "      <td>3299.950000</td>\n",
       "      <td>146.950000</td>\n",
       "      <td>8860</td>\n",
       "      <td>3680</td>\n",
       "      <td>660</td>\n",
       "    </tr>\n",
       "    <tr>\n",
       "      <th>30</th>\n",
       "      <td>New Mexico</td>\n",
       "      <td>737.283333</td>\n",
       "      <td>4879.666667</td>\n",
       "      <td>4486.650000</td>\n",
       "      <td>222.766667</td>\n",
       "      <td>842</td>\n",
       "      <td>263</td>\n",
       "      <td>101</td>\n",
       "    </tr>\n",
       "    <tr>\n",
       "      <th>31</th>\n",
       "      <td>New York</td>\n",
       "      <td>3550.583333</td>\n",
       "      <td>7690.600000</td>\n",
       "      <td>15747.100000</td>\n",
       "      <td>522.116667</td>\n",
       "      <td>856</td>\n",
       "      <td>342</td>\n",
       "      <td>74</td>\n",
       "    </tr>\n",
       "    <tr>\n",
       "      <th>32</th>\n",
       "      <td>North Carolina</td>\n",
       "      <td>32032.983333</td>\n",
       "      <td>834.066667</td>\n",
       "      <td>14523.383333</td>\n",
       "      <td>429.516667</td>\n",
       "      <td>858</td>\n",
       "      <td>284</td>\n",
       "      <td>96</td>\n",
       "    </tr>\n",
       "    <tr>\n",
       "      <th>33</th>\n",
       "      <td>North Dakota</td>\n",
       "      <td>791.150000</td>\n",
       "      <td>1686.300000</td>\n",
       "      <td>3368.750000</td>\n",
       "      <td>50.433333</td>\n",
       "      <td>917</td>\n",
       "      <td>277</td>\n",
       "      <td>68</td>\n",
       "    </tr>\n",
       "    <tr>\n",
       "      <th>34</th>\n",
       "      <td>Ohio</td>\n",
       "      <td>1588.916667</td>\n",
       "      <td>26525.650000</td>\n",
       "      <td>19520.850000</td>\n",
       "      <td>1015.700000</td>\n",
       "      <td>891</td>\n",
       "      <td>261</td>\n",
       "      <td>99</td>\n",
       "    </tr>\n",
       "    <tr>\n",
       "      <th>35</th>\n",
       "      <td>Oklahoma</td>\n",
       "      <td>0.016667</td>\n",
       "      <td>12415.266667</td>\n",
       "      <td>11219.800000</td>\n",
       "      <td>610.383333</td>\n",
       "      <td>869</td>\n",
       "      <td>241</td>\n",
       "      <td>113</td>\n",
       "    </tr>\n",
       "    <tr>\n",
       "      <th>36</th>\n",
       "      <td>Oregon</td>\n",
       "      <td>44.316667</td>\n",
       "      <td>10706.850000</td>\n",
       "      <td>10300.233333</td>\n",
       "      <td>0.016667</td>\n",
       "      <td>898</td>\n",
       "      <td>308</td>\n",
       "      <td>102</td>\n",
       "    </tr>\n",
       "    <tr>\n",
       "      <th>37</th>\n",
       "      <td>Pennsylvania</td>\n",
       "      <td>14651.983333</td>\n",
       "      <td>18499.983333</td>\n",
       "      <td>43726.200000</td>\n",
       "      <td>70.283333</td>\n",
       "      <td>892</td>\n",
       "      <td>286</td>\n",
       "      <td>95</td>\n",
       "    </tr>\n",
       "    <tr>\n",
       "      <th>38</th>\n",
       "      <td>Rhode Island</td>\n",
       "      <td>0.000000</td>\n",
       "      <td>906.866667</td>\n",
       "      <td>761.633333</td>\n",
       "      <td>34.450000</td>\n",
       "      <td>862</td>\n",
       "      <td>319</td>\n",
       "      <td>89</td>\n",
       "    </tr>\n",
       "    <tr>\n",
       "      <th>39</th>\n",
       "      <td>South Carolina</td>\n",
       "      <td>6698.566667</td>\n",
       "      <td>8689.316667</td>\n",
       "      <td>6854.883333</td>\n",
       "      <td>293.666667</td>\n",
       "      <td>856</td>\n",
       "      <td>258</td>\n",
       "      <td>103</td>\n",
       "    </tr>\n",
       "    <tr>\n",
       "      <th>40</th>\n",
       "      <td>South Dakota</td>\n",
       "      <td>150.033333</td>\n",
       "      <td>2338.616667</td>\n",
       "      <td>4149.583333</td>\n",
       "      <td>91.300000</td>\n",
       "      <td>909</td>\n",
       "      <td>27</td>\n",
       "      <td>84</td>\n",
       "    </tr>\n",
       "    <tr>\n",
       "      <th>41</th>\n",
       "      <td>Tennessee</td>\n",
       "      <td>8999.750000</td>\n",
       "      <td>20035.200000</td>\n",
       "      <td>16148.966667</td>\n",
       "      <td>0.000000</td>\n",
       "      <td>855</td>\n",
       "      <td>249</td>\n",
       "      <td>112</td>\n",
       "    </tr>\n",
       "    <tr>\n",
       "      <th>42</th>\n",
       "      <td>Texas</td>\n",
       "      <td>18724.266667</td>\n",
       "      <td>44841.416667</td>\n",
       "      <td>41974.583333</td>\n",
       "      <td>1930.600000</td>\n",
       "      <td>8190</td>\n",
       "      <td>2760</td>\n",
       "      <td>810</td>\n",
       "    </tr>\n",
       "    <tr>\n",
       "      <th>43</th>\n",
       "      <td>Utah</td>\n",
       "      <td>26659.400000</td>\n",
       "      <td>3269.116667</td>\n",
       "      <td>4195.300000</td>\n",
       "      <td>91.866667</td>\n",
       "      <td>9120</td>\n",
       "      <td>3110</td>\n",
       "      <td>660</td>\n",
       "    </tr>\n",
       "    <tr>\n",
       "      <th>44</th>\n",
       "      <td>Vermont</td>\n",
       "      <td>0.000000</td>\n",
       "      <td>1205.766667</td>\n",
       "      <td>1431.900000</td>\n",
       "      <td>43.450000</td>\n",
       "      <td>9180</td>\n",
       "      <td>3600</td>\n",
       "      <td>1000</td>\n",
       "    </tr>\n",
       "    <tr>\n",
       "      <th>45</th>\n",
       "      <td>Virginia</td>\n",
       "      <td>112.666667</td>\n",
       "      <td>19215.000000</td>\n",
       "      <td>15895.150000</td>\n",
       "      <td>692.083333</td>\n",
       "      <td>8830</td>\n",
       "      <td>3630</td>\n",
       "      <td>770</td>\n",
       "    </tr>\n",
       "    <tr>\n",
       "      <th>46</th>\n",
       "      <td>Washington</td>\n",
       "      <td>10764.716667</td>\n",
       "      <td>14515.833333</td>\n",
       "      <td>11512.066667</td>\n",
       "      <td>928.716667</td>\n",
       "      <td>9040</td>\n",
       "      <td>3290</td>\n",
       "      <td>890</td>\n",
       "    </tr>\n",
       "    <tr>\n",
       "      <th>47</th>\n",
       "      <td>West Virginia</td>\n",
       "      <td>878.933333</td>\n",
       "      <td>6613.416667</td>\n",
       "      <td>7703.533333</td>\n",
       "      <td>181.450000</td>\n",
       "      <td>8500</td>\n",
       "      <td>1920</td>\n",
       "      <td>1440</td>\n",
       "    </tr>\n",
       "    <tr>\n",
       "      <th>48</th>\n",
       "      <td>Wisconsin</td>\n",
       "      <td>7179.716667</td>\n",
       "      <td>11905.300000</td>\n",
       "      <td>12478.766667</td>\n",
       "      <td>395.050000</td>\n",
       "      <td>9100</td>\n",
       "      <td>2780</td>\n",
       "      <td>820</td>\n",
       "    </tr>\n",
       "    <tr>\n",
       "      <th>49</th>\n",
       "      <td>Wyoming</td>\n",
       "      <td>476.916667</td>\n",
       "      <td>1888.933333</td>\n",
       "      <td>2250.466667</td>\n",
       "      <td>64.116667</td>\n",
       "      <td>9230</td>\n",
       "      <td>2570</td>\n",
       "      <td>850</td>\n",
       "    </tr>\n",
       "  </tbody>\n",
       "</table>\n",
       "</div>"
      ],
      "text/plain": [
       "             state         permit       handgun      long_gun        other  \\\n",
       "0          Alabama    9364.633333  15414.500000  14679.700000   476.350000   \n",
       "1           Alaska     134.233333   2893.333333   3251.833333   164.066667   \n",
       "2          Arizona    4476.416667  10963.566667   8048.566667   530.650000   \n",
       "3         Arkansas    3948.766667   5615.633333   7232.483333   120.033333   \n",
       "4       California   40797.966667  34331.283333  33042.033333  1748.616667   \n",
       "5         Colorado    3918.100000  15773.816667  13739.033333   569.216667   \n",
       "6      Connecticut   10631.966667   6407.116667   4345.033333   198.750000   \n",
       "7         Delaware     151.066667   1486.066667   1338.050000    55.266667   \n",
       "8          Florida    9556.033333  39968.850000  23136.466667  1392.150000   \n",
       "9          Georgia   12270.033333  12625.016667  10682.550000   278.983333   \n",
       "10          Hawaii    1298.966667      0.033333      0.033333     0.033333   \n",
       "11           Idaho    2404.600000   2861.016667   4439.533333   108.300000   \n",
       "12        Illinois   64249.600000  17342.166667  13251.700000     0.000000   \n",
       "13         Indiana   20668.233333  16589.816667  13459.650000   708.800000   \n",
       "14            Iowa    9097.316667    156.800000   3307.283333    22.366667   \n",
       "15          Kansas    1822.483333   6064.033333   6601.650000   239.800000   \n",
       "16        Kentucky  178562.016667   9416.850000   9790.433333   195.400000   \n",
       "17       Louisiana     427.800000  11129.566667  12380.066667   446.716667   \n",
       "18           Maine      63.000000   2955.666667   3748.216667   109.983333   \n",
       "19        Maryland     764.400000   5621.883333   5597.166667    72.866667   \n",
       "20   Massachusetts    8057.916667   4739.416667   2790.550000   278.933333   \n",
       "21        Michigan   17314.583333   7076.200000  11700.083333   269.366667   \n",
       "22       Minnesota   16978.083333   8356.066667  11630.383333   364.833333   \n",
       "23     Mississippi     629.183333   6691.566667   7831.550000   174.550000   \n",
       "24        Missouri    4576.666667  18317.266667  15859.116667   688.916667   \n",
       "25         Montana    1020.683333   2938.666667   4710.633333    82.300000   \n",
       "26        Nebraska    3766.050000    115.250000   2511.750000    15.616667   \n",
       "27          Nevada    1772.766667   4674.033333   3533.966667   182.083333   \n",
       "28   New Hampshire    3012.166667   4060.066667   3301.033333    59.666667   \n",
       "29      New Jersey       0.000000   4014.316667   3299.950000   146.950000   \n",
       "30      New Mexico     737.283333   4879.666667   4486.650000   222.766667   \n",
       "31        New York    3550.583333   7690.600000  15747.100000   522.116667   \n",
       "32  North Carolina   32032.983333    834.066667  14523.383333   429.516667   \n",
       "33    North Dakota     791.150000   1686.300000   3368.750000    50.433333   \n",
       "34            Ohio    1588.916667  26525.650000  19520.850000  1015.700000   \n",
       "35        Oklahoma       0.016667  12415.266667  11219.800000   610.383333   \n",
       "36          Oregon      44.316667  10706.850000  10300.233333     0.016667   \n",
       "37    Pennsylvania   14651.983333  18499.983333  43726.200000    70.283333   \n",
       "38    Rhode Island       0.000000    906.866667    761.633333    34.450000   \n",
       "39  South Carolina    6698.566667   8689.316667   6854.883333   293.666667   \n",
       "40    South Dakota     150.033333   2338.616667   4149.583333    91.300000   \n",
       "41       Tennessee    8999.750000  20035.200000  16148.966667     0.000000   \n",
       "42           Texas   18724.266667  44841.416667  41974.583333  1930.600000   \n",
       "43            Utah   26659.400000   3269.116667   4195.300000    91.866667   \n",
       "44         Vermont       0.000000   1205.766667   1431.900000    43.450000   \n",
       "45        Virginia     112.666667  19215.000000  15895.150000   692.083333   \n",
       "46      Washington   10764.716667  14515.833333  11512.066667   928.716667   \n",
       "47   West Virginia     878.933333   6613.416667   7703.533333   181.450000   \n",
       "48       Wisconsin    7179.716667  11905.300000  12478.766667   395.050000   \n",
       "49         Wyoming     476.916667   1888.933333   2250.466667    64.116667   \n",
       "\n",
       "    High school graduate or higher, percent of persons age 25 years+, 2011-2015  \\\n",
       "0                                                8430                             \n",
       "1                                                9210                             \n",
       "2                                                8600                             \n",
       "3                                                8480                             \n",
       "4                                                8180                             \n",
       "5                                                9070                             \n",
       "6                                                8990                             \n",
       "7                                                8840                             \n",
       "8                                                8690                             \n",
       "9                                                8540                             \n",
       "10                                               9100                             \n",
       "11                                               8950                             \n",
       "12                                               8790                             \n",
       "13                                               8780                             \n",
       "14                                               9150                             \n",
       "15                                               9020                             \n",
       "16                                               8420                             \n",
       "17                                               8340                             \n",
       "18                                               9160                             \n",
       "19                                               8940                             \n",
       "20                                               8980                             \n",
       "21                                               8960                             \n",
       "22                                               9240                             \n",
       "23                                               8230                             \n",
       "24                                               8840                             \n",
       "25                                               9280                             \n",
       "26                                               9070                             \n",
       "27                                               8510                             \n",
       "28                                               9230                             \n",
       "29                                               8860                             \n",
       "30                                                842                             \n",
       "31                                                856                             \n",
       "32                                                858                             \n",
       "33                                                917                             \n",
       "34                                                891                             \n",
       "35                                                869                             \n",
       "36                                                898                             \n",
       "37                                                892                             \n",
       "38                                                862                             \n",
       "39                                                856                             \n",
       "40                                                909                             \n",
       "41                                                855                             \n",
       "42                                               8190                             \n",
       "43                                               9120                             \n",
       "44                                               9180                             \n",
       "45                                               8830                             \n",
       "46                                               9040                             \n",
       "47                                               8500                             \n",
       "48                                               9100                             \n",
       "49                                               9230                             \n",
       "\n",
       "    Bachelor's degree or higher, percent of persons age 25 years+, 2011-2015  \\\n",
       "0                                                2350                          \n",
       "1                                                2800                          \n",
       "2                                                2750                          \n",
       "3                                                2110                          \n",
       "4                                                3140                          \n",
       "5                                                3810                          \n",
       "6                                                3760                          \n",
       "7                                                3000                          \n",
       "8                                                2730                          \n",
       "9                                                2880                          \n",
       "10                                               3080                          \n",
       "11                                               2590                          \n",
       "12                                               3230                          \n",
       "13                                               2410                          \n",
       "14                                               2670                          \n",
       "15                                               3100                          \n",
       "16                                               2230                          \n",
       "17                                               2250                          \n",
       "18                                               2900                          \n",
       "19                                               3790                          \n",
       "20                                               4050                          \n",
       "21                                               2690                          \n",
       "22                                               3370                          \n",
       "23                                               2070                          \n",
       "24                                               2710                          \n",
       "25                                               2950                          \n",
       "26                                               2930                          \n",
       "27                                               2300                          \n",
       "28                                               3490                          \n",
       "29                                               3680                          \n",
       "30                                                263                          \n",
       "31                                                342                          \n",
       "32                                                284                          \n",
       "33                                                277                          \n",
       "34                                                261                          \n",
       "35                                                241                          \n",
       "36                                                308                          \n",
       "37                                                286                          \n",
       "38                                                319                          \n",
       "39                                                258                          \n",
       "40                                                 27                          \n",
       "41                                                249                          \n",
       "42                                               2760                          \n",
       "43                                               3110                          \n",
       "44                                               3600                          \n",
       "45                                               3630                          \n",
       "46                                               3290                          \n",
       "47                                               1920                          \n",
       "48                                               2780                          \n",
       "49                                               2570                          \n",
       "\n",
       "    With a disability, under age 65 years, percent, 2011-2015  \n",
       "0                                                1180          \n",
       "1                                                 810          \n",
       "2                                                 820          \n",
       "3                                                1230          \n",
       "4                                                 680          \n",
       "5                                                 720          \n",
       "6                                                 710          \n",
       "7                                                 850          \n",
       "8                                                 850          \n",
       "9                                                 880          \n",
       "10                                                650          \n",
       "11                                                900          \n",
       "12                                                710          \n",
       "13                                                970          \n",
       "14                                                790          \n",
       "15                                                860          \n",
       "16                                               1290          \n",
       "17                                               1100          \n",
       "18                                               1190          \n",
       "19                                                710          \n",
       "20                                                790          \n",
       "21                                               1030          \n",
       "22                                                710          \n",
       "23                                               1190          \n",
       "24                                               1040          \n",
       "25                                                910          \n",
       "26                                                730          \n",
       "27                                                900          \n",
       "28                                                850          \n",
       "29                                                660          \n",
       "30                                                101          \n",
       "31                                                 74          \n",
       "32                                                 96          \n",
       "33                                                 68          \n",
       "34                                                 99          \n",
       "35                                                113          \n",
       "36                                                102          \n",
       "37                                                 95          \n",
       "38                                                 89          \n",
       "39                                                103          \n",
       "40                                                 84          \n",
       "41                                                112          \n",
       "42                                                810          \n",
       "43                                                660          \n",
       "44                                               1000          \n",
       "45                                                770          \n",
       "46                                                890          \n",
       "47                                               1440          \n",
       "48                                                820          \n",
       "49                                                850          "
      ]
     },
     "execution_count": 74,
     "metadata": {},
     "output_type": "execute_result"
    }
   ],
   "source": [
    "gun_data_11_15 = gun_data_2011_2015.iloc[:, [0,1,3,4,5,41,42,43]]\n",
    "gun_data_11_15"
   ]
  },
  {
   "cell_type": "code",
   "execution_count": 75,
   "id": "988b74d3",
   "metadata": {
    "execution": {
     "iopub.execute_input": "2022-12-23T09:44:38.746118Z",
     "iopub.status.busy": "2022-12-23T09:44:38.745744Z",
     "iopub.status.idle": "2022-12-23T09:44:38.751561Z",
     "shell.execute_reply": "2022-12-23T09:44:38.750729Z"
    },
    "papermill": {
     "duration": 0.056127,
     "end_time": "2022-12-23T09:44:38.753995",
     "exception": false,
     "start_time": "2022-12-23T09:44:38.697868",
     "status": "completed"
    },
    "tags": []
   },
   "outputs": [
    {
     "data": {
      "text/plain": [
       "(50, 8)"
      ]
     },
     "execution_count": 75,
     "metadata": {},
     "output_type": "execute_result"
    }
   ],
   "source": [
    "gun_data_11_15.shape"
   ]
  },
  {
   "cell_type": "markdown",
   "id": "c1dd499a",
   "metadata": {
    "papermill": {
     "duration": 0.047935,
     "end_time": "2022-12-23T09:44:38.850013",
     "exception": false,
     "start_time": "2022-12-23T09:44:38.802078",
     "status": "completed"
    },
    "tags": []
   },
   "source": [
    "## State Classification\n",
    "\n",
    "I will like to group the 50 states in the US into regions. As seen below from wikipedia, these are the division and grouping of states into different regions in the United States."
   ]
  },
  {
   "cell_type": "markdown",
   "id": "f717b7de",
   "metadata": {
    "papermill": {
     "duration": 0.050027,
     "end_time": "2022-12-23T09:44:38.947682",
     "exception": false,
     "start_time": "2022-12-23T09:44:38.897655",
     "status": "completed"
    },
    "tags": []
   },
   "source": [
    "\n",
    "### Census Bureau-designated regions and divisions\n",
    "\n",
    "- Region 1: Northeast\n",
    " - Division 1: New England (Connecticut, Maine, Massachusetts, New Hampshire, Rhode Island, and Vermont)\n",
    " - Division 2: Middle Atlantic (New Jersey, New York, and Pennsylvania)\n",
    "- Region 2: Midwest (Prior to June 1984, the Midwest Region was designated as the North Central Region.)[8]\n",
    " - Division 3: East North Central (Illinois, Indiana, Michigan, Ohio, and Wisconsin)\n",
    " - Division 4: West North Central (Iowa, Kansas, Minnesota, Missouri, Nebraska, North Dakota, and South Dakota)\n",
    "- Region 3: South\n",
    " - Division 5: South Atlantic (Delaware; Florida; Georgia; Maryland; North Carolina; South Carolina; Virginia; Washington, D.C. and West Virginia)\n",
    " - Division 6: East South Central (Alabama, Kentucky, Mississippi, and Tennessee)\n",
    " - Division 7: West South Central (Arkansas, Louisiana, Oklahoma, and Texas)\n",
    "- Region 4: West\n",
    " - Division 8: Mountain (Arizona, Colorado, Idaho, Montana, Nevada, New Mexico, Utah, and Wyoming)\n",
    " - Division 9: Pacific (Alaska, California, Hawaii, Oregon, and Washington)\n"
   ]
  },
  {
   "cell_type": "code",
   "execution_count": 76,
   "id": "f6a12fba",
   "metadata": {
    "execution": {
     "iopub.execute_input": "2022-12-23T09:44:39.046046Z",
     "iopub.status.busy": "2022-12-23T09:44:39.045631Z",
     "iopub.status.idle": "2022-12-23T09:44:39.052426Z",
     "shell.execute_reply": "2022-12-23T09:44:39.051157Z"
    },
    "papermill": {
     "duration": 0.05925,
     "end_time": "2022-12-23T09:44:39.055682",
     "exception": false,
     "start_time": "2022-12-23T09:44:38.996432",
     "status": "completed"
    },
    "tags": []
   },
   "outputs": [],
   "source": [
    "states = ['Alabama', 'Alaska', 'Arizona', 'Arkansas', 'California',\n",
    "          'Colorado', 'Connecticut', 'Delaware', 'Florida', 'Georgia', 'Hawaii', 'Idaho',\n",
    "       'Illinois', 'Indiana', 'Iowa', 'Kansas', 'Kentucky', 'Louisiana',\n",
    "       'Maine', 'Maryland', 'Massachusetts', 'Michigan', 'Minnesota',\n",
    "       'Mississippi', 'Missouri', 'Montana', 'Nebraska', 'Nevada',\n",
    "       'New Hampshire', 'New Jersey', 'New Mexico', 'New York',\n",
    "       'North Carolina', 'North Dakota', 'Ohio', 'Oklahoma', 'Oregon',\n",
    "       'Pennsylvania', 'Rhode Island', 'South Carolina', 'South Dakota',\n",
    "       'Tennessee', 'Texas', 'Utah', 'Vermont', 'Virginia', 'Washington',\n",
    "       'West Virginia', 'Wisconsin', 'Wyoming']"
   ]
  },
  {
   "cell_type": "code",
   "execution_count": 77,
   "id": "0f899c8f",
   "metadata": {
    "execution": {
     "iopub.execute_input": "2022-12-23T09:44:39.154023Z",
     "iopub.status.busy": "2022-12-23T09:44:39.153609Z",
     "iopub.status.idle": "2022-12-23T09:44:39.160471Z",
     "shell.execute_reply": "2022-12-23T09:44:39.159304Z"
    },
    "papermill": {
     "duration": 0.058846,
     "end_time": "2022-12-23T09:44:39.162832",
     "exception": false,
     "start_time": "2022-12-23T09:44:39.103986",
     "status": "completed"
    },
    "tags": []
   },
   "outputs": [],
   "source": [
    "Northeast = ['Connecticut', 'Maine', 'Massachusetts', 'New Hampshire', 'Rhode Island', 'Vermont', 'New Jersey', 'New York', 'Pennsylvania']\n",
    "Midwest = ['Illinois', 'Indiana', 'Michigan', 'Ohio', 'Wisconsin', 'Iowa', 'Kansas', 'Minnesota', 'Missouri', 'Nebraska', 'North Dakota', 'South Dakota']\n",
    "South = ['Delaware', 'Florida', 'Georgia', 'Maryland', 'North Carolina', 'South Carolina', 'Virginia', 'Washington', 'West Virginia', 'Alabama', 'Kentucky', 'Mississippi', 'Tennessee', 'Arkansas', 'Louisiana', 'Oklahoma', 'Texas']\n",
    "West = ['Arizona', 'Colorado', 'Idaho', 'Montana', 'Nevada', 'New Mexico', 'Utah', 'Wyoming', 'Alaska', 'California', 'Hawaii', 'Oregon']"
   ]
  },
  {
   "cell_type": "markdown",
   "id": "30f981c8",
   "metadata": {
    "papermill": {
     "duration": 0.04765,
     "end_time": "2022-12-23T09:44:39.257610",
     "exception": false,
     "start_time": "2022-12-23T09:44:39.209960",
     "status": "completed"
    },
    "tags": []
   },
   "source": [
    "## Code to classify individual states into regions"
   ]
  },
  {
   "cell_type": "code",
   "execution_count": 78,
   "id": "9afd2ed5",
   "metadata": {
    "execution": {
     "iopub.execute_input": "2022-12-23T09:44:39.355236Z",
     "iopub.status.busy": "2022-12-23T09:44:39.353661Z",
     "iopub.status.idle": "2022-12-23T09:44:39.364956Z",
     "shell.execute_reply": "2022-12-23T09:44:39.363968Z"
    },
    "papermill": {
     "duration": 0.062935,
     "end_time": "2022-12-23T09:44:39.367805",
     "exception": false,
     "start_time": "2022-12-23T09:44:39.304870",
     "status": "completed"
    },
    "tags": []
   },
   "outputs": [],
   "source": [
    "def assign_region(df):\n",
    "    \n",
    "  # Define the list of states and regions\n",
    "  west = ['Arizona', 'Colorado', 'Idaho', 'Montana', 'Nevada', 'New Mexico', 'Utah', 'Wyoming', 'Alaska', 'California', 'Hawaii', 'Oregon']\n",
    "  northeast = ['Connecticut', 'Maine', 'Massachusetts', 'New Hampshire', 'Rhode Island', 'Vermont', 'New Jersey', 'New York', 'Pennsylvania']\n",
    "  midwest = ['Illinois', 'Indiana', 'Michigan', 'Ohio', 'Wisconsin', 'Iowa', 'Kansas', 'Minnesota', 'Missouri', 'Nebraska', 'North Dakota', 'South Dakota']\n",
    "  south = ['Delaware', 'Florida', 'Georgia', 'Maryland', 'North Carolina', 'South Carolina', 'Virginia', 'Washington', 'West Virginia', 'Alabama', 'Kentucky', 'Mississippi', 'Tennessee', 'Arkansas', 'Louisiana', 'Oklahoma', 'Texas']\n",
    "  \n",
    "  # Create an empty list to store the regions\n",
    "  regions = []\n",
    "\n",
    "  # Iterate through each row in the DataFrame\n",
    "  for index, row in df.iterrows():\n",
    "    # Get the state from the current row\n",
    "    state = row['state']\n",
    "    \n",
    "    # Check if the state is in one of the defined regions\n",
    "    if state in west:\n",
    "      # If it is, assign the region as 'West'\n",
    "      region = 'West'\n",
    "        \n",
    "    elif state in northeast:\n",
    "      # If it is, assign the region as 'Northeast'\n",
    "      region = 'Northeast'\n",
    "        \n",
    "    elif state in midwest:\n",
    "      # If it is, assign the region as 'Midwest'\n",
    "      region = 'Midwest'\n",
    "        \n",
    "    elif state in south:\n",
    "      # If it is, assign the region as 'South'\n",
    "      region = 'South'\n",
    "        \n",
    "    else:\n",
    "      # If it's not, assign the region as 'Other'\n",
    "      region = 'Other'\n",
    "      \n",
    "    # Add the region to the list of regions\n",
    "    regions.append(region)\n",
    "  \n",
    "  # Create a new column in the DataFrame called 'region'\n",
    "  df['region'] = regions\n",
    "  \n",
    "  # Return the modified DataFrame\n",
    "  return df\n"
   ]
  },
  {
   "cell_type": "code",
   "execution_count": 79,
   "id": "d0ed5f21",
   "metadata": {
    "execution": {
     "iopub.execute_input": "2022-12-23T09:44:39.463550Z",
     "iopub.status.busy": "2022-12-23T09:44:39.463092Z",
     "iopub.status.idle": "2022-12-23T09:44:39.498562Z",
     "shell.execute_reply": "2022-12-23T09:44:39.497179Z"
    },
    "papermill": {
     "duration": 0.08601,
     "end_time": "2022-12-23T09:44:39.501208",
     "exception": false,
     "start_time": "2022-12-23T09:44:39.415198",
     "status": "completed"
    },
    "tags": []
   },
   "outputs": [
    {
     "name": "stderr",
     "output_type": "stream",
     "text": [
      "/opt/conda/lib/python3.7/site-packages/ipykernel_launcher.py:42: SettingWithCopyWarning: \n",
      "A value is trying to be set on a copy of a slice from a DataFrame.\n",
      "Try using .loc[row_indexer,col_indexer] = value instead\n",
      "\n",
      "See the caveats in the documentation: https://pandas.pydata.org/pandas-docs/stable/user_guide/indexing.html#returning-a-view-versus-a-copy\n"
     ]
    },
    {
     "data": {
      "text/html": [
       "<div>\n",
       "<style scoped>\n",
       "    .dataframe tbody tr th:only-of-type {\n",
       "        vertical-align: middle;\n",
       "    }\n",
       "\n",
       "    .dataframe tbody tr th {\n",
       "        vertical-align: top;\n",
       "    }\n",
       "\n",
       "    .dataframe thead th {\n",
       "        text-align: right;\n",
       "    }\n",
       "</style>\n",
       "<table border=\"1\" class=\"dataframe\">\n",
       "  <thead>\n",
       "    <tr style=\"text-align: right;\">\n",
       "      <th></th>\n",
       "      <th>state</th>\n",
       "      <th>permit</th>\n",
       "      <th>handgun</th>\n",
       "      <th>long_gun</th>\n",
       "      <th>other</th>\n",
       "      <th>High school graduate or higher, percent of persons age 25 years+, 2011-2015</th>\n",
       "      <th>Bachelor's degree or higher, percent of persons age 25 years+, 2011-2015</th>\n",
       "      <th>With a disability, under age 65 years, percent, 2011-2015</th>\n",
       "      <th>region</th>\n",
       "    </tr>\n",
       "  </thead>\n",
       "  <tbody>\n",
       "    <tr>\n",
       "      <th>0</th>\n",
       "      <td>Alabama</td>\n",
       "      <td>9364.633333</td>\n",
       "      <td>15414.500000</td>\n",
       "      <td>14679.700000</td>\n",
       "      <td>476.350000</td>\n",
       "      <td>8430</td>\n",
       "      <td>2350</td>\n",
       "      <td>1180</td>\n",
       "      <td>South</td>\n",
       "    </tr>\n",
       "    <tr>\n",
       "      <th>1</th>\n",
       "      <td>Alaska</td>\n",
       "      <td>134.233333</td>\n",
       "      <td>2893.333333</td>\n",
       "      <td>3251.833333</td>\n",
       "      <td>164.066667</td>\n",
       "      <td>9210</td>\n",
       "      <td>2800</td>\n",
       "      <td>810</td>\n",
       "      <td>West</td>\n",
       "    </tr>\n",
       "    <tr>\n",
       "      <th>2</th>\n",
       "      <td>Arizona</td>\n",
       "      <td>4476.416667</td>\n",
       "      <td>10963.566667</td>\n",
       "      <td>8048.566667</td>\n",
       "      <td>530.650000</td>\n",
       "      <td>8600</td>\n",
       "      <td>2750</td>\n",
       "      <td>820</td>\n",
       "      <td>West</td>\n",
       "    </tr>\n",
       "    <tr>\n",
       "      <th>3</th>\n",
       "      <td>Arkansas</td>\n",
       "      <td>3948.766667</td>\n",
       "      <td>5615.633333</td>\n",
       "      <td>7232.483333</td>\n",
       "      <td>120.033333</td>\n",
       "      <td>8480</td>\n",
       "      <td>2110</td>\n",
       "      <td>1230</td>\n",
       "      <td>South</td>\n",
       "    </tr>\n",
       "    <tr>\n",
       "      <th>4</th>\n",
       "      <td>California</td>\n",
       "      <td>40797.966667</td>\n",
       "      <td>34331.283333</td>\n",
       "      <td>33042.033333</td>\n",
       "      <td>1748.616667</td>\n",
       "      <td>8180</td>\n",
       "      <td>3140</td>\n",
       "      <td>680</td>\n",
       "      <td>West</td>\n",
       "    </tr>\n",
       "    <tr>\n",
       "      <th>5</th>\n",
       "      <td>Colorado</td>\n",
       "      <td>3918.100000</td>\n",
       "      <td>15773.816667</td>\n",
       "      <td>13739.033333</td>\n",
       "      <td>569.216667</td>\n",
       "      <td>9070</td>\n",
       "      <td>3810</td>\n",
       "      <td>720</td>\n",
       "      <td>West</td>\n",
       "    </tr>\n",
       "    <tr>\n",
       "      <th>6</th>\n",
       "      <td>Connecticut</td>\n",
       "      <td>10631.966667</td>\n",
       "      <td>6407.116667</td>\n",
       "      <td>4345.033333</td>\n",
       "      <td>198.750000</td>\n",
       "      <td>8990</td>\n",
       "      <td>3760</td>\n",
       "      <td>710</td>\n",
       "      <td>Northeast</td>\n",
       "    </tr>\n",
       "    <tr>\n",
       "      <th>7</th>\n",
       "      <td>Delaware</td>\n",
       "      <td>151.066667</td>\n",
       "      <td>1486.066667</td>\n",
       "      <td>1338.050000</td>\n",
       "      <td>55.266667</td>\n",
       "      <td>8840</td>\n",
       "      <td>3000</td>\n",
       "      <td>850</td>\n",
       "      <td>South</td>\n",
       "    </tr>\n",
       "    <tr>\n",
       "      <th>8</th>\n",
       "      <td>Florida</td>\n",
       "      <td>9556.033333</td>\n",
       "      <td>39968.850000</td>\n",
       "      <td>23136.466667</td>\n",
       "      <td>1392.150000</td>\n",
       "      <td>8690</td>\n",
       "      <td>2730</td>\n",
       "      <td>850</td>\n",
       "      <td>South</td>\n",
       "    </tr>\n",
       "    <tr>\n",
       "      <th>9</th>\n",
       "      <td>Georgia</td>\n",
       "      <td>12270.033333</td>\n",
       "      <td>12625.016667</td>\n",
       "      <td>10682.550000</td>\n",
       "      <td>278.983333</td>\n",
       "      <td>8540</td>\n",
       "      <td>2880</td>\n",
       "      <td>880</td>\n",
       "      <td>South</td>\n",
       "    </tr>\n",
       "    <tr>\n",
       "      <th>10</th>\n",
       "      <td>Hawaii</td>\n",
       "      <td>1298.966667</td>\n",
       "      <td>0.033333</td>\n",
       "      <td>0.033333</td>\n",
       "      <td>0.033333</td>\n",
       "      <td>9100</td>\n",
       "      <td>3080</td>\n",
       "      <td>650</td>\n",
       "      <td>West</td>\n",
       "    </tr>\n",
       "    <tr>\n",
       "      <th>11</th>\n",
       "      <td>Idaho</td>\n",
       "      <td>2404.600000</td>\n",
       "      <td>2861.016667</td>\n",
       "      <td>4439.533333</td>\n",
       "      <td>108.300000</td>\n",
       "      <td>8950</td>\n",
       "      <td>2590</td>\n",
       "      <td>900</td>\n",
       "      <td>West</td>\n",
       "    </tr>\n",
       "    <tr>\n",
       "      <th>12</th>\n",
       "      <td>Illinois</td>\n",
       "      <td>64249.600000</td>\n",
       "      <td>17342.166667</td>\n",
       "      <td>13251.700000</td>\n",
       "      <td>0.000000</td>\n",
       "      <td>8790</td>\n",
       "      <td>3230</td>\n",
       "      <td>710</td>\n",
       "      <td>Midwest</td>\n",
       "    </tr>\n",
       "    <tr>\n",
       "      <th>13</th>\n",
       "      <td>Indiana</td>\n",
       "      <td>20668.233333</td>\n",
       "      <td>16589.816667</td>\n",
       "      <td>13459.650000</td>\n",
       "      <td>708.800000</td>\n",
       "      <td>8780</td>\n",
       "      <td>2410</td>\n",
       "      <td>970</td>\n",
       "      <td>Midwest</td>\n",
       "    </tr>\n",
       "    <tr>\n",
       "      <th>14</th>\n",
       "      <td>Iowa</td>\n",
       "      <td>9097.316667</td>\n",
       "      <td>156.800000</td>\n",
       "      <td>3307.283333</td>\n",
       "      <td>22.366667</td>\n",
       "      <td>9150</td>\n",
       "      <td>2670</td>\n",
       "      <td>790</td>\n",
       "      <td>Midwest</td>\n",
       "    </tr>\n",
       "    <tr>\n",
       "      <th>15</th>\n",
       "      <td>Kansas</td>\n",
       "      <td>1822.483333</td>\n",
       "      <td>6064.033333</td>\n",
       "      <td>6601.650000</td>\n",
       "      <td>239.800000</td>\n",
       "      <td>9020</td>\n",
       "      <td>3100</td>\n",
       "      <td>860</td>\n",
       "      <td>Midwest</td>\n",
       "    </tr>\n",
       "    <tr>\n",
       "      <th>16</th>\n",
       "      <td>Kentucky</td>\n",
       "      <td>178562.016667</td>\n",
       "      <td>9416.850000</td>\n",
       "      <td>9790.433333</td>\n",
       "      <td>195.400000</td>\n",
       "      <td>8420</td>\n",
       "      <td>2230</td>\n",
       "      <td>1290</td>\n",
       "      <td>South</td>\n",
       "    </tr>\n",
       "    <tr>\n",
       "      <th>17</th>\n",
       "      <td>Louisiana</td>\n",
       "      <td>427.800000</td>\n",
       "      <td>11129.566667</td>\n",
       "      <td>12380.066667</td>\n",
       "      <td>446.716667</td>\n",
       "      <td>8340</td>\n",
       "      <td>2250</td>\n",
       "      <td>1100</td>\n",
       "      <td>South</td>\n",
       "    </tr>\n",
       "    <tr>\n",
       "      <th>18</th>\n",
       "      <td>Maine</td>\n",
       "      <td>63.000000</td>\n",
       "      <td>2955.666667</td>\n",
       "      <td>3748.216667</td>\n",
       "      <td>109.983333</td>\n",
       "      <td>9160</td>\n",
       "      <td>2900</td>\n",
       "      <td>1190</td>\n",
       "      <td>Northeast</td>\n",
       "    </tr>\n",
       "    <tr>\n",
       "      <th>19</th>\n",
       "      <td>Maryland</td>\n",
       "      <td>764.400000</td>\n",
       "      <td>5621.883333</td>\n",
       "      <td>5597.166667</td>\n",
       "      <td>72.866667</td>\n",
       "      <td>8940</td>\n",
       "      <td>3790</td>\n",
       "      <td>710</td>\n",
       "      <td>South</td>\n",
       "    </tr>\n",
       "    <tr>\n",
       "      <th>20</th>\n",
       "      <td>Massachusetts</td>\n",
       "      <td>8057.916667</td>\n",
       "      <td>4739.416667</td>\n",
       "      <td>2790.550000</td>\n",
       "      <td>278.933333</td>\n",
       "      <td>8980</td>\n",
       "      <td>4050</td>\n",
       "      <td>790</td>\n",
       "      <td>Northeast</td>\n",
       "    </tr>\n",
       "    <tr>\n",
       "      <th>21</th>\n",
       "      <td>Michigan</td>\n",
       "      <td>17314.583333</td>\n",
       "      <td>7076.200000</td>\n",
       "      <td>11700.083333</td>\n",
       "      <td>269.366667</td>\n",
       "      <td>8960</td>\n",
       "      <td>2690</td>\n",
       "      <td>1030</td>\n",
       "      <td>Midwest</td>\n",
       "    </tr>\n",
       "    <tr>\n",
       "      <th>22</th>\n",
       "      <td>Minnesota</td>\n",
       "      <td>16978.083333</td>\n",
       "      <td>8356.066667</td>\n",
       "      <td>11630.383333</td>\n",
       "      <td>364.833333</td>\n",
       "      <td>9240</td>\n",
       "      <td>3370</td>\n",
       "      <td>710</td>\n",
       "      <td>Midwest</td>\n",
       "    </tr>\n",
       "    <tr>\n",
       "      <th>23</th>\n",
       "      <td>Mississippi</td>\n",
       "      <td>629.183333</td>\n",
       "      <td>6691.566667</td>\n",
       "      <td>7831.550000</td>\n",
       "      <td>174.550000</td>\n",
       "      <td>8230</td>\n",
       "      <td>2070</td>\n",
       "      <td>1190</td>\n",
       "      <td>South</td>\n",
       "    </tr>\n",
       "    <tr>\n",
       "      <th>24</th>\n",
       "      <td>Missouri</td>\n",
       "      <td>4576.666667</td>\n",
       "      <td>18317.266667</td>\n",
       "      <td>15859.116667</td>\n",
       "      <td>688.916667</td>\n",
       "      <td>8840</td>\n",
       "      <td>2710</td>\n",
       "      <td>1040</td>\n",
       "      <td>Midwest</td>\n",
       "    </tr>\n",
       "    <tr>\n",
       "      <th>25</th>\n",
       "      <td>Montana</td>\n",
       "      <td>1020.683333</td>\n",
       "      <td>2938.666667</td>\n",
       "      <td>4710.633333</td>\n",
       "      <td>82.300000</td>\n",
       "      <td>9280</td>\n",
       "      <td>2950</td>\n",
       "      <td>910</td>\n",
       "      <td>West</td>\n",
       "    </tr>\n",
       "    <tr>\n",
       "      <th>26</th>\n",
       "      <td>Nebraska</td>\n",
       "      <td>3766.050000</td>\n",
       "      <td>115.250000</td>\n",
       "      <td>2511.750000</td>\n",
       "      <td>15.616667</td>\n",
       "      <td>9070</td>\n",
       "      <td>2930</td>\n",
       "      <td>730</td>\n",
       "      <td>Midwest</td>\n",
       "    </tr>\n",
       "    <tr>\n",
       "      <th>27</th>\n",
       "      <td>Nevada</td>\n",
       "      <td>1772.766667</td>\n",
       "      <td>4674.033333</td>\n",
       "      <td>3533.966667</td>\n",
       "      <td>182.083333</td>\n",
       "      <td>8510</td>\n",
       "      <td>2300</td>\n",
       "      <td>900</td>\n",
       "      <td>West</td>\n",
       "    </tr>\n",
       "    <tr>\n",
       "      <th>28</th>\n",
       "      <td>New Hampshire</td>\n",
       "      <td>3012.166667</td>\n",
       "      <td>4060.066667</td>\n",
       "      <td>3301.033333</td>\n",
       "      <td>59.666667</td>\n",
       "      <td>9230</td>\n",
       "      <td>3490</td>\n",
       "      <td>850</td>\n",
       "      <td>Northeast</td>\n",
       "    </tr>\n",
       "    <tr>\n",
       "      <th>29</th>\n",
       "      <td>New Jersey</td>\n",
       "      <td>0.000000</td>\n",
       "      <td>4014.316667</td>\n",
       "      <td>3299.950000</td>\n",
       "      <td>146.950000</td>\n",
       "      <td>8860</td>\n",
       "      <td>3680</td>\n",
       "      <td>660</td>\n",
       "      <td>Northeast</td>\n",
       "    </tr>\n",
       "    <tr>\n",
       "      <th>30</th>\n",
       "      <td>New Mexico</td>\n",
       "      <td>737.283333</td>\n",
       "      <td>4879.666667</td>\n",
       "      <td>4486.650000</td>\n",
       "      <td>222.766667</td>\n",
       "      <td>842</td>\n",
       "      <td>263</td>\n",
       "      <td>101</td>\n",
       "      <td>West</td>\n",
       "    </tr>\n",
       "    <tr>\n",
       "      <th>31</th>\n",
       "      <td>New York</td>\n",
       "      <td>3550.583333</td>\n",
       "      <td>7690.600000</td>\n",
       "      <td>15747.100000</td>\n",
       "      <td>522.116667</td>\n",
       "      <td>856</td>\n",
       "      <td>342</td>\n",
       "      <td>74</td>\n",
       "      <td>Northeast</td>\n",
       "    </tr>\n",
       "    <tr>\n",
       "      <th>32</th>\n",
       "      <td>North Carolina</td>\n",
       "      <td>32032.983333</td>\n",
       "      <td>834.066667</td>\n",
       "      <td>14523.383333</td>\n",
       "      <td>429.516667</td>\n",
       "      <td>858</td>\n",
       "      <td>284</td>\n",
       "      <td>96</td>\n",
       "      <td>South</td>\n",
       "    </tr>\n",
       "    <tr>\n",
       "      <th>33</th>\n",
       "      <td>North Dakota</td>\n",
       "      <td>791.150000</td>\n",
       "      <td>1686.300000</td>\n",
       "      <td>3368.750000</td>\n",
       "      <td>50.433333</td>\n",
       "      <td>917</td>\n",
       "      <td>277</td>\n",
       "      <td>68</td>\n",
       "      <td>Midwest</td>\n",
       "    </tr>\n",
       "    <tr>\n",
       "      <th>34</th>\n",
       "      <td>Ohio</td>\n",
       "      <td>1588.916667</td>\n",
       "      <td>26525.650000</td>\n",
       "      <td>19520.850000</td>\n",
       "      <td>1015.700000</td>\n",
       "      <td>891</td>\n",
       "      <td>261</td>\n",
       "      <td>99</td>\n",
       "      <td>Midwest</td>\n",
       "    </tr>\n",
       "    <tr>\n",
       "      <th>35</th>\n",
       "      <td>Oklahoma</td>\n",
       "      <td>0.016667</td>\n",
       "      <td>12415.266667</td>\n",
       "      <td>11219.800000</td>\n",
       "      <td>610.383333</td>\n",
       "      <td>869</td>\n",
       "      <td>241</td>\n",
       "      <td>113</td>\n",
       "      <td>South</td>\n",
       "    </tr>\n",
       "    <tr>\n",
       "      <th>36</th>\n",
       "      <td>Oregon</td>\n",
       "      <td>44.316667</td>\n",
       "      <td>10706.850000</td>\n",
       "      <td>10300.233333</td>\n",
       "      <td>0.016667</td>\n",
       "      <td>898</td>\n",
       "      <td>308</td>\n",
       "      <td>102</td>\n",
       "      <td>West</td>\n",
       "    </tr>\n",
       "    <tr>\n",
       "      <th>37</th>\n",
       "      <td>Pennsylvania</td>\n",
       "      <td>14651.983333</td>\n",
       "      <td>18499.983333</td>\n",
       "      <td>43726.200000</td>\n",
       "      <td>70.283333</td>\n",
       "      <td>892</td>\n",
       "      <td>286</td>\n",
       "      <td>95</td>\n",
       "      <td>Northeast</td>\n",
       "    </tr>\n",
       "    <tr>\n",
       "      <th>38</th>\n",
       "      <td>Rhode Island</td>\n",
       "      <td>0.000000</td>\n",
       "      <td>906.866667</td>\n",
       "      <td>761.633333</td>\n",
       "      <td>34.450000</td>\n",
       "      <td>862</td>\n",
       "      <td>319</td>\n",
       "      <td>89</td>\n",
       "      <td>Northeast</td>\n",
       "    </tr>\n",
       "    <tr>\n",
       "      <th>39</th>\n",
       "      <td>South Carolina</td>\n",
       "      <td>6698.566667</td>\n",
       "      <td>8689.316667</td>\n",
       "      <td>6854.883333</td>\n",
       "      <td>293.666667</td>\n",
       "      <td>856</td>\n",
       "      <td>258</td>\n",
       "      <td>103</td>\n",
       "      <td>South</td>\n",
       "    </tr>\n",
       "    <tr>\n",
       "      <th>40</th>\n",
       "      <td>South Dakota</td>\n",
       "      <td>150.033333</td>\n",
       "      <td>2338.616667</td>\n",
       "      <td>4149.583333</td>\n",
       "      <td>91.300000</td>\n",
       "      <td>909</td>\n",
       "      <td>27</td>\n",
       "      <td>84</td>\n",
       "      <td>Midwest</td>\n",
       "    </tr>\n",
       "    <tr>\n",
       "      <th>41</th>\n",
       "      <td>Tennessee</td>\n",
       "      <td>8999.750000</td>\n",
       "      <td>20035.200000</td>\n",
       "      <td>16148.966667</td>\n",
       "      <td>0.000000</td>\n",
       "      <td>855</td>\n",
       "      <td>249</td>\n",
       "      <td>112</td>\n",
       "      <td>South</td>\n",
       "    </tr>\n",
       "    <tr>\n",
       "      <th>42</th>\n",
       "      <td>Texas</td>\n",
       "      <td>18724.266667</td>\n",
       "      <td>44841.416667</td>\n",
       "      <td>41974.583333</td>\n",
       "      <td>1930.600000</td>\n",
       "      <td>8190</td>\n",
       "      <td>2760</td>\n",
       "      <td>810</td>\n",
       "      <td>South</td>\n",
       "    </tr>\n",
       "    <tr>\n",
       "      <th>43</th>\n",
       "      <td>Utah</td>\n",
       "      <td>26659.400000</td>\n",
       "      <td>3269.116667</td>\n",
       "      <td>4195.300000</td>\n",
       "      <td>91.866667</td>\n",
       "      <td>9120</td>\n",
       "      <td>3110</td>\n",
       "      <td>660</td>\n",
       "      <td>West</td>\n",
       "    </tr>\n",
       "    <tr>\n",
       "      <th>44</th>\n",
       "      <td>Vermont</td>\n",
       "      <td>0.000000</td>\n",
       "      <td>1205.766667</td>\n",
       "      <td>1431.900000</td>\n",
       "      <td>43.450000</td>\n",
       "      <td>9180</td>\n",
       "      <td>3600</td>\n",
       "      <td>1000</td>\n",
       "      <td>Northeast</td>\n",
       "    </tr>\n",
       "    <tr>\n",
       "      <th>45</th>\n",
       "      <td>Virginia</td>\n",
       "      <td>112.666667</td>\n",
       "      <td>19215.000000</td>\n",
       "      <td>15895.150000</td>\n",
       "      <td>692.083333</td>\n",
       "      <td>8830</td>\n",
       "      <td>3630</td>\n",
       "      <td>770</td>\n",
       "      <td>South</td>\n",
       "    </tr>\n",
       "    <tr>\n",
       "      <th>46</th>\n",
       "      <td>Washington</td>\n",
       "      <td>10764.716667</td>\n",
       "      <td>14515.833333</td>\n",
       "      <td>11512.066667</td>\n",
       "      <td>928.716667</td>\n",
       "      <td>9040</td>\n",
       "      <td>3290</td>\n",
       "      <td>890</td>\n",
       "      <td>South</td>\n",
       "    </tr>\n",
       "    <tr>\n",
       "      <th>47</th>\n",
       "      <td>West Virginia</td>\n",
       "      <td>878.933333</td>\n",
       "      <td>6613.416667</td>\n",
       "      <td>7703.533333</td>\n",
       "      <td>181.450000</td>\n",
       "      <td>8500</td>\n",
       "      <td>1920</td>\n",
       "      <td>1440</td>\n",
       "      <td>South</td>\n",
       "    </tr>\n",
       "    <tr>\n",
       "      <th>48</th>\n",
       "      <td>Wisconsin</td>\n",
       "      <td>7179.716667</td>\n",
       "      <td>11905.300000</td>\n",
       "      <td>12478.766667</td>\n",
       "      <td>395.050000</td>\n",
       "      <td>9100</td>\n",
       "      <td>2780</td>\n",
       "      <td>820</td>\n",
       "      <td>Midwest</td>\n",
       "    </tr>\n",
       "    <tr>\n",
       "      <th>49</th>\n",
       "      <td>Wyoming</td>\n",
       "      <td>476.916667</td>\n",
       "      <td>1888.933333</td>\n",
       "      <td>2250.466667</td>\n",
       "      <td>64.116667</td>\n",
       "      <td>9230</td>\n",
       "      <td>2570</td>\n",
       "      <td>850</td>\n",
       "      <td>West</td>\n",
       "    </tr>\n",
       "  </tbody>\n",
       "</table>\n",
       "</div>"
      ],
      "text/plain": [
       "             state         permit       handgun      long_gun        other  \\\n",
       "0          Alabama    9364.633333  15414.500000  14679.700000   476.350000   \n",
       "1           Alaska     134.233333   2893.333333   3251.833333   164.066667   \n",
       "2          Arizona    4476.416667  10963.566667   8048.566667   530.650000   \n",
       "3         Arkansas    3948.766667   5615.633333   7232.483333   120.033333   \n",
       "4       California   40797.966667  34331.283333  33042.033333  1748.616667   \n",
       "5         Colorado    3918.100000  15773.816667  13739.033333   569.216667   \n",
       "6      Connecticut   10631.966667   6407.116667   4345.033333   198.750000   \n",
       "7         Delaware     151.066667   1486.066667   1338.050000    55.266667   \n",
       "8          Florida    9556.033333  39968.850000  23136.466667  1392.150000   \n",
       "9          Georgia   12270.033333  12625.016667  10682.550000   278.983333   \n",
       "10          Hawaii    1298.966667      0.033333      0.033333     0.033333   \n",
       "11           Idaho    2404.600000   2861.016667   4439.533333   108.300000   \n",
       "12        Illinois   64249.600000  17342.166667  13251.700000     0.000000   \n",
       "13         Indiana   20668.233333  16589.816667  13459.650000   708.800000   \n",
       "14            Iowa    9097.316667    156.800000   3307.283333    22.366667   \n",
       "15          Kansas    1822.483333   6064.033333   6601.650000   239.800000   \n",
       "16        Kentucky  178562.016667   9416.850000   9790.433333   195.400000   \n",
       "17       Louisiana     427.800000  11129.566667  12380.066667   446.716667   \n",
       "18           Maine      63.000000   2955.666667   3748.216667   109.983333   \n",
       "19        Maryland     764.400000   5621.883333   5597.166667    72.866667   \n",
       "20   Massachusetts    8057.916667   4739.416667   2790.550000   278.933333   \n",
       "21        Michigan   17314.583333   7076.200000  11700.083333   269.366667   \n",
       "22       Minnesota   16978.083333   8356.066667  11630.383333   364.833333   \n",
       "23     Mississippi     629.183333   6691.566667   7831.550000   174.550000   \n",
       "24        Missouri    4576.666667  18317.266667  15859.116667   688.916667   \n",
       "25         Montana    1020.683333   2938.666667   4710.633333    82.300000   \n",
       "26        Nebraska    3766.050000    115.250000   2511.750000    15.616667   \n",
       "27          Nevada    1772.766667   4674.033333   3533.966667   182.083333   \n",
       "28   New Hampshire    3012.166667   4060.066667   3301.033333    59.666667   \n",
       "29      New Jersey       0.000000   4014.316667   3299.950000   146.950000   \n",
       "30      New Mexico     737.283333   4879.666667   4486.650000   222.766667   \n",
       "31        New York    3550.583333   7690.600000  15747.100000   522.116667   \n",
       "32  North Carolina   32032.983333    834.066667  14523.383333   429.516667   \n",
       "33    North Dakota     791.150000   1686.300000   3368.750000    50.433333   \n",
       "34            Ohio    1588.916667  26525.650000  19520.850000  1015.700000   \n",
       "35        Oklahoma       0.016667  12415.266667  11219.800000   610.383333   \n",
       "36          Oregon      44.316667  10706.850000  10300.233333     0.016667   \n",
       "37    Pennsylvania   14651.983333  18499.983333  43726.200000    70.283333   \n",
       "38    Rhode Island       0.000000    906.866667    761.633333    34.450000   \n",
       "39  South Carolina    6698.566667   8689.316667   6854.883333   293.666667   \n",
       "40    South Dakota     150.033333   2338.616667   4149.583333    91.300000   \n",
       "41       Tennessee    8999.750000  20035.200000  16148.966667     0.000000   \n",
       "42           Texas   18724.266667  44841.416667  41974.583333  1930.600000   \n",
       "43            Utah   26659.400000   3269.116667   4195.300000    91.866667   \n",
       "44         Vermont       0.000000   1205.766667   1431.900000    43.450000   \n",
       "45        Virginia     112.666667  19215.000000  15895.150000   692.083333   \n",
       "46      Washington   10764.716667  14515.833333  11512.066667   928.716667   \n",
       "47   West Virginia     878.933333   6613.416667   7703.533333   181.450000   \n",
       "48       Wisconsin    7179.716667  11905.300000  12478.766667   395.050000   \n",
       "49         Wyoming     476.916667   1888.933333   2250.466667    64.116667   \n",
       "\n",
       "    High school graduate or higher, percent of persons age 25 years+, 2011-2015  \\\n",
       "0                                                8430                             \n",
       "1                                                9210                             \n",
       "2                                                8600                             \n",
       "3                                                8480                             \n",
       "4                                                8180                             \n",
       "5                                                9070                             \n",
       "6                                                8990                             \n",
       "7                                                8840                             \n",
       "8                                                8690                             \n",
       "9                                                8540                             \n",
       "10                                               9100                             \n",
       "11                                               8950                             \n",
       "12                                               8790                             \n",
       "13                                               8780                             \n",
       "14                                               9150                             \n",
       "15                                               9020                             \n",
       "16                                               8420                             \n",
       "17                                               8340                             \n",
       "18                                               9160                             \n",
       "19                                               8940                             \n",
       "20                                               8980                             \n",
       "21                                               8960                             \n",
       "22                                               9240                             \n",
       "23                                               8230                             \n",
       "24                                               8840                             \n",
       "25                                               9280                             \n",
       "26                                               9070                             \n",
       "27                                               8510                             \n",
       "28                                               9230                             \n",
       "29                                               8860                             \n",
       "30                                                842                             \n",
       "31                                                856                             \n",
       "32                                                858                             \n",
       "33                                                917                             \n",
       "34                                                891                             \n",
       "35                                                869                             \n",
       "36                                                898                             \n",
       "37                                                892                             \n",
       "38                                                862                             \n",
       "39                                                856                             \n",
       "40                                                909                             \n",
       "41                                                855                             \n",
       "42                                               8190                             \n",
       "43                                               9120                             \n",
       "44                                               9180                             \n",
       "45                                               8830                             \n",
       "46                                               9040                             \n",
       "47                                               8500                             \n",
       "48                                               9100                             \n",
       "49                                               9230                             \n",
       "\n",
       "    Bachelor's degree or higher, percent of persons age 25 years+, 2011-2015  \\\n",
       "0                                                2350                          \n",
       "1                                                2800                          \n",
       "2                                                2750                          \n",
       "3                                                2110                          \n",
       "4                                                3140                          \n",
       "5                                                3810                          \n",
       "6                                                3760                          \n",
       "7                                                3000                          \n",
       "8                                                2730                          \n",
       "9                                                2880                          \n",
       "10                                               3080                          \n",
       "11                                               2590                          \n",
       "12                                               3230                          \n",
       "13                                               2410                          \n",
       "14                                               2670                          \n",
       "15                                               3100                          \n",
       "16                                               2230                          \n",
       "17                                               2250                          \n",
       "18                                               2900                          \n",
       "19                                               3790                          \n",
       "20                                               4050                          \n",
       "21                                               2690                          \n",
       "22                                               3370                          \n",
       "23                                               2070                          \n",
       "24                                               2710                          \n",
       "25                                               2950                          \n",
       "26                                               2930                          \n",
       "27                                               2300                          \n",
       "28                                               3490                          \n",
       "29                                               3680                          \n",
       "30                                                263                          \n",
       "31                                                342                          \n",
       "32                                                284                          \n",
       "33                                                277                          \n",
       "34                                                261                          \n",
       "35                                                241                          \n",
       "36                                                308                          \n",
       "37                                                286                          \n",
       "38                                                319                          \n",
       "39                                                258                          \n",
       "40                                                 27                          \n",
       "41                                                249                          \n",
       "42                                               2760                          \n",
       "43                                               3110                          \n",
       "44                                               3600                          \n",
       "45                                               3630                          \n",
       "46                                               3290                          \n",
       "47                                               1920                          \n",
       "48                                               2780                          \n",
       "49                                               2570                          \n",
       "\n",
       "    With a disability, under age 65 years, percent, 2011-2015     region  \n",
       "0                                                1180              South  \n",
       "1                                                 810               West  \n",
       "2                                                 820               West  \n",
       "3                                                1230              South  \n",
       "4                                                 680               West  \n",
       "5                                                 720               West  \n",
       "6                                                 710          Northeast  \n",
       "7                                                 850              South  \n",
       "8                                                 850              South  \n",
       "9                                                 880              South  \n",
       "10                                                650               West  \n",
       "11                                                900               West  \n",
       "12                                                710            Midwest  \n",
       "13                                                970            Midwest  \n",
       "14                                                790            Midwest  \n",
       "15                                                860            Midwest  \n",
       "16                                               1290              South  \n",
       "17                                               1100              South  \n",
       "18                                               1190          Northeast  \n",
       "19                                                710              South  \n",
       "20                                                790          Northeast  \n",
       "21                                               1030            Midwest  \n",
       "22                                                710            Midwest  \n",
       "23                                               1190              South  \n",
       "24                                               1040            Midwest  \n",
       "25                                                910               West  \n",
       "26                                                730            Midwest  \n",
       "27                                                900               West  \n",
       "28                                                850          Northeast  \n",
       "29                                                660          Northeast  \n",
       "30                                                101               West  \n",
       "31                                                 74          Northeast  \n",
       "32                                                 96              South  \n",
       "33                                                 68            Midwest  \n",
       "34                                                 99            Midwest  \n",
       "35                                                113              South  \n",
       "36                                                102               West  \n",
       "37                                                 95          Northeast  \n",
       "38                                                 89          Northeast  \n",
       "39                                                103              South  \n",
       "40                                                 84            Midwest  \n",
       "41                                                112              South  \n",
       "42                                                810              South  \n",
       "43                                                660               West  \n",
       "44                                               1000          Northeast  \n",
       "45                                                770              South  \n",
       "46                                                890              South  \n",
       "47                                               1440              South  \n",
       "48                                                820            Midwest  \n",
       "49                                                850               West  "
      ]
     },
     "execution_count": 79,
     "metadata": {},
     "output_type": "execute_result"
    }
   ],
   "source": [
    "assign_region(gun_data_11_15)"
   ]
  },
  {
   "cell_type": "markdown",
   "id": "decb55ae",
   "metadata": {
    "papermill": {
     "duration": 0.048745,
     "end_time": "2022-12-23T09:44:39.598199",
     "exception": false,
     "start_time": "2022-12-23T09:44:39.549454",
     "status": "completed"
    },
    "tags": []
   },
   "source": [
    "<a id='eda'></a>\n",
    "## Exploratory Data Analysis\n",
    "\n",
    "\n",
    "### Research Question 1 (Replace this header name!)"
   ]
  },
  {
   "cell_type": "markdown",
   "id": "84088908",
   "metadata": {
    "papermill": {
     "duration": 0.047262,
     "end_time": "2022-12-23T09:44:39.693860",
     "exception": false,
     "start_time": "2022-12-23T09:44:39.646598",
     "status": "completed"
    },
    "tags": []
   },
   "source": [
    "### Research Question 2  (Replace this header name!)"
   ]
  },
  {
   "cell_type": "markdown",
   "id": "4bc12f14",
   "metadata": {
    "papermill": {
     "duration": 0.048424,
     "end_time": "2022-12-23T09:44:39.789421",
     "exception": false,
     "start_time": "2022-12-23T09:44:39.740997",
     "status": "completed"
    },
    "tags": []
   },
   "source": [
    "## Classification by region"
   ]
  },
  {
   "cell_type": "code",
   "execution_count": 80,
   "id": "e840710f",
   "metadata": {
    "execution": {
     "iopub.execute_input": "2022-12-23T09:44:39.888104Z",
     "iopub.status.busy": "2022-12-23T09:44:39.887684Z",
     "iopub.status.idle": "2022-12-23T09:44:39.908217Z",
     "shell.execute_reply": "2022-12-23T09:44:39.906901Z"
    },
    "papermill": {
     "duration": 0.074008,
     "end_time": "2022-12-23T09:44:39.910920",
     "exception": false,
     "start_time": "2022-12-23T09:44:39.836912",
     "status": "completed"
    },
    "tags": []
   },
   "outputs": [
    {
     "data": {
      "text/html": [
       "<div>\n",
       "<style scoped>\n",
       "    .dataframe tbody tr th:only-of-type {\n",
       "        vertical-align: middle;\n",
       "    }\n",
       "\n",
       "    .dataframe tbody tr th {\n",
       "        vertical-align: top;\n",
       "    }\n",
       "\n",
       "    .dataframe thead th {\n",
       "        text-align: right;\n",
       "    }\n",
       "</style>\n",
       "<table border=\"1\" class=\"dataframe\">\n",
       "  <thead>\n",
       "    <tr style=\"text-align: right;\">\n",
       "      <th></th>\n",
       "      <th>region</th>\n",
       "      <th>permit</th>\n",
       "      <th>handgun</th>\n",
       "      <th>long_gun</th>\n",
       "      <th>other</th>\n",
       "      <th>High school graduate or higher, percent of persons age 25 years+, 2011-2015</th>\n",
       "      <th>Bachelor's degree or higher, percent of persons age 25 years+, 2011-2015</th>\n",
       "      <th>With a disability, under age 65 years, percent, 2011-2015</th>\n",
       "    </tr>\n",
       "  </thead>\n",
       "  <tbody>\n",
       "    <tr>\n",
       "      <th>0</th>\n",
       "      <td>Midwest</td>\n",
       "      <td>12348.569444</td>\n",
       "      <td>9706.122222</td>\n",
       "      <td>9819.963889</td>\n",
       "      <td>321.848611</td>\n",
       "      <td>6972.250000</td>\n",
       "      <td>2204.583333</td>\n",
       "      <td>659.250000</td>\n",
       "    </tr>\n",
       "    <tr>\n",
       "      <th>1</th>\n",
       "      <td>Northeast</td>\n",
       "      <td>4440.846296</td>\n",
       "      <td>5608.866667</td>\n",
       "      <td>8794.624074</td>\n",
       "      <td>162.731481</td>\n",
       "      <td>6334.444444</td>\n",
       "      <td>2491.888889</td>\n",
       "      <td>606.444444</td>\n",
       "    </tr>\n",
       "    <tr>\n",
       "      <th>2</th>\n",
       "      <td>South</td>\n",
       "      <td>17287.401961</td>\n",
       "      <td>13831.144118</td>\n",
       "      <td>12852.990196</td>\n",
       "      <td>486.984314</td>\n",
       "      <td>6759.294118</td>\n",
       "      <td>2120.117647</td>\n",
       "      <td>800.823529</td>\n",
       "    </tr>\n",
       "    <tr>\n",
       "      <th>3</th>\n",
       "      <td>West</td>\n",
       "      <td>6978.470833</td>\n",
       "      <td>7931.693056</td>\n",
       "      <td>7666.523611</td>\n",
       "      <td>313.669444</td>\n",
       "      <td>7582.500000</td>\n",
       "      <td>2472.583333</td>\n",
       "      <td>675.250000</td>\n",
       "    </tr>\n",
       "  </tbody>\n",
       "</table>\n",
       "</div>"
      ],
      "text/plain": [
       "      region        permit       handgun      long_gun       other  \\\n",
       "0    Midwest  12348.569444   9706.122222   9819.963889  321.848611   \n",
       "1  Northeast   4440.846296   5608.866667   8794.624074  162.731481   \n",
       "2      South  17287.401961  13831.144118  12852.990196  486.984314   \n",
       "3       West   6978.470833   7931.693056   7666.523611  313.669444   \n",
       "\n",
       "   High school graduate or higher, percent of persons age 25 years+, 2011-2015  \\\n",
       "0                                        6972.250000                             \n",
       "1                                        6334.444444                             \n",
       "2                                        6759.294118                             \n",
       "3                                        7582.500000                             \n",
       "\n",
       "   Bachelor's degree or higher, percent of persons age 25 years+, 2011-2015  \\\n",
       "0                                        2204.583333                          \n",
       "1                                        2491.888889                          \n",
       "2                                        2120.117647                          \n",
       "3                                        2472.583333                          \n",
       "\n",
       "   With a disability, under age 65 years, percent, 2011-2015  \n",
       "0                                         659.250000          \n",
       "1                                         606.444444          \n",
       "2                                         800.823529          \n",
       "3                                         675.250000          "
      ]
     },
     "execution_count": 80,
     "metadata": {},
     "output_type": "execute_result"
    }
   ],
   "source": [
    "gun_data_11_15_regional = gun_data_11_15.groupby('region').mean().reset_index()\n",
    "gun_data_11_15_regional"
   ]
  },
  {
   "cell_type": "markdown",
   "id": "ff1667b9",
   "metadata": {
    "papermill": {
     "duration": 0.049493,
     "end_time": "2022-12-23T09:44:40.011125",
     "exception": false,
     "start_time": "2022-12-23T09:44:39.961632",
     "status": "completed"
    },
    "tags": []
   },
   "source": [
    "### Visualization"
   ]
  },
  {
   "cell_type": "markdown",
   "id": "fdefcdea",
   "metadata": {
    "papermill": {
     "duration": 0.052169,
     "end_time": "2022-12-23T09:44:40.114322",
     "exception": false,
     "start_time": "2022-12-23T09:44:40.062153",
     "status": "completed"
    },
    "tags": []
   },
   "source": [
    "### Creating a function to check the distribution of the data points in the specified attributes"
   ]
  },
  {
   "cell_type": "code",
   "execution_count": 81,
   "id": "a7a7f6c8",
   "metadata": {
    "execution": {
     "iopub.execute_input": "2022-12-23T09:44:40.216791Z",
     "iopub.status.busy": "2022-12-23T09:44:40.216314Z",
     "iopub.status.idle": "2022-12-23T09:44:40.222250Z",
     "shell.execute_reply": "2022-12-23T09:44:40.220809Z"
    },
    "papermill": {
     "duration": 0.060661,
     "end_time": "2022-12-23T09:44:40.224561",
     "exception": false,
     "start_time": "2022-12-23T09:44:40.163900",
     "status": "completed"
    },
    "tags": []
   },
   "outputs": [],
   "source": [
    "def distr(col_name):\n",
    "    col_name.hist(figsize = (8,4));"
   ]
  },
  {
   "cell_type": "markdown",
   "id": "767f798b",
   "metadata": {
    "papermill": {
     "duration": 0.048551,
     "end_time": "2022-12-23T09:44:40.322315",
     "exception": false,
     "start_time": "2022-12-23T09:44:40.273764",
     "status": "completed"
    },
    "tags": []
   },
   "source": [
    "### Distribution of the number of permits done across the state"
   ]
  },
  {
   "cell_type": "code",
   "execution_count": 82,
   "id": "484edf0e",
   "metadata": {
    "execution": {
     "iopub.execute_input": "2022-12-23T09:44:40.421435Z",
     "iopub.status.busy": "2022-12-23T09:44:40.420997Z",
     "iopub.status.idle": "2022-12-23T09:44:40.749088Z",
     "shell.execute_reply": "2022-12-23T09:44:40.747853Z"
    },
    "papermill": {
     "duration": 0.380225,
     "end_time": "2022-12-23T09:44:40.751698",
     "exception": false,
     "start_time": "2022-12-23T09:44:40.371473",
     "status": "completed"
    },
    "tags": []
   },
   "outputs": [
    {
     "data": {
      "image/png": "[encoded data removed]",
      "text/plain": [
       "<Figure size 576x288 with 1 Axes>"
      ]
     },
     "metadata": {},
     "output_type": "display_data"
    }
   ],
   "source": [
    "distr(gun_data_11_15.permit)"
   ]
  },
  {
   "cell_type": "markdown",
   "id": "52de00fa",
   "metadata": {
    "papermill": {
     "duration": 0.047331,
     "end_time": "2022-12-23T09:44:40.848354",
     "exception": false,
     "start_time": "2022-12-23T09:44:40.801023",
     "status": "completed"
    },
    "tags": []
   },
   "source": [
    "### Distribution of the number of handgun owned"
   ]
  },
  {
   "cell_type": "code",
   "execution_count": 83,
   "id": "302bae58",
   "metadata": {
    "execution": {
     "iopub.execute_input": "2022-12-23T09:44:40.947996Z",
     "iopub.status.busy": "2022-12-23T09:44:40.947579Z",
     "iopub.status.idle": "2022-12-23T09:44:41.235535Z",
     "shell.execute_reply": "2022-12-23T09:44:41.234464Z"
    },
    "papermill": {
     "duration": 0.340242,
     "end_time": "2022-12-23T09:44:41.238127",
     "exception": false,
     "start_time": "2022-12-23T09:44:40.897885",
     "status": "completed"
    },
    "tags": []
   },
   "outputs": [
    {
     "data": {
      "image/png": "[encoded data removed]",
      "text/plain": [
       "<Figure size 576x288 with 1 Axes>"
      ]
     },
     "metadata": {},
     "output_type": "display_data"
    }
   ],
   "source": [
    "distr(gun_data_11_15.handgun)"
   ]
  },
  {
   "cell_type": "markdown",
   "id": "247e74c1",
   "metadata": {
    "papermill": {
     "duration": 0.048595,
     "end_time": "2022-12-23T09:44:41.335758",
     "exception": false,
     "start_time": "2022-12-23T09:44:41.287163",
     "status": "completed"
    },
    "tags": []
   },
   "source": [
    "### Distribution of the number of Long-guns owned"
   ]
  },
  {
   "cell_type": "code",
   "execution_count": 84,
   "id": "d1f5a29b",
   "metadata": {
    "execution": {
     "iopub.execute_input": "2022-12-23T09:44:41.436752Z",
     "iopub.status.busy": "2022-12-23T09:44:41.435766Z",
     "iopub.status.idle": "2022-12-23T09:44:41.717553Z",
     "shell.execute_reply": "2022-12-23T09:44:41.716144Z"
    },
    "papermill": {
     "duration": 0.334713,
     "end_time": "2022-12-23T09:44:41.720138",
     "exception": false,
     "start_time": "2022-12-23T09:44:41.385425",
     "status": "completed"
    },
    "tags": []
   },
   "outputs": [
    {
     "data": {
      "image/png": "[encoded data removed]",
      "text/plain": [
       "<Figure size 576x288 with 1 Axes>"
      ]
     },
     "metadata": {},
     "output_type": "display_data"
    }
   ],
   "source": [
    "distr(gun_data_11_15.long_gun)"
   ]
  },
  {
   "cell_type": "code",
   "execution_count": 85,
   "id": "d74de64d",
   "metadata": {
    "execution": {
     "iopub.execute_input": "2022-12-23T09:44:41.823376Z",
     "iopub.status.busy": "2022-12-23T09:44:41.822932Z",
     "iopub.status.idle": "2022-12-23T09:44:41.837489Z",
     "shell.execute_reply": "2022-12-23T09:44:41.836418Z"
    },
    "papermill": {
     "duration": 0.068908,
     "end_time": "2022-12-23T09:44:41.839760",
     "exception": false,
     "start_time": "2022-12-23T09:44:41.770852",
     "status": "completed"
    },
    "tags": []
   },
   "outputs": [
    {
     "data": {
      "text/html": [
       "<div>\n",
       "<style scoped>\n",
       "    .dataframe tbody tr th:only-of-type {\n",
       "        vertical-align: middle;\n",
       "    }\n",
       "\n",
       "    .dataframe tbody tr th {\n",
       "        vertical-align: top;\n",
       "    }\n",
       "\n",
       "    .dataframe thead th {\n",
       "        text-align: right;\n",
       "    }\n",
       "</style>\n",
       "<table border=\"1\" class=\"dataframe\">\n",
       "  <thead>\n",
       "    <tr style=\"text-align: right;\">\n",
       "      <th></th>\n",
       "      <th>region</th>\n",
       "      <th>permit</th>\n",
       "      <th>handgun</th>\n",
       "      <th>long_gun</th>\n",
       "      <th>other</th>\n",
       "      <th>High school graduate or higher, percent of persons age 25 years+, 2011-2015</th>\n",
       "      <th>Bachelor's degree or higher, percent of persons age 25 years+, 2011-2015</th>\n",
       "      <th>With a disability, under age 65 years, percent, 2011-2015</th>\n",
       "    </tr>\n",
       "  </thead>\n",
       "  <tbody>\n",
       "    <tr>\n",
       "      <th>0</th>\n",
       "      <td>Midwest</td>\n",
       "      <td>12348.569444</td>\n",
       "      <td>9706.122222</td>\n",
       "      <td>9819.963889</td>\n",
       "      <td>321.848611</td>\n",
       "      <td>6972.250000</td>\n",
       "      <td>2204.583333</td>\n",
       "      <td>659.250000</td>\n",
       "    </tr>\n",
       "    <tr>\n",
       "      <th>1</th>\n",
       "      <td>Northeast</td>\n",
       "      <td>4440.846296</td>\n",
       "      <td>5608.866667</td>\n",
       "      <td>8794.624074</td>\n",
       "      <td>162.731481</td>\n",
       "      <td>6334.444444</td>\n",
       "      <td>2491.888889</td>\n",
       "      <td>606.444444</td>\n",
       "    </tr>\n",
       "    <tr>\n",
       "      <th>2</th>\n",
       "      <td>South</td>\n",
       "      <td>17287.401961</td>\n",
       "      <td>13831.144118</td>\n",
       "      <td>12852.990196</td>\n",
       "      <td>486.984314</td>\n",
       "      <td>6759.294118</td>\n",
       "      <td>2120.117647</td>\n",
       "      <td>800.823529</td>\n",
       "    </tr>\n",
       "    <tr>\n",
       "      <th>3</th>\n",
       "      <td>West</td>\n",
       "      <td>6978.470833</td>\n",
       "      <td>7931.693056</td>\n",
       "      <td>7666.523611</td>\n",
       "      <td>313.669444</td>\n",
       "      <td>7582.500000</td>\n",
       "      <td>2472.583333</td>\n",
       "      <td>675.250000</td>\n",
       "    </tr>\n",
       "  </tbody>\n",
       "</table>\n",
       "</div>"
      ],
      "text/plain": [
       "      region        permit       handgun      long_gun       other  \\\n",
       "0    Midwest  12348.569444   9706.122222   9819.963889  321.848611   \n",
       "1  Northeast   4440.846296   5608.866667   8794.624074  162.731481   \n",
       "2      South  17287.401961  13831.144118  12852.990196  486.984314   \n",
       "3       West   6978.470833   7931.693056   7666.523611  313.669444   \n",
       "\n",
       "   High school graduate or higher, percent of persons age 25 years+, 2011-2015  \\\n",
       "0                                        6972.250000                             \n",
       "1                                        6334.444444                             \n",
       "2                                        6759.294118                             \n",
       "3                                        7582.500000                             \n",
       "\n",
       "   Bachelor's degree or higher, percent of persons age 25 years+, 2011-2015  \\\n",
       "0                                        2204.583333                          \n",
       "1                                        2491.888889                          \n",
       "2                                        2120.117647                          \n",
       "3                                        2472.583333                          \n",
       "\n",
       "   With a disability, under age 65 years, percent, 2011-2015  \n",
       "0                                         659.250000          \n",
       "1                                         606.444444          \n",
       "2                                         800.823529          \n",
       "3                                         675.250000          "
      ]
     },
     "execution_count": 85,
     "metadata": {},
     "output_type": "execute_result"
    }
   ],
   "source": [
    "gun_data_11_15_regional"
   ]
  },
  {
   "cell_type": "markdown",
   "id": "5af26713",
   "metadata": {
    "papermill": {
     "duration": 0.048371,
     "end_time": "2022-12-23T09:44:41.939958",
     "exception": false,
     "start_time": "2022-12-23T09:44:41.891587",
     "status": "completed"
    },
    "tags": []
   },
   "source": [
    "## Creating a dynamic code to explore some regional findings"
   ]
  },
  {
   "cell_type": "code",
   "execution_count": 86,
   "id": "a33342fd",
   "metadata": {
    "execution": {
     "iopub.execute_input": "2022-12-23T09:44:42.042602Z",
     "iopub.status.busy": "2022-12-23T09:44:42.042159Z",
     "iopub.status.idle": "2022-12-23T09:44:42.050128Z",
     "shell.execute_reply": "2022-12-23T09:44:42.048925Z"
    },
    "papermill": {
     "duration": 0.062636,
     "end_time": "2022-12-23T09:44:42.052581",
     "exception": false,
     "start_time": "2022-12-23T09:44:41.989945",
     "status": "completed"
    },
    "tags": []
   },
   "outputs": [],
   "source": [
    "\n",
    "def plot_region_data(df, handgun, ylabel = 'handgun', figsize=(8, 6)):\n",
    "  # Group the DataFrame by the region column and the mean of the specified column\n",
    "  regional_data = df.groupby('region')[handgun].mean()\n",
    "  \n",
    "  # Sort the region populations in descending order\n",
    "  regional_data = regional_data.sort_values(ascending=False)\n",
    "  \n",
    "  # Get the names of the regions\n",
    "  regions = regional_data.index\n",
    "  \n",
    "  # Get the population values for each region\n",
    "  regional_values = regional_data.values\n",
    "  \n",
    "  # Create the bar chart\n",
    "  fig, ax = plt.subplots(figsize=figsize)\n",
    "  ax.bar(regions, regional_values)\n",
    "  ax.set_xlabel('Region')\n",
    "  ax.set_ylabel(ylabel)\n",
    "  ax.set_title(ylabel + ' by Region')\n",
    "  \n",
    "  # Show the plot\n",
    "  plt.show()\n"
   ]
  },
  {
   "cell_type": "markdown",
   "id": "a04b51c1",
   "metadata": {
    "papermill": {
     "duration": 0.048832,
     "end_time": "2022-12-23T09:44:42.151924",
     "exception": false,
     "start_time": "2022-12-23T09:44:42.103092",
     "status": "completed"
    },
    "tags": []
   },
   "source": [
    "## Regions and handguns possession"
   ]
  },
  {
   "cell_type": "code",
   "execution_count": 87,
   "id": "9ef626a8",
   "metadata": {
    "execution": {
     "iopub.execute_input": "2022-12-23T09:44:42.254120Z",
     "iopub.status.busy": "2022-12-23T09:44:42.253306Z",
     "iopub.status.idle": "2022-12-23T09:44:42.480014Z",
     "shell.execute_reply": "2022-12-23T09:44:42.478876Z"
    },
    "papermill": {
     "duration": 0.28044,
     "end_time": "2022-12-23T09:44:42.482456",
     "exception": false,
     "start_time": "2022-12-23T09:44:42.202016",
     "status": "completed"
    },
    "tags": []
   },
   "outputs": [
    {
     "data": {
      "image/png": "[encoded data removed]",
      "text/plain": [
       "<Figure size 1080x576 with 1 Axes>"
      ]
     },
     "metadata": {},
     "output_type": "display_data"
    }
   ],
   "source": [
    "plot_region_data(gun_data_11_15, 'handgun', figsize=(15, 8))"
   ]
  },
  {
   "cell_type": "markdown",
   "id": "9168ade5",
   "metadata": {
    "papermill": {
     "duration": 0.05152,
     "end_time": "2022-12-23T09:44:42.584049",
     "exception": false,
     "start_time": "2022-12-23T09:44:42.532529",
     "status": "completed"
    },
    "tags": []
   },
   "source": [
    "**Findings:**\n",
    "\n",
    "The south and the midwest have more shortguns than the est and the northeast. with the South having more than twice when compared to the Northeast."
   ]
  },
  {
   "cell_type": "markdown",
   "id": "e6b8a70d",
   "metadata": {
    "papermill": {
     "duration": 0.049466,
     "end_time": "2022-12-23T09:44:42.683062",
     "exception": false,
     "start_time": "2022-12-23T09:44:42.633596",
     "status": "completed"
    },
    "tags": []
   },
   "source": [
    "## Permit approvals by Region"
   ]
  },
  {
   "cell_type": "code",
   "execution_count": 88,
   "id": "64b61f78",
   "metadata": {
    "execution": {
     "iopub.execute_input": "2022-12-23T09:44:42.783771Z",
     "iopub.status.busy": "2022-12-23T09:44:42.783312Z",
     "iopub.status.idle": "2022-12-23T09:44:43.009930Z",
     "shell.execute_reply": "2022-12-23T09:44:43.008676Z"
    },
    "papermill": {
     "duration": 0.280296,
     "end_time": "2022-12-23T09:44:43.012852",
     "exception": false,
     "start_time": "2022-12-23T09:44:42.732556",
     "status": "completed"
    },
    "tags": []
   },
   "outputs": [
    {
     "data": {
      "image/png": "[encoded data removed]",
      "text/plain": [
       "<Figure size 1080x576 with 1 Axes>"
      ]
     },
     "metadata": {},
     "output_type": "display_data"
    }
   ],
   "source": [
    "label = gun_data_11_15.columns[1]\n",
    "label\n",
    "plot_region_data(gun_data_11_15, label, ylabel = 'permit approvals', figsize=(15, 8));"
   ]
  },
  {
   "cell_type": "markdown",
   "id": "65521e1b",
   "metadata": {
    "papermill": {
     "duration": 0.050032,
     "end_time": "2022-12-23T09:44:43.116382",
     "exception": false,
     "start_time": "2022-12-23T09:44:43.066350",
     "status": "completed"
    },
    "tags": []
   },
   "source": [
    "**Findings:**\n",
    "\n",
    "As seen above, we ad more guns in the South and Midwest, so it makes sense to have thes regions with the highes number of approvd permits"
   ]
  },
  {
   "cell_type": "markdown",
   "id": "d2eeae02",
   "metadata": {
    "papermill": {
     "duration": 0.05032,
     "end_time": "2022-12-23T09:44:43.216148",
     "exception": false,
     "start_time": "2022-12-23T09:44:43.165828",
     "status": "completed"
    },
    "tags": []
   },
   "source": [
    "## Regions and longguns possession"
   ]
  },
  {
   "cell_type": "code",
   "execution_count": 89,
   "id": "20324a2e",
   "metadata": {
    "execution": {
     "iopub.execute_input": "2022-12-23T09:44:43.320946Z",
     "iopub.status.busy": "2022-12-23T09:44:43.320502Z",
     "iopub.status.idle": "2022-12-23T09:44:43.679994Z",
     "shell.execute_reply": "2022-12-23T09:44:43.678731Z"
    },
    "papermill": {
     "duration": 0.41488,
     "end_time": "2022-12-23T09:44:43.682849",
     "exception": false,
     "start_time": "2022-12-23T09:44:43.267969",
     "status": "completed"
    },
    "tags": []
   },
   "outputs": [
    {
     "data": {
      "image/png": "[encoded data removed]",
      "text/plain": [
       "<Figure size 1080x576 with 1 Axes>"
      ]
     },
     "metadata": {},
     "output_type": "display_data"
    }
   ],
   "source": [
    "label = gun_data_11_15.columns[3]\n",
    "label\n",
    "plot_region_data(gun_data_11_15, label, ylabel = 'long gun possession', figsize=(15, 8));"
   ]
  },
  {
   "cell_type": "markdown",
   "id": "535d6643",
   "metadata": {
    "papermill": {
     "duration": 0.050838,
     "end_time": "2022-12-23T09:44:43.788264",
     "exception": false,
     "start_time": "2022-12-23T09:44:43.737426",
     "status": "completed"
    },
    "tags": []
   },
   "source": [
    "**Findings:**\n",
    "\n",
    "The South and Midwest still possess the highest number of long guns but interestingly, the Northease has more longuns than the West and less shortguns than the West as seen previously."
   ]
  },
  {
   "cell_type": "markdown",
   "id": "0a6fc05b",
   "metadata": {
    "papermill": {
     "duration": 0.051829,
     "end_time": "2022-12-23T09:44:43.893745",
     "exception": false,
     "start_time": "2022-12-23T09:44:43.841916",
     "status": "completed"
    },
    "tags": []
   },
   "source": [
    "## Bachelor Degree holders abv 25yrs by region"
   ]
  },
  {
   "cell_type": "code",
   "execution_count": 90,
   "id": "721161d9",
   "metadata": {
    "execution": {
     "iopub.execute_input": "2022-12-23T09:44:44.000296Z",
     "iopub.status.busy": "2022-12-23T09:44:43.999225Z",
     "iopub.status.idle": "2022-12-23T09:44:44.228621Z",
     "shell.execute_reply": "2022-12-23T09:44:44.227256Z"
    },
    "papermill": {
     "duration": 0.286005,
     "end_time": "2022-12-23T09:44:44.231234",
     "exception": false,
     "start_time": "2022-12-23T09:44:43.945229",
     "status": "completed"
    },
    "tags": []
   },
   "outputs": [
    {
     "data": {
      "image/png": "[encoded data removed]",
      "text/plain": [
       "<Figure size 1080x576 with 1 Axes>"
      ]
     },
     "metadata": {},
     "output_type": "display_data"
    }
   ],
   "source": [
    "label = gun_data_11_15.columns[6]\n",
    "label\n",
    "plot_region_data(gun_data_11_15, label, ylabel = 'Bach. degree holders abv 25yrs', figsize=(15, 8));"
   ]
  },
  {
   "cell_type": "markdown",
   "id": "1e7e299f",
   "metadata": {
    "papermill": {
     "duration": 0.050084,
     "end_time": "2022-12-23T09:44:44.337145",
     "exception": false,
     "start_time": "2022-12-23T09:44:44.287061",
     "status": "completed"
    },
    "tags": []
   },
   "source": [
    "**Findings:**\n",
    "\n",
    "South and Midwest have the least number of Bachelor degree holders above 25 years old, while Northeast have the highest number of Bachelor degree holders above 25 years old on the average."
   ]
  },
  {
   "cell_type": "markdown",
   "id": "5dbb3997",
   "metadata": {
    "papermill": {
     "duration": 0.050583,
     "end_time": "2022-12-23T09:44:44.437986",
     "exception": false,
     "start_time": "2022-12-23T09:44:44.387403",
     "status": "completed"
    },
    "tags": []
   },
   "source": [
    "## High sch graduate abv 25yrs by region"
   ]
  },
  {
   "cell_type": "code",
   "execution_count": 91,
   "id": "7fa3f9ce",
   "metadata": {
    "execution": {
     "iopub.execute_input": "2022-12-23T09:44:44.542658Z",
     "iopub.status.busy": "2022-12-23T09:44:44.542214Z",
     "iopub.status.idle": "2022-12-23T09:44:44.766510Z",
     "shell.execute_reply": "2022-12-23T09:44:44.765269Z"
    },
    "papermill": {
     "duration": 0.279657,
     "end_time": "2022-12-23T09:44:44.769065",
     "exception": false,
     "start_time": "2022-12-23T09:44:44.489408",
     "status": "completed"
    },
    "tags": []
   },
   "outputs": [
    {
     "data": {
      "image/png": "[encoded data removed]",
      "text/plain": [
       "<Figure size 1080x576 with 1 Axes>"
      ]
     },
     "metadata": {},
     "output_type": "display_data"
    }
   ],
   "source": [
    "label = gun_data_11_15.columns[5]\n",
    "label\n",
    "plot_region_data(gun_data_11_15, label, ylabel = 'high sch grad abv 25yrs', figsize=(15, 8));"
   ]
  },
  {
   "cell_type": "markdown",
   "id": "e600f32e",
   "metadata": {
    "papermill": {
     "duration": 0.051446,
     "end_time": "2022-12-23T09:44:44.875298",
     "exception": false,
     "start_time": "2022-12-23T09:44:44.823852",
     "status": "completed"
    },
    "tags": []
   },
   "source": [
    "## People with a disability, under age 65 years by region"
   ]
  },
  {
   "cell_type": "code",
   "execution_count": 92,
   "id": "a8515cd2",
   "metadata": {
    "execution": {
     "iopub.execute_input": "2022-12-23T09:44:44.980539Z",
     "iopub.status.busy": "2022-12-23T09:44:44.980109Z",
     "iopub.status.idle": "2022-12-23T09:44:45.227860Z",
     "shell.execute_reply": "2022-12-23T09:44:45.226654Z"
    },
    "papermill": {
     "duration": 0.30411,
     "end_time": "2022-12-23T09:44:45.231174",
     "exception": false,
     "start_time": "2022-12-23T09:44:44.927064",
     "status": "completed"
    },
    "tags": []
   },
   "outputs": [
    {
     "data": {
      "image/png": "[encoded data removed]",
      "text/plain": [
       "<Figure size 1080x576 with 1 Axes>"
      ]
     },
     "metadata": {},
     "output_type": "display_data"
    }
   ],
   "source": [
    "label = gun_data_11_15.columns[7]\n",
    "label\n",
    "plot_region_data(gun_data_11_15, label, ylabel = 'with disability under 25yrs', figsize=(15, 8));"
   ]
  },
  {
   "cell_type": "markdown",
   "id": "9f54f343",
   "metadata": {
    "papermill": {
     "duration": 0.055662,
     "end_time": "2022-12-23T09:44:45.342111",
     "exception": false,
     "start_time": "2022-12-23T09:44:45.286449",
     "status": "completed"
    },
    "tags": []
   },
   "source": [
    "## Scatter plot to Identify trend pattern"
   ]
  },
  {
   "cell_type": "code",
   "execution_count": 93,
   "id": "2199eb60",
   "metadata": {
    "execution": {
     "iopub.execute_input": "2022-12-23T09:44:45.446941Z",
     "iopub.status.busy": "2022-12-23T09:44:45.446548Z",
     "iopub.status.idle": "2022-12-23T09:44:45.453717Z",
     "shell.execute_reply": "2022-12-23T09:44:45.452568Z"
    },
    "papermill": {
     "duration": 0.062178,
     "end_time": "2022-12-23T09:44:45.455876",
     "exception": false,
     "start_time": "2022-12-23T09:44:45.393698",
     "status": "completed"
    },
    "tags": []
   },
   "outputs": [],
   "source": [
    "\n",
    "def plot_scatter_btw_vars(df, var1, var2, xlabel = 'x', ylabel = 'y', figsize=(8, 6)):\n",
    "    \n",
    "  # Group the DataFrame by the region column and sum the population values\n",
    "  x = df.groupby('region')[var1].mean()\n",
    "  y = df.groupby('region')[var2].mean()\n",
    "  \n",
    "  # Get the population values for each region\n",
    "  x_vals = x.values\n",
    "  y_vals = y.values\n",
    "  \n",
    "  # Create the scatter plot\n",
    "  fig, ax = plt.subplots(figsize = figsize)\n",
    "  ax.scatter(x_vals, y_vals)\n",
    "  ax.set_xlabel(xlabel)\n",
    "  ax.set_ylabel(ylabel)\n",
    "  ax.set_title(ylabel + ' Vs ' + xlabel)\n",
    "  \n",
    "  # Show the plot\n",
    "  plt.show()"
   ]
  },
  {
   "cell_type": "code",
   "execution_count": 94,
   "id": "186f5752",
   "metadata": {
    "execution": {
     "iopub.execute_input": "2022-12-23T09:44:45.562699Z",
     "iopub.status.busy": "2022-12-23T09:44:45.561994Z",
     "iopub.status.idle": "2022-12-23T09:44:45.577829Z",
     "shell.execute_reply": "2022-12-23T09:44:45.576449Z"
    },
    "papermill": {
     "duration": 0.070813,
     "end_time": "2022-12-23T09:44:45.580200",
     "exception": false,
     "start_time": "2022-12-23T09:44:45.509387",
     "status": "completed"
    },
    "tags": []
   },
   "outputs": [
    {
     "data": {
      "text/html": [
       "<div>\n",
       "<style scoped>\n",
       "    .dataframe tbody tr th:only-of-type {\n",
       "        vertical-align: middle;\n",
       "    }\n",
       "\n",
       "    .dataframe tbody tr th {\n",
       "        vertical-align: top;\n",
       "    }\n",
       "\n",
       "    .dataframe thead th {\n",
       "        text-align: right;\n",
       "    }\n",
       "</style>\n",
       "<table border=\"1\" class=\"dataframe\">\n",
       "  <thead>\n",
       "    <tr style=\"text-align: right;\">\n",
       "      <th></th>\n",
       "      <th>state</th>\n",
       "      <th>permit</th>\n",
       "      <th>handgun</th>\n",
       "      <th>long_gun</th>\n",
       "      <th>other</th>\n",
       "      <th>High school graduate or higher, percent of persons age 25 years+, 2011-2015</th>\n",
       "      <th>Bachelor's degree or higher, percent of persons age 25 years+, 2011-2015</th>\n",
       "      <th>With a disability, under age 65 years, percent, 2011-2015</th>\n",
       "      <th>region</th>\n",
       "    </tr>\n",
       "  </thead>\n",
       "  <tbody>\n",
       "    <tr>\n",
       "      <th>0</th>\n",
       "      <td>Alabama</td>\n",
       "      <td>9364.633333</td>\n",
       "      <td>15414.500000</td>\n",
       "      <td>14679.700000</td>\n",
       "      <td>476.350000</td>\n",
       "      <td>8430</td>\n",
       "      <td>2350</td>\n",
       "      <td>1180</td>\n",
       "      <td>South</td>\n",
       "    </tr>\n",
       "    <tr>\n",
       "      <th>1</th>\n",
       "      <td>Alaska</td>\n",
       "      <td>134.233333</td>\n",
       "      <td>2893.333333</td>\n",
       "      <td>3251.833333</td>\n",
       "      <td>164.066667</td>\n",
       "      <td>9210</td>\n",
       "      <td>2800</td>\n",
       "      <td>810</td>\n",
       "      <td>West</td>\n",
       "    </tr>\n",
       "  </tbody>\n",
       "</table>\n",
       "</div>"
      ],
      "text/plain": [
       "     state       permit       handgun      long_gun       other  \\\n",
       "0  Alabama  9364.633333  15414.500000  14679.700000  476.350000   \n",
       "1   Alaska   134.233333   2893.333333   3251.833333  164.066667   \n",
       "\n",
       "   High school graduate or higher, percent of persons age 25 years+, 2011-2015  \\\n",
       "0                                               8430                             \n",
       "1                                               9210                             \n",
       "\n",
       "   Bachelor's degree or higher, percent of persons age 25 years+, 2011-2015  \\\n",
       "0                                               2350                          \n",
       "1                                               2800                          \n",
       "\n",
       "   With a disability, under age 65 years, percent, 2011-2015 region  \n",
       "0                                               1180          South  \n",
       "1                                                810           West  "
      ]
     },
     "execution_count": 94,
     "metadata": {},
     "output_type": "execute_result"
    }
   ],
   "source": [
    "gun_data_11_15.head(2)"
   ]
  },
  {
   "cell_type": "code",
   "execution_count": 95,
   "id": "855abe0c",
   "metadata": {
    "execution": {
     "iopub.execute_input": "2022-12-23T09:44:45.694902Z",
     "iopub.status.busy": "2022-12-23T09:44:45.694105Z",
     "iopub.status.idle": "2022-12-23T09:44:45.942595Z",
     "shell.execute_reply": "2022-12-23T09:44:45.941434Z"
    },
    "papermill": {
     "duration": 0.307894,
     "end_time": "2022-12-23T09:44:45.945046",
     "exception": false,
     "start_time": "2022-12-23T09:44:45.637152",
     "status": "completed"
    },
    "tags": []
   },
   "outputs": [
    {
     "data": {
      "image/png": "[encoded data removed]",
      "text/plain": [
       "<Figure size 576x432 with 1 Axes>"
      ]
     },
     "metadata": {},
     "output_type": "display_data"
    }
   ],
   "source": [
    "x = gun_data_11_15.columns[2]\n",
    "y = gun_data_11_15.columns[3]\n",
    "\n",
    "plot_scatter_btw_vars(gun_data_11_15, x, y )"
   ]
  },
  {
   "cell_type": "code",
   "execution_count": 96,
   "id": "11cfe5f7",
   "metadata": {
    "execution": {
     "iopub.execute_input": "2022-12-23T09:44:46.054734Z",
     "iopub.status.busy": "2022-12-23T09:44:46.054307Z",
     "iopub.status.idle": "2022-12-23T09:44:46.317526Z",
     "shell.execute_reply": "2022-12-23T09:44:46.316266Z"
    },
    "papermill": {
     "duration": 0.320686,
     "end_time": "2022-12-23T09:44:46.320297",
     "exception": false,
     "start_time": "2022-12-23T09:44:45.999611",
     "status": "completed"
    },
    "tags": []
   },
   "outputs": [
    {
     "data": {
      "image/png": "[encoded data removed]",
      "text/plain": [
       "<Figure size 576x432 with 1 Axes>"
      ]
     },
     "metadata": {},
     "output_type": "display_data"
    }
   ],
   "source": [
    "x = gun_data_11_15.columns[5]\n",
    "y = gun_data_11_15.columns[3]\n",
    "\n",
    "plot_scatter_btw_vars(gun_data_11_15, x, y )"
   ]
  },
  {
   "cell_type": "code",
   "execution_count": 97,
   "id": "047836b3",
   "metadata": {
    "execution": {
     "iopub.execute_input": "2022-12-23T09:44:46.427687Z",
     "iopub.status.busy": "2022-12-23T09:44:46.427245Z",
     "iopub.status.idle": "2022-12-23T09:44:46.442614Z",
     "shell.execute_reply": "2022-12-23T09:44:46.441448Z"
    },
    "papermill": {
     "duration": 0.072634,
     "end_time": "2022-12-23T09:44:46.445226",
     "exception": false,
     "start_time": "2022-12-23T09:44:46.372592",
     "status": "completed"
    },
    "tags": []
   },
   "outputs": [
    {
     "data": {
      "text/html": [
       "<div>\n",
       "<style scoped>\n",
       "    .dataframe tbody tr th:only-of-type {\n",
       "        vertical-align: middle;\n",
       "    }\n",
       "\n",
       "    .dataframe tbody tr th {\n",
       "        vertical-align: top;\n",
       "    }\n",
       "\n",
       "    .dataframe thead th {\n",
       "        text-align: right;\n",
       "    }\n",
       "</style>\n",
       "<table border=\"1\" class=\"dataframe\">\n",
       "  <thead>\n",
       "    <tr style=\"text-align: right;\">\n",
       "      <th></th>\n",
       "      <th>state</th>\n",
       "      <th>permit</th>\n",
       "      <th>handgun</th>\n",
       "      <th>long_gun</th>\n",
       "      <th>other</th>\n",
       "      <th>High school graduate or higher, percent of persons age 25 years+, 2011-2015</th>\n",
       "      <th>Bachelor's degree or higher, percent of persons age 25 years+, 2011-2015</th>\n",
       "      <th>With a disability, under age 65 years, percent, 2011-2015</th>\n",
       "      <th>region</th>\n",
       "    </tr>\n",
       "  </thead>\n",
       "  <tbody>\n",
       "    <tr>\n",
       "      <th>0</th>\n",
       "      <td>Alabama</td>\n",
       "      <td>9364.633333</td>\n",
       "      <td>15414.500000</td>\n",
       "      <td>14679.700000</td>\n",
       "      <td>476.350000</td>\n",
       "      <td>8430</td>\n",
       "      <td>2350</td>\n",
       "      <td>1180</td>\n",
       "      <td>South</td>\n",
       "    </tr>\n",
       "    <tr>\n",
       "      <th>1</th>\n",
       "      <td>Alaska</td>\n",
       "      <td>134.233333</td>\n",
       "      <td>2893.333333</td>\n",
       "      <td>3251.833333</td>\n",
       "      <td>164.066667</td>\n",
       "      <td>9210</td>\n",
       "      <td>2800</td>\n",
       "      <td>810</td>\n",
       "      <td>West</td>\n",
       "    </tr>\n",
       "    <tr>\n",
       "      <th>2</th>\n",
       "      <td>Arizona</td>\n",
       "      <td>4476.416667</td>\n",
       "      <td>10963.566667</td>\n",
       "      <td>8048.566667</td>\n",
       "      <td>530.650000</td>\n",
       "      <td>8600</td>\n",
       "      <td>2750</td>\n",
       "      <td>820</td>\n",
       "      <td>West</td>\n",
       "    </tr>\n",
       "  </tbody>\n",
       "</table>\n",
       "</div>"
      ],
      "text/plain": [
       "     state       permit       handgun      long_gun       other  \\\n",
       "0  Alabama  9364.633333  15414.500000  14679.700000  476.350000   \n",
       "1   Alaska   134.233333   2893.333333   3251.833333  164.066667   \n",
       "2  Arizona  4476.416667  10963.566667   8048.566667  530.650000   \n",
       "\n",
       "   High school graduate or higher, percent of persons age 25 years+, 2011-2015  \\\n",
       "0                                               8430                             \n",
       "1                                               9210                             \n",
       "2                                               8600                             \n",
       "\n",
       "   Bachelor's degree or higher, percent of persons age 25 years+, 2011-2015  \\\n",
       "0                                               2350                          \n",
       "1                                               2800                          \n",
       "2                                               2750                          \n",
       "\n",
       "   With a disability, under age 65 years, percent, 2011-2015 region  \n",
       "0                                               1180          South  \n",
       "1                                                810           West  \n",
       "2                                                820           West  "
      ]
     },
     "execution_count": 97,
     "metadata": {},
     "output_type": "execute_result"
    }
   ],
   "source": [
    "gun_data_11_15.head(3)"
   ]
  },
  {
   "cell_type": "code",
   "execution_count": 98,
   "id": "e66fdf5f",
   "metadata": {
    "execution": {
     "iopub.execute_input": "2022-12-23T09:44:46.555596Z",
     "iopub.status.busy": "2022-12-23T09:44:46.555162Z",
     "iopub.status.idle": "2022-12-23T09:44:46.785912Z",
     "shell.execute_reply": "2022-12-23T09:44:46.784659Z"
    },
    "papermill": {
     "duration": 0.289215,
     "end_time": "2022-12-23T09:44:46.788406",
     "exception": false,
     "start_time": "2022-12-23T09:44:46.499191",
     "status": "completed"
    },
    "tags": []
   },
   "outputs": [
    {
     "data": {
      "image/png": "[encoded data removed]",
      "text/plain": [
       "<Figure size 432x288 with 1 Axes>"
      ]
     },
     "metadata": {},
     "output_type": "display_data"
    }
   ],
   "source": [
    "import matplotlib.pyplot as plt\n",
    "\n",
    "def create_grouped_bar_chart(region, population, growth, number_of_houses):\n",
    "  # Create the figure and axis objects\n",
    "  fig, ax = plt.subplots()\n",
    "\n",
    "  # Plot the first set of bars\n",
    "  ax.bar(region, population, width=0.2, label='Population')\n",
    "\n",
    "  # Shift the second set of bars to the right by 0.2\n",
    "  # so they are grouped with the first set of bars\n",
    "  ax.bar(region, growth, width=0.2, label='Growth', alpha=0.5, color='C2')\n",
    "  ax.bar(region, number_of_houses, width=0.2, label='Number of Houses', alpha=0.5, color='C3')\n",
    "\n",
    "  # Add a legend\n",
    "  ax.legend()\n",
    "\n",
    "  # Show the plot\n",
    "  plt.show()\n",
    "\n",
    "# Example usage:\n",
    "region = ['West', 'East', 'North']\n",
    "population = [100, 150, 200]\n",
    "growth = [0.5, 0.3, 0.2]\n",
    "number_of_houses = [50, 75, 100]\n",
    "create_grouped_bar_chart(region, population, growth, number_of_houses)\n"
   ]
  },
  {
   "cell_type": "markdown",
   "id": "b4458845",
   "metadata": {
    "papermill": {
     "duration": 0.052629,
     "end_time": "2022-12-23T09:44:46.895162",
     "exception": false,
     "start_time": "2022-12-23T09:44:46.842533",
     "status": "completed"
    },
    "tags": []
   },
   "source": [
    "<a id='conclusions'></a>\n",
    "## Conclusions\n",
    "\n",
    "> **Tip**: Finally, summarize your findings and the results that have been performed. Make sure that you are clear with regards to the limitations of your exploration. If you haven't done any statistical tests, do not imply any statistical conclusions. And make sure you avoid implying causation from correlation!\n",
    "\n",
    "> **Tip**: Once you are satisfied with your work, you should save a copy of the report in HTML or PDF form via the **File** > **Download as** submenu. Before exporting your report, check over it to make sure that the flow of the report is complete. You should probably remove all of the \"Tip\" quotes like this one so that the presentation is as tidy as possible. Congratulations!"
   ]
  }
 ],
 "metadata": {
  "kernelspec": {
   "display_name": "Python 3",
   "language": "python",
   "name": "python3"
  },
  "language_info": {
   "codemirror_mode": {
    "name": "ipython",
    "version": 3
   },
   "file_extension": ".py",
   "mimetype": "text/x-python",
   "name": "python",
   "nbconvert_exporter": "python",
   "pygments_lexer": "ipython3",
   "version": "3.7.12"
  },
  "papermill": {
   "default_parameters": {},
   "duration": 34.567362,
   "end_time": "2022-12-23T09:44:47.771866",
   "environment_variables": {},
   "exception": null,
   "input_path": "__notebook__.ipynb",
   "output_path": "__notebook__.ipynb",
   "parameters": {},
   "start_time": "2022-12-23T09:44:13.204504",
   "version": "2.3.4"
  }
 },
 "nbformat": 4,
 "nbformat_minor": 5
}
