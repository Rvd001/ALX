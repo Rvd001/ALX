{
 "cells": [
  {
   "cell_type": "markdown",
   "id": "b8980de9",
   "metadata": {
    "papermill": {
     "duration": 0.027038,
     "end_time": "2022-12-20T07:29:01.254811",
     "exception": false,
     "start_time": "2022-12-20T07:29:01.227773",
     "status": "completed"
    },
    "tags": []
   },
   "source": [
    "> **Tip**: Welcome to the Investigate a Dataset project! You will find tips in quoted sections like this to help organize your approach to your investigation. Before submitting your project, it will be a good idea to go back through your report and remove these sections to make the presentation of your work as tidy as possible. First things first, you might want to double-click this Markdown cell and change the title so that it reflects your dataset and investigation.\n",
    "\n",
    "# Project: Investigate a Dataset (Replace this with something more specific!)\n",
    "\n",
    "## Table of Contents\n",
    "<ul>\n",
    "<li><a href=\"#intro\">Introduction</a></li>\n",
    "<li><a href=\"#wrangling\">Data Wrangling</a></li>\n",
    "<li><a href=\"#eda\">Exploratory Data Analysis</a></li>\n",
    "<li><a href=\"#conclusions\">Conclusions</a></li>\n",
    "</ul>"
   ]
  },
  {
   "cell_type": "markdown",
   "id": "4d9f40e7",
   "metadata": {
    "papermill": {
     "duration": 0.024555,
     "end_time": "2022-12-20T07:29:01.304451",
     "exception": false,
     "start_time": "2022-12-20T07:29:01.279896",
     "status": "completed"
    },
    "tags": []
   },
   "source": [
    "<a id='intro'></a>\n",
    "## Introduction\n",
    "\n",
    "> **Tip**: In this section of the report, provide a brief introduction to the dataset you've selected for analysis. At the end of this section, describe the questions that you plan on exploring over the course of the report. Try to build your report around the analysis of at least one dependent variable and three independent variables.\n",
    ">\n",
    "> If you haven't yet selected and downloaded your data, make sure you do that first before coming back here. If you're not sure what questions to ask right now, then make sure you familiarize yourself with the variables and the dataset context for ideas of what to explore."
   ]
  },
  {
   "cell_type": "code",
   "execution_count": 1,
   "id": "abd1bb22",
   "metadata": {
    "execution": {
     "iopub.execute_input": "2022-12-20T07:29:01.357334Z",
     "iopub.status.busy": "2022-12-20T07:29:01.356380Z",
     "iopub.status.idle": "2022-12-20T07:29:02.447162Z",
     "shell.execute_reply": "2022-12-20T07:29:02.446051Z"
    },
    "papermill": {
     "duration": 1.120163,
     "end_time": "2022-12-20T07:29:02.449816",
     "exception": false,
     "start_time": "2022-12-20T07:29:01.329653",
     "status": "completed"
    },
    "tags": []
   },
   "outputs": [],
   "source": [
    "# import statements for all of the packages that I plan to use.\n",
    "\n",
    "\n",
    "import pandas as pd\n",
    "import numpy as np\n",
    "import matplotlib.pyplot as plt\n",
    "import seaborn as sns\n",
    "import os\n",
    "%matplotlib inline\n",
    "sns.set_style('darkgrid')\n"
   ]
  },
  {
   "cell_type": "markdown",
   "id": "7aad6ede",
   "metadata": {
    "papermill": {
     "duration": 0.025513,
     "end_time": "2022-12-20T07:29:02.501169",
     "exception": false,
     "start_time": "2022-12-20T07:29:02.475656",
     "status": "completed"
    },
    "tags": []
   },
   "source": [
    "<a id='wrangling'></a>\n",
    "## Data Wrangling\n",
    "\n",
    "> **Tip**: In this section of the report, you will load in the data, check for cleanliness, and then trim and clean your dataset for analysis. Make sure that you document your steps carefully and justify your cleaning decisions.\n",
    "\n",
    "### General Properties"
   ]
  },
  {
   "cell_type": "code",
   "execution_count": 2,
   "id": "783f5313",
   "metadata": {
    "execution": {
     "iopub.execute_input": "2022-12-20T07:29:02.553147Z",
     "iopub.status.busy": "2022-12-20T07:29:02.552718Z",
     "iopub.status.idle": "2022-12-20T07:29:02.561669Z",
     "shell.execute_reply": "2022-12-20T07:29:02.560482Z"
    },
    "papermill": {
     "duration": 0.0383,
     "end_time": "2022-12-20T07:29:02.564901",
     "exception": false,
     "start_time": "2022-12-20T07:29:02.526601",
     "status": "completed"
    },
    "tags": []
   },
   "outputs": [
    {
     "data": {
      "text/plain": [
       "'/kaggle/working'"
      ]
     },
     "execution_count": 2,
     "metadata": {},
     "output_type": "execute_result"
    }
   ],
   "source": [
    "pwd"
   ]
  },
  {
   "cell_type": "markdown",
   "id": "ccd68651",
   "metadata": {
    "execution": {
     "iopub.execute_input": "2022-12-19T21:47:58.671702Z",
     "iopub.status.busy": "2022-12-19T21:47:58.671069Z",
     "iopub.status.idle": "2022-12-19T21:47:58.705379Z",
     "shell.execute_reply": "2022-12-19T21:47:58.703653Z",
     "shell.execute_reply.started": "2022-12-19T21:47:58.671565Z"
    },
    "papermill": {
     "duration": 0.025224,
     "end_time": "2022-12-20T07:29:02.615478",
     "exception": false,
     "start_time": "2022-12-20T07:29:02.590254",
     "status": "completed"
    },
    "tags": []
   },
   "source": [
    "[Link](https://www.census.gov/quickfacts/gunbarrelcitycitytexas) to dataset"
   ]
  },
  {
   "cell_type": "markdown",
   "id": "8a0a978c",
   "metadata": {
    "papermill": {
     "duration": 0.024564,
     "end_time": "2022-12-20T07:29:02.665133",
     "exception": false,
     "start_time": "2022-12-20T07:29:02.640569",
     "status": "completed"
    },
    "tags": []
   },
   "source": [
    "Some estimates presented here come from sample data, and thus have sampling errors that may render some apparent differences between geographies statistically indistinguishable. Click the Quick Info  icon to the left of each row in TABLE view to learn about sampling error.\n",
    "\n",
    "The vintage year (e.g., V2021) refers to the final year of the series (2020 thru 2021). Different vintage years of estimates are not comparable.\n",
    "\n",
    "Users should exercise caution when comparing 2017-2021 ACS 5-year estimates to other ACS estimates. For more information, please visit the 2021 5-year ACS Comparison Guidance page.\n",
    "\n",
    "Fact Notes\n",
    "(a)Includes persons reporting only one race\n",
    "(c)Economic Census - Puerto Rico data are not comparable to U.S. Economic Census data\n",
    "(b)Hispanics may be of any race, so also are included in applicable race categories\n",
    "Value Flags\n",
    "-Either no or too few sample observations were available to compute an estimate, or a ratio of medians cannot be calculated because one or both of the median estimates falls in the lowest or upper interval of an open ended distribution.\n",
    "FFewer than 25 firms\n",
    "DSuppressed to avoid disclosure of confidential information\n",
    "NData for this geographic area cannot be displayed because the number of sample cases is too small.\n",
    "FNFootnote on this item in place of data\n",
    "XNot applicable\n",
    "SSuppressed; does not meet publication standards\n",
    "NANot available\n",
    "ZValue greater than zero but less than half unit of measure shown\n",
    "QuickFacts data are derived from: Population Estimates, American Community Survey, Census of Population and Housing, Current Population Survey, Small Area Health Insurance Estimates, Small Area Income and Poverty Estimates, State and County Housing Unit Estimates, County Business Patterns, Nonemployer Statistics, Economic Census, Survey of Business Owners, Building Permits."
   ]
  },
  {
   "cell_type": "markdown",
   "id": "c9fcd343",
   "metadata": {
    "papermill": {
     "duration": 0.024928,
     "end_time": "2022-12-20T07:29:02.714950",
     "exception": false,
     "start_time": "2022-12-20T07:29:02.690022",
     "status": "completed"
    },
    "tags": []
   },
   "source": [
    "### Gun data"
   ]
  },
  {
   "cell_type": "markdown",
   "id": "1f0a92ad",
   "metadata": {
    "papermill": {
     "duration": 0.026272,
     "end_time": "2022-12-20T07:29:02.766237",
     "exception": false,
     "start_time": "2022-12-20T07:29:02.739965",
     "status": "completed"
    },
    "tags": []
   },
   "source": [
    "Here is a [link](https://www.fbi.gov/file-repository/nics_firearm_checks_-_month_year_by_state_type.pdf/view) to the description of firearms\n",
    "\n",
    "\n",
    "\n",
    "Each column represents the type of transaction submitted to the **National Instant Criminal Background Check System (NICS)**. In addition, each type of transaction is broken down by the type of firearm—handgun, long gun, and other. The types of firearms are defined by the **Bureau of Alcohol, Tobacco, Firearms and Explosives** as follows:\n",
    "\n",
    "- Handgun—(a) any firearm which has a short stock and is designed to be held and fired by the use of a single hand; and (b) any combination of parts from which a firearm described in paragraph (a) can be assembled.\n",
    "\n",
    "- Long Gun—a weapon designed or redesigned, made or remade, and intended to be fired from the shoulder, and designed or redesigned and made or remade to use the energy of the explosive in (a) a fixed metallic cartridge to fire a single projectile through a rifled bore for each single pull of the trigger; or (b) a fixed shotgun shell to fire through a smooth bore either\n",
    "a number of ball shot or a single projectile for each single pull of the trigger.\n",
    "\n",
    "- Other—refers to frames, receivers, and other firearms that are neither handguns nor long guns (rifles or shotguns), such as firearms having a pistol grip that expel a shotgun shell, or National Firearms Act firearms, including silencers.\n",
    "\n",
    "The transaction types indicated in yellow on the chart are for background checks initiated by an officially-licensed **Federal Firearms Licensee** (FFL) or criminal justice/law enforcement agency prior to the issuance of a firearm-related permit or transfer. \n",
    "\n",
    "\n",
    "The indication of **“multiple”** denotes a background check where more than one type of firearm is associated to a single\n",
    "background check.\n",
    "\n",
    "**“Admin”** denotes the administrative checks that are for other authorized uses of the NICS.\n",
    "\n",
    "Other types of transactions are explained below:\n",
    "\n",
    "- Pre-Pawn—background checks requested by an officially-licensed FFL on prospective firearm transferees seeking to pledge or pawn a firearm as security for the payment or repayment of money, prior to actually pledging or pawning the firearm.\n",
    "\n",
    "- Redemption—background checks requested by an officially-licensed FFL on prospective firearm transferees attempting to regain possession of a firearm after pledging or pawning a firearm as security at a pawn shop.\n",
    "\n",
    "- Returned/Disposition—background checks requested by criminal justice/law enforcement agencies prior to returning a firearm in its possession to the respective transferee, to ensure the individual is not prohibited.\n",
    "\n",
    "- Rentals—background checks requested by an officially-licensed FFL on prospective firearm transferees attempting to possess a firearm when the firearm is loaned or rented for use off the premises of the business.\n",
    "\n",
    "- Private Sale—background checks requested by an officially-licensed FFL on prospective firearm transferees attempting to possess a firearm from a private party seller who is not an officially-licensed FFL.\n",
    "\n",
    "- Return to Seller-Private Sale—background checks requested by an officially-licensed FFL on prospective firearm transferees attempting to possess a firearm from a private party seller who is not an officially-licensed FFL.\n",
    "\n",
    "It is important to note that the statistics within this chart represent the number of firearm background checks initiated through the NICS. They do not represent the number of firearms sold. Based on varying state laws and purchase scenarios, a one-to-one correlation cannot be made between a firearm background check and a firearm sale."
   ]
  },
  {
   "cell_type": "markdown",
   "id": "99a6d360",
   "metadata": {
    "papermill": {
     "duration": 0.024883,
     "end_time": "2022-12-20T07:29:02.816378",
     "exception": false,
     "start_time": "2022-12-20T07:29:02.791495",
     "status": "completed"
    },
    "tags": []
   },
   "source": [
    "- month\n",
    "- state\n",
    "- permit\n",
    "- permit_recheck\n",
    "- handgun\n",
    "- long_gun\n",
    "- other\n",
    "- multiple\n",
    "- admin\n",
    "- prepawn_handgun\n",
    "- prepawn_long_gun\n",
    "- prepawn_other\n",
    "- redemption_handgun\n",
    "- redemption_long_gun\n",
    "- redemption_other\n",
    "- returned_handgun \n",
    "- returned_long_gun\n",
    "- returned_other \n",
    "- rentals_handgun\n",
    "- rentals_long_gun\n",
    "- private_sale_handgun \n",
    "- private_sale_long_gun\n",
    "- private_sale_other\n",
    "- return_to_seller_handgun\n",
    "- return_to_seller_long_gun\n",
    "- return_to_seller_other\n",
    "- totals"
   ]
  },
  {
   "cell_type": "markdown",
   "id": "2dfb06e8",
   "metadata": {
    "papermill": {
     "duration": 0.025313,
     "end_time": "2022-12-20T07:29:02.866949",
     "exception": false,
     "start_time": "2022-12-20T07:29:02.841636",
     "status": "completed"
    },
    "tags": []
   },
   "source": [
    "## US Census data and Categories\n",
    "\n",
    "The data in the US Census data is classified under different categories as seen below\n",
    "\n",
    "- Population\n",
    "- Age and Sex\n",
    "- Race and Hispanic Origin\n",
    "- Population Characteristics\n",
    "- Housing\n",
    "- Families & Living Arrangements\n",
    "- Computer and Internet Use\n",
    "- Education\n",
    "- Health\n",
    "- Economy\n",
    "- Transportation\n",
    "- Income & Poverty\n",
    "- Businesses\n",
    "- Geography"
   ]
  },
  {
   "cell_type": "code",
   "execution_count": 3,
   "id": "caf6cafb",
   "metadata": {
    "execution": {
     "iopub.execute_input": "2022-12-20T07:29:02.919021Z",
     "iopub.status.busy": "2022-12-20T07:29:02.918187Z",
     "iopub.status.idle": "2022-12-20T07:29:02.935963Z",
     "shell.execute_reply": "2022-12-20T07:29:02.935187Z"
    },
    "papermill": {
     "duration": 0.047123,
     "end_time": "2022-12-20T07:29:02.938903",
     "exception": false,
     "start_time": "2022-12-20T07:29:02.891780",
     "status": "completed"
    },
    "tags": []
   },
   "outputs": [
    {
     "name": "stdout",
     "output_type": "stream",
     "text": [
      "/kaggle/src/script.ipynb\n",
      "/kaggle/lib/kaggle/gcp.py\n",
      "/kaggle/input/gundata/gun-data.xlsx\n",
      "/kaggle/input/uscensus/u.s.-census-data.csv\n",
      "/kaggle/working/__notebook__.ipynb\n"
     ]
    }
   ],
   "source": [
    "for dirname, _, filenames in os.walk('/kaggle/'):\n",
    "    for filename in filenames:\n",
    "        print(os.path.join(dirname, filename))"
   ]
  },
  {
   "cell_type": "code",
   "execution_count": 4,
   "id": "ba55d142",
   "metadata": {
    "execution": {
     "iopub.execute_input": "2022-12-20T07:29:02.992128Z",
     "iopub.status.busy": "2022-12-20T07:29:02.991385Z",
     "iopub.status.idle": "2022-12-20T07:29:06.393221Z",
     "shell.execute_reply": "2022-12-20T07:29:06.392137Z"
    },
    "papermill": {
     "duration": 3.430936,
     "end_time": "2022-12-20T07:29:06.395815",
     "exception": false,
     "start_time": "2022-12-20T07:29:02.964879",
     "status": "completed"
    },
    "tags": []
   },
   "outputs": [
    {
     "data": {
      "text/html": [
       "<div>\n",
       "<style scoped>\n",
       "    .dataframe tbody tr th:only-of-type {\n",
       "        vertical-align: middle;\n",
       "    }\n",
       "\n",
       "    .dataframe tbody tr th {\n",
       "        vertical-align: top;\n",
       "    }\n",
       "\n",
       "    .dataframe thead th {\n",
       "        text-align: right;\n",
       "    }\n",
       "</style>\n",
       "<table border=\"1\" class=\"dataframe\">\n",
       "  <thead>\n",
       "    <tr style=\"text-align: right;\">\n",
       "      <th></th>\n",
       "      <th>month</th>\n",
       "      <th>state</th>\n",
       "      <th>permit</th>\n",
       "      <th>permit_recheck</th>\n",
       "      <th>handgun</th>\n",
       "      <th>long_gun</th>\n",
       "      <th>other</th>\n",
       "      <th>multiple</th>\n",
       "      <th>admin</th>\n",
       "      <th>prepawn_handgun</th>\n",
       "      <th>...</th>\n",
       "      <th>returned_other</th>\n",
       "      <th>rentals_handgun</th>\n",
       "      <th>rentals_long_gun</th>\n",
       "      <th>private_sale_handgun</th>\n",
       "      <th>private_sale_long_gun</th>\n",
       "      <th>private_sale_other</th>\n",
       "      <th>return_to_seller_handgun</th>\n",
       "      <th>return_to_seller_long_gun</th>\n",
       "      <th>return_to_seller_other</th>\n",
       "      <th>totals</th>\n",
       "    </tr>\n",
       "  </thead>\n",
       "  <tbody>\n",
       "    <tr>\n",
       "      <th>0</th>\n",
       "      <td>2017-09</td>\n",
       "      <td>Alabama</td>\n",
       "      <td>16717.0</td>\n",
       "      <td>0.0</td>\n",
       "      <td>5734.0</td>\n",
       "      <td>6320.0</td>\n",
       "      <td>221.0</td>\n",
       "      <td>317</td>\n",
       "      <td>0.0</td>\n",
       "      <td>15.0</td>\n",
       "      <td>...</td>\n",
       "      <td>0.0</td>\n",
       "      <td>0.0</td>\n",
       "      <td>0.0</td>\n",
       "      <td>9.0</td>\n",
       "      <td>16.0</td>\n",
       "      <td>3.0</td>\n",
       "      <td>0.0</td>\n",
       "      <td>0.0</td>\n",
       "      <td>3.0</td>\n",
       "      <td>32019</td>\n",
       "    </tr>\n",
       "    <tr>\n",
       "      <th>1</th>\n",
       "      <td>2017-09</td>\n",
       "      <td>Alaska</td>\n",
       "      <td>209.0</td>\n",
       "      <td>2.0</td>\n",
       "      <td>2320.0</td>\n",
       "      <td>2930.0</td>\n",
       "      <td>219.0</td>\n",
       "      <td>160</td>\n",
       "      <td>0.0</td>\n",
       "      <td>5.0</td>\n",
       "      <td>...</td>\n",
       "      <td>0.0</td>\n",
       "      <td>0.0</td>\n",
       "      <td>0.0</td>\n",
       "      <td>17.0</td>\n",
       "      <td>24.0</td>\n",
       "      <td>1.0</td>\n",
       "      <td>0.0</td>\n",
       "      <td>0.0</td>\n",
       "      <td>0.0</td>\n",
       "      <td>6303</td>\n",
       "    </tr>\n",
       "    <tr>\n",
       "      <th>2</th>\n",
       "      <td>2017-09</td>\n",
       "      <td>Arizona</td>\n",
       "      <td>5069.0</td>\n",
       "      <td>382.0</td>\n",
       "      <td>11063.0</td>\n",
       "      <td>7946.0</td>\n",
       "      <td>920.0</td>\n",
       "      <td>631</td>\n",
       "      <td>0.0</td>\n",
       "      <td>13.0</td>\n",
       "      <td>...</td>\n",
       "      <td>0.0</td>\n",
       "      <td>0.0</td>\n",
       "      <td>0.0</td>\n",
       "      <td>38.0</td>\n",
       "      <td>12.0</td>\n",
       "      <td>2.0</td>\n",
       "      <td>0.0</td>\n",
       "      <td>0.0</td>\n",
       "      <td>0.0</td>\n",
       "      <td>28394</td>\n",
       "    </tr>\n",
       "  </tbody>\n",
       "</table>\n",
       "<p>3 rows × 27 columns</p>\n",
       "</div>"
      ],
      "text/plain": [
       "     month    state   permit  permit_recheck  handgun  long_gun  other  \\\n",
       "0  2017-09  Alabama  16717.0             0.0   5734.0    6320.0  221.0   \n",
       "1  2017-09   Alaska    209.0             2.0   2320.0    2930.0  219.0   \n",
       "2  2017-09  Arizona   5069.0           382.0  11063.0    7946.0  920.0   \n",
       "\n",
       "   multiple  admin  prepawn_handgun  ...  returned_other  rentals_handgun  \\\n",
       "0       317    0.0             15.0  ...             0.0              0.0   \n",
       "1       160    0.0              5.0  ...             0.0              0.0   \n",
       "2       631    0.0             13.0  ...             0.0              0.0   \n",
       "\n",
       "   rentals_long_gun  private_sale_handgun  private_sale_long_gun  \\\n",
       "0               0.0                   9.0                   16.0   \n",
       "1               0.0                  17.0                   24.0   \n",
       "2               0.0                  38.0                   12.0   \n",
       "\n",
       "   private_sale_other  return_to_seller_handgun  return_to_seller_long_gun  \\\n",
       "0                 3.0                       0.0                        0.0   \n",
       "1                 1.0                       0.0                        0.0   \n",
       "2                 2.0                       0.0                        0.0   \n",
       "\n",
       "   return_to_seller_other  totals  \n",
       "0                     3.0   32019  \n",
       "1                     0.0    6303  \n",
       "2                     0.0   28394  \n",
       "\n",
       "[3 rows x 27 columns]"
      ]
     },
     "execution_count": 4,
     "metadata": {},
     "output_type": "execute_result"
    }
   ],
   "source": [
    "gun_data = pd.read_excel('/kaggle/input/gundata/gun-data.xlsx')\n",
    "gun_data.head(3)"
   ]
  },
  {
   "cell_type": "code",
   "execution_count": 5,
   "id": "4197a2af",
   "metadata": {
    "execution": {
     "iopub.execute_input": "2022-12-20T07:29:06.449441Z",
     "iopub.status.busy": "2022-12-20T07:29:06.449023Z",
     "iopub.status.idle": "2022-12-20T07:29:06.483523Z",
     "shell.execute_reply": "2022-12-20T07:29:06.482484Z"
    },
    "papermill": {
     "duration": 0.064539,
     "end_time": "2022-12-20T07:29:06.486012",
     "exception": false,
     "start_time": "2022-12-20T07:29:06.421473",
     "status": "completed"
    },
    "tags": []
   },
   "outputs": [
    {
     "data": {
      "text/html": [
       "<div>\n",
       "<style scoped>\n",
       "    .dataframe tbody tr th:only-of-type {\n",
       "        vertical-align: middle;\n",
       "    }\n",
       "\n",
       "    .dataframe tbody tr th {\n",
       "        vertical-align: top;\n",
       "    }\n",
       "\n",
       "    .dataframe thead th {\n",
       "        text-align: right;\n",
       "    }\n",
       "</style>\n",
       "<table border=\"1\" class=\"dataframe\">\n",
       "  <thead>\n",
       "    <tr style=\"text-align: right;\">\n",
       "      <th></th>\n",
       "      <th>Fact</th>\n",
       "      <th>Fact Note</th>\n",
       "      <th>Alabama</th>\n",
       "      <th>Alaska</th>\n",
       "      <th>Arizona</th>\n",
       "      <th>Arkansas</th>\n",
       "      <th>California</th>\n",
       "      <th>Colorado</th>\n",
       "      <th>Connecticut</th>\n",
       "      <th>Delaware</th>\n",
       "      <th>...</th>\n",
       "      <th>South Dakota</th>\n",
       "      <th>Tennessee</th>\n",
       "      <th>Texas</th>\n",
       "      <th>Utah</th>\n",
       "      <th>Vermont</th>\n",
       "      <th>Virginia</th>\n",
       "      <th>Washington</th>\n",
       "      <th>West Virginia</th>\n",
       "      <th>Wisconsin</th>\n",
       "      <th>Wyoming</th>\n",
       "    </tr>\n",
       "  </thead>\n",
       "  <tbody>\n",
       "    <tr>\n",
       "      <th>0</th>\n",
       "      <td>Population estimates, July 1, 2016,  (V2016)</td>\n",
       "      <td>NaN</td>\n",
       "      <td>4,863,300</td>\n",
       "      <td>741,894</td>\n",
       "      <td>6,931,071</td>\n",
       "      <td>2,988,248</td>\n",
       "      <td>39,250,017</td>\n",
       "      <td>5,540,545</td>\n",
       "      <td>3,576,452</td>\n",
       "      <td>952,065</td>\n",
       "      <td>...</td>\n",
       "      <td>865454</td>\n",
       "      <td>6651194</td>\n",
       "      <td>27,862,596</td>\n",
       "      <td>3,051,217</td>\n",
       "      <td>624,594</td>\n",
       "      <td>8,411,808</td>\n",
       "      <td>7,288,000</td>\n",
       "      <td>1,831,102</td>\n",
       "      <td>5,778,708</td>\n",
       "      <td>585,501</td>\n",
       "    </tr>\n",
       "    <tr>\n",
       "      <th>1</th>\n",
       "      <td>Population estimates base, April 1, 2010,  (V2...</td>\n",
       "      <td>NaN</td>\n",
       "      <td>4,780,131</td>\n",
       "      <td>710,249</td>\n",
       "      <td>6,392,301</td>\n",
       "      <td>2,916,025</td>\n",
       "      <td>37,254,522</td>\n",
       "      <td>5,029,324</td>\n",
       "      <td>3,574,114</td>\n",
       "      <td>897,936</td>\n",
       "      <td>...</td>\n",
       "      <td>814195</td>\n",
       "      <td>6346298</td>\n",
       "      <td>25,146,100</td>\n",
       "      <td>2,763,888</td>\n",
       "      <td>625,741</td>\n",
       "      <td>8,001,041</td>\n",
       "      <td>6,724,545</td>\n",
       "      <td>1,853,011</td>\n",
       "      <td>5,687,289</td>\n",
       "      <td>563,767</td>\n",
       "    </tr>\n",
       "    <tr>\n",
       "      <th>2</th>\n",
       "      <td>Population, percent change - April 1, 2010 (es...</td>\n",
       "      <td>NaN</td>\n",
       "      <td>1.70%</td>\n",
       "      <td>4.50%</td>\n",
       "      <td>8.40%</td>\n",
       "      <td>2.50%</td>\n",
       "      <td>5.40%</td>\n",
       "      <td>10.20%</td>\n",
       "      <td>0.10%</td>\n",
       "      <td>6.00%</td>\n",
       "      <td>...</td>\n",
       "      <td>0.063</td>\n",
       "      <td>0.048</td>\n",
       "      <td>10.80%</td>\n",
       "      <td>10.40%</td>\n",
       "      <td>-0.20%</td>\n",
       "      <td>5.10%</td>\n",
       "      <td>8.40%</td>\n",
       "      <td>-1.20%</td>\n",
       "      <td>1.60%</td>\n",
       "      <td>3.90%</td>\n",
       "    </tr>\n",
       "  </tbody>\n",
       "</table>\n",
       "<p>3 rows × 52 columns</p>\n",
       "</div>"
      ],
      "text/plain": [
       "                                                Fact Fact Note    Alabama  \\\n",
       "0       Population estimates, July 1, 2016,  (V2016)       NaN  4,863,300   \n",
       "1  Population estimates base, April 1, 2010,  (V2...       NaN  4,780,131   \n",
       "2  Population, percent change - April 1, 2010 (es...       NaN      1.70%   \n",
       "\n",
       "    Alaska    Arizona   Arkansas  California   Colorado Connecticut Delaware  \\\n",
       "0  741,894  6,931,071  2,988,248  39,250,017  5,540,545   3,576,452  952,065   \n",
       "1  710,249  6,392,301  2,916,025  37,254,522  5,029,324   3,574,114  897,936   \n",
       "2    4.50%      8.40%      2.50%       5.40%     10.20%       0.10%    6.00%   \n",
       "\n",
       "   ... South Dakota Tennessee       Texas       Utah  Vermont   Virginia  \\\n",
       "0  ...       865454   6651194  27,862,596  3,051,217  624,594  8,411,808   \n",
       "1  ...       814195   6346298  25,146,100  2,763,888  625,741  8,001,041   \n",
       "2  ...        0.063     0.048      10.80%     10.40%   -0.20%      5.10%   \n",
       "\n",
       "  Washington West Virginia  Wisconsin  Wyoming  \n",
       "0  7,288,000     1,831,102  5,778,708  585,501  \n",
       "1  6,724,545     1,853,011  5,687,289  563,767  \n",
       "2      8.40%        -1.20%      1.60%    3.90%  \n",
       "\n",
       "[3 rows x 52 columns]"
      ]
     },
     "execution_count": 5,
     "metadata": {},
     "output_type": "execute_result"
    }
   ],
   "source": [
    "us_census = pd.read_csv('/kaggle/input/uscensus/u.s.-census-data.csv')\n",
    "us_census.head(3)"
   ]
  },
  {
   "cell_type": "code",
   "execution_count": 6,
   "id": "2cc7cfd7",
   "metadata": {
    "execution": {
     "iopub.execute_input": "2022-12-20T07:29:06.540387Z",
     "iopub.status.busy": "2022-12-20T07:29:06.539712Z",
     "iopub.status.idle": "2022-12-20T07:29:06.547121Z",
     "shell.execute_reply": "2022-12-20T07:29:06.545945Z"
    },
    "papermill": {
     "duration": 0.037555,
     "end_time": "2022-12-20T07:29:06.549415",
     "exception": false,
     "start_time": "2022-12-20T07:29:06.511860",
     "status": "completed"
    },
    "tags": []
   },
   "outputs": [
    {
     "data": {
      "text/plain": [
       "(12485, 27)"
      ]
     },
     "execution_count": 6,
     "metadata": {},
     "output_type": "execute_result"
    }
   ],
   "source": [
    "gun_data.shape"
   ]
  },
  {
   "cell_type": "code",
   "execution_count": 7,
   "id": "1fc259d4",
   "metadata": {
    "execution": {
     "iopub.execute_input": "2022-12-20T07:29:06.602637Z",
     "iopub.status.busy": "2022-12-20T07:29:06.602223Z",
     "iopub.status.idle": "2022-12-20T07:29:06.609075Z",
     "shell.execute_reply": "2022-12-20T07:29:06.607754Z"
    },
    "papermill": {
     "duration": 0.036279,
     "end_time": "2022-12-20T07:29:06.611421",
     "exception": false,
     "start_time": "2022-12-20T07:29:06.575142",
     "status": "completed"
    },
    "tags": []
   },
   "outputs": [
    {
     "data": {
      "text/plain": [
       "(85, 52)"
      ]
     },
     "execution_count": 7,
     "metadata": {},
     "output_type": "execute_result"
    }
   ],
   "source": [
    "us_census.shape"
   ]
  },
  {
   "cell_type": "code",
   "execution_count": 8,
   "id": "6327a1d1",
   "metadata": {
    "execution": {
     "iopub.execute_input": "2022-12-20T07:29:06.665421Z",
     "iopub.status.busy": "2022-12-20T07:29:06.664732Z",
     "iopub.status.idle": "2022-12-20T07:29:06.690467Z",
     "shell.execute_reply": "2022-12-20T07:29:06.689680Z"
    },
    "papermill": {
     "duration": 0.055477,
     "end_time": "2022-12-20T07:29:06.693097",
     "exception": false,
     "start_time": "2022-12-20T07:29:06.637620",
     "status": "completed"
    },
    "tags": []
   },
   "outputs": [
    {
     "name": "stdout",
     "output_type": "stream",
     "text": [
      "<class 'pandas.core.frame.DataFrame'>\n",
      "RangeIndex: 12485 entries, 0 to 12484\n",
      "Data columns (total 27 columns):\n",
      " #   Column                     Non-Null Count  Dtype  \n",
      "---  ------                     --------------  -----  \n",
      " 0   month                      12485 non-null  object \n",
      " 1   state                      12485 non-null  object \n",
      " 2   permit                     12461 non-null  float64\n",
      " 3   permit_recheck             1100 non-null   float64\n",
      " 4   handgun                    12465 non-null  float64\n",
      " 5   long_gun                   12466 non-null  float64\n",
      " 6   other                      5500 non-null   float64\n",
      " 7   multiple                   12485 non-null  int64  \n",
      " 8   admin                      12462 non-null  float64\n",
      " 9   prepawn_handgun            10542 non-null  float64\n",
      " 10  prepawn_long_gun           10540 non-null  float64\n",
      " 11  prepawn_other              5115 non-null   float64\n",
      " 12  redemption_handgun         10545 non-null  float64\n",
      " 13  redemption_long_gun        10544 non-null  float64\n",
      " 14  redemption_other           5115 non-null   float64\n",
      " 15  returned_handgun           2200 non-null   float64\n",
      " 16  returned_long_gun          2145 non-null   float64\n",
      " 17  returned_other             1815 non-null   float64\n",
      " 18  rentals_handgun            990 non-null    float64\n",
      " 19  rentals_long_gun           825 non-null    float64\n",
      " 20  private_sale_handgun       2750 non-null   float64\n",
      " 21  private_sale_long_gun      2750 non-null   float64\n",
      " 22  private_sale_other         2750 non-null   float64\n",
      " 23  return_to_seller_handgun   2475 non-null   float64\n",
      " 24  return_to_seller_long_gun  2750 non-null   float64\n",
      " 25  return_to_seller_other     2255 non-null   float64\n",
      " 26  totals                     12485 non-null  int64  \n",
      "dtypes: float64(23), int64(2), object(2)\n",
      "memory usage: 2.6+ MB\n"
     ]
    }
   ],
   "source": [
    "gun_data.info()"
   ]
  },
  {
   "cell_type": "markdown",
   "id": "82adcacd",
   "metadata": {
    "papermill": {
     "duration": 0.026184,
     "end_time": "2022-12-20T07:29:06.745396",
     "exception": false,
     "start_time": "2022-12-20T07:29:06.719212",
     "status": "completed"
    },
    "tags": []
   },
   "source": [
    "### Checking for the datatypes and the null values"
   ]
  },
  {
   "cell_type": "code",
   "execution_count": 9,
   "id": "42ca697e",
   "metadata": {
    "execution": {
     "iopub.execute_input": "2022-12-20T07:29:06.799781Z",
     "iopub.status.busy": "2022-12-20T07:29:06.799392Z",
     "iopub.status.idle": "2022-12-20T07:29:06.815577Z",
     "shell.execute_reply": "2022-12-20T07:29:06.813582Z"
    },
    "papermill": {
     "duration": 0.046834,
     "end_time": "2022-12-20T07:29:06.818910",
     "exception": false,
     "start_time": "2022-12-20T07:29:06.772076",
     "status": "completed"
    },
    "tags": []
   },
   "outputs": [
    {
     "name": "stdout",
     "output_type": "stream",
     "text": [
      "<class 'pandas.core.frame.DataFrame'>\n",
      "RangeIndex: 85 entries, 0 to 84\n",
      "Data columns (total 52 columns):\n",
      " #   Column          Non-Null Count  Dtype \n",
      "---  ------          --------------  ----- \n",
      " 0   Fact            80 non-null     object\n",
      " 1   Fact Note       28 non-null     object\n",
      " 2   Alabama         65 non-null     object\n",
      " 3   Alaska          65 non-null     object\n",
      " 4   Arizona         65 non-null     object\n",
      " 5   Arkansas        65 non-null     object\n",
      " 6   California      65 non-null     object\n",
      " 7   Colorado        65 non-null     object\n",
      " 8   Connecticut     65 non-null     object\n",
      " 9   Delaware        65 non-null     object\n",
      " 10  Florida         65 non-null     object\n",
      " 11  Georgia         65 non-null     object\n",
      " 12  Hawaii          65 non-null     object\n",
      " 13  Idaho           65 non-null     object\n",
      " 14  Illinois        65 non-null     object\n",
      " 15  Indiana         65 non-null     object\n",
      " 16  Iowa            65 non-null     object\n",
      " 17  Kansas          65 non-null     object\n",
      " 18  Kentucky        65 non-null     object\n",
      " 19  Louisiana       65 non-null     object\n",
      " 20  Maine           65 non-null     object\n",
      " 21  Maryland        65 non-null     object\n",
      " 22  Massachusetts   65 non-null     object\n",
      " 23  Michigan        65 non-null     object\n",
      " 24  Minnesota       65 non-null     object\n",
      " 25  Mississippi     65 non-null     object\n",
      " 26  Missouri        65 non-null     object\n",
      " 27  Montana         65 non-null     object\n",
      " 28  Nebraska        65 non-null     object\n",
      " 29  Nevada          65 non-null     object\n",
      " 30  New Hampshire   65 non-null     object\n",
      " 31  New Jersey      65 non-null     object\n",
      " 32  New Mexico      65 non-null     object\n",
      " 33  New York        65 non-null     object\n",
      " 34  North Carolina  65 non-null     object\n",
      " 35  North Dakota    65 non-null     object\n",
      " 36  Ohio            65 non-null     object\n",
      " 37  Oklahoma        65 non-null     object\n",
      " 38  Oregon          65 non-null     object\n",
      " 39  Pennsylvania    65 non-null     object\n",
      " 40  Rhode Island    65 non-null     object\n",
      " 41  South Carolina  65 non-null     object\n",
      " 42  South Dakota    65 non-null     object\n",
      " 43  Tennessee       65 non-null     object\n",
      " 44  Texas           65 non-null     object\n",
      " 45  Utah            65 non-null     object\n",
      " 46  Vermont         65 non-null     object\n",
      " 47  Virginia        65 non-null     object\n",
      " 48  Washington      65 non-null     object\n",
      " 49  West Virginia   65 non-null     object\n",
      " 50  Wisconsin       65 non-null     object\n",
      " 51  Wyoming         65 non-null     object\n",
      "dtypes: object(52)\n",
      "memory usage: 34.7+ KB\n"
     ]
    }
   ],
   "source": [
    "us_census.info()"
   ]
  },
  {
   "cell_type": "markdown",
   "id": "166073df",
   "metadata": {
    "papermill": {
     "duration": 0.027857,
     "end_time": "2022-12-20T07:29:06.873985",
     "exception": false,
     "start_time": "2022-12-20T07:29:06.846128",
     "status": "completed"
    },
    "tags": []
   },
   "source": [
    "### Columns for the data"
   ]
  },
  {
   "cell_type": "code",
   "execution_count": 10,
   "id": "769f8e4d",
   "metadata": {
    "execution": {
     "iopub.execute_input": "2022-12-20T07:29:06.928639Z",
     "iopub.status.busy": "2022-12-20T07:29:06.927792Z",
     "iopub.status.idle": "2022-12-20T07:29:06.932549Z",
     "shell.execute_reply": "2022-12-20T07:29:06.931632Z"
    },
    "papermill": {
     "duration": 0.034471,
     "end_time": "2022-12-20T07:29:06.934863",
     "exception": false,
     "start_time": "2022-12-20T07:29:06.900392",
     "status": "completed"
    },
    "tags": []
   },
   "outputs": [],
   "source": [
    "# class column_names:\n",
    "#     def __init__(self, df):\n",
    "#         self.df = df\n",
    "    \n",
    "#     def colnames():\n",
    "#         for columns in df.columns:\n",
    "#             print(column)\n",
    "            \n",
    "    \n",
    "# x = column_names(gun_data)\n",
    "# x.colnames()\n",
    "    "
   ]
  },
  {
   "cell_type": "code",
   "execution_count": 11,
   "id": "3b787d86",
   "metadata": {
    "execution": {
     "iopub.execute_input": "2022-12-20T07:29:06.988975Z",
     "iopub.status.busy": "2022-12-20T07:29:06.988572Z",
     "iopub.status.idle": "2022-12-20T07:29:06.995934Z",
     "shell.execute_reply": "2022-12-20T07:29:06.994791Z"
    },
    "papermill": {
     "duration": 0.037261,
     "end_time": "2022-12-20T07:29:06.998124",
     "exception": false,
     "start_time": "2022-12-20T07:29:06.960863",
     "status": "completed"
    },
    "tags": []
   },
   "outputs": [
    {
     "data": {
      "text/plain": [
       "Index(['month', 'state', 'permit', 'permit_recheck', 'handgun', 'long_gun',\n",
       "       'other', 'multiple', 'admin', 'prepawn_handgun', 'prepawn_long_gun',\n",
       "       'prepawn_other', 'redemption_handgun', 'redemption_long_gun',\n",
       "       'redemption_other', 'returned_handgun', 'returned_long_gun',\n",
       "       'returned_other', 'rentals_handgun', 'rentals_long_gun',\n",
       "       'private_sale_handgun', 'private_sale_long_gun', 'private_sale_other',\n",
       "       'return_to_seller_handgun', 'return_to_seller_long_gun',\n",
       "       'return_to_seller_other', 'totals'],\n",
       "      dtype='object')"
      ]
     },
     "execution_count": 11,
     "metadata": {},
     "output_type": "execute_result"
    }
   ],
   "source": [
    "# for gun data\n",
    "\n",
    "gun_data.columns"
   ]
  },
  {
   "cell_type": "code",
   "execution_count": 12,
   "id": "49861d71",
   "metadata": {
    "execution": {
     "iopub.execute_input": "2022-12-20T07:29:07.052481Z",
     "iopub.status.busy": "2022-12-20T07:29:07.052100Z",
     "iopub.status.idle": "2022-12-20T07:29:07.055931Z",
     "shell.execute_reply": "2022-12-20T07:29:07.055174Z"
    },
    "papermill": {
     "duration": 0.034031,
     "end_time": "2022-12-20T07:29:07.058338",
     "exception": false,
     "start_time": "2022-12-20T07:29:07.024307",
     "status": "completed"
    },
    "tags": []
   },
   "outputs": [],
   "source": [
    "# for the us census data I will be doing a transpose to have the states as rows inorde to join with the state column of the gun violence data"
   ]
  },
  {
   "cell_type": "markdown",
   "id": "e9c3e2af",
   "metadata": {
    "papermill": {
     "duration": 0.026457,
     "end_time": "2022-12-20T07:29:07.111639",
     "exception": false,
     "start_time": "2022-12-20T07:29:07.085182",
     "status": "completed"
    },
    "tags": []
   },
   "source": [
    "### Check for missing / null values"
   ]
  },
  {
   "cell_type": "code",
   "execution_count": 13,
   "id": "b82f687f",
   "metadata": {
    "execution": {
     "iopub.execute_input": "2022-12-20T07:29:07.166979Z",
     "iopub.status.busy": "2022-12-20T07:29:07.166568Z",
     "iopub.status.idle": "2022-12-20T07:29:07.177770Z",
     "shell.execute_reply": "2022-12-20T07:29:07.176734Z"
    },
    "papermill": {
     "duration": 0.041864,
     "end_time": "2022-12-20T07:29:07.180188",
     "exception": false,
     "start_time": "2022-12-20T07:29:07.138324",
     "status": "completed"
    },
    "tags": []
   },
   "outputs": [
    {
     "data": {
      "text/plain": [
       "month                            0\n",
       "state                            0\n",
       "permit                          24\n",
       "permit_recheck               11385\n",
       "handgun                         20\n",
       "long_gun                        19\n",
       "other                         6985\n",
       "multiple                         0\n",
       "admin                           23\n",
       "prepawn_handgun               1943\n",
       "prepawn_long_gun              1945\n",
       "prepawn_other                 7370\n",
       "redemption_handgun            1940\n",
       "redemption_long_gun           1941\n",
       "redemption_other              7370\n",
       "returned_handgun             10285\n",
       "returned_long_gun            10340\n",
       "returned_other               10670\n",
       "rentals_handgun              11495\n",
       "rentals_long_gun             11660\n",
       "private_sale_handgun          9735\n",
       "private_sale_long_gun         9735\n",
       "private_sale_other            9735\n",
       "return_to_seller_handgun     10010\n",
       "return_to_seller_long_gun     9735\n",
       "return_to_seller_other       10230\n",
       "totals                           0\n",
       "dtype: int64"
      ]
     },
     "execution_count": 13,
     "metadata": {},
     "output_type": "execute_result"
    }
   ],
   "source": [
    "gun_data.isnull().sum()"
   ]
  },
  {
   "cell_type": "code",
   "execution_count": 14,
   "id": "92297662",
   "metadata": {
    "execution": {
     "iopub.execute_input": "2022-12-20T07:29:07.234499Z",
     "iopub.status.busy": "2022-12-20T07:29:07.234086Z",
     "iopub.status.idle": "2022-12-20T07:29:07.243845Z",
     "shell.execute_reply": "2022-12-20T07:29:07.242778Z"
    },
    "papermill": {
     "duration": 0.039358,
     "end_time": "2022-12-20T07:29:07.245963",
     "exception": false,
     "start_time": "2022-12-20T07:29:07.206605",
     "status": "completed"
    },
    "tags": []
   },
   "outputs": [
    {
     "data": {
      "text/plain": [
       "Fact               5\n",
       "Fact Note         57\n",
       "Alabama           20\n",
       "Alaska            20\n",
       "Arizona           20\n",
       "Arkansas          20\n",
       "California        20\n",
       "Colorado          20\n",
       "Connecticut       20\n",
       "Delaware          20\n",
       "Florida           20\n",
       "Georgia           20\n",
       "Hawaii            20\n",
       "Idaho             20\n",
       "Illinois          20\n",
       "Indiana           20\n",
       "Iowa              20\n",
       "Kansas            20\n",
       "Kentucky          20\n",
       "Louisiana         20\n",
       "Maine             20\n",
       "Maryland          20\n",
       "Massachusetts     20\n",
       "Michigan          20\n",
       "Minnesota         20\n",
       "Mississippi       20\n",
       "Missouri          20\n",
       "Montana           20\n",
       "Nebraska          20\n",
       "Nevada            20\n",
       "New Hampshire     20\n",
       "New Jersey        20\n",
       "New Mexico        20\n",
       "New York          20\n",
       "North Carolina    20\n",
       "North Dakota      20\n",
       "Ohio              20\n",
       "Oklahoma          20\n",
       "Oregon            20\n",
       "Pennsylvania      20\n",
       "Rhode Island      20\n",
       "South Carolina    20\n",
       "South Dakota      20\n",
       "Tennessee         20\n",
       "Texas             20\n",
       "Utah              20\n",
       "Vermont           20\n",
       "Virginia          20\n",
       "Washington        20\n",
       "West Virginia     20\n",
       "Wisconsin         20\n",
       "Wyoming           20\n",
       "dtype: int64"
      ]
     },
     "execution_count": 14,
     "metadata": {},
     "output_type": "execute_result"
    }
   ],
   "source": [
    "us_census.isnull().sum()"
   ]
  },
  {
   "cell_type": "markdown",
   "id": "afd3e268",
   "metadata": {
    "papermill": {
     "duration": 0.026323,
     "end_time": "2022-12-20T07:29:07.298768",
     "exception": false,
     "start_time": "2022-12-20T07:29:07.272445",
     "status": "completed"
    },
    "tags": []
   },
   "source": [
    "### checking for duplicates in the data"
   ]
  },
  {
   "cell_type": "code",
   "execution_count": 15,
   "id": "9fbf69f3",
   "metadata": {
    "execution": {
     "iopub.execute_input": "2022-12-20T07:29:07.354190Z",
     "iopub.status.busy": "2022-12-20T07:29:07.353774Z",
     "iopub.status.idle": "2022-12-20T07:29:07.378132Z",
     "shell.execute_reply": "2022-12-20T07:29:07.376874Z"
    },
    "papermill": {
     "duration": 0.055209,
     "end_time": "2022-12-20T07:29:07.381012",
     "exception": false,
     "start_time": "2022-12-20T07:29:07.325803",
     "status": "completed"
    },
    "tags": []
   },
   "outputs": [
    {
     "data": {
      "text/plain": [
       "0"
      ]
     },
     "execution_count": 15,
     "metadata": {},
     "output_type": "execute_result"
    }
   ],
   "source": [
    "gun_data.duplicated().sum()"
   ]
  },
  {
   "cell_type": "code",
   "execution_count": 16,
   "id": "3defff00",
   "metadata": {
    "execution": {
     "iopub.execute_input": "2022-12-20T07:29:07.436062Z",
     "iopub.status.busy": "2022-12-20T07:29:07.435656Z",
     "iopub.status.idle": "2022-12-20T07:29:07.447598Z",
     "shell.execute_reply": "2022-12-20T07:29:07.446844Z"
    },
    "papermill": {
     "duration": 0.041939,
     "end_time": "2022-12-20T07:29:07.449587",
     "exception": false,
     "start_time": "2022-12-20T07:29:07.407648",
     "status": "completed"
    },
    "tags": []
   },
   "outputs": [
    {
     "data": {
      "text/plain": [
       "3"
      ]
     },
     "execution_count": 16,
     "metadata": {},
     "output_type": "execute_result"
    }
   ],
   "source": [
    "us_census.duplicated().sum()"
   ]
  },
  {
   "cell_type": "markdown",
   "id": "a4352c05",
   "metadata": {
    "papermill": {
     "duration": 0.026254,
     "end_time": "2022-12-20T07:29:07.502357",
     "exception": false,
     "start_time": "2022-12-20T07:29:07.476103",
     "status": "completed"
    },
    "tags": []
   },
   "source": [
    "### Removing Duplicates"
   ]
  },
  {
   "cell_type": "code",
   "execution_count": 17,
   "id": "dcd5bf69",
   "metadata": {
    "execution": {
     "iopub.execute_input": "2022-12-20T07:29:07.557407Z",
     "iopub.status.busy": "2022-12-20T07:29:07.557000Z",
     "iopub.status.idle": "2022-12-20T07:29:07.570773Z",
     "shell.execute_reply": "2022-12-20T07:29:07.569631Z"
    },
    "papermill": {
     "duration": 0.044061,
     "end_time": "2022-12-20T07:29:07.572999",
     "exception": false,
     "start_time": "2022-12-20T07:29:07.528938",
     "status": "completed"
    },
    "tags": []
   },
   "outputs": [],
   "source": [
    "us_census.drop_duplicates(inplace = True)"
   ]
  },
  {
   "cell_type": "code",
   "execution_count": 18,
   "id": "95bc2d58",
   "metadata": {
    "execution": {
     "iopub.execute_input": "2022-12-20T07:29:07.628152Z",
     "iopub.status.busy": "2022-12-20T07:29:07.627707Z",
     "iopub.status.idle": "2022-12-20T07:29:07.645535Z",
     "shell.execute_reply": "2022-12-20T07:29:07.644750Z"
    },
    "papermill": {
     "duration": 0.047833,
     "end_time": "2022-12-20T07:29:07.647516",
     "exception": false,
     "start_time": "2022-12-20T07:29:07.599683",
     "status": "completed"
    },
    "tags": []
   },
   "outputs": [
    {
     "data": {
      "text/plain": [
       "0"
      ]
     },
     "execution_count": 18,
     "metadata": {},
     "output_type": "execute_result"
    }
   ],
   "source": [
    "us_census.duplicated().sum()"
   ]
  },
  {
   "cell_type": "code",
   "execution_count": 19,
   "id": "c4ad91a3",
   "metadata": {
    "execution": {
     "iopub.execute_input": "2022-12-20T07:29:07.703013Z",
     "iopub.status.busy": "2022-12-20T07:29:07.702592Z",
     "iopub.status.idle": "2022-12-20T07:29:07.710279Z",
     "shell.execute_reply": "2022-12-20T07:29:07.709240Z"
    },
    "papermill": {
     "duration": 0.037761,
     "end_time": "2022-12-20T07:29:07.712309",
     "exception": false,
     "start_time": "2022-12-20T07:29:07.674548",
     "status": "completed"
    },
    "tags": []
   },
   "outputs": [
    {
     "data": {
      "text/plain": [
       "55"
      ]
     },
     "execution_count": 19,
     "metadata": {},
     "output_type": "execute_result"
    }
   ],
   "source": [
    "gun_data['state'].nunique()"
   ]
  },
  {
   "cell_type": "code",
   "execution_count": 20,
   "id": "e55436dd",
   "metadata": {
    "execution": {
     "iopub.execute_input": "2022-12-20T07:29:07.767416Z",
     "iopub.status.busy": "2022-12-20T07:29:07.766957Z",
     "iopub.status.idle": "2022-12-20T07:29:07.775402Z",
     "shell.execute_reply": "2022-12-20T07:29:07.774498Z"
    },
    "papermill": {
     "duration": 0.038521,
     "end_time": "2022-12-20T07:29:07.777621",
     "exception": false,
     "start_time": "2022-12-20T07:29:07.739100",
     "status": "completed"
    },
    "tags": []
   },
   "outputs": [
    {
     "data": {
      "text/plain": [
       "array(['Alabama', 'Alaska', 'Arizona', 'Arkansas', 'California',\n",
       "       'Colorado', 'Connecticut', 'Delaware', 'District of Columbia',\n",
       "       'Florida', 'Georgia', 'Guam', 'Hawaii', 'Idaho', 'Illinois',\n",
       "       'Indiana', 'Iowa', 'Kansas', 'Kentucky', 'Louisiana', 'Maine',\n",
       "       'Mariana Islands', 'Maryland', 'Massachusetts', 'Michigan',\n",
       "       'Minnesota', 'Mississippi', 'Missouri', 'Montana', 'Nebraska',\n",
       "       'Nevada', 'New Hampshire', 'New Jersey', 'New Mexico', 'New York',\n",
       "       'North Carolina', 'North Dakota', 'Ohio', 'Oklahoma', 'Oregon',\n",
       "       'Pennsylvania', 'Puerto Rico', 'Rhode Island', 'South Carolina',\n",
       "       'South Dakota', 'Tennessee', 'Texas', 'Utah', 'Vermont',\n",
       "       'Virgin Islands', 'Virginia', 'Washington', 'West Virginia',\n",
       "       'Wisconsin', 'Wyoming'], dtype=object)"
      ]
     },
     "execution_count": 20,
     "metadata": {},
     "output_type": "execute_result"
    }
   ],
   "source": [
    "gun_data['state'].unique()"
   ]
  },
  {
   "cell_type": "markdown",
   "id": "d1d1f2fb",
   "metadata": {
    "papermill": {
     "duration": 0.026969,
     "end_time": "2022-12-20T07:29:07.832456",
     "exception": false,
     "start_time": "2022-12-20T07:29:07.805487",
     "status": "completed"
    },
    "tags": []
   },
   "source": [
    "#### USA has 50 state as seen from [here](https://www.nationsonline.org/oneworld/US-states-by-area.htm)"
   ]
  },
  {
   "cell_type": "code",
   "execution_count": 21,
   "id": "1a48b904",
   "metadata": {
    "execution": {
     "iopub.execute_input": "2022-12-20T07:29:07.888807Z",
     "iopub.status.busy": "2022-12-20T07:29:07.888417Z",
     "iopub.status.idle": "2022-12-20T07:29:07.895802Z",
     "shell.execute_reply": "2022-12-20T07:29:07.894783Z"
    },
    "papermill": {
     "duration": 0.03872,
     "end_time": "2022-12-20T07:29:07.898135",
     "exception": false,
     "start_time": "2022-12-20T07:29:07.859415",
     "status": "completed"
    },
    "tags": []
   },
   "outputs": [
    {
     "data": {
      "text/plain": [
       "['District of Columbia',\n",
       " 'Guam',\n",
       " 'Mariana Islands',\n",
       " 'Puerto Rico',\n",
       " 'Virgin Islands']"
      ]
     },
     "execution_count": 21,
     "metadata": {},
     "output_type": "execute_result"
    }
   ],
   "source": [
    "not_us = ['District of Columbia','Guam', 'Mariana Islands', 'Puerto Rico', 'Virgin Islands']\n",
    "not_us"
   ]
  },
  {
   "cell_type": "markdown",
   "id": "b97b879b",
   "metadata": {
    "execution": {
     "iopub.execute_input": "2022-12-20T00:33:47.246945Z",
     "iopub.status.busy": "2022-12-20T00:33:47.246451Z",
     "iopub.status.idle": "2022-12-20T00:33:47.252428Z",
     "shell.execute_reply": "2022-12-20T00:33:47.251213Z",
     "shell.execute_reply.started": "2022-12-20T00:33:47.246898Z"
    },
    "papermill": {
     "duration": 0.027172,
     "end_time": "2022-12-20T07:29:07.952819",
     "exception": false,
     "start_time": "2022-12-20T07:29:07.925647",
     "status": "completed"
    },
    "tags": []
   },
   "source": [
    "## Dropping a column"
   ]
  },
  {
   "cell_type": "code",
   "execution_count": 22,
   "id": "a63d2084",
   "metadata": {
    "execution": {
     "iopub.execute_input": "2022-12-20T07:29:08.009364Z",
     "iopub.status.busy": "2022-12-20T07:29:08.008578Z",
     "iopub.status.idle": "2022-12-20T07:29:08.032320Z",
     "shell.execute_reply": "2022-12-20T07:29:08.031258Z"
    },
    "papermill": {
     "duration": 0.054508,
     "end_time": "2022-12-20T07:29:08.034587",
     "exception": false,
     "start_time": "2022-12-20T07:29:07.980079",
     "status": "completed"
    },
    "tags": []
   },
   "outputs": [
    {
     "data": {
      "text/html": [
       "<div>\n",
       "<style scoped>\n",
       "    .dataframe tbody tr th:only-of-type {\n",
       "        vertical-align: middle;\n",
       "    }\n",
       "\n",
       "    .dataframe tbody tr th {\n",
       "        vertical-align: top;\n",
       "    }\n",
       "\n",
       "    .dataframe thead th {\n",
       "        text-align: right;\n",
       "    }\n",
       "</style>\n",
       "<table border=\"1\" class=\"dataframe\">\n",
       "  <thead>\n",
       "    <tr style=\"text-align: right;\">\n",
       "      <th></th>\n",
       "      <th>Fact</th>\n",
       "      <th>Alabama</th>\n",
       "      <th>Alaska</th>\n",
       "      <th>Arizona</th>\n",
       "      <th>Arkansas</th>\n",
       "      <th>California</th>\n",
       "      <th>Colorado</th>\n",
       "      <th>Connecticut</th>\n",
       "      <th>Delaware</th>\n",
       "      <th>Florida</th>\n",
       "      <th>...</th>\n",
       "      <th>South Dakota</th>\n",
       "      <th>Tennessee</th>\n",
       "      <th>Texas</th>\n",
       "      <th>Utah</th>\n",
       "      <th>Vermont</th>\n",
       "      <th>Virginia</th>\n",
       "      <th>Washington</th>\n",
       "      <th>West Virginia</th>\n",
       "      <th>Wisconsin</th>\n",
       "      <th>Wyoming</th>\n",
       "    </tr>\n",
       "  </thead>\n",
       "  <tbody>\n",
       "    <tr>\n",
       "      <th>0</th>\n",
       "      <td>Population estimates, July 1, 2016,  (V2016)</td>\n",
       "      <td>4,863,300</td>\n",
       "      <td>741,894</td>\n",
       "      <td>6,931,071</td>\n",
       "      <td>2,988,248</td>\n",
       "      <td>39,250,017</td>\n",
       "      <td>5,540,545</td>\n",
       "      <td>3,576,452</td>\n",
       "      <td>952,065</td>\n",
       "      <td>20,612,439</td>\n",
       "      <td>...</td>\n",
       "      <td>865454</td>\n",
       "      <td>6651194</td>\n",
       "      <td>27,862,596</td>\n",
       "      <td>3,051,217</td>\n",
       "      <td>624,594</td>\n",
       "      <td>8,411,808</td>\n",
       "      <td>7,288,000</td>\n",
       "      <td>1,831,102</td>\n",
       "      <td>5,778,708</td>\n",
       "      <td>585,501</td>\n",
       "    </tr>\n",
       "    <tr>\n",
       "      <th>1</th>\n",
       "      <td>Population estimates base, April 1, 2010,  (V2...</td>\n",
       "      <td>4,780,131</td>\n",
       "      <td>710,249</td>\n",
       "      <td>6,392,301</td>\n",
       "      <td>2,916,025</td>\n",
       "      <td>37,254,522</td>\n",
       "      <td>5,029,324</td>\n",
       "      <td>3,574,114</td>\n",
       "      <td>897,936</td>\n",
       "      <td>18,804,592</td>\n",
       "      <td>...</td>\n",
       "      <td>814195</td>\n",
       "      <td>6346298</td>\n",
       "      <td>25,146,100</td>\n",
       "      <td>2,763,888</td>\n",
       "      <td>625,741</td>\n",
       "      <td>8,001,041</td>\n",
       "      <td>6,724,545</td>\n",
       "      <td>1,853,011</td>\n",
       "      <td>5,687,289</td>\n",
       "      <td>563,767</td>\n",
       "    </tr>\n",
       "  </tbody>\n",
       "</table>\n",
       "<p>2 rows × 51 columns</p>\n",
       "</div>"
      ],
      "text/plain": [
       "                                                Fact    Alabama   Alaska  \\\n",
       "0       Population estimates, July 1, 2016,  (V2016)  4,863,300  741,894   \n",
       "1  Population estimates base, April 1, 2010,  (V2...  4,780,131  710,249   \n",
       "\n",
       "     Arizona   Arkansas  California   Colorado Connecticut Delaware  \\\n",
       "0  6,931,071  2,988,248  39,250,017  5,540,545   3,576,452  952,065   \n",
       "1  6,392,301  2,916,025  37,254,522  5,029,324   3,574,114  897,936   \n",
       "\n",
       "      Florida  ... South Dakota Tennessee       Texas       Utah  Vermont  \\\n",
       "0  20,612,439  ...       865454   6651194  27,862,596  3,051,217  624,594   \n",
       "1  18,804,592  ...       814195   6346298  25,146,100  2,763,888  625,741   \n",
       "\n",
       "    Virginia Washington West Virginia  Wisconsin  Wyoming  \n",
       "0  8,411,808  7,288,000     1,831,102  5,778,708  585,501  \n",
       "1  8,001,041  6,724,545     1,853,011  5,687,289  563,767  \n",
       "\n",
       "[2 rows x 51 columns]"
      ]
     },
     "execution_count": 22,
     "metadata": {},
     "output_type": "execute_result"
    }
   ],
   "source": [
    "us_census.drop('Fact Note', axis = 1, inplace = True)\n",
    "us_census.head(2)"
   ]
  },
  {
   "cell_type": "markdown",
   "id": "3c71c01a",
   "metadata": {
    "papermill": {
     "duration": 0.027157,
     "end_time": "2022-12-20T07:29:08.089403",
     "exception": false,
     "start_time": "2022-12-20T07:29:08.062246",
     "status": "completed"
    },
    "tags": []
   },
   "source": [
    "### Transposing the data structure"
   ]
  },
  {
   "cell_type": "code",
   "execution_count": 23,
   "id": "dfbeba68",
   "metadata": {
    "execution": {
     "iopub.execute_input": "2022-12-20T07:29:08.146712Z",
     "iopub.status.busy": "2022-12-20T07:29:08.145908Z",
     "iopub.status.idle": "2022-12-20T07:29:08.153551Z",
     "shell.execute_reply": "2022-12-20T07:29:08.152334Z"
    },
    "papermill": {
     "duration": 0.03841,
     "end_time": "2022-12-20T07:29:08.155788",
     "exception": false,
     "start_time": "2022-12-20T07:29:08.117378",
     "status": "completed"
    },
    "tags": []
   },
   "outputs": [
    {
     "data": {
      "text/plain": [
       "Index(['Fact', 'Alabama', 'Alaska', 'Arizona', 'Arkansas', 'California',\n",
       "       'Colorado', 'Connecticut', 'Delaware', 'Florida', 'Georgia', 'Hawaii',\n",
       "       'Idaho', 'Illinois', 'Indiana', 'Iowa', 'Kansas', 'Kentucky',\n",
       "       'Louisiana', 'Maine', 'Maryland', 'Massachusetts', 'Michigan',\n",
       "       'Minnesota', 'Mississippi', 'Missouri', 'Montana', 'Nebraska', 'Nevada',\n",
       "       'New Hampshire', 'New Jersey', 'New Mexico', 'New York',\n",
       "       'North Carolina', 'North Dakota', 'Ohio', 'Oklahoma', 'Oregon',\n",
       "       'Pennsylvania', 'Rhode Island', 'South Carolina', 'South Dakota',\n",
       "       'Tennessee', 'Texas', 'Utah', 'Vermont', 'Virginia', 'Washington',\n",
       "       'West Virginia', 'Wisconsin', 'Wyoming'],\n",
       "      dtype='object')"
      ]
     },
     "execution_count": 23,
     "metadata": {},
     "output_type": "execute_result"
    }
   ],
   "source": [
    "us_cens_colnames = us_census.columns\n",
    "us_cens_colnames"
   ]
  },
  {
   "cell_type": "code",
   "execution_count": 24,
   "id": "19b37a9a",
   "metadata": {
    "execution": {
     "iopub.execute_input": "2022-12-20T07:29:08.214629Z",
     "iopub.status.busy": "2022-12-20T07:29:08.213961Z",
     "iopub.status.idle": "2022-12-20T07:29:08.225839Z",
     "shell.execute_reply": "2022-12-20T07:29:08.224688Z"
    },
    "papermill": {
     "duration": 0.044081,
     "end_time": "2022-12-20T07:29:08.228199",
     "exception": false,
     "start_time": "2022-12-20T07:29:08.184118",
     "status": "completed"
    },
    "tags": []
   },
   "outputs": [
    {
     "name": "stderr",
     "output_type": "stream",
     "text": [
      "/opt/conda/lib/python3.7/site-packages/pandas/core/indexes/base.py:4616: FutureWarning: Using a non-tuple sequence for multidimensional indexing is deprecated; use `arr[tuple(seq)]` instead of `arr[seq]`. In the future this will be interpreted as an array index, `arr[np.array(seq)]`, which will result either in an error or a different result.\n",
      "  result = getitem(key)\n"
     ]
    },
    {
     "data": {
      "text/plain": [
       "Index(['Alabama', 'Alaska', 'Arizona', 'Arkansas', 'California', 'Colorado',\n",
       "       'Connecticut', 'Delaware', 'Florida', 'Georgia', 'Hawaii', 'Idaho',\n",
       "       'Illinois', 'Indiana', 'Iowa', 'Kansas', 'Kentucky', 'Louisiana',\n",
       "       'Maine', 'Maryland', 'Massachusetts', 'Michigan', 'Minnesota',\n",
       "       'Mississippi', 'Missouri', 'Montana', 'Nebraska', 'Nevada',\n",
       "       'New Hampshire', 'New Jersey', 'New Mexico', 'New York',\n",
       "       'North Carolina', 'North Dakota', 'Ohio', 'Oklahoma', 'Oregon',\n",
       "       'Pennsylvania', 'Rhode Island', 'South Carolina', 'South Dakota',\n",
       "       'Tennessee', 'Texas', 'Utah', 'Vermont', 'Virginia', 'Washington',\n",
       "       'West Virginia', 'Wisconsin', 'Wyoming'],\n",
       "      dtype='object')"
      ]
     },
     "execution_count": 24,
     "metadata": {},
     "output_type": "execute_result"
    }
   ],
   "source": [
    "us_states = us_cens_colnames[[us_census.columns != 'Fact']]\n",
    "us_states"
   ]
  },
  {
   "cell_type": "code",
   "execution_count": 25,
   "id": "8f60c9cc",
   "metadata": {
    "execution": {
     "iopub.execute_input": "2022-12-20T07:29:08.287164Z",
     "iopub.status.busy": "2022-12-20T07:29:08.286115Z",
     "iopub.status.idle": "2022-12-20T07:29:08.293515Z",
     "shell.execute_reply": "2022-12-20T07:29:08.292613Z"
    },
    "papermill": {
     "duration": 0.038952,
     "end_time": "2022-12-20T07:29:08.295643",
     "exception": false,
     "start_time": "2022-12-20T07:29:08.256691",
     "status": "completed"
    },
    "tags": []
   },
   "outputs": [
    {
     "data": {
      "text/plain": [
       "array(['Population estimates, July 1, 2016,  (V2016)',\n",
       "       'Population estimates base, April 1, 2010,  (V2016)',\n",
       "       'Population, percent change - April 1, 2010 (estimates base) to July 1, 2016,  (V2016)',\n",
       "       'Population, Census, April 1, 2010',\n",
       "       'Persons under 5 years, percent, July 1, 2016,  (V2016)',\n",
       "       'Persons under 5 years, percent, April 1, 2010',\n",
       "       'Persons under 18 years, percent, July 1, 2016,  (V2016)',\n",
       "       'Persons under 18 years, percent, April 1, 2010',\n",
       "       'Persons 65 years and over, percent,  July 1, 2016,  (V2016)',\n",
       "       'Persons 65 years and over, percent, April 1, 2010',\n",
       "       'Female persons, percent,  July 1, 2016,  (V2016)',\n",
       "       'Female persons, percent, April 1, 2010',\n",
       "       'White alone, percent, July 1, 2016,  (V2016)',\n",
       "       'Black or African American alone, percent, July 1, 2016,  (V2016)',\n",
       "       'American Indian and Alaska Native alone, percent, July 1, 2016,  (V2016)',\n",
       "       'Asian alone, percent, July 1, 2016,  (V2016)',\n",
       "       'Native Hawaiian and Other Pacific Islander alone, percent, July 1, 2016,  (V2016)',\n",
       "       'Two or More Races, percent, July 1, 2016,  (V2016)',\n",
       "       'Hispanic or Latino, percent, July 1, 2016,  (V2016)',\n",
       "       'White alone, not Hispanic or Latino, percent, July 1, 2016,  (V2016)',\n",
       "       'Veterans, 2011-2015', 'Foreign born persons, percent, 2011-2015',\n",
       "       'Housing units,  July 1, 2016,  (V2016)',\n",
       "       'Housing units, April 1, 2010',\n",
       "       'Owner-occupied housing unit rate, 2011-2015',\n",
       "       'Median value of owner-occupied housing units, 2011-2015',\n",
       "       'Median selected monthly owner costs -with a mortgage, 2011-2015',\n",
       "       'Median selected monthly owner costs -without a mortgage, 2011-2015',\n",
       "       'Median gross rent, 2011-2015', 'Building permits, 2016',\n",
       "       'Households, 2011-2015', 'Persons per household, 2011-2015',\n",
       "       'Living in same house 1 year ago, percent of persons age 1 year+, 2011-2015',\n",
       "       'Language other than English spoken at home, percent of persons age 5 years+, 2011-2015',\n",
       "       'High school graduate or higher, percent of persons age 25 years+, 2011-2015',\n",
       "       \"Bachelor's degree or higher, percent of persons age 25 years+, 2011-2015\",\n",
       "       'With a disability, under age 65 years, percent, 2011-2015',\n",
       "       'Persons  without health insurance, under age 65 years, percent',\n",
       "       'In civilian labor force, total, percent of population age 16 years+, 2011-2015',\n",
       "       'In civilian labor force, female, percent of population age 16 years+, 2011-2015',\n",
       "       'Total accommodation and food services sales, 2012 ($1,000)',\n",
       "       'Total health care and social assistance receipts/revenue, 2012 ($1,000)',\n",
       "       'Total manufacturers shipments, 2012 ($1,000)',\n",
       "       'Total merchant wholesaler sales, 2012 ($1,000)',\n",
       "       'Total retail sales, 2012 ($1,000)',\n",
       "       'Total retail sales per capita, 2012',\n",
       "       'Mean travel time to work (minutes), workers age 16 years+, 2011-2015',\n",
       "       'Median household income (in 2015 dollars), 2011-2015',\n",
       "       'Per capita income in past 12 months (in 2015 dollars), 2011-2015',\n",
       "       'Persons in poverty, percent',\n",
       "       'Total employer establishments, 2015', 'Total employment, 2015',\n",
       "       'Total annual payroll, 2015 ($1,000)',\n",
       "       'Total employment, percent change, 2014-2015',\n",
       "       'Total nonemployer establishments, 2015', 'All firms, 2012',\n",
       "       'Men-owned firms, 2012', 'Women-owned firms, 2012',\n",
       "       'Minority-owned firms, 2012', 'Nonminority-owned firms, 2012',\n",
       "       'Veteran-owned firms, 2012', 'Nonveteran-owned firms, 2012',\n",
       "       'Population per square mile, 2010',\n",
       "       'Land area in square miles, 2010', 'FIPS Code', nan,\n",
       "       'NOTE: FIPS Code values are enclosed in quotes to ensure leading zeros remain intact.',\n",
       "       'Value Notes', '1', 'Fact Notes', '(a)', '(b)', '(c)',\n",
       "       'Value Flags', '-', 'D', 'F', 'FN', 'S', 'X', 'Z'], dtype=object)"
      ]
     },
     "execution_count": 25,
     "metadata": {},
     "output_type": "execute_result"
    }
   ],
   "source": [
    "new_col = us_census['Fact'].unique()\n",
    "new_col"
   ]
  },
  {
   "cell_type": "code",
   "execution_count": 26,
   "id": "5f4ff352",
   "metadata": {
    "execution": {
     "iopub.execute_input": "2022-12-20T07:29:08.354265Z",
     "iopub.status.busy": "2022-12-20T07:29:08.353642Z",
     "iopub.status.idle": "2022-12-20T07:29:08.359351Z",
     "shell.execute_reply": "2022-12-20T07:29:08.358332Z"
    },
    "papermill": {
     "duration": 0.037636,
     "end_time": "2022-12-20T07:29:08.361414",
     "exception": false,
     "start_time": "2022-12-20T07:29:08.323778",
     "status": "completed"
    },
    "tags": []
   },
   "outputs": [
    {
     "data": {
      "text/plain": [
       "(82, 51)"
      ]
     },
     "execution_count": 26,
     "metadata": {},
     "output_type": "execute_result"
    }
   ],
   "source": [
    "us_census.shape"
   ]
  },
  {
   "cell_type": "code",
   "execution_count": 27,
   "id": "d5dabf66",
   "metadata": {
    "execution": {
     "iopub.execute_input": "2022-12-20T07:29:08.420473Z",
     "iopub.status.busy": "2022-12-20T07:29:08.420066Z",
     "iopub.status.idle": "2022-12-20T07:29:08.446390Z",
     "shell.execute_reply": "2022-12-20T07:29:08.445245Z"
    },
    "papermill": {
     "duration": 0.059009,
     "end_time": "2022-12-20T07:29:08.448853",
     "exception": false,
     "start_time": "2022-12-20T07:29:08.389844",
     "status": "completed"
    },
    "tags": []
   },
   "outputs": [
    {
     "data": {
      "text/html": [
       "<div>\n",
       "<style scoped>\n",
       "    .dataframe tbody tr th:only-of-type {\n",
       "        vertical-align: middle;\n",
       "    }\n",
       "\n",
       "    .dataframe tbody tr th {\n",
       "        vertical-align: top;\n",
       "    }\n",
       "\n",
       "    .dataframe thead th {\n",
       "        text-align: right;\n",
       "    }\n",
       "</style>\n",
       "<table border=\"1\" class=\"dataframe\">\n",
       "  <thead>\n",
       "    <tr style=\"text-align: right;\">\n",
       "      <th></th>\n",
       "      <th>0</th>\n",
       "      <th>1</th>\n",
       "      <th>2</th>\n",
       "      <th>3</th>\n",
       "      <th>4</th>\n",
       "      <th>5</th>\n",
       "      <th>6</th>\n",
       "      <th>7</th>\n",
       "      <th>8</th>\n",
       "      <th>9</th>\n",
       "      <th>...</th>\n",
       "      <th>74</th>\n",
       "      <th>76</th>\n",
       "      <th>77</th>\n",
       "      <th>78</th>\n",
       "      <th>79</th>\n",
       "      <th>80</th>\n",
       "      <th>81</th>\n",
       "      <th>82</th>\n",
       "      <th>83</th>\n",
       "      <th>84</th>\n",
       "    </tr>\n",
       "  </thead>\n",
       "  <tbody>\n",
       "    <tr>\n",
       "      <th>Fact</th>\n",
       "      <td>Population estimates, July 1, 2016,  (V2016)</td>\n",
       "      <td>Population estimates base, April 1, 2010,  (V2...</td>\n",
       "      <td>Population, percent change - April 1, 2010 (es...</td>\n",
       "      <td>Population, Census, April 1, 2010</td>\n",
       "      <td>Persons under 5 years, percent, July 1, 2016, ...</td>\n",
       "      <td>Persons under 5 years, percent, April 1, 2010</td>\n",
       "      <td>Persons under 18 years, percent, July 1, 2016,...</td>\n",
       "      <td>Persons under 18 years, percent, April 1, 2010</td>\n",
       "      <td>Persons 65 years and over, percent,  July 1, 2...</td>\n",
       "      <td>Persons 65 years and over, percent, April 1, 2010</td>\n",
       "      <td>...</td>\n",
       "      <td>(c)</td>\n",
       "      <td>Value Flags</td>\n",
       "      <td>-</td>\n",
       "      <td>D</td>\n",
       "      <td>F</td>\n",
       "      <td>FN</td>\n",
       "      <td>NaN</td>\n",
       "      <td>S</td>\n",
       "      <td>X</td>\n",
       "      <td>Z</td>\n",
       "    </tr>\n",
       "    <tr>\n",
       "      <th>Alabama</th>\n",
       "      <td>4,863,300</td>\n",
       "      <td>4,780,131</td>\n",
       "      <td>1.70%</td>\n",
       "      <td>4,779,736</td>\n",
       "      <td>6.00%</td>\n",
       "      <td>6.40%</td>\n",
       "      <td>22.60%</td>\n",
       "      <td>23.70%</td>\n",
       "      <td>16.10%</td>\n",
       "      <td>13.80%</td>\n",
       "      <td>...</td>\n",
       "      <td>NaN</td>\n",
       "      <td>NaN</td>\n",
       "      <td>NaN</td>\n",
       "      <td>NaN</td>\n",
       "      <td>NaN</td>\n",
       "      <td>NaN</td>\n",
       "      <td>NaN</td>\n",
       "      <td>NaN</td>\n",
       "      <td>NaN</td>\n",
       "      <td>NaN</td>\n",
       "    </tr>\n",
       "    <tr>\n",
       "      <th>Alaska</th>\n",
       "      <td>741,894</td>\n",
       "      <td>710,249</td>\n",
       "      <td>4.50%</td>\n",
       "      <td>710,231</td>\n",
       "      <td>7.30%</td>\n",
       "      <td>7.60%</td>\n",
       "      <td>25.20%</td>\n",
       "      <td>26.40%</td>\n",
       "      <td>10.40%</td>\n",
       "      <td>7.70%</td>\n",
       "      <td>...</td>\n",
       "      <td>NaN</td>\n",
       "      <td>NaN</td>\n",
       "      <td>NaN</td>\n",
       "      <td>NaN</td>\n",
       "      <td>NaN</td>\n",
       "      <td>NaN</td>\n",
       "      <td>NaN</td>\n",
       "      <td>NaN</td>\n",
       "      <td>NaN</td>\n",
       "      <td>NaN</td>\n",
       "    </tr>\n",
       "  </tbody>\n",
       "</table>\n",
       "<p>3 rows × 82 columns</p>\n",
       "</div>"
      ],
      "text/plain": [
       "                                                   0   \\\n",
       "Fact     Population estimates, July 1, 2016,  (V2016)   \n",
       "Alabama                                     4,863,300   \n",
       "Alaska                                        741,894   \n",
       "\n",
       "                                                        1   \\\n",
       "Fact     Population estimates base, April 1, 2010,  (V2...   \n",
       "Alabama                                          4,780,131   \n",
       "Alaska                                             710,249   \n",
       "\n",
       "                                                        2   \\\n",
       "Fact     Population, percent change - April 1, 2010 (es...   \n",
       "Alabama                                              1.70%   \n",
       "Alaska                                               4.50%   \n",
       "\n",
       "                                        3   \\\n",
       "Fact     Population, Census, April 1, 2010   \n",
       "Alabama                          4,779,736   \n",
       "Alaska                             710,231   \n",
       "\n",
       "                                                        4   \\\n",
       "Fact     Persons under 5 years, percent, July 1, 2016, ...   \n",
       "Alabama                                              6.00%   \n",
       "Alaska                                               7.30%   \n",
       "\n",
       "                                                    5   \\\n",
       "Fact     Persons under 5 years, percent, April 1, 2010   \n",
       "Alabama                                          6.40%   \n",
       "Alaska                                           7.60%   \n",
       "\n",
       "                                                        6   \\\n",
       "Fact     Persons under 18 years, percent, July 1, 2016,...   \n",
       "Alabama                                             22.60%   \n",
       "Alaska                                              25.20%   \n",
       "\n",
       "                                                     7   \\\n",
       "Fact     Persons under 18 years, percent, April 1, 2010   \n",
       "Alabama                                          23.70%   \n",
       "Alaska                                           26.40%   \n",
       "\n",
       "                                                        8   \\\n",
       "Fact     Persons 65 years and over, percent,  July 1, 2...   \n",
       "Alabama                                             16.10%   \n",
       "Alaska                                              10.40%   \n",
       "\n",
       "                                                        9   ...   74  \\\n",
       "Fact     Persons 65 years and over, percent, April 1, 2010  ...  (c)   \n",
       "Alabama                                             13.80%  ...  NaN   \n",
       "Alaska                                               7.70%  ...  NaN   \n",
       "\n",
       "                  76   77   78   79   80   81   82   83   84  \n",
       "Fact     Value Flags    -    D    F   FN  NaN    S    X    Z  \n",
       "Alabama          NaN  NaN  NaN  NaN  NaN  NaN  NaN  NaN  NaN  \n",
       "Alaska           NaN  NaN  NaN  NaN  NaN  NaN  NaN  NaN  NaN  \n",
       "\n",
       "[3 rows x 82 columns]"
      ]
     },
     "execution_count": 27,
     "metadata": {},
     "output_type": "execute_result"
    }
   ],
   "source": [
    "new_us_census = us_census.transpose()   #us_census.T can also be used\n",
    "new_us_census.head(3)"
   ]
  },
  {
   "cell_type": "code",
   "execution_count": 28,
   "id": "dd5fc653",
   "metadata": {
    "execution": {
     "iopub.execute_input": "2022-12-20T07:29:08.508504Z",
     "iopub.status.busy": "2022-12-20T07:29:08.507834Z",
     "iopub.status.idle": "2022-12-20T07:29:08.530887Z",
     "shell.execute_reply": "2022-12-20T07:29:08.529780Z"
    },
    "papermill": {
     "duration": 0.05554,
     "end_time": "2022-12-20T07:29:08.533295",
     "exception": false,
     "start_time": "2022-12-20T07:29:08.477755",
     "status": "completed"
    },
    "tags": []
   },
   "outputs": [
    {
     "data": {
      "text/html": [
       "<div>\n",
       "<style scoped>\n",
       "    .dataframe tbody tr th:only-of-type {\n",
       "        vertical-align: middle;\n",
       "    }\n",
       "\n",
       "    .dataframe tbody tr th {\n",
       "        vertical-align: top;\n",
       "    }\n",
       "\n",
       "    .dataframe thead th {\n",
       "        text-align: right;\n",
       "    }\n",
       "</style>\n",
       "<table border=\"1\" class=\"dataframe\">\n",
       "  <thead>\n",
       "    <tr style=\"text-align: right;\">\n",
       "      <th></th>\n",
       "      <th>0</th>\n",
       "      <th>1</th>\n",
       "      <th>2</th>\n",
       "      <th>3</th>\n",
       "      <th>4</th>\n",
       "      <th>5</th>\n",
       "      <th>6</th>\n",
       "      <th>7</th>\n",
       "      <th>8</th>\n",
       "      <th>9</th>\n",
       "      <th>...</th>\n",
       "      <th>54</th>\n",
       "      <th>55</th>\n",
       "      <th>56</th>\n",
       "      <th>57</th>\n",
       "      <th>58</th>\n",
       "      <th>59</th>\n",
       "      <th>60</th>\n",
       "      <th>61</th>\n",
       "      <th>62</th>\n",
       "      <th>63</th>\n",
       "    </tr>\n",
       "  </thead>\n",
       "  <tbody>\n",
       "    <tr>\n",
       "      <th>Fact</th>\n",
       "      <td>Population estimates, July 1, 2016,  (V2016)</td>\n",
       "      <td>Population estimates base, April 1, 2010,  (V2...</td>\n",
       "      <td>Population, percent change - April 1, 2010 (es...</td>\n",
       "      <td>Population, Census, April 1, 2010</td>\n",
       "      <td>Persons under 5 years, percent, July 1, 2016, ...</td>\n",
       "      <td>Persons under 5 years, percent, April 1, 2010</td>\n",
       "      <td>Persons under 18 years, percent, July 1, 2016,...</td>\n",
       "      <td>Persons under 18 years, percent, April 1, 2010</td>\n",
       "      <td>Persons 65 years and over, percent,  July 1, 2...</td>\n",
       "      <td>Persons 65 years and over, percent, April 1, 2010</td>\n",
       "      <td>...</td>\n",
       "      <td>Total nonemployer establishments, 2015</td>\n",
       "      <td>All firms, 2012</td>\n",
       "      <td>Men-owned firms, 2012</td>\n",
       "      <td>Women-owned firms, 2012</td>\n",
       "      <td>Minority-owned firms, 2012</td>\n",
       "      <td>Nonminority-owned firms, 2012</td>\n",
       "      <td>Veteran-owned firms, 2012</td>\n",
       "      <td>Nonveteran-owned firms, 2012</td>\n",
       "      <td>Population per square mile, 2010</td>\n",
       "      <td>Land area in square miles, 2010</td>\n",
       "    </tr>\n",
       "    <tr>\n",
       "      <th>Alabama</th>\n",
       "      <td>4,863,300</td>\n",
       "      <td>4,780,131</td>\n",
       "      <td>1.70%</td>\n",
       "      <td>4,779,736</td>\n",
       "      <td>6.00%</td>\n",
       "      <td>6.40%</td>\n",
       "      <td>22.60%</td>\n",
       "      <td>23.70%</td>\n",
       "      <td>16.10%</td>\n",
       "      <td>13.80%</td>\n",
       "      <td>...</td>\n",
       "      <td>322,025</td>\n",
       "      <td>374,153</td>\n",
       "      <td>203,604</td>\n",
       "      <td>137,630</td>\n",
       "      <td>92,219</td>\n",
       "      <td>272,651</td>\n",
       "      <td>41,943</td>\n",
       "      <td>316,984</td>\n",
       "      <td>94.4</td>\n",
       "      <td>50,645.33</td>\n",
       "    </tr>\n",
       "    <tr>\n",
       "      <th>Alaska</th>\n",
       "      <td>741,894</td>\n",
       "      <td>710,249</td>\n",
       "      <td>4.50%</td>\n",
       "      <td>710,231</td>\n",
       "      <td>7.30%</td>\n",
       "      <td>7.60%</td>\n",
       "      <td>25.20%</td>\n",
       "      <td>26.40%</td>\n",
       "      <td>10.40%</td>\n",
       "      <td>7.70%</td>\n",
       "      <td>...</td>\n",
       "      <td>55,521</td>\n",
       "      <td>68,032</td>\n",
       "      <td>35,402</td>\n",
       "      <td>22,141</td>\n",
       "      <td>13,688</td>\n",
       "      <td>51,147</td>\n",
       "      <td>7,953</td>\n",
       "      <td>56,091</td>\n",
       "      <td>1.2</td>\n",
       "      <td>570,640.95</td>\n",
       "    </tr>\n",
       "    <tr>\n",
       "      <th>Arizona</th>\n",
       "      <td>6,931,071</td>\n",
       "      <td>6,392,301</td>\n",
       "      <td>8.40%</td>\n",
       "      <td>6,392,017</td>\n",
       "      <td>6.30%</td>\n",
       "      <td>7.10%</td>\n",
       "      <td>23.50%</td>\n",
       "      <td>25.50%</td>\n",
       "      <td>16.90%</td>\n",
       "      <td>13.80%</td>\n",
       "      <td>...</td>\n",
       "      <td>451,951</td>\n",
       "      <td>499,926</td>\n",
       "      <td>245,243</td>\n",
       "      <td>182,425</td>\n",
       "      <td>135,313</td>\n",
       "      <td>344,981</td>\n",
       "      <td>46,780</td>\n",
       "      <td>427,582</td>\n",
       "      <td>56.3</td>\n",
       "      <td>113,594.08</td>\n",
       "    </tr>\n",
       "  </tbody>\n",
       "</table>\n",
       "<p>4 rows × 64 columns</p>\n",
       "</div>"
      ],
      "text/plain": [
       "                                                   0   \\\n",
       "Fact     Population estimates, July 1, 2016,  (V2016)   \n",
       "Alabama                                     4,863,300   \n",
       "Alaska                                        741,894   \n",
       "Arizona                                     6,931,071   \n",
       "\n",
       "                                                        1   \\\n",
       "Fact     Population estimates base, April 1, 2010,  (V2...   \n",
       "Alabama                                          4,780,131   \n",
       "Alaska                                             710,249   \n",
       "Arizona                                          6,392,301   \n",
       "\n",
       "                                                        2   \\\n",
       "Fact     Population, percent change - April 1, 2010 (es...   \n",
       "Alabama                                              1.70%   \n",
       "Alaska                                               4.50%   \n",
       "Arizona                                              8.40%   \n",
       "\n",
       "                                        3   \\\n",
       "Fact     Population, Census, April 1, 2010   \n",
       "Alabama                          4,779,736   \n",
       "Alaska                             710,231   \n",
       "Arizona                          6,392,017   \n",
       "\n",
       "                                                        4   \\\n",
       "Fact     Persons under 5 years, percent, July 1, 2016, ...   \n",
       "Alabama                                              6.00%   \n",
       "Alaska                                               7.30%   \n",
       "Arizona                                              6.30%   \n",
       "\n",
       "                                                    5   \\\n",
       "Fact     Persons under 5 years, percent, April 1, 2010   \n",
       "Alabama                                          6.40%   \n",
       "Alaska                                           7.60%   \n",
       "Arizona                                          7.10%   \n",
       "\n",
       "                                                        6   \\\n",
       "Fact     Persons under 18 years, percent, July 1, 2016,...   \n",
       "Alabama                                             22.60%   \n",
       "Alaska                                              25.20%   \n",
       "Arizona                                             23.50%   \n",
       "\n",
       "                                                     7   \\\n",
       "Fact     Persons under 18 years, percent, April 1, 2010   \n",
       "Alabama                                          23.70%   \n",
       "Alaska                                           26.40%   \n",
       "Arizona                                          25.50%   \n",
       "\n",
       "                                                        8   \\\n",
       "Fact     Persons 65 years and over, percent,  July 1, 2...   \n",
       "Alabama                                             16.10%   \n",
       "Alaska                                              10.40%   \n",
       "Arizona                                             16.90%   \n",
       "\n",
       "                                                        9   ...  \\\n",
       "Fact     Persons 65 years and over, percent, April 1, 2010  ...   \n",
       "Alabama                                             13.80%  ...   \n",
       "Alaska                                               7.70%  ...   \n",
       "Arizona                                             13.80%  ...   \n",
       "\n",
       "                                             54               55  \\\n",
       "Fact     Total nonemployer establishments, 2015  All firms, 2012   \n",
       "Alabama                                 322,025          374,153   \n",
       "Alaska                                   55,521           68,032   \n",
       "Arizona                                 451,951          499,926   \n",
       "\n",
       "                            56                       57  \\\n",
       "Fact     Men-owned firms, 2012  Women-owned firms, 2012   \n",
       "Alabama                203,604                  137,630   \n",
       "Alaska                  35,402                   22,141   \n",
       "Arizona                245,243                  182,425   \n",
       "\n",
       "                                 58                             59  \\\n",
       "Fact     Minority-owned firms, 2012  Nonminority-owned firms, 2012   \n",
       "Alabama                      92,219                        272,651   \n",
       "Alaska                       13,688                         51,147   \n",
       "Arizona                     135,313                        344,981   \n",
       "\n",
       "                                60                            61  \\\n",
       "Fact     Veteran-owned firms, 2012  Nonveteran-owned firms, 2012   \n",
       "Alabama                     41,943                       316,984   \n",
       "Alaska                       7,953                        56,091   \n",
       "Arizona                     46,780                       427,582   \n",
       "\n",
       "                                       62                               63  \n",
       "Fact     Population per square mile, 2010  Land area in square miles, 2010  \n",
       "Alabama                              94.4                        50,645.33  \n",
       "Alaska                                1.2                       570,640.95  \n",
       "Arizona                              56.3                       113,594.08  \n",
       "\n",
       "[4 rows x 64 columns]"
      ]
     },
     "execution_count": 28,
     "metadata": {},
     "output_type": "execute_result"
    }
   ],
   "source": [
    "us_census = new_us_census.iloc[:,:64]\n",
    "us_census.head(4)"
   ]
  },
  {
   "cell_type": "code",
   "execution_count": 29,
   "id": "77fda9ef",
   "metadata": {
    "execution": {
     "iopub.execute_input": "2022-12-20T07:29:08.595085Z",
     "iopub.status.busy": "2022-12-20T07:29:08.594174Z",
     "iopub.status.idle": "2022-12-20T07:29:08.617505Z",
     "shell.execute_reply": "2022-12-20T07:29:08.616378Z"
    },
    "papermill": {
     "duration": 0.057255,
     "end_time": "2022-12-20T07:29:08.620154",
     "exception": false,
     "start_time": "2022-12-20T07:29:08.562899",
     "status": "completed"
    },
    "tags": []
   },
   "outputs": [
    {
     "data": {
      "text/html": [
       "<div>\n",
       "<style scoped>\n",
       "    .dataframe tbody tr th:only-of-type {\n",
       "        vertical-align: middle;\n",
       "    }\n",
       "\n",
       "    .dataframe tbody tr th {\n",
       "        vertical-align: top;\n",
       "    }\n",
       "\n",
       "    .dataframe thead th {\n",
       "        text-align: right;\n",
       "    }\n",
       "</style>\n",
       "<table border=\"1\" class=\"dataframe\">\n",
       "  <thead>\n",
       "    <tr style=\"text-align: right;\">\n",
       "      <th>Fact</th>\n",
       "      <th>Population estimates, July 1, 2016,  (V2016)</th>\n",
       "      <th>Population estimates base, April 1, 2010,  (V2016)</th>\n",
       "      <th>Population, percent change - April 1, 2010 (estimates base) to July 1, 2016,  (V2016)</th>\n",
       "      <th>Population, Census, April 1, 2010</th>\n",
       "      <th>Persons under 5 years, percent, July 1, 2016,  (V2016)</th>\n",
       "      <th>Persons under 5 years, percent, April 1, 2010</th>\n",
       "      <th>Persons under 18 years, percent, July 1, 2016,  (V2016)</th>\n",
       "      <th>Persons under 18 years, percent, April 1, 2010</th>\n",
       "      <th>Persons 65 years and over, percent,  July 1, 2016,  (V2016)</th>\n",
       "      <th>Persons 65 years and over, percent, April 1, 2010</th>\n",
       "      <th>...</th>\n",
       "      <th>Total nonemployer establishments, 2015</th>\n",
       "      <th>All firms, 2012</th>\n",
       "      <th>Men-owned firms, 2012</th>\n",
       "      <th>Women-owned firms, 2012</th>\n",
       "      <th>Minority-owned firms, 2012</th>\n",
       "      <th>Nonminority-owned firms, 2012</th>\n",
       "      <th>Veteran-owned firms, 2012</th>\n",
       "      <th>Nonveteran-owned firms, 2012</th>\n",
       "      <th>Population per square mile, 2010</th>\n",
       "      <th>Land area in square miles, 2010</th>\n",
       "    </tr>\n",
       "  </thead>\n",
       "  <tbody>\n",
       "    <tr>\n",
       "      <th>Fact</th>\n",
       "      <td>Population estimates, July 1, 2016,  (V2016)</td>\n",
       "      <td>Population estimates base, April 1, 2010,  (V2...</td>\n",
       "      <td>Population, percent change - April 1, 2010 (es...</td>\n",
       "      <td>Population, Census, April 1, 2010</td>\n",
       "      <td>Persons under 5 years, percent, July 1, 2016, ...</td>\n",
       "      <td>Persons under 5 years, percent, April 1, 2010</td>\n",
       "      <td>Persons under 18 years, percent, July 1, 2016,...</td>\n",
       "      <td>Persons under 18 years, percent, April 1, 2010</td>\n",
       "      <td>Persons 65 years and over, percent,  July 1, 2...</td>\n",
       "      <td>Persons 65 years and over, percent, April 1, 2010</td>\n",
       "      <td>...</td>\n",
       "      <td>Total nonemployer establishments, 2015</td>\n",
       "      <td>All firms, 2012</td>\n",
       "      <td>Men-owned firms, 2012</td>\n",
       "      <td>Women-owned firms, 2012</td>\n",
       "      <td>Minority-owned firms, 2012</td>\n",
       "      <td>Nonminority-owned firms, 2012</td>\n",
       "      <td>Veteran-owned firms, 2012</td>\n",
       "      <td>Nonveteran-owned firms, 2012</td>\n",
       "      <td>Population per square mile, 2010</td>\n",
       "      <td>Land area in square miles, 2010</td>\n",
       "    </tr>\n",
       "    <tr>\n",
       "      <th>Alabama</th>\n",
       "      <td>4,863,300</td>\n",
       "      <td>4,780,131</td>\n",
       "      <td>1.70%</td>\n",
       "      <td>4,779,736</td>\n",
       "      <td>6.00%</td>\n",
       "      <td>6.40%</td>\n",
       "      <td>22.60%</td>\n",
       "      <td>23.70%</td>\n",
       "      <td>16.10%</td>\n",
       "      <td>13.80%</td>\n",
       "      <td>...</td>\n",
       "      <td>322,025</td>\n",
       "      <td>374,153</td>\n",
       "      <td>203,604</td>\n",
       "      <td>137,630</td>\n",
       "      <td>92,219</td>\n",
       "      <td>272,651</td>\n",
       "      <td>41,943</td>\n",
       "      <td>316,984</td>\n",
       "      <td>94.4</td>\n",
       "      <td>50,645.33</td>\n",
       "    </tr>\n",
       "    <tr>\n",
       "      <th>Alaska</th>\n",
       "      <td>741,894</td>\n",
       "      <td>710,249</td>\n",
       "      <td>4.50%</td>\n",
       "      <td>710,231</td>\n",
       "      <td>7.30%</td>\n",
       "      <td>7.60%</td>\n",
       "      <td>25.20%</td>\n",
       "      <td>26.40%</td>\n",
       "      <td>10.40%</td>\n",
       "      <td>7.70%</td>\n",
       "      <td>...</td>\n",
       "      <td>55,521</td>\n",
       "      <td>68,032</td>\n",
       "      <td>35,402</td>\n",
       "      <td>22,141</td>\n",
       "      <td>13,688</td>\n",
       "      <td>51,147</td>\n",
       "      <td>7,953</td>\n",
       "      <td>56,091</td>\n",
       "      <td>1.2</td>\n",
       "      <td>570,640.95</td>\n",
       "    </tr>\n",
       "  </tbody>\n",
       "</table>\n",
       "<p>3 rows × 64 columns</p>\n",
       "</div>"
      ],
      "text/plain": [
       "Fact     Population estimates, July 1, 2016,  (V2016)  \\\n",
       "Fact     Population estimates, July 1, 2016,  (V2016)   \n",
       "Alabama                                     4,863,300   \n",
       "Alaska                                        741,894   \n",
       "\n",
       "Fact    Population estimates base, April 1, 2010,  (V2016)  \\\n",
       "Fact     Population estimates base, April 1, 2010,  (V2...   \n",
       "Alabama                                          4,780,131   \n",
       "Alaska                                             710,249   \n",
       "\n",
       "Fact    Population, percent change - April 1, 2010 (estimates base) to July 1, 2016,  (V2016)  \\\n",
       "Fact     Population, percent change - April 1, 2010 (es...                                      \n",
       "Alabama                                              1.70%                                      \n",
       "Alaska                                               4.50%                                      \n",
       "\n",
       "Fact     Population, Census, April 1, 2010  \\\n",
       "Fact     Population, Census, April 1, 2010   \n",
       "Alabama                          4,779,736   \n",
       "Alaska                             710,231   \n",
       "\n",
       "Fact    Persons under 5 years, percent, July 1, 2016,  (V2016)  \\\n",
       "Fact     Persons under 5 years, percent, July 1, 2016, ...       \n",
       "Alabama                                              6.00%       \n",
       "Alaska                                               7.30%       \n",
       "\n",
       "Fact     Persons under 5 years, percent, April 1, 2010  \\\n",
       "Fact     Persons under 5 years, percent, April 1, 2010   \n",
       "Alabama                                          6.40%   \n",
       "Alaska                                           7.60%   \n",
       "\n",
       "Fact    Persons under 18 years, percent, July 1, 2016,  (V2016)  \\\n",
       "Fact     Persons under 18 years, percent, July 1, 2016,...        \n",
       "Alabama                                             22.60%        \n",
       "Alaska                                              25.20%        \n",
       "\n",
       "Fact     Persons under 18 years, percent, April 1, 2010  \\\n",
       "Fact     Persons under 18 years, percent, April 1, 2010   \n",
       "Alabama                                          23.70%   \n",
       "Alaska                                           26.40%   \n",
       "\n",
       "Fact    Persons 65 years and over, percent,  July 1, 2016,  (V2016)  \\\n",
       "Fact     Persons 65 years and over, percent,  July 1, 2...            \n",
       "Alabama                                             16.10%            \n",
       "Alaska                                              10.40%            \n",
       "\n",
       "Fact     Persons 65 years and over, percent, April 1, 2010  ...  \\\n",
       "Fact     Persons 65 years and over, percent, April 1, 2010  ...   \n",
       "Alabama                                             13.80%  ...   \n",
       "Alaska                                               7.70%  ...   \n",
       "\n",
       "Fact     Total nonemployer establishments, 2015  All firms, 2012  \\\n",
       "Fact     Total nonemployer establishments, 2015  All firms, 2012   \n",
       "Alabama                                 322,025          374,153   \n",
       "Alaska                                   55,521           68,032   \n",
       "\n",
       "Fact     Men-owned firms, 2012  Women-owned firms, 2012  \\\n",
       "Fact     Men-owned firms, 2012  Women-owned firms, 2012   \n",
       "Alabama                203,604                  137,630   \n",
       "Alaska                  35,402                   22,141   \n",
       "\n",
       "Fact     Minority-owned firms, 2012  Nonminority-owned firms, 2012  \\\n",
       "Fact     Minority-owned firms, 2012  Nonminority-owned firms, 2012   \n",
       "Alabama                      92,219                        272,651   \n",
       "Alaska                       13,688                         51,147   \n",
       "\n",
       "Fact     Veteran-owned firms, 2012  Nonveteran-owned firms, 2012  \\\n",
       "Fact     Veteran-owned firms, 2012  Nonveteran-owned firms, 2012   \n",
       "Alabama                     41,943                       316,984   \n",
       "Alaska                       7,953                        56,091   \n",
       "\n",
       "Fact     Population per square mile, 2010  Land area in square miles, 2010  \n",
       "Fact     Population per square mile, 2010  Land area in square miles, 2010  \n",
       "Alabama                              94.4                        50,645.33  \n",
       "Alaska                                1.2                       570,640.95  \n",
       "\n",
       "[3 rows x 64 columns]"
      ]
     },
     "execution_count": 29,
     "metadata": {},
     "output_type": "execute_result"
    }
   ],
   "source": [
    "us_census.columns = us_census.iloc[0]\n",
    "us_census.head(3)"
   ]
  },
  {
   "cell_type": "code",
   "execution_count": 30,
   "id": "c8f32be6",
   "metadata": {
    "execution": {
     "iopub.execute_input": "2022-12-20T07:29:08.680607Z",
     "iopub.status.busy": "2022-12-20T07:29:08.680187Z",
     "iopub.status.idle": "2022-12-20T07:29:08.691489Z",
     "shell.execute_reply": "2022-12-20T07:29:08.690665Z"
    },
    "papermill": {
     "duration": 0.044728,
     "end_time": "2022-12-20T07:29:08.694366",
     "exception": false,
     "start_time": "2022-12-20T07:29:08.649638",
     "status": "completed"
    },
    "tags": []
   },
   "outputs": [
    {
     "name": "stderr",
     "output_type": "stream",
     "text": [
      "/opt/conda/lib/python3.7/site-packages/pandas/core/frame.py:4913: SettingWithCopyWarning: \n",
      "A value is trying to be set on a copy of a slice from a DataFrame\n",
      "\n",
      "See the caveats in the documentation: https://pandas.pydata.org/pandas-docs/stable/user_guide/indexing.html#returning-a-view-versus-a-copy\n",
      "  errors=errors,\n"
     ]
    }
   ],
   "source": [
    "us_census.drop(us_census.index[0], inplace = True)"
   ]
  },
  {
   "cell_type": "code",
   "execution_count": 31,
   "id": "238a03f5",
   "metadata": {
    "execution": {
     "iopub.execute_input": "2022-12-20T07:29:08.757542Z",
     "iopub.status.busy": "2022-12-20T07:29:08.756834Z",
     "iopub.status.idle": "2022-12-20T07:29:08.781146Z",
     "shell.execute_reply": "2022-12-20T07:29:08.779831Z"
    },
    "papermill": {
     "duration": 0.057765,
     "end_time": "2022-12-20T07:29:08.783463",
     "exception": false,
     "start_time": "2022-12-20T07:29:08.725698",
     "status": "completed"
    },
    "tags": []
   },
   "outputs": [
    {
     "data": {
      "text/html": [
       "<div>\n",
       "<style scoped>\n",
       "    .dataframe tbody tr th:only-of-type {\n",
       "        vertical-align: middle;\n",
       "    }\n",
       "\n",
       "    .dataframe tbody tr th {\n",
       "        vertical-align: top;\n",
       "    }\n",
       "\n",
       "    .dataframe thead th {\n",
       "        text-align: right;\n",
       "    }\n",
       "</style>\n",
       "<table border=\"1\" class=\"dataframe\">\n",
       "  <thead>\n",
       "    <tr style=\"text-align: right;\">\n",
       "      <th>Fact</th>\n",
       "      <th>Population estimates, July 1, 2016,  (V2016)</th>\n",
       "      <th>Population estimates base, April 1, 2010,  (V2016)</th>\n",
       "      <th>Population, percent change - April 1, 2010 (estimates base) to July 1, 2016,  (V2016)</th>\n",
       "      <th>Population, Census, April 1, 2010</th>\n",
       "      <th>Persons under 5 years, percent, July 1, 2016,  (V2016)</th>\n",
       "      <th>Persons under 5 years, percent, April 1, 2010</th>\n",
       "      <th>Persons under 18 years, percent, July 1, 2016,  (V2016)</th>\n",
       "      <th>Persons under 18 years, percent, April 1, 2010</th>\n",
       "      <th>Persons 65 years and over, percent,  July 1, 2016,  (V2016)</th>\n",
       "      <th>Persons 65 years and over, percent, April 1, 2010</th>\n",
       "      <th>...</th>\n",
       "      <th>Total nonemployer establishments, 2015</th>\n",
       "      <th>All firms, 2012</th>\n",
       "      <th>Men-owned firms, 2012</th>\n",
       "      <th>Women-owned firms, 2012</th>\n",
       "      <th>Minority-owned firms, 2012</th>\n",
       "      <th>Nonminority-owned firms, 2012</th>\n",
       "      <th>Veteran-owned firms, 2012</th>\n",
       "      <th>Nonveteran-owned firms, 2012</th>\n",
       "      <th>Population per square mile, 2010</th>\n",
       "      <th>Land area in square miles, 2010</th>\n",
       "    </tr>\n",
       "  </thead>\n",
       "  <tbody>\n",
       "    <tr>\n",
       "      <th>Alabama</th>\n",
       "      <td>4,863,300</td>\n",
       "      <td>4,780,131</td>\n",
       "      <td>1.70%</td>\n",
       "      <td>4,779,736</td>\n",
       "      <td>6.00%</td>\n",
       "      <td>6.40%</td>\n",
       "      <td>22.60%</td>\n",
       "      <td>23.70%</td>\n",
       "      <td>16.10%</td>\n",
       "      <td>13.80%</td>\n",
       "      <td>...</td>\n",
       "      <td>322,025</td>\n",
       "      <td>374,153</td>\n",
       "      <td>203,604</td>\n",
       "      <td>137,630</td>\n",
       "      <td>92,219</td>\n",
       "      <td>272,651</td>\n",
       "      <td>41,943</td>\n",
       "      <td>316,984</td>\n",
       "      <td>94.4</td>\n",
       "      <td>50,645.33</td>\n",
       "    </tr>\n",
       "    <tr>\n",
       "      <th>Alaska</th>\n",
       "      <td>741,894</td>\n",
       "      <td>710,249</td>\n",
       "      <td>4.50%</td>\n",
       "      <td>710,231</td>\n",
       "      <td>7.30%</td>\n",
       "      <td>7.60%</td>\n",
       "      <td>25.20%</td>\n",
       "      <td>26.40%</td>\n",
       "      <td>10.40%</td>\n",
       "      <td>7.70%</td>\n",
       "      <td>...</td>\n",
       "      <td>55,521</td>\n",
       "      <td>68,032</td>\n",
       "      <td>35,402</td>\n",
       "      <td>22,141</td>\n",
       "      <td>13,688</td>\n",
       "      <td>51,147</td>\n",
       "      <td>7,953</td>\n",
       "      <td>56,091</td>\n",
       "      <td>1.2</td>\n",
       "      <td>570,640.95</td>\n",
       "    </tr>\n",
       "  </tbody>\n",
       "</table>\n",
       "<p>2 rows × 64 columns</p>\n",
       "</div>"
      ],
      "text/plain": [
       "Fact    Population estimates, July 1, 2016,  (V2016)  \\\n",
       "Alabama                                    4,863,300   \n",
       "Alaska                                       741,894   \n",
       "\n",
       "Fact    Population estimates base, April 1, 2010,  (V2016)  \\\n",
       "Alabama                                          4,780,131   \n",
       "Alaska                                             710,249   \n",
       "\n",
       "Fact    Population, percent change - April 1, 2010 (estimates base) to July 1, 2016,  (V2016)  \\\n",
       "Alabama                                              1.70%                                      \n",
       "Alaska                                               4.50%                                      \n",
       "\n",
       "Fact    Population, Census, April 1, 2010  \\\n",
       "Alabama                         4,779,736   \n",
       "Alaska                            710,231   \n",
       "\n",
       "Fact    Persons under 5 years, percent, July 1, 2016,  (V2016)  \\\n",
       "Alabama                                              6.00%       \n",
       "Alaska                                               7.30%       \n",
       "\n",
       "Fact    Persons under 5 years, percent, April 1, 2010  \\\n",
       "Alabama                                         6.40%   \n",
       "Alaska                                          7.60%   \n",
       "\n",
       "Fact    Persons under 18 years, percent, July 1, 2016,  (V2016)  \\\n",
       "Alabama                                             22.60%        \n",
       "Alaska                                              25.20%        \n",
       "\n",
       "Fact    Persons under 18 years, percent, April 1, 2010  \\\n",
       "Alabama                                         23.70%   \n",
       "Alaska                                          26.40%   \n",
       "\n",
       "Fact    Persons 65 years and over, percent,  July 1, 2016,  (V2016)  \\\n",
       "Alabama                                             16.10%            \n",
       "Alaska                                              10.40%            \n",
       "\n",
       "Fact    Persons 65 years and over, percent, April 1, 2010  ...  \\\n",
       "Alabama                                            13.80%  ...   \n",
       "Alaska                                              7.70%  ...   \n",
       "\n",
       "Fact    Total nonemployer establishments, 2015 All firms, 2012  \\\n",
       "Alabama                                322,025         374,153   \n",
       "Alaska                                  55,521          68,032   \n",
       "\n",
       "Fact    Men-owned firms, 2012 Women-owned firms, 2012  \\\n",
       "Alabama               203,604                 137,630   \n",
       "Alaska                 35,402                  22,141   \n",
       "\n",
       "Fact    Minority-owned firms, 2012 Nonminority-owned firms, 2012  \\\n",
       "Alabama                     92,219                       272,651   \n",
       "Alaska                      13,688                        51,147   \n",
       "\n",
       "Fact    Veteran-owned firms, 2012 Nonveteran-owned firms, 2012  \\\n",
       "Alabama                    41,943                      316,984   \n",
       "Alaska                      7,953                       56,091   \n",
       "\n",
       "Fact    Population per square mile, 2010 Land area in square miles, 2010  \n",
       "Alabama                             94.4                       50,645.33  \n",
       "Alaska                               1.2                      570,640.95  \n",
       "\n",
       "[2 rows x 64 columns]"
      ]
     },
     "execution_count": 31,
     "metadata": {},
     "output_type": "execute_result"
    }
   ],
   "source": [
    "us_census.head(2)"
   ]
  },
  {
   "cell_type": "code",
   "execution_count": 32,
   "id": "a1b2b0c3",
   "metadata": {
    "execution": {
     "iopub.execute_input": "2022-12-20T07:29:08.845418Z",
     "iopub.status.busy": "2022-12-20T07:29:08.844983Z",
     "iopub.status.idle": "2022-12-20T07:29:08.852400Z",
     "shell.execute_reply": "2022-12-20T07:29:08.851237Z"
    },
    "papermill": {
     "duration": 0.041353,
     "end_time": "2022-12-20T07:29:08.854761",
     "exception": false,
     "start_time": "2022-12-20T07:29:08.813408",
     "status": "completed"
    },
    "tags": []
   },
   "outputs": [
    {
     "data": {
      "text/plain": [
       "Index(['Alabama', 'Alaska', 'Arizona', 'Arkansas', 'California', 'Colorado',\n",
       "       'Connecticut', 'Delaware', 'Florida', 'Georgia', 'Hawaii', 'Idaho',\n",
       "       'Illinois', 'Indiana', 'Iowa', 'Kansas', 'Kentucky', 'Louisiana',\n",
       "       'Maine', 'Maryland', 'Massachusetts', 'Michigan', 'Minnesota',\n",
       "       'Mississippi', 'Missouri', 'Montana', 'Nebraska', 'Nevada',\n",
       "       'New Hampshire', 'New Jersey', 'New Mexico', 'New York',\n",
       "       'North Carolina', 'North Dakota', 'Ohio', 'Oklahoma', 'Oregon',\n",
       "       'Pennsylvania', 'Rhode Island', 'South Carolina', 'South Dakota',\n",
       "       'Tennessee', 'Texas', 'Utah', 'Vermont', 'Virginia', 'Washington',\n",
       "       'West Virginia', 'Wisconsin', 'Wyoming'],\n",
       "      dtype='object')"
      ]
     },
     "execution_count": 32,
     "metadata": {},
     "output_type": "execute_result"
    }
   ],
   "source": [
    "us_census.index"
   ]
  },
  {
   "cell_type": "code",
   "execution_count": 33,
   "id": "01f15e8e",
   "metadata": {
    "execution": {
     "iopub.execute_input": "2022-12-20T07:29:08.917304Z",
     "iopub.status.busy": "2022-12-20T07:29:08.916877Z",
     "iopub.status.idle": "2022-12-20T07:29:08.923961Z",
     "shell.execute_reply": "2022-12-20T07:29:08.922786Z"
    },
    "papermill": {
     "duration": 0.041013,
     "end_time": "2022-12-20T07:29:08.926494",
     "exception": false,
     "start_time": "2022-12-20T07:29:08.885481",
     "status": "completed"
    },
    "tags": []
   },
   "outputs": [
    {
     "data": {
      "text/plain": [
       "50"
      ]
     },
     "execution_count": 33,
     "metadata": {},
     "output_type": "execute_result"
    }
   ],
   "source": [
    "len(us_census.index)"
   ]
  },
  {
   "cell_type": "code",
   "execution_count": 34,
   "id": "88732dd7",
   "metadata": {
    "execution": {
     "iopub.execute_input": "2022-12-20T07:29:08.989618Z",
     "iopub.status.busy": "2022-12-20T07:29:08.989202Z",
     "iopub.status.idle": "2022-12-20T07:29:08.995941Z",
     "shell.execute_reply": "2022-12-20T07:29:08.994761Z"
    },
    "papermill": {
     "duration": 0.040799,
     "end_time": "2022-12-20T07:29:08.998445",
     "exception": false,
     "start_time": "2022-12-20T07:29:08.957646",
     "status": "completed"
    },
    "tags": []
   },
   "outputs": [],
   "source": [
    "us_census.reset_index(inplace = True)"
   ]
  },
  {
   "cell_type": "markdown",
   "id": "e4cb2731",
   "metadata": {
    "papermill": {
     "duration": 0.03039,
     "end_time": "2022-12-20T07:29:09.059312",
     "exception": false,
     "start_time": "2022-12-20T07:29:09.028922",
     "status": "completed"
    },
    "tags": []
   },
   "source": [
    "### Renaming Column name"
   ]
  },
  {
   "cell_type": "code",
   "execution_count": 35,
   "id": "4867ba01",
   "metadata": {
    "execution": {
     "iopub.execute_input": "2022-12-20T07:29:09.121478Z",
     "iopub.status.busy": "2022-12-20T07:29:09.121018Z",
     "iopub.status.idle": "2022-12-20T07:29:09.128804Z",
     "shell.execute_reply": "2022-12-20T07:29:09.127662Z"
    },
    "papermill": {
     "duration": 0.041801,
     "end_time": "2022-12-20T07:29:09.131199",
     "exception": false,
     "start_time": "2022-12-20T07:29:09.089398",
     "status": "completed"
    },
    "tags": []
   },
   "outputs": [
    {
     "data": {
      "text/plain": [
       "Index(['index', 'Population estimates, July 1, 2016,  (V2016)',\n",
       "       'Population estimates base, April 1, 2010,  (V2016)',\n",
       "       'Population, percent change - April 1, 2010 (estimates base) to July 1, 2016,  (V2016)',\n",
       "       'Population, Census, April 1, 2010'],\n",
       "      dtype='object', name='Fact')"
      ]
     },
     "execution_count": 35,
     "metadata": {},
     "output_type": "execute_result"
    }
   ],
   "source": [
    "us_census.columns[:5]"
   ]
  },
  {
   "cell_type": "code",
   "execution_count": 36,
   "id": "b2eb0d32",
   "metadata": {
    "execution": {
     "iopub.execute_input": "2022-12-20T07:29:09.193148Z",
     "iopub.status.busy": "2022-12-20T07:29:09.192748Z",
     "iopub.status.idle": "2022-12-20T07:29:09.199806Z",
     "shell.execute_reply": "2022-12-20T07:29:09.198460Z"
    },
    "papermill": {
     "duration": 0.040776,
     "end_time": "2022-12-20T07:29:09.202143",
     "exception": false,
     "start_time": "2022-12-20T07:29:09.161367",
     "status": "completed"
    },
    "tags": []
   },
   "outputs": [
    {
     "name": "stderr",
     "output_type": "stream",
     "text": [
      "/opt/conda/lib/python3.7/site-packages/pandas/core/frame.py:5047: SettingWithCopyWarning: \n",
      "A value is trying to be set on a copy of a slice from a DataFrame\n",
      "\n",
      "See the caveats in the documentation: https://pandas.pydata.org/pandas-docs/stable/user_guide/indexing.html#returning-a-view-versus-a-copy\n",
      "  errors=errors,\n"
     ]
    }
   ],
   "source": [
    "us_census.rename(columns = {'index': 'state'}, inplace = True, errors='ignore' )"
   ]
  },
  {
   "cell_type": "code",
   "execution_count": 37,
   "id": "8e97109e",
   "metadata": {
    "execution": {
     "iopub.execute_input": "2022-12-20T07:29:09.265397Z",
     "iopub.status.busy": "2022-12-20T07:29:09.264974Z",
     "iopub.status.idle": "2022-12-20T07:29:09.288109Z",
     "shell.execute_reply": "2022-12-20T07:29:09.286838Z"
    },
    "papermill": {
     "duration": 0.05763,
     "end_time": "2022-12-20T07:29:09.290504",
     "exception": false,
     "start_time": "2022-12-20T07:29:09.232874",
     "status": "completed"
    },
    "tags": []
   },
   "outputs": [
    {
     "data": {
      "text/html": [
       "<div>\n",
       "<style scoped>\n",
       "    .dataframe tbody tr th:only-of-type {\n",
       "        vertical-align: middle;\n",
       "    }\n",
       "\n",
       "    .dataframe tbody tr th {\n",
       "        vertical-align: top;\n",
       "    }\n",
       "\n",
       "    .dataframe thead th {\n",
       "        text-align: right;\n",
       "    }\n",
       "</style>\n",
       "<table border=\"1\" class=\"dataframe\">\n",
       "  <thead>\n",
       "    <tr style=\"text-align: right;\">\n",
       "      <th>Fact</th>\n",
       "      <th>state</th>\n",
       "      <th>Population estimates, July 1, 2016,  (V2016)</th>\n",
       "      <th>Population estimates base, April 1, 2010,  (V2016)</th>\n",
       "      <th>Population, percent change - April 1, 2010 (estimates base) to July 1, 2016,  (V2016)</th>\n",
       "      <th>Population, Census, April 1, 2010</th>\n",
       "      <th>Persons under 5 years, percent, July 1, 2016,  (V2016)</th>\n",
       "      <th>Persons under 5 years, percent, April 1, 2010</th>\n",
       "      <th>Persons under 18 years, percent, July 1, 2016,  (V2016)</th>\n",
       "      <th>Persons under 18 years, percent, April 1, 2010</th>\n",
       "      <th>Persons 65 years and over, percent,  July 1, 2016,  (V2016)</th>\n",
       "      <th>...</th>\n",
       "      <th>Total nonemployer establishments, 2015</th>\n",
       "      <th>All firms, 2012</th>\n",
       "      <th>Men-owned firms, 2012</th>\n",
       "      <th>Women-owned firms, 2012</th>\n",
       "      <th>Minority-owned firms, 2012</th>\n",
       "      <th>Nonminority-owned firms, 2012</th>\n",
       "      <th>Veteran-owned firms, 2012</th>\n",
       "      <th>Nonveteran-owned firms, 2012</th>\n",
       "      <th>Population per square mile, 2010</th>\n",
       "      <th>Land area in square miles, 2010</th>\n",
       "    </tr>\n",
       "  </thead>\n",
       "  <tbody>\n",
       "    <tr>\n",
       "      <th>0</th>\n",
       "      <td>Alabama</td>\n",
       "      <td>4,863,300</td>\n",
       "      <td>4,780,131</td>\n",
       "      <td>1.70%</td>\n",
       "      <td>4,779,736</td>\n",
       "      <td>6.00%</td>\n",
       "      <td>6.40%</td>\n",
       "      <td>22.60%</td>\n",
       "      <td>23.70%</td>\n",
       "      <td>16.10%</td>\n",
       "      <td>...</td>\n",
       "      <td>322,025</td>\n",
       "      <td>374,153</td>\n",
       "      <td>203,604</td>\n",
       "      <td>137,630</td>\n",
       "      <td>92,219</td>\n",
       "      <td>272,651</td>\n",
       "      <td>41,943</td>\n",
       "      <td>316,984</td>\n",
       "      <td>94.4</td>\n",
       "      <td>50,645.33</td>\n",
       "    </tr>\n",
       "    <tr>\n",
       "      <th>1</th>\n",
       "      <td>Alaska</td>\n",
       "      <td>741,894</td>\n",
       "      <td>710,249</td>\n",
       "      <td>4.50%</td>\n",
       "      <td>710,231</td>\n",
       "      <td>7.30%</td>\n",
       "      <td>7.60%</td>\n",
       "      <td>25.20%</td>\n",
       "      <td>26.40%</td>\n",
       "      <td>10.40%</td>\n",
       "      <td>...</td>\n",
       "      <td>55,521</td>\n",
       "      <td>68,032</td>\n",
       "      <td>35,402</td>\n",
       "      <td>22,141</td>\n",
       "      <td>13,688</td>\n",
       "      <td>51,147</td>\n",
       "      <td>7,953</td>\n",
       "      <td>56,091</td>\n",
       "      <td>1.2</td>\n",
       "      <td>570,640.95</td>\n",
       "    </tr>\n",
       "  </tbody>\n",
       "</table>\n",
       "<p>2 rows × 65 columns</p>\n",
       "</div>"
      ],
      "text/plain": [
       "Fact    state Population estimates, July 1, 2016,  (V2016)  \\\n",
       "0     Alabama                                    4,863,300   \n",
       "1      Alaska                                      741,894   \n",
       "\n",
       "Fact Population estimates base, April 1, 2010,  (V2016)  \\\n",
       "0                                             4,780,131   \n",
       "1                                               710,249   \n",
       "\n",
       "Fact Population, percent change - April 1, 2010 (estimates base) to July 1, 2016,  (V2016)  \\\n",
       "0                                                 1.70%                                      \n",
       "1                                                 4.50%                                      \n",
       "\n",
       "Fact Population, Census, April 1, 2010  \\\n",
       "0                            4,779,736   \n",
       "1                              710,231   \n",
       "\n",
       "Fact Persons under 5 years, percent, July 1, 2016,  (V2016)  \\\n",
       "0                                                 6.00%       \n",
       "1                                                 7.30%       \n",
       "\n",
       "Fact Persons under 5 years, percent, April 1, 2010  \\\n",
       "0                                            6.40%   \n",
       "1                                            7.60%   \n",
       "\n",
       "Fact Persons under 18 years, percent, July 1, 2016,  (V2016)  \\\n",
       "0                                                22.60%        \n",
       "1                                                25.20%        \n",
       "\n",
       "Fact Persons under 18 years, percent, April 1, 2010  \\\n",
       "0                                            23.70%   \n",
       "1                                            26.40%   \n",
       "\n",
       "Fact Persons 65 years and over, percent,  July 1, 2016,  (V2016)  ...  \\\n",
       "0                                                16.10%           ...   \n",
       "1                                                10.40%           ...   \n",
       "\n",
       "Fact Total nonemployer establishments, 2015 All firms, 2012  \\\n",
       "0                                   322,025         374,153   \n",
       "1                                    55,521          68,032   \n",
       "\n",
       "Fact Men-owned firms, 2012 Women-owned firms, 2012 Minority-owned firms, 2012  \\\n",
       "0                  203,604                 137,630                     92,219   \n",
       "1                   35,402                  22,141                     13,688   \n",
       "\n",
       "Fact Nonminority-owned firms, 2012 Veteran-owned firms, 2012  \\\n",
       "0                          272,651                    41,943   \n",
       "1                           51,147                     7,953   \n",
       "\n",
       "Fact Nonveteran-owned firms, 2012 Population per square mile, 2010  \\\n",
       "0                         316,984                             94.4   \n",
       "1                          56,091                              1.2   \n",
       "\n",
       "Fact Land area in square miles, 2010  \n",
       "0                          50,645.33  \n",
       "1                         570,640.95  \n",
       "\n",
       "[2 rows x 65 columns]"
      ]
     },
     "execution_count": 37,
     "metadata": {},
     "output_type": "execute_result"
    }
   ],
   "source": [
    "us_census.head(2)"
   ]
  },
  {
   "cell_type": "code",
   "execution_count": 38,
   "id": "0978be50",
   "metadata": {
    "execution": {
     "iopub.execute_input": "2022-12-20T07:29:09.353507Z",
     "iopub.status.busy": "2022-12-20T07:29:09.353124Z",
     "iopub.status.idle": "2022-12-20T07:29:09.358025Z",
     "shell.execute_reply": "2022-12-20T07:29:09.356880Z"
    },
    "papermill": {
     "duration": 0.039155,
     "end_time": "2022-12-20T07:29:09.360369",
     "exception": false,
     "start_time": "2022-12-20T07:29:09.321214",
     "status": "completed"
    },
    "tags": []
   },
   "outputs": [],
   "source": [
    "## can aslo be used for pivoting\n",
    "#pd.wide_to_long(us_census, i = us_states, )\n",
    "# new = us_census.pivot(index = us_states, columns = new_col)\n",
    "# new.head(5)"
   ]
  },
  {
   "cell_type": "code",
   "execution_count": 39,
   "id": "32ab8bbf",
   "metadata": {
    "execution": {
     "iopub.execute_input": "2022-12-20T07:29:09.423882Z",
     "iopub.status.busy": "2022-12-20T07:29:09.423516Z",
     "iopub.status.idle": "2022-12-20T07:29:09.430615Z",
     "shell.execute_reply": "2022-12-20T07:29:09.429521Z"
    },
    "papermill": {
     "duration": 0.042063,
     "end_time": "2022-12-20T07:29:09.432921",
     "exception": false,
     "start_time": "2022-12-20T07:29:09.390858",
     "status": "completed"
    },
    "tags": []
   },
   "outputs": [
    {
     "data": {
      "text/plain": [
       "50"
      ]
     },
     "execution_count": 39,
     "metadata": {},
     "output_type": "execute_result"
    }
   ],
   "source": [
    "us_census['state'].count()"
   ]
  },
  {
   "cell_type": "code",
   "execution_count": 40,
   "id": "e4f0c8d4",
   "metadata": {
    "execution": {
     "iopub.execute_input": "2022-12-20T07:29:09.496706Z",
     "iopub.status.busy": "2022-12-20T07:29:09.496297Z",
     "iopub.status.idle": "2022-12-20T07:29:09.523717Z",
     "shell.execute_reply": "2022-12-20T07:29:09.522490Z"
    },
    "papermill": {
     "duration": 0.062461,
     "end_time": "2022-12-20T07:29:09.525984",
     "exception": false,
     "start_time": "2022-12-20T07:29:09.463523",
     "status": "completed"
    },
    "tags": []
   },
   "outputs": [
    {
     "data": {
      "text/html": [
       "<div>\n",
       "<style scoped>\n",
       "    .dataframe tbody tr th:only-of-type {\n",
       "        vertical-align: middle;\n",
       "    }\n",
       "\n",
       "    .dataframe tbody tr th {\n",
       "        vertical-align: top;\n",
       "    }\n",
       "\n",
       "    .dataframe thead th {\n",
       "        text-align: right;\n",
       "    }\n",
       "</style>\n",
       "<table border=\"1\" class=\"dataframe\">\n",
       "  <thead>\n",
       "    <tr style=\"text-align: right;\">\n",
       "      <th></th>\n",
       "      <th>month</th>\n",
       "      <th>state</th>\n",
       "      <th>permit</th>\n",
       "      <th>permit_recheck</th>\n",
       "      <th>handgun</th>\n",
       "      <th>long_gun</th>\n",
       "      <th>other</th>\n",
       "      <th>multiple</th>\n",
       "      <th>admin</th>\n",
       "      <th>prepawn_handgun</th>\n",
       "      <th>...</th>\n",
       "      <th>returned_other</th>\n",
       "      <th>rentals_handgun</th>\n",
       "      <th>rentals_long_gun</th>\n",
       "      <th>private_sale_handgun</th>\n",
       "      <th>private_sale_long_gun</th>\n",
       "      <th>private_sale_other</th>\n",
       "      <th>return_to_seller_handgun</th>\n",
       "      <th>return_to_seller_long_gun</th>\n",
       "      <th>return_to_seller_other</th>\n",
       "      <th>totals</th>\n",
       "    </tr>\n",
       "  </thead>\n",
       "  <tbody>\n",
       "    <tr>\n",
       "      <th>0</th>\n",
       "      <td>2017-09</td>\n",
       "      <td>Alabama</td>\n",
       "      <td>16717.0</td>\n",
       "      <td>0.0</td>\n",
       "      <td>5734.0</td>\n",
       "      <td>6320.0</td>\n",
       "      <td>221.0</td>\n",
       "      <td>317</td>\n",
       "      <td>0.0</td>\n",
       "      <td>15.0</td>\n",
       "      <td>...</td>\n",
       "      <td>0.0</td>\n",
       "      <td>0.0</td>\n",
       "      <td>0.0</td>\n",
       "      <td>9.0</td>\n",
       "      <td>16.0</td>\n",
       "      <td>3.0</td>\n",
       "      <td>0.0</td>\n",
       "      <td>0.0</td>\n",
       "      <td>3.0</td>\n",
       "      <td>32019</td>\n",
       "    </tr>\n",
       "    <tr>\n",
       "      <th>1</th>\n",
       "      <td>2017-09</td>\n",
       "      <td>Alaska</td>\n",
       "      <td>209.0</td>\n",
       "      <td>2.0</td>\n",
       "      <td>2320.0</td>\n",
       "      <td>2930.0</td>\n",
       "      <td>219.0</td>\n",
       "      <td>160</td>\n",
       "      <td>0.0</td>\n",
       "      <td>5.0</td>\n",
       "      <td>...</td>\n",
       "      <td>0.0</td>\n",
       "      <td>0.0</td>\n",
       "      <td>0.0</td>\n",
       "      <td>17.0</td>\n",
       "      <td>24.0</td>\n",
       "      <td>1.0</td>\n",
       "      <td>0.0</td>\n",
       "      <td>0.0</td>\n",
       "      <td>0.0</td>\n",
       "      <td>6303</td>\n",
       "    </tr>\n",
       "  </tbody>\n",
       "</table>\n",
       "<p>2 rows × 27 columns</p>\n",
       "</div>"
      ],
      "text/plain": [
       "     month    state   permit  permit_recheck  handgun  long_gun  other  \\\n",
       "0  2017-09  Alabama  16717.0             0.0   5734.0    6320.0  221.0   \n",
       "1  2017-09   Alaska    209.0             2.0   2320.0    2930.0  219.0   \n",
       "\n",
       "   multiple  admin  prepawn_handgun  ...  returned_other  rentals_handgun  \\\n",
       "0       317    0.0             15.0  ...             0.0              0.0   \n",
       "1       160    0.0              5.0  ...             0.0              0.0   \n",
       "\n",
       "   rentals_long_gun  private_sale_handgun  private_sale_long_gun  \\\n",
       "0               0.0                   9.0                   16.0   \n",
       "1               0.0                  17.0                   24.0   \n",
       "\n",
       "   private_sale_other  return_to_seller_handgun  return_to_seller_long_gun  \\\n",
       "0                 3.0                       0.0                        0.0   \n",
       "1                 1.0                       0.0                        0.0   \n",
       "\n",
       "   return_to_seller_other  totals  \n",
       "0                     3.0   32019  \n",
       "1                     0.0    6303  \n",
       "\n",
       "[2 rows x 27 columns]"
      ]
     },
     "execution_count": 40,
     "metadata": {},
     "output_type": "execute_result"
    }
   ],
   "source": [
    "gun_data.head(2)"
   ]
  },
  {
   "cell_type": "code",
   "execution_count": 41,
   "id": "c5f58316",
   "metadata": {
    "execution": {
     "iopub.execute_input": "2022-12-20T07:29:09.590109Z",
     "iopub.status.busy": "2022-12-20T07:29:09.589199Z",
     "iopub.status.idle": "2022-12-20T07:29:09.611074Z",
     "shell.execute_reply": "2022-12-20T07:29:09.609951Z"
    },
    "papermill": {
     "duration": 0.056431,
     "end_time": "2022-12-20T07:29:09.613411",
     "exception": false,
     "start_time": "2022-12-20T07:29:09.556980",
     "status": "completed"
    },
    "tags": []
   },
   "outputs": [
    {
     "data": {
      "text/html": [
       "<div>\n",
       "<style scoped>\n",
       "    .dataframe tbody tr th:only-of-type {\n",
       "        vertical-align: middle;\n",
       "    }\n",
       "\n",
       "    .dataframe tbody tr th {\n",
       "        vertical-align: top;\n",
       "    }\n",
       "\n",
       "    .dataframe thead th {\n",
       "        text-align: right;\n",
       "    }\n",
       "</style>\n",
       "<table border=\"1\" class=\"dataframe\">\n",
       "  <thead>\n",
       "    <tr style=\"text-align: right;\">\n",
       "      <th>Fact</th>\n",
       "      <th>state</th>\n",
       "      <th>Population estimates, July 1, 2016,  (V2016)</th>\n",
       "      <th>Population estimates base, April 1, 2010,  (V2016)</th>\n",
       "      <th>Population, percent change - April 1, 2010 (estimates base) to July 1, 2016,  (V2016)</th>\n",
       "      <th>Population, Census, April 1, 2010</th>\n",
       "      <th>Persons under 5 years, percent, July 1, 2016,  (V2016)</th>\n",
       "      <th>Persons under 5 years, percent, April 1, 2010</th>\n",
       "      <th>Persons under 18 years, percent, July 1, 2016,  (V2016)</th>\n",
       "      <th>Persons under 18 years, percent, April 1, 2010</th>\n",
       "      <th>Persons 65 years and over, percent,  July 1, 2016,  (V2016)</th>\n",
       "      <th>...</th>\n",
       "      <th>Total nonemployer establishments, 2015</th>\n",
       "      <th>All firms, 2012</th>\n",
       "      <th>Men-owned firms, 2012</th>\n",
       "      <th>Women-owned firms, 2012</th>\n",
       "      <th>Minority-owned firms, 2012</th>\n",
       "      <th>Nonminority-owned firms, 2012</th>\n",
       "      <th>Veteran-owned firms, 2012</th>\n",
       "      <th>Nonveteran-owned firms, 2012</th>\n",
       "      <th>Population per square mile, 2010</th>\n",
       "      <th>Land area in square miles, 2010</th>\n",
       "    </tr>\n",
       "  </thead>\n",
       "  <tbody>\n",
       "    <tr>\n",
       "      <th>0</th>\n",
       "      <td>Alabama</td>\n",
       "      <td>4,863,300</td>\n",
       "      <td>4,780,131</td>\n",
       "      <td>1.70%</td>\n",
       "      <td>4,779,736</td>\n",
       "      <td>6.00%</td>\n",
       "      <td>6.40%</td>\n",
       "      <td>22.60%</td>\n",
       "      <td>23.70%</td>\n",
       "      <td>16.10%</td>\n",
       "      <td>...</td>\n",
       "      <td>322,025</td>\n",
       "      <td>374,153</td>\n",
       "      <td>203,604</td>\n",
       "      <td>137,630</td>\n",
       "      <td>92,219</td>\n",
       "      <td>272,651</td>\n",
       "      <td>41,943</td>\n",
       "      <td>316,984</td>\n",
       "      <td>94.4</td>\n",
       "      <td>50,645.33</td>\n",
       "    </tr>\n",
       "    <tr>\n",
       "      <th>1</th>\n",
       "      <td>Alaska</td>\n",
       "      <td>741,894</td>\n",
       "      <td>710,249</td>\n",
       "      <td>4.50%</td>\n",
       "      <td>710,231</td>\n",
       "      <td>7.30%</td>\n",
       "      <td>7.60%</td>\n",
       "      <td>25.20%</td>\n",
       "      <td>26.40%</td>\n",
       "      <td>10.40%</td>\n",
       "      <td>...</td>\n",
       "      <td>55,521</td>\n",
       "      <td>68,032</td>\n",
       "      <td>35,402</td>\n",
       "      <td>22,141</td>\n",
       "      <td>13,688</td>\n",
       "      <td>51,147</td>\n",
       "      <td>7,953</td>\n",
       "      <td>56,091</td>\n",
       "      <td>1.2</td>\n",
       "      <td>570,640.95</td>\n",
       "    </tr>\n",
       "  </tbody>\n",
       "</table>\n",
       "<p>2 rows × 65 columns</p>\n",
       "</div>"
      ],
      "text/plain": [
       "Fact    state Population estimates, July 1, 2016,  (V2016)  \\\n",
       "0     Alabama                                    4,863,300   \n",
       "1      Alaska                                      741,894   \n",
       "\n",
       "Fact Population estimates base, April 1, 2010,  (V2016)  \\\n",
       "0                                             4,780,131   \n",
       "1                                               710,249   \n",
       "\n",
       "Fact Population, percent change - April 1, 2010 (estimates base) to July 1, 2016,  (V2016)  \\\n",
       "0                                                 1.70%                                      \n",
       "1                                                 4.50%                                      \n",
       "\n",
       "Fact Population, Census, April 1, 2010  \\\n",
       "0                            4,779,736   \n",
       "1                              710,231   \n",
       "\n",
       "Fact Persons under 5 years, percent, July 1, 2016,  (V2016)  \\\n",
       "0                                                 6.00%       \n",
       "1                                                 7.30%       \n",
       "\n",
       "Fact Persons under 5 years, percent, April 1, 2010  \\\n",
       "0                                            6.40%   \n",
       "1                                            7.60%   \n",
       "\n",
       "Fact Persons under 18 years, percent, July 1, 2016,  (V2016)  \\\n",
       "0                                                22.60%        \n",
       "1                                                25.20%        \n",
       "\n",
       "Fact Persons under 18 years, percent, April 1, 2010  \\\n",
       "0                                            23.70%   \n",
       "1                                            26.40%   \n",
       "\n",
       "Fact Persons 65 years and over, percent,  July 1, 2016,  (V2016)  ...  \\\n",
       "0                                                16.10%           ...   \n",
       "1                                                10.40%           ...   \n",
       "\n",
       "Fact Total nonemployer establishments, 2015 All firms, 2012  \\\n",
       "0                                   322,025         374,153   \n",
       "1                                    55,521          68,032   \n",
       "\n",
       "Fact Men-owned firms, 2012 Women-owned firms, 2012 Minority-owned firms, 2012  \\\n",
       "0                  203,604                 137,630                     92,219   \n",
       "1                   35,402                  22,141                     13,688   \n",
       "\n",
       "Fact Nonminority-owned firms, 2012 Veteran-owned firms, 2012  \\\n",
       "0                          272,651                    41,943   \n",
       "1                           51,147                     7,953   \n",
       "\n",
       "Fact Nonveteran-owned firms, 2012 Population per square mile, 2010  \\\n",
       "0                         316,984                             94.4   \n",
       "1                          56,091                              1.2   \n",
       "\n",
       "Fact Land area in square miles, 2010  \n",
       "0                          50,645.33  \n",
       "1                         570,640.95  \n",
       "\n",
       "[2 rows x 65 columns]"
      ]
     },
     "execution_count": 41,
     "metadata": {},
     "output_type": "execute_result"
    }
   ],
   "source": [
    "us_census.head(2)"
   ]
  },
  {
   "cell_type": "code",
   "execution_count": 42,
   "id": "5b761230",
   "metadata": {
    "execution": {
     "iopub.execute_input": "2022-12-20T07:29:09.678251Z",
     "iopub.status.busy": "2022-12-20T07:29:09.677590Z",
     "iopub.status.idle": "2022-12-20T07:29:09.686171Z",
     "shell.execute_reply": "2022-12-20T07:29:09.685096Z"
    },
    "papermill": {
     "duration": 0.043754,
     "end_time": "2022-12-20T07:29:09.688352",
     "exception": false,
     "start_time": "2022-12-20T07:29:09.644598",
     "status": "completed"
    },
    "tags": []
   },
   "outputs": [
    {
     "data": {
      "text/plain": [
       "month                         object\n",
       "state                         object\n",
       "permit                       float64\n",
       "permit_recheck               float64\n",
       "handgun                      float64\n",
       "long_gun                     float64\n",
       "other                        float64\n",
       "multiple                       int64\n",
       "admin                        float64\n",
       "prepawn_handgun              float64\n",
       "prepawn_long_gun             float64\n",
       "prepawn_other                float64\n",
       "redemption_handgun           float64\n",
       "redemption_long_gun          float64\n",
       "redemption_other             float64\n",
       "returned_handgun             float64\n",
       "returned_long_gun            float64\n",
       "returned_other               float64\n",
       "rentals_handgun              float64\n",
       "rentals_long_gun             float64\n",
       "private_sale_handgun         float64\n",
       "private_sale_long_gun        float64\n",
       "private_sale_other           float64\n",
       "return_to_seller_handgun     float64\n",
       "return_to_seller_long_gun    float64\n",
       "return_to_seller_other       float64\n",
       "totals                         int64\n",
       "dtype: object"
      ]
     },
     "execution_count": 42,
     "metadata": {},
     "output_type": "execute_result"
    }
   ],
   "source": [
    "gun_data.dtypes"
   ]
  },
  {
   "cell_type": "code",
   "execution_count": 43,
   "id": "24504742",
   "metadata": {
    "execution": {
     "iopub.execute_input": "2022-12-20T07:29:09.753194Z",
     "iopub.status.busy": "2022-12-20T07:29:09.752535Z",
     "iopub.status.idle": "2022-12-20T07:29:09.761501Z",
     "shell.execute_reply": "2022-12-20T07:29:09.760386Z"
    },
    "papermill": {
     "duration": 0.043886,
     "end_time": "2022-12-20T07:29:09.763675",
     "exception": false,
     "start_time": "2022-12-20T07:29:09.719789",
     "status": "completed"
    },
    "tags": []
   },
   "outputs": [
    {
     "data": {
      "text/plain": [
       "Fact\n",
       "state                                                                                    object\n",
       "Population estimates, July 1, 2016,  (V2016)                                             object\n",
       "Population estimates base, April 1, 2010,  (V2016)                                       object\n",
       "Population, percent change - April 1, 2010 (estimates base) to July 1, 2016,  (V2016)    object\n",
       "Population, Census, April 1, 2010                                                        object\n",
       "                                                                                          ...  \n",
       "Nonminority-owned firms, 2012                                                            object\n",
       "Veteran-owned firms, 2012                                                                object\n",
       "Nonveteran-owned firms, 2012                                                             object\n",
       "Population per square mile, 2010                                                         object\n",
       "Land area in square miles, 2010                                                          object\n",
       "Length: 65, dtype: object"
      ]
     },
     "execution_count": 43,
     "metadata": {},
     "output_type": "execute_result"
    }
   ],
   "source": [
    "us_census.dtypes"
   ]
  },
  {
   "cell_type": "code",
   "execution_count": 44,
   "id": "a45c9bea",
   "metadata": {
    "execution": {
     "iopub.execute_input": "2022-12-20T07:29:09.828700Z",
     "iopub.status.busy": "2022-12-20T07:29:09.828059Z",
     "iopub.status.idle": "2022-12-20T07:29:09.836066Z",
     "shell.execute_reply": "2022-12-20T07:29:09.835121Z"
    },
    "papermill": {
     "duration": 0.042963,
     "end_time": "2022-12-20T07:29:09.838177",
     "exception": false,
     "start_time": "2022-12-20T07:29:09.795214",
     "status": "completed"
    },
    "tags": []
   },
   "outputs": [
    {
     "data": {
      "text/plain": [
       "0              Alabama\n",
       "1               Alaska\n",
       "2              Arizona\n",
       "3             Arkansas\n",
       "4           California\n",
       "             ...      \n",
       "12480         Virginia\n",
       "12481       Washington\n",
       "12482    West Virginia\n",
       "12483        Wisconsin\n",
       "12484          Wyoming\n",
       "Name: state, Length: 12485, dtype: object"
      ]
     },
     "execution_count": 44,
     "metadata": {},
     "output_type": "execute_result"
    }
   ],
   "source": [
    "gun_data['state']"
   ]
  },
  {
   "cell_type": "code",
   "execution_count": 45,
   "id": "1461c11c",
   "metadata": {
    "execution": {
     "iopub.execute_input": "2022-12-20T07:29:09.904925Z",
     "iopub.status.busy": "2022-12-20T07:29:09.903870Z",
     "iopub.status.idle": "2022-12-20T07:29:09.912000Z",
     "shell.execute_reply": "2022-12-20T07:29:09.911096Z"
    },
    "papermill": {
     "duration": 0.0436,
     "end_time": "2022-12-20T07:29:09.914073",
     "exception": false,
     "start_time": "2022-12-20T07:29:09.870473",
     "status": "completed"
    },
    "tags": []
   },
   "outputs": [
    {
     "data": {
      "text/plain": [
       "0            Alabama\n",
       "1             Alaska\n",
       "2            Arizona\n",
       "3           Arkansas\n",
       "4         California\n",
       "5           Colorado\n",
       "6        Connecticut\n",
       "7           Delaware\n",
       "8            Florida\n",
       "9            Georgia\n",
       "10            Hawaii\n",
       "11             Idaho\n",
       "12          Illinois\n",
       "13           Indiana\n",
       "14              Iowa\n",
       "15            Kansas\n",
       "16          Kentucky\n",
       "17         Louisiana\n",
       "18             Maine\n",
       "19          Maryland\n",
       "20     Massachusetts\n",
       "21          Michigan\n",
       "22         Minnesota\n",
       "23       Mississippi\n",
       "24          Missouri\n",
       "25           Montana\n",
       "26          Nebraska\n",
       "27            Nevada\n",
       "28     New Hampshire\n",
       "29        New Jersey\n",
       "30        New Mexico\n",
       "31          New York\n",
       "32    North Carolina\n",
       "33      North Dakota\n",
       "34              Ohio\n",
       "35          Oklahoma\n",
       "36            Oregon\n",
       "37      Pennsylvania\n",
       "38      Rhode Island\n",
       "39    South Carolina\n",
       "40      South Dakota\n",
       "41         Tennessee\n",
       "42             Texas\n",
       "43              Utah\n",
       "44           Vermont\n",
       "45          Virginia\n",
       "46        Washington\n",
       "47     West Virginia\n",
       "48         Wisconsin\n",
       "49           Wyoming\n",
       "Name: state, dtype: object"
      ]
     },
     "execution_count": 45,
     "metadata": {},
     "output_type": "execute_result"
    }
   ],
   "source": [
    "us_census['state']"
   ]
  },
  {
   "cell_type": "code",
   "execution_count": 46,
   "id": "09d984c2",
   "metadata": {
    "execution": {
     "iopub.execute_input": "2022-12-20T07:29:09.979600Z",
     "iopub.status.busy": "2022-12-20T07:29:09.978797Z",
     "iopub.status.idle": "2022-12-20T07:29:09.985125Z",
     "shell.execute_reply": "2022-12-20T07:29:09.984087Z"
    },
    "papermill": {
     "duration": 0.04176,
     "end_time": "2022-12-20T07:29:09.987525",
     "exception": false,
     "start_time": "2022-12-20T07:29:09.945765",
     "status": "completed"
    },
    "tags": []
   },
   "outputs": [
    {
     "data": {
      "text/plain": [
       "(12485, 27)"
      ]
     },
     "execution_count": 46,
     "metadata": {},
     "output_type": "execute_result"
    }
   ],
   "source": [
    "gun_data.shape"
   ]
  },
  {
   "cell_type": "code",
   "execution_count": 47,
   "id": "18abe75e",
   "metadata": {
    "execution": {
     "iopub.execute_input": "2022-12-20T07:29:10.053120Z",
     "iopub.status.busy": "2022-12-20T07:29:10.052701Z",
     "iopub.status.idle": "2022-12-20T07:29:10.058159Z",
     "shell.execute_reply": "2022-12-20T07:29:10.057433Z"
    },
    "papermill": {
     "duration": 0.040712,
     "end_time": "2022-12-20T07:29:10.060181",
     "exception": false,
     "start_time": "2022-12-20T07:29:10.019469",
     "status": "completed"
    },
    "tags": []
   },
   "outputs": [
    {
     "data": {
      "text/plain": [
       "(50, 65)"
      ]
     },
     "execution_count": 47,
     "metadata": {},
     "output_type": "execute_result"
    }
   ],
   "source": [
    "us_census.shape"
   ]
  },
  {
   "cell_type": "markdown",
   "id": "0b6d9ca0",
   "metadata": {
    "papermill": {
     "duration": 0.031677,
     "end_time": "2022-12-20T07:29:10.123882",
     "exception": false,
     "start_time": "2022-12-20T07:29:10.092205",
     "status": "completed"
    },
    "tags": []
   },
   "source": [
    "\n",
    "## Population\n",
    "\n",
    "\n",
    "- Population estimates, July 1, 2016,  (V2016) - April 1, 2010,  (V2016)\n",
    "- Population, percent change - April 1, 2010 (estimates base) to July 1, 2016,  (V2016)\n",
    "- Population, Census, April 1, 2010\n",
    "\n",
    "\n",
    "## Age and Sex\n",
    "- Persons under 5 years, percent, July 1, 2016,  (V2016) - April 1, 2010\n",
    "- Persons under 18 years, percent, July 1, 2016,  (V2016) - April 1, 2010\n",
    "- Persons 65 years and over, percent,  July 1, 2016,  (V2016) - April 1, 2010\n",
    "- Female persons, percent,  July 1, 2016,  (V2016) - April 1, 2010\n",
    "\n",
    "\n",
    "\n",
    "## Race and Hispanic Origin\n",
    "- White alone, percent, July 1, 2016,  (V2016)\n",
    "- Black or African American alone, percent, July 1, 2016,  (V2016)\n",
    "- American Indian and Alaska Native alone, percent, July 1, 2016,  (V2016)\n",
    "- Asian alone, percent, July 1, 2016,  (V2016)\n",
    "- Native Hawaiian and Other Pacific Islander alone, percent, July 1, 2016,  (V2016)\n",
    "- Two or More Races, percent, July 1, 2016,  (V2016)\n",
    "- Hispanic or Latino, percent, July 1, 2016,  (V2016)\n",
    "- White alone, not Hispanic or Latino, percent, July 1, 2016,  (V2016)"
   ]
  },
  {
   "cell_type": "markdown",
   "id": "79eca0ed",
   "metadata": {
    "papermill": {
     "duration": 0.031566,
     "end_time": "2022-12-20T07:29:10.187278",
     "exception": false,
     "start_time": "2022-12-20T07:29:10.155712",
     "status": "completed"
    },
    "tags": []
   },
   "source": [
    "\n",
    "## Families & Living Arrangements\n",
    "- Persons per household, 2011-2015\n",
    "- Living in same house 1 year ago, percent of persons age 1 year+, 2011-2015\n",
    "\n",
    "\n",
    "## Education\n",
    "- High school graduate or higher, percent of persons age 25 years+, 2011-2015\n",
    "- Bachelor's degree or higher, percent of persons age 25 years+, 2011-2015\n",
    "\n",
    "\n",
    "## Health\n",
    "- With a disability, under age 65 years, percent, 2011-2015"
   ]
  },
  {
   "cell_type": "markdown",
   "id": "b406be20",
   "metadata": {
    "papermill": {
     "duration": 0.031633,
     "end_time": "2022-12-20T07:29:10.251570",
     "exception": false,
     "start_time": "2022-12-20T07:29:10.219937",
     "status": "completed"
    },
    "tags": []
   },
   "source": [
    "\n",
    "### Census Bureau-designated regions and divisions\n",
    "\n",
    "- Region 1: Northeast\n",
    " - Division 1: New England (Connecticut, Maine, Massachusetts, New Hampshire, Rhode Island, and Vermont)\n",
    " - Division 2: Middle Atlantic (New Jersey, New York, and Pennsylvania)\n",
    "- Region 2: Midwest (Prior to June 1984, the Midwest Region was designated as the North Central Region.)[8]\n",
    " - Division 3: East North Central (Illinois, Indiana, Michigan, Ohio, and Wisconsin)\n",
    " - Division 4: West North Central (Iowa, Kansas, Minnesota, Missouri, Nebraska, North Dakota, and South Dakota)\n",
    "- Region 3: South\n",
    " - Division 5: South Atlantic (Delaware; Florida; Georgia; Maryland; North Carolina; South Carolina; Virginia; Washington, D.C. and West Virginia)\n",
    " - Division 6: East South Central (Alabama, Kentucky, Mississippi, and Tennessee)\n",
    " - Division 7: West South Central (Arkansas, Louisiana, Oklahoma, and Texas)\n",
    "- Region 4: West\n",
    " - Division 8: Mountain (Arizona, Colorado, Idaho, Montana, Nevada, New Mexico, Utah, and Wyoming)\n",
    " - Division 9: Pacific (Alaska, California, Hawaii, Oregon, and Washington)\n"
   ]
  },
  {
   "cell_type": "code",
   "execution_count": 48,
   "id": "af845ed5",
   "metadata": {
    "execution": {
     "iopub.execute_input": "2022-12-20T07:29:10.317941Z",
     "iopub.status.busy": "2022-12-20T07:29:10.317219Z",
     "iopub.status.idle": "2022-12-20T07:29:10.323207Z",
     "shell.execute_reply": "2022-12-20T07:29:10.322379Z"
    },
    "papermill": {
     "duration": 0.041878,
     "end_time": "2022-12-20T07:29:10.325674",
     "exception": false,
     "start_time": "2022-12-20T07:29:10.283796",
     "status": "completed"
    },
    "tags": []
   },
   "outputs": [],
   "source": [
    "states = ['Alabama', 'Alaska', 'Arizona', 'Arkansas', 'California',\n",
    "          'Colorado', 'Connecticut', 'Delaware', 'Florida', 'Georgia', 'Hawaii', 'Idaho',\n",
    "       'Illinois', 'Indiana', 'Iowa', 'Kansas', 'Kentucky', 'Louisiana',\n",
    "       'Maine', 'Maryland', 'Massachusetts', 'Michigan', 'Minnesota',\n",
    "       'Mississippi', 'Missouri', 'Montana', 'Nebraska', 'Nevada',\n",
    "       'New Hampshire', 'New Jersey', 'New Mexico', 'New York',\n",
    "       'North Carolina', 'North Dakota', 'Ohio', 'Oklahoma', 'Oregon',\n",
    "       'Pennsylvania', 'Rhode Island', 'South Carolina', 'South Dakota',\n",
    "       'Tennessee', 'Texas', 'Utah', 'Vermont', 'Virginia', 'Washington',\n",
    "       'West Virginia', 'Wisconsin', 'Wyoming']"
   ]
  },
  {
   "cell_type": "code",
   "execution_count": 49,
   "id": "a18c37d7",
   "metadata": {
    "execution": {
     "iopub.execute_input": "2022-12-20T07:29:10.391669Z",
     "iopub.status.busy": "2022-12-20T07:29:10.390927Z",
     "iopub.status.idle": "2022-12-20T07:29:10.397340Z",
     "shell.execute_reply": "2022-12-20T07:29:10.396301Z"
    },
    "papermill": {
     "duration": 0.042067,
     "end_time": "2022-12-20T07:29:10.399612",
     "exception": false,
     "start_time": "2022-12-20T07:29:10.357545",
     "status": "completed"
    },
    "tags": []
   },
   "outputs": [],
   "source": [
    "Northeast = ['Connecticut', 'Maine', 'Massachusetts', 'New Hampshire', 'Rhode Island', 'Vermont', 'New Jersey', 'New York', 'Pennsylvania']\n",
    "Midwest = ['Illinois', 'Indiana', 'Michigan', 'Ohio', 'Wisconsin', 'Iowa', 'Kansas', 'Minnesota', 'Missouri', 'Nebraska', 'North Dakota', 'South Dakota']\n",
    "South = ['Delaware', 'Florida', 'Georgia', 'Maryland', 'North Carolina', 'South Carolina', 'Virginia', 'Washington', 'West Virginia', 'Alabama', 'Kentucky', 'Mississippi', 'Tennessee', 'Arkansas', 'Louisiana', 'Oklahoma', 'Texas']\n",
    "West = ['Arizona', 'Colorado', 'Idaho', 'Montana', 'Nevada', 'New Mexico', 'Utah', 'Wyoming', 'Alaska', 'California', 'Hawaii', 'Oregon', 'Washington']"
   ]
  },
  {
   "cell_type": "code",
   "execution_count": 50,
   "id": "bef1b32e",
   "metadata": {
    "execution": {
     "iopub.execute_input": "2022-12-20T07:29:10.465658Z",
     "iopub.status.busy": "2022-12-20T07:29:10.465264Z",
     "iopub.status.idle": "2022-12-20T07:29:10.473112Z",
     "shell.execute_reply": "2022-12-20T07:29:10.471931Z"
    },
    "papermill": {
     "duration": 0.044021,
     "end_time": "2022-12-20T07:29:10.475350",
     "exception": false,
     "start_time": "2022-12-20T07:29:10.431329",
     "status": "completed"
    },
    "tags": []
   },
   "outputs": [
    {
     "data": {
      "text/plain": [
       "array(['Alabama', 'Alaska', 'Arizona', 'Arkansas', 'California',\n",
       "       'Colorado', 'Connecticut', 'Delaware', 'District of Columbia',\n",
       "       'Florida', 'Georgia', 'Guam', 'Hawaii', 'Idaho', 'Illinois',\n",
       "       'Indiana', 'Iowa', 'Kansas', 'Kentucky', 'Louisiana', 'Maine',\n",
       "       'Mariana Islands', 'Maryland', 'Massachusetts', 'Michigan',\n",
       "       'Minnesota', 'Mississippi', 'Missouri', 'Montana', 'Nebraska',\n",
       "       'Nevada', 'New Hampshire', 'New Jersey', 'New Mexico', 'New York',\n",
       "       'North Carolina', 'North Dakota', 'Ohio', 'Oklahoma', 'Oregon',\n",
       "       'Pennsylvania', 'Puerto Rico', 'Rhode Island', 'South Carolina',\n",
       "       'South Dakota', 'Tennessee', 'Texas', 'Utah', 'Vermont',\n",
       "       'Virgin Islands', 'Virginia', 'Washington', 'West Virginia',\n",
       "       'Wisconsin', 'Wyoming'], dtype=object)"
      ]
     },
     "execution_count": 50,
     "metadata": {},
     "output_type": "execute_result"
    }
   ],
   "source": [
    "gun_data['state'].unique()"
   ]
  },
  {
   "cell_type": "code",
   "execution_count": 51,
   "id": "7f9507bb",
   "metadata": {
    "execution": {
     "iopub.execute_input": "2022-12-20T07:29:10.542176Z",
     "iopub.status.busy": "2022-12-20T07:29:10.541004Z",
     "iopub.status.idle": "2022-12-20T07:29:10.548996Z",
     "shell.execute_reply": "2022-12-20T07:29:10.547883Z"
    },
    "papermill": {
     "duration": 0.043756,
     "end_time": "2022-12-20T07:29:10.551183",
     "exception": false,
     "start_time": "2022-12-20T07:29:10.507427",
     "status": "completed"
    },
    "tags": []
   },
   "outputs": [
    {
     "data": {
      "text/plain": [
       "['District of Columbia',\n",
       " 'Guam',\n",
       " 'Mariana Islands',\n",
       " 'Puerto Rico',\n",
       " 'Virgin Islands']"
      ]
     },
     "execution_count": 51,
     "metadata": {},
     "output_type": "execute_result"
    }
   ],
   "source": [
    "not_us = ['District of Columbia','Guam', 'Mariana Islands', 'Puerto Rico', 'Virgin Islands']\n",
    "not_us"
   ]
  },
  {
   "cell_type": "code",
   "execution_count": 52,
   "id": "36645a3d",
   "metadata": {
    "execution": {
     "iopub.execute_input": "2022-12-20T07:29:10.621281Z",
     "iopub.status.busy": "2022-12-20T07:29:10.620261Z",
     "iopub.status.idle": "2022-12-20T07:29:10.627459Z",
     "shell.execute_reply": "2022-12-20T07:29:10.626257Z"
    },
    "papermill": {
     "duration": 0.044409,
     "end_time": "2022-12-20T07:29:10.629849",
     "exception": false,
     "start_time": "2022-12-20T07:29:10.585440",
     "status": "completed"
    },
    "tags": []
   },
   "outputs": [],
   "source": [
    "Northeast = ['Connecticut', 'Maine', 'Massachusetts', 'New Hampshire', 'Rhode Island', 'Vermont', 'New Jersey', 'New York', 'Pennsylvania']\n",
    "Midwest = ['Illinois', 'Indiana', 'Michigan', 'Ohio', 'Wisconsin', 'Iowa', 'Kansas', 'Minnesota', 'Missouri', 'Nebraska', 'North Dakota', 'South Dakota']\n",
    "South = ['Delaware', 'Florida', 'Georgia', 'Maryland', 'North Carolina', 'South Carolina', 'Virginia', 'Washington', 'West Virginia', 'Alabama', 'Kentucky', 'Mississippi', 'Tennessee', 'Arkansas', 'Louisiana', 'Oklahoma', 'Texas']\n",
    "West = ['Arizona', 'Colorado', 'Idaho', 'Montana', 'Nevada', 'New Mexico', 'Utah', 'Wyoming', 'Alaska', 'California', 'Hawaii', 'Oregon']"
   ]
  },
  {
   "cell_type": "code",
   "execution_count": 53,
   "id": "5487c560",
   "metadata": {
    "execution": {
     "iopub.execute_input": "2022-12-20T07:29:10.696476Z",
     "iopub.status.busy": "2022-12-20T07:29:10.696086Z",
     "iopub.status.idle": "2022-12-20T07:29:10.702523Z",
     "shell.execute_reply": "2022-12-20T07:29:10.701355Z"
    },
    "papermill": {
     "duration": 0.042954,
     "end_time": "2022-12-20T07:29:10.705428",
     "exception": false,
     "start_time": "2022-12-20T07:29:10.662474",
     "status": "completed"
    },
    "tags": []
   },
   "outputs": [
    {
     "data": {
      "text/plain": [
       "(['Connecticut',\n",
       "  'Maine',\n",
       "  'Massachusetts',\n",
       "  'New Hampshire',\n",
       "  'Rhode Island',\n",
       "  'Vermont',\n",
       "  'New Jersey',\n",
       "  'New York',\n",
       "  'Pennsylvania'],\n",
       " 9)"
      ]
     },
     "execution_count": 53,
     "metadata": {},
     "output_type": "execute_result"
    }
   ],
   "source": [
    "Northeast, len(Northeast)"
   ]
  },
  {
   "cell_type": "code",
   "execution_count": 54,
   "id": "98865af2",
   "metadata": {
    "execution": {
     "iopub.execute_input": "2022-12-20T07:29:10.780353Z",
     "iopub.status.busy": "2022-12-20T07:29:10.779139Z",
     "iopub.status.idle": "2022-12-20T07:29:10.788242Z",
     "shell.execute_reply": "2022-12-20T07:29:10.786801Z"
    },
    "papermill": {
     "duration": 0.05336,
     "end_time": "2022-12-20T07:29:10.791253",
     "exception": false,
     "start_time": "2022-12-20T07:29:10.737893",
     "status": "completed"
    },
    "tags": []
   },
   "outputs": [
    {
     "data": {
      "text/plain": [
       "(['Illinois',\n",
       "  'Indiana',\n",
       "  'Michigan',\n",
       "  'Ohio',\n",
       "  'Wisconsin',\n",
       "  'Iowa',\n",
       "  'Kansas',\n",
       "  'Minnesota',\n",
       "  'Missouri',\n",
       "  'Nebraska',\n",
       "  'North Dakota',\n",
       "  'South Dakota'],\n",
       " 12)"
      ]
     },
     "execution_count": 54,
     "metadata": {},
     "output_type": "execute_result"
    }
   ],
   "source": [
    "Midwest, len(Midwest)"
   ]
  },
  {
   "cell_type": "code",
   "execution_count": 55,
   "id": "ad29afcb",
   "metadata": {
    "execution": {
     "iopub.execute_input": "2022-12-20T07:29:10.887254Z",
     "iopub.status.busy": "2022-12-20T07:29:10.886383Z",
     "iopub.status.idle": "2022-12-20T07:29:10.895592Z",
     "shell.execute_reply": "2022-12-20T07:29:10.894767Z"
    },
    "papermill": {
     "duration": 0.058997,
     "end_time": "2022-12-20T07:29:10.897833",
     "exception": false,
     "start_time": "2022-12-20T07:29:10.838836",
     "status": "completed"
    },
    "tags": []
   },
   "outputs": [
    {
     "data": {
      "text/plain": [
       "(['Delaware',\n",
       "  'Florida',\n",
       "  'Georgia',\n",
       "  'Maryland',\n",
       "  'North Carolina',\n",
       "  'South Carolina',\n",
       "  'Virginia',\n",
       "  'Washington',\n",
       "  'West Virginia',\n",
       "  'Alabama',\n",
       "  'Kentucky',\n",
       "  'Mississippi',\n",
       "  'Tennessee',\n",
       "  'Arkansas',\n",
       "  'Louisiana',\n",
       "  'Oklahoma',\n",
       "  'Texas'],\n",
       " 17)"
      ]
     },
     "execution_count": 55,
     "metadata": {},
     "output_type": "execute_result"
    }
   ],
   "source": [
    "South, len(South)"
   ]
  },
  {
   "cell_type": "code",
   "execution_count": 56,
   "id": "0eb0671b",
   "metadata": {
    "execution": {
     "iopub.execute_input": "2022-12-20T07:29:10.966534Z",
     "iopub.status.busy": "2022-12-20T07:29:10.965695Z",
     "iopub.status.idle": "2022-12-20T07:29:10.973316Z",
     "shell.execute_reply": "2022-12-20T07:29:10.972267Z"
    },
    "papermill": {
     "duration": 0.044453,
     "end_time": "2022-12-20T07:29:10.975730",
     "exception": false,
     "start_time": "2022-12-20T07:29:10.931277",
     "status": "completed"
    },
    "tags": []
   },
   "outputs": [
    {
     "data": {
      "text/plain": [
       "(['Arizona',\n",
       "  'Colorado',\n",
       "  'Idaho',\n",
       "  'Montana',\n",
       "  'Nevada',\n",
       "  'New Mexico',\n",
       "  'Utah',\n",
       "  'Wyoming',\n",
       "  'Alaska',\n",
       "  'California',\n",
       "  'Hawaii',\n",
       "  'Oregon'],\n",
       " 12)"
      ]
     },
     "execution_count": 56,
     "metadata": {},
     "output_type": "execute_result"
    }
   ],
   "source": [
    "West, len(West)"
   ]
  },
  {
   "cell_type": "code",
   "execution_count": 57,
   "id": "795d8a3c",
   "metadata": {
    "execution": {
     "iopub.execute_input": "2022-12-20T07:29:11.051883Z",
     "iopub.status.busy": "2022-12-20T07:29:11.051423Z",
     "iopub.status.idle": "2022-12-20T07:29:11.058336Z",
     "shell.execute_reply": "2022-12-20T07:29:11.057544Z"
    },
    "papermill": {
     "duration": 0.04481,
     "end_time": "2022-12-20T07:29:11.061004",
     "exception": false,
     "start_time": "2022-12-20T07:29:11.016194",
     "status": "completed"
    },
    "tags": []
   },
   "outputs": [
    {
     "data": {
      "text/plain": [
       "50"
      ]
     },
     "execution_count": 57,
     "metadata": {},
     "output_type": "execute_result"
    }
   ],
   "source": [
    "len(Northeast) + len(Midwest) + len(South) + len(West)"
   ]
  },
  {
   "cell_type": "code",
   "execution_count": 58,
   "id": "ce7110c2",
   "metadata": {
    "execution": {
     "iopub.execute_input": "2022-12-20T07:29:11.144556Z",
     "iopub.status.busy": "2022-12-20T07:29:11.143412Z",
     "iopub.status.idle": "2022-12-20T07:29:11.151190Z",
     "shell.execute_reply": "2022-12-20T07:29:11.150307Z"
    },
    "papermill": {
     "duration": 0.048507,
     "end_time": "2022-12-20T07:29:11.153703",
     "exception": false,
     "start_time": "2022-12-20T07:29:11.105196",
     "status": "completed"
    },
    "tags": []
   },
   "outputs": [
    {
     "data": {
      "text/plain": [
       "50"
      ]
     },
     "execution_count": 58,
     "metadata": {},
     "output_type": "execute_result"
    }
   ],
   "source": [
    "len(states)"
   ]
  },
  {
   "cell_type": "markdown",
   "id": "f08ea0fc",
   "metadata": {
    "papermill": {
     "duration": 0.034057,
     "end_time": "2022-12-20T07:29:11.222908",
     "exception": false,
     "start_time": "2022-12-20T07:29:11.188851",
     "status": "completed"
    },
    "tags": []
   },
   "source": [
    "### Changing Datatype"
   ]
  },
  {
   "cell_type": "code",
   "execution_count": 59,
   "id": "be353a1a",
   "metadata": {
    "execution": {
     "iopub.execute_input": "2022-12-20T07:29:11.291962Z",
     "iopub.status.busy": "2022-12-20T07:29:11.290750Z",
     "iopub.status.idle": "2022-12-20T07:29:11.300417Z",
     "shell.execute_reply": "2022-12-20T07:29:11.299453Z"
    },
    "papermill": {
     "duration": 0.046281,
     "end_time": "2022-12-20T07:29:11.302669",
     "exception": false,
     "start_time": "2022-12-20T07:29:11.256388",
     "status": "completed"
    },
    "tags": []
   },
   "outputs": [
    {
     "data": {
      "text/plain": [
       "Fact\n",
       "state                                                                                    object\n",
       "Population estimates, July 1, 2016,  (V2016)                                             object\n",
       "Population estimates base, April 1, 2010,  (V2016)                                       object\n",
       "Population, percent change - April 1, 2010 (estimates base) to July 1, 2016,  (V2016)    object\n",
       "Population, Census, April 1, 2010                                                        object\n",
       "                                                                                          ...  \n",
       "Nonminority-owned firms, 2012                                                            object\n",
       "Veteran-owned firms, 2012                                                                object\n",
       "Nonveteran-owned firms, 2012                                                             object\n",
       "Population per square mile, 2010                                                         object\n",
       "Land area in square miles, 2010                                                          object\n",
       "Length: 65, dtype: object"
      ]
     },
     "execution_count": 59,
     "metadata": {},
     "output_type": "execute_result"
    }
   ],
   "source": [
    "us_census.dtypes"
   ]
  },
  {
   "cell_type": "code",
   "execution_count": 60,
   "id": "769a53a2",
   "metadata": {
    "execution": {
     "iopub.execute_input": "2022-12-20T07:29:11.370718Z",
     "iopub.status.busy": "2022-12-20T07:29:11.369925Z",
     "iopub.status.idle": "2022-12-20T07:29:11.377906Z",
     "shell.execute_reply": "2022-12-20T07:29:11.376874Z"
    },
    "papermill": {
     "duration": 0.044763,
     "end_time": "2022-12-20T07:29:11.380168",
     "exception": false,
     "start_time": "2022-12-20T07:29:11.335405",
     "status": "completed"
    },
    "tags": []
   },
   "outputs": [
    {
     "data": {
      "text/plain": [
       "Index(['Population estimates, July 1, 2016,  (V2016)',\n",
       "       'Population estimates base, April 1, 2010,  (V2016)',\n",
       "       'Population, percent change - April 1, 2010 (estimates base) to July 1, 2016,  (V2016)',\n",
       "       'Population, Census, April 1, 2010',\n",
       "       'Persons under 5 years, percent, July 1, 2016,  (V2016)',\n",
       "       'Persons under 5 years, percent, April 1, 2010',\n",
       "       'Persons under 18 years, percent, July 1, 2016,  (V2016)',\n",
       "       'Persons under 18 years, percent, April 1, 2010',\n",
       "       'Persons 65 years and over, percent,  July 1, 2016,  (V2016)',\n",
       "       'Persons 65 years and over, percent, April 1, 2010',\n",
       "       'Female persons, percent,  July 1, 2016,  (V2016)',\n",
       "       'Female persons, percent, April 1, 2010',\n",
       "       'White alone, percent, July 1, 2016,  (V2016)',\n",
       "       'Black or African American alone, percent, July 1, 2016,  (V2016)',\n",
       "       'American Indian and Alaska Native alone, percent, July 1, 2016,  (V2016)',\n",
       "       'Asian alone, percent, July 1, 2016,  (V2016)',\n",
       "       'Native Hawaiian and Other Pacific Islander alone, percent, July 1, 2016,  (V2016)',\n",
       "       'Two or More Races, percent, July 1, 2016,  (V2016)',\n",
       "       'Hispanic or Latino, percent, July 1, 2016,  (V2016)',\n",
       "       'White alone, not Hispanic or Latino, percent, July 1, 2016,  (V2016)',\n",
       "       'Veterans, 2011-2015', 'Foreign born persons, percent, 2011-2015',\n",
       "       'Housing units,  July 1, 2016,  (V2016)',\n",
       "       'Housing units, April 1, 2010',\n",
       "       'Owner-occupied housing unit rate, 2011-2015',\n",
       "       'Median value of owner-occupied housing units, 2011-2015',\n",
       "       'Median selected monthly owner costs -with a mortgage, 2011-2015',\n",
       "       'Median selected monthly owner costs -without a mortgage, 2011-2015',\n",
       "       'Median gross rent, 2011-2015', 'Building permits, 2016',\n",
       "       'Households, 2011-2015', 'Persons per household, 2011-2015',\n",
       "       'Living in same house 1 year ago, percent of persons age 1 year+, 2011-2015',\n",
       "       'Language other than English spoken at home, percent of persons age 5 years+, 2011-2015',\n",
       "       'High school graduate or higher, percent of persons age 25 years+, 2011-2015',\n",
       "       'Bachelor's degree or higher, percent of persons age 25 years+, 2011-2015',\n",
       "       'With a disability, under age 65 years, percent, 2011-2015',\n",
       "       'Persons  without health insurance, under age 65 years, percent',\n",
       "       'In civilian labor force, total, percent of population age 16 years+, 2011-2015',\n",
       "       'In civilian labor force, female, percent of population age 16 years+, 2011-2015',\n",
       "       'Total accommodation and food services sales, 2012 ($1,000)',\n",
       "       'Total health care and social assistance receipts/revenue, 2012 ($1,000)',\n",
       "       'Total manufacturers shipments, 2012 ($1,000)',\n",
       "       'Total merchant wholesaler sales, 2012 ($1,000)',\n",
       "       'Total retail sales, 2012 ($1,000)',\n",
       "       'Total retail sales per capita, 2012',\n",
       "       'Mean travel time to work (minutes), workers age 16 years+, 2011-2015',\n",
       "       'Median household income (in 2015 dollars), 2011-2015',\n",
       "       'Per capita income in past 12 months (in 2015 dollars), 2011-2015',\n",
       "       'Persons in poverty, percent', 'Total employer establishments, 2015',\n",
       "       'Total employment, 2015', 'Total annual payroll, 2015 ($1,000)',\n",
       "       'Total employment, percent change, 2014-2015',\n",
       "       'Total nonemployer establishments, 2015', 'All firms, 2012',\n",
       "       'Men-owned firms, 2012', 'Women-owned firms, 2012',\n",
       "       'Minority-owned firms, 2012', 'Nonminority-owned firms, 2012',\n",
       "       'Veteran-owned firms, 2012', 'Nonveteran-owned firms, 2012',\n",
       "       'Population per square mile, 2010', 'Land area in square miles, 2010'],\n",
       "      dtype='object', name='Fact')"
      ]
     },
     "execution_count": 60,
     "metadata": {},
     "output_type": "execute_result"
    }
   ],
   "source": [
    "to_float = us_census.columns[1:]\n",
    "to_float"
   ]
  },
  {
   "cell_type": "markdown",
   "id": "60693cf4",
   "metadata": {
    "papermill": {
     "duration": 0.033075,
     "end_time": "2022-12-20T07:29:11.446625",
     "exception": false,
     "start_time": "2022-12-20T07:29:11.413550",
     "status": "completed"
    },
    "tags": []
   },
   "source": [
    "## Checking the type/class of the data"
   ]
  },
  {
   "cell_type": "code",
   "execution_count": 61,
   "id": "1a16d235",
   "metadata": {
    "execution": {
     "iopub.execute_input": "2022-12-20T07:29:11.523068Z",
     "iopub.status.busy": "2022-12-20T07:29:11.522310Z",
     "iopub.status.idle": "2022-12-20T07:29:11.528994Z",
     "shell.execute_reply": "2022-12-20T07:29:11.528139Z"
    },
    "papermill": {
     "duration": 0.046348,
     "end_time": "2022-12-20T07:29:11.531306",
     "exception": false,
     "start_time": "2022-12-20T07:29:11.484958",
     "status": "completed"
    },
    "tags": []
   },
   "outputs": [
    {
     "data": {
      "text/plain": [
       "pandas.core.frame.DataFrame"
      ]
     },
     "execution_count": 61,
     "metadata": {},
     "output_type": "execute_result"
    }
   ],
   "source": [
    "type(us_census)"
   ]
  },
  {
   "cell_type": "code",
   "execution_count": 62,
   "id": "ded8807f",
   "metadata": {
    "execution": {
     "iopub.execute_input": "2022-12-20T07:29:11.599780Z",
     "iopub.status.busy": "2022-12-20T07:29:11.598991Z",
     "iopub.status.idle": "2022-12-20T07:29:11.606438Z",
     "shell.execute_reply": "2022-12-20T07:29:11.605324Z"
    },
    "papermill": {
     "duration": 0.044324,
     "end_time": "2022-12-20T07:29:11.608733",
     "exception": false,
     "start_time": "2022-12-20T07:29:11.564409",
     "status": "completed"
    },
    "tags": []
   },
   "outputs": [
    {
     "data": {
      "text/plain": [
       "Index(['state', 'Population estimates, July 1, 2016,  (V2016)'], dtype='object', name='Fact')"
      ]
     },
     "execution_count": 62,
     "metadata": {},
     "output_type": "execute_result"
    }
   ],
   "source": [
    "us_census.columns[0:2]"
   ]
  },
  {
   "cell_type": "code",
   "execution_count": 63,
   "id": "4dac4910",
   "metadata": {
    "execution": {
     "iopub.execute_input": "2022-12-20T07:29:11.678300Z",
     "iopub.status.busy": "2022-12-20T07:29:11.677508Z",
     "iopub.status.idle": "2022-12-20T07:29:11.682449Z",
     "shell.execute_reply": "2022-12-20T07:29:11.681645Z"
    },
    "papermill": {
     "duration": 0.042688,
     "end_time": "2022-12-20T07:29:11.684752",
     "exception": false,
     "start_time": "2022-12-20T07:29:11.642064",
     "status": "completed"
    },
    "tags": []
   },
   "outputs": [],
   "source": [
    "#us_census.rename(columns = {'index': 'state', 'Fact': 'No'}, inplace = True, errors='ignore')"
   ]
  },
  {
   "cell_type": "code",
   "execution_count": 64,
   "id": "91eec715",
   "metadata": {
    "execution": {
     "iopub.execute_input": "2022-12-20T07:29:11.755215Z",
     "iopub.status.busy": "2022-12-20T07:29:11.753605Z",
     "iopub.status.idle": "2022-12-20T07:29:11.759481Z",
     "shell.execute_reply": "2022-12-20T07:29:11.758351Z"
    },
    "papermill": {
     "duration": 0.043811,
     "end_time": "2022-12-20T07:29:11.762002",
     "exception": false,
     "start_time": "2022-12-20T07:29:11.718191",
     "status": "completed"
    },
    "tags": []
   },
   "outputs": [],
   "source": [
    "#us_census.columns[0:2]"
   ]
  },
  {
   "cell_type": "markdown",
   "id": "4fd70014",
   "metadata": {
    "papermill": {
     "duration": 0.100594,
     "end_time": "2022-12-20T07:29:11.896139",
     "exception": false,
     "start_time": "2022-12-20T07:29:11.795545",
     "status": "completed"
    },
    "tags": []
   },
   "source": [
    "df_18.rename(columns = lambda x: x.strip().lower().replace(\" \",\"_\"), inplace = True)"
   ]
  },
  {
   "cell_type": "markdown",
   "id": "23b23302",
   "metadata": {
    "papermill": {
     "duration": 0.033268,
     "end_time": "2022-12-20T07:29:11.964022",
     "exception": false,
     "start_time": "2022-12-20T07:29:11.930754",
     "status": "completed"
    },
    "tags": []
   },
   "source": [
    "df_18['cyl'] = df_18['cyl'].astype(int)"
   ]
  },
  {
   "cell_type": "markdown",
   "id": "bb1ec946",
   "metadata": {
    "papermill": {
     "duration": 0.033053,
     "end_time": "2022-12-20T07:29:12.030665",
     "exception": false,
     "start_time": "2022-12-20T07:29:11.997612",
     "status": "completed"
    },
    "tags": []
   },
   "source": [
    "pd.to_numeric(df_08['air_pollution_score'], errors = 'coerce')"
   ]
  },
  {
   "cell_type": "markdown",
   "id": "d33c2e92",
   "metadata": {
    "papermill": {
     "duration": 0.032889,
     "end_time": "2022-12-20T07:29:12.097325",
     "exception": false,
     "start_time": "2022-12-20T07:29:12.064436",
     "status": "completed"
    },
    "tags": []
   },
   "source": []
  },
  {
   "cell_type": "markdown",
   "id": "9878b6c3",
   "metadata": {
    "papermill": {
     "duration": 0.032928,
     "end_time": "2022-12-20T07:29:12.163680",
     "exception": false,
     "start_time": "2022-12-20T07:29:12.130752",
     "status": "completed"
    },
    "tags": []
   },
   "source": []
  },
  {
   "cell_type": "markdown",
   "id": "05010ff8",
   "metadata": {
    "papermill": {
     "duration": 0.032663,
     "end_time": "2022-12-20T07:29:12.229477",
     "exception": false,
     "start_time": "2022-12-20T07:29:12.196814",
     "status": "completed"
    },
    "tags": []
   },
   "source": [
    "for c in split_columns:\n",
    "    df1[c] = df1[c].apply(lambda x: x.split(\"/\"))\n",
    "\n",
    "df1"
   ]
  },
  {
   "cell_type": "markdown",
   "id": "dd22153a",
   "metadata": {
    "papermill": {
     "duration": 0.032768,
     "end_time": "2022-12-20T07:29:12.295860",
     "exception": false,
     "start_time": "2022-12-20T07:29:12.263092",
     "status": "completed"
    },
    "tags": []
   },
   "source": []
  },
  {
   "cell_type": "markdown",
   "id": "76be2e0c",
   "metadata": {
    "papermill": {
     "duration": 0.032738,
     "end_time": "2022-12-20T07:29:12.361674",
     "exception": false,
     "start_time": "2022-12-20T07:29:12.328936",
     "status": "completed"
    },
    "tags": []
   },
   "source": [
    "split_columns = ['fuel', 'air_pollution_score', 'city_mpg', 'hwy_mpg', 'cmb_mpg', 'greenhouse_gas_score']\n",
    "\n",
    "\n",
    "for c in split_columns:\n",
    "    df1[c] = df1[c].apply(lambda x: x.split(\"/\")[0])\n",
    "    df2[c] = df2[c].apply(lambda x: x.split(\"/\")[1])"
   ]
  },
  {
   "cell_type": "code",
   "execution_count": 65,
   "id": "4d97ffdb",
   "metadata": {
    "execution": {
     "iopub.execute_input": "2022-12-20T07:29:12.430653Z",
     "iopub.status.busy": "2022-12-20T07:29:12.430199Z",
     "iopub.status.idle": "2022-12-20T07:29:12.455506Z",
     "shell.execute_reply": "2022-12-20T07:29:12.454316Z"
    },
    "papermill": {
     "duration": 0.063247,
     "end_time": "2022-12-20T07:29:12.457812",
     "exception": false,
     "start_time": "2022-12-20T07:29:12.394565",
     "status": "completed"
    },
    "tags": []
   },
   "outputs": [
    {
     "data": {
      "text/html": [
       "<div>\n",
       "<style scoped>\n",
       "    .dataframe tbody tr th:only-of-type {\n",
       "        vertical-align: middle;\n",
       "    }\n",
       "\n",
       "    .dataframe tbody tr th {\n",
       "        vertical-align: top;\n",
       "    }\n",
       "\n",
       "    .dataframe thead th {\n",
       "        text-align: right;\n",
       "    }\n",
       "</style>\n",
       "<table border=\"1\" class=\"dataframe\">\n",
       "  <thead>\n",
       "    <tr style=\"text-align: right;\">\n",
       "      <th>Fact</th>\n",
       "      <th>state</th>\n",
       "      <th>Population estimates, July 1, 2016,  (V2016)</th>\n",
       "      <th>Population estimates base, April 1, 2010,  (V2016)</th>\n",
       "      <th>Population, percent change - April 1, 2010 (estimates base) to July 1, 2016,  (V2016)</th>\n",
       "      <th>Population, Census, April 1, 2010</th>\n",
       "      <th>Persons under 5 years, percent, July 1, 2016,  (V2016)</th>\n",
       "      <th>Persons under 5 years, percent, April 1, 2010</th>\n",
       "      <th>Persons under 18 years, percent, July 1, 2016,  (V2016)</th>\n",
       "      <th>Persons under 18 years, percent, April 1, 2010</th>\n",
       "      <th>Persons 65 years and over, percent,  July 1, 2016,  (V2016)</th>\n",
       "      <th>...</th>\n",
       "      <th>Total nonemployer establishments, 2015</th>\n",
       "      <th>All firms, 2012</th>\n",
       "      <th>Men-owned firms, 2012</th>\n",
       "      <th>Women-owned firms, 2012</th>\n",
       "      <th>Minority-owned firms, 2012</th>\n",
       "      <th>Nonminority-owned firms, 2012</th>\n",
       "      <th>Veteran-owned firms, 2012</th>\n",
       "      <th>Nonveteran-owned firms, 2012</th>\n",
       "      <th>Population per square mile, 2010</th>\n",
       "      <th>Land area in square miles, 2010</th>\n",
       "    </tr>\n",
       "  </thead>\n",
       "  <tbody>\n",
       "    <tr>\n",
       "      <th>0</th>\n",
       "      <td>Alabama</td>\n",
       "      <td>4,863,300</td>\n",
       "      <td>4,780,131</td>\n",
       "      <td>1.70%</td>\n",
       "      <td>4,779,736</td>\n",
       "      <td>6.00%</td>\n",
       "      <td>6.40%</td>\n",
       "      <td>22.60%</td>\n",
       "      <td>23.70%</td>\n",
       "      <td>16.10%</td>\n",
       "      <td>...</td>\n",
       "      <td>322,025</td>\n",
       "      <td>374,153</td>\n",
       "      <td>203,604</td>\n",
       "      <td>137,630</td>\n",
       "      <td>92,219</td>\n",
       "      <td>272,651</td>\n",
       "      <td>41,943</td>\n",
       "      <td>316,984</td>\n",
       "      <td>94.4</td>\n",
       "      <td>50,645.33</td>\n",
       "    </tr>\n",
       "    <tr>\n",
       "      <th>1</th>\n",
       "      <td>Alaska</td>\n",
       "      <td>741,894</td>\n",
       "      <td>710,249</td>\n",
       "      <td>4.50%</td>\n",
       "      <td>710,231</td>\n",
       "      <td>7.30%</td>\n",
       "      <td>7.60%</td>\n",
       "      <td>25.20%</td>\n",
       "      <td>26.40%</td>\n",
       "      <td>10.40%</td>\n",
       "      <td>...</td>\n",
       "      <td>55,521</td>\n",
       "      <td>68,032</td>\n",
       "      <td>35,402</td>\n",
       "      <td>22,141</td>\n",
       "      <td>13,688</td>\n",
       "      <td>51,147</td>\n",
       "      <td>7,953</td>\n",
       "      <td>56,091</td>\n",
       "      <td>1.2</td>\n",
       "      <td>570,640.95</td>\n",
       "    </tr>\n",
       "  </tbody>\n",
       "</table>\n",
       "<p>2 rows × 65 columns</p>\n",
       "</div>"
      ],
      "text/plain": [
       "Fact    state Population estimates, July 1, 2016,  (V2016)  \\\n",
       "0     Alabama                                    4,863,300   \n",
       "1      Alaska                                      741,894   \n",
       "\n",
       "Fact Population estimates base, April 1, 2010,  (V2016)  \\\n",
       "0                                             4,780,131   \n",
       "1                                               710,249   \n",
       "\n",
       "Fact Population, percent change - April 1, 2010 (estimates base) to July 1, 2016,  (V2016)  \\\n",
       "0                                                 1.70%                                      \n",
       "1                                                 4.50%                                      \n",
       "\n",
       "Fact Population, Census, April 1, 2010  \\\n",
       "0                            4,779,736   \n",
       "1                              710,231   \n",
       "\n",
       "Fact Persons under 5 years, percent, July 1, 2016,  (V2016)  \\\n",
       "0                                                 6.00%       \n",
       "1                                                 7.30%       \n",
       "\n",
       "Fact Persons under 5 years, percent, April 1, 2010  \\\n",
       "0                                            6.40%   \n",
       "1                                            7.60%   \n",
       "\n",
       "Fact Persons under 18 years, percent, July 1, 2016,  (V2016)  \\\n",
       "0                                                22.60%        \n",
       "1                                                25.20%        \n",
       "\n",
       "Fact Persons under 18 years, percent, April 1, 2010  \\\n",
       "0                                            23.70%   \n",
       "1                                            26.40%   \n",
       "\n",
       "Fact Persons 65 years and over, percent,  July 1, 2016,  (V2016)  ...  \\\n",
       "0                                                16.10%           ...   \n",
       "1                                                10.40%           ...   \n",
       "\n",
       "Fact Total nonemployer establishments, 2015 All firms, 2012  \\\n",
       "0                                   322,025         374,153   \n",
       "1                                    55,521          68,032   \n",
       "\n",
       "Fact Men-owned firms, 2012 Women-owned firms, 2012 Minority-owned firms, 2012  \\\n",
       "0                  203,604                 137,630                     92,219   \n",
       "1                   35,402                  22,141                     13,688   \n",
       "\n",
       "Fact Nonminority-owned firms, 2012 Veteran-owned firms, 2012  \\\n",
       "0                          272,651                    41,943   \n",
       "1                           51,147                     7,953   \n",
       "\n",
       "Fact Nonveteran-owned firms, 2012 Population per square mile, 2010  \\\n",
       "0                         316,984                             94.4   \n",
       "1                          56,091                              1.2   \n",
       "\n",
       "Fact Land area in square miles, 2010  \n",
       "0                          50,645.33  \n",
       "1                         570,640.95  \n",
       "\n",
       "[2 rows x 65 columns]"
      ]
     },
     "execution_count": 65,
     "metadata": {},
     "output_type": "execute_result"
    }
   ],
   "source": [
    "us_test = us_census.copy()\n",
    "us_test.head(2)"
   ]
  },
  {
   "cell_type": "code",
   "execution_count": 66,
   "id": "dbf73791",
   "metadata": {
    "execution": {
     "iopub.execute_input": "2022-12-20T07:29:12.526972Z",
     "iopub.status.busy": "2022-12-20T07:29:12.526561Z",
     "iopub.status.idle": "2022-12-20T07:29:12.533517Z",
     "shell.execute_reply": "2022-12-20T07:29:12.532375Z"
    },
    "papermill": {
     "duration": 0.044298,
     "end_time": "2022-12-20T07:29:12.535783",
     "exception": false,
     "start_time": "2022-12-20T07:29:12.491485",
     "status": "completed"
    },
    "tags": []
   },
   "outputs": [],
   "source": [
    "in_percentage = ['Population, percent change - April 1, 2010 (estimates base) to July 1, 2016,  (V2016)',            \n",
    "'Persons under 5 years, percent, July 1, 2016,  (V2016)',\n",
    "'Persons under 5 years, percent, April 1, 2010',\n",
    "'Persons under 18 years, percent, July 1, 2016,  (V2016)',\n",
    "'Persons under 18 years, percent, April 1, 2010',\n",
    "'Persons 65 years and over, percent,  July 1, 2016,  (V2016)',\n",
    "'Persons 65 years and over, percent, April 1, 2010',\n",
    "'Female persons, percent,  July 1, 2016,  (V2016)',\n",
    "'Female persons, percent, April 1, 2010',\n",
    "'White alone, percent, July 1, 2016,  (V2016)',\n",
    "'Black or African American alone, percent, July 1, 2016,  (V2016)',\n",
    "'American Indian and Alaska Native alone, percent, July 1, 2016,  (V2016)',\n",
    "'Asian alone, percent, July 1, 2016,  (V2016)',\n",
    "'Native Hawaiian and Other Pacific Islander alone, percent, July 1, 2016,  (V2016)',\n",
    "'Two or More Races, percent, July 1, 2016,  (V2016)',\n",
    "'Hispanic or Latino, percent, July 1, 2016,  (V2016)',\n",
    "'White alone, not Hispanic or Latino, percent, July 1, 2016,  (V2016)',\n",
    "'Foreign born persons, percent, 2011-2015',\n",
    "'Owner-occupied housing unit rate, 2011-2015',\n",
    "'Living in same house 1 year ago, percent of persons age 1 year+, 2011-2015',\n",
    "'Language other than English spoken at home, percent of persons age 5 years+, 2011-2015',\n",
    "'High school graduate or higher, percent of persons age 25 years+, 2011-2015',\n",
    "\"Bachelor's degree or higher, percent of persons age 25 years+, 2011-2015\",\n",
    "'With a disability, under age 65 years, percent, 2011-2015',\n",
    "'Persons  without health insurance, under age 65 years, percent',\n",
    "'In civilian labor force, total, percent of population age 16 years+, 2011-2015',\n",
    "'In civilian labor force, female, percent of population age 16 years+, 2011-2015',\n",
    "'Persons in poverty, percent',\n",
    "'Total employment, percent change, 2014-2015'\n",
    "                ]"
   ]
  },
  {
   "cell_type": "code",
   "execution_count": 67,
   "id": "2dd3e64a",
   "metadata": {
    "execution": {
     "iopub.execute_input": "2022-12-20T07:29:12.604535Z",
     "iopub.status.busy": "2022-12-20T07:29:12.604127Z",
     "iopub.status.idle": "2022-12-20T07:29:12.611686Z",
     "shell.execute_reply": "2022-12-20T07:29:12.610579Z"
    },
    "papermill": {
     "duration": 0.044825,
     "end_time": "2022-12-20T07:29:12.614098",
     "exception": false,
     "start_time": "2022-12-20T07:29:12.569273",
     "status": "completed"
    },
    "tags": []
   },
   "outputs": [
    {
     "data": {
      "text/plain": [
       "['Population, percent change - April 1, 2010 (estimates base) to July 1, 2016,  (V2016)',\n",
       " 'Persons under 5 years, percent, July 1, 2016,  (V2016)',\n",
       " 'Persons under 5 years, percent, April 1, 2010',\n",
       " 'Persons under 18 years, percent, July 1, 2016,  (V2016)',\n",
       " 'Persons under 18 years, percent, April 1, 2010',\n",
       " 'Persons 65 years and over, percent,  July 1, 2016,  (V2016)',\n",
       " 'Persons 65 years and over, percent, April 1, 2010',\n",
       " 'Female persons, percent,  July 1, 2016,  (V2016)',\n",
       " 'Female persons, percent, April 1, 2010',\n",
       " 'White alone, percent, July 1, 2016,  (V2016)',\n",
       " 'Black or African American alone, percent, July 1, 2016,  (V2016)',\n",
       " 'American Indian and Alaska Native alone, percent, July 1, 2016,  (V2016)',\n",
       " 'Asian alone, percent, July 1, 2016,  (V2016)',\n",
       " 'Native Hawaiian and Other Pacific Islander alone, percent, July 1, 2016,  (V2016)',\n",
       " 'Two or More Races, percent, July 1, 2016,  (V2016)',\n",
       " 'Hispanic or Latino, percent, July 1, 2016,  (V2016)',\n",
       " 'White alone, not Hispanic or Latino, percent, July 1, 2016,  (V2016)',\n",
       " 'Foreign born persons, percent, 2011-2015',\n",
       " 'Owner-occupied housing unit rate, 2011-2015',\n",
       " 'Living in same house 1 year ago, percent of persons age 1 year+, 2011-2015',\n",
       " 'Language other than English spoken at home, percent of persons age 5 years+, 2011-2015',\n",
       " 'High school graduate or higher, percent of persons age 25 years+, 2011-2015',\n",
       " \"Bachelor's degree or higher, percent of persons age 25 years+, 2011-2015\",\n",
       " 'With a disability, under age 65 years, percent, 2011-2015',\n",
       " 'Persons  without health insurance, under age 65 years, percent',\n",
       " 'In civilian labor force, total, percent of population age 16 years+, 2011-2015',\n",
       " 'In civilian labor force, female, percent of population age 16 years+, 2011-2015',\n",
       " 'Persons in poverty, percent',\n",
       " 'Total employment, percent change, 2014-2015']"
      ]
     },
     "execution_count": 67,
     "metadata": {},
     "output_type": "execute_result"
    }
   ],
   "source": [
    "in_percentage"
   ]
  },
  {
   "cell_type": "code",
   "execution_count": 68,
   "id": "6d71f536",
   "metadata": {
    "execution": {
     "iopub.execute_input": "2022-12-20T07:29:12.684062Z",
     "iopub.status.busy": "2022-12-20T07:29:12.683610Z",
     "iopub.status.idle": "2022-12-20T07:29:12.688968Z",
     "shell.execute_reply": "2022-12-20T07:29:12.687826Z"
    },
    "papermill": {
     "duration": 0.04283,
     "end_time": "2022-12-20T07:29:12.691259",
     "exception": false,
     "start_time": "2022-12-20T07:29:12.648429",
     "status": "completed"
    },
    "tags": []
   },
   "outputs": [],
   "source": [
    "in_usd = [\"Median value of owner-occupied housing units, 2011-2015\",\n",
    "\"Median selected monthly owner costs -with a mortgage, 2011-2015\",\n",
    "\"Median selected monthly owner costs -without a mortgage, 2011-2015\",\n",
    "\"Median gross rent, 2011-2015\",\n",
    "\"Total retail sales per capita, 2012\",\n",
    "\"Median household income (in 2015 dollars), 2011-2015\",\n",
    "\"Per capita income in past 12 months (in 2015 dollars), 2011-2015\"\n",
    "]"
   ]
  },
  {
   "cell_type": "code",
   "execution_count": 69,
   "id": "ad86f0f2",
   "metadata": {
    "execution": {
     "iopub.execute_input": "2022-12-20T07:29:12.761008Z",
     "iopub.status.busy": "2022-12-20T07:29:12.760650Z",
     "iopub.status.idle": "2022-12-20T07:29:12.767162Z",
     "shell.execute_reply": "2022-12-20T07:29:12.766083Z"
    },
    "papermill": {
     "duration": 0.043841,
     "end_time": "2022-12-20T07:29:12.769373",
     "exception": false,
     "start_time": "2022-12-20T07:29:12.725532",
     "status": "completed"
    },
    "tags": []
   },
   "outputs": [
    {
     "data": {
      "text/plain": [
       "['Median value of owner-occupied housing units, 2011-2015',\n",
       " 'Median selected monthly owner costs -with a mortgage, 2011-2015',\n",
       " 'Median selected monthly owner costs -without a mortgage, 2011-2015',\n",
       " 'Median gross rent, 2011-2015',\n",
       " 'Total retail sales per capita, 2012',\n",
       " 'Median household income (in 2015 dollars), 2011-2015',\n",
       " 'Per capita income in past 12 months (in 2015 dollars), 2011-2015']"
      ]
     },
     "execution_count": 69,
     "metadata": {},
     "output_type": "execute_result"
    }
   ],
   "source": [
    "in_usd"
   ]
  },
  {
   "cell_type": "code",
   "execution_count": 70,
   "id": "8cffcbf4",
   "metadata": {
    "execution": {
     "iopub.execute_input": "2022-12-20T07:29:12.839444Z",
     "iopub.status.busy": "2022-12-20T07:29:12.839003Z",
     "iopub.status.idle": "2022-12-20T07:29:12.864915Z",
     "shell.execute_reply": "2022-12-20T07:29:12.863779Z"
    },
    "papermill": {
     "duration": 0.063106,
     "end_time": "2022-12-20T07:29:12.867258",
     "exception": false,
     "start_time": "2022-12-20T07:29:12.804152",
     "status": "completed"
    },
    "tags": []
   },
   "outputs": [
    {
     "data": {
      "text/html": [
       "<div>\n",
       "<style scoped>\n",
       "    .dataframe tbody tr th:only-of-type {\n",
       "        vertical-align: middle;\n",
       "    }\n",
       "\n",
       "    .dataframe tbody tr th {\n",
       "        vertical-align: top;\n",
       "    }\n",
       "\n",
       "    .dataframe thead th {\n",
       "        text-align: right;\n",
       "    }\n",
       "</style>\n",
       "<table border=\"1\" class=\"dataframe\">\n",
       "  <thead>\n",
       "    <tr style=\"text-align: right;\">\n",
       "      <th>Fact</th>\n",
       "      <th>state</th>\n",
       "      <th>Population estimates, July 1, 2016,  (V2016)</th>\n",
       "      <th>Population estimates base, April 1, 2010,  (V2016)</th>\n",
       "      <th>Population, percent change - April 1, 2010 (estimates base) to July 1, 2016,  (V2016)</th>\n",
       "      <th>Population, Census, April 1, 2010</th>\n",
       "      <th>Persons under 5 years, percent, July 1, 2016,  (V2016)</th>\n",
       "      <th>Persons under 5 years, percent, April 1, 2010</th>\n",
       "      <th>Persons under 18 years, percent, July 1, 2016,  (V2016)</th>\n",
       "      <th>Persons under 18 years, percent, April 1, 2010</th>\n",
       "      <th>Persons 65 years and over, percent,  July 1, 2016,  (V2016)</th>\n",
       "      <th>...</th>\n",
       "      <th>Total nonemployer establishments, 2015</th>\n",
       "      <th>All firms, 2012</th>\n",
       "      <th>Men-owned firms, 2012</th>\n",
       "      <th>Women-owned firms, 2012</th>\n",
       "      <th>Minority-owned firms, 2012</th>\n",
       "      <th>Nonminority-owned firms, 2012</th>\n",
       "      <th>Veteran-owned firms, 2012</th>\n",
       "      <th>Nonveteran-owned firms, 2012</th>\n",
       "      <th>Population per square mile, 2010</th>\n",
       "      <th>Land area in square miles, 2010</th>\n",
       "    </tr>\n",
       "  </thead>\n",
       "  <tbody>\n",
       "    <tr>\n",
       "      <th>0</th>\n",
       "      <td>Alabama</td>\n",
       "      <td>4,863,300</td>\n",
       "      <td>4,780,131</td>\n",
       "      <td>1.70%</td>\n",
       "      <td>4,779,736</td>\n",
       "      <td>6.00%</td>\n",
       "      <td>6.40%</td>\n",
       "      <td>22.60%</td>\n",
       "      <td>23.70%</td>\n",
       "      <td>16.10%</td>\n",
       "      <td>...</td>\n",
       "      <td>322,025</td>\n",
       "      <td>374,153</td>\n",
       "      <td>203,604</td>\n",
       "      <td>137,630</td>\n",
       "      <td>92,219</td>\n",
       "      <td>272,651</td>\n",
       "      <td>41,943</td>\n",
       "      <td>316,984</td>\n",
       "      <td>94.4</td>\n",
       "      <td>50,645.33</td>\n",
       "    </tr>\n",
       "    <tr>\n",
       "      <th>1</th>\n",
       "      <td>Alaska</td>\n",
       "      <td>741,894</td>\n",
       "      <td>710,249</td>\n",
       "      <td>4.50%</td>\n",
       "      <td>710,231</td>\n",
       "      <td>7.30%</td>\n",
       "      <td>7.60%</td>\n",
       "      <td>25.20%</td>\n",
       "      <td>26.40%</td>\n",
       "      <td>10.40%</td>\n",
       "      <td>...</td>\n",
       "      <td>55,521</td>\n",
       "      <td>68,032</td>\n",
       "      <td>35,402</td>\n",
       "      <td>22,141</td>\n",
       "      <td>13,688</td>\n",
       "      <td>51,147</td>\n",
       "      <td>7,953</td>\n",
       "      <td>56,091</td>\n",
       "      <td>1.2</td>\n",
       "      <td>570,640.95</td>\n",
       "    </tr>\n",
       "  </tbody>\n",
       "</table>\n",
       "<p>2 rows × 65 columns</p>\n",
       "</div>"
      ],
      "text/plain": [
       "Fact    state Population estimates, July 1, 2016,  (V2016)  \\\n",
       "0     Alabama                                    4,863,300   \n",
       "1      Alaska                                      741,894   \n",
       "\n",
       "Fact Population estimates base, April 1, 2010,  (V2016)  \\\n",
       "0                                             4,780,131   \n",
       "1                                               710,249   \n",
       "\n",
       "Fact Population, percent change - April 1, 2010 (estimates base) to July 1, 2016,  (V2016)  \\\n",
       "0                                                 1.70%                                      \n",
       "1                                                 4.50%                                      \n",
       "\n",
       "Fact Population, Census, April 1, 2010  \\\n",
       "0                            4,779,736   \n",
       "1                              710,231   \n",
       "\n",
       "Fact Persons under 5 years, percent, July 1, 2016,  (V2016)  \\\n",
       "0                                                 6.00%       \n",
       "1                                                 7.30%       \n",
       "\n",
       "Fact Persons under 5 years, percent, April 1, 2010  \\\n",
       "0                                            6.40%   \n",
       "1                                            7.60%   \n",
       "\n",
       "Fact Persons under 18 years, percent, July 1, 2016,  (V2016)  \\\n",
       "0                                                22.60%        \n",
       "1                                                25.20%        \n",
       "\n",
       "Fact Persons under 18 years, percent, April 1, 2010  \\\n",
       "0                                            23.70%   \n",
       "1                                            26.40%   \n",
       "\n",
       "Fact Persons 65 years and over, percent,  July 1, 2016,  (V2016)  ...  \\\n",
       "0                                                16.10%           ...   \n",
       "1                                                10.40%           ...   \n",
       "\n",
       "Fact Total nonemployer establishments, 2015 All firms, 2012  \\\n",
       "0                                   322,025         374,153   \n",
       "1                                    55,521          68,032   \n",
       "\n",
       "Fact Men-owned firms, 2012 Women-owned firms, 2012 Minority-owned firms, 2012  \\\n",
       "0                  203,604                 137,630                     92,219   \n",
       "1                   35,402                  22,141                     13,688   \n",
       "\n",
       "Fact Nonminority-owned firms, 2012 Veteran-owned firms, 2012  \\\n",
       "0                          272,651                    41,943   \n",
       "1                           51,147                     7,953   \n",
       "\n",
       "Fact Nonveteran-owned firms, 2012 Population per square mile, 2010  \\\n",
       "0                         316,984                             94.4   \n",
       "1                          56,091                              1.2   \n",
       "\n",
       "Fact Land area in square miles, 2010  \n",
       "0                          50,645.33  \n",
       "1                         570,640.95  \n",
       "\n",
       "[2 rows x 65 columns]"
      ]
     },
     "execution_count": 70,
     "metadata": {},
     "output_type": "execute_result"
    }
   ],
   "source": [
    "s_test = us_census.copy()\n",
    "s_test.head(2)"
   ]
  },
  {
   "cell_type": "code",
   "execution_count": 71,
   "id": "69e8d086",
   "metadata": {
    "execution": {
     "iopub.execute_input": "2022-12-20T07:29:12.938756Z",
     "iopub.status.busy": "2022-12-20T07:29:12.938340Z",
     "iopub.status.idle": "2022-12-20T07:29:12.960701Z",
     "shell.execute_reply": "2022-12-20T07:29:12.959400Z"
    },
    "papermill": {
     "duration": 0.061971,
     "end_time": "2022-12-20T07:29:12.963509",
     "exception": false,
     "start_time": "2022-12-20T07:29:12.901538",
     "status": "completed"
    },
    "tags": []
   },
   "outputs": [
    {
     "name": "stderr",
     "output_type": "stream",
     "text": [
      "/opt/conda/lib/python3.7/site-packages/ipykernel_launcher.py:2: SettingWithCopyWarning: \n",
      "A value is trying to be set on a copy of a slice from a DataFrame.\n",
      "Try using .loc[row_indexer,col_indexer] = value instead\n",
      "\n",
      "See the caveats in the documentation: https://pandas.pydata.org/pandas-docs/stable/user_guide/indexing.html#returning-a-view-versus-a-copy\n",
      "  \n"
     ]
    }
   ],
   "source": [
    "for i in in_percentage:\n",
    "    us_census[i] = us_census[i].str.replace( \"%\", \"\")\n",
    "    #s_test[i] = s_test[i].str.replace( to_replace = \"%\", value = \"\", inplace = True)"
   ]
  },
  {
   "cell_type": "code",
   "execution_count": 72,
   "id": "cf840925",
   "metadata": {
    "execution": {
     "iopub.execute_input": "2022-12-20T07:29:13.035423Z",
     "iopub.status.busy": "2022-12-20T07:29:13.034989Z",
     "iopub.status.idle": "2022-12-20T07:29:13.061490Z",
     "shell.execute_reply": "2022-12-20T07:29:13.060342Z"
    },
    "papermill": {
     "duration": 0.06508,
     "end_time": "2022-12-20T07:29:13.063658",
     "exception": false,
     "start_time": "2022-12-20T07:29:12.998578",
     "status": "completed"
    },
    "tags": []
   },
   "outputs": [
    {
     "data": {
      "text/html": [
       "<div>\n",
       "<style scoped>\n",
       "    .dataframe tbody tr th:only-of-type {\n",
       "        vertical-align: middle;\n",
       "    }\n",
       "\n",
       "    .dataframe tbody tr th {\n",
       "        vertical-align: top;\n",
       "    }\n",
       "\n",
       "    .dataframe thead th {\n",
       "        text-align: right;\n",
       "    }\n",
       "</style>\n",
       "<table border=\"1\" class=\"dataframe\">\n",
       "  <thead>\n",
       "    <tr style=\"text-align: right;\">\n",
       "      <th>Fact</th>\n",
       "      <th>state</th>\n",
       "      <th>Population estimates, July 1, 2016,  (V2016)</th>\n",
       "      <th>Population estimates base, April 1, 2010,  (V2016)</th>\n",
       "      <th>Population, percent change - April 1, 2010 (estimates base) to July 1, 2016,  (V2016)</th>\n",
       "      <th>Population, Census, April 1, 2010</th>\n",
       "      <th>Persons under 5 years, percent, July 1, 2016,  (V2016)</th>\n",
       "      <th>Persons under 5 years, percent, April 1, 2010</th>\n",
       "      <th>Persons under 18 years, percent, July 1, 2016,  (V2016)</th>\n",
       "      <th>Persons under 18 years, percent, April 1, 2010</th>\n",
       "      <th>Persons 65 years and over, percent,  July 1, 2016,  (V2016)</th>\n",
       "      <th>...</th>\n",
       "      <th>Total nonemployer establishments, 2015</th>\n",
       "      <th>All firms, 2012</th>\n",
       "      <th>Men-owned firms, 2012</th>\n",
       "      <th>Women-owned firms, 2012</th>\n",
       "      <th>Minority-owned firms, 2012</th>\n",
       "      <th>Nonminority-owned firms, 2012</th>\n",
       "      <th>Veteran-owned firms, 2012</th>\n",
       "      <th>Nonveteran-owned firms, 2012</th>\n",
       "      <th>Population per square mile, 2010</th>\n",
       "      <th>Land area in square miles, 2010</th>\n",
       "    </tr>\n",
       "  </thead>\n",
       "  <tbody>\n",
       "    <tr>\n",
       "      <th>0</th>\n",
       "      <td>Alabama</td>\n",
       "      <td>4,863,300</td>\n",
       "      <td>4,780,131</td>\n",
       "      <td>1.70</td>\n",
       "      <td>4,779,736</td>\n",
       "      <td>6.00</td>\n",
       "      <td>6.40</td>\n",
       "      <td>22.60</td>\n",
       "      <td>23.70</td>\n",
       "      <td>16.10</td>\n",
       "      <td>...</td>\n",
       "      <td>322,025</td>\n",
       "      <td>374,153</td>\n",
       "      <td>203,604</td>\n",
       "      <td>137,630</td>\n",
       "      <td>92,219</td>\n",
       "      <td>272,651</td>\n",
       "      <td>41,943</td>\n",
       "      <td>316,984</td>\n",
       "      <td>94.4</td>\n",
       "      <td>50,645.33</td>\n",
       "    </tr>\n",
       "    <tr>\n",
       "      <th>1</th>\n",
       "      <td>Alaska</td>\n",
       "      <td>741,894</td>\n",
       "      <td>710,249</td>\n",
       "      <td>4.50</td>\n",
       "      <td>710,231</td>\n",
       "      <td>7.30</td>\n",
       "      <td>7.60</td>\n",
       "      <td>25.20</td>\n",
       "      <td>26.40</td>\n",
       "      <td>10.40</td>\n",
       "      <td>...</td>\n",
       "      <td>55,521</td>\n",
       "      <td>68,032</td>\n",
       "      <td>35,402</td>\n",
       "      <td>22,141</td>\n",
       "      <td>13,688</td>\n",
       "      <td>51,147</td>\n",
       "      <td>7,953</td>\n",
       "      <td>56,091</td>\n",
       "      <td>1.2</td>\n",
       "      <td>570,640.95</td>\n",
       "    </tr>\n",
       "    <tr>\n",
       "      <th>2</th>\n",
       "      <td>Arizona</td>\n",
       "      <td>6,931,071</td>\n",
       "      <td>6,392,301</td>\n",
       "      <td>8.40</td>\n",
       "      <td>6,392,017</td>\n",
       "      <td>6.30</td>\n",
       "      <td>7.10</td>\n",
       "      <td>23.50</td>\n",
       "      <td>25.50</td>\n",
       "      <td>16.90</td>\n",
       "      <td>...</td>\n",
       "      <td>451,951</td>\n",
       "      <td>499,926</td>\n",
       "      <td>245,243</td>\n",
       "      <td>182,425</td>\n",
       "      <td>135,313</td>\n",
       "      <td>344,981</td>\n",
       "      <td>46,780</td>\n",
       "      <td>427,582</td>\n",
       "      <td>56.3</td>\n",
       "      <td>113,594.08</td>\n",
       "    </tr>\n",
       "    <tr>\n",
       "      <th>3</th>\n",
       "      <td>Arkansas</td>\n",
       "      <td>2,988,248</td>\n",
       "      <td>2,916,025</td>\n",
       "      <td>2.50</td>\n",
       "      <td>2,915,918</td>\n",
       "      <td>6.40</td>\n",
       "      <td>6.80</td>\n",
       "      <td>23.60</td>\n",
       "      <td>24.40</td>\n",
       "      <td>16.30</td>\n",
       "      <td>...</td>\n",
       "      <td>198,380</td>\n",
       "      <td>231,959</td>\n",
       "      <td>123,158</td>\n",
       "      <td>75,962</td>\n",
       "      <td>35,982</td>\n",
       "      <td>189,029</td>\n",
       "      <td>25,915</td>\n",
       "      <td>192,988</td>\n",
       "      <td>56</td>\n",
       "      <td>52,035.48</td>\n",
       "    </tr>\n",
       "    <tr>\n",
       "      <th>4</th>\n",
       "      <td>California</td>\n",
       "      <td>39,250,017</td>\n",
       "      <td>37,254,522</td>\n",
       "      <td>5.40</td>\n",
       "      <td>37,253,956</td>\n",
       "      <td>6.30</td>\n",
       "      <td>6.80</td>\n",
       "      <td>23.20</td>\n",
       "      <td>25.00</td>\n",
       "      <td>13.60</td>\n",
       "      <td>...</td>\n",
       "      <td>3,206,958</td>\n",
       "      <td>3,548,449</td>\n",
       "      <td>1,852,580</td>\n",
       "      <td>1,320,085</td>\n",
       "      <td>1,619,857</td>\n",
       "      <td>1,819,107</td>\n",
       "      <td>252,377</td>\n",
       "      <td>3,176,341</td>\n",
       "      <td>239.1</td>\n",
       "      <td>155,779.22</td>\n",
       "    </tr>\n",
       "  </tbody>\n",
       "</table>\n",
       "<p>5 rows × 65 columns</p>\n",
       "</div>"
      ],
      "text/plain": [
       "Fact       state Population estimates, July 1, 2016,  (V2016)  \\\n",
       "0        Alabama                                    4,863,300   \n",
       "1         Alaska                                      741,894   \n",
       "2        Arizona                                    6,931,071   \n",
       "3       Arkansas                                    2,988,248   \n",
       "4     California                                   39,250,017   \n",
       "\n",
       "Fact Population estimates base, April 1, 2010,  (V2016)  \\\n",
       "0                                             4,780,131   \n",
       "1                                               710,249   \n",
       "2                                             6,392,301   \n",
       "3                                             2,916,025   \n",
       "4                                            37,254,522   \n",
       "\n",
       "Fact Population, percent change - April 1, 2010 (estimates base) to July 1, 2016,  (V2016)  \\\n",
       "0                                                  1.70                                      \n",
       "1                                                  4.50                                      \n",
       "2                                                  8.40                                      \n",
       "3                                                  2.50                                      \n",
       "4                                                  5.40                                      \n",
       "\n",
       "Fact Population, Census, April 1, 2010  \\\n",
       "0                            4,779,736   \n",
       "1                              710,231   \n",
       "2                            6,392,017   \n",
       "3                            2,915,918   \n",
       "4                           37,253,956   \n",
       "\n",
       "Fact Persons under 5 years, percent, July 1, 2016,  (V2016)  \\\n",
       "0                                                  6.00       \n",
       "1                                                  7.30       \n",
       "2                                                  6.30       \n",
       "3                                                  6.40       \n",
       "4                                                  6.30       \n",
       "\n",
       "Fact Persons under 5 years, percent, April 1, 2010  \\\n",
       "0                                             6.40   \n",
       "1                                             7.60   \n",
       "2                                             7.10   \n",
       "3                                             6.80   \n",
       "4                                             6.80   \n",
       "\n",
       "Fact Persons under 18 years, percent, July 1, 2016,  (V2016)  \\\n",
       "0                                                 22.60        \n",
       "1                                                 25.20        \n",
       "2                                                 23.50        \n",
       "3                                                 23.60        \n",
       "4                                                 23.20        \n",
       "\n",
       "Fact Persons under 18 years, percent, April 1, 2010  \\\n",
       "0                                             23.70   \n",
       "1                                             26.40   \n",
       "2                                             25.50   \n",
       "3                                             24.40   \n",
       "4                                             25.00   \n",
       "\n",
       "Fact Persons 65 years and over, percent,  July 1, 2016,  (V2016)  ...  \\\n",
       "0                                                 16.10           ...   \n",
       "1                                                 10.40           ...   \n",
       "2                                                 16.90           ...   \n",
       "3                                                 16.30           ...   \n",
       "4                                                 13.60           ...   \n",
       "\n",
       "Fact Total nonemployer establishments, 2015 All firms, 2012  \\\n",
       "0                                   322,025         374,153   \n",
       "1                                    55,521          68,032   \n",
       "2                                   451,951         499,926   \n",
       "3                                   198,380         231,959   \n",
       "4                                 3,206,958       3,548,449   \n",
       "\n",
       "Fact Men-owned firms, 2012 Women-owned firms, 2012 Minority-owned firms, 2012  \\\n",
       "0                  203,604                 137,630                     92,219   \n",
       "1                   35,402                  22,141                     13,688   \n",
       "2                  245,243                 182,425                    135,313   \n",
       "3                  123,158                  75,962                     35,982   \n",
       "4                1,852,580               1,320,085                  1,619,857   \n",
       "\n",
       "Fact Nonminority-owned firms, 2012 Veteran-owned firms, 2012  \\\n",
       "0                          272,651                    41,943   \n",
       "1                           51,147                     7,953   \n",
       "2                          344,981                    46,780   \n",
       "3                          189,029                    25,915   \n",
       "4                        1,819,107                   252,377   \n",
       "\n",
       "Fact Nonveteran-owned firms, 2012 Population per square mile, 2010  \\\n",
       "0                         316,984                             94.4   \n",
       "1                          56,091                              1.2   \n",
       "2                         427,582                             56.3   \n",
       "3                         192,988                               56   \n",
       "4                       3,176,341                            239.1   \n",
       "\n",
       "Fact Land area in square miles, 2010  \n",
       "0                          50,645.33  \n",
       "1                         570,640.95  \n",
       "2                         113,594.08  \n",
       "3                          52,035.48  \n",
       "4                         155,779.22  \n",
       "\n",
       "[5 rows x 65 columns]"
      ]
     },
     "execution_count": 72,
     "metadata": {},
     "output_type": "execute_result"
    }
   ],
   "source": [
    "us_census.head(5)"
   ]
  },
  {
   "cell_type": "code",
   "execution_count": 73,
   "id": "518d4092",
   "metadata": {
    "execution": {
     "iopub.execute_input": "2022-12-20T07:29:13.136803Z",
     "iopub.status.busy": "2022-12-20T07:29:13.136373Z",
     "iopub.status.idle": "2022-12-20T07:29:13.145102Z",
     "shell.execute_reply": "2022-12-20T07:29:13.143840Z"
    },
    "papermill": {
     "duration": 0.047908,
     "end_time": "2022-12-20T07:29:13.147500",
     "exception": false,
     "start_time": "2022-12-20T07:29:13.099592",
     "status": "completed"
    },
    "tags": []
   },
   "outputs": [
    {
     "data": {
      "text/plain": [
       "0    $125,500 \n",
       "1    $250,000 \n",
       "2    $167,500 \n",
       "3    $111,400 \n",
       "Name: Median value of owner-occupied housing units, 2011-2015, dtype: object"
      ]
     },
     "execution_count": 73,
     "metadata": {},
     "output_type": "execute_result"
    }
   ],
   "source": [
    "us_census['Median value of owner-occupied housing units, 2011-2015'].head(4)"
   ]
  },
  {
   "cell_type": "code",
   "execution_count": 74,
   "id": "0937ff94",
   "metadata": {
    "execution": {
     "iopub.execute_input": "2022-12-20T07:29:13.220744Z",
     "iopub.status.busy": "2022-12-20T07:29:13.220317Z",
     "iopub.status.idle": "2022-12-20T07:29:13.231314Z",
     "shell.execute_reply": "2022-12-20T07:29:13.230008Z"
    },
    "papermill": {
     "duration": 0.050663,
     "end_time": "2022-12-20T07:29:13.233785",
     "exception": false,
     "start_time": "2022-12-20T07:29:13.183122",
     "status": "completed"
    },
    "tags": []
   },
   "outputs": [
    {
     "name": "stderr",
     "output_type": "stream",
     "text": [
      "/opt/conda/lib/python3.7/site-packages/ipykernel_launcher.py:3: FutureWarning: The default value of regex will change from True to False in a future version. In addition, single character regular expressions will *not* be treated as literal strings when regex=True.\n",
      "  This is separate from the ipykernel package so we can avoid doing imports until\n",
      "/opt/conda/lib/python3.7/site-packages/ipykernel_launcher.py:3: SettingWithCopyWarning: \n",
      "A value is trying to be set on a copy of a slice from a DataFrame.\n",
      "Try using .loc[row_indexer,col_indexer] = value instead\n",
      "\n",
      "See the caveats in the documentation: https://pandas.pydata.org/pandas-docs/stable/user_guide/indexing.html#returning-a-view-versus-a-copy\n",
      "  This is separate from the ipykernel package so we can avoid doing imports until\n"
     ]
    }
   ],
   "source": [
    "in_usd\n",
    "for i in in_usd:\n",
    "    us_census[i] = us_census[i].str.replace( \"$\", \"\")\n"
   ]
  },
  {
   "cell_type": "code",
   "execution_count": 75,
   "id": "7c7b554b",
   "metadata": {
    "execution": {
     "iopub.execute_input": "2022-12-20T07:29:13.305563Z",
     "iopub.status.busy": "2022-12-20T07:29:13.305149Z",
     "iopub.status.idle": "2022-12-20T07:29:13.313562Z",
     "shell.execute_reply": "2022-12-20T07:29:13.312474Z"
    },
    "papermill": {
     "duration": 0.046739,
     "end_time": "2022-12-20T07:29:13.315819",
     "exception": false,
     "start_time": "2022-12-20T07:29:13.269080",
     "status": "completed"
    },
    "tags": []
   },
   "outputs": [
    {
     "data": {
      "text/plain": [
       "0    125,500 \n",
       "1    250,000 \n",
       "2    167,500 \n",
       "3    111,400 \n",
       "Name: Median value of owner-occupied housing units, 2011-2015, dtype: object"
      ]
     },
     "execution_count": 75,
     "metadata": {},
     "output_type": "execute_result"
    }
   ],
   "source": [
    "us_census['Median value of owner-occupied housing units, 2011-2015'].head(4)"
   ]
  },
  {
   "cell_type": "code",
   "execution_count": 76,
   "id": "1a9bed35",
   "metadata": {
    "execution": {
     "iopub.execute_input": "2022-12-20T07:29:13.387559Z",
     "iopub.status.busy": "2022-12-20T07:29:13.387142Z",
     "iopub.status.idle": "2022-12-20T07:29:13.392193Z",
     "shell.execute_reply": "2022-12-20T07:29:13.390995Z"
    },
    "papermill": {
     "duration": 0.043758,
     "end_time": "2022-12-20T07:29:13.394627",
     "exception": false,
     "start_time": "2022-12-20T07:29:13.350869",
     "status": "completed"
    },
    "tags": []
   },
   "outputs": [],
   "source": [
    "# for i in in_percentage:\n",
    "#     s_test.rename(columns = {s_test[i].str: s_test[i].str +  str('%')}, inplace = True, errors='ignore')"
   ]
  },
  {
   "cell_type": "code",
   "execution_count": 77,
   "id": "a8047d5e",
   "metadata": {
    "execution": {
     "iopub.execute_input": "2022-12-20T07:29:13.466929Z",
     "iopub.status.busy": "2022-12-20T07:29:13.466561Z",
     "iopub.status.idle": "2022-12-20T07:29:13.490781Z",
     "shell.execute_reply": "2022-12-20T07:29:13.489718Z"
    },
    "papermill": {
     "duration": 0.063051,
     "end_time": "2022-12-20T07:29:13.492983",
     "exception": false,
     "start_time": "2022-12-20T07:29:13.429932",
     "status": "completed"
    },
    "tags": []
   },
   "outputs": [
    {
     "data": {
      "text/html": [
       "<div>\n",
       "<style scoped>\n",
       "    .dataframe tbody tr th:only-of-type {\n",
       "        vertical-align: middle;\n",
       "    }\n",
       "\n",
       "    .dataframe tbody tr th {\n",
       "        vertical-align: top;\n",
       "    }\n",
       "\n",
       "    .dataframe thead th {\n",
       "        text-align: right;\n",
       "    }\n",
       "</style>\n",
       "<table border=\"1\" class=\"dataframe\">\n",
       "  <thead>\n",
       "    <tr style=\"text-align: right;\">\n",
       "      <th>Fact</th>\n",
       "      <th>state</th>\n",
       "      <th>Population estimates, July 1, 2016,  (V2016)</th>\n",
       "      <th>Population estimates base, April 1, 2010,  (V2016)</th>\n",
       "      <th>Population, percent change - April 1, 2010 (estimates base) to July 1, 2016,  (V2016)</th>\n",
       "      <th>Population, Census, April 1, 2010</th>\n",
       "      <th>Persons under 5 years, percent, July 1, 2016,  (V2016)</th>\n",
       "      <th>Persons under 5 years, percent, April 1, 2010</th>\n",
       "      <th>Persons under 18 years, percent, July 1, 2016,  (V2016)</th>\n",
       "      <th>Persons under 18 years, percent, April 1, 2010</th>\n",
       "      <th>Persons 65 years and over, percent,  July 1, 2016,  (V2016)</th>\n",
       "      <th>...</th>\n",
       "      <th>Total nonemployer establishments, 2015</th>\n",
       "      <th>All firms, 2012</th>\n",
       "      <th>Men-owned firms, 2012</th>\n",
       "      <th>Women-owned firms, 2012</th>\n",
       "      <th>Minority-owned firms, 2012</th>\n",
       "      <th>Nonminority-owned firms, 2012</th>\n",
       "      <th>Veteran-owned firms, 2012</th>\n",
       "      <th>Nonveteran-owned firms, 2012</th>\n",
       "      <th>Population per square mile, 2010</th>\n",
       "      <th>Land area in square miles, 2010</th>\n",
       "    </tr>\n",
       "  </thead>\n",
       "  <tbody>\n",
       "    <tr>\n",
       "      <th>0</th>\n",
       "      <td>Alabama</td>\n",
       "      <td>4,863,300</td>\n",
       "      <td>4,780,131</td>\n",
       "      <td>1.70</td>\n",
       "      <td>4,779,736</td>\n",
       "      <td>6.00</td>\n",
       "      <td>6.40</td>\n",
       "      <td>22.60</td>\n",
       "      <td>23.70</td>\n",
       "      <td>16.10</td>\n",
       "      <td>...</td>\n",
       "      <td>322,025</td>\n",
       "      <td>374,153</td>\n",
       "      <td>203,604</td>\n",
       "      <td>137,630</td>\n",
       "      <td>92,219</td>\n",
       "      <td>272,651</td>\n",
       "      <td>41,943</td>\n",
       "      <td>316,984</td>\n",
       "      <td>94.4</td>\n",
       "      <td>50,645.33</td>\n",
       "    </tr>\n",
       "    <tr>\n",
       "      <th>1</th>\n",
       "      <td>Alaska</td>\n",
       "      <td>741,894</td>\n",
       "      <td>710,249</td>\n",
       "      <td>4.50</td>\n",
       "      <td>710,231</td>\n",
       "      <td>7.30</td>\n",
       "      <td>7.60</td>\n",
       "      <td>25.20</td>\n",
       "      <td>26.40</td>\n",
       "      <td>10.40</td>\n",
       "      <td>...</td>\n",
       "      <td>55,521</td>\n",
       "      <td>68,032</td>\n",
       "      <td>35,402</td>\n",
       "      <td>22,141</td>\n",
       "      <td>13,688</td>\n",
       "      <td>51,147</td>\n",
       "      <td>7,953</td>\n",
       "      <td>56,091</td>\n",
       "      <td>1.2</td>\n",
       "      <td>570,640.95</td>\n",
       "    </tr>\n",
       "    <tr>\n",
       "      <th>2</th>\n",
       "      <td>Arizona</td>\n",
       "      <td>6,931,071</td>\n",
       "      <td>6,392,301</td>\n",
       "      <td>8.40</td>\n",
       "      <td>6,392,017</td>\n",
       "      <td>6.30</td>\n",
       "      <td>7.10</td>\n",
       "      <td>23.50</td>\n",
       "      <td>25.50</td>\n",
       "      <td>16.90</td>\n",
       "      <td>...</td>\n",
       "      <td>451,951</td>\n",
       "      <td>499,926</td>\n",
       "      <td>245,243</td>\n",
       "      <td>182,425</td>\n",
       "      <td>135,313</td>\n",
       "      <td>344,981</td>\n",
       "      <td>46,780</td>\n",
       "      <td>427,582</td>\n",
       "      <td>56.3</td>\n",
       "      <td>113,594.08</td>\n",
       "    </tr>\n",
       "    <tr>\n",
       "      <th>3</th>\n",
       "      <td>Arkansas</td>\n",
       "      <td>2,988,248</td>\n",
       "      <td>2,916,025</td>\n",
       "      <td>2.50</td>\n",
       "      <td>2,915,918</td>\n",
       "      <td>6.40</td>\n",
       "      <td>6.80</td>\n",
       "      <td>23.60</td>\n",
       "      <td>24.40</td>\n",
       "      <td>16.30</td>\n",
       "      <td>...</td>\n",
       "      <td>198,380</td>\n",
       "      <td>231,959</td>\n",
       "      <td>123,158</td>\n",
       "      <td>75,962</td>\n",
       "      <td>35,982</td>\n",
       "      <td>189,029</td>\n",
       "      <td>25,915</td>\n",
       "      <td>192,988</td>\n",
       "      <td>56</td>\n",
       "      <td>52,035.48</td>\n",
       "    </tr>\n",
       "  </tbody>\n",
       "</table>\n",
       "<p>4 rows × 65 columns</p>\n",
       "</div>"
      ],
      "text/plain": [
       "Fact     state Population estimates, July 1, 2016,  (V2016)  \\\n",
       "0      Alabama                                    4,863,300   \n",
       "1       Alaska                                      741,894   \n",
       "2      Arizona                                    6,931,071   \n",
       "3     Arkansas                                    2,988,248   \n",
       "\n",
       "Fact Population estimates base, April 1, 2010,  (V2016)  \\\n",
       "0                                             4,780,131   \n",
       "1                                               710,249   \n",
       "2                                             6,392,301   \n",
       "3                                             2,916,025   \n",
       "\n",
       "Fact Population, percent change - April 1, 2010 (estimates base) to July 1, 2016,  (V2016)  \\\n",
       "0                                                  1.70                                      \n",
       "1                                                  4.50                                      \n",
       "2                                                  8.40                                      \n",
       "3                                                  2.50                                      \n",
       "\n",
       "Fact Population, Census, April 1, 2010  \\\n",
       "0                            4,779,736   \n",
       "1                              710,231   \n",
       "2                            6,392,017   \n",
       "3                            2,915,918   \n",
       "\n",
       "Fact Persons under 5 years, percent, July 1, 2016,  (V2016)  \\\n",
       "0                                                  6.00       \n",
       "1                                                  7.30       \n",
       "2                                                  6.30       \n",
       "3                                                  6.40       \n",
       "\n",
       "Fact Persons under 5 years, percent, April 1, 2010  \\\n",
       "0                                             6.40   \n",
       "1                                             7.60   \n",
       "2                                             7.10   \n",
       "3                                             6.80   \n",
       "\n",
       "Fact Persons under 18 years, percent, July 1, 2016,  (V2016)  \\\n",
       "0                                                 22.60        \n",
       "1                                                 25.20        \n",
       "2                                                 23.50        \n",
       "3                                                 23.60        \n",
       "\n",
       "Fact Persons under 18 years, percent, April 1, 2010  \\\n",
       "0                                             23.70   \n",
       "1                                             26.40   \n",
       "2                                             25.50   \n",
       "3                                             24.40   \n",
       "\n",
       "Fact Persons 65 years and over, percent,  July 1, 2016,  (V2016)  ...  \\\n",
       "0                                                 16.10           ...   \n",
       "1                                                 10.40           ...   \n",
       "2                                                 16.90           ...   \n",
       "3                                                 16.30           ...   \n",
       "\n",
       "Fact Total nonemployer establishments, 2015 All firms, 2012  \\\n",
       "0                                   322,025         374,153   \n",
       "1                                    55,521          68,032   \n",
       "2                                   451,951         499,926   \n",
       "3                                   198,380         231,959   \n",
       "\n",
       "Fact Men-owned firms, 2012 Women-owned firms, 2012 Minority-owned firms, 2012  \\\n",
       "0                  203,604                 137,630                     92,219   \n",
       "1                   35,402                  22,141                     13,688   \n",
       "2                  245,243                 182,425                    135,313   \n",
       "3                  123,158                  75,962                     35,982   \n",
       "\n",
       "Fact Nonminority-owned firms, 2012 Veteran-owned firms, 2012  \\\n",
       "0                          272,651                    41,943   \n",
       "1                           51,147                     7,953   \n",
       "2                          344,981                    46,780   \n",
       "3                          189,029                    25,915   \n",
       "\n",
       "Fact Nonveteran-owned firms, 2012 Population per square mile, 2010  \\\n",
       "0                         316,984                             94.4   \n",
       "1                          56,091                              1.2   \n",
       "2                         427,582                             56.3   \n",
       "3                         192,988                               56   \n",
       "\n",
       "Fact Land area in square miles, 2010  \n",
       "0                          50,645.33  \n",
       "1                         570,640.95  \n",
       "2                         113,594.08  \n",
       "3                          52,035.48  \n",
       "\n",
       "[4 rows x 65 columns]"
      ]
     },
     "execution_count": 77,
     "metadata": {},
     "output_type": "execute_result"
    }
   ],
   "source": [
    "us_census.head(4)"
   ]
  },
  {
   "cell_type": "markdown",
   "id": "2f594104",
   "metadata": {
    "papermill": {
     "duration": 0.035518,
     "end_time": "2022-12-20T07:29:13.564190",
     "exception": false,
     "start_time": "2022-12-20T07:29:13.528672",
     "status": "completed"
    },
    "tags": []
   },
   "source": [
    "### Converting datatype from string to float"
   ]
  },
  {
   "cell_type": "code",
   "execution_count": 78,
   "id": "0ff3cc5d",
   "metadata": {
    "execution": {
     "iopub.execute_input": "2022-12-20T07:29:13.636828Z",
     "iopub.status.busy": "2022-12-20T07:29:13.636442Z",
     "iopub.status.idle": "2022-12-20T07:29:13.661229Z",
     "shell.execute_reply": "2022-12-20T07:29:13.659922Z"
    },
    "papermill": {
     "duration": 0.064286,
     "end_time": "2022-12-20T07:29:13.663872",
     "exception": false,
     "start_time": "2022-12-20T07:29:13.599586",
     "status": "completed"
    },
    "tags": []
   },
   "outputs": [
    {
     "data": {
      "text/html": [
       "<div>\n",
       "<style scoped>\n",
       "    .dataframe tbody tr th:only-of-type {\n",
       "        vertical-align: middle;\n",
       "    }\n",
       "\n",
       "    .dataframe tbody tr th {\n",
       "        vertical-align: top;\n",
       "    }\n",
       "\n",
       "    .dataframe thead th {\n",
       "        text-align: right;\n",
       "    }\n",
       "</style>\n",
       "<table border=\"1\" class=\"dataframe\">\n",
       "  <thead>\n",
       "    <tr style=\"text-align: right;\">\n",
       "      <th>Fact</th>\n",
       "      <th>state</th>\n",
       "      <th>Population estimates, July 1, 2016,  (V2016)</th>\n",
       "      <th>Population estimates base, April 1, 2010,  (V2016)</th>\n",
       "      <th>Population, percent change - April 1, 2010 (estimates base) to July 1, 2016,  (V2016)</th>\n",
       "      <th>Population, Census, April 1, 2010</th>\n",
       "      <th>Persons under 5 years, percent, July 1, 2016,  (V2016)</th>\n",
       "      <th>Persons under 5 years, percent, April 1, 2010</th>\n",
       "      <th>Persons under 18 years, percent, July 1, 2016,  (V2016)</th>\n",
       "      <th>Persons under 18 years, percent, April 1, 2010</th>\n",
       "      <th>Persons 65 years and over, percent,  July 1, 2016,  (V2016)</th>\n",
       "      <th>...</th>\n",
       "      <th>Total nonemployer establishments, 2015</th>\n",
       "      <th>All firms, 2012</th>\n",
       "      <th>Men-owned firms, 2012</th>\n",
       "      <th>Women-owned firms, 2012</th>\n",
       "      <th>Minority-owned firms, 2012</th>\n",
       "      <th>Nonminority-owned firms, 2012</th>\n",
       "      <th>Veteran-owned firms, 2012</th>\n",
       "      <th>Nonveteran-owned firms, 2012</th>\n",
       "      <th>Population per square mile, 2010</th>\n",
       "      <th>Land area in square miles, 2010</th>\n",
       "    </tr>\n",
       "  </thead>\n",
       "  <tbody>\n",
       "    <tr>\n",
       "      <th>0</th>\n",
       "      <td>Alabama</td>\n",
       "      <td>4,863,300</td>\n",
       "      <td>4,780,131</td>\n",
       "      <td>1.70</td>\n",
       "      <td>4,779,736</td>\n",
       "      <td>6.00</td>\n",
       "      <td>6.40</td>\n",
       "      <td>22.60</td>\n",
       "      <td>23.70</td>\n",
       "      <td>16.10</td>\n",
       "      <td>...</td>\n",
       "      <td>322,025</td>\n",
       "      <td>374,153</td>\n",
       "      <td>203,604</td>\n",
       "      <td>137,630</td>\n",
       "      <td>92,219</td>\n",
       "      <td>272,651</td>\n",
       "      <td>41,943</td>\n",
       "      <td>316,984</td>\n",
       "      <td>94.4</td>\n",
       "      <td>50,645.33</td>\n",
       "    </tr>\n",
       "    <tr>\n",
       "      <th>1</th>\n",
       "      <td>Alaska</td>\n",
       "      <td>741,894</td>\n",
       "      <td>710,249</td>\n",
       "      <td>4.50</td>\n",
       "      <td>710,231</td>\n",
       "      <td>7.30</td>\n",
       "      <td>7.60</td>\n",
       "      <td>25.20</td>\n",
       "      <td>26.40</td>\n",
       "      <td>10.40</td>\n",
       "      <td>...</td>\n",
       "      <td>55,521</td>\n",
       "      <td>68,032</td>\n",
       "      <td>35,402</td>\n",
       "      <td>22,141</td>\n",
       "      <td>13,688</td>\n",
       "      <td>51,147</td>\n",
       "      <td>7,953</td>\n",
       "      <td>56,091</td>\n",
       "      <td>1.2</td>\n",
       "      <td>570,640.95</td>\n",
       "    </tr>\n",
       "    <tr>\n",
       "      <th>2</th>\n",
       "      <td>Arizona</td>\n",
       "      <td>6,931,071</td>\n",
       "      <td>6,392,301</td>\n",
       "      <td>8.40</td>\n",
       "      <td>6,392,017</td>\n",
       "      <td>6.30</td>\n",
       "      <td>7.10</td>\n",
       "      <td>23.50</td>\n",
       "      <td>25.50</td>\n",
       "      <td>16.90</td>\n",
       "      <td>...</td>\n",
       "      <td>451,951</td>\n",
       "      <td>499,926</td>\n",
       "      <td>245,243</td>\n",
       "      <td>182,425</td>\n",
       "      <td>135,313</td>\n",
       "      <td>344,981</td>\n",
       "      <td>46,780</td>\n",
       "      <td>427,582</td>\n",
       "      <td>56.3</td>\n",
       "      <td>113,594.08</td>\n",
       "    </tr>\n",
       "  </tbody>\n",
       "</table>\n",
       "<p>3 rows × 65 columns</p>\n",
       "</div>"
      ],
      "text/plain": [
       "Fact    state Population estimates, July 1, 2016,  (V2016)  \\\n",
       "0     Alabama                                    4,863,300   \n",
       "1      Alaska                                      741,894   \n",
       "2     Arizona                                    6,931,071   \n",
       "\n",
       "Fact Population estimates base, April 1, 2010,  (V2016)  \\\n",
       "0                                             4,780,131   \n",
       "1                                               710,249   \n",
       "2                                             6,392,301   \n",
       "\n",
       "Fact Population, percent change - April 1, 2010 (estimates base) to July 1, 2016,  (V2016)  \\\n",
       "0                                                  1.70                                      \n",
       "1                                                  4.50                                      \n",
       "2                                                  8.40                                      \n",
       "\n",
       "Fact Population, Census, April 1, 2010  \\\n",
       "0                            4,779,736   \n",
       "1                              710,231   \n",
       "2                            6,392,017   \n",
       "\n",
       "Fact Persons under 5 years, percent, July 1, 2016,  (V2016)  \\\n",
       "0                                                  6.00       \n",
       "1                                                  7.30       \n",
       "2                                                  6.30       \n",
       "\n",
       "Fact Persons under 5 years, percent, April 1, 2010  \\\n",
       "0                                             6.40   \n",
       "1                                             7.60   \n",
       "2                                             7.10   \n",
       "\n",
       "Fact Persons under 18 years, percent, July 1, 2016,  (V2016)  \\\n",
       "0                                                 22.60        \n",
       "1                                                 25.20        \n",
       "2                                                 23.50        \n",
       "\n",
       "Fact Persons under 18 years, percent, April 1, 2010  \\\n",
       "0                                             23.70   \n",
       "1                                             26.40   \n",
       "2                                             25.50   \n",
       "\n",
       "Fact Persons 65 years and over, percent,  July 1, 2016,  (V2016)  ...  \\\n",
       "0                                                 16.10           ...   \n",
       "1                                                 10.40           ...   \n",
       "2                                                 16.90           ...   \n",
       "\n",
       "Fact Total nonemployer establishments, 2015 All firms, 2012  \\\n",
       "0                                   322,025         374,153   \n",
       "1                                    55,521          68,032   \n",
       "2                                   451,951         499,926   \n",
       "\n",
       "Fact Men-owned firms, 2012 Women-owned firms, 2012 Minority-owned firms, 2012  \\\n",
       "0                  203,604                 137,630                     92,219   \n",
       "1                   35,402                  22,141                     13,688   \n",
       "2                  245,243                 182,425                    135,313   \n",
       "\n",
       "Fact Nonminority-owned firms, 2012 Veteran-owned firms, 2012  \\\n",
       "0                          272,651                    41,943   \n",
       "1                           51,147                     7,953   \n",
       "2                          344,981                    46,780   \n",
       "\n",
       "Fact Nonveteran-owned firms, 2012 Population per square mile, 2010  \\\n",
       "0                         316,984                             94.4   \n",
       "1                          56,091                              1.2   \n",
       "2                         427,582                             56.3   \n",
       "\n",
       "Fact Land area in square miles, 2010  \n",
       "0                          50,645.33  \n",
       "1                         570,640.95  \n",
       "2                         113,594.08  \n",
       "\n",
       "[3 rows x 65 columns]"
      ]
     },
     "execution_count": 78,
     "metadata": {},
     "output_type": "execute_result"
    }
   ],
   "source": [
    "new_test = us_census.copy()\n",
    "new_test.head(3)"
   ]
  },
  {
   "cell_type": "code",
   "execution_count": 79,
   "id": "d5a735cc",
   "metadata": {
    "execution": {
     "iopub.execute_input": "2022-12-20T07:29:13.738981Z",
     "iopub.status.busy": "2022-12-20T07:29:13.738621Z",
     "iopub.status.idle": "2022-12-20T07:29:13.774603Z",
     "shell.execute_reply": "2022-12-20T07:29:13.773428Z"
    },
    "papermill": {
     "duration": 0.076575,
     "end_time": "2022-12-20T07:29:13.777214",
     "exception": false,
     "start_time": "2022-12-20T07:29:13.700639",
     "status": "completed"
    },
    "tags": []
   },
   "outputs": [],
   "source": [
    "import re\n",
    "for c in to_float:\n",
    "    new_test[c] = new_test[c].apply(lambda x: re.sub(\"\\D\", \"\", x))"
   ]
  },
  {
   "cell_type": "code",
   "execution_count": 80,
   "id": "2d31833b",
   "metadata": {
    "execution": {
     "iopub.execute_input": "2022-12-20T07:29:13.851152Z",
     "iopub.status.busy": "2022-12-20T07:29:13.850768Z",
     "iopub.status.idle": "2022-12-20T07:29:13.872831Z",
     "shell.execute_reply": "2022-12-20T07:29:13.871741Z"
    },
    "papermill": {
     "duration": 0.061663,
     "end_time": "2022-12-20T07:29:13.874970",
     "exception": false,
     "start_time": "2022-12-20T07:29:13.813307",
     "status": "completed"
    },
    "tags": []
   },
   "outputs": [
    {
     "data": {
      "text/html": [
       "<div>\n",
       "<style scoped>\n",
       "    .dataframe tbody tr th:only-of-type {\n",
       "        vertical-align: middle;\n",
       "    }\n",
       "\n",
       "    .dataframe tbody tr th {\n",
       "        vertical-align: top;\n",
       "    }\n",
       "\n",
       "    .dataframe thead th {\n",
       "        text-align: right;\n",
       "    }\n",
       "</style>\n",
       "<table border=\"1\" class=\"dataframe\">\n",
       "  <thead>\n",
       "    <tr style=\"text-align: right;\">\n",
       "      <th>Fact</th>\n",
       "      <th>state</th>\n",
       "      <th>Population estimates, July 1, 2016,  (V2016)</th>\n",
       "      <th>Population estimates base, April 1, 2010,  (V2016)</th>\n",
       "      <th>Population, percent change - April 1, 2010 (estimates base) to July 1, 2016,  (V2016)</th>\n",
       "      <th>Population, Census, April 1, 2010</th>\n",
       "      <th>Persons under 5 years, percent, July 1, 2016,  (V2016)</th>\n",
       "      <th>Persons under 5 years, percent, April 1, 2010</th>\n",
       "      <th>Persons under 18 years, percent, July 1, 2016,  (V2016)</th>\n",
       "      <th>Persons under 18 years, percent, April 1, 2010</th>\n",
       "      <th>Persons 65 years and over, percent,  July 1, 2016,  (V2016)</th>\n",
       "      <th>...</th>\n",
       "      <th>Total nonemployer establishments, 2015</th>\n",
       "      <th>All firms, 2012</th>\n",
       "      <th>Men-owned firms, 2012</th>\n",
       "      <th>Women-owned firms, 2012</th>\n",
       "      <th>Minority-owned firms, 2012</th>\n",
       "      <th>Nonminority-owned firms, 2012</th>\n",
       "      <th>Veteran-owned firms, 2012</th>\n",
       "      <th>Nonveteran-owned firms, 2012</th>\n",
       "      <th>Population per square mile, 2010</th>\n",
       "      <th>Land area in square miles, 2010</th>\n",
       "    </tr>\n",
       "  </thead>\n",
       "  <tbody>\n",
       "    <tr>\n",
       "      <th>0</th>\n",
       "      <td>Alabama</td>\n",
       "      <td>4863300</td>\n",
       "      <td>4780131</td>\n",
       "      <td>170</td>\n",
       "      <td>4779736</td>\n",
       "      <td>600</td>\n",
       "      <td>640</td>\n",
       "      <td>2260</td>\n",
       "      <td>2370</td>\n",
       "      <td>1610</td>\n",
       "      <td>...</td>\n",
       "      <td>322025</td>\n",
       "      <td>374153</td>\n",
       "      <td>203604</td>\n",
       "      <td>137630</td>\n",
       "      <td>92219</td>\n",
       "      <td>272651</td>\n",
       "      <td>41943</td>\n",
       "      <td>316984</td>\n",
       "      <td>944</td>\n",
       "      <td>5064533</td>\n",
       "    </tr>\n",
       "    <tr>\n",
       "      <th>1</th>\n",
       "      <td>Alaska</td>\n",
       "      <td>741894</td>\n",
       "      <td>710249</td>\n",
       "      <td>450</td>\n",
       "      <td>710231</td>\n",
       "      <td>730</td>\n",
       "      <td>760</td>\n",
       "      <td>2520</td>\n",
       "      <td>2640</td>\n",
       "      <td>1040</td>\n",
       "      <td>...</td>\n",
       "      <td>55521</td>\n",
       "      <td>68032</td>\n",
       "      <td>35402</td>\n",
       "      <td>22141</td>\n",
       "      <td>13688</td>\n",
       "      <td>51147</td>\n",
       "      <td>7953</td>\n",
       "      <td>56091</td>\n",
       "      <td>12</td>\n",
       "      <td>57064095</td>\n",
       "    </tr>\n",
       "    <tr>\n",
       "      <th>2</th>\n",
       "      <td>Arizona</td>\n",
       "      <td>6931071</td>\n",
       "      <td>6392301</td>\n",
       "      <td>840</td>\n",
       "      <td>6392017</td>\n",
       "      <td>630</td>\n",
       "      <td>710</td>\n",
       "      <td>2350</td>\n",
       "      <td>2550</td>\n",
       "      <td>1690</td>\n",
       "      <td>...</td>\n",
       "      <td>451951</td>\n",
       "      <td>499926</td>\n",
       "      <td>245243</td>\n",
       "      <td>182425</td>\n",
       "      <td>135313</td>\n",
       "      <td>344981</td>\n",
       "      <td>46780</td>\n",
       "      <td>427582</td>\n",
       "      <td>563</td>\n",
       "      <td>11359408</td>\n",
       "    </tr>\n",
       "  </tbody>\n",
       "</table>\n",
       "<p>3 rows × 65 columns</p>\n",
       "</div>"
      ],
      "text/plain": [
       "Fact    state Population estimates, July 1, 2016,  (V2016)  \\\n",
       "0     Alabama                                      4863300   \n",
       "1      Alaska                                       741894   \n",
       "2     Arizona                                      6931071   \n",
       "\n",
       "Fact Population estimates base, April 1, 2010,  (V2016)  \\\n",
       "0                                               4780131   \n",
       "1                                                710249   \n",
       "2                                               6392301   \n",
       "\n",
       "Fact Population, percent change - April 1, 2010 (estimates base) to July 1, 2016,  (V2016)  \\\n",
       "0                                                   170                                      \n",
       "1                                                   450                                      \n",
       "2                                                   840                                      \n",
       "\n",
       "Fact Population, Census, April 1, 2010  \\\n",
       "0                              4779736   \n",
       "1                               710231   \n",
       "2                              6392017   \n",
       "\n",
       "Fact Persons under 5 years, percent, July 1, 2016,  (V2016)  \\\n",
       "0                                                   600       \n",
       "1                                                   730       \n",
       "2                                                   630       \n",
       "\n",
       "Fact Persons under 5 years, percent, April 1, 2010  \\\n",
       "0                                              640   \n",
       "1                                              760   \n",
       "2                                              710   \n",
       "\n",
       "Fact Persons under 18 years, percent, July 1, 2016,  (V2016)  \\\n",
       "0                                                  2260        \n",
       "1                                                  2520        \n",
       "2                                                  2350        \n",
       "\n",
       "Fact Persons under 18 years, percent, April 1, 2010  \\\n",
       "0                                              2370   \n",
       "1                                              2640   \n",
       "2                                              2550   \n",
       "\n",
       "Fact Persons 65 years and over, percent,  July 1, 2016,  (V2016)  ...  \\\n",
       "0                                                  1610           ...   \n",
       "1                                                  1040           ...   \n",
       "2                                                  1690           ...   \n",
       "\n",
       "Fact Total nonemployer establishments, 2015 All firms, 2012  \\\n",
       "0                                    322025          374153   \n",
       "1                                     55521           68032   \n",
       "2                                    451951          499926   \n",
       "\n",
       "Fact Men-owned firms, 2012 Women-owned firms, 2012 Minority-owned firms, 2012  \\\n",
       "0                   203604                  137630                      92219   \n",
       "1                    35402                   22141                      13688   \n",
       "2                   245243                  182425                     135313   \n",
       "\n",
       "Fact Nonminority-owned firms, 2012 Veteran-owned firms, 2012  \\\n",
       "0                           272651                     41943   \n",
       "1                            51147                      7953   \n",
       "2                           344981                     46780   \n",
       "\n",
       "Fact Nonveteran-owned firms, 2012 Population per square mile, 2010  \\\n",
       "0                          316984                              944   \n",
       "1                           56091                               12   \n",
       "2                          427582                              563   \n",
       "\n",
       "Fact Land area in square miles, 2010  \n",
       "0                            5064533  \n",
       "1                           57064095  \n",
       "2                           11359408  \n",
       "\n",
       "[3 rows x 65 columns]"
      ]
     },
     "execution_count": 80,
     "metadata": {},
     "output_type": "execute_result"
    }
   ],
   "source": [
    "new_test.head(3)"
   ]
  },
  {
   "cell_type": "code",
   "execution_count": 81,
   "id": "7d76ea36",
   "metadata": {
    "execution": {
     "iopub.execute_input": "2022-12-20T07:29:13.951691Z",
     "iopub.status.busy": "2022-12-20T07:29:13.950567Z",
     "iopub.status.idle": "2022-12-20T07:29:13.959694Z",
     "shell.execute_reply": "2022-12-20T07:29:13.958717Z"
    },
    "papermill": {
     "duration": 0.050246,
     "end_time": "2022-12-20T07:29:13.961860",
     "exception": false,
     "start_time": "2022-12-20T07:29:13.911614",
     "status": "completed"
    },
    "tags": []
   },
   "outputs": [
    {
     "data": {
      "text/plain": [
       "Fact\n",
       "state                                                                                    object\n",
       "Population estimates, July 1, 2016,  (V2016)                                             object\n",
       "Population estimates base, April 1, 2010,  (V2016)                                       object\n",
       "Population, percent change - April 1, 2010 (estimates base) to July 1, 2016,  (V2016)    object\n",
       "Population, Census, April 1, 2010                                                        object\n",
       "                                                                                          ...  \n",
       "Nonminority-owned firms, 2012                                                            object\n",
       "Veteran-owned firms, 2012                                                                object\n",
       "Nonveteran-owned firms, 2012                                                             object\n",
       "Population per square mile, 2010                                                         object\n",
       "Land area in square miles, 2010                                                          object\n",
       "Length: 65, dtype: object"
      ]
     },
     "execution_count": 81,
     "metadata": {},
     "output_type": "execute_result"
    }
   ],
   "source": [
    "new_test.dtypes"
   ]
  },
  {
   "cell_type": "code",
   "execution_count": 82,
   "id": "48b13b8b",
   "metadata": {
    "execution": {
     "iopub.execute_input": "2022-12-20T07:29:14.037886Z",
     "iopub.status.busy": "2022-12-20T07:29:14.037499Z",
     "iopub.status.idle": "2022-12-20T07:29:14.068754Z",
     "shell.execute_reply": "2022-12-20T07:29:14.067857Z"
    },
    "papermill": {
     "duration": 0.071848,
     "end_time": "2022-12-20T07:29:14.071084",
     "exception": false,
     "start_time": "2022-12-20T07:29:13.999236",
     "status": "completed"
    },
    "tags": []
   },
   "outputs": [],
   "source": [
    "for c in to_float:\n",
    "    new_test[c] = pd.to_numeric(new_test[c], errors = 'ignore')"
   ]
  },
  {
   "cell_type": "code",
   "execution_count": 83,
   "id": "1da63f88",
   "metadata": {
    "execution": {
     "iopub.execute_input": "2022-12-20T07:29:14.146450Z",
     "iopub.status.busy": "2022-12-20T07:29:14.146005Z",
     "iopub.status.idle": "2022-12-20T07:29:14.167861Z",
     "shell.execute_reply": "2022-12-20T07:29:14.166631Z"
    },
    "papermill": {
     "duration": 0.063079,
     "end_time": "2022-12-20T07:29:14.170696",
     "exception": false,
     "start_time": "2022-12-20T07:29:14.107617",
     "status": "completed"
    },
    "tags": []
   },
   "outputs": [
    {
     "data": {
      "text/html": [
       "<div>\n",
       "<style scoped>\n",
       "    .dataframe tbody tr th:only-of-type {\n",
       "        vertical-align: middle;\n",
       "    }\n",
       "\n",
       "    .dataframe tbody tr th {\n",
       "        vertical-align: top;\n",
       "    }\n",
       "\n",
       "    .dataframe thead th {\n",
       "        text-align: right;\n",
       "    }\n",
       "</style>\n",
       "<table border=\"1\" class=\"dataframe\">\n",
       "  <thead>\n",
       "    <tr style=\"text-align: right;\">\n",
       "      <th>Fact</th>\n",
       "      <th>state</th>\n",
       "      <th>Population estimates, July 1, 2016,  (V2016)</th>\n",
       "      <th>Population estimates base, April 1, 2010,  (V2016)</th>\n",
       "      <th>Population, percent change - April 1, 2010 (estimates base) to July 1, 2016,  (V2016)</th>\n",
       "      <th>Population, Census, April 1, 2010</th>\n",
       "      <th>Persons under 5 years, percent, July 1, 2016,  (V2016)</th>\n",
       "      <th>Persons under 5 years, percent, April 1, 2010</th>\n",
       "      <th>Persons under 18 years, percent, July 1, 2016,  (V2016)</th>\n",
       "      <th>Persons under 18 years, percent, April 1, 2010</th>\n",
       "      <th>Persons 65 years and over, percent,  July 1, 2016,  (V2016)</th>\n",
       "      <th>...</th>\n",
       "      <th>Total nonemployer establishments, 2015</th>\n",
       "      <th>All firms, 2012</th>\n",
       "      <th>Men-owned firms, 2012</th>\n",
       "      <th>Women-owned firms, 2012</th>\n",
       "      <th>Minority-owned firms, 2012</th>\n",
       "      <th>Nonminority-owned firms, 2012</th>\n",
       "      <th>Veteran-owned firms, 2012</th>\n",
       "      <th>Nonveteran-owned firms, 2012</th>\n",
       "      <th>Population per square mile, 2010</th>\n",
       "      <th>Land area in square miles, 2010</th>\n",
       "    </tr>\n",
       "  </thead>\n",
       "  <tbody>\n",
       "    <tr>\n",
       "      <th>0</th>\n",
       "      <td>Alabama</td>\n",
       "      <td>4863300</td>\n",
       "      <td>4780131</td>\n",
       "      <td>170</td>\n",
       "      <td>4779736</td>\n",
       "      <td>600</td>\n",
       "      <td>640</td>\n",
       "      <td>2260</td>\n",
       "      <td>2370</td>\n",
       "      <td>1610</td>\n",
       "      <td>...</td>\n",
       "      <td>322025</td>\n",
       "      <td>374153</td>\n",
       "      <td>203604</td>\n",
       "      <td>137630</td>\n",
       "      <td>92219</td>\n",
       "      <td>272651</td>\n",
       "      <td>41943</td>\n",
       "      <td>316984</td>\n",
       "      <td>944</td>\n",
       "      <td>5064533</td>\n",
       "    </tr>\n",
       "    <tr>\n",
       "      <th>1</th>\n",
       "      <td>Alaska</td>\n",
       "      <td>741894</td>\n",
       "      <td>710249</td>\n",
       "      <td>450</td>\n",
       "      <td>710231</td>\n",
       "      <td>730</td>\n",
       "      <td>760</td>\n",
       "      <td>2520</td>\n",
       "      <td>2640</td>\n",
       "      <td>1040</td>\n",
       "      <td>...</td>\n",
       "      <td>55521</td>\n",
       "      <td>68032</td>\n",
       "      <td>35402</td>\n",
       "      <td>22141</td>\n",
       "      <td>13688</td>\n",
       "      <td>51147</td>\n",
       "      <td>7953</td>\n",
       "      <td>56091</td>\n",
       "      <td>12</td>\n",
       "      <td>57064095</td>\n",
       "    </tr>\n",
       "    <tr>\n",
       "      <th>2</th>\n",
       "      <td>Arizona</td>\n",
       "      <td>6931071</td>\n",
       "      <td>6392301</td>\n",
       "      <td>840</td>\n",
       "      <td>6392017</td>\n",
       "      <td>630</td>\n",
       "      <td>710</td>\n",
       "      <td>2350</td>\n",
       "      <td>2550</td>\n",
       "      <td>1690</td>\n",
       "      <td>...</td>\n",
       "      <td>451951</td>\n",
       "      <td>499926</td>\n",
       "      <td>245243</td>\n",
       "      <td>182425</td>\n",
       "      <td>135313</td>\n",
       "      <td>344981</td>\n",
       "      <td>46780</td>\n",
       "      <td>427582</td>\n",
       "      <td>563</td>\n",
       "      <td>11359408</td>\n",
       "    </tr>\n",
       "    <tr>\n",
       "      <th>3</th>\n",
       "      <td>Arkansas</td>\n",
       "      <td>2988248</td>\n",
       "      <td>2916025</td>\n",
       "      <td>250</td>\n",
       "      <td>2915918</td>\n",
       "      <td>640</td>\n",
       "      <td>680</td>\n",
       "      <td>2360</td>\n",
       "      <td>2440</td>\n",
       "      <td>1630</td>\n",
       "      <td>...</td>\n",
       "      <td>198380</td>\n",
       "      <td>231959</td>\n",
       "      <td>123158</td>\n",
       "      <td>75962</td>\n",
       "      <td>35982</td>\n",
       "      <td>189029</td>\n",
       "      <td>25915</td>\n",
       "      <td>192988</td>\n",
       "      <td>56</td>\n",
       "      <td>5203548</td>\n",
       "    </tr>\n",
       "    <tr>\n",
       "      <th>4</th>\n",
       "      <td>California</td>\n",
       "      <td>39250017</td>\n",
       "      <td>37254522</td>\n",
       "      <td>540</td>\n",
       "      <td>37253956</td>\n",
       "      <td>630</td>\n",
       "      <td>680</td>\n",
       "      <td>2320</td>\n",
       "      <td>2500</td>\n",
       "      <td>1360</td>\n",
       "      <td>...</td>\n",
       "      <td>3206958</td>\n",
       "      <td>3548449</td>\n",
       "      <td>1852580</td>\n",
       "      <td>1320085</td>\n",
       "      <td>1619857</td>\n",
       "      <td>1819107</td>\n",
       "      <td>252377</td>\n",
       "      <td>3176341</td>\n",
       "      <td>2391</td>\n",
       "      <td>15577922</td>\n",
       "    </tr>\n",
       "  </tbody>\n",
       "</table>\n",
       "<p>5 rows × 65 columns</p>\n",
       "</div>"
      ],
      "text/plain": [
       "Fact       state  Population estimates, July 1, 2016,  (V2016)  \\\n",
       "0        Alabama                                       4863300   \n",
       "1         Alaska                                        741894   \n",
       "2        Arizona                                       6931071   \n",
       "3       Arkansas                                       2988248   \n",
       "4     California                                      39250017   \n",
       "\n",
       "Fact  Population estimates base, April 1, 2010,  (V2016)  \\\n",
       "0                                               4780131    \n",
       "1                                                710249    \n",
       "2                                               6392301    \n",
       "3                                               2916025    \n",
       "4                                              37254522    \n",
       "\n",
       "Fact  Population, percent change - April 1, 2010 (estimates base) to July 1, 2016,  (V2016)  \\\n",
       "0                                                   170                                       \n",
       "1                                                   450                                       \n",
       "2                                                   840                                       \n",
       "3                                                   250                                       \n",
       "4                                                   540                                       \n",
       "\n",
       "Fact  Population, Census, April 1, 2010  \\\n",
       "0                               4779736   \n",
       "1                                710231   \n",
       "2                               6392017   \n",
       "3                               2915918   \n",
       "4                              37253956   \n",
       "\n",
       "Fact  Persons under 5 years, percent, July 1, 2016,  (V2016)  \\\n",
       "0                                                   600        \n",
       "1                                                   730        \n",
       "2                                                   630        \n",
       "3                                                   640        \n",
       "4                                                   630        \n",
       "\n",
       "Fact  Persons under 5 years, percent, April 1, 2010  \\\n",
       "0                                               640   \n",
       "1                                               760   \n",
       "2                                               710   \n",
       "3                                               680   \n",
       "4                                               680   \n",
       "\n",
       "Fact  Persons under 18 years, percent, July 1, 2016,  (V2016)  \\\n",
       "0                                                  2260         \n",
       "1                                                  2520         \n",
       "2                                                  2350         \n",
       "3                                                  2360         \n",
       "4                                                  2320         \n",
       "\n",
       "Fact  Persons under 18 years, percent, April 1, 2010  \\\n",
       "0                                               2370   \n",
       "1                                               2640   \n",
       "2                                               2550   \n",
       "3                                               2440   \n",
       "4                                               2500   \n",
       "\n",
       "Fact  Persons 65 years and over, percent,  July 1, 2016,  (V2016)  ...  \\\n",
       "0                                                  1610            ...   \n",
       "1                                                  1040            ...   \n",
       "2                                                  1690            ...   \n",
       "3                                                  1630            ...   \n",
       "4                                                  1360            ...   \n",
       "\n",
       "Fact  Total nonemployer establishments, 2015  All firms, 2012  \\\n",
       "0                                     322025           374153   \n",
       "1                                      55521            68032   \n",
       "2                                     451951           499926   \n",
       "3                                     198380           231959   \n",
       "4                                    3206958          3548449   \n",
       "\n",
       "Fact  Men-owned firms, 2012  Women-owned firms, 2012  \\\n",
       "0                    203604                   137630   \n",
       "1                     35402                    22141   \n",
       "2                    245243                   182425   \n",
       "3                    123158                    75962   \n",
       "4                   1852580                  1320085   \n",
       "\n",
       "Fact  Minority-owned firms, 2012  Nonminority-owned firms, 2012  \\\n",
       "0                          92219                         272651   \n",
       "1                          13688                          51147   \n",
       "2                         135313                         344981   \n",
       "3                          35982                         189029   \n",
       "4                        1619857                        1819107   \n",
       "\n",
       "Fact  Veteran-owned firms, 2012  Nonveteran-owned firms, 2012  \\\n",
       "0                         41943                        316984   \n",
       "1                          7953                         56091   \n",
       "2                         46780                        427582   \n",
       "3                         25915                        192988   \n",
       "4                        252377                       3176341   \n",
       "\n",
       "Fact  Population per square mile, 2010  Land area in square miles, 2010  \n",
       "0                                  944                          5064533  \n",
       "1                                   12                         57064095  \n",
       "2                                  563                         11359408  \n",
       "3                                   56                          5203548  \n",
       "4                                 2391                         15577922  \n",
       "\n",
       "[5 rows x 65 columns]"
      ]
     },
     "execution_count": 83,
     "metadata": {},
     "output_type": "execute_result"
    }
   ],
   "source": [
    "new_test.head()"
   ]
  },
  {
   "cell_type": "code",
   "execution_count": 84,
   "id": "acfcc36f",
   "metadata": {
    "execution": {
     "iopub.execute_input": "2022-12-20T07:29:14.247577Z",
     "iopub.status.busy": "2022-12-20T07:29:14.247162Z",
     "iopub.status.idle": "2022-12-20T07:29:14.255796Z",
     "shell.execute_reply": "2022-12-20T07:29:14.254973Z"
    },
    "papermill": {
     "duration": 0.050051,
     "end_time": "2022-12-20T07:29:14.257868",
     "exception": false,
     "start_time": "2022-12-20T07:29:14.207817",
     "status": "completed"
    },
    "tags": []
   },
   "outputs": [
    {
     "data": {
      "text/plain": [
       "Fact\n",
       "state                                                                                    object\n",
       "Population estimates, July 1, 2016,  (V2016)                                              int64\n",
       "Population estimates base, April 1, 2010,  (V2016)                                        int64\n",
       "Population, percent change - April 1, 2010 (estimates base) to July 1, 2016,  (V2016)     int64\n",
       "Population, Census, April 1, 2010                                                         int64\n",
       "                                                                                          ...  \n",
       "Nonminority-owned firms, 2012                                                             int64\n",
       "Veteran-owned firms, 2012                                                                 int64\n",
       "Nonveteran-owned firms, 2012                                                              int64\n",
       "Population per square mile, 2010                                                          int64\n",
       "Land area in square miles, 2010                                                           int64\n",
       "Length: 65, dtype: object"
      ]
     },
     "execution_count": 84,
     "metadata": {},
     "output_type": "execute_result"
    }
   ],
   "source": [
    "new_test.dtypes"
   ]
  },
  {
   "cell_type": "code",
   "execution_count": 85,
   "id": "793b0f1a",
   "metadata": {
    "execution": {
     "iopub.execute_input": "2022-12-20T07:29:14.336596Z",
     "iopub.status.busy": "2022-12-20T07:29:14.335574Z",
     "iopub.status.idle": "2022-12-20T07:29:14.361567Z",
     "shell.execute_reply": "2022-12-20T07:29:14.360338Z"
    },
    "papermill": {
     "duration": 0.067632,
     "end_time": "2022-12-20T07:29:14.364802",
     "exception": false,
     "start_time": "2022-12-20T07:29:14.297170",
     "status": "completed"
    },
    "tags": []
   },
   "outputs": [
    {
     "name": "stdout",
     "output_type": "stream",
     "text": [
      "<class 'pandas.core.frame.DataFrame'>\n",
      "RangeIndex: 50 entries, 0 to 49\n",
      "Data columns (total 65 columns):\n",
      " #   Column                                                                                  Non-Null Count  Dtype  \n",
      "---  ------                                                                                  --------------  -----  \n",
      " 0   state                                                                                   50 non-null     object \n",
      " 1   Population estimates, July 1, 2016,  (V2016)                                            50 non-null     int64  \n",
      " 2   Population estimates base, April 1, 2010,  (V2016)                                      50 non-null     int64  \n",
      " 3   Population, percent change - April 1, 2010 (estimates base) to July 1, 2016,  (V2016)   50 non-null     int64  \n",
      " 4   Population, Census, April 1, 2010                                                       50 non-null     int64  \n",
      " 5   Persons under 5 years, percent, July 1, 2016,  (V2016)                                  50 non-null     int64  \n",
      " 6   Persons under 5 years, percent, April 1, 2010                                           50 non-null     int64  \n",
      " 7   Persons under 18 years, percent, July 1, 2016,  (V2016)                                 50 non-null     int64  \n",
      " 8   Persons under 18 years, percent, April 1, 2010                                          50 non-null     int64  \n",
      " 9   Persons 65 years and over, percent,  July 1, 2016,  (V2016)                             50 non-null     int64  \n",
      " 10  Persons 65 years and over, percent, April 1, 2010                                       50 non-null     int64  \n",
      " 11  Female persons, percent,  July 1, 2016,  (V2016)                                        50 non-null     int64  \n",
      " 12  Female persons, percent, April 1, 2010                                                  50 non-null     int64  \n",
      " 13  White alone, percent, July 1, 2016,  (V2016)                                            50 non-null     int64  \n",
      " 14  Black or African American alone, percent, July 1, 2016,  (V2016)                        50 non-null     int64  \n",
      " 15  American Indian and Alaska Native alone, percent, July 1, 2016,  (V2016)                50 non-null     int64  \n",
      " 16  Asian alone, percent, July 1, 2016,  (V2016)                                            50 non-null     int64  \n",
      " 17  Native Hawaiian and Other Pacific Islander alone, percent, July 1, 2016,  (V2016)       46 non-null     float64\n",
      " 18  Two or More Races, percent, July 1, 2016,  (V2016)                                      50 non-null     int64  \n",
      " 19  Hispanic or Latino, percent, July 1, 2016,  (V2016)                                     50 non-null     int64  \n",
      " 20  White alone, not Hispanic or Latino, percent, July 1, 2016,  (V2016)                    50 non-null     int64  \n",
      " 21  Veterans, 2011-2015                                                                     50 non-null     int64  \n",
      " 22  Foreign born persons, percent, 2011-2015                                                50 non-null     int64  \n",
      " 23  Housing units,  July 1, 2016,  (V2016)                                                  50 non-null     int64  \n",
      " 24  Housing units, April 1, 2010                                                            50 non-null     int64  \n",
      " 25  Owner-occupied housing unit rate, 2011-2015                                             50 non-null     int64  \n",
      " 26  Median value of owner-occupied housing units, 2011-2015                                 50 non-null     int64  \n",
      " 27  Median selected monthly owner costs -with a mortgage, 2011-2015                         50 non-null     int64  \n",
      " 28  Median selected monthly owner costs -without a mortgage, 2011-2015                      50 non-null     int64  \n",
      " 29  Median gross rent, 2011-2015                                                            50 non-null     int64  \n",
      " 30  Building permits, 2016                                                                  50 non-null     int64  \n",
      " 31  Households, 2011-2015                                                                   50 non-null     int64  \n",
      " 32  Persons per household, 2011-2015                                                        50 non-null     int64  \n",
      " 33  Living in same house 1 year ago, percent of persons age 1 year+, 2011-2015              50 non-null     int64  \n",
      " 34  Language other than English spoken at home, percent of persons age 5 years+, 2011-2015  50 non-null     int64  \n",
      " 35  High school graduate or higher, percent of persons age 25 years+, 2011-2015             50 non-null     int64  \n",
      " 36  Bachelor's degree or higher, percent of persons age 25 years+, 2011-2015                50 non-null     int64  \n",
      " 37  With a disability, under age 65 years, percent, 2011-2015                               50 non-null     int64  \n",
      " 38  Persons  without health insurance, under age 65 years, percent                          50 non-null     int64  \n",
      " 39  In civilian labor force, total, percent of population age 16 years+, 2011-2015          50 non-null     int64  \n",
      " 40  In civilian labor force, female, percent of population age 16 years+, 2011-2015         50 non-null     int64  \n",
      " 41  Total accommodation and food services sales, 2012 ($1,000)                              50 non-null     int64  \n",
      " 42  Total health care and social assistance receipts/revenue, 2012 ($1,000)                 50 non-null     int64  \n",
      " 43  Total manufacturers shipments, 2012 ($1,000)                                            48 non-null     float64\n",
      " 44  Total merchant wholesaler sales, 2012 ($1,000)                                          50 non-null     int64  \n",
      " 45  Total retail sales, 2012 ($1,000)                                                       50 non-null     int64  \n",
      " 46  Total retail sales per capita, 2012                                                     50 non-null     int64  \n",
      " 47  Mean travel time to work (minutes), workers age 16 years+, 2011-2015                    50 non-null     int64  \n",
      " 48  Median household income (in 2015 dollars), 2011-2015                                    50 non-null     int64  \n",
      " 49  Per capita income in past 12 months (in 2015 dollars), 2011-2015                        50 non-null     int64  \n",
      " 50  Persons in poverty, percent                                                             50 non-null     int64  \n",
      " 51  Total employer establishments, 2015                                                     50 non-null     int64  \n",
      " 52  Total employment, 2015                                                                  50 non-null     int64  \n",
      " 53  Total annual payroll, 2015 ($1,000)                                                     50 non-null     int64  \n",
      " 54  Total employment, percent change, 2014-2015                                             49 non-null     float64\n",
      " 55  Total nonemployer establishments, 2015                                                  50 non-null     int64  \n",
      " 56  All firms, 2012                                                                         50 non-null     int64  \n",
      " 57  Men-owned firms, 2012                                                                   50 non-null     int64  \n",
      " 58  Women-owned firms, 2012                                                                 50 non-null     int64  \n",
      " 59  Minority-owned firms, 2012                                                              50 non-null     int64  \n",
      " 60  Nonminority-owned firms, 2012                                                           50 non-null     int64  \n",
      " 61  Veteran-owned firms, 2012                                                               50 non-null     int64  \n",
      " 62  Nonveteran-owned firms, 2012                                                            50 non-null     int64  \n",
      " 63  Population per square mile, 2010                                                        50 non-null     int64  \n",
      " 64  Land area in square miles, 2010                                                         50 non-null     int64  \n",
      "dtypes: float64(3), int64(61), object(1)\n",
      "memory usage: 25.5+ KB\n"
     ]
    }
   ],
   "source": [
    "new_test.info()"
   ]
  },
  {
   "cell_type": "markdown",
   "id": "bad7f57b",
   "metadata": {
    "papermill": {
     "duration": 0.03789,
     "end_time": "2022-12-20T07:29:14.441381",
     "exception": false,
     "start_time": "2022-12-20T07:29:14.403491",
     "status": "completed"
    },
    "tags": []
   },
   "source": [
    "### Classifying/Grouping state s to west, east...\n",
    "\n",
    "\n",
    "np.repeat('red', len(red_df))\n",
    "# create color array for red dataframe\n",
    "color_red = np.repeat('red', len(red_df))\n",
    "color_red\n",
    "array(['red', 'red', 'red', ..., 'red', 'red', 'red'], \n",
    "      dtype='<U3')\n",
    ".shape\n",
    "white_df.shape\n",
    "(4898, 12)\n",
    "len(white_df)\n",
    "4898"
   ]
  },
  {
   "cell_type": "code",
   "execution_count": 86,
   "id": "bf48e341",
   "metadata": {
    "execution": {
     "iopub.execute_input": "2022-12-20T07:29:14.519899Z",
     "iopub.status.busy": "2022-12-20T07:29:14.519493Z",
     "iopub.status.idle": "2022-12-20T07:29:14.523825Z",
     "shell.execute_reply": "2022-12-20T07:29:14.522962Z"
    },
    "papermill": {
     "duration": 0.045155,
     "end_time": "2022-12-20T07:29:14.525902",
     "exception": false,
     "start_time": "2022-12-20T07:29:14.480747",
     "status": "completed"
    },
    "tags": []
   },
   "outputs": [],
   "source": [
    "# Load your data and print out a few lines. Perform operations to inspect data\n",
    "#   types and look for instances of missing or possibly errant data.\n"
   ]
  },
  {
   "cell_type": "markdown",
   "id": "b0aa18dd",
   "metadata": {
    "papermill": {
     "duration": 0.036969,
     "end_time": "2022-12-20T07:29:14.600211",
     "exception": false,
     "start_time": "2022-12-20T07:29:14.563242",
     "status": "completed"
    },
    "tags": []
   },
   "source": [
    "> **Tip**: You should _not_ perform too many operations in each cell. Create cells freely to explore your data. One option that you can take with this project is to do a lot of explorations in an initial notebook. These don't have to be organized, but make sure you use enough comments to understand the purpose of each code cell. Then, after you're done with your analysis, create a duplicate notebook where you will trim the excess and organize your steps so that you have a flowing, cohesive report.\n",
    "\n",
    "> **Tip**: Make sure that you keep your reader informed on the steps that you are taking in your investigation. Follow every code cell, or every set of related code cells, with a markdown cell to describe to the reader what was found in the preceding cell(s). Try to make it so that the reader can then understand what they will be seeing in the following cell(s).\n",
    "\n",
    "### Data Cleaning (Replace this with more specific notes!)"
   ]
  },
  {
   "cell_type": "code",
   "execution_count": 87,
   "id": "4a6d74cd",
   "metadata": {
    "execution": {
     "iopub.execute_input": "2022-12-20T07:29:14.676735Z",
     "iopub.status.busy": "2022-12-20T07:29:14.676303Z",
     "iopub.status.idle": "2022-12-20T07:29:14.680728Z",
     "shell.execute_reply": "2022-12-20T07:29:14.679575Z"
    },
    "papermill": {
     "duration": 0.045651,
     "end_time": "2022-12-20T07:29:14.682921",
     "exception": false,
     "start_time": "2022-12-20T07:29:14.637270",
     "status": "completed"
    },
    "tags": []
   },
   "outputs": [],
   "source": [
    "# After discussing the structure of the data and any problems that need to be\n",
    "#   cleaned, perform those cleaning steps in the second part of this section.\n"
   ]
  },
  {
   "cell_type": "markdown",
   "id": "945aeaa5",
   "metadata": {
    "papermill": {
     "duration": 0.038425,
     "end_time": "2022-12-20T07:29:14.758521",
     "exception": false,
     "start_time": "2022-12-20T07:29:14.720096",
     "status": "completed"
    },
    "tags": []
   },
   "source": [
    "<a id='eda'></a>\n",
    "## Exploratory Data Analysis\n",
    "\n",
    "> **Tip**: Now that you've trimmed and cleaned your data, you're ready to move on to exploration. Compute statistics and create visualizations with the goal of addressing the research questions that you posed in the Introduction section. It is recommended that you be systematic with your approach. Look at one variable at a time, and then follow it up by looking at relationships between variables.\n",
    "\n",
    "### Research Question 1 (Replace this header name!)"
   ]
  },
  {
   "cell_type": "code",
   "execution_count": 88,
   "id": "8a5c5000",
   "metadata": {
    "execution": {
     "iopub.execute_input": "2022-12-20T07:29:14.862130Z",
     "iopub.status.busy": "2022-12-20T07:29:14.861716Z",
     "iopub.status.idle": "2022-12-20T07:29:14.866063Z",
     "shell.execute_reply": "2022-12-20T07:29:14.865121Z"
    },
    "papermill": {
     "duration": 0.0584,
     "end_time": "2022-12-20T07:29:14.868336",
     "exception": false,
     "start_time": "2022-12-20T07:29:14.809936",
     "status": "completed"
    },
    "tags": []
   },
   "outputs": [],
   "source": [
    "# Use this, and more code cells, to explore your data. Don't forget to add\n",
    "#   Markdown cells to document your observations and findings.\n"
   ]
  },
  {
   "cell_type": "markdown",
   "id": "5129c4f2",
   "metadata": {
    "papermill": {
     "duration": 0.037676,
     "end_time": "2022-12-20T07:29:14.943993",
     "exception": false,
     "start_time": "2022-12-20T07:29:14.906317",
     "status": "completed"
    },
    "tags": []
   },
   "source": [
    "### Research Question 2  (Replace this header name!)"
   ]
  },
  {
   "cell_type": "code",
   "execution_count": 89,
   "id": "f656555e",
   "metadata": {
    "execution": {
     "iopub.execute_input": "2022-12-20T07:29:15.019878Z",
     "iopub.status.busy": "2022-12-20T07:29:15.019503Z",
     "iopub.status.idle": "2022-12-20T07:29:15.024127Z",
     "shell.execute_reply": "2022-12-20T07:29:15.022918Z"
    },
    "papermill": {
     "duration": 0.04547,
     "end_time": "2022-12-20T07:29:15.026541",
     "exception": false,
     "start_time": "2022-12-20T07:29:14.981071",
     "status": "completed"
    },
    "tags": []
   },
   "outputs": [],
   "source": [
    "# Continue to explore the data to address your additional research\n",
    "#   questions. Add more headers as needed if you have more questions to\n",
    "#   investigate.\n"
   ]
  },
  {
   "cell_type": "markdown",
   "id": "42532b77",
   "metadata": {
    "papermill": {
     "duration": 0.036658,
     "end_time": "2022-12-20T07:29:15.100410",
     "exception": false,
     "start_time": "2022-12-20T07:29:15.063752",
     "status": "completed"
    },
    "tags": []
   },
   "source": [
    "<a id='conclusions'></a>\n",
    "## Conclusions\n",
    "\n",
    "> **Tip**: Finally, summarize your findings and the results that have been performed. Make sure that you are clear with regards to the limitations of your exploration. If you haven't done any statistical tests, do not imply any statistical conclusions. And make sure you avoid implying causation from correlation!\n",
    "\n",
    "> **Tip**: Once you are satisfied with your work, you should save a copy of the report in HTML or PDF form via the **File** > **Download as** submenu. Before exporting your report, check over it to make sure that the flow of the report is complete. You should probably remove all of the \"Tip\" quotes like this one so that the presentation is as tidy as possible. Congratulations!"
   ]
  },
  {
   "cell_type": "code",
   "execution_count": null,
   "id": "39e59516",
   "metadata": {
    "papermill": {
     "duration": 0.0371,
     "end_time": "2022-12-20T07:29:15.174625",
     "exception": false,
     "start_time": "2022-12-20T07:29:15.137525",
     "status": "completed"
    },
    "tags": []
   },
   "outputs": [],
   "source": []
  }
 ],
 "metadata": {
  "kernelspec": {
   "display_name": "Python 3",
   "language": "python",
   "name": "python3"
  },
  "language_info": {
   "codemirror_mode": {
    "name": "ipython",
    "version": 3
   },
   "file_extension": ".py",
   "mimetype": "text/x-python",
   "name": "python",
   "nbconvert_exporter": "python",
   "pygments_lexer": "ipython3",
   "version": "3.7.12"
  },
  "papermill": {
   "default_parameters": {},
   "duration": 23.247096,
   "end_time": "2022-12-20T07:29:15.935605",
   "environment_variables": {},
   "exception": null,
   "input_path": "__notebook__.ipynb",
   "output_path": "__notebook__.ipynb",
   "parameters": {},
   "start_time": "2022-12-20T07:28:52.688509",
   "version": "2.3.4"
  }
 },
 "nbformat": 4,
 "nbformat_minor": 5
}
