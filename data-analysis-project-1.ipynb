{
 "cells": [
  {
   "cell_type": "markdown",
   "id": "7bdf1f64",
   "metadata": {
    "execution": {
     "iopub.execute_input": "2022-12-20T07:38:30.293106Z",
     "iopub.status.busy": "2022-12-20T07:38:30.292588Z",
     "iopub.status.idle": "2022-12-20T07:38:30.300755Z",
     "shell.execute_reply": "2022-12-20T07:38:30.298968Z",
     "shell.execute_reply.started": "2022-12-20T07:38:30.293061Z"
    },
    "papermill": {
     "duration": 0.033077,
     "end_time": "2022-12-21T06:31:04.574660",
     "exception": false,
     "start_time": "2022-12-21T06:31:04.541583",
     "status": "completed"
    },
    "tags": []
   },
   "source": [
    "#### Author: Fagbamigbe Kehinde\n",
    "Twitter: @bornofdata"
   ]
  },
  {
   "cell_type": "markdown",
   "id": "f1d8efef",
   "metadata": {
    "papermill": {
     "duration": 0.030195,
     "end_time": "2022-12-21T06:31:04.635221",
     "exception": false,
     "start_time": "2022-12-21T06:31:04.605026",
     "status": "completed"
    },
    "tags": []
   },
   "source": [
    "> **Tip**: Welcome to the Investigate a Dataset project! You will find tips in quoted sections like this to help organize your approach to your investigation. Before submitting your project, it will be a good idea to go back through your report and remove these sections to make the presentation of your work as tidy as possible. First things first, you might want to double-click this Markdown cell and change the title so that it reflects your dataset and investigation.\n",
    "\n",
    "# Project: Investigate a Dataset (Replace this with something more specific!)\n",
    "\n",
    "## Table of Contents\n",
    "<ul>\n",
    "<li><a href=\"#intro\">Introduction</a></li>\n",
    "<li><a href=\"#wrangling\">Data Wrangling</a></li>\n",
    "<li><a href=\"#eda\">Exploratory Data Analysis</a></li>\n",
    "<li><a href=\"#conclusions\">Conclusions</a></li>\n",
    "</ul>"
   ]
  },
  {
   "cell_type": "markdown",
   "id": "c67a59af",
   "metadata": {
    "papermill": {
     "duration": 0.029847,
     "end_time": "2022-12-21T06:31:04.695746",
     "exception": false,
     "start_time": "2022-12-21T06:31:04.665899",
     "status": "completed"
    },
    "tags": []
   },
   "source": [
    "<a id='intro'></a>\n",
    "## Introduction\n",
    "\n",
    "> **Tip**: In this section of the report, provide a brief introduction to the dataset you've selected for analysis. At the end of this section, describe the questions that you plan on exploring over the course of the report. Try to build your report around the analysis of at least one dependent variable and three independent variables.\n",
    ">\n",
    "> If you haven't yet selected and downloaded your data, make sure you do that first before coming back here. If you're not sure what questions to ask right now, then make sure you familiarize yourself with the variables and the dataset context for ideas of what to explore."
   ]
  },
  {
   "cell_type": "code",
   "execution_count": 1,
   "id": "c5b9c1e6",
   "metadata": {
    "execution": {
     "iopub.execute_input": "2022-12-21T06:31:04.759057Z",
     "iopub.status.busy": "2022-12-21T06:31:04.757619Z",
     "iopub.status.idle": "2022-12-21T06:31:06.010909Z",
     "shell.execute_reply": "2022-12-21T06:31:06.009307Z"
    },
    "papermill": {
     "duration": 1.288154,
     "end_time": "2022-12-21T06:31:06.014105",
     "exception": false,
     "start_time": "2022-12-21T06:31:04.725951",
     "status": "completed"
    },
    "tags": []
   },
   "outputs": [],
   "source": [
    "# import statements for all of the packages that I plan to use.\n",
    "\n",
    "\n",
    "import pandas as pd\n",
    "import numpy as np\n",
    "import matplotlib.pyplot as plt\n",
    "import seaborn as sns\n",
    "import os\n",
    "%matplotlib inline\n",
    "sns.set_style('darkgrid')\n"
   ]
  },
  {
   "cell_type": "markdown",
   "id": "4709937d",
   "metadata": {
    "papermill": {
     "duration": 0.030561,
     "end_time": "2022-12-21T06:31:06.075928",
     "exception": false,
     "start_time": "2022-12-21T06:31:06.045367",
     "status": "completed"
    },
    "tags": []
   },
   "source": [
    "<a id='wrangling'></a>\n",
    "## Data Wrangling\n",
    "\n",
    "> **Tip**: In this section of the report, you will load in the data, check for cleanliness, and then trim and clean your dataset for analysis. Make sure that you document your steps carefully and justify your cleaning decisions.\n",
    "\n",
    "### General Properties"
   ]
  },
  {
   "cell_type": "code",
   "execution_count": 2,
   "id": "75681f9d",
   "metadata": {
    "execution": {
     "iopub.execute_input": "2022-12-21T06:31:06.148777Z",
     "iopub.status.busy": "2022-12-21T06:31:06.148437Z",
     "iopub.status.idle": "2022-12-21T06:31:06.156730Z",
     "shell.execute_reply": "2022-12-21T06:31:06.155506Z"
    },
    "papermill": {
     "duration": 0.047407,
     "end_time": "2022-12-21T06:31:06.158700",
     "exception": false,
     "start_time": "2022-12-21T06:31:06.111293",
     "status": "completed"
    },
    "tags": []
   },
   "outputs": [
    {
     "data": {
      "text/plain": [
       "'/kaggle/working'"
      ]
     },
     "execution_count": 2,
     "metadata": {},
     "output_type": "execute_result"
    }
   ],
   "source": [
    "pwd"
   ]
  },
  {
   "cell_type": "markdown",
   "id": "81b6f3b0",
   "metadata": {
    "execution": {
     "iopub.execute_input": "2022-12-19T21:47:58.671702Z",
     "iopub.status.busy": "2022-12-19T21:47:58.671069Z",
     "iopub.status.idle": "2022-12-19T21:47:58.705379Z",
     "shell.execute_reply": "2022-12-19T21:47:58.703653Z",
     "shell.execute_reply.started": "2022-12-19T21:47:58.671565Z"
    },
    "papermill": {
     "duration": 0.030148,
     "end_time": "2022-12-21T06:31:06.221051",
     "exception": false,
     "start_time": "2022-12-21T06:31:06.190903",
     "status": "completed"
    },
    "tags": []
   },
   "source": [
    "[Link](https://www.census.gov/quickfacts/gunbarrelcitycitytexas) to dataset"
   ]
  },
  {
   "cell_type": "markdown",
   "id": "14e7a712",
   "metadata": {
    "papermill": {
     "duration": 0.03023,
     "end_time": "2022-12-21T06:31:06.282797",
     "exception": false,
     "start_time": "2022-12-21T06:31:06.252567",
     "status": "completed"
    },
    "tags": []
   },
   "source": [
    "Some estimates presented here come from sample data, and thus have sampling errors that may render some apparent differences between geographies statistically indistinguishable. Click the Quick Info  icon to the left of each row in TABLE view to learn about sampling error.\n",
    "\n",
    "The vintage year (e.g., V2021) refers to the final year of the series (2020 thru 2021). Different vintage years of estimates are not comparable.\n",
    "\n",
    "Users should exercise caution when comparing 2017-2021 ACS 5-year estimates to other ACS estimates. For more information, please visit the 2021 5-year ACS Comparison Guidance page.\n",
    "\n",
    "Fact Notes\n",
    "(a)Includes persons reporting only one race\n",
    "(c)Economic Census - Puerto Rico data are not comparable to U.S. Economic Census data\n",
    "(b)Hispanics may be of any race, so also are included in applicable race categories\n",
    "Value Flags\n",
    "-Either no or too few sample observations were available to compute an estimate, or a ratio of medians cannot be calculated because one or both of the median estimates falls in the lowest or upper interval of an open ended distribution.\n",
    "FFewer than 25 firms\n",
    "DSuppressed to avoid disclosure of confidential information\n",
    "NData for this geographic area cannot be displayed because the number of sample cases is too small.\n",
    "FNFootnote on this item in place of data\n",
    "XNot applicable\n",
    "SSuppressed; does not meet publication standards\n",
    "NANot available\n",
    "ZValue greater than zero but less than half unit of measure shown\n",
    "QuickFacts data are derived from: Population Estimates, American Community Survey, Census of Population and Housing, Current Population Survey, Small Area Health Insurance Estimates, Small Area Income and Poverty Estimates, State and County Housing Unit Estimates, County Business Patterns, Nonemployer Statistics, Economic Census, Survey of Business Owners, Building Permits."
   ]
  },
  {
   "cell_type": "markdown",
   "id": "5448a3aa",
   "metadata": {
    "papermill": {
     "duration": 0.031001,
     "end_time": "2022-12-21T06:31:06.345376",
     "exception": false,
     "start_time": "2022-12-21T06:31:06.314375",
     "status": "completed"
    },
    "tags": []
   },
   "source": [
    "### Gun data"
   ]
  },
  {
   "cell_type": "markdown",
   "id": "c687e733",
   "metadata": {
    "papermill": {
     "duration": 0.030389,
     "end_time": "2022-12-21T06:31:06.406875",
     "exception": false,
     "start_time": "2022-12-21T06:31:06.376486",
     "status": "completed"
    },
    "tags": []
   },
   "source": [
    "Here is a [link](https://www.fbi.gov/file-repository/nics_firearm_checks_-_month_year_by_state_type.pdf/view) to the description of firearms\n",
    "\n",
    "\n",
    "\n",
    "Each column represents the type of transaction submitted to the **National Instant Criminal Background Check System (NICS)**. In addition, each type of transaction is broken down by the type of firearm—handgun, long gun, and other. The types of firearms are defined by the **Bureau of Alcohol, Tobacco, Firearms and Explosives** as follows:\n",
    "\n",
    "- Handgun—(a) any firearm which has a short stock and is designed to be held and fired by the use of a single hand; and (b) any combination of parts from which a firearm described in paragraph (a) can be assembled.\n",
    "\n",
    "- Long Gun—a weapon designed or redesigned, made or remade, and intended to be fired from the shoulder, and designed or redesigned and made or remade to use the energy of the explosive in (a) a fixed metallic cartridge to fire a single projectile through a rifled bore for each single pull of the trigger; or (b) a fixed shotgun shell to fire through a smooth bore either\n",
    "a number of ball shot or a single projectile for each single pull of the trigger.\n",
    "\n",
    "- Other—refers to frames, receivers, and other firearms that are neither handguns nor long guns (rifles or shotguns), such as firearms having a pistol grip that expel a shotgun shell, or National Firearms Act firearms, including silencers.\n",
    "\n",
    "The transaction types indicated in yellow on the chart are for background checks initiated by an officially-licensed **Federal Firearms Licensee** (FFL) or criminal justice/law enforcement agency prior to the issuance of a firearm-related permit or transfer. \n",
    "\n",
    "\n",
    "The indication of **“multiple”** denotes a background check where more than one type of firearm is associated to a single\n",
    "background check.\n",
    "\n",
    "**“Admin”** denotes the administrative checks that are for other authorized uses of the NICS.\n",
    "\n",
    "Other types of transactions are explained below:\n",
    "\n",
    "- Pre-Pawn—background checks requested by an officially-licensed FFL on prospective firearm transferees seeking to pledge or pawn a firearm as security for the payment or repayment of money, prior to actually pledging or pawning the firearm.\n",
    "\n",
    "- Redemption—background checks requested by an officially-licensed FFL on prospective firearm transferees attempting to regain possession of a firearm after pledging or pawning a firearm as security at a pawn shop.\n",
    "\n",
    "- Returned/Disposition—background checks requested by criminal justice/law enforcement agencies prior to returning a firearm in its possession to the respective transferee, to ensure the individual is not prohibited.\n",
    "\n",
    "- Rentals—background checks requested by an officially-licensed FFL on prospective firearm transferees attempting to possess a firearm when the firearm is loaned or rented for use off the premises of the business.\n",
    "\n",
    "- Private Sale—background checks requested by an officially-licensed FFL on prospective firearm transferees attempting to possess a firearm from a private party seller who is not an officially-licensed FFL.\n",
    "\n",
    "- Return to Seller-Private Sale—background checks requested by an officially-licensed FFL on prospective firearm transferees attempting to possess a firearm from a private party seller who is not an officially-licensed FFL.\n",
    "\n",
    "It is important to note that the statistics within this chart represent the number of firearm background checks initiated through the NICS. They do not represent the number of firearms sold. Based on varying state laws and purchase scenarios, a one-to-one correlation cannot be made between a firearm background check and a firearm sale."
   ]
  },
  {
   "cell_type": "markdown",
   "id": "34f6c039",
   "metadata": {
    "papermill": {
     "duration": 0.035085,
     "end_time": "2022-12-21T06:31:06.473445",
     "exception": false,
     "start_time": "2022-12-21T06:31:06.438360",
     "status": "completed"
    },
    "tags": []
   },
   "source": [
    "- month\n",
    "- state\n",
    "- permit\n",
    "- permit_recheck\n",
    "- handgun\n",
    "- long_gun\n",
    "- other\n",
    "- multiple\n",
    "- admin\n",
    "- prepawn_handgun\n",
    "- prepawn_long_gun\n",
    "- prepawn_other\n",
    "- redemption_handgun\n",
    "- redemption_long_gun\n",
    "- redemption_other\n",
    "- returned_handgun \n",
    "- returned_long_gun\n",
    "- returned_other \n",
    "- rentals_handgun\n",
    "- rentals_long_gun\n",
    "- private_sale_handgun \n",
    "- private_sale_long_gun\n",
    "- private_sale_other\n",
    "- return_to_seller_handgun\n",
    "- return_to_seller_long_gun\n",
    "- return_to_seller_other\n",
    "- totals"
   ]
  },
  {
   "cell_type": "markdown",
   "id": "445057b4",
   "metadata": {
    "papermill": {
     "duration": 0.031818,
     "end_time": "2022-12-21T06:31:06.540351",
     "exception": false,
     "start_time": "2022-12-21T06:31:06.508533",
     "status": "completed"
    },
    "tags": []
   },
   "source": [
    "## US Census data and Categories\n",
    "\n",
    "The data in the US Census data is classified under different categories as seen below\n",
    "\n",
    "- Population\n",
    "- Age and Sex\n",
    "- Race and Hispanic Origin\n",
    "- Population Characteristics\n",
    "- Housing\n",
    "- Families & Living Arrangements\n",
    "- Computer and Internet Use\n",
    "- Education\n",
    "- Health\n",
    "- Economy\n",
    "- Transportation\n",
    "- Income & Poverty\n",
    "- Businesses\n",
    "- Geography"
   ]
  },
  {
   "cell_type": "code",
   "execution_count": 3,
   "id": "7f6e29b4",
   "metadata": {
    "execution": {
     "iopub.execute_input": "2022-12-21T06:31:06.605669Z",
     "iopub.status.busy": "2022-12-21T06:31:06.605328Z",
     "iopub.status.idle": "2022-12-21T06:31:06.622494Z",
     "shell.execute_reply": "2022-12-21T06:31:06.620827Z"
    },
    "papermill": {
     "duration": 0.051661,
     "end_time": "2022-12-21T06:31:06.625193",
     "exception": false,
     "start_time": "2022-12-21T06:31:06.573532",
     "status": "completed"
    },
    "tags": []
   },
   "outputs": [
    {
     "name": "stdout",
     "output_type": "stream",
     "text": [
      "/kaggle/src/script.ipynb\n",
      "/kaggle/lib/kaggle/gcp.py\n",
      "/kaggle/input/gundata/gun-data.xlsx\n",
      "/kaggle/input/uscensus/u.s.-census-data.csv\n",
      "/kaggle/working/__notebook__.ipynb\n"
     ]
    }
   ],
   "source": [
    "for dirname, _, filenames in os.walk('/kaggle/'):\n",
    "    for filename in filenames:\n",
    "        print(os.path.join(dirname, filename))"
   ]
  },
  {
   "cell_type": "code",
   "execution_count": 4,
   "id": "1b57e63e",
   "metadata": {
    "execution": {
     "iopub.execute_input": "2022-12-21T06:31:06.688909Z",
     "iopub.status.busy": "2022-12-21T06:31:06.688532Z",
     "iopub.status.idle": "2022-12-21T06:31:09.843299Z",
     "shell.execute_reply": "2022-12-21T06:31:09.841911Z"
    },
    "papermill": {
     "duration": 3.189729,
     "end_time": "2022-12-21T06:31:09.845630",
     "exception": false,
     "start_time": "2022-12-21T06:31:06.655901",
     "status": "completed"
    },
    "tags": []
   },
   "outputs": [
    {
     "data": {
      "text/html": [
       "<div>\n",
       "<style scoped>\n",
       "    .dataframe tbody tr th:only-of-type {\n",
       "        vertical-align: middle;\n",
       "    }\n",
       "\n",
       "    .dataframe tbody tr th {\n",
       "        vertical-align: top;\n",
       "    }\n",
       "\n",
       "    .dataframe thead th {\n",
       "        text-align: right;\n",
       "    }\n",
       "</style>\n",
       "<table border=\"1\" class=\"dataframe\">\n",
       "  <thead>\n",
       "    <tr style=\"text-align: right;\">\n",
       "      <th></th>\n",
       "      <th>month</th>\n",
       "      <th>state</th>\n",
       "      <th>permit</th>\n",
       "      <th>permit_recheck</th>\n",
       "      <th>handgun</th>\n",
       "      <th>long_gun</th>\n",
       "      <th>other</th>\n",
       "      <th>multiple</th>\n",
       "      <th>admin</th>\n",
       "      <th>prepawn_handgun</th>\n",
       "      <th>...</th>\n",
       "      <th>returned_other</th>\n",
       "      <th>rentals_handgun</th>\n",
       "      <th>rentals_long_gun</th>\n",
       "      <th>private_sale_handgun</th>\n",
       "      <th>private_sale_long_gun</th>\n",
       "      <th>private_sale_other</th>\n",
       "      <th>return_to_seller_handgun</th>\n",
       "      <th>return_to_seller_long_gun</th>\n",
       "      <th>return_to_seller_other</th>\n",
       "      <th>totals</th>\n",
       "    </tr>\n",
       "  </thead>\n",
       "  <tbody>\n",
       "    <tr>\n",
       "      <th>0</th>\n",
       "      <td>2017-09</td>\n",
       "      <td>Alabama</td>\n",
       "      <td>16717.0</td>\n",
       "      <td>0.0</td>\n",
       "      <td>5734.0</td>\n",
       "      <td>6320.0</td>\n",
       "      <td>221.0</td>\n",
       "      <td>317</td>\n",
       "      <td>0.0</td>\n",
       "      <td>15.0</td>\n",
       "      <td>...</td>\n",
       "      <td>0.0</td>\n",
       "      <td>0.0</td>\n",
       "      <td>0.0</td>\n",
       "      <td>9.0</td>\n",
       "      <td>16.0</td>\n",
       "      <td>3.0</td>\n",
       "      <td>0.0</td>\n",
       "      <td>0.0</td>\n",
       "      <td>3.0</td>\n",
       "      <td>32019</td>\n",
       "    </tr>\n",
       "    <tr>\n",
       "      <th>1</th>\n",
       "      <td>2017-09</td>\n",
       "      <td>Alaska</td>\n",
       "      <td>209.0</td>\n",
       "      <td>2.0</td>\n",
       "      <td>2320.0</td>\n",
       "      <td>2930.0</td>\n",
       "      <td>219.0</td>\n",
       "      <td>160</td>\n",
       "      <td>0.0</td>\n",
       "      <td>5.0</td>\n",
       "      <td>...</td>\n",
       "      <td>0.0</td>\n",
       "      <td>0.0</td>\n",
       "      <td>0.0</td>\n",
       "      <td>17.0</td>\n",
       "      <td>24.0</td>\n",
       "      <td>1.0</td>\n",
       "      <td>0.0</td>\n",
       "      <td>0.0</td>\n",
       "      <td>0.0</td>\n",
       "      <td>6303</td>\n",
       "    </tr>\n",
       "    <tr>\n",
       "      <th>2</th>\n",
       "      <td>2017-09</td>\n",
       "      <td>Arizona</td>\n",
       "      <td>5069.0</td>\n",
       "      <td>382.0</td>\n",
       "      <td>11063.0</td>\n",
       "      <td>7946.0</td>\n",
       "      <td>920.0</td>\n",
       "      <td>631</td>\n",
       "      <td>0.0</td>\n",
       "      <td>13.0</td>\n",
       "      <td>...</td>\n",
       "      <td>0.0</td>\n",
       "      <td>0.0</td>\n",
       "      <td>0.0</td>\n",
       "      <td>38.0</td>\n",
       "      <td>12.0</td>\n",
       "      <td>2.0</td>\n",
       "      <td>0.0</td>\n",
       "      <td>0.0</td>\n",
       "      <td>0.0</td>\n",
       "      <td>28394</td>\n",
       "    </tr>\n",
       "  </tbody>\n",
       "</table>\n",
       "<p>3 rows × 27 columns</p>\n",
       "</div>"
      ],
      "text/plain": [
       "     month    state   permit  permit_recheck  handgun  long_gun  other  \\\n",
       "0  2017-09  Alabama  16717.0             0.0   5734.0    6320.0  221.0   \n",
       "1  2017-09   Alaska    209.0             2.0   2320.0    2930.0  219.0   \n",
       "2  2017-09  Arizona   5069.0           382.0  11063.0    7946.0  920.0   \n",
       "\n",
       "   multiple  admin  prepawn_handgun  ...  returned_other  rentals_handgun  \\\n",
       "0       317    0.0             15.0  ...             0.0              0.0   \n",
       "1       160    0.0              5.0  ...             0.0              0.0   \n",
       "2       631    0.0             13.0  ...             0.0              0.0   \n",
       "\n",
       "   rentals_long_gun  private_sale_handgun  private_sale_long_gun  \\\n",
       "0               0.0                   9.0                   16.0   \n",
       "1               0.0                  17.0                   24.0   \n",
       "2               0.0                  38.0                   12.0   \n",
       "\n",
       "   private_sale_other  return_to_seller_handgun  return_to_seller_long_gun  \\\n",
       "0                 3.0                       0.0                        0.0   \n",
       "1                 1.0                       0.0                        0.0   \n",
       "2                 2.0                       0.0                        0.0   \n",
       "\n",
       "   return_to_seller_other  totals  \n",
       "0                     3.0   32019  \n",
       "1                     0.0    6303  \n",
       "2                     0.0   28394  \n",
       "\n",
       "[3 rows x 27 columns]"
      ]
     },
     "execution_count": 4,
     "metadata": {},
     "output_type": "execute_result"
    }
   ],
   "source": [
    "gun_data = pd.read_excel('/kaggle/input/gundata/gun-data.xlsx')\n",
    "gun_data.head(3)"
   ]
  },
  {
   "cell_type": "code",
   "execution_count": 5,
   "id": "597c8d4e",
   "metadata": {
    "execution": {
     "iopub.execute_input": "2022-12-21T06:31:09.911454Z",
     "iopub.status.busy": "2022-12-21T06:31:09.911067Z",
     "iopub.status.idle": "2022-12-21T06:31:09.942319Z",
     "shell.execute_reply": "2022-12-21T06:31:09.941162Z"
    },
    "papermill": {
     "duration": 0.067773,
     "end_time": "2022-12-21T06:31:09.944916",
     "exception": false,
     "start_time": "2022-12-21T06:31:09.877143",
     "status": "completed"
    },
    "tags": []
   },
   "outputs": [
    {
     "data": {
      "text/html": [
       "<div>\n",
       "<style scoped>\n",
       "    .dataframe tbody tr th:only-of-type {\n",
       "        vertical-align: middle;\n",
       "    }\n",
       "\n",
       "    .dataframe tbody tr th {\n",
       "        vertical-align: top;\n",
       "    }\n",
       "\n",
       "    .dataframe thead th {\n",
       "        text-align: right;\n",
       "    }\n",
       "</style>\n",
       "<table border=\"1\" class=\"dataframe\">\n",
       "  <thead>\n",
       "    <tr style=\"text-align: right;\">\n",
       "      <th></th>\n",
       "      <th>Fact</th>\n",
       "      <th>Fact Note</th>\n",
       "      <th>Alabama</th>\n",
       "      <th>Alaska</th>\n",
       "      <th>Arizona</th>\n",
       "      <th>Arkansas</th>\n",
       "      <th>California</th>\n",
       "      <th>Colorado</th>\n",
       "      <th>Connecticut</th>\n",
       "      <th>Delaware</th>\n",
       "      <th>...</th>\n",
       "      <th>South Dakota</th>\n",
       "      <th>Tennessee</th>\n",
       "      <th>Texas</th>\n",
       "      <th>Utah</th>\n",
       "      <th>Vermont</th>\n",
       "      <th>Virginia</th>\n",
       "      <th>Washington</th>\n",
       "      <th>West Virginia</th>\n",
       "      <th>Wisconsin</th>\n",
       "      <th>Wyoming</th>\n",
       "    </tr>\n",
       "  </thead>\n",
       "  <tbody>\n",
       "    <tr>\n",
       "      <th>0</th>\n",
       "      <td>Population estimates, July 1, 2016,  (V2016)</td>\n",
       "      <td>NaN</td>\n",
       "      <td>4,863,300</td>\n",
       "      <td>741,894</td>\n",
       "      <td>6,931,071</td>\n",
       "      <td>2,988,248</td>\n",
       "      <td>39,250,017</td>\n",
       "      <td>5,540,545</td>\n",
       "      <td>3,576,452</td>\n",
       "      <td>952,065</td>\n",
       "      <td>...</td>\n",
       "      <td>865454</td>\n",
       "      <td>6651194</td>\n",
       "      <td>27,862,596</td>\n",
       "      <td>3,051,217</td>\n",
       "      <td>624,594</td>\n",
       "      <td>8,411,808</td>\n",
       "      <td>7,288,000</td>\n",
       "      <td>1,831,102</td>\n",
       "      <td>5,778,708</td>\n",
       "      <td>585,501</td>\n",
       "    </tr>\n",
       "    <tr>\n",
       "      <th>1</th>\n",
       "      <td>Population estimates base, April 1, 2010,  (V2...</td>\n",
       "      <td>NaN</td>\n",
       "      <td>4,780,131</td>\n",
       "      <td>710,249</td>\n",
       "      <td>6,392,301</td>\n",
       "      <td>2,916,025</td>\n",
       "      <td>37,254,522</td>\n",
       "      <td>5,029,324</td>\n",
       "      <td>3,574,114</td>\n",
       "      <td>897,936</td>\n",
       "      <td>...</td>\n",
       "      <td>814195</td>\n",
       "      <td>6346298</td>\n",
       "      <td>25,146,100</td>\n",
       "      <td>2,763,888</td>\n",
       "      <td>625,741</td>\n",
       "      <td>8,001,041</td>\n",
       "      <td>6,724,545</td>\n",
       "      <td>1,853,011</td>\n",
       "      <td>5,687,289</td>\n",
       "      <td>563,767</td>\n",
       "    </tr>\n",
       "    <tr>\n",
       "      <th>2</th>\n",
       "      <td>Population, percent change - April 1, 2010 (es...</td>\n",
       "      <td>NaN</td>\n",
       "      <td>1.70%</td>\n",
       "      <td>4.50%</td>\n",
       "      <td>8.40%</td>\n",
       "      <td>2.50%</td>\n",
       "      <td>5.40%</td>\n",
       "      <td>10.20%</td>\n",
       "      <td>0.10%</td>\n",
       "      <td>6.00%</td>\n",
       "      <td>...</td>\n",
       "      <td>0.063</td>\n",
       "      <td>0.048</td>\n",
       "      <td>10.80%</td>\n",
       "      <td>10.40%</td>\n",
       "      <td>-0.20%</td>\n",
       "      <td>5.10%</td>\n",
       "      <td>8.40%</td>\n",
       "      <td>-1.20%</td>\n",
       "      <td>1.60%</td>\n",
       "      <td>3.90%</td>\n",
       "    </tr>\n",
       "  </tbody>\n",
       "</table>\n",
       "<p>3 rows × 52 columns</p>\n",
       "</div>"
      ],
      "text/plain": [
       "                                                Fact Fact Note    Alabama  \\\n",
       "0       Population estimates, July 1, 2016,  (V2016)       NaN  4,863,300   \n",
       "1  Population estimates base, April 1, 2010,  (V2...       NaN  4,780,131   \n",
       "2  Population, percent change - April 1, 2010 (es...       NaN      1.70%   \n",
       "\n",
       "    Alaska    Arizona   Arkansas  California   Colorado Connecticut Delaware  \\\n",
       "0  741,894  6,931,071  2,988,248  39,250,017  5,540,545   3,576,452  952,065   \n",
       "1  710,249  6,392,301  2,916,025  37,254,522  5,029,324   3,574,114  897,936   \n",
       "2    4.50%      8.40%      2.50%       5.40%     10.20%       0.10%    6.00%   \n",
       "\n",
       "   ... South Dakota Tennessee       Texas       Utah  Vermont   Virginia  \\\n",
       "0  ...       865454   6651194  27,862,596  3,051,217  624,594  8,411,808   \n",
       "1  ...       814195   6346298  25,146,100  2,763,888  625,741  8,001,041   \n",
       "2  ...        0.063     0.048      10.80%     10.40%   -0.20%      5.10%   \n",
       "\n",
       "  Washington West Virginia  Wisconsin  Wyoming  \n",
       "0  7,288,000     1,831,102  5,778,708  585,501  \n",
       "1  6,724,545     1,853,011  5,687,289  563,767  \n",
       "2      8.40%        -1.20%      1.60%    3.90%  \n",
       "\n",
       "[3 rows x 52 columns]"
      ]
     },
     "execution_count": 5,
     "metadata": {},
     "output_type": "execute_result"
    }
   ],
   "source": [
    "us_census = pd.read_csv('/kaggle/input/uscensus/u.s.-census-data.csv')\n",
    "us_census.head(3)"
   ]
  },
  {
   "cell_type": "code",
   "execution_count": 6,
   "id": "2a763559",
   "metadata": {
    "execution": {
     "iopub.execute_input": "2022-12-21T06:31:10.009457Z",
     "iopub.status.busy": "2022-12-21T06:31:10.009095Z",
     "iopub.status.idle": "2022-12-21T06:31:10.016135Z",
     "shell.execute_reply": "2022-12-21T06:31:10.014675Z"
    },
    "papermill": {
     "duration": 0.041605,
     "end_time": "2022-12-21T06:31:10.018437",
     "exception": false,
     "start_time": "2022-12-21T06:31:09.976832",
     "status": "completed"
    },
    "tags": []
   },
   "outputs": [
    {
     "data": {
      "text/plain": [
       "(12485, 27)"
      ]
     },
     "execution_count": 6,
     "metadata": {},
     "output_type": "execute_result"
    }
   ],
   "source": [
    "gun_data.shape"
   ]
  },
  {
   "cell_type": "code",
   "execution_count": 7,
   "id": "23681622",
   "metadata": {
    "execution": {
     "iopub.execute_input": "2022-12-21T06:31:10.085553Z",
     "iopub.status.busy": "2022-12-21T06:31:10.084880Z",
     "iopub.status.idle": "2022-12-21T06:31:10.092827Z",
     "shell.execute_reply": "2022-12-21T06:31:10.091088Z"
    },
    "papermill": {
     "duration": 0.04525,
     "end_time": "2022-12-21T06:31:10.095632",
     "exception": false,
     "start_time": "2022-12-21T06:31:10.050382",
     "status": "completed"
    },
    "tags": []
   },
   "outputs": [
    {
     "data": {
      "text/plain": [
       "(85, 52)"
      ]
     },
     "execution_count": 7,
     "metadata": {},
     "output_type": "execute_result"
    }
   ],
   "source": [
    "us_census.shape"
   ]
  },
  {
   "cell_type": "code",
   "execution_count": 8,
   "id": "6866eb7f",
   "metadata": {
    "execution": {
     "iopub.execute_input": "2022-12-21T06:31:10.160037Z",
     "iopub.status.busy": "2022-12-21T06:31:10.159599Z",
     "iopub.status.idle": "2022-12-21T06:31:10.189209Z",
     "shell.execute_reply": "2022-12-21T06:31:10.187787Z"
    },
    "papermill": {
     "duration": 0.064547,
     "end_time": "2022-12-21T06:31:10.191075",
     "exception": false,
     "start_time": "2022-12-21T06:31:10.126528",
     "status": "completed"
    },
    "tags": []
   },
   "outputs": [
    {
     "name": "stdout",
     "output_type": "stream",
     "text": [
      "<class 'pandas.core.frame.DataFrame'>\n",
      "RangeIndex: 12485 entries, 0 to 12484\n",
      "Data columns (total 27 columns):\n",
      " #   Column                     Non-Null Count  Dtype  \n",
      "---  ------                     --------------  -----  \n",
      " 0   month                      12485 non-null  object \n",
      " 1   state                      12485 non-null  object \n",
      " 2   permit                     12461 non-null  float64\n",
      " 3   permit_recheck             1100 non-null   float64\n",
      " 4   handgun                    12465 non-null  float64\n",
      " 5   long_gun                   12466 non-null  float64\n",
      " 6   other                      5500 non-null   float64\n",
      " 7   multiple                   12485 non-null  int64  \n",
      " 8   admin                      12462 non-null  float64\n",
      " 9   prepawn_handgun            10542 non-null  float64\n",
      " 10  prepawn_long_gun           10540 non-null  float64\n",
      " 11  prepawn_other              5115 non-null   float64\n",
      " 12  redemption_handgun         10545 non-null  float64\n",
      " 13  redemption_long_gun        10544 non-null  float64\n",
      " 14  redemption_other           5115 non-null   float64\n",
      " 15  returned_handgun           2200 non-null   float64\n",
      " 16  returned_long_gun          2145 non-null   float64\n",
      " 17  returned_other             1815 non-null   float64\n",
      " 18  rentals_handgun            990 non-null    float64\n",
      " 19  rentals_long_gun           825 non-null    float64\n",
      " 20  private_sale_handgun       2750 non-null   float64\n",
      " 21  private_sale_long_gun      2750 non-null   float64\n",
      " 22  private_sale_other         2750 non-null   float64\n",
      " 23  return_to_seller_handgun   2475 non-null   float64\n",
      " 24  return_to_seller_long_gun  2750 non-null   float64\n",
      " 25  return_to_seller_other     2255 non-null   float64\n",
      " 26  totals                     12485 non-null  int64  \n",
      "dtypes: float64(23), int64(2), object(2)\n",
      "memory usage: 2.6+ MB\n"
     ]
    }
   ],
   "source": [
    "gun_data.info()"
   ]
  },
  {
   "cell_type": "markdown",
   "id": "578e6c7c",
   "metadata": {
    "papermill": {
     "duration": 0.031118,
     "end_time": "2022-12-21T06:31:10.253712",
     "exception": false,
     "start_time": "2022-12-21T06:31:10.222594",
     "status": "completed"
    },
    "tags": []
   },
   "source": [
    "### Checking for the datatypes and the null values"
   ]
  },
  {
   "cell_type": "code",
   "execution_count": 9,
   "id": "74b911d7",
   "metadata": {
    "execution": {
     "iopub.execute_input": "2022-12-21T06:31:10.319567Z",
     "iopub.status.busy": "2022-12-21T06:31:10.319159Z",
     "iopub.status.idle": "2022-12-21T06:31:10.335536Z",
     "shell.execute_reply": "2022-12-21T06:31:10.334598Z"
    },
    "papermill": {
     "duration": 0.05222,
     "end_time": "2022-12-21T06:31:10.338110",
     "exception": false,
     "start_time": "2022-12-21T06:31:10.285890",
     "status": "completed"
    },
    "tags": []
   },
   "outputs": [
    {
     "name": "stdout",
     "output_type": "stream",
     "text": [
      "<class 'pandas.core.frame.DataFrame'>\n",
      "RangeIndex: 85 entries, 0 to 84\n",
      "Data columns (total 52 columns):\n",
      " #   Column          Non-Null Count  Dtype \n",
      "---  ------          --------------  ----- \n",
      " 0   Fact            80 non-null     object\n",
      " 1   Fact Note       28 non-null     object\n",
      " 2   Alabama         65 non-null     object\n",
      " 3   Alaska          65 non-null     object\n",
      " 4   Arizona         65 non-null     object\n",
      " 5   Arkansas        65 non-null     object\n",
      " 6   California      65 non-null     object\n",
      " 7   Colorado        65 non-null     object\n",
      " 8   Connecticut     65 non-null     object\n",
      " 9   Delaware        65 non-null     object\n",
      " 10  Florida         65 non-null     object\n",
      " 11  Georgia         65 non-null     object\n",
      " 12  Hawaii          65 non-null     object\n",
      " 13  Idaho           65 non-null     object\n",
      " 14  Illinois        65 non-null     object\n",
      " 15  Indiana         65 non-null     object\n",
      " 16  Iowa            65 non-null     object\n",
      " 17  Kansas          65 non-null     object\n",
      " 18  Kentucky        65 non-null     object\n",
      " 19  Louisiana       65 non-null     object\n",
      " 20  Maine           65 non-null     object\n",
      " 21  Maryland        65 non-null     object\n",
      " 22  Massachusetts   65 non-null     object\n",
      " 23  Michigan        65 non-null     object\n",
      " 24  Minnesota       65 non-null     object\n",
      " 25  Mississippi     65 non-null     object\n",
      " 26  Missouri        65 non-null     object\n",
      " 27  Montana         65 non-null     object\n",
      " 28  Nebraska        65 non-null     object\n",
      " 29  Nevada          65 non-null     object\n",
      " 30  New Hampshire   65 non-null     object\n",
      " 31  New Jersey      65 non-null     object\n",
      " 32  New Mexico      65 non-null     object\n",
      " 33  New York        65 non-null     object\n",
      " 34  North Carolina  65 non-null     object\n",
      " 35  North Dakota    65 non-null     object\n",
      " 36  Ohio            65 non-null     object\n",
      " 37  Oklahoma        65 non-null     object\n",
      " 38  Oregon          65 non-null     object\n",
      " 39  Pennsylvania    65 non-null     object\n",
      " 40  Rhode Island    65 non-null     object\n",
      " 41  South Carolina  65 non-null     object\n",
      " 42  South Dakota    65 non-null     object\n",
      " 43  Tennessee       65 non-null     object\n",
      " 44  Texas           65 non-null     object\n",
      " 45  Utah            65 non-null     object\n",
      " 46  Vermont         65 non-null     object\n",
      " 47  Virginia        65 non-null     object\n",
      " 48  Washington      65 non-null     object\n",
      " 49  West Virginia   65 non-null     object\n",
      " 50  Wisconsin       65 non-null     object\n",
      " 51  Wyoming         65 non-null     object\n",
      "dtypes: object(52)\n",
      "memory usage: 34.7+ KB\n"
     ]
    }
   ],
   "source": [
    "us_census.info()"
   ]
  },
  {
   "cell_type": "markdown",
   "id": "8e564b75",
   "metadata": {
    "papermill": {
     "duration": 0.031867,
     "end_time": "2022-12-21T06:31:10.403414",
     "exception": false,
     "start_time": "2022-12-21T06:31:10.371547",
     "status": "completed"
    },
    "tags": []
   },
   "source": [
    "### Columns for the data"
   ]
  },
  {
   "cell_type": "code",
   "execution_count": 10,
   "id": "145e0ab7",
   "metadata": {
    "execution": {
     "iopub.execute_input": "2022-12-21T06:31:10.469376Z",
     "iopub.status.busy": "2022-12-21T06:31:10.468970Z",
     "iopub.status.idle": "2022-12-21T06:31:10.473892Z",
     "shell.execute_reply": "2022-12-21T06:31:10.472315Z"
    },
    "papermill": {
     "duration": 0.040812,
     "end_time": "2022-12-21T06:31:10.475827",
     "exception": false,
     "start_time": "2022-12-21T06:31:10.435015",
     "status": "completed"
    },
    "tags": []
   },
   "outputs": [],
   "source": [
    "# class column_names:\n",
    "#     def __init__(self, df):\n",
    "#         self.df = df\n",
    "    \n",
    "#     def colnames():\n",
    "#         for columns in df.columns:\n",
    "#             print(column)\n",
    "            \n",
    "    \n",
    "# x = column_names(gun_data)\n",
    "# x.colnames()\n",
    "    "
   ]
  },
  {
   "cell_type": "code",
   "execution_count": 11,
   "id": "e7037289",
   "metadata": {
    "execution": {
     "iopub.execute_input": "2022-12-21T06:31:10.542935Z",
     "iopub.status.busy": "2022-12-21T06:31:10.542508Z",
     "iopub.status.idle": "2022-12-21T06:31:10.549640Z",
     "shell.execute_reply": "2022-12-21T06:31:10.548308Z"
    },
    "papermill": {
     "duration": 0.043532,
     "end_time": "2022-12-21T06:31:10.551544",
     "exception": false,
     "start_time": "2022-12-21T06:31:10.508012",
     "status": "completed"
    },
    "tags": []
   },
   "outputs": [
    {
     "data": {
      "text/plain": [
       "Index(['month', 'state', 'permit', 'permit_recheck', 'handgun', 'long_gun',\n",
       "       'other', 'multiple', 'admin', 'prepawn_handgun', 'prepawn_long_gun',\n",
       "       'prepawn_other', 'redemption_handgun', 'redemption_long_gun',\n",
       "       'redemption_other', 'returned_handgun', 'returned_long_gun',\n",
       "       'returned_other', 'rentals_handgun', 'rentals_long_gun',\n",
       "       'private_sale_handgun', 'private_sale_long_gun', 'private_sale_other',\n",
       "       'return_to_seller_handgun', 'return_to_seller_long_gun',\n",
       "       'return_to_seller_other', 'totals'],\n",
       "      dtype='object')"
      ]
     },
     "execution_count": 11,
     "metadata": {},
     "output_type": "execute_result"
    }
   ],
   "source": [
    "# for gun data\n",
    "\n",
    "gun_data.columns"
   ]
  },
  {
   "cell_type": "code",
   "execution_count": 12,
   "id": "9176fffb",
   "metadata": {
    "execution": {
     "iopub.execute_input": "2022-12-21T06:31:10.616990Z",
     "iopub.status.busy": "2022-12-21T06:31:10.616310Z",
     "iopub.status.idle": "2022-12-21T06:31:10.621319Z",
     "shell.execute_reply": "2022-12-21T06:31:10.619900Z"
    },
    "papermill": {
     "duration": 0.040287,
     "end_time": "2022-12-21T06:31:10.623637",
     "exception": false,
     "start_time": "2022-12-21T06:31:10.583350",
     "status": "completed"
    },
    "tags": []
   },
   "outputs": [],
   "source": [
    "# for the us census data I will be doing a transpose to have the states as rows inorde to join with the state column of the gun violence data"
   ]
  },
  {
   "cell_type": "markdown",
   "id": "85f12bc7",
   "metadata": {
    "papermill": {
     "duration": 0.032178,
     "end_time": "2022-12-21T06:31:10.688620",
     "exception": false,
     "start_time": "2022-12-21T06:31:10.656442",
     "status": "completed"
    },
    "tags": []
   },
   "source": [
    "### Check for missing / null values"
   ]
  },
  {
   "cell_type": "code",
   "execution_count": 13,
   "id": "ecdf1464",
   "metadata": {
    "execution": {
     "iopub.execute_input": "2022-12-21T06:31:10.753270Z",
     "iopub.status.busy": "2022-12-21T06:31:10.752578Z",
     "iopub.status.idle": "2022-12-21T06:31:10.762290Z",
     "shell.execute_reply": "2022-12-21T06:31:10.761528Z"
    },
    "papermill": {
     "duration": 0.044695,
     "end_time": "2022-12-21T06:31:10.764730",
     "exception": false,
     "start_time": "2022-12-21T06:31:10.720035",
     "status": "completed"
    },
    "tags": []
   },
   "outputs": [
    {
     "data": {
      "text/plain": [
       "month                            0\n",
       "state                            0\n",
       "permit                          24\n",
       "permit_recheck               11385\n",
       "handgun                         20\n",
       "long_gun                        19\n",
       "other                         6985\n",
       "multiple                         0\n",
       "admin                           23\n",
       "prepawn_handgun               1943\n",
       "prepawn_long_gun              1945\n",
       "prepawn_other                 7370\n",
       "redemption_handgun            1940\n",
       "redemption_long_gun           1941\n",
       "redemption_other              7370\n",
       "returned_handgun             10285\n",
       "returned_long_gun            10340\n",
       "returned_other               10670\n",
       "rentals_handgun              11495\n",
       "rentals_long_gun             11660\n",
       "private_sale_handgun          9735\n",
       "private_sale_long_gun         9735\n",
       "private_sale_other            9735\n",
       "return_to_seller_handgun     10010\n",
       "return_to_seller_long_gun     9735\n",
       "return_to_seller_other       10230\n",
       "totals                           0\n",
       "dtype: int64"
      ]
     },
     "execution_count": 13,
     "metadata": {},
     "output_type": "execute_result"
    }
   ],
   "source": [
    "gun_data.isnull().sum()"
   ]
  },
  {
   "cell_type": "code",
   "execution_count": 14,
   "id": "d65c457b",
   "metadata": {
    "execution": {
     "iopub.execute_input": "2022-12-21T06:31:10.831282Z",
     "iopub.status.busy": "2022-12-21T06:31:10.830660Z",
     "iopub.status.idle": "2022-12-21T06:31:10.838537Z",
     "shell.execute_reply": "2022-12-21T06:31:10.837765Z"
    },
    "papermill": {
     "duration": 0.04428,
     "end_time": "2022-12-21T06:31:10.841105",
     "exception": false,
     "start_time": "2022-12-21T06:31:10.796825",
     "status": "completed"
    },
    "tags": []
   },
   "outputs": [
    {
     "data": {
      "text/plain": [
       "Fact               5\n",
       "Fact Note         57\n",
       "Alabama           20\n",
       "Alaska            20\n",
       "Arizona           20\n",
       "Arkansas          20\n",
       "California        20\n",
       "Colorado          20\n",
       "Connecticut       20\n",
       "Delaware          20\n",
       "Florida           20\n",
       "Georgia           20\n",
       "Hawaii            20\n",
       "Idaho             20\n",
       "Illinois          20\n",
       "Indiana           20\n",
       "Iowa              20\n",
       "Kansas            20\n",
       "Kentucky          20\n",
       "Louisiana         20\n",
       "Maine             20\n",
       "Maryland          20\n",
       "Massachusetts     20\n",
       "Michigan          20\n",
       "Minnesota         20\n",
       "Mississippi       20\n",
       "Missouri          20\n",
       "Montana           20\n",
       "Nebraska          20\n",
       "Nevada            20\n",
       "New Hampshire     20\n",
       "New Jersey        20\n",
       "New Mexico        20\n",
       "New York          20\n",
       "North Carolina    20\n",
       "North Dakota      20\n",
       "Ohio              20\n",
       "Oklahoma          20\n",
       "Oregon            20\n",
       "Pennsylvania      20\n",
       "Rhode Island      20\n",
       "South Carolina    20\n",
       "South Dakota      20\n",
       "Tennessee         20\n",
       "Texas             20\n",
       "Utah              20\n",
       "Vermont           20\n",
       "Virginia          20\n",
       "Washington        20\n",
       "West Virginia     20\n",
       "Wisconsin         20\n",
       "Wyoming           20\n",
       "dtype: int64"
      ]
     },
     "execution_count": 14,
     "metadata": {},
     "output_type": "execute_result"
    }
   ],
   "source": [
    "us_census.isnull().sum()"
   ]
  },
  {
   "cell_type": "markdown",
   "id": "e4a30d95",
   "metadata": {
    "papermill": {
     "duration": 0.032885,
     "end_time": "2022-12-21T06:31:10.908007",
     "exception": false,
     "start_time": "2022-12-21T06:31:10.875122",
     "status": "completed"
    },
    "tags": []
   },
   "source": [
    "### checking for duplicates in the data"
   ]
  },
  {
   "cell_type": "code",
   "execution_count": 15,
   "id": "62d146f3",
   "metadata": {
    "execution": {
     "iopub.execute_input": "2022-12-21T06:31:10.979336Z",
     "iopub.status.busy": "2022-12-21T06:31:10.978436Z",
     "iopub.status.idle": "2022-12-21T06:31:11.003567Z",
     "shell.execute_reply": "2022-12-21T06:31:11.001491Z"
    },
    "papermill": {
     "duration": 0.066155,
     "end_time": "2022-12-21T06:31:11.006476",
     "exception": false,
     "start_time": "2022-12-21T06:31:10.940321",
     "status": "completed"
    },
    "tags": []
   },
   "outputs": [
    {
     "data": {
      "text/plain": [
       "0"
      ]
     },
     "execution_count": 15,
     "metadata": {},
     "output_type": "execute_result"
    }
   ],
   "source": [
    "gun_data.duplicated().sum()"
   ]
  },
  {
   "cell_type": "code",
   "execution_count": 16,
   "id": "b22425f0",
   "metadata": {
    "execution": {
     "iopub.execute_input": "2022-12-21T06:31:11.076162Z",
     "iopub.status.busy": "2022-12-21T06:31:11.075712Z",
     "iopub.status.idle": "2022-12-21T06:31:11.089011Z",
     "shell.execute_reply": "2022-12-21T06:31:11.087241Z"
    },
    "papermill": {
     "duration": 0.050797,
     "end_time": "2022-12-21T06:31:11.091549",
     "exception": false,
     "start_time": "2022-12-21T06:31:11.040752",
     "status": "completed"
    },
    "tags": []
   },
   "outputs": [
    {
     "data": {
      "text/plain": [
       "3"
      ]
     },
     "execution_count": 16,
     "metadata": {},
     "output_type": "execute_result"
    }
   ],
   "source": [
    "us_census.duplicated().sum()"
   ]
  },
  {
   "cell_type": "markdown",
   "id": "f3c8ae46",
   "metadata": {
    "papermill": {
     "duration": 0.032111,
     "end_time": "2022-12-21T06:31:11.156630",
     "exception": false,
     "start_time": "2022-12-21T06:31:11.124519",
     "status": "completed"
    },
    "tags": []
   },
   "source": [
    "### Removing Duplicates"
   ]
  },
  {
   "cell_type": "code",
   "execution_count": 17,
   "id": "704c3e56",
   "metadata": {
    "execution": {
     "iopub.execute_input": "2022-12-21T06:31:11.223996Z",
     "iopub.status.busy": "2022-12-21T06:31:11.222711Z",
     "iopub.status.idle": "2022-12-21T06:31:11.234254Z",
     "shell.execute_reply": "2022-12-21T06:31:11.232350Z"
    },
    "papermill": {
     "duration": 0.048087,
     "end_time": "2022-12-21T06:31:11.237009",
     "exception": false,
     "start_time": "2022-12-21T06:31:11.188922",
     "status": "completed"
    },
    "tags": []
   },
   "outputs": [],
   "source": [
    "us_census.drop_duplicates(inplace = True)"
   ]
  },
  {
   "cell_type": "code",
   "execution_count": 18,
   "id": "8522c640",
   "metadata": {
    "execution": {
     "iopub.execute_input": "2022-12-21T06:31:11.302687Z",
     "iopub.status.busy": "2022-12-21T06:31:11.302306Z",
     "iopub.status.idle": "2022-12-21T06:31:11.317310Z",
     "shell.execute_reply": "2022-12-21T06:31:11.316571Z"
    },
    "papermill": {
     "duration": 0.049908,
     "end_time": "2022-12-21T06:31:11.319047",
     "exception": false,
     "start_time": "2022-12-21T06:31:11.269139",
     "status": "completed"
    },
    "tags": []
   },
   "outputs": [
    {
     "data": {
      "text/plain": [
       "0"
      ]
     },
     "execution_count": 18,
     "metadata": {},
     "output_type": "execute_result"
    }
   ],
   "source": [
    "us_census.duplicated().sum()"
   ]
  },
  {
   "cell_type": "code",
   "execution_count": 19,
   "id": "9ac5d306",
   "metadata": {
    "execution": {
     "iopub.execute_input": "2022-12-21T06:31:11.386234Z",
     "iopub.status.busy": "2022-12-21T06:31:11.385400Z",
     "iopub.status.idle": "2022-12-21T06:31:11.393428Z",
     "shell.execute_reply": "2022-12-21T06:31:11.391905Z"
    },
    "papermill": {
     "duration": 0.044967,
     "end_time": "2022-12-21T06:31:11.396323",
     "exception": false,
     "start_time": "2022-12-21T06:31:11.351356",
     "status": "completed"
    },
    "tags": []
   },
   "outputs": [
    {
     "data": {
      "text/plain": [
       "55"
      ]
     },
     "execution_count": 19,
     "metadata": {},
     "output_type": "execute_result"
    }
   ],
   "source": [
    "gun_data['state'].nunique()"
   ]
  },
  {
   "cell_type": "code",
   "execution_count": 20,
   "id": "78f10501",
   "metadata": {
    "execution": {
     "iopub.execute_input": "2022-12-21T06:31:11.463912Z",
     "iopub.status.busy": "2022-12-21T06:31:11.463408Z",
     "iopub.status.idle": "2022-12-21T06:31:11.470894Z",
     "shell.execute_reply": "2022-12-21T06:31:11.469444Z"
    },
    "papermill": {
     "duration": 0.043892,
     "end_time": "2022-12-21T06:31:11.473261",
     "exception": false,
     "start_time": "2022-12-21T06:31:11.429369",
     "status": "completed"
    },
    "tags": []
   },
   "outputs": [
    {
     "data": {
      "text/plain": [
       "array(['Alabama', 'Alaska', 'Arizona', 'Arkansas', 'California',\n",
       "       'Colorado', 'Connecticut', 'Delaware', 'District of Columbia',\n",
       "       'Florida', 'Georgia', 'Guam', 'Hawaii', 'Idaho', 'Illinois',\n",
       "       'Indiana', 'Iowa', 'Kansas', 'Kentucky', 'Louisiana', 'Maine',\n",
       "       'Mariana Islands', 'Maryland', 'Massachusetts', 'Michigan',\n",
       "       'Minnesota', 'Mississippi', 'Missouri', 'Montana', 'Nebraska',\n",
       "       'Nevada', 'New Hampshire', 'New Jersey', 'New Mexico', 'New York',\n",
       "       'North Carolina', 'North Dakota', 'Ohio', 'Oklahoma', 'Oregon',\n",
       "       'Pennsylvania', 'Puerto Rico', 'Rhode Island', 'South Carolina',\n",
       "       'South Dakota', 'Tennessee', 'Texas', 'Utah', 'Vermont',\n",
       "       'Virgin Islands', 'Virginia', 'Washington', 'West Virginia',\n",
       "       'Wisconsin', 'Wyoming'], dtype=object)"
      ]
     },
     "execution_count": 20,
     "metadata": {},
     "output_type": "execute_result"
    }
   ],
   "source": [
    "gun_data['state'].unique()"
   ]
  },
  {
   "cell_type": "markdown",
   "id": "0be34e1a",
   "metadata": {
    "papermill": {
     "duration": 0.032298,
     "end_time": "2022-12-21T06:31:11.538581",
     "exception": false,
     "start_time": "2022-12-21T06:31:11.506283",
     "status": "completed"
    },
    "tags": []
   },
   "source": [
    "#### USA has 50 state as seen from [here](https://www.nationsonline.org/oneworld/US-states-by-area.htm)"
   ]
  },
  {
   "cell_type": "code",
   "execution_count": 21,
   "id": "f913596f",
   "metadata": {
    "execution": {
     "iopub.execute_input": "2022-12-21T06:31:11.606635Z",
     "iopub.status.busy": "2022-12-21T06:31:11.606225Z",
     "iopub.status.idle": "2022-12-21T06:31:11.612439Z",
     "shell.execute_reply": "2022-12-21T06:31:11.611325Z"
    },
    "papermill": {
     "duration": 0.042571,
     "end_time": "2022-12-21T06:31:11.614400",
     "exception": false,
     "start_time": "2022-12-21T06:31:11.571829",
     "status": "completed"
    },
    "tags": []
   },
   "outputs": [
    {
     "data": {
      "text/plain": [
       "['District of Columbia',\n",
       " 'Guam',\n",
       " 'Mariana Islands',\n",
       " 'Puerto Rico',\n",
       " 'Virgin Islands']"
      ]
     },
     "execution_count": 21,
     "metadata": {},
     "output_type": "execute_result"
    }
   ],
   "source": [
    "not_us = ['District of Columbia','Guam', 'Mariana Islands', 'Puerto Rico', 'Virgin Islands']\n",
    "not_us"
   ]
  },
  {
   "cell_type": "markdown",
   "id": "c4b23ace",
   "metadata": {
    "execution": {
     "iopub.execute_input": "2022-12-20T00:33:47.246945Z",
     "iopub.status.busy": "2022-12-20T00:33:47.246451Z",
     "iopub.status.idle": "2022-12-20T00:33:47.252428Z",
     "shell.execute_reply": "2022-12-20T00:33:47.251213Z",
     "shell.execute_reply.started": "2022-12-20T00:33:47.246898Z"
    },
    "papermill": {
     "duration": 0.03216,
     "end_time": "2022-12-21T06:31:11.679984",
     "exception": false,
     "start_time": "2022-12-21T06:31:11.647824",
     "status": "completed"
    },
    "tags": []
   },
   "source": [
    "## Dropping a column"
   ]
  },
  {
   "cell_type": "code",
   "execution_count": 22,
   "id": "796a00b8",
   "metadata": {
    "execution": {
     "iopub.execute_input": "2022-12-21T06:31:11.746532Z",
     "iopub.status.busy": "2022-12-21T06:31:11.746133Z",
     "iopub.status.idle": "2022-12-21T06:31:11.768714Z",
     "shell.execute_reply": "2022-12-21T06:31:11.767364Z"
    },
    "papermill": {
     "duration": 0.058734,
     "end_time": "2022-12-21T06:31:11.770733",
     "exception": false,
     "start_time": "2022-12-21T06:31:11.711999",
     "status": "completed"
    },
    "tags": []
   },
   "outputs": [
    {
     "data": {
      "text/html": [
       "<div>\n",
       "<style scoped>\n",
       "    .dataframe tbody tr th:only-of-type {\n",
       "        vertical-align: middle;\n",
       "    }\n",
       "\n",
       "    .dataframe tbody tr th {\n",
       "        vertical-align: top;\n",
       "    }\n",
       "\n",
       "    .dataframe thead th {\n",
       "        text-align: right;\n",
       "    }\n",
       "</style>\n",
       "<table border=\"1\" class=\"dataframe\">\n",
       "  <thead>\n",
       "    <tr style=\"text-align: right;\">\n",
       "      <th></th>\n",
       "      <th>Fact</th>\n",
       "      <th>Alabama</th>\n",
       "      <th>Alaska</th>\n",
       "      <th>Arizona</th>\n",
       "      <th>Arkansas</th>\n",
       "      <th>California</th>\n",
       "      <th>Colorado</th>\n",
       "      <th>Connecticut</th>\n",
       "      <th>Delaware</th>\n",
       "      <th>Florida</th>\n",
       "      <th>...</th>\n",
       "      <th>South Dakota</th>\n",
       "      <th>Tennessee</th>\n",
       "      <th>Texas</th>\n",
       "      <th>Utah</th>\n",
       "      <th>Vermont</th>\n",
       "      <th>Virginia</th>\n",
       "      <th>Washington</th>\n",
       "      <th>West Virginia</th>\n",
       "      <th>Wisconsin</th>\n",
       "      <th>Wyoming</th>\n",
       "    </tr>\n",
       "  </thead>\n",
       "  <tbody>\n",
       "    <tr>\n",
       "      <th>0</th>\n",
       "      <td>Population estimates, July 1, 2016,  (V2016)</td>\n",
       "      <td>4,863,300</td>\n",
       "      <td>741,894</td>\n",
       "      <td>6,931,071</td>\n",
       "      <td>2,988,248</td>\n",
       "      <td>39,250,017</td>\n",
       "      <td>5,540,545</td>\n",
       "      <td>3,576,452</td>\n",
       "      <td>952,065</td>\n",
       "      <td>20,612,439</td>\n",
       "      <td>...</td>\n",
       "      <td>865454</td>\n",
       "      <td>6651194</td>\n",
       "      <td>27,862,596</td>\n",
       "      <td>3,051,217</td>\n",
       "      <td>624,594</td>\n",
       "      <td>8,411,808</td>\n",
       "      <td>7,288,000</td>\n",
       "      <td>1,831,102</td>\n",
       "      <td>5,778,708</td>\n",
       "      <td>585,501</td>\n",
       "    </tr>\n",
       "    <tr>\n",
       "      <th>1</th>\n",
       "      <td>Population estimates base, April 1, 2010,  (V2...</td>\n",
       "      <td>4,780,131</td>\n",
       "      <td>710,249</td>\n",
       "      <td>6,392,301</td>\n",
       "      <td>2,916,025</td>\n",
       "      <td>37,254,522</td>\n",
       "      <td>5,029,324</td>\n",
       "      <td>3,574,114</td>\n",
       "      <td>897,936</td>\n",
       "      <td>18,804,592</td>\n",
       "      <td>...</td>\n",
       "      <td>814195</td>\n",
       "      <td>6346298</td>\n",
       "      <td>25,146,100</td>\n",
       "      <td>2,763,888</td>\n",
       "      <td>625,741</td>\n",
       "      <td>8,001,041</td>\n",
       "      <td>6,724,545</td>\n",
       "      <td>1,853,011</td>\n",
       "      <td>5,687,289</td>\n",
       "      <td>563,767</td>\n",
       "    </tr>\n",
       "  </tbody>\n",
       "</table>\n",
       "<p>2 rows × 51 columns</p>\n",
       "</div>"
      ],
      "text/plain": [
       "                                                Fact    Alabama   Alaska  \\\n",
       "0       Population estimates, July 1, 2016,  (V2016)  4,863,300  741,894   \n",
       "1  Population estimates base, April 1, 2010,  (V2...  4,780,131  710,249   \n",
       "\n",
       "     Arizona   Arkansas  California   Colorado Connecticut Delaware  \\\n",
       "0  6,931,071  2,988,248  39,250,017  5,540,545   3,576,452  952,065   \n",
       "1  6,392,301  2,916,025  37,254,522  5,029,324   3,574,114  897,936   \n",
       "\n",
       "      Florida  ... South Dakota Tennessee       Texas       Utah  Vermont  \\\n",
       "0  20,612,439  ...       865454   6651194  27,862,596  3,051,217  624,594   \n",
       "1  18,804,592  ...       814195   6346298  25,146,100  2,763,888  625,741   \n",
       "\n",
       "    Virginia Washington West Virginia  Wisconsin  Wyoming  \n",
       "0  8,411,808  7,288,000     1,831,102  5,778,708  585,501  \n",
       "1  8,001,041  6,724,545     1,853,011  5,687,289  563,767  \n",
       "\n",
       "[2 rows x 51 columns]"
      ]
     },
     "execution_count": 22,
     "metadata": {},
     "output_type": "execute_result"
    }
   ],
   "source": [
    "us_census.drop('Fact Note', axis = 1, inplace = True)\n",
    "us_census.head(2)"
   ]
  },
  {
   "cell_type": "markdown",
   "id": "109f7c39",
   "metadata": {
    "papermill": {
     "duration": 0.032548,
     "end_time": "2022-12-21T06:31:11.835966",
     "exception": false,
     "start_time": "2022-12-21T06:31:11.803418",
     "status": "completed"
    },
    "tags": []
   },
   "source": [
    "### Transposing the data structure"
   ]
  },
  {
   "cell_type": "code",
   "execution_count": 23,
   "id": "f4a9a0c4",
   "metadata": {
    "execution": {
     "iopub.execute_input": "2022-12-21T06:31:11.904166Z",
     "iopub.status.busy": "2022-12-21T06:31:11.903245Z",
     "iopub.status.idle": "2022-12-21T06:31:11.909110Z",
     "shell.execute_reply": "2022-12-21T06:31:11.908488Z"
    },
    "papermill": {
     "duration": 0.042239,
     "end_time": "2022-12-21T06:31:11.910903",
     "exception": false,
     "start_time": "2022-12-21T06:31:11.868664",
     "status": "completed"
    },
    "tags": []
   },
   "outputs": [
    {
     "data": {
      "text/plain": [
       "Index(['Fact', 'Alabama', 'Alaska', 'Arizona', 'Arkansas', 'California',\n",
       "       'Colorado', 'Connecticut', 'Delaware', 'Florida', 'Georgia', 'Hawaii',\n",
       "       'Idaho', 'Illinois', 'Indiana', 'Iowa', 'Kansas', 'Kentucky',\n",
       "       'Louisiana', 'Maine', 'Maryland', 'Massachusetts', 'Michigan',\n",
       "       'Minnesota', 'Mississippi', 'Missouri', 'Montana', 'Nebraska', 'Nevada',\n",
       "       'New Hampshire', 'New Jersey', 'New Mexico', 'New York',\n",
       "       'North Carolina', 'North Dakota', 'Ohio', 'Oklahoma', 'Oregon',\n",
       "       'Pennsylvania', 'Rhode Island', 'South Carolina', 'South Dakota',\n",
       "       'Tennessee', 'Texas', 'Utah', 'Vermont', 'Virginia', 'Washington',\n",
       "       'West Virginia', 'Wisconsin', 'Wyoming'],\n",
       "      dtype='object')"
      ]
     },
     "execution_count": 23,
     "metadata": {},
     "output_type": "execute_result"
    }
   ],
   "source": [
    "us_cens_colnames = us_census.columns\n",
    "us_cens_colnames"
   ]
  },
  {
   "cell_type": "code",
   "execution_count": 24,
   "id": "1c421848",
   "metadata": {
    "execution": {
     "iopub.execute_input": "2022-12-21T06:31:11.980264Z",
     "iopub.status.busy": "2022-12-21T06:31:11.979773Z",
     "iopub.status.idle": "2022-12-21T06:31:11.993901Z",
     "shell.execute_reply": "2022-12-21T06:31:11.992231Z"
    },
    "papermill": {
     "duration": 0.051202,
     "end_time": "2022-12-21T06:31:11.996033",
     "exception": false,
     "start_time": "2022-12-21T06:31:11.944831",
     "status": "completed"
    },
    "tags": []
   },
   "outputs": [
    {
     "name": "stderr",
     "output_type": "stream",
     "text": [
      "/opt/conda/lib/python3.7/site-packages/pandas/core/indexes/base.py:4616: FutureWarning: Using a non-tuple sequence for multidimensional indexing is deprecated; use `arr[tuple(seq)]` instead of `arr[seq]`. In the future this will be interpreted as an array index, `arr[np.array(seq)]`, which will result either in an error or a different result.\n",
      "  result = getitem(key)\n"
     ]
    },
    {
     "data": {
      "text/plain": [
       "Index(['Alabama', 'Alaska', 'Arizona', 'Arkansas', 'California', 'Colorado',\n",
       "       'Connecticut', 'Delaware', 'Florida', 'Georgia', 'Hawaii', 'Idaho',\n",
       "       'Illinois', 'Indiana', 'Iowa', 'Kansas', 'Kentucky', 'Louisiana',\n",
       "       'Maine', 'Maryland', 'Massachusetts', 'Michigan', 'Minnesota',\n",
       "       'Mississippi', 'Missouri', 'Montana', 'Nebraska', 'Nevada',\n",
       "       'New Hampshire', 'New Jersey', 'New Mexico', 'New York',\n",
       "       'North Carolina', 'North Dakota', 'Ohio', 'Oklahoma', 'Oregon',\n",
       "       'Pennsylvania', 'Rhode Island', 'South Carolina', 'South Dakota',\n",
       "       'Tennessee', 'Texas', 'Utah', 'Vermont', 'Virginia', 'Washington',\n",
       "       'West Virginia', 'Wisconsin', 'Wyoming'],\n",
       "      dtype='object')"
      ]
     },
     "execution_count": 24,
     "metadata": {},
     "output_type": "execute_result"
    }
   ],
   "source": [
    "us_states = us_cens_colnames[[us_census.columns != 'Fact']]\n",
    "us_states"
   ]
  },
  {
   "cell_type": "code",
   "execution_count": 25,
   "id": "5a2fb424",
   "metadata": {
    "execution": {
     "iopub.execute_input": "2022-12-21T06:31:12.066531Z",
     "iopub.status.busy": "2022-12-21T06:31:12.065901Z",
     "iopub.status.idle": "2022-12-21T06:31:12.074190Z",
     "shell.execute_reply": "2022-12-21T06:31:12.073208Z"
    },
    "papermill": {
     "duration": 0.046331,
     "end_time": "2022-12-21T06:31:12.076640",
     "exception": false,
     "start_time": "2022-12-21T06:31:12.030309",
     "status": "completed"
    },
    "tags": []
   },
   "outputs": [
    {
     "data": {
      "text/plain": [
       "array(['Population estimates, July 1, 2016,  (V2016)',\n",
       "       'Population estimates base, April 1, 2010,  (V2016)',\n",
       "       'Population, percent change - April 1, 2010 (estimates base) to July 1, 2016,  (V2016)',\n",
       "       'Population, Census, April 1, 2010',\n",
       "       'Persons under 5 years, percent, July 1, 2016,  (V2016)',\n",
       "       'Persons under 5 years, percent, April 1, 2010',\n",
       "       'Persons under 18 years, percent, July 1, 2016,  (V2016)',\n",
       "       'Persons under 18 years, percent, April 1, 2010',\n",
       "       'Persons 65 years and over, percent,  July 1, 2016,  (V2016)',\n",
       "       'Persons 65 years and over, percent, April 1, 2010',\n",
       "       'Female persons, percent,  July 1, 2016,  (V2016)',\n",
       "       'Female persons, percent, April 1, 2010',\n",
       "       'White alone, percent, July 1, 2016,  (V2016)',\n",
       "       'Black or African American alone, percent, July 1, 2016,  (V2016)',\n",
       "       'American Indian and Alaska Native alone, percent, July 1, 2016,  (V2016)',\n",
       "       'Asian alone, percent, July 1, 2016,  (V2016)',\n",
       "       'Native Hawaiian and Other Pacific Islander alone, percent, July 1, 2016,  (V2016)',\n",
       "       'Two or More Races, percent, July 1, 2016,  (V2016)',\n",
       "       'Hispanic or Latino, percent, July 1, 2016,  (V2016)',\n",
       "       'White alone, not Hispanic or Latino, percent, July 1, 2016,  (V2016)',\n",
       "       'Veterans, 2011-2015', 'Foreign born persons, percent, 2011-2015',\n",
       "       'Housing units,  July 1, 2016,  (V2016)',\n",
       "       'Housing units, April 1, 2010',\n",
       "       'Owner-occupied housing unit rate, 2011-2015',\n",
       "       'Median value of owner-occupied housing units, 2011-2015',\n",
       "       'Median selected monthly owner costs -with a mortgage, 2011-2015',\n",
       "       'Median selected monthly owner costs -without a mortgage, 2011-2015',\n",
       "       'Median gross rent, 2011-2015', 'Building permits, 2016',\n",
       "       'Households, 2011-2015', 'Persons per household, 2011-2015',\n",
       "       'Living in same house 1 year ago, percent of persons age 1 year+, 2011-2015',\n",
       "       'Language other than English spoken at home, percent of persons age 5 years+, 2011-2015',\n",
       "       'High school graduate or higher, percent of persons age 25 years+, 2011-2015',\n",
       "       \"Bachelor's degree or higher, percent of persons age 25 years+, 2011-2015\",\n",
       "       'With a disability, under age 65 years, percent, 2011-2015',\n",
       "       'Persons  without health insurance, under age 65 years, percent',\n",
       "       'In civilian labor force, total, percent of population age 16 years+, 2011-2015',\n",
       "       'In civilian labor force, female, percent of population age 16 years+, 2011-2015',\n",
       "       'Total accommodation and food services sales, 2012 ($1,000)',\n",
       "       'Total health care and social assistance receipts/revenue, 2012 ($1,000)',\n",
       "       'Total manufacturers shipments, 2012 ($1,000)',\n",
       "       'Total merchant wholesaler sales, 2012 ($1,000)',\n",
       "       'Total retail sales, 2012 ($1,000)',\n",
       "       'Total retail sales per capita, 2012',\n",
       "       'Mean travel time to work (minutes), workers age 16 years+, 2011-2015',\n",
       "       'Median household income (in 2015 dollars), 2011-2015',\n",
       "       'Per capita income in past 12 months (in 2015 dollars), 2011-2015',\n",
       "       'Persons in poverty, percent',\n",
       "       'Total employer establishments, 2015', 'Total employment, 2015',\n",
       "       'Total annual payroll, 2015 ($1,000)',\n",
       "       'Total employment, percent change, 2014-2015',\n",
       "       'Total nonemployer establishments, 2015', 'All firms, 2012',\n",
       "       'Men-owned firms, 2012', 'Women-owned firms, 2012',\n",
       "       'Minority-owned firms, 2012', 'Nonminority-owned firms, 2012',\n",
       "       'Veteran-owned firms, 2012', 'Nonveteran-owned firms, 2012',\n",
       "       'Population per square mile, 2010',\n",
       "       'Land area in square miles, 2010', 'FIPS Code', nan,\n",
       "       'NOTE: FIPS Code values are enclosed in quotes to ensure leading zeros remain intact.',\n",
       "       'Value Notes', '1', 'Fact Notes', '(a)', '(b)', '(c)',\n",
       "       'Value Flags', '-', 'D', 'F', 'FN', 'S', 'X', 'Z'], dtype=object)"
      ]
     },
     "execution_count": 25,
     "metadata": {},
     "output_type": "execute_result"
    }
   ],
   "source": [
    "new_col = us_census['Fact'].unique()\n",
    "new_col"
   ]
  },
  {
   "cell_type": "code",
   "execution_count": 26,
   "id": "c4cd2941",
   "metadata": {
    "execution": {
     "iopub.execute_input": "2022-12-21T06:31:12.146214Z",
     "iopub.status.busy": "2022-12-21T06:31:12.145755Z",
     "iopub.status.idle": "2022-12-21T06:31:12.152716Z",
     "shell.execute_reply": "2022-12-21T06:31:12.151762Z"
    },
    "papermill": {
     "duration": 0.043882,
     "end_time": "2022-12-21T06:31:12.154565",
     "exception": false,
     "start_time": "2022-12-21T06:31:12.110683",
     "status": "completed"
    },
    "tags": []
   },
   "outputs": [
    {
     "data": {
      "text/plain": [
       "(82, 51)"
      ]
     },
     "execution_count": 26,
     "metadata": {},
     "output_type": "execute_result"
    }
   ],
   "source": [
    "us_census.shape"
   ]
  },
  {
   "cell_type": "code",
   "execution_count": 27,
   "id": "a578f006",
   "metadata": {
    "execution": {
     "iopub.execute_input": "2022-12-21T06:31:12.224120Z",
     "iopub.status.busy": "2022-12-21T06:31:12.222765Z",
     "iopub.status.idle": "2022-12-21T06:31:12.248864Z",
     "shell.execute_reply": "2022-12-21T06:31:12.247865Z"
    },
    "papermill": {
     "duration": 0.063211,
     "end_time": "2022-12-21T06:31:12.250984",
     "exception": false,
     "start_time": "2022-12-21T06:31:12.187773",
     "status": "completed"
    },
    "tags": []
   },
   "outputs": [
    {
     "data": {
      "text/html": [
       "<div>\n",
       "<style scoped>\n",
       "    .dataframe tbody tr th:only-of-type {\n",
       "        vertical-align: middle;\n",
       "    }\n",
       "\n",
       "    .dataframe tbody tr th {\n",
       "        vertical-align: top;\n",
       "    }\n",
       "\n",
       "    .dataframe thead th {\n",
       "        text-align: right;\n",
       "    }\n",
       "</style>\n",
       "<table border=\"1\" class=\"dataframe\">\n",
       "  <thead>\n",
       "    <tr style=\"text-align: right;\">\n",
       "      <th></th>\n",
       "      <th>0</th>\n",
       "      <th>1</th>\n",
       "      <th>2</th>\n",
       "      <th>3</th>\n",
       "      <th>4</th>\n",
       "      <th>5</th>\n",
       "      <th>6</th>\n",
       "      <th>7</th>\n",
       "      <th>8</th>\n",
       "      <th>9</th>\n",
       "      <th>...</th>\n",
       "      <th>74</th>\n",
       "      <th>76</th>\n",
       "      <th>77</th>\n",
       "      <th>78</th>\n",
       "      <th>79</th>\n",
       "      <th>80</th>\n",
       "      <th>81</th>\n",
       "      <th>82</th>\n",
       "      <th>83</th>\n",
       "      <th>84</th>\n",
       "    </tr>\n",
       "  </thead>\n",
       "  <tbody>\n",
       "    <tr>\n",
       "      <th>Fact</th>\n",
       "      <td>Population estimates, July 1, 2016,  (V2016)</td>\n",
       "      <td>Population estimates base, April 1, 2010,  (V2...</td>\n",
       "      <td>Population, percent change - April 1, 2010 (es...</td>\n",
       "      <td>Population, Census, April 1, 2010</td>\n",
       "      <td>Persons under 5 years, percent, July 1, 2016, ...</td>\n",
       "      <td>Persons under 5 years, percent, April 1, 2010</td>\n",
       "      <td>Persons under 18 years, percent, July 1, 2016,...</td>\n",
       "      <td>Persons under 18 years, percent, April 1, 2010</td>\n",
       "      <td>Persons 65 years and over, percent,  July 1, 2...</td>\n",
       "      <td>Persons 65 years and over, percent, April 1, 2010</td>\n",
       "      <td>...</td>\n",
       "      <td>(c)</td>\n",
       "      <td>Value Flags</td>\n",
       "      <td>-</td>\n",
       "      <td>D</td>\n",
       "      <td>F</td>\n",
       "      <td>FN</td>\n",
       "      <td>NaN</td>\n",
       "      <td>S</td>\n",
       "      <td>X</td>\n",
       "      <td>Z</td>\n",
       "    </tr>\n",
       "    <tr>\n",
       "      <th>Alabama</th>\n",
       "      <td>4,863,300</td>\n",
       "      <td>4,780,131</td>\n",
       "      <td>1.70%</td>\n",
       "      <td>4,779,736</td>\n",
       "      <td>6.00%</td>\n",
       "      <td>6.40%</td>\n",
       "      <td>22.60%</td>\n",
       "      <td>23.70%</td>\n",
       "      <td>16.10%</td>\n",
       "      <td>13.80%</td>\n",
       "      <td>...</td>\n",
       "      <td>NaN</td>\n",
       "      <td>NaN</td>\n",
       "      <td>NaN</td>\n",
       "      <td>NaN</td>\n",
       "      <td>NaN</td>\n",
       "      <td>NaN</td>\n",
       "      <td>NaN</td>\n",
       "      <td>NaN</td>\n",
       "      <td>NaN</td>\n",
       "      <td>NaN</td>\n",
       "    </tr>\n",
       "    <tr>\n",
       "      <th>Alaska</th>\n",
       "      <td>741,894</td>\n",
       "      <td>710,249</td>\n",
       "      <td>4.50%</td>\n",
       "      <td>710,231</td>\n",
       "      <td>7.30%</td>\n",
       "      <td>7.60%</td>\n",
       "      <td>25.20%</td>\n",
       "      <td>26.40%</td>\n",
       "      <td>10.40%</td>\n",
       "      <td>7.70%</td>\n",
       "      <td>...</td>\n",
       "      <td>NaN</td>\n",
       "      <td>NaN</td>\n",
       "      <td>NaN</td>\n",
       "      <td>NaN</td>\n",
       "      <td>NaN</td>\n",
       "      <td>NaN</td>\n",
       "      <td>NaN</td>\n",
       "      <td>NaN</td>\n",
       "      <td>NaN</td>\n",
       "      <td>NaN</td>\n",
       "    </tr>\n",
       "  </tbody>\n",
       "</table>\n",
       "<p>3 rows × 82 columns</p>\n",
       "</div>"
      ],
      "text/plain": [
       "                                                   0   \\\n",
       "Fact     Population estimates, July 1, 2016,  (V2016)   \n",
       "Alabama                                     4,863,300   \n",
       "Alaska                                        741,894   \n",
       "\n",
       "                                                        1   \\\n",
       "Fact     Population estimates base, April 1, 2010,  (V2...   \n",
       "Alabama                                          4,780,131   \n",
       "Alaska                                             710,249   \n",
       "\n",
       "                                                        2   \\\n",
       "Fact     Population, percent change - April 1, 2010 (es...   \n",
       "Alabama                                              1.70%   \n",
       "Alaska                                               4.50%   \n",
       "\n",
       "                                        3   \\\n",
       "Fact     Population, Census, April 1, 2010   \n",
       "Alabama                          4,779,736   \n",
       "Alaska                             710,231   \n",
       "\n",
       "                                                        4   \\\n",
       "Fact     Persons under 5 years, percent, July 1, 2016, ...   \n",
       "Alabama                                              6.00%   \n",
       "Alaska                                               7.30%   \n",
       "\n",
       "                                                    5   \\\n",
       "Fact     Persons under 5 years, percent, April 1, 2010   \n",
       "Alabama                                          6.40%   \n",
       "Alaska                                           7.60%   \n",
       "\n",
       "                                                        6   \\\n",
       "Fact     Persons under 18 years, percent, July 1, 2016,...   \n",
       "Alabama                                             22.60%   \n",
       "Alaska                                              25.20%   \n",
       "\n",
       "                                                     7   \\\n",
       "Fact     Persons under 18 years, percent, April 1, 2010   \n",
       "Alabama                                          23.70%   \n",
       "Alaska                                           26.40%   \n",
       "\n",
       "                                                        8   \\\n",
       "Fact     Persons 65 years and over, percent,  July 1, 2...   \n",
       "Alabama                                             16.10%   \n",
       "Alaska                                              10.40%   \n",
       "\n",
       "                                                        9   ...   74  \\\n",
       "Fact     Persons 65 years and over, percent, April 1, 2010  ...  (c)   \n",
       "Alabama                                             13.80%  ...  NaN   \n",
       "Alaska                                               7.70%  ...  NaN   \n",
       "\n",
       "                  76   77   78   79   80   81   82   83   84  \n",
       "Fact     Value Flags    -    D    F   FN  NaN    S    X    Z  \n",
       "Alabama          NaN  NaN  NaN  NaN  NaN  NaN  NaN  NaN  NaN  \n",
       "Alaska           NaN  NaN  NaN  NaN  NaN  NaN  NaN  NaN  NaN  \n",
       "\n",
       "[3 rows x 82 columns]"
      ]
     },
     "execution_count": 27,
     "metadata": {},
     "output_type": "execute_result"
    }
   ],
   "source": [
    "new_us_census = us_census.transpose()   #us_census.T can also be used\n",
    "new_us_census.head(3)"
   ]
  },
  {
   "cell_type": "code",
   "execution_count": 28,
   "id": "b095c2bf",
   "metadata": {
    "execution": {
     "iopub.execute_input": "2022-12-21T06:31:12.321165Z",
     "iopub.status.busy": "2022-12-21T06:31:12.320718Z",
     "iopub.status.idle": "2022-12-21T06:31:12.346603Z",
     "shell.execute_reply": "2022-12-21T06:31:12.344837Z"
    },
    "papermill": {
     "duration": 0.063555,
     "end_time": "2022-12-21T06:31:12.349184",
     "exception": false,
     "start_time": "2022-12-21T06:31:12.285629",
     "status": "completed"
    },
    "tags": []
   },
   "outputs": [
    {
     "data": {
      "text/html": [
       "<div>\n",
       "<style scoped>\n",
       "    .dataframe tbody tr th:only-of-type {\n",
       "        vertical-align: middle;\n",
       "    }\n",
       "\n",
       "    .dataframe tbody tr th {\n",
       "        vertical-align: top;\n",
       "    }\n",
       "\n",
       "    .dataframe thead th {\n",
       "        text-align: right;\n",
       "    }\n",
       "</style>\n",
       "<table border=\"1\" class=\"dataframe\">\n",
       "  <thead>\n",
       "    <tr style=\"text-align: right;\">\n",
       "      <th></th>\n",
       "      <th>0</th>\n",
       "      <th>1</th>\n",
       "      <th>2</th>\n",
       "      <th>3</th>\n",
       "      <th>4</th>\n",
       "      <th>5</th>\n",
       "      <th>6</th>\n",
       "      <th>7</th>\n",
       "      <th>8</th>\n",
       "      <th>9</th>\n",
       "      <th>...</th>\n",
       "      <th>54</th>\n",
       "      <th>55</th>\n",
       "      <th>56</th>\n",
       "      <th>57</th>\n",
       "      <th>58</th>\n",
       "      <th>59</th>\n",
       "      <th>60</th>\n",
       "      <th>61</th>\n",
       "      <th>62</th>\n",
       "      <th>63</th>\n",
       "    </tr>\n",
       "  </thead>\n",
       "  <tbody>\n",
       "    <tr>\n",
       "      <th>Fact</th>\n",
       "      <td>Population estimates, July 1, 2016,  (V2016)</td>\n",
       "      <td>Population estimates base, April 1, 2010,  (V2...</td>\n",
       "      <td>Population, percent change - April 1, 2010 (es...</td>\n",
       "      <td>Population, Census, April 1, 2010</td>\n",
       "      <td>Persons under 5 years, percent, July 1, 2016, ...</td>\n",
       "      <td>Persons under 5 years, percent, April 1, 2010</td>\n",
       "      <td>Persons under 18 years, percent, July 1, 2016,...</td>\n",
       "      <td>Persons under 18 years, percent, April 1, 2010</td>\n",
       "      <td>Persons 65 years and over, percent,  July 1, 2...</td>\n",
       "      <td>Persons 65 years and over, percent, April 1, 2010</td>\n",
       "      <td>...</td>\n",
       "      <td>Total nonemployer establishments, 2015</td>\n",
       "      <td>All firms, 2012</td>\n",
       "      <td>Men-owned firms, 2012</td>\n",
       "      <td>Women-owned firms, 2012</td>\n",
       "      <td>Minority-owned firms, 2012</td>\n",
       "      <td>Nonminority-owned firms, 2012</td>\n",
       "      <td>Veteran-owned firms, 2012</td>\n",
       "      <td>Nonveteran-owned firms, 2012</td>\n",
       "      <td>Population per square mile, 2010</td>\n",
       "      <td>Land area in square miles, 2010</td>\n",
       "    </tr>\n",
       "    <tr>\n",
       "      <th>Alabama</th>\n",
       "      <td>4,863,300</td>\n",
       "      <td>4,780,131</td>\n",
       "      <td>1.70%</td>\n",
       "      <td>4,779,736</td>\n",
       "      <td>6.00%</td>\n",
       "      <td>6.40%</td>\n",
       "      <td>22.60%</td>\n",
       "      <td>23.70%</td>\n",
       "      <td>16.10%</td>\n",
       "      <td>13.80%</td>\n",
       "      <td>...</td>\n",
       "      <td>322,025</td>\n",
       "      <td>374,153</td>\n",
       "      <td>203,604</td>\n",
       "      <td>137,630</td>\n",
       "      <td>92,219</td>\n",
       "      <td>272,651</td>\n",
       "      <td>41,943</td>\n",
       "      <td>316,984</td>\n",
       "      <td>94.4</td>\n",
       "      <td>50,645.33</td>\n",
       "    </tr>\n",
       "    <tr>\n",
       "      <th>Alaska</th>\n",
       "      <td>741,894</td>\n",
       "      <td>710,249</td>\n",
       "      <td>4.50%</td>\n",
       "      <td>710,231</td>\n",
       "      <td>7.30%</td>\n",
       "      <td>7.60%</td>\n",
       "      <td>25.20%</td>\n",
       "      <td>26.40%</td>\n",
       "      <td>10.40%</td>\n",
       "      <td>7.70%</td>\n",
       "      <td>...</td>\n",
       "      <td>55,521</td>\n",
       "      <td>68,032</td>\n",
       "      <td>35,402</td>\n",
       "      <td>22,141</td>\n",
       "      <td>13,688</td>\n",
       "      <td>51,147</td>\n",
       "      <td>7,953</td>\n",
       "      <td>56,091</td>\n",
       "      <td>1.2</td>\n",
       "      <td>570,640.95</td>\n",
       "    </tr>\n",
       "    <tr>\n",
       "      <th>Arizona</th>\n",
       "      <td>6,931,071</td>\n",
       "      <td>6,392,301</td>\n",
       "      <td>8.40%</td>\n",
       "      <td>6,392,017</td>\n",
       "      <td>6.30%</td>\n",
       "      <td>7.10%</td>\n",
       "      <td>23.50%</td>\n",
       "      <td>25.50%</td>\n",
       "      <td>16.90%</td>\n",
       "      <td>13.80%</td>\n",
       "      <td>...</td>\n",
       "      <td>451,951</td>\n",
       "      <td>499,926</td>\n",
       "      <td>245,243</td>\n",
       "      <td>182,425</td>\n",
       "      <td>135,313</td>\n",
       "      <td>344,981</td>\n",
       "      <td>46,780</td>\n",
       "      <td>427,582</td>\n",
       "      <td>56.3</td>\n",
       "      <td>113,594.08</td>\n",
       "    </tr>\n",
       "  </tbody>\n",
       "</table>\n",
       "<p>4 rows × 64 columns</p>\n",
       "</div>"
      ],
      "text/plain": [
       "                                                   0   \\\n",
       "Fact     Population estimates, July 1, 2016,  (V2016)   \n",
       "Alabama                                     4,863,300   \n",
       "Alaska                                        741,894   \n",
       "Arizona                                     6,931,071   \n",
       "\n",
       "                                                        1   \\\n",
       "Fact     Population estimates base, April 1, 2010,  (V2...   \n",
       "Alabama                                          4,780,131   \n",
       "Alaska                                             710,249   \n",
       "Arizona                                          6,392,301   \n",
       "\n",
       "                                                        2   \\\n",
       "Fact     Population, percent change - April 1, 2010 (es...   \n",
       "Alabama                                              1.70%   \n",
       "Alaska                                               4.50%   \n",
       "Arizona                                              8.40%   \n",
       "\n",
       "                                        3   \\\n",
       "Fact     Population, Census, April 1, 2010   \n",
       "Alabama                          4,779,736   \n",
       "Alaska                             710,231   \n",
       "Arizona                          6,392,017   \n",
       "\n",
       "                                                        4   \\\n",
       "Fact     Persons under 5 years, percent, July 1, 2016, ...   \n",
       "Alabama                                              6.00%   \n",
       "Alaska                                               7.30%   \n",
       "Arizona                                              6.30%   \n",
       "\n",
       "                                                    5   \\\n",
       "Fact     Persons under 5 years, percent, April 1, 2010   \n",
       "Alabama                                          6.40%   \n",
       "Alaska                                           7.60%   \n",
       "Arizona                                          7.10%   \n",
       "\n",
       "                                                        6   \\\n",
       "Fact     Persons under 18 years, percent, July 1, 2016,...   \n",
       "Alabama                                             22.60%   \n",
       "Alaska                                              25.20%   \n",
       "Arizona                                             23.50%   \n",
       "\n",
       "                                                     7   \\\n",
       "Fact     Persons under 18 years, percent, April 1, 2010   \n",
       "Alabama                                          23.70%   \n",
       "Alaska                                           26.40%   \n",
       "Arizona                                          25.50%   \n",
       "\n",
       "                                                        8   \\\n",
       "Fact     Persons 65 years and over, percent,  July 1, 2...   \n",
       "Alabama                                             16.10%   \n",
       "Alaska                                              10.40%   \n",
       "Arizona                                             16.90%   \n",
       "\n",
       "                                                        9   ...  \\\n",
       "Fact     Persons 65 years and over, percent, April 1, 2010  ...   \n",
       "Alabama                                             13.80%  ...   \n",
       "Alaska                                               7.70%  ...   \n",
       "Arizona                                             13.80%  ...   \n",
       "\n",
       "                                             54               55  \\\n",
       "Fact     Total nonemployer establishments, 2015  All firms, 2012   \n",
       "Alabama                                 322,025          374,153   \n",
       "Alaska                                   55,521           68,032   \n",
       "Arizona                                 451,951          499,926   \n",
       "\n",
       "                            56                       57  \\\n",
       "Fact     Men-owned firms, 2012  Women-owned firms, 2012   \n",
       "Alabama                203,604                  137,630   \n",
       "Alaska                  35,402                   22,141   \n",
       "Arizona                245,243                  182,425   \n",
       "\n",
       "                                 58                             59  \\\n",
       "Fact     Minority-owned firms, 2012  Nonminority-owned firms, 2012   \n",
       "Alabama                      92,219                        272,651   \n",
       "Alaska                       13,688                         51,147   \n",
       "Arizona                     135,313                        344,981   \n",
       "\n",
       "                                60                            61  \\\n",
       "Fact     Veteran-owned firms, 2012  Nonveteran-owned firms, 2012   \n",
       "Alabama                     41,943                       316,984   \n",
       "Alaska                       7,953                        56,091   \n",
       "Arizona                     46,780                       427,582   \n",
       "\n",
       "                                       62                               63  \n",
       "Fact     Population per square mile, 2010  Land area in square miles, 2010  \n",
       "Alabama                              94.4                        50,645.33  \n",
       "Alaska                                1.2                       570,640.95  \n",
       "Arizona                              56.3                       113,594.08  \n",
       "\n",
       "[4 rows x 64 columns]"
      ]
     },
     "execution_count": 28,
     "metadata": {},
     "output_type": "execute_result"
    }
   ],
   "source": [
    "us_census = new_us_census.iloc[:,:64]\n",
    "us_census.head(4)"
   ]
  },
  {
   "cell_type": "code",
   "execution_count": 29,
   "id": "b4ba3db9",
   "metadata": {
    "execution": {
     "iopub.execute_input": "2022-12-21T06:31:12.420021Z",
     "iopub.status.busy": "2022-12-21T06:31:12.419153Z",
     "iopub.status.idle": "2022-12-21T06:31:12.443159Z",
     "shell.execute_reply": "2022-12-21T06:31:12.441758Z"
    },
    "papermill": {
     "duration": 0.061596,
     "end_time": "2022-12-21T06:31:12.445241",
     "exception": false,
     "start_time": "2022-12-21T06:31:12.383645",
     "status": "completed"
    },
    "tags": []
   },
   "outputs": [
    {
     "data": {
      "text/html": [
       "<div>\n",
       "<style scoped>\n",
       "    .dataframe tbody tr th:only-of-type {\n",
       "        vertical-align: middle;\n",
       "    }\n",
       "\n",
       "    .dataframe tbody tr th {\n",
       "        vertical-align: top;\n",
       "    }\n",
       "\n",
       "    .dataframe thead th {\n",
       "        text-align: right;\n",
       "    }\n",
       "</style>\n",
       "<table border=\"1\" class=\"dataframe\">\n",
       "  <thead>\n",
       "    <tr style=\"text-align: right;\">\n",
       "      <th>Fact</th>\n",
       "      <th>Population estimates, July 1, 2016,  (V2016)</th>\n",
       "      <th>Population estimates base, April 1, 2010,  (V2016)</th>\n",
       "      <th>Population, percent change - April 1, 2010 (estimates base) to July 1, 2016,  (V2016)</th>\n",
       "      <th>Population, Census, April 1, 2010</th>\n",
       "      <th>Persons under 5 years, percent, July 1, 2016,  (V2016)</th>\n",
       "      <th>Persons under 5 years, percent, April 1, 2010</th>\n",
       "      <th>Persons under 18 years, percent, July 1, 2016,  (V2016)</th>\n",
       "      <th>Persons under 18 years, percent, April 1, 2010</th>\n",
       "      <th>Persons 65 years and over, percent,  July 1, 2016,  (V2016)</th>\n",
       "      <th>Persons 65 years and over, percent, April 1, 2010</th>\n",
       "      <th>...</th>\n",
       "      <th>Total nonemployer establishments, 2015</th>\n",
       "      <th>All firms, 2012</th>\n",
       "      <th>Men-owned firms, 2012</th>\n",
       "      <th>Women-owned firms, 2012</th>\n",
       "      <th>Minority-owned firms, 2012</th>\n",
       "      <th>Nonminority-owned firms, 2012</th>\n",
       "      <th>Veteran-owned firms, 2012</th>\n",
       "      <th>Nonveteran-owned firms, 2012</th>\n",
       "      <th>Population per square mile, 2010</th>\n",
       "      <th>Land area in square miles, 2010</th>\n",
       "    </tr>\n",
       "  </thead>\n",
       "  <tbody>\n",
       "    <tr>\n",
       "      <th>Fact</th>\n",
       "      <td>Population estimates, July 1, 2016,  (V2016)</td>\n",
       "      <td>Population estimates base, April 1, 2010,  (V2...</td>\n",
       "      <td>Population, percent change - April 1, 2010 (es...</td>\n",
       "      <td>Population, Census, April 1, 2010</td>\n",
       "      <td>Persons under 5 years, percent, July 1, 2016, ...</td>\n",
       "      <td>Persons under 5 years, percent, April 1, 2010</td>\n",
       "      <td>Persons under 18 years, percent, July 1, 2016,...</td>\n",
       "      <td>Persons under 18 years, percent, April 1, 2010</td>\n",
       "      <td>Persons 65 years and over, percent,  July 1, 2...</td>\n",
       "      <td>Persons 65 years and over, percent, April 1, 2010</td>\n",
       "      <td>...</td>\n",
       "      <td>Total nonemployer establishments, 2015</td>\n",
       "      <td>All firms, 2012</td>\n",
       "      <td>Men-owned firms, 2012</td>\n",
       "      <td>Women-owned firms, 2012</td>\n",
       "      <td>Minority-owned firms, 2012</td>\n",
       "      <td>Nonminority-owned firms, 2012</td>\n",
       "      <td>Veteran-owned firms, 2012</td>\n",
       "      <td>Nonveteran-owned firms, 2012</td>\n",
       "      <td>Population per square mile, 2010</td>\n",
       "      <td>Land area in square miles, 2010</td>\n",
       "    </tr>\n",
       "    <tr>\n",
       "      <th>Alabama</th>\n",
       "      <td>4,863,300</td>\n",
       "      <td>4,780,131</td>\n",
       "      <td>1.70%</td>\n",
       "      <td>4,779,736</td>\n",
       "      <td>6.00%</td>\n",
       "      <td>6.40%</td>\n",
       "      <td>22.60%</td>\n",
       "      <td>23.70%</td>\n",
       "      <td>16.10%</td>\n",
       "      <td>13.80%</td>\n",
       "      <td>...</td>\n",
       "      <td>322,025</td>\n",
       "      <td>374,153</td>\n",
       "      <td>203,604</td>\n",
       "      <td>137,630</td>\n",
       "      <td>92,219</td>\n",
       "      <td>272,651</td>\n",
       "      <td>41,943</td>\n",
       "      <td>316,984</td>\n",
       "      <td>94.4</td>\n",
       "      <td>50,645.33</td>\n",
       "    </tr>\n",
       "    <tr>\n",
       "      <th>Alaska</th>\n",
       "      <td>741,894</td>\n",
       "      <td>710,249</td>\n",
       "      <td>4.50%</td>\n",
       "      <td>710,231</td>\n",
       "      <td>7.30%</td>\n",
       "      <td>7.60%</td>\n",
       "      <td>25.20%</td>\n",
       "      <td>26.40%</td>\n",
       "      <td>10.40%</td>\n",
       "      <td>7.70%</td>\n",
       "      <td>...</td>\n",
       "      <td>55,521</td>\n",
       "      <td>68,032</td>\n",
       "      <td>35,402</td>\n",
       "      <td>22,141</td>\n",
       "      <td>13,688</td>\n",
       "      <td>51,147</td>\n",
       "      <td>7,953</td>\n",
       "      <td>56,091</td>\n",
       "      <td>1.2</td>\n",
       "      <td>570,640.95</td>\n",
       "    </tr>\n",
       "  </tbody>\n",
       "</table>\n",
       "<p>3 rows × 64 columns</p>\n",
       "</div>"
      ],
      "text/plain": [
       "Fact     Population estimates, July 1, 2016,  (V2016)  \\\n",
       "Fact     Population estimates, July 1, 2016,  (V2016)   \n",
       "Alabama                                     4,863,300   \n",
       "Alaska                                        741,894   \n",
       "\n",
       "Fact    Population estimates base, April 1, 2010,  (V2016)  \\\n",
       "Fact     Population estimates base, April 1, 2010,  (V2...   \n",
       "Alabama                                          4,780,131   \n",
       "Alaska                                             710,249   \n",
       "\n",
       "Fact    Population, percent change - April 1, 2010 (estimates base) to July 1, 2016,  (V2016)  \\\n",
       "Fact     Population, percent change - April 1, 2010 (es...                                      \n",
       "Alabama                                              1.70%                                      \n",
       "Alaska                                               4.50%                                      \n",
       "\n",
       "Fact     Population, Census, April 1, 2010  \\\n",
       "Fact     Population, Census, April 1, 2010   \n",
       "Alabama                          4,779,736   \n",
       "Alaska                             710,231   \n",
       "\n",
       "Fact    Persons under 5 years, percent, July 1, 2016,  (V2016)  \\\n",
       "Fact     Persons under 5 years, percent, July 1, 2016, ...       \n",
       "Alabama                                              6.00%       \n",
       "Alaska                                               7.30%       \n",
       "\n",
       "Fact     Persons under 5 years, percent, April 1, 2010  \\\n",
       "Fact     Persons under 5 years, percent, April 1, 2010   \n",
       "Alabama                                          6.40%   \n",
       "Alaska                                           7.60%   \n",
       "\n",
       "Fact    Persons under 18 years, percent, July 1, 2016,  (V2016)  \\\n",
       "Fact     Persons under 18 years, percent, July 1, 2016,...        \n",
       "Alabama                                             22.60%        \n",
       "Alaska                                              25.20%        \n",
       "\n",
       "Fact     Persons under 18 years, percent, April 1, 2010  \\\n",
       "Fact     Persons under 18 years, percent, April 1, 2010   \n",
       "Alabama                                          23.70%   \n",
       "Alaska                                           26.40%   \n",
       "\n",
       "Fact    Persons 65 years and over, percent,  July 1, 2016,  (V2016)  \\\n",
       "Fact     Persons 65 years and over, percent,  July 1, 2...            \n",
       "Alabama                                             16.10%            \n",
       "Alaska                                              10.40%            \n",
       "\n",
       "Fact     Persons 65 years and over, percent, April 1, 2010  ...  \\\n",
       "Fact     Persons 65 years and over, percent, April 1, 2010  ...   \n",
       "Alabama                                             13.80%  ...   \n",
       "Alaska                                               7.70%  ...   \n",
       "\n",
       "Fact     Total nonemployer establishments, 2015  All firms, 2012  \\\n",
       "Fact     Total nonemployer establishments, 2015  All firms, 2012   \n",
       "Alabama                                 322,025          374,153   \n",
       "Alaska                                   55,521           68,032   \n",
       "\n",
       "Fact     Men-owned firms, 2012  Women-owned firms, 2012  \\\n",
       "Fact     Men-owned firms, 2012  Women-owned firms, 2012   \n",
       "Alabama                203,604                  137,630   \n",
       "Alaska                  35,402                   22,141   \n",
       "\n",
       "Fact     Minority-owned firms, 2012  Nonminority-owned firms, 2012  \\\n",
       "Fact     Minority-owned firms, 2012  Nonminority-owned firms, 2012   \n",
       "Alabama                      92,219                        272,651   \n",
       "Alaska                       13,688                         51,147   \n",
       "\n",
       "Fact     Veteran-owned firms, 2012  Nonveteran-owned firms, 2012  \\\n",
       "Fact     Veteran-owned firms, 2012  Nonveteran-owned firms, 2012   \n",
       "Alabama                     41,943                       316,984   \n",
       "Alaska                       7,953                        56,091   \n",
       "\n",
       "Fact     Population per square mile, 2010  Land area in square miles, 2010  \n",
       "Fact     Population per square mile, 2010  Land area in square miles, 2010  \n",
       "Alabama                              94.4                        50,645.33  \n",
       "Alaska                                1.2                       570,640.95  \n",
       "\n",
       "[3 rows x 64 columns]"
      ]
     },
     "execution_count": 29,
     "metadata": {},
     "output_type": "execute_result"
    }
   ],
   "source": [
    "us_census.columns = us_census.iloc[0]\n",
    "us_census.head(3)"
   ]
  },
  {
   "cell_type": "code",
   "execution_count": 30,
   "id": "779e3b68",
   "metadata": {
    "execution": {
     "iopub.execute_input": "2022-12-21T06:31:12.514613Z",
     "iopub.status.busy": "2022-12-21T06:31:12.514210Z",
     "iopub.status.idle": "2022-12-21T06:31:12.527386Z",
     "shell.execute_reply": "2022-12-21T06:31:12.525218Z"
    },
    "papermill": {
     "duration": 0.051306,
     "end_time": "2022-12-21T06:31:12.530384",
     "exception": false,
     "start_time": "2022-12-21T06:31:12.479078",
     "status": "completed"
    },
    "tags": []
   },
   "outputs": [
    {
     "name": "stderr",
     "output_type": "stream",
     "text": [
      "/opt/conda/lib/python3.7/site-packages/pandas/core/frame.py:4913: SettingWithCopyWarning: \n",
      "A value is trying to be set on a copy of a slice from a DataFrame\n",
      "\n",
      "See the caveats in the documentation: https://pandas.pydata.org/pandas-docs/stable/user_guide/indexing.html#returning-a-view-versus-a-copy\n",
      "  errors=errors,\n"
     ]
    }
   ],
   "source": [
    "us_census.drop(us_census.index[0], inplace = True)"
   ]
  },
  {
   "cell_type": "code",
   "execution_count": 31,
   "id": "84d62389",
   "metadata": {
    "execution": {
     "iopub.execute_input": "2022-12-21T06:31:12.603279Z",
     "iopub.status.busy": "2022-12-21T06:31:12.602915Z",
     "iopub.status.idle": "2022-12-21T06:31:12.624596Z",
     "shell.execute_reply": "2022-12-21T06:31:12.622909Z"
    },
    "papermill": {
     "duration": 0.059661,
     "end_time": "2022-12-21T06:31:12.626736",
     "exception": false,
     "start_time": "2022-12-21T06:31:12.567075",
     "status": "completed"
    },
    "tags": []
   },
   "outputs": [
    {
     "data": {
      "text/html": [
       "<div>\n",
       "<style scoped>\n",
       "    .dataframe tbody tr th:only-of-type {\n",
       "        vertical-align: middle;\n",
       "    }\n",
       "\n",
       "    .dataframe tbody tr th {\n",
       "        vertical-align: top;\n",
       "    }\n",
       "\n",
       "    .dataframe thead th {\n",
       "        text-align: right;\n",
       "    }\n",
       "</style>\n",
       "<table border=\"1\" class=\"dataframe\">\n",
       "  <thead>\n",
       "    <tr style=\"text-align: right;\">\n",
       "      <th>Fact</th>\n",
       "      <th>Population estimates, July 1, 2016,  (V2016)</th>\n",
       "      <th>Population estimates base, April 1, 2010,  (V2016)</th>\n",
       "      <th>Population, percent change - April 1, 2010 (estimates base) to July 1, 2016,  (V2016)</th>\n",
       "      <th>Population, Census, April 1, 2010</th>\n",
       "      <th>Persons under 5 years, percent, July 1, 2016,  (V2016)</th>\n",
       "      <th>Persons under 5 years, percent, April 1, 2010</th>\n",
       "      <th>Persons under 18 years, percent, July 1, 2016,  (V2016)</th>\n",
       "      <th>Persons under 18 years, percent, April 1, 2010</th>\n",
       "      <th>Persons 65 years and over, percent,  July 1, 2016,  (V2016)</th>\n",
       "      <th>Persons 65 years and over, percent, April 1, 2010</th>\n",
       "      <th>...</th>\n",
       "      <th>Total nonemployer establishments, 2015</th>\n",
       "      <th>All firms, 2012</th>\n",
       "      <th>Men-owned firms, 2012</th>\n",
       "      <th>Women-owned firms, 2012</th>\n",
       "      <th>Minority-owned firms, 2012</th>\n",
       "      <th>Nonminority-owned firms, 2012</th>\n",
       "      <th>Veteran-owned firms, 2012</th>\n",
       "      <th>Nonveteran-owned firms, 2012</th>\n",
       "      <th>Population per square mile, 2010</th>\n",
       "      <th>Land area in square miles, 2010</th>\n",
       "    </tr>\n",
       "  </thead>\n",
       "  <tbody>\n",
       "    <tr>\n",
       "      <th>Alabama</th>\n",
       "      <td>4,863,300</td>\n",
       "      <td>4,780,131</td>\n",
       "      <td>1.70%</td>\n",
       "      <td>4,779,736</td>\n",
       "      <td>6.00%</td>\n",
       "      <td>6.40%</td>\n",
       "      <td>22.60%</td>\n",
       "      <td>23.70%</td>\n",
       "      <td>16.10%</td>\n",
       "      <td>13.80%</td>\n",
       "      <td>...</td>\n",
       "      <td>322,025</td>\n",
       "      <td>374,153</td>\n",
       "      <td>203,604</td>\n",
       "      <td>137,630</td>\n",
       "      <td>92,219</td>\n",
       "      <td>272,651</td>\n",
       "      <td>41,943</td>\n",
       "      <td>316,984</td>\n",
       "      <td>94.4</td>\n",
       "      <td>50,645.33</td>\n",
       "    </tr>\n",
       "    <tr>\n",
       "      <th>Alaska</th>\n",
       "      <td>741,894</td>\n",
       "      <td>710,249</td>\n",
       "      <td>4.50%</td>\n",
       "      <td>710,231</td>\n",
       "      <td>7.30%</td>\n",
       "      <td>7.60%</td>\n",
       "      <td>25.20%</td>\n",
       "      <td>26.40%</td>\n",
       "      <td>10.40%</td>\n",
       "      <td>7.70%</td>\n",
       "      <td>...</td>\n",
       "      <td>55,521</td>\n",
       "      <td>68,032</td>\n",
       "      <td>35,402</td>\n",
       "      <td>22,141</td>\n",
       "      <td>13,688</td>\n",
       "      <td>51,147</td>\n",
       "      <td>7,953</td>\n",
       "      <td>56,091</td>\n",
       "      <td>1.2</td>\n",
       "      <td>570,640.95</td>\n",
       "    </tr>\n",
       "  </tbody>\n",
       "</table>\n",
       "<p>2 rows × 64 columns</p>\n",
       "</div>"
      ],
      "text/plain": [
       "Fact    Population estimates, July 1, 2016,  (V2016)  \\\n",
       "Alabama                                    4,863,300   \n",
       "Alaska                                       741,894   \n",
       "\n",
       "Fact    Population estimates base, April 1, 2010,  (V2016)  \\\n",
       "Alabama                                          4,780,131   \n",
       "Alaska                                             710,249   \n",
       "\n",
       "Fact    Population, percent change - April 1, 2010 (estimates base) to July 1, 2016,  (V2016)  \\\n",
       "Alabama                                              1.70%                                      \n",
       "Alaska                                               4.50%                                      \n",
       "\n",
       "Fact    Population, Census, April 1, 2010  \\\n",
       "Alabama                         4,779,736   \n",
       "Alaska                            710,231   \n",
       "\n",
       "Fact    Persons under 5 years, percent, July 1, 2016,  (V2016)  \\\n",
       "Alabama                                              6.00%       \n",
       "Alaska                                               7.30%       \n",
       "\n",
       "Fact    Persons under 5 years, percent, April 1, 2010  \\\n",
       "Alabama                                         6.40%   \n",
       "Alaska                                          7.60%   \n",
       "\n",
       "Fact    Persons under 18 years, percent, July 1, 2016,  (V2016)  \\\n",
       "Alabama                                             22.60%        \n",
       "Alaska                                              25.20%        \n",
       "\n",
       "Fact    Persons under 18 years, percent, April 1, 2010  \\\n",
       "Alabama                                         23.70%   \n",
       "Alaska                                          26.40%   \n",
       "\n",
       "Fact    Persons 65 years and over, percent,  July 1, 2016,  (V2016)  \\\n",
       "Alabama                                             16.10%            \n",
       "Alaska                                              10.40%            \n",
       "\n",
       "Fact    Persons 65 years and over, percent, April 1, 2010  ...  \\\n",
       "Alabama                                            13.80%  ...   \n",
       "Alaska                                              7.70%  ...   \n",
       "\n",
       "Fact    Total nonemployer establishments, 2015 All firms, 2012  \\\n",
       "Alabama                                322,025         374,153   \n",
       "Alaska                                  55,521          68,032   \n",
       "\n",
       "Fact    Men-owned firms, 2012 Women-owned firms, 2012  \\\n",
       "Alabama               203,604                 137,630   \n",
       "Alaska                 35,402                  22,141   \n",
       "\n",
       "Fact    Minority-owned firms, 2012 Nonminority-owned firms, 2012  \\\n",
       "Alabama                     92,219                       272,651   \n",
       "Alaska                      13,688                        51,147   \n",
       "\n",
       "Fact    Veteran-owned firms, 2012 Nonveteran-owned firms, 2012  \\\n",
       "Alabama                    41,943                      316,984   \n",
       "Alaska                      7,953                       56,091   \n",
       "\n",
       "Fact    Population per square mile, 2010 Land area in square miles, 2010  \n",
       "Alabama                             94.4                       50,645.33  \n",
       "Alaska                               1.2                      570,640.95  \n",
       "\n",
       "[2 rows x 64 columns]"
      ]
     },
     "execution_count": 31,
     "metadata": {},
     "output_type": "execute_result"
    }
   ],
   "source": [
    "us_census.head(2)"
   ]
  },
  {
   "cell_type": "code",
   "execution_count": 32,
   "id": "d619bb9c",
   "metadata": {
    "execution": {
     "iopub.execute_input": "2022-12-21T06:31:12.697536Z",
     "iopub.status.busy": "2022-12-21T06:31:12.697230Z",
     "iopub.status.idle": "2022-12-21T06:31:12.704348Z",
     "shell.execute_reply": "2022-12-21T06:31:12.702962Z"
    },
    "papermill": {
     "duration": 0.045005,
     "end_time": "2022-12-21T06:31:12.706361",
     "exception": false,
     "start_time": "2022-12-21T06:31:12.661356",
     "status": "completed"
    },
    "tags": []
   },
   "outputs": [
    {
     "data": {
      "text/plain": [
       "Index(['Alabama', 'Alaska', 'Arizona', 'Arkansas', 'California', 'Colorado',\n",
       "       'Connecticut', 'Delaware', 'Florida', 'Georgia', 'Hawaii', 'Idaho',\n",
       "       'Illinois', 'Indiana', 'Iowa', 'Kansas', 'Kentucky', 'Louisiana',\n",
       "       'Maine', 'Maryland', 'Massachusetts', 'Michigan', 'Minnesota',\n",
       "       'Mississippi', 'Missouri', 'Montana', 'Nebraska', 'Nevada',\n",
       "       'New Hampshire', 'New Jersey', 'New Mexico', 'New York',\n",
       "       'North Carolina', 'North Dakota', 'Ohio', 'Oklahoma', 'Oregon',\n",
       "       'Pennsylvania', 'Rhode Island', 'South Carolina', 'South Dakota',\n",
       "       'Tennessee', 'Texas', 'Utah', 'Vermont', 'Virginia', 'Washington',\n",
       "       'West Virginia', 'Wisconsin', 'Wyoming'],\n",
       "      dtype='object')"
      ]
     },
     "execution_count": 32,
     "metadata": {},
     "output_type": "execute_result"
    }
   ],
   "source": [
    "us_census.index"
   ]
  },
  {
   "cell_type": "code",
   "execution_count": 33,
   "id": "fb7c5f3e",
   "metadata": {
    "execution": {
     "iopub.execute_input": "2022-12-21T06:31:12.781084Z",
     "iopub.status.busy": "2022-12-21T06:31:12.780687Z",
     "iopub.status.idle": "2022-12-21T06:31:12.787273Z",
     "shell.execute_reply": "2022-12-21T06:31:12.786243Z"
    },
    "papermill": {
     "duration": 0.047197,
     "end_time": "2022-12-21T06:31:12.789828",
     "exception": false,
     "start_time": "2022-12-21T06:31:12.742631",
     "status": "completed"
    },
    "tags": []
   },
   "outputs": [
    {
     "data": {
      "text/plain": [
       "50"
      ]
     },
     "execution_count": 33,
     "metadata": {},
     "output_type": "execute_result"
    }
   ],
   "source": [
    "len(us_census.index)"
   ]
  },
  {
   "cell_type": "code",
   "execution_count": 34,
   "id": "c9ab890f",
   "metadata": {
    "execution": {
     "iopub.execute_input": "2022-12-21T06:31:12.862759Z",
     "iopub.status.busy": "2022-12-21T06:31:12.862281Z",
     "iopub.status.idle": "2022-12-21T06:31:12.868408Z",
     "shell.execute_reply": "2022-12-21T06:31:12.867443Z"
    },
    "papermill": {
     "duration": 0.045076,
     "end_time": "2022-12-21T06:31:12.870206",
     "exception": false,
     "start_time": "2022-12-21T06:31:12.825130",
     "status": "completed"
    },
    "tags": []
   },
   "outputs": [],
   "source": [
    "us_census.reset_index(inplace = True)"
   ]
  },
  {
   "cell_type": "markdown",
   "id": "7de7ae65",
   "metadata": {
    "papermill": {
     "duration": 0.034687,
     "end_time": "2022-12-21T06:31:12.939823",
     "exception": false,
     "start_time": "2022-12-21T06:31:12.905136",
     "status": "completed"
    },
    "tags": []
   },
   "source": [
    "### Renaming Column name"
   ]
  },
  {
   "cell_type": "code",
   "execution_count": 35,
   "id": "2637e702",
   "metadata": {
    "execution": {
     "iopub.execute_input": "2022-12-21T06:31:13.014324Z",
     "iopub.status.busy": "2022-12-21T06:31:13.013949Z",
     "iopub.status.idle": "2022-12-21T06:31:13.021549Z",
     "shell.execute_reply": "2022-12-21T06:31:13.019898Z"
    },
    "papermill": {
     "duration": 0.048657,
     "end_time": "2022-12-21T06:31:13.024228",
     "exception": false,
     "start_time": "2022-12-21T06:31:12.975571",
     "status": "completed"
    },
    "tags": []
   },
   "outputs": [
    {
     "data": {
      "text/plain": [
       "Index(['index', 'Population estimates, July 1, 2016,  (V2016)',\n",
       "       'Population estimates base, April 1, 2010,  (V2016)',\n",
       "       'Population, percent change - April 1, 2010 (estimates base) to July 1, 2016,  (V2016)',\n",
       "       'Population, Census, April 1, 2010'],\n",
       "      dtype='object', name='Fact')"
      ]
     },
     "execution_count": 35,
     "metadata": {},
     "output_type": "execute_result"
    }
   ],
   "source": [
    "us_census.columns[:5]"
   ]
  },
  {
   "cell_type": "code",
   "execution_count": 36,
   "id": "f5074e03",
   "metadata": {
    "execution": {
     "iopub.execute_input": "2022-12-21T06:31:13.099343Z",
     "iopub.status.busy": "2022-12-21T06:31:13.098953Z",
     "iopub.status.idle": "2022-12-21T06:31:13.106043Z",
     "shell.execute_reply": "2022-12-21T06:31:13.104593Z"
    },
    "papermill": {
     "duration": 0.045961,
     "end_time": "2022-12-21T06:31:13.108280",
     "exception": false,
     "start_time": "2022-12-21T06:31:13.062319",
     "status": "completed"
    },
    "tags": []
   },
   "outputs": [
    {
     "name": "stderr",
     "output_type": "stream",
     "text": [
      "/opt/conda/lib/python3.7/site-packages/pandas/core/frame.py:5047: SettingWithCopyWarning: \n",
      "A value is trying to be set on a copy of a slice from a DataFrame\n",
      "\n",
      "See the caveats in the documentation: https://pandas.pydata.org/pandas-docs/stable/user_guide/indexing.html#returning-a-view-versus-a-copy\n",
      "  errors=errors,\n"
     ]
    }
   ],
   "source": [
    "us_census.rename(columns = {'index': 'state'}, inplace = True, errors='ignore' )"
   ]
  },
  {
   "cell_type": "code",
   "execution_count": 37,
   "id": "d2837be0",
   "metadata": {
    "execution": {
     "iopub.execute_input": "2022-12-21T06:31:13.182286Z",
     "iopub.status.busy": "2022-12-21T06:31:13.181905Z",
     "iopub.status.idle": "2022-12-21T06:31:13.205295Z",
     "shell.execute_reply": "2022-12-21T06:31:13.204068Z"
    },
    "papermill": {
     "duration": 0.062876,
     "end_time": "2022-12-21T06:31:13.207424",
     "exception": false,
     "start_time": "2022-12-21T06:31:13.144548",
     "status": "completed"
    },
    "tags": []
   },
   "outputs": [
    {
     "data": {
      "text/html": [
       "<div>\n",
       "<style scoped>\n",
       "    .dataframe tbody tr th:only-of-type {\n",
       "        vertical-align: middle;\n",
       "    }\n",
       "\n",
       "    .dataframe tbody tr th {\n",
       "        vertical-align: top;\n",
       "    }\n",
       "\n",
       "    .dataframe thead th {\n",
       "        text-align: right;\n",
       "    }\n",
       "</style>\n",
       "<table border=\"1\" class=\"dataframe\">\n",
       "  <thead>\n",
       "    <tr style=\"text-align: right;\">\n",
       "      <th>Fact</th>\n",
       "      <th>state</th>\n",
       "      <th>Population estimates, July 1, 2016,  (V2016)</th>\n",
       "      <th>Population estimates base, April 1, 2010,  (V2016)</th>\n",
       "      <th>Population, percent change - April 1, 2010 (estimates base) to July 1, 2016,  (V2016)</th>\n",
       "      <th>Population, Census, April 1, 2010</th>\n",
       "      <th>Persons under 5 years, percent, July 1, 2016,  (V2016)</th>\n",
       "      <th>Persons under 5 years, percent, April 1, 2010</th>\n",
       "      <th>Persons under 18 years, percent, July 1, 2016,  (V2016)</th>\n",
       "      <th>Persons under 18 years, percent, April 1, 2010</th>\n",
       "      <th>Persons 65 years and over, percent,  July 1, 2016,  (V2016)</th>\n",
       "      <th>...</th>\n",
       "      <th>Total nonemployer establishments, 2015</th>\n",
       "      <th>All firms, 2012</th>\n",
       "      <th>Men-owned firms, 2012</th>\n",
       "      <th>Women-owned firms, 2012</th>\n",
       "      <th>Minority-owned firms, 2012</th>\n",
       "      <th>Nonminority-owned firms, 2012</th>\n",
       "      <th>Veteran-owned firms, 2012</th>\n",
       "      <th>Nonveteran-owned firms, 2012</th>\n",
       "      <th>Population per square mile, 2010</th>\n",
       "      <th>Land area in square miles, 2010</th>\n",
       "    </tr>\n",
       "  </thead>\n",
       "  <tbody>\n",
       "    <tr>\n",
       "      <th>0</th>\n",
       "      <td>Alabama</td>\n",
       "      <td>4,863,300</td>\n",
       "      <td>4,780,131</td>\n",
       "      <td>1.70%</td>\n",
       "      <td>4,779,736</td>\n",
       "      <td>6.00%</td>\n",
       "      <td>6.40%</td>\n",
       "      <td>22.60%</td>\n",
       "      <td>23.70%</td>\n",
       "      <td>16.10%</td>\n",
       "      <td>...</td>\n",
       "      <td>322,025</td>\n",
       "      <td>374,153</td>\n",
       "      <td>203,604</td>\n",
       "      <td>137,630</td>\n",
       "      <td>92,219</td>\n",
       "      <td>272,651</td>\n",
       "      <td>41,943</td>\n",
       "      <td>316,984</td>\n",
       "      <td>94.4</td>\n",
       "      <td>50,645.33</td>\n",
       "    </tr>\n",
       "    <tr>\n",
       "      <th>1</th>\n",
       "      <td>Alaska</td>\n",
       "      <td>741,894</td>\n",
       "      <td>710,249</td>\n",
       "      <td>4.50%</td>\n",
       "      <td>710,231</td>\n",
       "      <td>7.30%</td>\n",
       "      <td>7.60%</td>\n",
       "      <td>25.20%</td>\n",
       "      <td>26.40%</td>\n",
       "      <td>10.40%</td>\n",
       "      <td>...</td>\n",
       "      <td>55,521</td>\n",
       "      <td>68,032</td>\n",
       "      <td>35,402</td>\n",
       "      <td>22,141</td>\n",
       "      <td>13,688</td>\n",
       "      <td>51,147</td>\n",
       "      <td>7,953</td>\n",
       "      <td>56,091</td>\n",
       "      <td>1.2</td>\n",
       "      <td>570,640.95</td>\n",
       "    </tr>\n",
       "  </tbody>\n",
       "</table>\n",
       "<p>2 rows × 65 columns</p>\n",
       "</div>"
      ],
      "text/plain": [
       "Fact    state Population estimates, July 1, 2016,  (V2016)  \\\n",
       "0     Alabama                                    4,863,300   \n",
       "1      Alaska                                      741,894   \n",
       "\n",
       "Fact Population estimates base, April 1, 2010,  (V2016)  \\\n",
       "0                                             4,780,131   \n",
       "1                                               710,249   \n",
       "\n",
       "Fact Population, percent change - April 1, 2010 (estimates base) to July 1, 2016,  (V2016)  \\\n",
       "0                                                 1.70%                                      \n",
       "1                                                 4.50%                                      \n",
       "\n",
       "Fact Population, Census, April 1, 2010  \\\n",
       "0                            4,779,736   \n",
       "1                              710,231   \n",
       "\n",
       "Fact Persons under 5 years, percent, July 1, 2016,  (V2016)  \\\n",
       "0                                                 6.00%       \n",
       "1                                                 7.30%       \n",
       "\n",
       "Fact Persons under 5 years, percent, April 1, 2010  \\\n",
       "0                                            6.40%   \n",
       "1                                            7.60%   \n",
       "\n",
       "Fact Persons under 18 years, percent, July 1, 2016,  (V2016)  \\\n",
       "0                                                22.60%        \n",
       "1                                                25.20%        \n",
       "\n",
       "Fact Persons under 18 years, percent, April 1, 2010  \\\n",
       "0                                            23.70%   \n",
       "1                                            26.40%   \n",
       "\n",
       "Fact Persons 65 years and over, percent,  July 1, 2016,  (V2016)  ...  \\\n",
       "0                                                16.10%           ...   \n",
       "1                                                10.40%           ...   \n",
       "\n",
       "Fact Total nonemployer establishments, 2015 All firms, 2012  \\\n",
       "0                                   322,025         374,153   \n",
       "1                                    55,521          68,032   \n",
       "\n",
       "Fact Men-owned firms, 2012 Women-owned firms, 2012 Minority-owned firms, 2012  \\\n",
       "0                  203,604                 137,630                     92,219   \n",
       "1                   35,402                  22,141                     13,688   \n",
       "\n",
       "Fact Nonminority-owned firms, 2012 Veteran-owned firms, 2012  \\\n",
       "0                          272,651                    41,943   \n",
       "1                           51,147                     7,953   \n",
       "\n",
       "Fact Nonveteran-owned firms, 2012 Population per square mile, 2010  \\\n",
       "0                         316,984                             94.4   \n",
       "1                          56,091                              1.2   \n",
       "\n",
       "Fact Land area in square miles, 2010  \n",
       "0                          50,645.33  \n",
       "1                         570,640.95  \n",
       "\n",
       "[2 rows x 65 columns]"
      ]
     },
     "execution_count": 37,
     "metadata": {},
     "output_type": "execute_result"
    }
   ],
   "source": [
    "us_census.head(2)"
   ]
  },
  {
   "cell_type": "code",
   "execution_count": 38,
   "id": "7587e3df",
   "metadata": {
    "execution": {
     "iopub.execute_input": "2022-12-21T06:31:13.280435Z",
     "iopub.status.busy": "2022-12-21T06:31:13.280108Z",
     "iopub.status.idle": "2022-12-21T06:31:13.284809Z",
     "shell.execute_reply": "2022-12-21T06:31:13.283436Z"
    },
    "papermill": {
     "duration": 0.044146,
     "end_time": "2022-12-21T06:31:13.287603",
     "exception": false,
     "start_time": "2022-12-21T06:31:13.243457",
     "status": "completed"
    },
    "tags": []
   },
   "outputs": [],
   "source": [
    "## can aslo be used for pivoting\n",
    "#pd.wide_to_long(us_census, i = us_states, )\n",
    "# new = us_census.pivot(index = us_states, columns = new_col)\n",
    "# new.head(5)"
   ]
  },
  {
   "cell_type": "code",
   "execution_count": 39,
   "id": "c5d6493d",
   "metadata": {
    "execution": {
     "iopub.execute_input": "2022-12-21T06:31:13.360248Z",
     "iopub.status.busy": "2022-12-21T06:31:13.359913Z",
     "iopub.status.idle": "2022-12-21T06:31:13.367569Z",
     "shell.execute_reply": "2022-12-21T06:31:13.366440Z"
    },
    "papermill": {
     "duration": 0.046283,
     "end_time": "2022-12-21T06:31:13.369323",
     "exception": false,
     "start_time": "2022-12-21T06:31:13.323040",
     "status": "completed"
    },
    "tags": []
   },
   "outputs": [
    {
     "data": {
      "text/plain": [
       "50"
      ]
     },
     "execution_count": 39,
     "metadata": {},
     "output_type": "execute_result"
    }
   ],
   "source": [
    "us_census['state'].count()"
   ]
  },
  {
   "cell_type": "code",
   "execution_count": 40,
   "id": "f007ea37",
   "metadata": {
    "execution": {
     "iopub.execute_input": "2022-12-21T06:31:13.442822Z",
     "iopub.status.busy": "2022-12-21T06:31:13.442444Z",
     "iopub.status.idle": "2022-12-21T06:31:13.466925Z",
     "shell.execute_reply": "2022-12-21T06:31:13.465187Z"
    },
    "papermill": {
     "duration": 0.064143,
     "end_time": "2022-12-21T06:31:13.469658",
     "exception": false,
     "start_time": "2022-12-21T06:31:13.405515",
     "status": "completed"
    },
    "tags": []
   },
   "outputs": [
    {
     "data": {
      "text/html": [
       "<div>\n",
       "<style scoped>\n",
       "    .dataframe tbody tr th:only-of-type {\n",
       "        vertical-align: middle;\n",
       "    }\n",
       "\n",
       "    .dataframe tbody tr th {\n",
       "        vertical-align: top;\n",
       "    }\n",
       "\n",
       "    .dataframe thead th {\n",
       "        text-align: right;\n",
       "    }\n",
       "</style>\n",
       "<table border=\"1\" class=\"dataframe\">\n",
       "  <thead>\n",
       "    <tr style=\"text-align: right;\">\n",
       "      <th>Fact</th>\n",
       "      <th>state</th>\n",
       "      <th>Population estimates, July 1, 2016,  (V2016)</th>\n",
       "      <th>Population estimates base, April 1, 2010,  (V2016)</th>\n",
       "      <th>Population, percent change - April 1, 2010 (estimates base) to July 1, 2016,  (V2016)</th>\n",
       "      <th>Population, Census, April 1, 2010</th>\n",
       "      <th>Persons under 5 years, percent, July 1, 2016,  (V2016)</th>\n",
       "      <th>Persons under 5 years, percent, April 1, 2010</th>\n",
       "      <th>Persons under 18 years, percent, July 1, 2016,  (V2016)</th>\n",
       "      <th>Persons under 18 years, percent, April 1, 2010</th>\n",
       "      <th>Persons 65 years and over, percent,  July 1, 2016,  (V2016)</th>\n",
       "      <th>...</th>\n",
       "      <th>Total nonemployer establishments, 2015</th>\n",
       "      <th>All firms, 2012</th>\n",
       "      <th>Men-owned firms, 2012</th>\n",
       "      <th>Women-owned firms, 2012</th>\n",
       "      <th>Minority-owned firms, 2012</th>\n",
       "      <th>Nonminority-owned firms, 2012</th>\n",
       "      <th>Veteran-owned firms, 2012</th>\n",
       "      <th>Nonveteran-owned firms, 2012</th>\n",
       "      <th>Population per square mile, 2010</th>\n",
       "      <th>Land area in square miles, 2010</th>\n",
       "    </tr>\n",
       "  </thead>\n",
       "  <tbody>\n",
       "    <tr>\n",
       "      <th>0</th>\n",
       "      <td>Alabama</td>\n",
       "      <td>4,863,300</td>\n",
       "      <td>4,780,131</td>\n",
       "      <td>1.70%</td>\n",
       "      <td>4,779,736</td>\n",
       "      <td>6.00%</td>\n",
       "      <td>6.40%</td>\n",
       "      <td>22.60%</td>\n",
       "      <td>23.70%</td>\n",
       "      <td>16.10%</td>\n",
       "      <td>...</td>\n",
       "      <td>322,025</td>\n",
       "      <td>374,153</td>\n",
       "      <td>203,604</td>\n",
       "      <td>137,630</td>\n",
       "      <td>92,219</td>\n",
       "      <td>272,651</td>\n",
       "      <td>41,943</td>\n",
       "      <td>316,984</td>\n",
       "      <td>94.4</td>\n",
       "      <td>50,645.33</td>\n",
       "    </tr>\n",
       "    <tr>\n",
       "      <th>1</th>\n",
       "      <td>Alaska</td>\n",
       "      <td>741,894</td>\n",
       "      <td>710,249</td>\n",
       "      <td>4.50%</td>\n",
       "      <td>710,231</td>\n",
       "      <td>7.30%</td>\n",
       "      <td>7.60%</td>\n",
       "      <td>25.20%</td>\n",
       "      <td>26.40%</td>\n",
       "      <td>10.40%</td>\n",
       "      <td>...</td>\n",
       "      <td>55,521</td>\n",
       "      <td>68,032</td>\n",
       "      <td>35,402</td>\n",
       "      <td>22,141</td>\n",
       "      <td>13,688</td>\n",
       "      <td>51,147</td>\n",
       "      <td>7,953</td>\n",
       "      <td>56,091</td>\n",
       "      <td>1.2</td>\n",
       "      <td>570,640.95</td>\n",
       "    </tr>\n",
       "  </tbody>\n",
       "</table>\n",
       "<p>2 rows × 65 columns</p>\n",
       "</div>"
      ],
      "text/plain": [
       "Fact    state Population estimates, July 1, 2016,  (V2016)  \\\n",
       "0     Alabama                                    4,863,300   \n",
       "1      Alaska                                      741,894   \n",
       "\n",
       "Fact Population estimates base, April 1, 2010,  (V2016)  \\\n",
       "0                                             4,780,131   \n",
       "1                                               710,249   \n",
       "\n",
       "Fact Population, percent change - April 1, 2010 (estimates base) to July 1, 2016,  (V2016)  \\\n",
       "0                                                 1.70%                                      \n",
       "1                                                 4.50%                                      \n",
       "\n",
       "Fact Population, Census, April 1, 2010  \\\n",
       "0                            4,779,736   \n",
       "1                              710,231   \n",
       "\n",
       "Fact Persons under 5 years, percent, July 1, 2016,  (V2016)  \\\n",
       "0                                                 6.00%       \n",
       "1                                                 7.30%       \n",
       "\n",
       "Fact Persons under 5 years, percent, April 1, 2010  \\\n",
       "0                                            6.40%   \n",
       "1                                            7.60%   \n",
       "\n",
       "Fact Persons under 18 years, percent, July 1, 2016,  (V2016)  \\\n",
       "0                                                22.60%        \n",
       "1                                                25.20%        \n",
       "\n",
       "Fact Persons under 18 years, percent, April 1, 2010  \\\n",
       "0                                            23.70%   \n",
       "1                                            26.40%   \n",
       "\n",
       "Fact Persons 65 years and over, percent,  July 1, 2016,  (V2016)  ...  \\\n",
       "0                                                16.10%           ...   \n",
       "1                                                10.40%           ...   \n",
       "\n",
       "Fact Total nonemployer establishments, 2015 All firms, 2012  \\\n",
       "0                                   322,025         374,153   \n",
       "1                                    55,521          68,032   \n",
       "\n",
       "Fact Men-owned firms, 2012 Women-owned firms, 2012 Minority-owned firms, 2012  \\\n",
       "0                  203,604                 137,630                     92,219   \n",
       "1                   35,402                  22,141                     13,688   \n",
       "\n",
       "Fact Nonminority-owned firms, 2012 Veteran-owned firms, 2012  \\\n",
       "0                          272,651                    41,943   \n",
       "1                           51,147                     7,953   \n",
       "\n",
       "Fact Nonveteran-owned firms, 2012 Population per square mile, 2010  \\\n",
       "0                         316,984                             94.4   \n",
       "1                          56,091                              1.2   \n",
       "\n",
       "Fact Land area in square miles, 2010  \n",
       "0                          50,645.33  \n",
       "1                         570,640.95  \n",
       "\n",
       "[2 rows x 65 columns]"
      ]
     },
     "execution_count": 40,
     "metadata": {},
     "output_type": "execute_result"
    }
   ],
   "source": [
    "us_census.head(2)"
   ]
  },
  {
   "cell_type": "code",
   "execution_count": 41,
   "id": "e21bcbb8",
   "metadata": {
    "execution": {
     "iopub.execute_input": "2022-12-21T06:31:13.543926Z",
     "iopub.status.busy": "2022-12-21T06:31:13.543538Z",
     "iopub.status.idle": "2022-12-21T06:31:13.552731Z",
     "shell.execute_reply": "2022-12-21T06:31:13.551362Z"
    },
    "papermill": {
     "duration": 0.049152,
     "end_time": "2022-12-21T06:31:13.555538",
     "exception": false,
     "start_time": "2022-12-21T06:31:13.506386",
     "status": "completed"
    },
    "tags": []
   },
   "outputs": [
    {
     "data": {
      "text/plain": [
       "Fact\n",
       "state                                                                                    object\n",
       "Population estimates, July 1, 2016,  (V2016)                                             object\n",
       "Population estimates base, April 1, 2010,  (V2016)                                       object\n",
       "Population, percent change - April 1, 2010 (estimates base) to July 1, 2016,  (V2016)    object\n",
       "Population, Census, April 1, 2010                                                        object\n",
       "                                                                                          ...  \n",
       "Nonminority-owned firms, 2012                                                            object\n",
       "Veteran-owned firms, 2012                                                                object\n",
       "Nonveteran-owned firms, 2012                                                             object\n",
       "Population per square mile, 2010                                                         object\n",
       "Land area in square miles, 2010                                                          object\n",
       "Length: 65, dtype: object"
      ]
     },
     "execution_count": 41,
     "metadata": {},
     "output_type": "execute_result"
    }
   ],
   "source": [
    "us_census.dtypes"
   ]
  },
  {
   "cell_type": "code",
   "execution_count": 42,
   "id": "e840af54",
   "metadata": {
    "execution": {
     "iopub.execute_input": "2022-12-21T06:31:13.628917Z",
     "iopub.status.busy": "2022-12-21T06:31:13.628515Z",
     "iopub.status.idle": "2022-12-21T06:31:13.637812Z",
     "shell.execute_reply": "2022-12-21T06:31:13.636903Z"
    },
    "papermill": {
     "duration": 0.047969,
     "end_time": "2022-12-21T06:31:13.639680",
     "exception": false,
     "start_time": "2022-12-21T06:31:13.591711",
     "status": "completed"
    },
    "tags": []
   },
   "outputs": [
    {
     "data": {
      "text/plain": [
       "month                         object\n",
       "state                         object\n",
       "permit                       float64\n",
       "permit_recheck               float64\n",
       "handgun                      float64\n",
       "long_gun                     float64\n",
       "other                        float64\n",
       "multiple                       int64\n",
       "admin                        float64\n",
       "prepawn_handgun              float64\n",
       "prepawn_long_gun             float64\n",
       "prepawn_other                float64\n",
       "redemption_handgun           float64\n",
       "redemption_long_gun          float64\n",
       "redemption_other             float64\n",
       "returned_handgun             float64\n",
       "returned_long_gun            float64\n",
       "returned_other               float64\n",
       "rentals_handgun              float64\n",
       "rentals_long_gun             float64\n",
       "private_sale_handgun         float64\n",
       "private_sale_long_gun        float64\n",
       "private_sale_other           float64\n",
       "return_to_seller_handgun     float64\n",
       "return_to_seller_long_gun    float64\n",
       "return_to_seller_other       float64\n",
       "totals                         int64\n",
       "dtype: object"
      ]
     },
     "execution_count": 42,
     "metadata": {},
     "output_type": "execute_result"
    }
   ],
   "source": [
    "gun_data.dtypes"
   ]
  },
  {
   "cell_type": "code",
   "execution_count": 43,
   "id": "75307455",
   "metadata": {
    "execution": {
     "iopub.execute_input": "2022-12-21T06:31:13.714643Z",
     "iopub.status.busy": "2022-12-21T06:31:13.714291Z",
     "iopub.status.idle": "2022-12-21T06:31:13.723998Z",
     "shell.execute_reply": "2022-12-21T06:31:13.722547Z"
    },
    "papermill": {
     "duration": 0.05119,
     "end_time": "2022-12-21T06:31:13.727154",
     "exception": false,
     "start_time": "2022-12-21T06:31:13.675964",
     "status": "completed"
    },
    "tags": []
   },
   "outputs": [
    {
     "data": {
      "text/plain": [
       "Fact\n",
       "state                                                                                    object\n",
       "Population estimates, July 1, 2016,  (V2016)                                             object\n",
       "Population estimates base, April 1, 2010,  (V2016)                                       object\n",
       "Population, percent change - April 1, 2010 (estimates base) to July 1, 2016,  (V2016)    object\n",
       "Population, Census, April 1, 2010                                                        object\n",
       "                                                                                          ...  \n",
       "Nonminority-owned firms, 2012                                                            object\n",
       "Veteran-owned firms, 2012                                                                object\n",
       "Nonveteran-owned firms, 2012                                                             object\n",
       "Population per square mile, 2010                                                         object\n",
       "Land area in square miles, 2010                                                          object\n",
       "Length: 65, dtype: object"
      ]
     },
     "execution_count": 43,
     "metadata": {},
     "output_type": "execute_result"
    }
   ],
   "source": [
    "us_census.dtypes"
   ]
  },
  {
   "cell_type": "code",
   "execution_count": 44,
   "id": "97735714",
   "metadata": {
    "execution": {
     "iopub.execute_input": "2022-12-21T06:31:13.802003Z",
     "iopub.status.busy": "2022-12-21T06:31:13.801595Z",
     "iopub.status.idle": "2022-12-21T06:31:13.810928Z",
     "shell.execute_reply": "2022-12-21T06:31:13.809918Z"
    },
    "papermill": {
     "duration": 0.049975,
     "end_time": "2022-12-21T06:31:13.813495",
     "exception": false,
     "start_time": "2022-12-21T06:31:13.763520",
     "status": "completed"
    },
    "tags": []
   },
   "outputs": [
    {
     "data": {
      "text/plain": [
       "0              Alabama\n",
       "1               Alaska\n",
       "2              Arizona\n",
       "3             Arkansas\n",
       "4           California\n",
       "             ...      \n",
       "12480         Virginia\n",
       "12481       Washington\n",
       "12482    West Virginia\n",
       "12483        Wisconsin\n",
       "12484          Wyoming\n",
       "Name: state, Length: 12485, dtype: object"
      ]
     },
     "execution_count": 44,
     "metadata": {},
     "output_type": "execute_result"
    }
   ],
   "source": [
    "gun_data['state']"
   ]
  },
  {
   "cell_type": "code",
   "execution_count": 45,
   "id": "8f3791dd",
   "metadata": {
    "execution": {
     "iopub.execute_input": "2022-12-21T06:31:13.887395Z",
     "iopub.status.busy": "2022-12-21T06:31:13.887068Z",
     "iopub.status.idle": "2022-12-21T06:31:13.895432Z",
     "shell.execute_reply": "2022-12-21T06:31:13.894248Z"
    },
    "papermill": {
     "duration": 0.0474,
     "end_time": "2022-12-21T06:31:13.897308",
     "exception": false,
     "start_time": "2022-12-21T06:31:13.849908",
     "status": "completed"
    },
    "tags": []
   },
   "outputs": [
    {
     "data": {
      "text/plain": [
       "0            Alabama\n",
       "1             Alaska\n",
       "2            Arizona\n",
       "3           Arkansas\n",
       "4         California\n",
       "5           Colorado\n",
       "6        Connecticut\n",
       "7           Delaware\n",
       "8            Florida\n",
       "9            Georgia\n",
       "10            Hawaii\n",
       "11             Idaho\n",
       "12          Illinois\n",
       "13           Indiana\n",
       "14              Iowa\n",
       "15            Kansas\n",
       "16          Kentucky\n",
       "17         Louisiana\n",
       "18             Maine\n",
       "19          Maryland\n",
       "20     Massachusetts\n",
       "21          Michigan\n",
       "22         Minnesota\n",
       "23       Mississippi\n",
       "24          Missouri\n",
       "25           Montana\n",
       "26          Nebraska\n",
       "27            Nevada\n",
       "28     New Hampshire\n",
       "29        New Jersey\n",
       "30        New Mexico\n",
       "31          New York\n",
       "32    North Carolina\n",
       "33      North Dakota\n",
       "34              Ohio\n",
       "35          Oklahoma\n",
       "36            Oregon\n",
       "37      Pennsylvania\n",
       "38      Rhode Island\n",
       "39    South Carolina\n",
       "40      South Dakota\n",
       "41         Tennessee\n",
       "42             Texas\n",
       "43              Utah\n",
       "44           Vermont\n",
       "45          Virginia\n",
       "46        Washington\n",
       "47     West Virginia\n",
       "48         Wisconsin\n",
       "49           Wyoming\n",
       "Name: state, dtype: object"
      ]
     },
     "execution_count": 45,
     "metadata": {},
     "output_type": "execute_result"
    }
   ],
   "source": [
    "us_census['state']"
   ]
  },
  {
   "cell_type": "code",
   "execution_count": 46,
   "id": "0dce357e",
   "metadata": {
    "execution": {
     "iopub.execute_input": "2022-12-21T06:31:13.972045Z",
     "iopub.status.busy": "2022-12-21T06:31:13.971663Z",
     "iopub.status.idle": "2022-12-21T06:31:13.978266Z",
     "shell.execute_reply": "2022-12-21T06:31:13.976709Z"
    },
    "papermill": {
     "duration": 0.047336,
     "end_time": "2022-12-21T06:31:13.980204",
     "exception": false,
     "start_time": "2022-12-21T06:31:13.932868",
     "status": "completed"
    },
    "tags": []
   },
   "outputs": [
    {
     "data": {
      "text/plain": [
       "(12485, 27)"
      ]
     },
     "execution_count": 46,
     "metadata": {},
     "output_type": "execute_result"
    }
   ],
   "source": [
    "gun_data.shape"
   ]
  },
  {
   "cell_type": "code",
   "execution_count": 47,
   "id": "25636977",
   "metadata": {
    "execution": {
     "iopub.execute_input": "2022-12-21T06:31:14.056815Z",
     "iopub.status.busy": "2022-12-21T06:31:14.056424Z",
     "iopub.status.idle": "2022-12-21T06:31:14.064006Z",
     "shell.execute_reply": "2022-12-21T06:31:14.062742Z"
    },
    "papermill": {
     "duration": 0.049377,
     "end_time": "2022-12-21T06:31:14.066608",
     "exception": false,
     "start_time": "2022-12-21T06:31:14.017231",
     "status": "completed"
    },
    "tags": []
   },
   "outputs": [
    {
     "data": {
      "text/plain": [
       "(50, 65)"
      ]
     },
     "execution_count": 47,
     "metadata": {},
     "output_type": "execute_result"
    }
   ],
   "source": [
    "us_census.shape"
   ]
  },
  {
   "cell_type": "markdown",
   "id": "e325153f",
   "metadata": {
    "papermill": {
     "duration": 0.036481,
     "end_time": "2022-12-21T06:31:14.140491",
     "exception": false,
     "start_time": "2022-12-21T06:31:14.104010",
     "status": "completed"
    },
    "tags": []
   },
   "source": [
    "\n",
    "## Population\n",
    "\n",
    "\n",
    "- Population estimates, July 1, 2016,  (V2016) - April 1, 2010,  (V2016)\n",
    "- Population, percent change - April 1, 2010 (estimates base) to July 1, 2016,  (V2016)\n",
    "- Population, Census, April 1, 2010\n",
    "\n",
    "\n",
    "## Age and Sex\n",
    "- Persons under 5 years, percent, July 1, 2016,  (V2016) - April 1, 2010\n",
    "- Persons under 18 years, percent, July 1, 2016,  (V2016) - April 1, 2010\n",
    "- Persons 65 years and over, percent,  July 1, 2016,  (V2016) - April 1, 2010\n",
    "- Female persons, percent,  July 1, 2016,  (V2016) - April 1, 2010\n",
    "\n",
    "\n",
    "\n",
    "## Race and Hispanic Origin\n",
    "- White alone, percent, July 1, 2016,  (V2016)\n",
    "- Black or African American alone, percent, July 1, 2016,  (V2016)\n",
    "- American Indian and Alaska Native alone, percent, July 1, 2016,  (V2016)\n",
    "- Asian alone, percent, July 1, 2016,  (V2016)\n",
    "- Native Hawaiian and Other Pacific Islander alone, percent, July 1, 2016,  (V2016)\n",
    "- Two or More Races, percent, July 1, 2016,  (V2016)\n",
    "- Hispanic or Latino, percent, July 1, 2016,  (V2016)\n",
    "- White alone, not Hispanic or Latino, percent, July 1, 2016,  (V2016)"
   ]
  },
  {
   "cell_type": "markdown",
   "id": "d9bcc7a8",
   "metadata": {
    "papermill": {
     "duration": 0.036279,
     "end_time": "2022-12-21T06:31:14.213526",
     "exception": false,
     "start_time": "2022-12-21T06:31:14.177247",
     "status": "completed"
    },
    "tags": []
   },
   "source": [
    "\n",
    "## Families & Living Arrangements\n",
    "- Persons per household, 2011-2015\n",
    "- Living in same house 1 year ago, percent of persons age 1 year+, 2011-2015\n",
    "\n",
    "\n",
    "## Education\n",
    "- High school graduate or higher, percent of persons age 25 years+, 2011-2015\n",
    "- Bachelor's degree or higher, percent of persons age 25 years+, 2011-2015\n",
    "\n",
    "\n",
    "## Health\n",
    "- With a disability, under age 65 years, percent, 2011-2015"
   ]
  },
  {
   "cell_type": "markdown",
   "id": "97d2dc0c",
   "metadata": {
    "papermill": {
     "duration": 0.036331,
     "end_time": "2022-12-21T06:31:14.286753",
     "exception": false,
     "start_time": "2022-12-21T06:31:14.250422",
     "status": "completed"
    },
    "tags": []
   },
   "source": [
    "\n",
    "### Census Bureau-designated regions and divisions\n",
    "\n",
    "- Region 1: Northeast\n",
    " - Division 1: New England (Connecticut, Maine, Massachusetts, New Hampshire, Rhode Island, and Vermont)\n",
    " - Division 2: Middle Atlantic (New Jersey, New York, and Pennsylvania)\n",
    "- Region 2: Midwest (Prior to June 1984, the Midwest Region was designated as the North Central Region.)[8]\n",
    " - Division 3: East North Central (Illinois, Indiana, Michigan, Ohio, and Wisconsin)\n",
    " - Division 4: West North Central (Iowa, Kansas, Minnesota, Missouri, Nebraska, North Dakota, and South Dakota)\n",
    "- Region 3: South\n",
    " - Division 5: South Atlantic (Delaware; Florida; Georgia; Maryland; North Carolina; South Carolina; Virginia; Washington, D.C. and West Virginia)\n",
    " - Division 6: East South Central (Alabama, Kentucky, Mississippi, and Tennessee)\n",
    " - Division 7: West South Central (Arkansas, Louisiana, Oklahoma, and Texas)\n",
    "- Region 4: West\n",
    " - Division 8: Mountain (Arizona, Colorado, Idaho, Montana, Nevada, New Mexico, Utah, and Wyoming)\n",
    " - Division 9: Pacific (Alaska, California, Hawaii, Oregon, and Washington)\n"
   ]
  },
  {
   "cell_type": "code",
   "execution_count": 48,
   "id": "e4d009b7",
   "metadata": {
    "execution": {
     "iopub.execute_input": "2022-12-21T06:31:14.363314Z",
     "iopub.status.busy": "2022-12-21T06:31:14.362315Z",
     "iopub.status.idle": "2022-12-21T06:31:14.368931Z",
     "shell.execute_reply": "2022-12-21T06:31:14.367789Z"
    },
    "papermill": {
     "duration": 0.047945,
     "end_time": "2022-12-21T06:31:14.371362",
     "exception": false,
     "start_time": "2022-12-21T06:31:14.323417",
     "status": "completed"
    },
    "tags": []
   },
   "outputs": [],
   "source": [
    "states = ['Alabama', 'Alaska', 'Arizona', 'Arkansas', 'California',\n",
    "          'Colorado', 'Connecticut', 'Delaware', 'Florida', 'Georgia', 'Hawaii', 'Idaho',\n",
    "       'Illinois', 'Indiana', 'Iowa', 'Kansas', 'Kentucky', 'Louisiana',\n",
    "       'Maine', 'Maryland', 'Massachusetts', 'Michigan', 'Minnesota',\n",
    "       'Mississippi', 'Missouri', 'Montana', 'Nebraska', 'Nevada',\n",
    "       'New Hampshire', 'New Jersey', 'New Mexico', 'New York',\n",
    "       'North Carolina', 'North Dakota', 'Ohio', 'Oklahoma', 'Oregon',\n",
    "       'Pennsylvania', 'Rhode Island', 'South Carolina', 'South Dakota',\n",
    "       'Tennessee', 'Texas', 'Utah', 'Vermont', 'Virginia', 'Washington',\n",
    "       'West Virginia', 'Wisconsin', 'Wyoming']"
   ]
  },
  {
   "cell_type": "code",
   "execution_count": 49,
   "id": "4a9ba6cb",
   "metadata": {
    "execution": {
     "iopub.execute_input": "2022-12-21T06:31:14.447069Z",
     "iopub.status.busy": "2022-12-21T06:31:14.446374Z",
     "iopub.status.idle": "2022-12-21T06:31:14.452146Z",
     "shell.execute_reply": "2022-12-21T06:31:14.451406Z"
    },
    "papermill": {
     "duration": 0.046368,
     "end_time": "2022-12-21T06:31:14.454517",
     "exception": false,
     "start_time": "2022-12-21T06:31:14.408149",
     "status": "completed"
    },
    "tags": []
   },
   "outputs": [],
   "source": [
    "Northeast = ['Connecticut', 'Maine', 'Massachusetts', 'New Hampshire', 'Rhode Island', 'Vermont', 'New Jersey', 'New York', 'Pennsylvania']\n",
    "Midwest = ['Illinois', 'Indiana', 'Michigan', 'Ohio', 'Wisconsin', 'Iowa', 'Kansas', 'Minnesota', 'Missouri', 'Nebraska', 'North Dakota', 'South Dakota']\n",
    "South = ['Delaware', 'Florida', 'Georgia', 'Maryland', 'North Carolina', 'South Carolina', 'Virginia', 'Washington', 'West Virginia', 'Alabama', 'Kentucky', 'Mississippi', 'Tennessee', 'Arkansas', 'Louisiana', 'Oklahoma', 'Texas']\n",
    "West = ['Arizona', 'Colorado', 'Idaho', 'Montana', 'Nevada', 'New Mexico', 'Utah', 'Wyoming', 'Alaska', 'California', 'Hawaii', 'Oregon', 'Washington']"
   ]
  },
  {
   "cell_type": "code",
   "execution_count": 50,
   "id": "903d9b81",
   "metadata": {
    "execution": {
     "iopub.execute_input": "2022-12-21T06:31:14.529519Z",
     "iopub.status.busy": "2022-12-21T06:31:14.528913Z",
     "iopub.status.idle": "2022-12-21T06:31:14.535384Z",
     "shell.execute_reply": "2022-12-21T06:31:14.534513Z"
    },
    "papermill": {
     "duration": 0.046224,
     "end_time": "2022-12-21T06:31:14.537692",
     "exception": false,
     "start_time": "2022-12-21T06:31:14.491468",
     "status": "completed"
    },
    "tags": []
   },
   "outputs": [
    {
     "data": {
      "text/plain": [
       "array(['Alabama', 'Alaska', 'Arizona', 'Arkansas', 'California',\n",
       "       'Colorado', 'Connecticut', 'Delaware', 'District of Columbia',\n",
       "       'Florida', 'Georgia', 'Guam', 'Hawaii', 'Idaho', 'Illinois',\n",
       "       'Indiana', 'Iowa', 'Kansas', 'Kentucky', 'Louisiana', 'Maine',\n",
       "       'Mariana Islands', 'Maryland', 'Massachusetts', 'Michigan',\n",
       "       'Minnesota', 'Mississippi', 'Missouri', 'Montana', 'Nebraska',\n",
       "       'Nevada', 'New Hampshire', 'New Jersey', 'New Mexico', 'New York',\n",
       "       'North Carolina', 'North Dakota', 'Ohio', 'Oklahoma', 'Oregon',\n",
       "       'Pennsylvania', 'Puerto Rico', 'Rhode Island', 'South Carolina',\n",
       "       'South Dakota', 'Tennessee', 'Texas', 'Utah', 'Vermont',\n",
       "       'Virgin Islands', 'Virginia', 'Washington', 'West Virginia',\n",
       "       'Wisconsin', 'Wyoming'], dtype=object)"
      ]
     },
     "execution_count": 50,
     "metadata": {},
     "output_type": "execute_result"
    }
   ],
   "source": [
    "gun_data['state'].unique()"
   ]
  },
  {
   "cell_type": "code",
   "execution_count": 51,
   "id": "ea249426",
   "metadata": {
    "execution": {
     "iopub.execute_input": "2022-12-21T06:31:14.676398Z",
     "iopub.status.busy": "2022-12-21T06:31:14.675734Z",
     "iopub.status.idle": "2022-12-21T06:31:14.682600Z",
     "shell.execute_reply": "2022-12-21T06:31:14.681695Z"
    },
    "papermill": {
     "duration": 0.048205,
     "end_time": "2022-12-21T06:31:14.684658",
     "exception": false,
     "start_time": "2022-12-21T06:31:14.636453",
     "status": "completed"
    },
    "tags": []
   },
   "outputs": [
    {
     "data": {
      "text/plain": [
       "['District of Columbia',\n",
       " 'Guam',\n",
       " 'Mariana Islands',\n",
       " 'Puerto Rico',\n",
       " 'Virgin Islands']"
      ]
     },
     "execution_count": 51,
     "metadata": {},
     "output_type": "execute_result"
    }
   ],
   "source": [
    "not_us = ['District of Columbia','Guam', 'Mariana Islands', 'Puerto Rico', 'Virgin Islands']\n",
    "not_us"
   ]
  },
  {
   "cell_type": "code",
   "execution_count": 52,
   "id": "76a73f1d",
   "metadata": {
    "execution": {
     "iopub.execute_input": "2022-12-21T06:31:14.761692Z",
     "iopub.status.busy": "2022-12-21T06:31:14.761304Z",
     "iopub.status.idle": "2022-12-21T06:31:14.768920Z",
     "shell.execute_reply": "2022-12-21T06:31:14.767283Z"
    },
    "papermill": {
     "duration": 0.048769,
     "end_time": "2022-12-21T06:31:14.771645",
     "exception": false,
     "start_time": "2022-12-21T06:31:14.722876",
     "status": "completed"
    },
    "tags": []
   },
   "outputs": [],
   "source": [
    "Northeast = ['Connecticut', 'Maine', 'Massachusetts', 'New Hampshire', 'Rhode Island', 'Vermont', 'New Jersey', 'New York', 'Pennsylvania']\n",
    "Midwest = ['Illinois', 'Indiana', 'Michigan', 'Ohio', 'Wisconsin', 'Iowa', 'Kansas', 'Minnesota', 'Missouri', 'Nebraska', 'North Dakota', 'South Dakota']\n",
    "South = ['Delaware', 'Florida', 'Georgia', 'Maryland', 'North Carolina', 'South Carolina', 'Virginia', 'Washington', 'West Virginia', 'Alabama', 'Kentucky', 'Mississippi', 'Tennessee', 'Arkansas', 'Louisiana', 'Oklahoma', 'Texas']\n",
    "West = ['Arizona', 'Colorado', 'Idaho', 'Montana', 'Nevada', 'New Mexico', 'Utah', 'Wyoming', 'Alaska', 'California', 'Hawaii', 'Oregon']"
   ]
  },
  {
   "cell_type": "code",
   "execution_count": 53,
   "id": "b6d247e4",
   "metadata": {
    "execution": {
     "iopub.execute_input": "2022-12-21T06:31:14.848381Z",
     "iopub.status.busy": "2022-12-21T06:31:14.847998Z",
     "iopub.status.idle": "2022-12-21T06:31:14.855963Z",
     "shell.execute_reply": "2022-12-21T06:31:14.854633Z"
    },
    "papermill": {
     "duration": 0.049141,
     "end_time": "2022-12-21T06:31:14.858113",
     "exception": false,
     "start_time": "2022-12-21T06:31:14.808972",
     "status": "completed"
    },
    "tags": []
   },
   "outputs": [
    {
     "data": {
      "text/plain": [
       "(['Connecticut',\n",
       "  'Maine',\n",
       "  'Massachusetts',\n",
       "  'New Hampshire',\n",
       "  'Rhode Island',\n",
       "  'Vermont',\n",
       "  'New Jersey',\n",
       "  'New York',\n",
       "  'Pennsylvania'],\n",
       " 9)"
      ]
     },
     "execution_count": 53,
     "metadata": {},
     "output_type": "execute_result"
    }
   ],
   "source": [
    "Northeast, len(Northeast)"
   ]
  },
  {
   "cell_type": "code",
   "execution_count": 54,
   "id": "0555d5e4",
   "metadata": {
    "execution": {
     "iopub.execute_input": "2022-12-21T06:31:14.936923Z",
     "iopub.status.busy": "2022-12-21T06:31:14.936532Z",
     "iopub.status.idle": "2022-12-21T06:31:14.944818Z",
     "shell.execute_reply": "2022-12-21T06:31:14.943667Z"
    },
    "papermill": {
     "duration": 0.052291,
     "end_time": "2022-12-21T06:31:14.947247",
     "exception": false,
     "start_time": "2022-12-21T06:31:14.894956",
     "status": "completed"
    },
    "tags": []
   },
   "outputs": [
    {
     "data": {
      "text/plain": [
       "['Arizona',\n",
       " 'Colorado',\n",
       " 'Idaho',\n",
       " 'Montana',\n",
       " 'Nevada',\n",
       " 'New Mexico',\n",
       " 'Utah',\n",
       " 'Wyoming',\n",
       " 'Alaska',\n",
       " 'California',\n",
       " 'Hawaii',\n",
       " 'Oregon']"
      ]
     },
     "execution_count": 54,
     "metadata": {},
     "output_type": "execute_result"
    }
   ],
   "source": [
    "Northeast\n",
    "Midwest\n",
    "South\n",
    "West"
   ]
  },
  {
   "cell_type": "code",
   "execution_count": 55,
   "id": "f00cf445",
   "metadata": {
    "execution": {
     "iopub.execute_input": "2022-12-21T06:31:15.023130Z",
     "iopub.status.busy": "2022-12-21T06:31:15.022713Z",
     "iopub.status.idle": "2022-12-21T06:31:15.031657Z",
     "shell.execute_reply": "2022-12-21T06:31:15.030480Z"
    },
    "papermill": {
     "duration": 0.05007,
     "end_time": "2022-12-21T06:31:15.034708",
     "exception": false,
     "start_time": "2022-12-21T06:31:14.984638",
     "status": "completed"
    },
    "tags": []
   },
   "outputs": [
    {
     "data": {
      "text/plain": [
       "(['Illinois',\n",
       "  'Indiana',\n",
       "  'Michigan',\n",
       "  'Ohio',\n",
       "  'Wisconsin',\n",
       "  'Iowa',\n",
       "  'Kansas',\n",
       "  'Minnesota',\n",
       "  'Missouri',\n",
       "  'Nebraska',\n",
       "  'North Dakota',\n",
       "  'South Dakota'],\n",
       " 12)"
      ]
     },
     "execution_count": 55,
     "metadata": {},
     "output_type": "execute_result"
    }
   ],
   "source": [
    "Midwest, len(Midwest)"
   ]
  },
  {
   "cell_type": "code",
   "execution_count": 56,
   "id": "7a06aaa5",
   "metadata": {
    "execution": {
     "iopub.execute_input": "2022-12-21T06:31:15.112148Z",
     "iopub.status.busy": "2022-12-21T06:31:15.111753Z",
     "iopub.status.idle": "2022-12-21T06:31:15.119080Z",
     "shell.execute_reply": "2022-12-21T06:31:15.117901Z"
    },
    "papermill": {
     "duration": 0.049696,
     "end_time": "2022-12-21T06:31:15.122293",
     "exception": false,
     "start_time": "2022-12-21T06:31:15.072597",
     "status": "completed"
    },
    "tags": []
   },
   "outputs": [
    {
     "data": {
      "text/plain": [
       "(['Delaware',\n",
       "  'Florida',\n",
       "  'Georgia',\n",
       "  'Maryland',\n",
       "  'North Carolina',\n",
       "  'South Carolina',\n",
       "  'Virginia',\n",
       "  'Washington',\n",
       "  'West Virginia',\n",
       "  'Alabama',\n",
       "  'Kentucky',\n",
       "  'Mississippi',\n",
       "  'Tennessee',\n",
       "  'Arkansas',\n",
       "  'Louisiana',\n",
       "  'Oklahoma',\n",
       "  'Texas'],\n",
       " 17)"
      ]
     },
     "execution_count": 56,
     "metadata": {},
     "output_type": "execute_result"
    }
   ],
   "source": [
    "South, len(South)"
   ]
  },
  {
   "cell_type": "code",
   "execution_count": 57,
   "id": "6720ee52",
   "metadata": {
    "execution": {
     "iopub.execute_input": "2022-12-21T06:31:15.200341Z",
     "iopub.status.busy": "2022-12-21T06:31:15.199925Z",
     "iopub.status.idle": "2022-12-21T06:31:15.207480Z",
     "shell.execute_reply": "2022-12-21T06:31:15.206387Z"
    },
    "papermill": {
     "duration": 0.048981,
     "end_time": "2022-12-21T06:31:15.209612",
     "exception": false,
     "start_time": "2022-12-21T06:31:15.160631",
     "status": "completed"
    },
    "tags": []
   },
   "outputs": [
    {
     "data": {
      "text/plain": [
       "(['Arizona',\n",
       "  'Colorado',\n",
       "  'Idaho',\n",
       "  'Montana',\n",
       "  'Nevada',\n",
       "  'New Mexico',\n",
       "  'Utah',\n",
       "  'Wyoming',\n",
       "  'Alaska',\n",
       "  'California',\n",
       "  'Hawaii',\n",
       "  'Oregon'],\n",
       " 12)"
      ]
     },
     "execution_count": 57,
     "metadata": {},
     "output_type": "execute_result"
    }
   ],
   "source": [
    "West, len(West)"
   ]
  },
  {
   "cell_type": "code",
   "execution_count": 58,
   "id": "5caef42c",
   "metadata": {
    "execution": {
     "iopub.execute_input": "2022-12-21T06:31:15.286610Z",
     "iopub.status.busy": "2022-12-21T06:31:15.286271Z",
     "iopub.status.idle": "2022-12-21T06:31:15.292176Z",
     "shell.execute_reply": "2022-12-21T06:31:15.291290Z"
    },
    "papermill": {
     "duration": 0.047021,
     "end_time": "2022-12-21T06:31:15.294409",
     "exception": false,
     "start_time": "2022-12-21T06:31:15.247388",
     "status": "completed"
    },
    "tags": []
   },
   "outputs": [
    {
     "data": {
      "text/plain": [
       "50"
      ]
     },
     "execution_count": 58,
     "metadata": {},
     "output_type": "execute_result"
    }
   ],
   "source": [
    "len(Northeast) + len(Midwest) + len(South) + len(West)"
   ]
  },
  {
   "cell_type": "code",
   "execution_count": 59,
   "id": "ecc119b3",
   "metadata": {
    "execution": {
     "iopub.execute_input": "2022-12-21T06:31:15.371389Z",
     "iopub.status.busy": "2022-12-21T06:31:15.371025Z",
     "iopub.status.idle": "2022-12-21T06:31:15.376656Z",
     "shell.execute_reply": "2022-12-21T06:31:15.376039Z"
    },
    "papermill": {
     "duration": 0.046111,
     "end_time": "2022-12-21T06:31:15.378629",
     "exception": false,
     "start_time": "2022-12-21T06:31:15.332518",
     "status": "completed"
    },
    "tags": []
   },
   "outputs": [
    {
     "data": {
      "text/plain": [
       "50"
      ]
     },
     "execution_count": 59,
     "metadata": {},
     "output_type": "execute_result"
    }
   ],
   "source": [
    "len(states)"
   ]
  },
  {
   "cell_type": "markdown",
   "id": "5cceb83f",
   "metadata": {
    "papermill": {
     "duration": 0.037197,
     "end_time": "2022-12-21T06:31:15.453751",
     "exception": false,
     "start_time": "2022-12-21T06:31:15.416554",
     "status": "completed"
    },
    "tags": []
   },
   "source": [
    "### Changing Datatype"
   ]
  },
  {
   "cell_type": "code",
   "execution_count": 60,
   "id": "f2715f7c",
   "metadata": {
    "execution": {
     "iopub.execute_input": "2022-12-21T06:31:15.529632Z",
     "iopub.status.busy": "2022-12-21T06:31:15.529264Z",
     "iopub.status.idle": "2022-12-21T06:31:15.537447Z",
     "shell.execute_reply": "2022-12-21T06:31:15.536696Z"
    },
    "papermill": {
     "duration": 0.048342,
     "end_time": "2022-12-21T06:31:15.539235",
     "exception": false,
     "start_time": "2022-12-21T06:31:15.490893",
     "status": "completed"
    },
    "tags": []
   },
   "outputs": [
    {
     "data": {
      "text/plain": [
       "Fact\n",
       "state                                                                                    object\n",
       "Population estimates, July 1, 2016,  (V2016)                                             object\n",
       "Population estimates base, April 1, 2010,  (V2016)                                       object\n",
       "Population, percent change - April 1, 2010 (estimates base) to July 1, 2016,  (V2016)    object\n",
       "Population, Census, April 1, 2010                                                        object\n",
       "                                                                                          ...  \n",
       "Nonminority-owned firms, 2012                                                            object\n",
       "Veteran-owned firms, 2012                                                                object\n",
       "Nonveteran-owned firms, 2012                                                             object\n",
       "Population per square mile, 2010                                                         object\n",
       "Land area in square miles, 2010                                                          object\n",
       "Length: 65, dtype: object"
      ]
     },
     "execution_count": 60,
     "metadata": {},
     "output_type": "execute_result"
    }
   ],
   "source": [
    "us_census.dtypes"
   ]
  },
  {
   "cell_type": "code",
   "execution_count": 61,
   "id": "29ddbabd",
   "metadata": {
    "execution": {
     "iopub.execute_input": "2022-12-21T06:31:15.616287Z",
     "iopub.status.busy": "2022-12-21T06:31:15.615176Z",
     "iopub.status.idle": "2022-12-21T06:31:15.624110Z",
     "shell.execute_reply": "2022-12-21T06:31:15.622533Z"
    },
    "papermill": {
     "duration": 0.049823,
     "end_time": "2022-12-21T06:31:15.626522",
     "exception": false,
     "start_time": "2022-12-21T06:31:15.576699",
     "status": "completed"
    },
    "tags": []
   },
   "outputs": [
    {
     "data": {
      "text/plain": [
       "Index(['Population estimates, July 1, 2016,  (V2016)',\n",
       "       'Population estimates base, April 1, 2010,  (V2016)',\n",
       "       'Population, percent change - April 1, 2010 (estimates base) to July 1, 2016,  (V2016)',\n",
       "       'Population, Census, April 1, 2010',\n",
       "       'Persons under 5 years, percent, July 1, 2016,  (V2016)',\n",
       "       'Persons under 5 years, percent, April 1, 2010',\n",
       "       'Persons under 18 years, percent, July 1, 2016,  (V2016)',\n",
       "       'Persons under 18 years, percent, April 1, 2010',\n",
       "       'Persons 65 years and over, percent,  July 1, 2016,  (V2016)',\n",
       "       'Persons 65 years and over, percent, April 1, 2010',\n",
       "       'Female persons, percent,  July 1, 2016,  (V2016)',\n",
       "       'Female persons, percent, April 1, 2010',\n",
       "       'White alone, percent, July 1, 2016,  (V2016)',\n",
       "       'Black or African American alone, percent, July 1, 2016,  (V2016)',\n",
       "       'American Indian and Alaska Native alone, percent, July 1, 2016,  (V2016)',\n",
       "       'Asian alone, percent, July 1, 2016,  (V2016)',\n",
       "       'Native Hawaiian and Other Pacific Islander alone, percent, July 1, 2016,  (V2016)',\n",
       "       'Two or More Races, percent, July 1, 2016,  (V2016)',\n",
       "       'Hispanic or Latino, percent, July 1, 2016,  (V2016)',\n",
       "       'White alone, not Hispanic or Latino, percent, July 1, 2016,  (V2016)',\n",
       "       'Veterans, 2011-2015', 'Foreign born persons, percent, 2011-2015',\n",
       "       'Housing units,  July 1, 2016,  (V2016)',\n",
       "       'Housing units, April 1, 2010',\n",
       "       'Owner-occupied housing unit rate, 2011-2015',\n",
       "       'Median value of owner-occupied housing units, 2011-2015',\n",
       "       'Median selected monthly owner costs -with a mortgage, 2011-2015',\n",
       "       'Median selected monthly owner costs -without a mortgage, 2011-2015',\n",
       "       'Median gross rent, 2011-2015', 'Building permits, 2016',\n",
       "       'Households, 2011-2015', 'Persons per household, 2011-2015',\n",
       "       'Living in same house 1 year ago, percent of persons age 1 year+, 2011-2015',\n",
       "       'Language other than English spoken at home, percent of persons age 5 years+, 2011-2015',\n",
       "       'High school graduate or higher, percent of persons age 25 years+, 2011-2015',\n",
       "       'Bachelor's degree or higher, percent of persons age 25 years+, 2011-2015',\n",
       "       'With a disability, under age 65 years, percent, 2011-2015',\n",
       "       'Persons  without health insurance, under age 65 years, percent',\n",
       "       'In civilian labor force, total, percent of population age 16 years+, 2011-2015',\n",
       "       'In civilian labor force, female, percent of population age 16 years+, 2011-2015',\n",
       "       'Total accommodation and food services sales, 2012 ($1,000)',\n",
       "       'Total health care and social assistance receipts/revenue, 2012 ($1,000)',\n",
       "       'Total manufacturers shipments, 2012 ($1,000)',\n",
       "       'Total merchant wholesaler sales, 2012 ($1,000)',\n",
       "       'Total retail sales, 2012 ($1,000)',\n",
       "       'Total retail sales per capita, 2012',\n",
       "       'Mean travel time to work (minutes), workers age 16 years+, 2011-2015',\n",
       "       'Median household income (in 2015 dollars), 2011-2015',\n",
       "       'Per capita income in past 12 months (in 2015 dollars), 2011-2015',\n",
       "       'Persons in poverty, percent', 'Total employer establishments, 2015',\n",
       "       'Total employment, 2015', 'Total annual payroll, 2015 ($1,000)',\n",
       "       'Total employment, percent change, 2014-2015',\n",
       "       'Total nonemployer establishments, 2015', 'All firms, 2012',\n",
       "       'Men-owned firms, 2012', 'Women-owned firms, 2012',\n",
       "       'Minority-owned firms, 2012', 'Nonminority-owned firms, 2012',\n",
       "       'Veteran-owned firms, 2012', 'Nonveteran-owned firms, 2012',\n",
       "       'Population per square mile, 2010', 'Land area in square miles, 2010'],\n",
       "      dtype='object', name='Fact')"
      ]
     },
     "execution_count": 61,
     "metadata": {},
     "output_type": "execute_result"
    }
   ],
   "source": [
    "to_float = us_census.columns[1:]\n",
    "to_float"
   ]
  },
  {
   "cell_type": "markdown",
   "id": "608d49ff",
   "metadata": {
    "papermill": {
     "duration": 0.038556,
     "end_time": "2022-12-21T06:31:15.705727",
     "exception": false,
     "start_time": "2022-12-21T06:31:15.667171",
     "status": "completed"
    },
    "tags": []
   },
   "source": [
    "## Checking the type/class of the data"
   ]
  },
  {
   "cell_type": "code",
   "execution_count": 62,
   "id": "f9c887cc",
   "metadata": {
    "execution": {
     "iopub.execute_input": "2022-12-21T06:31:15.784394Z",
     "iopub.status.busy": "2022-12-21T06:31:15.784012Z",
     "iopub.status.idle": "2022-12-21T06:31:15.790984Z",
     "shell.execute_reply": "2022-12-21T06:31:15.788888Z"
    },
    "papermill": {
     "duration": 0.049148,
     "end_time": "2022-12-21T06:31:15.793665",
     "exception": false,
     "start_time": "2022-12-21T06:31:15.744517",
     "status": "completed"
    },
    "tags": []
   },
   "outputs": [
    {
     "data": {
      "text/plain": [
       "pandas.core.frame.DataFrame"
      ]
     },
     "execution_count": 62,
     "metadata": {},
     "output_type": "execute_result"
    }
   ],
   "source": [
    "type(us_census)"
   ]
  },
  {
   "cell_type": "code",
   "execution_count": 63,
   "id": "fd987660",
   "metadata": {
    "execution": {
     "iopub.execute_input": "2022-12-21T06:31:15.875765Z",
     "iopub.status.busy": "2022-12-21T06:31:15.875406Z",
     "iopub.status.idle": "2022-12-21T06:31:15.881757Z",
     "shell.execute_reply": "2022-12-21T06:31:15.880572Z"
    },
    "papermill": {
     "duration": 0.05157,
     "end_time": "2022-12-21T06:31:15.884528",
     "exception": false,
     "start_time": "2022-12-21T06:31:15.832958",
     "status": "completed"
    },
    "tags": []
   },
   "outputs": [
    {
     "data": {
      "text/plain": [
       "Index(['state', 'Population estimates, July 1, 2016,  (V2016)'], dtype='object', name='Fact')"
      ]
     },
     "execution_count": 63,
     "metadata": {},
     "output_type": "execute_result"
    }
   ],
   "source": [
    "us_census.columns[0:2]"
   ]
  },
  {
   "cell_type": "code",
   "execution_count": 64,
   "id": "38bd8b98",
   "metadata": {
    "execution": {
     "iopub.execute_input": "2022-12-21T06:31:15.962925Z",
     "iopub.status.busy": "2022-12-21T06:31:15.962548Z",
     "iopub.status.idle": "2022-12-21T06:31:15.966532Z",
     "shell.execute_reply": "2022-12-21T06:31:15.965357Z"
    },
    "papermill": {
     "duration": 0.045529,
     "end_time": "2022-12-21T06:31:15.968691",
     "exception": false,
     "start_time": "2022-12-21T06:31:15.923162",
     "status": "completed"
    },
    "tags": []
   },
   "outputs": [],
   "source": [
    "# us_test = us_census.copy()\n",
    "# us_test.head(2)"
   ]
  },
  {
   "cell_type": "code",
   "execution_count": 65,
   "id": "46d64262",
   "metadata": {
    "execution": {
     "iopub.execute_input": "2022-12-21T06:31:16.046903Z",
     "iopub.status.busy": "2022-12-21T06:31:16.046500Z",
     "iopub.status.idle": "2022-12-21T06:31:16.054488Z",
     "shell.execute_reply": "2022-12-21T06:31:16.053107Z"
    },
    "papermill": {
     "duration": 0.050575,
     "end_time": "2022-12-21T06:31:16.057449",
     "exception": false,
     "start_time": "2022-12-21T06:31:16.006874",
     "status": "completed"
    },
    "tags": []
   },
   "outputs": [],
   "source": [
    "in_percentage = ['Population, percent change - April 1, 2010 (estimates base) to July 1, 2016,  (V2016)',            \n",
    "'Persons under 5 years, percent, July 1, 2016,  (V2016)',\n",
    "'Persons under 5 years, percent, April 1, 2010',\n",
    "'Persons under 18 years, percent, July 1, 2016,  (V2016)',\n",
    "'Persons under 18 years, percent, April 1, 2010',\n",
    "'Persons 65 years and over, percent,  July 1, 2016,  (V2016)',\n",
    "'Persons 65 years and over, percent, April 1, 2010',\n",
    "'Female persons, percent,  July 1, 2016,  (V2016)',\n",
    "'Female persons, percent, April 1, 2010',\n",
    "'White alone, percent, July 1, 2016,  (V2016)',\n",
    "'Black or African American alone, percent, July 1, 2016,  (V2016)',\n",
    "'American Indian and Alaska Native alone, percent, July 1, 2016,  (V2016)',\n",
    "'Asian alone, percent, July 1, 2016,  (V2016)',\n",
    "'Native Hawaiian and Other Pacific Islander alone, percent, July 1, 2016,  (V2016)',\n",
    "'Two or More Races, percent, July 1, 2016,  (V2016)',\n",
    "'Hispanic or Latino, percent, July 1, 2016,  (V2016)',\n",
    "'White alone, not Hispanic or Latino, percent, July 1, 2016,  (V2016)',\n",
    "'Foreign born persons, percent, 2011-2015',\n",
    "'Owner-occupied housing unit rate, 2011-2015',\n",
    "'Living in same house 1 year ago, percent of persons age 1 year+, 2011-2015',\n",
    "'Language other than English spoken at home, percent of persons age 5 years+, 2011-2015',\n",
    "'High school graduate or higher, percent of persons age 25 years+, 2011-2015',\n",
    "\"Bachelor's degree or higher, percent of persons age 25 years+, 2011-2015\",\n",
    "'With a disability, under age 65 years, percent, 2011-2015',\n",
    "'Persons  without health insurance, under age 65 years, percent',\n",
    "'In civilian labor force, total, percent of population age 16 years+, 2011-2015',\n",
    "'In civilian labor force, female, percent of population age 16 years+, 2011-2015',\n",
    "'Persons in poverty, percent',\n",
    "'Total employment, percent change, 2014-2015'\n",
    "                ]"
   ]
  },
  {
   "cell_type": "code",
   "execution_count": 66,
   "id": "8eaec00e",
   "metadata": {
    "execution": {
     "iopub.execute_input": "2022-12-21T06:31:16.137045Z",
     "iopub.status.busy": "2022-12-21T06:31:16.135735Z",
     "iopub.status.idle": "2022-12-21T06:31:16.142542Z",
     "shell.execute_reply": "2022-12-21T06:31:16.141803Z"
    },
    "papermill": {
     "duration": 0.04789,
     "end_time": "2022-12-21T06:31:16.144538",
     "exception": false,
     "start_time": "2022-12-21T06:31:16.096648",
     "status": "completed"
    },
    "tags": []
   },
   "outputs": [
    {
     "data": {
      "text/plain": [
       "['Population, percent change - April 1, 2010 (estimates base) to July 1, 2016,  (V2016)',\n",
       " 'Persons under 5 years, percent, July 1, 2016,  (V2016)',\n",
       " 'Persons under 5 years, percent, April 1, 2010',\n",
       " 'Persons under 18 years, percent, July 1, 2016,  (V2016)',\n",
       " 'Persons under 18 years, percent, April 1, 2010',\n",
       " 'Persons 65 years and over, percent,  July 1, 2016,  (V2016)',\n",
       " 'Persons 65 years and over, percent, April 1, 2010',\n",
       " 'Female persons, percent,  July 1, 2016,  (V2016)',\n",
       " 'Female persons, percent, April 1, 2010',\n",
       " 'White alone, percent, July 1, 2016,  (V2016)',\n",
       " 'Black or African American alone, percent, July 1, 2016,  (V2016)',\n",
       " 'American Indian and Alaska Native alone, percent, July 1, 2016,  (V2016)',\n",
       " 'Asian alone, percent, July 1, 2016,  (V2016)',\n",
       " 'Native Hawaiian and Other Pacific Islander alone, percent, July 1, 2016,  (V2016)',\n",
       " 'Two or More Races, percent, July 1, 2016,  (V2016)',\n",
       " 'Hispanic or Latino, percent, July 1, 2016,  (V2016)',\n",
       " 'White alone, not Hispanic or Latino, percent, July 1, 2016,  (V2016)',\n",
       " 'Foreign born persons, percent, 2011-2015',\n",
       " 'Owner-occupied housing unit rate, 2011-2015',\n",
       " 'Living in same house 1 year ago, percent of persons age 1 year+, 2011-2015',\n",
       " 'Language other than English spoken at home, percent of persons age 5 years+, 2011-2015',\n",
       " 'High school graduate or higher, percent of persons age 25 years+, 2011-2015',\n",
       " \"Bachelor's degree or higher, percent of persons age 25 years+, 2011-2015\",\n",
       " 'With a disability, under age 65 years, percent, 2011-2015',\n",
       " 'Persons  without health insurance, under age 65 years, percent',\n",
       " 'In civilian labor force, total, percent of population age 16 years+, 2011-2015',\n",
       " 'In civilian labor force, female, percent of population age 16 years+, 2011-2015',\n",
       " 'Persons in poverty, percent',\n",
       " 'Total employment, percent change, 2014-2015']"
      ]
     },
     "execution_count": 66,
     "metadata": {},
     "output_type": "execute_result"
    }
   ],
   "source": [
    "in_percentage"
   ]
  },
  {
   "cell_type": "code",
   "execution_count": 67,
   "id": "c3af6eba",
   "metadata": {
    "execution": {
     "iopub.execute_input": "2022-12-21T06:31:16.222240Z",
     "iopub.status.busy": "2022-12-21T06:31:16.221766Z",
     "iopub.status.idle": "2022-12-21T06:31:16.226992Z",
     "shell.execute_reply": "2022-12-21T06:31:16.225719Z"
    },
    "papermill": {
     "duration": 0.046468,
     "end_time": "2022-12-21T06:31:16.228785",
     "exception": false,
     "start_time": "2022-12-21T06:31:16.182317",
     "status": "completed"
    },
    "tags": []
   },
   "outputs": [],
   "source": [
    "in_usd = [\"Median value of owner-occupied housing units, 2011-2015\",\n",
    "\"Median selected monthly owner costs -with a mortgage, 2011-2015\",\n",
    "\"Median selected monthly owner costs -without a mortgage, 2011-2015\",\n",
    "\"Median gross rent, 2011-2015\",\n",
    "\"Total retail sales per capita, 2012\",\n",
    "\"Median household income (in 2015 dollars), 2011-2015\",\n",
    "\"Per capita income in past 12 months (in 2015 dollars), 2011-2015\"\n",
    "]"
   ]
  },
  {
   "cell_type": "code",
   "execution_count": 68,
   "id": "4d2380f4",
   "metadata": {
    "execution": {
     "iopub.execute_input": "2022-12-21T06:31:16.306197Z",
     "iopub.status.busy": "2022-12-21T06:31:16.305818Z",
     "iopub.status.idle": "2022-12-21T06:31:16.311382Z",
     "shell.execute_reply": "2022-12-21T06:31:16.310713Z"
    },
    "papermill": {
     "duration": 0.046724,
     "end_time": "2022-12-21T06:31:16.313188",
     "exception": false,
     "start_time": "2022-12-21T06:31:16.266464",
     "status": "completed"
    },
    "tags": []
   },
   "outputs": [
    {
     "data": {
      "text/plain": [
       "['Median value of owner-occupied housing units, 2011-2015',\n",
       " 'Median selected monthly owner costs -with a mortgage, 2011-2015',\n",
       " 'Median selected monthly owner costs -without a mortgage, 2011-2015',\n",
       " 'Median gross rent, 2011-2015',\n",
       " 'Total retail sales per capita, 2012',\n",
       " 'Median household income (in 2015 dollars), 2011-2015',\n",
       " 'Per capita income in past 12 months (in 2015 dollars), 2011-2015']"
      ]
     },
     "execution_count": 68,
     "metadata": {},
     "output_type": "execute_result"
    }
   ],
   "source": [
    "in_usd"
   ]
  },
  {
   "cell_type": "code",
   "execution_count": 69,
   "id": "a350c3cf",
   "metadata": {
    "execution": {
     "iopub.execute_input": "2022-12-21T06:31:16.394367Z",
     "iopub.status.busy": "2022-12-21T06:31:16.393979Z",
     "iopub.status.idle": "2022-12-21T06:31:16.398626Z",
     "shell.execute_reply": "2022-12-21T06:31:16.396962Z"
    },
    "papermill": {
     "duration": 0.048902,
     "end_time": "2022-12-21T06:31:16.401341",
     "exception": false,
     "start_time": "2022-12-21T06:31:16.352439",
     "status": "completed"
    },
    "tags": []
   },
   "outputs": [],
   "source": [
    "# s_test = us_census.copy()\n",
    "# s_test.head(2)"
   ]
  },
  {
   "cell_type": "code",
   "execution_count": 70,
   "id": "f09a4f0d",
   "metadata": {
    "execution": {
     "iopub.execute_input": "2022-12-21T06:31:16.482716Z",
     "iopub.status.busy": "2022-12-21T06:31:16.482350Z",
     "iopub.status.idle": "2022-12-21T06:31:16.501699Z",
     "shell.execute_reply": "2022-12-21T06:31:16.500198Z"
    },
    "papermill": {
     "duration": 0.061768,
     "end_time": "2022-12-21T06:31:16.503761",
     "exception": false,
     "start_time": "2022-12-21T06:31:16.441993",
     "status": "completed"
    },
    "tags": []
   },
   "outputs": [
    {
     "name": "stderr",
     "output_type": "stream",
     "text": [
      "/opt/conda/lib/python3.7/site-packages/ipykernel_launcher.py:2: SettingWithCopyWarning: \n",
      "A value is trying to be set on a copy of a slice from a DataFrame.\n",
      "Try using .loc[row_indexer,col_indexer] = value instead\n",
      "\n",
      "See the caveats in the documentation: https://pandas.pydata.org/pandas-docs/stable/user_guide/indexing.html#returning-a-view-versus-a-copy\n",
      "  \n"
     ]
    }
   ],
   "source": [
    "for i in in_percentage:\n",
    "    us_census[i] = us_census[i].str.replace( \"%\", \"\")"
   ]
  },
  {
   "cell_type": "code",
   "execution_count": 71,
   "id": "f5639c59",
   "metadata": {
    "execution": {
     "iopub.execute_input": "2022-12-21T06:31:16.581032Z",
     "iopub.status.busy": "2022-12-21T06:31:16.580670Z",
     "iopub.status.idle": "2022-12-21T06:31:16.604740Z",
     "shell.execute_reply": "2022-12-21T06:31:16.603835Z"
    },
    "papermill": {
     "duration": 0.065256,
     "end_time": "2022-12-21T06:31:16.606663",
     "exception": false,
     "start_time": "2022-12-21T06:31:16.541407",
     "status": "completed"
    },
    "tags": []
   },
   "outputs": [
    {
     "data": {
      "text/html": [
       "<div>\n",
       "<style scoped>\n",
       "    .dataframe tbody tr th:only-of-type {\n",
       "        vertical-align: middle;\n",
       "    }\n",
       "\n",
       "    .dataframe tbody tr th {\n",
       "        vertical-align: top;\n",
       "    }\n",
       "\n",
       "    .dataframe thead th {\n",
       "        text-align: right;\n",
       "    }\n",
       "</style>\n",
       "<table border=\"1\" class=\"dataframe\">\n",
       "  <thead>\n",
       "    <tr style=\"text-align: right;\">\n",
       "      <th>Fact</th>\n",
       "      <th>state</th>\n",
       "      <th>Population estimates, July 1, 2016,  (V2016)</th>\n",
       "      <th>Population estimates base, April 1, 2010,  (V2016)</th>\n",
       "      <th>Population, percent change - April 1, 2010 (estimates base) to July 1, 2016,  (V2016)</th>\n",
       "      <th>Population, Census, April 1, 2010</th>\n",
       "      <th>Persons under 5 years, percent, July 1, 2016,  (V2016)</th>\n",
       "      <th>Persons under 5 years, percent, April 1, 2010</th>\n",
       "      <th>Persons under 18 years, percent, July 1, 2016,  (V2016)</th>\n",
       "      <th>Persons under 18 years, percent, April 1, 2010</th>\n",
       "      <th>Persons 65 years and over, percent,  July 1, 2016,  (V2016)</th>\n",
       "      <th>...</th>\n",
       "      <th>Total nonemployer establishments, 2015</th>\n",
       "      <th>All firms, 2012</th>\n",
       "      <th>Men-owned firms, 2012</th>\n",
       "      <th>Women-owned firms, 2012</th>\n",
       "      <th>Minority-owned firms, 2012</th>\n",
       "      <th>Nonminority-owned firms, 2012</th>\n",
       "      <th>Veteran-owned firms, 2012</th>\n",
       "      <th>Nonveteran-owned firms, 2012</th>\n",
       "      <th>Population per square mile, 2010</th>\n",
       "      <th>Land area in square miles, 2010</th>\n",
       "    </tr>\n",
       "  </thead>\n",
       "  <tbody>\n",
       "    <tr>\n",
       "      <th>0</th>\n",
       "      <td>Alabama</td>\n",
       "      <td>4,863,300</td>\n",
       "      <td>4,780,131</td>\n",
       "      <td>1.70</td>\n",
       "      <td>4,779,736</td>\n",
       "      <td>6.00</td>\n",
       "      <td>6.40</td>\n",
       "      <td>22.60</td>\n",
       "      <td>23.70</td>\n",
       "      <td>16.10</td>\n",
       "      <td>...</td>\n",
       "      <td>322,025</td>\n",
       "      <td>374,153</td>\n",
       "      <td>203,604</td>\n",
       "      <td>137,630</td>\n",
       "      <td>92,219</td>\n",
       "      <td>272,651</td>\n",
       "      <td>41,943</td>\n",
       "      <td>316,984</td>\n",
       "      <td>94.4</td>\n",
       "      <td>50,645.33</td>\n",
       "    </tr>\n",
       "    <tr>\n",
       "      <th>1</th>\n",
       "      <td>Alaska</td>\n",
       "      <td>741,894</td>\n",
       "      <td>710,249</td>\n",
       "      <td>4.50</td>\n",
       "      <td>710,231</td>\n",
       "      <td>7.30</td>\n",
       "      <td>7.60</td>\n",
       "      <td>25.20</td>\n",
       "      <td>26.40</td>\n",
       "      <td>10.40</td>\n",
       "      <td>...</td>\n",
       "      <td>55,521</td>\n",
       "      <td>68,032</td>\n",
       "      <td>35,402</td>\n",
       "      <td>22,141</td>\n",
       "      <td>13,688</td>\n",
       "      <td>51,147</td>\n",
       "      <td>7,953</td>\n",
       "      <td>56,091</td>\n",
       "      <td>1.2</td>\n",
       "      <td>570,640.95</td>\n",
       "    </tr>\n",
       "    <tr>\n",
       "      <th>2</th>\n",
       "      <td>Arizona</td>\n",
       "      <td>6,931,071</td>\n",
       "      <td>6,392,301</td>\n",
       "      <td>8.40</td>\n",
       "      <td>6,392,017</td>\n",
       "      <td>6.30</td>\n",
       "      <td>7.10</td>\n",
       "      <td>23.50</td>\n",
       "      <td>25.50</td>\n",
       "      <td>16.90</td>\n",
       "      <td>...</td>\n",
       "      <td>451,951</td>\n",
       "      <td>499,926</td>\n",
       "      <td>245,243</td>\n",
       "      <td>182,425</td>\n",
       "      <td>135,313</td>\n",
       "      <td>344,981</td>\n",
       "      <td>46,780</td>\n",
       "      <td>427,582</td>\n",
       "      <td>56.3</td>\n",
       "      <td>113,594.08</td>\n",
       "    </tr>\n",
       "    <tr>\n",
       "      <th>3</th>\n",
       "      <td>Arkansas</td>\n",
       "      <td>2,988,248</td>\n",
       "      <td>2,916,025</td>\n",
       "      <td>2.50</td>\n",
       "      <td>2,915,918</td>\n",
       "      <td>6.40</td>\n",
       "      <td>6.80</td>\n",
       "      <td>23.60</td>\n",
       "      <td>24.40</td>\n",
       "      <td>16.30</td>\n",
       "      <td>...</td>\n",
       "      <td>198,380</td>\n",
       "      <td>231,959</td>\n",
       "      <td>123,158</td>\n",
       "      <td>75,962</td>\n",
       "      <td>35,982</td>\n",
       "      <td>189,029</td>\n",
       "      <td>25,915</td>\n",
       "      <td>192,988</td>\n",
       "      <td>56</td>\n",
       "      <td>52,035.48</td>\n",
       "    </tr>\n",
       "    <tr>\n",
       "      <th>4</th>\n",
       "      <td>California</td>\n",
       "      <td>39,250,017</td>\n",
       "      <td>37,254,522</td>\n",
       "      <td>5.40</td>\n",
       "      <td>37,253,956</td>\n",
       "      <td>6.30</td>\n",
       "      <td>6.80</td>\n",
       "      <td>23.20</td>\n",
       "      <td>25.00</td>\n",
       "      <td>13.60</td>\n",
       "      <td>...</td>\n",
       "      <td>3,206,958</td>\n",
       "      <td>3,548,449</td>\n",
       "      <td>1,852,580</td>\n",
       "      <td>1,320,085</td>\n",
       "      <td>1,619,857</td>\n",
       "      <td>1,819,107</td>\n",
       "      <td>252,377</td>\n",
       "      <td>3,176,341</td>\n",
       "      <td>239.1</td>\n",
       "      <td>155,779.22</td>\n",
       "    </tr>\n",
       "  </tbody>\n",
       "</table>\n",
       "<p>5 rows × 65 columns</p>\n",
       "</div>"
      ],
      "text/plain": [
       "Fact       state Population estimates, July 1, 2016,  (V2016)  \\\n",
       "0        Alabama                                    4,863,300   \n",
       "1         Alaska                                      741,894   \n",
       "2        Arizona                                    6,931,071   \n",
       "3       Arkansas                                    2,988,248   \n",
       "4     California                                   39,250,017   \n",
       "\n",
       "Fact Population estimates base, April 1, 2010,  (V2016)  \\\n",
       "0                                             4,780,131   \n",
       "1                                               710,249   \n",
       "2                                             6,392,301   \n",
       "3                                             2,916,025   \n",
       "4                                            37,254,522   \n",
       "\n",
       "Fact Population, percent change - April 1, 2010 (estimates base) to July 1, 2016,  (V2016)  \\\n",
       "0                                                  1.70                                      \n",
       "1                                                  4.50                                      \n",
       "2                                                  8.40                                      \n",
       "3                                                  2.50                                      \n",
       "4                                                  5.40                                      \n",
       "\n",
       "Fact Population, Census, April 1, 2010  \\\n",
       "0                            4,779,736   \n",
       "1                              710,231   \n",
       "2                            6,392,017   \n",
       "3                            2,915,918   \n",
       "4                           37,253,956   \n",
       "\n",
       "Fact Persons under 5 years, percent, July 1, 2016,  (V2016)  \\\n",
       "0                                                  6.00       \n",
       "1                                                  7.30       \n",
       "2                                                  6.30       \n",
       "3                                                  6.40       \n",
       "4                                                  6.30       \n",
       "\n",
       "Fact Persons under 5 years, percent, April 1, 2010  \\\n",
       "0                                             6.40   \n",
       "1                                             7.60   \n",
       "2                                             7.10   \n",
       "3                                             6.80   \n",
       "4                                             6.80   \n",
       "\n",
       "Fact Persons under 18 years, percent, July 1, 2016,  (V2016)  \\\n",
       "0                                                 22.60        \n",
       "1                                                 25.20        \n",
       "2                                                 23.50        \n",
       "3                                                 23.60        \n",
       "4                                                 23.20        \n",
       "\n",
       "Fact Persons under 18 years, percent, April 1, 2010  \\\n",
       "0                                             23.70   \n",
       "1                                             26.40   \n",
       "2                                             25.50   \n",
       "3                                             24.40   \n",
       "4                                             25.00   \n",
       "\n",
       "Fact Persons 65 years and over, percent,  July 1, 2016,  (V2016)  ...  \\\n",
       "0                                                 16.10           ...   \n",
       "1                                                 10.40           ...   \n",
       "2                                                 16.90           ...   \n",
       "3                                                 16.30           ...   \n",
       "4                                                 13.60           ...   \n",
       "\n",
       "Fact Total nonemployer establishments, 2015 All firms, 2012  \\\n",
       "0                                   322,025         374,153   \n",
       "1                                    55,521          68,032   \n",
       "2                                   451,951         499,926   \n",
       "3                                   198,380         231,959   \n",
       "4                                 3,206,958       3,548,449   \n",
       "\n",
       "Fact Men-owned firms, 2012 Women-owned firms, 2012 Minority-owned firms, 2012  \\\n",
       "0                  203,604                 137,630                     92,219   \n",
       "1                   35,402                  22,141                     13,688   \n",
       "2                  245,243                 182,425                    135,313   \n",
       "3                  123,158                  75,962                     35,982   \n",
       "4                1,852,580               1,320,085                  1,619,857   \n",
       "\n",
       "Fact Nonminority-owned firms, 2012 Veteran-owned firms, 2012  \\\n",
       "0                          272,651                    41,943   \n",
       "1                           51,147                     7,953   \n",
       "2                          344,981                    46,780   \n",
       "3                          189,029                    25,915   \n",
       "4                        1,819,107                   252,377   \n",
       "\n",
       "Fact Nonveteran-owned firms, 2012 Population per square mile, 2010  \\\n",
       "0                         316,984                             94.4   \n",
       "1                          56,091                              1.2   \n",
       "2                         427,582                             56.3   \n",
       "3                         192,988                               56   \n",
       "4                       3,176,341                            239.1   \n",
       "\n",
       "Fact Land area in square miles, 2010  \n",
       "0                          50,645.33  \n",
       "1                         570,640.95  \n",
       "2                         113,594.08  \n",
       "3                          52,035.48  \n",
       "4                         155,779.22  \n",
       "\n",
       "[5 rows x 65 columns]"
      ]
     },
     "execution_count": 71,
     "metadata": {},
     "output_type": "execute_result"
    }
   ],
   "source": [
    "us_census.head(5)"
   ]
  },
  {
   "cell_type": "code",
   "execution_count": 72,
   "id": "fb1a6cf7",
   "metadata": {
    "execution": {
     "iopub.execute_input": "2022-12-21T06:31:16.686271Z",
     "iopub.status.busy": "2022-12-21T06:31:16.685931Z",
     "iopub.status.idle": "2022-12-21T06:31:16.695859Z",
     "shell.execute_reply": "2022-12-21T06:31:16.693873Z"
    },
    "papermill": {
     "duration": 0.05254,
     "end_time": "2022-12-21T06:31:16.698677",
     "exception": false,
     "start_time": "2022-12-21T06:31:16.646137",
     "status": "completed"
    },
    "tags": []
   },
   "outputs": [
    {
     "data": {
      "text/plain": [
       "0    $125,500 \n",
       "1    $250,000 \n",
       "2    $167,500 \n",
       "3    $111,400 \n",
       "Name: Median value of owner-occupied housing units, 2011-2015, dtype: object"
      ]
     },
     "execution_count": 72,
     "metadata": {},
     "output_type": "execute_result"
    }
   ],
   "source": [
    "us_census['Median value of owner-occupied housing units, 2011-2015'].head(4)"
   ]
  },
  {
   "cell_type": "code",
   "execution_count": 73,
   "id": "5e766894",
   "metadata": {
    "execution": {
     "iopub.execute_input": "2022-12-21T06:31:16.778642Z",
     "iopub.status.busy": "2022-12-21T06:31:16.778280Z",
     "iopub.status.idle": "2022-12-21T06:31:16.787897Z",
     "shell.execute_reply": "2022-12-21T06:31:16.786764Z"
    },
    "papermill": {
     "duration": 0.052708,
     "end_time": "2022-12-21T06:31:16.790478",
     "exception": false,
     "start_time": "2022-12-21T06:31:16.737770",
     "status": "completed"
    },
    "tags": []
   },
   "outputs": [
    {
     "name": "stderr",
     "output_type": "stream",
     "text": [
      "/opt/conda/lib/python3.7/site-packages/ipykernel_launcher.py:3: FutureWarning: The default value of regex will change from True to False in a future version. In addition, single character regular expressions will *not* be treated as literal strings when regex=True.\n",
      "  This is separate from the ipykernel package so we can avoid doing imports until\n",
      "/opt/conda/lib/python3.7/site-packages/ipykernel_launcher.py:3: SettingWithCopyWarning: \n",
      "A value is trying to be set on a copy of a slice from a DataFrame.\n",
      "Try using .loc[row_indexer,col_indexer] = value instead\n",
      "\n",
      "See the caveats in the documentation: https://pandas.pydata.org/pandas-docs/stable/user_guide/indexing.html#returning-a-view-versus-a-copy\n",
      "  This is separate from the ipykernel package so we can avoid doing imports until\n"
     ]
    }
   ],
   "source": [
    "in_usd\n",
    "for i in in_usd:\n",
    "    us_census[i] = us_census[i].str.replace( \"$\", \"\")\n"
   ]
  },
  {
   "cell_type": "code",
   "execution_count": 74,
   "id": "940d22e3",
   "metadata": {
    "execution": {
     "iopub.execute_input": "2022-12-21T06:31:16.870713Z",
     "iopub.status.busy": "2022-12-21T06:31:16.870304Z",
     "iopub.status.idle": "2022-12-21T06:31:16.877734Z",
     "shell.execute_reply": "2022-12-21T06:31:16.877018Z"
    },
    "papermill": {
     "duration": 0.049793,
     "end_time": "2022-12-21T06:31:16.879663",
     "exception": false,
     "start_time": "2022-12-21T06:31:16.829870",
     "status": "completed"
    },
    "tags": []
   },
   "outputs": [
    {
     "data": {
      "text/plain": [
       "0    125,500 \n",
       "1    250,000 \n",
       "2    167,500 \n",
       "3    111,400 \n",
       "Name: Median value of owner-occupied housing units, 2011-2015, dtype: object"
      ]
     },
     "execution_count": 74,
     "metadata": {},
     "output_type": "execute_result"
    }
   ],
   "source": [
    "us_census['Median value of owner-occupied housing units, 2011-2015'].head(4)"
   ]
  },
  {
   "cell_type": "code",
   "execution_count": 75,
   "id": "7d20a808",
   "metadata": {
    "execution": {
     "iopub.execute_input": "2022-12-21T06:31:16.960077Z",
     "iopub.status.busy": "2022-12-21T06:31:16.959671Z",
     "iopub.status.idle": "2022-12-21T06:31:16.965727Z",
     "shell.execute_reply": "2022-12-21T06:31:16.963868Z"
    },
    "papermill": {
     "duration": 0.049894,
     "end_time": "2022-12-21T06:31:16.968560",
     "exception": false,
     "start_time": "2022-12-21T06:31:16.918666",
     "status": "completed"
    },
    "tags": []
   },
   "outputs": [],
   "source": [
    "# for i in in_percentage:\n",
    "#     s_test.rename(columns = {s_test[i].str: s_test[i].str +  str('%')}, inplace = True, errors='ignore')"
   ]
  },
  {
   "cell_type": "code",
   "execution_count": 76,
   "id": "4c0bce9a",
   "metadata": {
    "execution": {
     "iopub.execute_input": "2022-12-21T06:31:17.050370Z",
     "iopub.status.busy": "2022-12-21T06:31:17.049639Z",
     "iopub.status.idle": "2022-12-21T06:31:17.072921Z",
     "shell.execute_reply": "2022-12-21T06:31:17.071525Z"
    },
    "papermill": {
     "duration": 0.068404,
     "end_time": "2022-12-21T06:31:17.076027",
     "exception": false,
     "start_time": "2022-12-21T06:31:17.007623",
     "status": "completed"
    },
    "tags": []
   },
   "outputs": [
    {
     "data": {
      "text/html": [
       "<div>\n",
       "<style scoped>\n",
       "    .dataframe tbody tr th:only-of-type {\n",
       "        vertical-align: middle;\n",
       "    }\n",
       "\n",
       "    .dataframe tbody tr th {\n",
       "        vertical-align: top;\n",
       "    }\n",
       "\n",
       "    .dataframe thead th {\n",
       "        text-align: right;\n",
       "    }\n",
       "</style>\n",
       "<table border=\"1\" class=\"dataframe\">\n",
       "  <thead>\n",
       "    <tr style=\"text-align: right;\">\n",
       "      <th>Fact</th>\n",
       "      <th>state</th>\n",
       "      <th>Population estimates, July 1, 2016,  (V2016)</th>\n",
       "      <th>Population estimates base, April 1, 2010,  (V2016)</th>\n",
       "      <th>Population, percent change - April 1, 2010 (estimates base) to July 1, 2016,  (V2016)</th>\n",
       "      <th>Population, Census, April 1, 2010</th>\n",
       "      <th>Persons under 5 years, percent, July 1, 2016,  (V2016)</th>\n",
       "      <th>Persons under 5 years, percent, April 1, 2010</th>\n",
       "      <th>Persons under 18 years, percent, July 1, 2016,  (V2016)</th>\n",
       "      <th>Persons under 18 years, percent, April 1, 2010</th>\n",
       "      <th>Persons 65 years and over, percent,  July 1, 2016,  (V2016)</th>\n",
       "      <th>...</th>\n",
       "      <th>Total nonemployer establishments, 2015</th>\n",
       "      <th>All firms, 2012</th>\n",
       "      <th>Men-owned firms, 2012</th>\n",
       "      <th>Women-owned firms, 2012</th>\n",
       "      <th>Minority-owned firms, 2012</th>\n",
       "      <th>Nonminority-owned firms, 2012</th>\n",
       "      <th>Veteran-owned firms, 2012</th>\n",
       "      <th>Nonveteran-owned firms, 2012</th>\n",
       "      <th>Population per square mile, 2010</th>\n",
       "      <th>Land area in square miles, 2010</th>\n",
       "    </tr>\n",
       "  </thead>\n",
       "  <tbody>\n",
       "    <tr>\n",
       "      <th>0</th>\n",
       "      <td>Alabama</td>\n",
       "      <td>4,863,300</td>\n",
       "      <td>4,780,131</td>\n",
       "      <td>1.70</td>\n",
       "      <td>4,779,736</td>\n",
       "      <td>6.00</td>\n",
       "      <td>6.40</td>\n",
       "      <td>22.60</td>\n",
       "      <td>23.70</td>\n",
       "      <td>16.10</td>\n",
       "      <td>...</td>\n",
       "      <td>322,025</td>\n",
       "      <td>374,153</td>\n",
       "      <td>203,604</td>\n",
       "      <td>137,630</td>\n",
       "      <td>92,219</td>\n",
       "      <td>272,651</td>\n",
       "      <td>41,943</td>\n",
       "      <td>316,984</td>\n",
       "      <td>94.4</td>\n",
       "      <td>50,645.33</td>\n",
       "    </tr>\n",
       "    <tr>\n",
       "      <th>1</th>\n",
       "      <td>Alaska</td>\n",
       "      <td>741,894</td>\n",
       "      <td>710,249</td>\n",
       "      <td>4.50</td>\n",
       "      <td>710,231</td>\n",
       "      <td>7.30</td>\n",
       "      <td>7.60</td>\n",
       "      <td>25.20</td>\n",
       "      <td>26.40</td>\n",
       "      <td>10.40</td>\n",
       "      <td>...</td>\n",
       "      <td>55,521</td>\n",
       "      <td>68,032</td>\n",
       "      <td>35,402</td>\n",
       "      <td>22,141</td>\n",
       "      <td>13,688</td>\n",
       "      <td>51,147</td>\n",
       "      <td>7,953</td>\n",
       "      <td>56,091</td>\n",
       "      <td>1.2</td>\n",
       "      <td>570,640.95</td>\n",
       "    </tr>\n",
       "    <tr>\n",
       "      <th>2</th>\n",
       "      <td>Arizona</td>\n",
       "      <td>6,931,071</td>\n",
       "      <td>6,392,301</td>\n",
       "      <td>8.40</td>\n",
       "      <td>6,392,017</td>\n",
       "      <td>6.30</td>\n",
       "      <td>7.10</td>\n",
       "      <td>23.50</td>\n",
       "      <td>25.50</td>\n",
       "      <td>16.90</td>\n",
       "      <td>...</td>\n",
       "      <td>451,951</td>\n",
       "      <td>499,926</td>\n",
       "      <td>245,243</td>\n",
       "      <td>182,425</td>\n",
       "      <td>135,313</td>\n",
       "      <td>344,981</td>\n",
       "      <td>46,780</td>\n",
       "      <td>427,582</td>\n",
       "      <td>56.3</td>\n",
       "      <td>113,594.08</td>\n",
       "    </tr>\n",
       "    <tr>\n",
       "      <th>3</th>\n",
       "      <td>Arkansas</td>\n",
       "      <td>2,988,248</td>\n",
       "      <td>2,916,025</td>\n",
       "      <td>2.50</td>\n",
       "      <td>2,915,918</td>\n",
       "      <td>6.40</td>\n",
       "      <td>6.80</td>\n",
       "      <td>23.60</td>\n",
       "      <td>24.40</td>\n",
       "      <td>16.30</td>\n",
       "      <td>...</td>\n",
       "      <td>198,380</td>\n",
       "      <td>231,959</td>\n",
       "      <td>123,158</td>\n",
       "      <td>75,962</td>\n",
       "      <td>35,982</td>\n",
       "      <td>189,029</td>\n",
       "      <td>25,915</td>\n",
       "      <td>192,988</td>\n",
       "      <td>56</td>\n",
       "      <td>52,035.48</td>\n",
       "    </tr>\n",
       "  </tbody>\n",
       "</table>\n",
       "<p>4 rows × 65 columns</p>\n",
       "</div>"
      ],
      "text/plain": [
       "Fact     state Population estimates, July 1, 2016,  (V2016)  \\\n",
       "0      Alabama                                    4,863,300   \n",
       "1       Alaska                                      741,894   \n",
       "2      Arizona                                    6,931,071   \n",
       "3     Arkansas                                    2,988,248   \n",
       "\n",
       "Fact Population estimates base, April 1, 2010,  (V2016)  \\\n",
       "0                                             4,780,131   \n",
       "1                                               710,249   \n",
       "2                                             6,392,301   \n",
       "3                                             2,916,025   \n",
       "\n",
       "Fact Population, percent change - April 1, 2010 (estimates base) to July 1, 2016,  (V2016)  \\\n",
       "0                                                  1.70                                      \n",
       "1                                                  4.50                                      \n",
       "2                                                  8.40                                      \n",
       "3                                                  2.50                                      \n",
       "\n",
       "Fact Population, Census, April 1, 2010  \\\n",
       "0                            4,779,736   \n",
       "1                              710,231   \n",
       "2                            6,392,017   \n",
       "3                            2,915,918   \n",
       "\n",
       "Fact Persons under 5 years, percent, July 1, 2016,  (V2016)  \\\n",
       "0                                                  6.00       \n",
       "1                                                  7.30       \n",
       "2                                                  6.30       \n",
       "3                                                  6.40       \n",
       "\n",
       "Fact Persons under 5 years, percent, April 1, 2010  \\\n",
       "0                                             6.40   \n",
       "1                                             7.60   \n",
       "2                                             7.10   \n",
       "3                                             6.80   \n",
       "\n",
       "Fact Persons under 18 years, percent, July 1, 2016,  (V2016)  \\\n",
       "0                                                 22.60        \n",
       "1                                                 25.20        \n",
       "2                                                 23.50        \n",
       "3                                                 23.60        \n",
       "\n",
       "Fact Persons under 18 years, percent, April 1, 2010  \\\n",
       "0                                             23.70   \n",
       "1                                             26.40   \n",
       "2                                             25.50   \n",
       "3                                             24.40   \n",
       "\n",
       "Fact Persons 65 years and over, percent,  July 1, 2016,  (V2016)  ...  \\\n",
       "0                                                 16.10           ...   \n",
       "1                                                 10.40           ...   \n",
       "2                                                 16.90           ...   \n",
       "3                                                 16.30           ...   \n",
       "\n",
       "Fact Total nonemployer establishments, 2015 All firms, 2012  \\\n",
       "0                                   322,025         374,153   \n",
       "1                                    55,521          68,032   \n",
       "2                                   451,951         499,926   \n",
       "3                                   198,380         231,959   \n",
       "\n",
       "Fact Men-owned firms, 2012 Women-owned firms, 2012 Minority-owned firms, 2012  \\\n",
       "0                  203,604                 137,630                     92,219   \n",
       "1                   35,402                  22,141                     13,688   \n",
       "2                  245,243                 182,425                    135,313   \n",
       "3                  123,158                  75,962                     35,982   \n",
       "\n",
       "Fact Nonminority-owned firms, 2012 Veteran-owned firms, 2012  \\\n",
       "0                          272,651                    41,943   \n",
       "1                           51,147                     7,953   \n",
       "2                          344,981                    46,780   \n",
       "3                          189,029                    25,915   \n",
       "\n",
       "Fact Nonveteran-owned firms, 2012 Population per square mile, 2010  \\\n",
       "0                         316,984                             94.4   \n",
       "1                          56,091                              1.2   \n",
       "2                         427,582                             56.3   \n",
       "3                         192,988                               56   \n",
       "\n",
       "Fact Land area in square miles, 2010  \n",
       "0                          50,645.33  \n",
       "1                         570,640.95  \n",
       "2                         113,594.08  \n",
       "3                          52,035.48  \n",
       "\n",
       "[4 rows x 65 columns]"
      ]
     },
     "execution_count": 76,
     "metadata": {},
     "output_type": "execute_result"
    }
   ],
   "source": [
    "us_census.head(4)"
   ]
  },
  {
   "cell_type": "markdown",
   "id": "bae4a818",
   "metadata": {
    "papermill": {
     "duration": 0.040192,
     "end_time": "2022-12-21T06:31:17.158130",
     "exception": false,
     "start_time": "2022-12-21T06:31:17.117938",
     "status": "completed"
    },
    "tags": []
   },
   "source": [
    "### Converting datatype from string to float"
   ]
  },
  {
   "cell_type": "code",
   "execution_count": 77,
   "id": "f09ee9a2",
   "metadata": {
    "execution": {
     "iopub.execute_input": "2022-12-21T06:31:17.240472Z",
     "iopub.status.busy": "2022-12-21T06:31:17.239874Z",
     "iopub.status.idle": "2022-12-21T06:31:17.244916Z",
     "shell.execute_reply": "2022-12-21T06:31:17.243248Z"
    },
    "papermill": {
     "duration": 0.049842,
     "end_time": "2022-12-21T06:31:17.247122",
     "exception": false,
     "start_time": "2022-12-21T06:31:17.197280",
     "status": "completed"
    },
    "tags": []
   },
   "outputs": [],
   "source": [
    "# new_test = us_census.copy()\n",
    "# new_test.head(3)"
   ]
  },
  {
   "cell_type": "code",
   "execution_count": 78,
   "id": "ae59773e",
   "metadata": {
    "execution": {
     "iopub.execute_input": "2022-12-21T06:31:17.329328Z",
     "iopub.status.busy": "2022-12-21T06:31:17.328522Z",
     "iopub.status.idle": "2022-12-21T06:31:17.357581Z",
     "shell.execute_reply": "2022-12-21T06:31:17.356678Z"
    },
    "papermill": {
     "duration": 0.071659,
     "end_time": "2022-12-21T06:31:17.359388",
     "exception": false,
     "start_time": "2022-12-21T06:31:17.287729",
     "status": "completed"
    },
    "tags": []
   },
   "outputs": [
    {
     "name": "stderr",
     "output_type": "stream",
     "text": [
      "/opt/conda/lib/python3.7/site-packages/ipykernel_launcher.py:3: SettingWithCopyWarning: \n",
      "A value is trying to be set on a copy of a slice from a DataFrame.\n",
      "Try using .loc[row_indexer,col_indexer] = value instead\n",
      "\n",
      "See the caveats in the documentation: https://pandas.pydata.org/pandas-docs/stable/user_guide/indexing.html#returning-a-view-versus-a-copy\n",
      "  This is separate from the ipykernel package so we can avoid doing imports until\n"
     ]
    }
   ],
   "source": [
    "import re\n",
    "for c in to_float:\n",
    "    us_census[c] = us_census[c].apply(lambda x: re.sub(\"\\D\", \"\", x))"
   ]
  },
  {
   "cell_type": "code",
   "execution_count": 79,
   "id": "ded06b9f",
   "metadata": {
    "execution": {
     "iopub.execute_input": "2022-12-21T06:31:17.443320Z",
     "iopub.status.busy": "2022-12-21T06:31:17.442915Z",
     "iopub.status.idle": "2022-12-21T06:31:17.462424Z",
     "shell.execute_reply": "2022-12-21T06:31:17.461364Z"
    },
    "papermill": {
     "duration": 0.064712,
     "end_time": "2022-12-21T06:31:17.465029",
     "exception": false,
     "start_time": "2022-12-21T06:31:17.400317",
     "status": "completed"
    },
    "tags": []
   },
   "outputs": [
    {
     "data": {
      "text/html": [
       "<div>\n",
       "<style scoped>\n",
       "    .dataframe tbody tr th:only-of-type {\n",
       "        vertical-align: middle;\n",
       "    }\n",
       "\n",
       "    .dataframe tbody tr th {\n",
       "        vertical-align: top;\n",
       "    }\n",
       "\n",
       "    .dataframe thead th {\n",
       "        text-align: right;\n",
       "    }\n",
       "</style>\n",
       "<table border=\"1\" class=\"dataframe\">\n",
       "  <thead>\n",
       "    <tr style=\"text-align: right;\">\n",
       "      <th>Fact</th>\n",
       "      <th>state</th>\n",
       "      <th>Population estimates, July 1, 2016,  (V2016)</th>\n",
       "      <th>Population estimates base, April 1, 2010,  (V2016)</th>\n",
       "      <th>Population, percent change - April 1, 2010 (estimates base) to July 1, 2016,  (V2016)</th>\n",
       "      <th>Population, Census, April 1, 2010</th>\n",
       "      <th>Persons under 5 years, percent, July 1, 2016,  (V2016)</th>\n",
       "      <th>Persons under 5 years, percent, April 1, 2010</th>\n",
       "      <th>Persons under 18 years, percent, July 1, 2016,  (V2016)</th>\n",
       "      <th>Persons under 18 years, percent, April 1, 2010</th>\n",
       "      <th>Persons 65 years and over, percent,  July 1, 2016,  (V2016)</th>\n",
       "      <th>...</th>\n",
       "      <th>Total nonemployer establishments, 2015</th>\n",
       "      <th>All firms, 2012</th>\n",
       "      <th>Men-owned firms, 2012</th>\n",
       "      <th>Women-owned firms, 2012</th>\n",
       "      <th>Minority-owned firms, 2012</th>\n",
       "      <th>Nonminority-owned firms, 2012</th>\n",
       "      <th>Veteran-owned firms, 2012</th>\n",
       "      <th>Nonveteran-owned firms, 2012</th>\n",
       "      <th>Population per square mile, 2010</th>\n",
       "      <th>Land area in square miles, 2010</th>\n",
       "    </tr>\n",
       "  </thead>\n",
       "  <tbody>\n",
       "    <tr>\n",
       "      <th>0</th>\n",
       "      <td>Alabama</td>\n",
       "      <td>4863300</td>\n",
       "      <td>4780131</td>\n",
       "      <td>170</td>\n",
       "      <td>4779736</td>\n",
       "      <td>600</td>\n",
       "      <td>640</td>\n",
       "      <td>2260</td>\n",
       "      <td>2370</td>\n",
       "      <td>1610</td>\n",
       "      <td>...</td>\n",
       "      <td>322025</td>\n",
       "      <td>374153</td>\n",
       "      <td>203604</td>\n",
       "      <td>137630</td>\n",
       "      <td>92219</td>\n",
       "      <td>272651</td>\n",
       "      <td>41943</td>\n",
       "      <td>316984</td>\n",
       "      <td>944</td>\n",
       "      <td>5064533</td>\n",
       "    </tr>\n",
       "    <tr>\n",
       "      <th>1</th>\n",
       "      <td>Alaska</td>\n",
       "      <td>741894</td>\n",
       "      <td>710249</td>\n",
       "      <td>450</td>\n",
       "      <td>710231</td>\n",
       "      <td>730</td>\n",
       "      <td>760</td>\n",
       "      <td>2520</td>\n",
       "      <td>2640</td>\n",
       "      <td>1040</td>\n",
       "      <td>...</td>\n",
       "      <td>55521</td>\n",
       "      <td>68032</td>\n",
       "      <td>35402</td>\n",
       "      <td>22141</td>\n",
       "      <td>13688</td>\n",
       "      <td>51147</td>\n",
       "      <td>7953</td>\n",
       "      <td>56091</td>\n",
       "      <td>12</td>\n",
       "      <td>57064095</td>\n",
       "    </tr>\n",
       "    <tr>\n",
       "      <th>2</th>\n",
       "      <td>Arizona</td>\n",
       "      <td>6931071</td>\n",
       "      <td>6392301</td>\n",
       "      <td>840</td>\n",
       "      <td>6392017</td>\n",
       "      <td>630</td>\n",
       "      <td>710</td>\n",
       "      <td>2350</td>\n",
       "      <td>2550</td>\n",
       "      <td>1690</td>\n",
       "      <td>...</td>\n",
       "      <td>451951</td>\n",
       "      <td>499926</td>\n",
       "      <td>245243</td>\n",
       "      <td>182425</td>\n",
       "      <td>135313</td>\n",
       "      <td>344981</td>\n",
       "      <td>46780</td>\n",
       "      <td>427582</td>\n",
       "      <td>563</td>\n",
       "      <td>11359408</td>\n",
       "    </tr>\n",
       "  </tbody>\n",
       "</table>\n",
       "<p>3 rows × 65 columns</p>\n",
       "</div>"
      ],
      "text/plain": [
       "Fact    state Population estimates, July 1, 2016,  (V2016)  \\\n",
       "0     Alabama                                      4863300   \n",
       "1      Alaska                                       741894   \n",
       "2     Arizona                                      6931071   \n",
       "\n",
       "Fact Population estimates base, April 1, 2010,  (V2016)  \\\n",
       "0                                               4780131   \n",
       "1                                                710249   \n",
       "2                                               6392301   \n",
       "\n",
       "Fact Population, percent change - April 1, 2010 (estimates base) to July 1, 2016,  (V2016)  \\\n",
       "0                                                   170                                      \n",
       "1                                                   450                                      \n",
       "2                                                   840                                      \n",
       "\n",
       "Fact Population, Census, April 1, 2010  \\\n",
       "0                              4779736   \n",
       "1                               710231   \n",
       "2                              6392017   \n",
       "\n",
       "Fact Persons under 5 years, percent, July 1, 2016,  (V2016)  \\\n",
       "0                                                   600       \n",
       "1                                                   730       \n",
       "2                                                   630       \n",
       "\n",
       "Fact Persons under 5 years, percent, April 1, 2010  \\\n",
       "0                                              640   \n",
       "1                                              760   \n",
       "2                                              710   \n",
       "\n",
       "Fact Persons under 18 years, percent, July 1, 2016,  (V2016)  \\\n",
       "0                                                  2260        \n",
       "1                                                  2520        \n",
       "2                                                  2350        \n",
       "\n",
       "Fact Persons under 18 years, percent, April 1, 2010  \\\n",
       "0                                              2370   \n",
       "1                                              2640   \n",
       "2                                              2550   \n",
       "\n",
       "Fact Persons 65 years and over, percent,  July 1, 2016,  (V2016)  ...  \\\n",
       "0                                                  1610           ...   \n",
       "1                                                  1040           ...   \n",
       "2                                                  1690           ...   \n",
       "\n",
       "Fact Total nonemployer establishments, 2015 All firms, 2012  \\\n",
       "0                                    322025          374153   \n",
       "1                                     55521           68032   \n",
       "2                                    451951          499926   \n",
       "\n",
       "Fact Men-owned firms, 2012 Women-owned firms, 2012 Minority-owned firms, 2012  \\\n",
       "0                   203604                  137630                      92219   \n",
       "1                    35402                   22141                      13688   \n",
       "2                   245243                  182425                     135313   \n",
       "\n",
       "Fact Nonminority-owned firms, 2012 Veteran-owned firms, 2012  \\\n",
       "0                           272651                     41943   \n",
       "1                            51147                      7953   \n",
       "2                           344981                     46780   \n",
       "\n",
       "Fact Nonveteran-owned firms, 2012 Population per square mile, 2010  \\\n",
       "0                          316984                              944   \n",
       "1                           56091                               12   \n",
       "2                          427582                              563   \n",
       "\n",
       "Fact Land area in square miles, 2010  \n",
       "0                            5064533  \n",
       "1                           57064095  \n",
       "2                           11359408  \n",
       "\n",
       "[3 rows x 65 columns]"
      ]
     },
     "execution_count": 79,
     "metadata": {},
     "output_type": "execute_result"
    }
   ],
   "source": [
    "us_census.head(3)"
   ]
  },
  {
   "cell_type": "code",
   "execution_count": 80,
   "id": "82254f5a",
   "metadata": {
    "execution": {
     "iopub.execute_input": "2022-12-21T06:31:17.547067Z",
     "iopub.status.busy": "2022-12-21T06:31:17.546461Z",
     "iopub.status.idle": "2022-12-21T06:31:17.552990Z",
     "shell.execute_reply": "2022-12-21T06:31:17.552349Z"
    },
    "papermill": {
     "duration": 0.049196,
     "end_time": "2022-12-21T06:31:17.554718",
     "exception": false,
     "start_time": "2022-12-21T06:31:17.505522",
     "status": "completed"
    },
    "tags": []
   },
   "outputs": [
    {
     "data": {
      "text/plain": [
       "Fact\n",
       "state                                                                                    object\n",
       "Population estimates, July 1, 2016,  (V2016)                                             object\n",
       "Population estimates base, April 1, 2010,  (V2016)                                       object\n",
       "Population, percent change - April 1, 2010 (estimates base) to July 1, 2016,  (V2016)    object\n",
       "Population, Census, April 1, 2010                                                        object\n",
       "                                                                                          ...  \n",
       "Nonminority-owned firms, 2012                                                            object\n",
       "Veteran-owned firms, 2012                                                                object\n",
       "Nonveteran-owned firms, 2012                                                             object\n",
       "Population per square mile, 2010                                                         object\n",
       "Land area in square miles, 2010                                                          object\n",
       "Length: 65, dtype: object"
      ]
     },
     "execution_count": 80,
     "metadata": {},
     "output_type": "execute_result"
    }
   ],
   "source": [
    "us_census.dtypes"
   ]
  },
  {
   "cell_type": "code",
   "execution_count": 81,
   "id": "4b081d40",
   "metadata": {
    "execution": {
     "iopub.execute_input": "2022-12-21T06:31:17.638056Z",
     "iopub.status.busy": "2022-12-21T06:31:17.637703Z",
     "iopub.status.idle": "2022-12-21T06:31:17.663476Z",
     "shell.execute_reply": "2022-12-21T06:31:17.661892Z"
    },
    "papermill": {
     "duration": 0.069958,
     "end_time": "2022-12-21T06:31:17.666085",
     "exception": false,
     "start_time": "2022-12-21T06:31:17.596127",
     "status": "completed"
    },
    "tags": []
   },
   "outputs": [
    {
     "name": "stderr",
     "output_type": "stream",
     "text": [
      "/opt/conda/lib/python3.7/site-packages/ipykernel_launcher.py:2: SettingWithCopyWarning: \n",
      "A value is trying to be set on a copy of a slice from a DataFrame.\n",
      "Try using .loc[row_indexer,col_indexer] = value instead\n",
      "\n",
      "See the caveats in the documentation: https://pandas.pydata.org/pandas-docs/stable/user_guide/indexing.html#returning-a-view-versus-a-copy\n",
      "  \n"
     ]
    }
   ],
   "source": [
    "for c in to_float:\n",
    "    us_census[c] = pd.to_numeric(us_census[c], errors = 'ignore')"
   ]
  },
  {
   "cell_type": "code",
   "execution_count": 82,
   "id": "e2c0411d",
   "metadata": {
    "execution": {
     "iopub.execute_input": "2022-12-21T06:31:17.747214Z",
     "iopub.status.busy": "2022-12-21T06:31:17.746799Z",
     "iopub.status.idle": "2022-12-21T06:31:17.766626Z",
     "shell.execute_reply": "2022-12-21T06:31:17.765638Z"
    },
    "papermill": {
     "duration": 0.064169,
     "end_time": "2022-12-21T06:31:17.769729",
     "exception": false,
     "start_time": "2022-12-21T06:31:17.705560",
     "status": "completed"
    },
    "tags": []
   },
   "outputs": [
    {
     "data": {
      "text/html": [
       "<div>\n",
       "<style scoped>\n",
       "    .dataframe tbody tr th:only-of-type {\n",
       "        vertical-align: middle;\n",
       "    }\n",
       "\n",
       "    .dataframe tbody tr th {\n",
       "        vertical-align: top;\n",
       "    }\n",
       "\n",
       "    .dataframe thead th {\n",
       "        text-align: right;\n",
       "    }\n",
       "</style>\n",
       "<table border=\"1\" class=\"dataframe\">\n",
       "  <thead>\n",
       "    <tr style=\"text-align: right;\">\n",
       "      <th>Fact</th>\n",
       "      <th>state</th>\n",
       "      <th>Population estimates, July 1, 2016,  (V2016)</th>\n",
       "      <th>Population estimates base, April 1, 2010,  (V2016)</th>\n",
       "      <th>Population, percent change - April 1, 2010 (estimates base) to July 1, 2016,  (V2016)</th>\n",
       "      <th>Population, Census, April 1, 2010</th>\n",
       "      <th>Persons under 5 years, percent, July 1, 2016,  (V2016)</th>\n",
       "      <th>Persons under 5 years, percent, April 1, 2010</th>\n",
       "      <th>Persons under 18 years, percent, July 1, 2016,  (V2016)</th>\n",
       "      <th>Persons under 18 years, percent, April 1, 2010</th>\n",
       "      <th>Persons 65 years and over, percent,  July 1, 2016,  (V2016)</th>\n",
       "      <th>...</th>\n",
       "      <th>Total nonemployer establishments, 2015</th>\n",
       "      <th>All firms, 2012</th>\n",
       "      <th>Men-owned firms, 2012</th>\n",
       "      <th>Women-owned firms, 2012</th>\n",
       "      <th>Minority-owned firms, 2012</th>\n",
       "      <th>Nonminority-owned firms, 2012</th>\n",
       "      <th>Veteran-owned firms, 2012</th>\n",
       "      <th>Nonveteran-owned firms, 2012</th>\n",
       "      <th>Population per square mile, 2010</th>\n",
       "      <th>Land area in square miles, 2010</th>\n",
       "    </tr>\n",
       "  </thead>\n",
       "  <tbody>\n",
       "    <tr>\n",
       "      <th>0</th>\n",
       "      <td>Alabama</td>\n",
       "      <td>4863300</td>\n",
       "      <td>4780131</td>\n",
       "      <td>170</td>\n",
       "      <td>4779736</td>\n",
       "      <td>600</td>\n",
       "      <td>640</td>\n",
       "      <td>2260</td>\n",
       "      <td>2370</td>\n",
       "      <td>1610</td>\n",
       "      <td>...</td>\n",
       "      <td>322025</td>\n",
       "      <td>374153</td>\n",
       "      <td>203604</td>\n",
       "      <td>137630</td>\n",
       "      <td>92219</td>\n",
       "      <td>272651</td>\n",
       "      <td>41943</td>\n",
       "      <td>316984</td>\n",
       "      <td>944</td>\n",
       "      <td>5064533</td>\n",
       "    </tr>\n",
       "    <tr>\n",
       "      <th>1</th>\n",
       "      <td>Alaska</td>\n",
       "      <td>741894</td>\n",
       "      <td>710249</td>\n",
       "      <td>450</td>\n",
       "      <td>710231</td>\n",
       "      <td>730</td>\n",
       "      <td>760</td>\n",
       "      <td>2520</td>\n",
       "      <td>2640</td>\n",
       "      <td>1040</td>\n",
       "      <td>...</td>\n",
       "      <td>55521</td>\n",
       "      <td>68032</td>\n",
       "      <td>35402</td>\n",
       "      <td>22141</td>\n",
       "      <td>13688</td>\n",
       "      <td>51147</td>\n",
       "      <td>7953</td>\n",
       "      <td>56091</td>\n",
       "      <td>12</td>\n",
       "      <td>57064095</td>\n",
       "    </tr>\n",
       "    <tr>\n",
       "      <th>2</th>\n",
       "      <td>Arizona</td>\n",
       "      <td>6931071</td>\n",
       "      <td>6392301</td>\n",
       "      <td>840</td>\n",
       "      <td>6392017</td>\n",
       "      <td>630</td>\n",
       "      <td>710</td>\n",
       "      <td>2350</td>\n",
       "      <td>2550</td>\n",
       "      <td>1690</td>\n",
       "      <td>...</td>\n",
       "      <td>451951</td>\n",
       "      <td>499926</td>\n",
       "      <td>245243</td>\n",
       "      <td>182425</td>\n",
       "      <td>135313</td>\n",
       "      <td>344981</td>\n",
       "      <td>46780</td>\n",
       "      <td>427582</td>\n",
       "      <td>563</td>\n",
       "      <td>11359408</td>\n",
       "    </tr>\n",
       "    <tr>\n",
       "      <th>3</th>\n",
       "      <td>Arkansas</td>\n",
       "      <td>2988248</td>\n",
       "      <td>2916025</td>\n",
       "      <td>250</td>\n",
       "      <td>2915918</td>\n",
       "      <td>640</td>\n",
       "      <td>680</td>\n",
       "      <td>2360</td>\n",
       "      <td>2440</td>\n",
       "      <td>1630</td>\n",
       "      <td>...</td>\n",
       "      <td>198380</td>\n",
       "      <td>231959</td>\n",
       "      <td>123158</td>\n",
       "      <td>75962</td>\n",
       "      <td>35982</td>\n",
       "      <td>189029</td>\n",
       "      <td>25915</td>\n",
       "      <td>192988</td>\n",
       "      <td>56</td>\n",
       "      <td>5203548</td>\n",
       "    </tr>\n",
       "    <tr>\n",
       "      <th>4</th>\n",
       "      <td>California</td>\n",
       "      <td>39250017</td>\n",
       "      <td>37254522</td>\n",
       "      <td>540</td>\n",
       "      <td>37253956</td>\n",
       "      <td>630</td>\n",
       "      <td>680</td>\n",
       "      <td>2320</td>\n",
       "      <td>2500</td>\n",
       "      <td>1360</td>\n",
       "      <td>...</td>\n",
       "      <td>3206958</td>\n",
       "      <td>3548449</td>\n",
       "      <td>1852580</td>\n",
       "      <td>1320085</td>\n",
       "      <td>1619857</td>\n",
       "      <td>1819107</td>\n",
       "      <td>252377</td>\n",
       "      <td>3176341</td>\n",
       "      <td>2391</td>\n",
       "      <td>15577922</td>\n",
       "    </tr>\n",
       "  </tbody>\n",
       "</table>\n",
       "<p>5 rows × 65 columns</p>\n",
       "</div>"
      ],
      "text/plain": [
       "Fact       state  Population estimates, July 1, 2016,  (V2016)  \\\n",
       "0        Alabama                                       4863300   \n",
       "1         Alaska                                        741894   \n",
       "2        Arizona                                       6931071   \n",
       "3       Arkansas                                       2988248   \n",
       "4     California                                      39250017   \n",
       "\n",
       "Fact  Population estimates base, April 1, 2010,  (V2016)  \\\n",
       "0                                               4780131    \n",
       "1                                                710249    \n",
       "2                                               6392301    \n",
       "3                                               2916025    \n",
       "4                                              37254522    \n",
       "\n",
       "Fact  Population, percent change - April 1, 2010 (estimates base) to July 1, 2016,  (V2016)  \\\n",
       "0                                                   170                                       \n",
       "1                                                   450                                       \n",
       "2                                                   840                                       \n",
       "3                                                   250                                       \n",
       "4                                                   540                                       \n",
       "\n",
       "Fact  Population, Census, April 1, 2010  \\\n",
       "0                               4779736   \n",
       "1                                710231   \n",
       "2                               6392017   \n",
       "3                               2915918   \n",
       "4                              37253956   \n",
       "\n",
       "Fact  Persons under 5 years, percent, July 1, 2016,  (V2016)  \\\n",
       "0                                                   600        \n",
       "1                                                   730        \n",
       "2                                                   630        \n",
       "3                                                   640        \n",
       "4                                                   630        \n",
       "\n",
       "Fact  Persons under 5 years, percent, April 1, 2010  \\\n",
       "0                                               640   \n",
       "1                                               760   \n",
       "2                                               710   \n",
       "3                                               680   \n",
       "4                                               680   \n",
       "\n",
       "Fact  Persons under 18 years, percent, July 1, 2016,  (V2016)  \\\n",
       "0                                                  2260         \n",
       "1                                                  2520         \n",
       "2                                                  2350         \n",
       "3                                                  2360         \n",
       "4                                                  2320         \n",
       "\n",
       "Fact  Persons under 18 years, percent, April 1, 2010  \\\n",
       "0                                               2370   \n",
       "1                                               2640   \n",
       "2                                               2550   \n",
       "3                                               2440   \n",
       "4                                               2500   \n",
       "\n",
       "Fact  Persons 65 years and over, percent,  July 1, 2016,  (V2016)  ...  \\\n",
       "0                                                  1610            ...   \n",
       "1                                                  1040            ...   \n",
       "2                                                  1690            ...   \n",
       "3                                                  1630            ...   \n",
       "4                                                  1360            ...   \n",
       "\n",
       "Fact  Total nonemployer establishments, 2015  All firms, 2012  \\\n",
       "0                                     322025           374153   \n",
       "1                                      55521            68032   \n",
       "2                                     451951           499926   \n",
       "3                                     198380           231959   \n",
       "4                                    3206958          3548449   \n",
       "\n",
       "Fact  Men-owned firms, 2012  Women-owned firms, 2012  \\\n",
       "0                    203604                   137630   \n",
       "1                     35402                    22141   \n",
       "2                    245243                   182425   \n",
       "3                    123158                    75962   \n",
       "4                   1852580                  1320085   \n",
       "\n",
       "Fact  Minority-owned firms, 2012  Nonminority-owned firms, 2012  \\\n",
       "0                          92219                         272651   \n",
       "1                          13688                          51147   \n",
       "2                         135313                         344981   \n",
       "3                          35982                         189029   \n",
       "4                        1619857                        1819107   \n",
       "\n",
       "Fact  Veteran-owned firms, 2012  Nonveteran-owned firms, 2012  \\\n",
       "0                         41943                        316984   \n",
       "1                          7953                         56091   \n",
       "2                         46780                        427582   \n",
       "3                         25915                        192988   \n",
       "4                        252377                       3176341   \n",
       "\n",
       "Fact  Population per square mile, 2010  Land area in square miles, 2010  \n",
       "0                                  944                          5064533  \n",
       "1                                   12                         57064095  \n",
       "2                                  563                         11359408  \n",
       "3                                   56                          5203548  \n",
       "4                                 2391                         15577922  \n",
       "\n",
       "[5 rows x 65 columns]"
      ]
     },
     "execution_count": 82,
     "metadata": {},
     "output_type": "execute_result"
    }
   ],
   "source": [
    "us_census.head()"
   ]
  },
  {
   "cell_type": "code",
   "execution_count": 83,
   "id": "dcd43e61",
   "metadata": {
    "execution": {
     "iopub.execute_input": "2022-12-21T06:31:17.851181Z",
     "iopub.status.busy": "2022-12-21T06:31:17.850723Z",
     "iopub.status.idle": "2022-12-21T06:31:17.860620Z",
     "shell.execute_reply": "2022-12-21T06:31:17.859597Z"
    },
    "papermill": {
     "duration": 0.053324,
     "end_time": "2022-12-21T06:31:17.863086",
     "exception": false,
     "start_time": "2022-12-21T06:31:17.809762",
     "status": "completed"
    },
    "tags": []
   },
   "outputs": [
    {
     "data": {
      "text/plain": [
       "Fact\n",
       "state                                                                                    object\n",
       "Population estimates, July 1, 2016,  (V2016)                                              int64\n",
       "Population estimates base, April 1, 2010,  (V2016)                                        int64\n",
       "Population, percent change - April 1, 2010 (estimates base) to July 1, 2016,  (V2016)     int64\n",
       "Population, Census, April 1, 2010                                                         int64\n",
       "                                                                                          ...  \n",
       "Nonminority-owned firms, 2012                                                             int64\n",
       "Veteran-owned firms, 2012                                                                 int64\n",
       "Nonveteran-owned firms, 2012                                                              int64\n",
       "Population per square mile, 2010                                                          int64\n",
       "Land area in square miles, 2010                                                           int64\n",
       "Length: 65, dtype: object"
      ]
     },
     "execution_count": 83,
     "metadata": {},
     "output_type": "execute_result"
    }
   ],
   "source": [
    "us_census.dtypes"
   ]
  },
  {
   "cell_type": "code",
   "execution_count": 84,
   "id": "2e018b7a",
   "metadata": {
    "execution": {
     "iopub.execute_input": "2022-12-21T06:31:17.946369Z",
     "iopub.status.busy": "2022-12-21T06:31:17.945049Z",
     "iopub.status.idle": "2022-12-21T06:31:17.968529Z",
     "shell.execute_reply": "2022-12-21T06:31:17.967667Z"
    },
    "papermill": {
     "duration": 0.0681,
     "end_time": "2022-12-21T06:31:17.971732",
     "exception": false,
     "start_time": "2022-12-21T06:31:17.903632",
     "status": "completed"
    },
    "tags": []
   },
   "outputs": [
    {
     "name": "stdout",
     "output_type": "stream",
     "text": [
      "<class 'pandas.core.frame.DataFrame'>\n",
      "RangeIndex: 50 entries, 0 to 49\n",
      "Data columns (total 65 columns):\n",
      " #   Column                                                                                  Non-Null Count  Dtype  \n",
      "---  ------                                                                                  --------------  -----  \n",
      " 0   state                                                                                   50 non-null     object \n",
      " 1   Population estimates, July 1, 2016,  (V2016)                                            50 non-null     int64  \n",
      " 2   Population estimates base, April 1, 2010,  (V2016)                                      50 non-null     int64  \n",
      " 3   Population, percent change - April 1, 2010 (estimates base) to July 1, 2016,  (V2016)   50 non-null     int64  \n",
      " 4   Population, Census, April 1, 2010                                                       50 non-null     int64  \n",
      " 5   Persons under 5 years, percent, July 1, 2016,  (V2016)                                  50 non-null     int64  \n",
      " 6   Persons under 5 years, percent, April 1, 2010                                           50 non-null     int64  \n",
      " 7   Persons under 18 years, percent, July 1, 2016,  (V2016)                                 50 non-null     int64  \n",
      " 8   Persons under 18 years, percent, April 1, 2010                                          50 non-null     int64  \n",
      " 9   Persons 65 years and over, percent,  July 1, 2016,  (V2016)                             50 non-null     int64  \n",
      " 10  Persons 65 years and over, percent, April 1, 2010                                       50 non-null     int64  \n",
      " 11  Female persons, percent,  July 1, 2016,  (V2016)                                        50 non-null     int64  \n",
      " 12  Female persons, percent, April 1, 2010                                                  50 non-null     int64  \n",
      " 13  White alone, percent, July 1, 2016,  (V2016)                                            50 non-null     int64  \n",
      " 14  Black or African American alone, percent, July 1, 2016,  (V2016)                        50 non-null     int64  \n",
      " 15  American Indian and Alaska Native alone, percent, July 1, 2016,  (V2016)                50 non-null     int64  \n",
      " 16  Asian alone, percent, July 1, 2016,  (V2016)                                            50 non-null     int64  \n",
      " 17  Native Hawaiian and Other Pacific Islander alone, percent, July 1, 2016,  (V2016)       46 non-null     float64\n",
      " 18  Two or More Races, percent, July 1, 2016,  (V2016)                                      50 non-null     int64  \n",
      " 19  Hispanic or Latino, percent, July 1, 2016,  (V2016)                                     50 non-null     int64  \n",
      " 20  White alone, not Hispanic or Latino, percent, July 1, 2016,  (V2016)                    50 non-null     int64  \n",
      " 21  Veterans, 2011-2015                                                                     50 non-null     int64  \n",
      " 22  Foreign born persons, percent, 2011-2015                                                50 non-null     int64  \n",
      " 23  Housing units,  July 1, 2016,  (V2016)                                                  50 non-null     int64  \n",
      " 24  Housing units, April 1, 2010                                                            50 non-null     int64  \n",
      " 25  Owner-occupied housing unit rate, 2011-2015                                             50 non-null     int64  \n",
      " 26  Median value of owner-occupied housing units, 2011-2015                                 50 non-null     int64  \n",
      " 27  Median selected monthly owner costs -with a mortgage, 2011-2015                         50 non-null     int64  \n",
      " 28  Median selected monthly owner costs -without a mortgage, 2011-2015                      50 non-null     int64  \n",
      " 29  Median gross rent, 2011-2015                                                            50 non-null     int64  \n",
      " 30  Building permits, 2016                                                                  50 non-null     int64  \n",
      " 31  Households, 2011-2015                                                                   50 non-null     int64  \n",
      " 32  Persons per household, 2011-2015                                                        50 non-null     int64  \n",
      " 33  Living in same house 1 year ago, percent of persons age 1 year+, 2011-2015              50 non-null     int64  \n",
      " 34  Language other than English spoken at home, percent of persons age 5 years+, 2011-2015  50 non-null     int64  \n",
      " 35  High school graduate or higher, percent of persons age 25 years+, 2011-2015             50 non-null     int64  \n",
      " 36  Bachelor's degree or higher, percent of persons age 25 years+, 2011-2015                50 non-null     int64  \n",
      " 37  With a disability, under age 65 years, percent, 2011-2015                               50 non-null     int64  \n",
      " 38  Persons  without health insurance, under age 65 years, percent                          50 non-null     int64  \n",
      " 39  In civilian labor force, total, percent of population age 16 years+, 2011-2015          50 non-null     int64  \n",
      " 40  In civilian labor force, female, percent of population age 16 years+, 2011-2015         50 non-null     int64  \n",
      " 41  Total accommodation and food services sales, 2012 ($1,000)                              50 non-null     int64  \n",
      " 42  Total health care and social assistance receipts/revenue, 2012 ($1,000)                 50 non-null     int64  \n",
      " 43  Total manufacturers shipments, 2012 ($1,000)                                            48 non-null     float64\n",
      " 44  Total merchant wholesaler sales, 2012 ($1,000)                                          50 non-null     int64  \n",
      " 45  Total retail sales, 2012 ($1,000)                                                       50 non-null     int64  \n",
      " 46  Total retail sales per capita, 2012                                                     50 non-null     int64  \n",
      " 47  Mean travel time to work (minutes), workers age 16 years+, 2011-2015                    50 non-null     int64  \n",
      " 48  Median household income (in 2015 dollars), 2011-2015                                    50 non-null     int64  \n",
      " 49  Per capita income in past 12 months (in 2015 dollars), 2011-2015                        50 non-null     int64  \n",
      " 50  Persons in poverty, percent                                                             50 non-null     int64  \n",
      " 51  Total employer establishments, 2015                                                     50 non-null     int64  \n",
      " 52  Total employment, 2015                                                                  50 non-null     int64  \n",
      " 53  Total annual payroll, 2015 ($1,000)                                                     50 non-null     int64  \n",
      " 54  Total employment, percent change, 2014-2015                                             49 non-null     float64\n",
      " 55  Total nonemployer establishments, 2015                                                  50 non-null     int64  \n",
      " 56  All firms, 2012                                                                         50 non-null     int64  \n",
      " 57  Men-owned firms, 2012                                                                   50 non-null     int64  \n",
      " 58  Women-owned firms, 2012                                                                 50 non-null     int64  \n",
      " 59  Minority-owned firms, 2012                                                              50 non-null     int64  \n",
      " 60  Nonminority-owned firms, 2012                                                           50 non-null     int64  \n",
      " 61  Veteran-owned firms, 2012                                                               50 non-null     int64  \n",
      " 62  Nonveteran-owned firms, 2012                                                            50 non-null     int64  \n",
      " 63  Population per square mile, 2010                                                        50 non-null     int64  \n",
      " 64  Land area in square miles, 2010                                                         50 non-null     int64  \n",
      "dtypes: float64(3), int64(61), object(1)\n",
      "memory usage: 25.5+ KB\n"
     ]
    }
   ],
   "source": [
    "us_census.info()"
   ]
  },
  {
   "cell_type": "code",
   "execution_count": 85,
   "id": "71c91a36",
   "metadata": {
    "execution": {
     "iopub.execute_input": "2022-12-21T06:31:18.054429Z",
     "iopub.status.busy": "2022-12-21T06:31:18.054043Z",
     "iopub.status.idle": "2022-12-21T06:31:18.070035Z",
     "shell.execute_reply": "2022-12-21T06:31:18.067801Z"
    },
    "papermill": {
     "duration": 0.061219,
     "end_time": "2022-12-21T06:31:18.073522",
     "exception": false,
     "start_time": "2022-12-21T06:31:18.012303",
     "status": "completed"
    },
    "tags": []
   },
   "outputs": [
    {
     "name": "stdout",
     "output_type": "stream",
     "text": [
      "<class 'pandas.core.frame.DataFrame'>\n",
      "RangeIndex: 12485 entries, 0 to 12484\n",
      "Data columns (total 27 columns):\n",
      " #   Column                     Non-Null Count  Dtype  \n",
      "---  ------                     --------------  -----  \n",
      " 0   month                      12485 non-null  object \n",
      " 1   state                      12485 non-null  object \n",
      " 2   permit                     12461 non-null  float64\n",
      " 3   permit_recheck             1100 non-null   float64\n",
      " 4   handgun                    12465 non-null  float64\n",
      " 5   long_gun                   12466 non-null  float64\n",
      " 6   other                      5500 non-null   float64\n",
      " 7   multiple                   12485 non-null  int64  \n",
      " 8   admin                      12462 non-null  float64\n",
      " 9   prepawn_handgun            10542 non-null  float64\n",
      " 10  prepawn_long_gun           10540 non-null  float64\n",
      " 11  prepawn_other              5115 non-null   float64\n",
      " 12  redemption_handgun         10545 non-null  float64\n",
      " 13  redemption_long_gun        10544 non-null  float64\n",
      " 14  redemption_other           5115 non-null   float64\n",
      " 15  returned_handgun           2200 non-null   float64\n",
      " 16  returned_long_gun          2145 non-null   float64\n",
      " 17  returned_other             1815 non-null   float64\n",
      " 18  rentals_handgun            990 non-null    float64\n",
      " 19  rentals_long_gun           825 non-null    float64\n",
      " 20  private_sale_handgun       2750 non-null   float64\n",
      " 21  private_sale_long_gun      2750 non-null   float64\n",
      " 22  private_sale_other         2750 non-null   float64\n",
      " 23  return_to_seller_handgun   2475 non-null   float64\n",
      " 24  return_to_seller_long_gun  2750 non-null   float64\n",
      " 25  return_to_seller_other     2255 non-null   float64\n",
      " 26  totals                     12485 non-null  int64  \n",
      "dtypes: float64(23), int64(2), object(2)\n",
      "memory usage: 2.6+ MB\n"
     ]
    }
   ],
   "source": [
    "gun_data.info()"
   ]
  },
  {
   "cell_type": "code",
   "execution_count": 86,
   "id": "7aab1dba",
   "metadata": {
    "execution": {
     "iopub.execute_input": "2022-12-21T06:31:18.156994Z",
     "iopub.status.busy": "2022-12-21T06:31:18.156577Z",
     "iopub.status.idle": "2022-12-21T06:31:18.182994Z",
     "shell.execute_reply": "2022-12-21T06:31:18.181888Z"
    },
    "papermill": {
     "duration": 0.071199,
     "end_time": "2022-12-21T06:31:18.185477",
     "exception": false,
     "start_time": "2022-12-21T06:31:18.114278",
     "status": "completed"
    },
    "tags": []
   },
   "outputs": [
    {
     "data": {
      "text/html": [
       "<div>\n",
       "<style scoped>\n",
       "    .dataframe tbody tr th:only-of-type {\n",
       "        vertical-align: middle;\n",
       "    }\n",
       "\n",
       "    .dataframe tbody tr th {\n",
       "        vertical-align: top;\n",
       "    }\n",
       "\n",
       "    .dataframe thead th {\n",
       "        text-align: right;\n",
       "    }\n",
       "</style>\n",
       "<table border=\"1\" class=\"dataframe\">\n",
       "  <thead>\n",
       "    <tr style=\"text-align: right;\">\n",
       "      <th></th>\n",
       "      <th>month</th>\n",
       "      <th>state</th>\n",
       "      <th>permit</th>\n",
       "      <th>permit_recheck</th>\n",
       "      <th>handgun</th>\n",
       "      <th>long_gun</th>\n",
       "      <th>other</th>\n",
       "      <th>multiple</th>\n",
       "      <th>admin</th>\n",
       "      <th>prepawn_handgun</th>\n",
       "      <th>...</th>\n",
       "      <th>returned_other</th>\n",
       "      <th>rentals_handgun</th>\n",
       "      <th>rentals_long_gun</th>\n",
       "      <th>private_sale_handgun</th>\n",
       "      <th>private_sale_long_gun</th>\n",
       "      <th>private_sale_other</th>\n",
       "      <th>return_to_seller_handgun</th>\n",
       "      <th>return_to_seller_long_gun</th>\n",
       "      <th>return_to_seller_other</th>\n",
       "      <th>totals</th>\n",
       "    </tr>\n",
       "  </thead>\n",
       "  <tbody>\n",
       "    <tr>\n",
       "      <th>0</th>\n",
       "      <td>2017-09</td>\n",
       "      <td>Alabama</td>\n",
       "      <td>16717.0</td>\n",
       "      <td>0.0</td>\n",
       "      <td>5734.0</td>\n",
       "      <td>6320.0</td>\n",
       "      <td>221.0</td>\n",
       "      <td>317</td>\n",
       "      <td>0.0</td>\n",
       "      <td>15.0</td>\n",
       "      <td>...</td>\n",
       "      <td>0.0</td>\n",
       "      <td>0.0</td>\n",
       "      <td>0.0</td>\n",
       "      <td>9.0</td>\n",
       "      <td>16.0</td>\n",
       "      <td>3.0</td>\n",
       "      <td>0.0</td>\n",
       "      <td>0.0</td>\n",
       "      <td>3.0</td>\n",
       "      <td>32019</td>\n",
       "    </tr>\n",
       "    <tr>\n",
       "      <th>1</th>\n",
       "      <td>2017-09</td>\n",
       "      <td>Alaska</td>\n",
       "      <td>209.0</td>\n",
       "      <td>2.0</td>\n",
       "      <td>2320.0</td>\n",
       "      <td>2930.0</td>\n",
       "      <td>219.0</td>\n",
       "      <td>160</td>\n",
       "      <td>0.0</td>\n",
       "      <td>5.0</td>\n",
       "      <td>...</td>\n",
       "      <td>0.0</td>\n",
       "      <td>0.0</td>\n",
       "      <td>0.0</td>\n",
       "      <td>17.0</td>\n",
       "      <td>24.0</td>\n",
       "      <td>1.0</td>\n",
       "      <td>0.0</td>\n",
       "      <td>0.0</td>\n",
       "      <td>0.0</td>\n",
       "      <td>6303</td>\n",
       "    </tr>\n",
       "  </tbody>\n",
       "</table>\n",
       "<p>2 rows × 27 columns</p>\n",
       "</div>"
      ],
      "text/plain": [
       "     month    state   permit  permit_recheck  handgun  long_gun  other  \\\n",
       "0  2017-09  Alabama  16717.0             0.0   5734.0    6320.0  221.0   \n",
       "1  2017-09   Alaska    209.0             2.0   2320.0    2930.0  219.0   \n",
       "\n",
       "   multiple  admin  prepawn_handgun  ...  returned_other  rentals_handgun  \\\n",
       "0       317    0.0             15.0  ...             0.0              0.0   \n",
       "1       160    0.0              5.0  ...             0.0              0.0   \n",
       "\n",
       "   rentals_long_gun  private_sale_handgun  private_sale_long_gun  \\\n",
       "0               0.0                   9.0                   16.0   \n",
       "1               0.0                  17.0                   24.0   \n",
       "\n",
       "   private_sale_other  return_to_seller_handgun  return_to_seller_long_gun  \\\n",
       "0                 3.0                       0.0                        0.0   \n",
       "1                 1.0                       0.0                        0.0   \n",
       "\n",
       "   return_to_seller_other  totals  \n",
       "0                     3.0   32019  \n",
       "1                     0.0    6303  \n",
       "\n",
       "[2 rows x 27 columns]"
      ]
     },
     "execution_count": 86,
     "metadata": {},
     "output_type": "execute_result"
    }
   ],
   "source": [
    "gun_data.head(2)"
   ]
  },
  {
   "cell_type": "markdown",
   "id": "c2e3ca2a",
   "metadata": {
    "papermill": {
     "duration": 0.040669,
     "end_time": "2022-12-21T06:31:18.267558",
     "exception": false,
     "start_time": "2022-12-21T06:31:18.226889",
     "status": "completed"
    },
    "tags": []
   },
   "source": [
    "### Obtaining Year and Month column"
   ]
  },
  {
   "cell_type": "code",
   "execution_count": 87,
   "id": "bde5b3fe",
   "metadata": {
    "execution": {
     "iopub.execute_input": "2022-12-21T06:31:18.351908Z",
     "iopub.status.busy": "2022-12-21T06:31:18.351469Z",
     "iopub.status.idle": "2022-12-21T06:31:18.378442Z",
     "shell.execute_reply": "2022-12-21T06:31:18.376945Z"
    },
    "papermill": {
     "duration": 0.0725,
     "end_time": "2022-12-21T06:31:18.380981",
     "exception": false,
     "start_time": "2022-12-21T06:31:18.308481",
     "status": "completed"
    },
    "tags": []
   },
   "outputs": [],
   "source": [
    "split_column = ['month']\n",
    "for c in split_column:\n",
    "    gun_data['new_year']  = gun_data[c].apply(lambda x: int(x.split(\"-\")[0].strip()))\n",
    "    gun_data['new_month'] = gun_data[c].apply(lambda x: int(x.split(\"-\")[1].strip()))"
   ]
  },
  {
   "cell_type": "code",
   "execution_count": 88,
   "id": "391e4c08",
   "metadata": {
    "execution": {
     "iopub.execute_input": "2022-12-21T06:31:18.466688Z",
     "iopub.status.busy": "2022-12-21T06:31:18.466301Z",
     "iopub.status.idle": "2022-12-21T06:31:18.494185Z",
     "shell.execute_reply": "2022-12-21T06:31:18.492443Z"
    },
    "papermill": {
     "duration": 0.073368,
     "end_time": "2022-12-21T06:31:18.496695",
     "exception": false,
     "start_time": "2022-12-21T06:31:18.423327",
     "status": "completed"
    },
    "tags": []
   },
   "outputs": [
    {
     "data": {
      "text/html": [
       "<div>\n",
       "<style scoped>\n",
       "    .dataframe tbody tr th:only-of-type {\n",
       "        vertical-align: middle;\n",
       "    }\n",
       "\n",
       "    .dataframe tbody tr th {\n",
       "        vertical-align: top;\n",
       "    }\n",
       "\n",
       "    .dataframe thead th {\n",
       "        text-align: right;\n",
       "    }\n",
       "</style>\n",
       "<table border=\"1\" class=\"dataframe\">\n",
       "  <thead>\n",
       "    <tr style=\"text-align: right;\">\n",
       "      <th></th>\n",
       "      <th>month</th>\n",
       "      <th>state</th>\n",
       "      <th>permit</th>\n",
       "      <th>permit_recheck</th>\n",
       "      <th>handgun</th>\n",
       "      <th>long_gun</th>\n",
       "      <th>other</th>\n",
       "      <th>multiple</th>\n",
       "      <th>admin</th>\n",
       "      <th>prepawn_handgun</th>\n",
       "      <th>...</th>\n",
       "      <th>rentals_long_gun</th>\n",
       "      <th>private_sale_handgun</th>\n",
       "      <th>private_sale_long_gun</th>\n",
       "      <th>private_sale_other</th>\n",
       "      <th>return_to_seller_handgun</th>\n",
       "      <th>return_to_seller_long_gun</th>\n",
       "      <th>return_to_seller_other</th>\n",
       "      <th>totals</th>\n",
       "      <th>new_year</th>\n",
       "      <th>new_month</th>\n",
       "    </tr>\n",
       "  </thead>\n",
       "  <tbody>\n",
       "    <tr>\n",
       "      <th>0</th>\n",
       "      <td>2017-09</td>\n",
       "      <td>Alabama</td>\n",
       "      <td>16717.0</td>\n",
       "      <td>0.0</td>\n",
       "      <td>5734.0</td>\n",
       "      <td>6320.0</td>\n",
       "      <td>221.0</td>\n",
       "      <td>317</td>\n",
       "      <td>0.0</td>\n",
       "      <td>15.0</td>\n",
       "      <td>...</td>\n",
       "      <td>0.0</td>\n",
       "      <td>9.0</td>\n",
       "      <td>16.0</td>\n",
       "      <td>3.0</td>\n",
       "      <td>0.0</td>\n",
       "      <td>0.0</td>\n",
       "      <td>3.0</td>\n",
       "      <td>32019</td>\n",
       "      <td>2017</td>\n",
       "      <td>9</td>\n",
       "    </tr>\n",
       "    <tr>\n",
       "      <th>1</th>\n",
       "      <td>2017-09</td>\n",
       "      <td>Alaska</td>\n",
       "      <td>209.0</td>\n",
       "      <td>2.0</td>\n",
       "      <td>2320.0</td>\n",
       "      <td>2930.0</td>\n",
       "      <td>219.0</td>\n",
       "      <td>160</td>\n",
       "      <td>0.0</td>\n",
       "      <td>5.0</td>\n",
       "      <td>...</td>\n",
       "      <td>0.0</td>\n",
       "      <td>17.0</td>\n",
       "      <td>24.0</td>\n",
       "      <td>1.0</td>\n",
       "      <td>0.0</td>\n",
       "      <td>0.0</td>\n",
       "      <td>0.0</td>\n",
       "      <td>6303</td>\n",
       "      <td>2017</td>\n",
       "      <td>9</td>\n",
       "    </tr>\n",
       "    <tr>\n",
       "      <th>2</th>\n",
       "      <td>2017-09</td>\n",
       "      <td>Arizona</td>\n",
       "      <td>5069.0</td>\n",
       "      <td>382.0</td>\n",
       "      <td>11063.0</td>\n",
       "      <td>7946.0</td>\n",
       "      <td>920.0</td>\n",
       "      <td>631</td>\n",
       "      <td>0.0</td>\n",
       "      <td>13.0</td>\n",
       "      <td>...</td>\n",
       "      <td>0.0</td>\n",
       "      <td>38.0</td>\n",
       "      <td>12.0</td>\n",
       "      <td>2.0</td>\n",
       "      <td>0.0</td>\n",
       "      <td>0.0</td>\n",
       "      <td>0.0</td>\n",
       "      <td>28394</td>\n",
       "      <td>2017</td>\n",
       "      <td>9</td>\n",
       "    </tr>\n",
       "  </tbody>\n",
       "</table>\n",
       "<p>3 rows × 29 columns</p>\n",
       "</div>"
      ],
      "text/plain": [
       "     month    state   permit  permit_recheck  handgun  long_gun  other  \\\n",
       "0  2017-09  Alabama  16717.0             0.0   5734.0    6320.0  221.0   \n",
       "1  2017-09   Alaska    209.0             2.0   2320.0    2930.0  219.0   \n",
       "2  2017-09  Arizona   5069.0           382.0  11063.0    7946.0  920.0   \n",
       "\n",
       "   multiple  admin  prepawn_handgun  ...  rentals_long_gun  \\\n",
       "0       317    0.0             15.0  ...               0.0   \n",
       "1       160    0.0              5.0  ...               0.0   \n",
       "2       631    0.0             13.0  ...               0.0   \n",
       "\n",
       "   private_sale_handgun  private_sale_long_gun  private_sale_other  \\\n",
       "0                   9.0                   16.0                 3.0   \n",
       "1                  17.0                   24.0                 1.0   \n",
       "2                  38.0                   12.0                 2.0   \n",
       "\n",
       "   return_to_seller_handgun  return_to_seller_long_gun  \\\n",
       "0                       0.0                        0.0   \n",
       "1                       0.0                        0.0   \n",
       "2                       0.0                        0.0   \n",
       "\n",
       "   return_to_seller_other  totals  new_year  new_month  \n",
       "0                     3.0   32019      2017          9  \n",
       "1                     0.0    6303      2017          9  \n",
       "2                     0.0   28394      2017          9  \n",
       "\n",
       "[3 rows x 29 columns]"
      ]
     },
     "execution_count": 88,
     "metadata": {},
     "output_type": "execute_result"
    }
   ],
   "source": [
    "gun_data.head(3)"
   ]
  },
  {
   "cell_type": "code",
   "execution_count": 89,
   "id": "08e30235",
   "metadata": {
    "execution": {
     "iopub.execute_input": "2022-12-21T06:31:18.581530Z",
     "iopub.status.busy": "2022-12-21T06:31:18.581161Z",
     "iopub.status.idle": "2022-12-21T06:31:18.589106Z",
     "shell.execute_reply": "2022-12-21T06:31:18.588117Z"
    },
    "papermill": {
     "duration": 0.051984,
     "end_time": "2022-12-21T06:31:18.590938",
     "exception": false,
     "start_time": "2022-12-21T06:31:18.538954",
     "status": "completed"
    },
    "tags": []
   },
   "outputs": [
    {
     "data": {
      "text/plain": [
       "month                         object\n",
       "state                         object\n",
       "permit                       float64\n",
       "permit_recheck               float64\n",
       "handgun                      float64\n",
       "long_gun                     float64\n",
       "other                        float64\n",
       "multiple                       int64\n",
       "admin                        float64\n",
       "prepawn_handgun              float64\n",
       "prepawn_long_gun             float64\n",
       "prepawn_other                float64\n",
       "redemption_handgun           float64\n",
       "redemption_long_gun          float64\n",
       "redemption_other             float64\n",
       "returned_handgun             float64\n",
       "returned_long_gun            float64\n",
       "returned_other               float64\n",
       "rentals_handgun              float64\n",
       "rentals_long_gun             float64\n",
       "private_sale_handgun         float64\n",
       "private_sale_long_gun        float64\n",
       "private_sale_other           float64\n",
       "return_to_seller_handgun     float64\n",
       "return_to_seller_long_gun    float64\n",
       "return_to_seller_other       float64\n",
       "totals                         int64\n",
       "new_year                       int64\n",
       "new_month                      int64\n",
       "dtype: object"
      ]
     },
     "execution_count": 89,
     "metadata": {},
     "output_type": "execute_result"
    }
   ],
   "source": [
    "gun_data.dtypes"
   ]
  },
  {
   "cell_type": "code",
   "execution_count": 90,
   "id": "8a12cc3b",
   "metadata": {
    "execution": {
     "iopub.execute_input": "2022-12-21T06:31:18.675679Z",
     "iopub.status.busy": "2022-12-21T06:31:18.674381Z",
     "iopub.status.idle": "2022-12-21T06:31:18.682959Z",
     "shell.execute_reply": "2022-12-21T06:31:18.682067Z"
    },
    "papermill": {
     "duration": 0.05308,
     "end_time": "2022-12-21T06:31:18.684705",
     "exception": false,
     "start_time": "2022-12-21T06:31:18.631625",
     "status": "completed"
    },
    "tags": []
   },
   "outputs": [
    {
     "data": {
      "text/plain": [
       "month                         object\n",
       "state                         object\n",
       "permit                       float64\n",
       "permit_recheck               float64\n",
       "handgun                      float64\n",
       "long_gun                     float64\n",
       "other                        float64\n",
       "multiple                       int64\n",
       "admin                        float64\n",
       "prepawn_handgun              float64\n",
       "prepawn_long_gun             float64\n",
       "prepawn_other                float64\n",
       "redemption_handgun           float64\n",
       "redemption_long_gun          float64\n",
       "redemption_other             float64\n",
       "returned_handgun             float64\n",
       "returned_long_gun            float64\n",
       "returned_other               float64\n",
       "rentals_handgun              float64\n",
       "rentals_long_gun             float64\n",
       "private_sale_handgun         float64\n",
       "private_sale_long_gun        float64\n",
       "private_sale_other           float64\n",
       "return_to_seller_handgun     float64\n",
       "return_to_seller_long_gun    float64\n",
       "return_to_seller_other       float64\n",
       "totals                         int64\n",
       "new_year                       int64\n",
       "new_month                      int64\n",
       "dtype: object"
      ]
     },
     "execution_count": 90,
     "metadata": {},
     "output_type": "execute_result"
    }
   ],
   "source": [
    "gun_data.dtypes"
   ]
  },
  {
   "cell_type": "markdown",
   "id": "6822d4f4",
   "metadata": {
    "papermill": {
     "duration": 0.040495,
     "end_time": "2022-12-21T06:31:18.765924",
     "exception": false,
     "start_time": "2022-12-21T06:31:18.725429",
     "status": "completed"
    },
    "tags": []
   },
   "source": [
    "## Population\n",
    "\n",
    "\n",
    "- Population estimates, July 1, 2016,  (V2016) - April 1, 2010,  (V2016)\n",
    "- Population, percent change - April 1, 2010 (estimates base) to July 1, 2016,  (V2016)\n",
    "- Population, Census, April 1, 2010\n",
    "\n",
    "\n",
    "## Age and Sex\n",
    "- Persons under 5 years, percent, July 1, 2016,  (V2016) - April 1, 2010\n",
    "- Persons under 18 years, percent, July 1, 2016,  (V2016) - April 1, 2010\n",
    "- Persons 65 years and over, percent,  July 1, 2016,  (V2016) - April 1, 2010\n",
    "- Female persons, percent,  July 1, 2016,  (V2016) - April 1, 2010\n",
    "\n",
    "\n",
    "\n",
    "## Race and Hispanic Origin\n",
    "- White alone, percent, July 1, 2016,  (V2016)\n",
    "- Black or African American alone, percent, July 1, 2016,  (V2016)\n",
    "- American Indian and Alaska Native alone, percent, July 1, 2016,  (V2016)\n",
    "- Asian alone, percent, July 1, 2016,  (V2016)\n",
    "- Native Hawaiian and Other Pacific Islander alone, percent, July 1, 2016,  (V2016)\n",
    "- Two or More Races, percent, July 1, 2016,  (V2016)\n",
    "- Hispanic or Latino, percent, July 1, 2016,  (V2016)\n",
    "- White alone, not Hispanic or Latino, percent, July 1, 2016,  (V2016)"
   ]
  },
  {
   "cell_type": "markdown",
   "id": "29d4d864",
   "metadata": {
    "papermill": {
     "duration": 0.041019,
     "end_time": "2022-12-21T06:31:18.848369",
     "exception": false,
     "start_time": "2022-12-21T06:31:18.807350",
     "status": "completed"
    },
    "tags": []
   },
   "source": [
    "## Families & Living Arrangements\n",
    "- Persons per household, 2011-2015\n",
    "- Living in same house 1 year ago, percent of persons age 1 year+, 2011-2015\n",
    "\n",
    "\n",
    "## Education\n",
    "- High school graduate or higher, percent of persons age 25 years+, 2011-2015\n",
    "- Bachelor's degree or higher, percent of persons age 25 years+, 2011-2015\n",
    "\n",
    "\n",
    "## Health\n",
    "- With a disability, under age 65 years, percent, 2011-2015"
   ]
  },
  {
   "cell_type": "markdown",
   "id": "df7bdc6f",
   "metadata": {
    "papermill": {
     "duration": 0.040388,
     "end_time": "2022-12-21T06:31:18.930197",
     "exception": false,
     "start_time": "2022-12-21T06:31:18.889809",
     "status": "completed"
    },
    "tags": []
   },
   "source": [
    "### counting the no of records within each region"
   ]
  },
  {
   "cell_type": "code",
   "execution_count": 91,
   "id": "76876cdc",
   "metadata": {
    "execution": {
     "iopub.execute_input": "2022-12-21T06:31:19.014720Z",
     "iopub.status.busy": "2022-12-21T06:31:19.014349Z",
     "iopub.status.idle": "2022-12-21T06:31:19.048287Z",
     "shell.execute_reply": "2022-12-21T06:31:19.045969Z"
    },
    "papermill": {
     "duration": 0.080871,
     "end_time": "2022-12-21T06:31:19.052017",
     "exception": false,
     "start_time": "2022-12-21T06:31:18.971146",
     "status": "completed"
    },
    "tags": []
   },
   "outputs": [
    {
     "data": {
      "text/plain": [
       "227"
      ]
     },
     "execution_count": 91,
     "metadata": {},
     "output_type": "execute_result"
    }
   ],
   "source": [
    "for i in West:\n",
    "    no_west =  gun_data[gun_data['state'] == i]\n",
    "\n",
    "    \n",
    "len(no_west['state'])"
   ]
  },
  {
   "cell_type": "code",
   "execution_count": 92,
   "id": "6faa6729",
   "metadata": {
    "execution": {
     "iopub.execute_input": "2022-12-21T06:31:19.156340Z",
     "iopub.status.busy": "2022-12-21T06:31:19.155951Z",
     "iopub.status.idle": "2022-12-21T06:31:19.187966Z",
     "shell.execute_reply": "2022-12-21T06:31:19.186057Z"
    },
    "papermill": {
     "duration": 0.090343,
     "end_time": "2022-12-21T06:31:19.190282",
     "exception": false,
     "start_time": "2022-12-21T06:31:19.099939",
     "status": "completed"
    },
    "tags": []
   },
   "outputs": [
    {
     "data": {
      "text/plain": [
       "227"
      ]
     },
     "execution_count": 92,
     "metadata": {},
     "output_type": "execute_result"
    }
   ],
   "source": [
    "for i in South:\n",
    "    no_south =  gun_data[gun_data['state'] == i]\n",
    "\n",
    "    \n",
    "len(no_south['state'])"
   ]
  },
  {
   "cell_type": "code",
   "execution_count": 93,
   "id": "0273f65e",
   "metadata": {
    "execution": {
     "iopub.execute_input": "2022-12-21T06:31:19.276442Z",
     "iopub.status.busy": "2022-12-21T06:31:19.276086Z",
     "iopub.status.idle": "2022-12-21T06:31:19.296679Z",
     "shell.execute_reply": "2022-12-21T06:31:19.295544Z"
    },
    "papermill": {
     "duration": 0.066354,
     "end_time": "2022-12-21T06:31:19.299214",
     "exception": false,
     "start_time": "2022-12-21T06:31:19.232860",
     "status": "completed"
    },
    "tags": []
   },
   "outputs": [
    {
     "data": {
      "text/plain": [
       "227"
      ]
     },
     "execution_count": 93,
     "metadata": {},
     "output_type": "execute_result"
    }
   ],
   "source": [
    "for i in Northeast:\n",
    "    no_NE =  gun_data[gun_data['state'] == i]\n",
    "\n",
    "    \n",
    "len(no_NE['state'])"
   ]
  },
  {
   "cell_type": "code",
   "execution_count": 94,
   "id": "20cf4158",
   "metadata": {
    "execution": {
     "iopub.execute_input": "2022-12-21T06:31:19.384376Z",
     "iopub.status.busy": "2022-12-21T06:31:19.384010Z",
     "iopub.status.idle": "2022-12-21T06:31:19.407672Z",
     "shell.execute_reply": "2022-12-21T06:31:19.406671Z"
    },
    "papermill": {
     "duration": 0.068608,
     "end_time": "2022-12-21T06:31:19.409651",
     "exception": false,
     "start_time": "2022-12-21T06:31:19.341043",
     "status": "completed"
    },
    "tags": []
   },
   "outputs": [
    {
     "data": {
      "text/plain": [
       "227"
      ]
     },
     "execution_count": 94,
     "metadata": {},
     "output_type": "execute_result"
    }
   ],
   "source": [
    "for i in Midwest:\n",
    "    no_MW =  gun_data[gun_data['state'] == i]\n",
    "\n",
    "    \n",
    "len(no_MW['state'])"
   ]
  },
  {
   "cell_type": "markdown",
   "id": "5035978d",
   "metadata": {
    "papermill": {
     "duration": 0.040865,
     "end_time": "2022-12-21T06:31:19.491916",
     "exception": false,
     "start_time": "2022-12-21T06:31:19.451051",
     "status": "completed"
    },
    "tags": []
   },
   "source": [
    "## Removal of non-us states"
   ]
  },
  {
   "cell_type": "code",
   "execution_count": 95,
   "id": "7d203be7",
   "metadata": {
    "execution": {
     "iopub.execute_input": "2022-12-21T06:31:19.576287Z",
     "iopub.status.busy": "2022-12-21T06:31:19.575926Z",
     "iopub.status.idle": "2022-12-21T06:31:19.583833Z",
     "shell.execute_reply": "2022-12-21T06:31:19.582614Z"
    },
    "papermill": {
     "duration": 0.052123,
     "end_time": "2022-12-21T06:31:19.585622",
     "exception": false,
     "start_time": "2022-12-21T06:31:19.533499",
     "status": "completed"
    },
    "tags": []
   },
   "outputs": [
    {
     "data": {
      "text/plain": [
       "55"
      ]
     },
     "execution_count": 95,
     "metadata": {},
     "output_type": "execute_result"
    }
   ],
   "source": [
    "gun_data['state'].nunique()"
   ]
  },
  {
   "cell_type": "code",
   "execution_count": 96,
   "id": "982f682a",
   "metadata": {
    "execution": {
     "iopub.execute_input": "2022-12-21T06:31:19.669409Z",
     "iopub.status.busy": "2022-12-21T06:31:19.669033Z",
     "iopub.status.idle": "2022-12-21T06:31:19.674960Z",
     "shell.execute_reply": "2022-12-21T06:31:19.673759Z"
    },
    "papermill": {
     "duration": 0.050536,
     "end_time": "2022-12-21T06:31:19.676782",
     "exception": false,
     "start_time": "2022-12-21T06:31:19.626246",
     "status": "completed"
    },
    "tags": []
   },
   "outputs": [
    {
     "data": {
      "text/plain": [
       "['District of Columbia',\n",
       " 'Guam',\n",
       " 'Mariana Islands',\n",
       " 'Puerto Rico',\n",
       " 'Virgin Islands']"
      ]
     },
     "execution_count": 96,
     "metadata": {},
     "output_type": "execute_result"
    }
   ],
   "source": [
    "not_us"
   ]
  },
  {
   "cell_type": "code",
   "execution_count": 97,
   "id": "0f44bc06",
   "metadata": {
    "execution": {
     "iopub.execute_input": "2022-12-21T06:31:19.762315Z",
     "iopub.status.busy": "2022-12-21T06:31:19.761946Z",
     "iopub.status.idle": "2022-12-21T06:31:19.768005Z",
     "shell.execute_reply": "2022-12-21T06:31:19.766892Z"
    },
    "papermill": {
     "duration": 0.051311,
     "end_time": "2022-12-21T06:31:19.769903",
     "exception": false,
     "start_time": "2022-12-21T06:31:19.718592",
     "status": "completed"
    },
    "tags": []
   },
   "outputs": [
    {
     "data": {
      "text/plain": [
       "(12485, 29)"
      ]
     },
     "execution_count": 97,
     "metadata": {},
     "output_type": "execute_result"
    }
   ],
   "source": [
    "gun_data.shape"
   ]
  },
  {
   "cell_type": "code",
   "execution_count": 98,
   "id": "d1198dbb",
   "metadata": {
    "execution": {
     "iopub.execute_input": "2022-12-21T06:31:19.859519Z",
     "iopub.status.busy": "2022-12-21T06:31:19.858693Z",
     "iopub.status.idle": "2022-12-21T06:31:19.888030Z",
     "shell.execute_reply": "2022-12-21T06:31:19.886268Z"
    },
    "papermill": {
     "duration": 0.079079,
     "end_time": "2022-12-21T06:31:19.891043",
     "exception": false,
     "start_time": "2022-12-21T06:31:19.811964",
     "status": "completed"
    },
    "tags": []
   },
   "outputs": [],
   "source": [
    "for i in not_us:\n",
    "    index_state = gun_data[gun_data['state'] == i].index\n",
    "    gun_data.drop(index_state, inplace = True)"
   ]
  },
  {
   "cell_type": "code",
   "execution_count": 99,
   "id": "b0e9a97b",
   "metadata": {
    "execution": {
     "iopub.execute_input": "2022-12-21T06:31:19.977369Z",
     "iopub.status.busy": "2022-12-21T06:31:19.977039Z",
     "iopub.status.idle": "2022-12-21T06:31:19.984342Z",
     "shell.execute_reply": "2022-12-21T06:31:19.982634Z"
    },
    "papermill": {
     "duration": 0.053173,
     "end_time": "2022-12-21T06:31:19.986860",
     "exception": false,
     "start_time": "2022-12-21T06:31:19.933687",
     "status": "completed"
    },
    "tags": []
   },
   "outputs": [
    {
     "data": {
      "text/plain": [
       "(11350, 29)"
      ]
     },
     "execution_count": 99,
     "metadata": {},
     "output_type": "execute_result"
    }
   ],
   "source": [
    "gun_data.shape"
   ]
  },
  {
   "cell_type": "code",
   "execution_count": 100,
   "id": "894d8bdd",
   "metadata": {
    "execution": {
     "iopub.execute_input": "2022-12-21T06:31:20.074558Z",
     "iopub.status.busy": "2022-12-21T06:31:20.074223Z",
     "iopub.status.idle": "2022-12-21T06:31:20.082310Z",
     "shell.execute_reply": "2022-12-21T06:31:20.081205Z"
    },
    "papermill": {
     "duration": 0.053405,
     "end_time": "2022-12-21T06:31:20.084196",
     "exception": false,
     "start_time": "2022-12-21T06:31:20.030791",
     "status": "completed"
    },
    "tags": []
   },
   "outputs": [
    {
     "data": {
      "text/plain": [
       "50"
      ]
     },
     "execution_count": 100,
     "metadata": {},
     "output_type": "execute_result"
    }
   ],
   "source": [
    "gun_data['state'].nunique()"
   ]
  },
  {
   "cell_type": "code",
   "execution_count": 101,
   "id": "8477218b",
   "metadata": {
    "execution": {
     "iopub.execute_input": "2022-12-21T06:31:20.171024Z",
     "iopub.status.busy": "2022-12-21T06:31:20.170589Z",
     "iopub.status.idle": "2022-12-21T06:31:20.178764Z",
     "shell.execute_reply": "2022-12-21T06:31:20.177825Z"
    },
    "papermill": {
     "duration": 0.054315,
     "end_time": "2022-12-21T06:31:20.181306",
     "exception": false,
     "start_time": "2022-12-21T06:31:20.126991",
     "status": "completed"
    },
    "tags": []
   },
   "outputs": [
    {
     "data": {
      "text/plain": [
       "array(['Alabama', 'Alaska', 'Arizona', 'Arkansas', 'California',\n",
       "       'Colorado', 'Connecticut', 'Delaware', 'Florida', 'Georgia',\n",
       "       'Hawaii', 'Idaho', 'Illinois', 'Indiana', 'Iowa', 'Kansas',\n",
       "       'Kentucky', 'Louisiana', 'Maine', 'Maryland', 'Massachusetts',\n",
       "       'Michigan', 'Minnesota', 'Mississippi', 'Missouri', 'Montana',\n",
       "       'Nebraska', 'Nevada', 'New Hampshire', 'New Jersey', 'New Mexico',\n",
       "       'New York', 'North Carolina', 'North Dakota', 'Ohio', 'Oklahoma',\n",
       "       'Oregon', 'Pennsylvania', 'Rhode Island', 'South Carolina',\n",
       "       'South Dakota', 'Tennessee', 'Texas', 'Utah', 'Vermont',\n",
       "       'Virginia', 'Washington', 'West Virginia', 'Wisconsin', 'Wyoming'],\n",
       "      dtype=object)"
      ]
     },
     "execution_count": 101,
     "metadata": {},
     "output_type": "execute_result"
    }
   ],
   "source": [
    "gun_data['state'].unique()"
   ]
  },
  {
   "cell_type": "markdown",
   "id": "2546e993",
   "metadata": {
    "papermill": {
     "duration": 0.041834,
     "end_time": "2022-12-21T06:31:20.265163",
     "exception": false,
     "start_time": "2022-12-21T06:31:20.223329",
     "status": "completed"
    },
    "tags": []
   },
   "source": [
    "### 2011 - 2015 Data"
   ]
  },
  {
   "cell_type": "code",
   "execution_count": 102,
   "id": "beaf09be",
   "metadata": {
    "execution": {
     "iopub.execute_input": "2022-12-21T06:31:20.351117Z",
     "iopub.status.busy": "2022-12-21T06:31:20.350710Z",
     "iopub.status.idle": "2022-12-21T06:31:20.384432Z",
     "shell.execute_reply": "2022-12-21T06:31:20.382743Z"
    },
    "papermill": {
     "duration": 0.080201,
     "end_time": "2022-12-21T06:31:20.387582",
     "exception": false,
     "start_time": "2022-12-21T06:31:20.307381",
     "status": "completed"
    },
    "tags": []
   },
   "outputs": [
    {
     "data": {
      "text/html": [
       "<div>\n",
       "<style scoped>\n",
       "    .dataframe tbody tr th:only-of-type {\n",
       "        vertical-align: middle;\n",
       "    }\n",
       "\n",
       "    .dataframe tbody tr th {\n",
       "        vertical-align: top;\n",
       "    }\n",
       "\n",
       "    .dataframe thead th {\n",
       "        text-align: right;\n",
       "    }\n",
       "</style>\n",
       "<table border=\"1\" class=\"dataframe\">\n",
       "  <thead>\n",
       "    <tr style=\"text-align: right;\">\n",
       "      <th></th>\n",
       "      <th>month</th>\n",
       "      <th>state</th>\n",
       "      <th>permit</th>\n",
       "      <th>permit_recheck</th>\n",
       "      <th>handgun</th>\n",
       "      <th>long_gun</th>\n",
       "      <th>other</th>\n",
       "      <th>multiple</th>\n",
       "      <th>admin</th>\n",
       "      <th>prepawn_handgun</th>\n",
       "      <th>...</th>\n",
       "      <th>rentals_long_gun</th>\n",
       "      <th>private_sale_handgun</th>\n",
       "      <th>private_sale_long_gun</th>\n",
       "      <th>private_sale_other</th>\n",
       "      <th>return_to_seller_handgun</th>\n",
       "      <th>return_to_seller_long_gun</th>\n",
       "      <th>return_to_seller_other</th>\n",
       "      <th>totals</th>\n",
       "      <th>new_year</th>\n",
       "      <th>new_month</th>\n",
       "    </tr>\n",
       "  </thead>\n",
       "  <tbody>\n",
       "    <tr>\n",
       "      <th>1155</th>\n",
       "      <td>2015-12</td>\n",
       "      <td>Alabama</td>\n",
       "      <td>31359.0</td>\n",
       "      <td>NaN</td>\n",
       "      <td>47605.0</td>\n",
       "      <td>33710.0</td>\n",
       "      <td>1698.0</td>\n",
       "      <td>1752</td>\n",
       "      <td>0.0</td>\n",
       "      <td>18.0</td>\n",
       "      <td>...</td>\n",
       "      <td>NaN</td>\n",
       "      <td>12.0</td>\n",
       "      <td>14.0</td>\n",
       "      <td>4.0</td>\n",
       "      <td>2.0</td>\n",
       "      <td>0.0</td>\n",
       "      <td>0.0</td>\n",
       "      <td>120914</td>\n",
       "      <td>2015</td>\n",
       "      <td>12</td>\n",
       "    </tr>\n",
       "    <tr>\n",
       "      <th>1156</th>\n",
       "      <td>2015-12</td>\n",
       "      <td>Alaska</td>\n",
       "      <td>245.0</td>\n",
       "      <td>NaN</td>\n",
       "      <td>5265.0</td>\n",
       "      <td>4638.0</td>\n",
       "      <td>356.0</td>\n",
       "      <td>214</td>\n",
       "      <td>0.0</td>\n",
       "      <td>5.0</td>\n",
       "      <td>...</td>\n",
       "      <td>NaN</td>\n",
       "      <td>1.0</td>\n",
       "      <td>3.0</td>\n",
       "      <td>0.0</td>\n",
       "      <td>0.0</td>\n",
       "      <td>0.0</td>\n",
       "      <td>0.0</td>\n",
       "      <td>11055</td>\n",
       "      <td>2015</td>\n",
       "      <td>12</td>\n",
       "    </tr>\n",
       "    <tr>\n",
       "      <th>1157</th>\n",
       "      <td>2015-12</td>\n",
       "      <td>Arizona</td>\n",
       "      <td>2940.0</td>\n",
       "      <td>NaN</td>\n",
       "      <td>25562.0</td>\n",
       "      <td>14725.0</td>\n",
       "      <td>1327.0</td>\n",
       "      <td>995</td>\n",
       "      <td>0.0</td>\n",
       "      <td>6.0</td>\n",
       "      <td>...</td>\n",
       "      <td>NaN</td>\n",
       "      <td>6.0</td>\n",
       "      <td>2.0</td>\n",
       "      <td>2.0</td>\n",
       "      <td>1.0</td>\n",
       "      <td>0.0</td>\n",
       "      <td>0.0</td>\n",
       "      <td>47759</td>\n",
       "      <td>2015</td>\n",
       "      <td>12</td>\n",
       "    </tr>\n",
       "  </tbody>\n",
       "</table>\n",
       "<p>3 rows × 29 columns</p>\n",
       "</div>"
      ],
      "text/plain": [
       "        month    state   permit  permit_recheck  handgun  long_gun   other  \\\n",
       "1155  2015-12  Alabama  31359.0             NaN  47605.0   33710.0  1698.0   \n",
       "1156  2015-12   Alaska    245.0             NaN   5265.0    4638.0   356.0   \n",
       "1157  2015-12  Arizona   2940.0             NaN  25562.0   14725.0  1327.0   \n",
       "\n",
       "      multiple  admin  prepawn_handgun  ...  rentals_long_gun  \\\n",
       "1155      1752    0.0             18.0  ...               NaN   \n",
       "1156       214    0.0              5.0  ...               NaN   \n",
       "1157       995    0.0              6.0  ...               NaN   \n",
       "\n",
       "      private_sale_handgun  private_sale_long_gun  private_sale_other  \\\n",
       "1155                  12.0                   14.0                 4.0   \n",
       "1156                   1.0                    3.0                 0.0   \n",
       "1157                   6.0                    2.0                 2.0   \n",
       "\n",
       "      return_to_seller_handgun  return_to_seller_long_gun  \\\n",
       "1155                       2.0                        0.0   \n",
       "1156                       0.0                        0.0   \n",
       "1157                       1.0                        0.0   \n",
       "\n",
       "      return_to_seller_other  totals  new_year  new_month  \n",
       "1155                     0.0  120914      2015         12  \n",
       "1156                     0.0   11055      2015         12  \n",
       "1157                     0.0   47759      2015         12  \n",
       "\n",
       "[3 rows x 29 columns]"
      ]
     },
     "execution_count": 102,
     "metadata": {},
     "output_type": "execute_result"
    }
   ],
   "source": [
    "gun_data_2011_2015 = gun_data.query('new_year >= 2011 & new_year <= 2015')\n",
    "gun_data_2011_2015.head(3)"
   ]
  },
  {
   "cell_type": "code",
   "execution_count": 103,
   "id": "fddcd271",
   "metadata": {
    "execution": {
     "iopub.execute_input": "2022-12-21T06:31:20.478491Z",
     "iopub.status.busy": "2022-12-21T06:31:20.478137Z",
     "iopub.status.idle": "2022-12-21T06:31:20.485775Z",
     "shell.execute_reply": "2022-12-21T06:31:20.484304Z"
    },
    "papermill": {
     "duration": 0.055926,
     "end_time": "2022-12-21T06:31:20.487748",
     "exception": false,
     "start_time": "2022-12-21T06:31:20.431822",
     "status": "completed"
    },
    "tags": []
   },
   "outputs": [
    {
     "data": {
      "text/plain": [
       "(3000, 29)"
      ]
     },
     "execution_count": 103,
     "metadata": {},
     "output_type": "execute_result"
    }
   ],
   "source": [
    "gun_data_2011_2015.shape"
   ]
  },
  {
   "cell_type": "markdown",
   "id": "e97e3080",
   "metadata": {
    "papermill": {
     "duration": 0.041882,
     "end_time": "2022-12-21T06:31:20.571984",
     "exception": false,
     "start_time": "2022-12-21T06:31:20.530102",
     "status": "completed"
    },
    "tags": []
   },
   "source": [
    "## State Level Aggregation"
   ]
  },
  {
   "cell_type": "code",
   "execution_count": 104,
   "id": "8d8f25bb",
   "metadata": {
    "execution": {
     "iopub.execute_input": "2022-12-21T06:31:20.659464Z",
     "iopub.status.busy": "2022-12-21T06:31:20.657655Z",
     "iopub.status.idle": "2022-12-21T06:31:20.676632Z",
     "shell.execute_reply": "2022-12-21T06:31:20.675626Z"
    },
    "papermill": {
     "duration": 0.065237,
     "end_time": "2022-12-21T06:31:20.679192",
     "exception": false,
     "start_time": "2022-12-21T06:31:20.613955",
     "status": "completed"
    },
    "tags": []
   },
   "outputs": [
    {
     "data": {
      "text/html": [
       "<div>\n",
       "<style scoped>\n",
       "    .dataframe tbody tr th:only-of-type {\n",
       "        vertical-align: middle;\n",
       "    }\n",
       "\n",
       "    .dataframe tbody tr th {\n",
       "        vertical-align: top;\n",
       "    }\n",
       "\n",
       "    .dataframe thead th {\n",
       "        text-align: right;\n",
       "    }\n",
       "</style>\n",
       "<table border=\"1\" class=\"dataframe\">\n",
       "  <thead>\n",
       "    <tr style=\"text-align: right;\">\n",
       "      <th></th>\n",
       "      <th>permit</th>\n",
       "      <th>permit_recheck</th>\n",
       "      <th>handgun</th>\n",
       "      <th>long_gun</th>\n",
       "      <th>other</th>\n",
       "      <th>multiple</th>\n",
       "    </tr>\n",
       "    <tr>\n",
       "      <th>state</th>\n",
       "      <th></th>\n",
       "      <th></th>\n",
       "      <th></th>\n",
       "      <th></th>\n",
       "      <th></th>\n",
       "      <th></th>\n",
       "    </tr>\n",
       "  </thead>\n",
       "  <tbody>\n",
       "    <tr>\n",
       "      <th>Alabama</th>\n",
       "      <td>9364.633333</td>\n",
       "      <td>NaN</td>\n",
       "      <td>15414.500000</td>\n",
       "      <td>14679.700000</td>\n",
       "      <td>476.350000</td>\n",
       "      <td>746.566667</td>\n",
       "    </tr>\n",
       "    <tr>\n",
       "      <th>Alaska</th>\n",
       "      <td>134.233333</td>\n",
       "      <td>NaN</td>\n",
       "      <td>2893.333333</td>\n",
       "      <td>3251.833333</td>\n",
       "      <td>164.066667</td>\n",
       "      <td>183.033333</td>\n",
       "    </tr>\n",
       "    <tr>\n",
       "      <th>Arizona</th>\n",
       "      <td>4476.416667</td>\n",
       "      <td>NaN</td>\n",
       "      <td>10963.566667</td>\n",
       "      <td>8048.566667</td>\n",
       "      <td>530.650000</td>\n",
       "      <td>511.983333</td>\n",
       "    </tr>\n",
       "  </tbody>\n",
       "</table>\n",
       "</div>"
      ],
      "text/plain": [
       "              permit  permit_recheck       handgun      long_gun       other  \\\n",
       "state                                                                          \n",
       "Alabama  9364.633333             NaN  15414.500000  14679.700000  476.350000   \n",
       "Alaska    134.233333             NaN   2893.333333   3251.833333  164.066667   \n",
       "Arizona  4476.416667             NaN  10963.566667   8048.566667  530.650000   \n",
       "\n",
       "           multiple  \n",
       "state                \n",
       "Alabama  746.566667  \n",
       "Alaska   183.033333  \n",
       "Arizona  511.983333  "
      ]
     },
     "execution_count": 104,
     "metadata": {},
     "output_type": "execute_result"
    }
   ],
   "source": [
    "gun_data_2011_2015 = gun_data_2011_2015.groupby('state').mean().iloc[:,:6]\n",
    "gun_data_2011_2015.head(3)"
   ]
  },
  {
   "cell_type": "code",
   "execution_count": 105,
   "id": "3a7aa614",
   "metadata": {
    "execution": {
     "iopub.execute_input": "2022-12-21T06:31:20.767589Z",
     "iopub.status.busy": "2022-12-21T06:31:20.767017Z",
     "iopub.status.idle": "2022-12-21T06:31:20.775144Z",
     "shell.execute_reply": "2022-12-21T06:31:20.773736Z"
    },
    "papermill": {
     "duration": 0.055374,
     "end_time": "2022-12-21T06:31:20.777275",
     "exception": false,
     "start_time": "2022-12-21T06:31:20.721901",
     "status": "completed"
    },
    "tags": []
   },
   "outputs": [
    {
     "data": {
      "text/plain": [
       "(50, 6)"
      ]
     },
     "execution_count": 105,
     "metadata": {},
     "output_type": "execute_result"
    }
   ],
   "source": [
    "gun_data_2011_2015.shape"
   ]
  },
  {
   "cell_type": "markdown",
   "id": "abef3e9d",
   "metadata": {
    "papermill": {
     "duration": 0.045599,
     "end_time": "2022-12-21T06:31:20.865789",
     "exception": false,
     "start_time": "2022-12-21T06:31:20.820190",
     "status": "completed"
    },
    "tags": []
   },
   "source": [
    "## Joining Data \n",
    "#### (gun data and us census data on state)"
   ]
  },
  {
   "cell_type": "code",
   "execution_count": 106,
   "id": "9ae3e2d3",
   "metadata": {
    "execution": {
     "iopub.execute_input": "2022-12-21T06:31:20.954346Z",
     "iopub.status.busy": "2022-12-21T06:31:20.953928Z",
     "iopub.status.idle": "2022-12-21T06:31:20.959600Z",
     "shell.execute_reply": "2022-12-21T06:31:20.958386Z"
    },
    "papermill": {
     "duration": 0.052285,
     "end_time": "2022-12-21T06:31:20.961590",
     "exception": false,
     "start_time": "2022-12-21T06:31:20.909305",
     "status": "completed"
    },
    "tags": []
   },
   "outputs": [],
   "source": [
    "gun_data_2011_2015.reset_index(inplace = True)"
   ]
  },
  {
   "cell_type": "code",
   "execution_count": 107,
   "id": "4406ccaa",
   "metadata": {
    "execution": {
     "iopub.execute_input": "2022-12-21T06:31:21.049598Z",
     "iopub.status.busy": "2022-12-21T06:31:21.048898Z",
     "iopub.status.idle": "2022-12-21T06:31:21.061747Z",
     "shell.execute_reply": "2022-12-21T06:31:21.060234Z"
    },
    "papermill": {
     "duration": 0.060353,
     "end_time": "2022-12-21T06:31:21.064289",
     "exception": false,
     "start_time": "2022-12-21T06:31:21.003936",
     "status": "completed"
    },
    "tags": []
   },
   "outputs": [
    {
     "data": {
      "text/html": [
       "<div>\n",
       "<style scoped>\n",
       "    .dataframe tbody tr th:only-of-type {\n",
       "        vertical-align: middle;\n",
       "    }\n",
       "\n",
       "    .dataframe tbody tr th {\n",
       "        vertical-align: top;\n",
       "    }\n",
       "\n",
       "    .dataframe thead th {\n",
       "        text-align: right;\n",
       "    }\n",
       "</style>\n",
       "<table border=\"1\" class=\"dataframe\">\n",
       "  <thead>\n",
       "    <tr style=\"text-align: right;\">\n",
       "      <th></th>\n",
       "      <th>state</th>\n",
       "      <th>permit</th>\n",
       "      <th>permit_recheck</th>\n",
       "      <th>handgun</th>\n",
       "      <th>long_gun</th>\n",
       "      <th>other</th>\n",
       "      <th>multiple</th>\n",
       "    </tr>\n",
       "  </thead>\n",
       "  <tbody>\n",
       "    <tr>\n",
       "      <th>0</th>\n",
       "      <td>Alabama</td>\n",
       "      <td>9364.633333</td>\n",
       "      <td>NaN</td>\n",
       "      <td>15414.500000</td>\n",
       "      <td>14679.700000</td>\n",
       "      <td>476.350000</td>\n",
       "      <td>746.566667</td>\n",
       "    </tr>\n",
       "    <tr>\n",
       "      <th>1</th>\n",
       "      <td>Alaska</td>\n",
       "      <td>134.233333</td>\n",
       "      <td>NaN</td>\n",
       "      <td>2893.333333</td>\n",
       "      <td>3251.833333</td>\n",
       "      <td>164.066667</td>\n",
       "      <td>183.033333</td>\n",
       "    </tr>\n",
       "    <tr>\n",
       "      <th>2</th>\n",
       "      <td>Arizona</td>\n",
       "      <td>4476.416667</td>\n",
       "      <td>NaN</td>\n",
       "      <td>10963.566667</td>\n",
       "      <td>8048.566667</td>\n",
       "      <td>530.650000</td>\n",
       "      <td>511.983333</td>\n",
       "    </tr>\n",
       "  </tbody>\n",
       "</table>\n",
       "</div>"
      ],
      "text/plain": [
       "     state       permit  permit_recheck       handgun      long_gun  \\\n",
       "0  Alabama  9364.633333             NaN  15414.500000  14679.700000   \n",
       "1   Alaska   134.233333             NaN   2893.333333   3251.833333   \n",
       "2  Arizona  4476.416667             NaN  10963.566667   8048.566667   \n",
       "\n",
       "        other    multiple  \n",
       "0  476.350000  746.566667  \n",
       "1  164.066667  183.033333  \n",
       "2  530.650000  511.983333  "
      ]
     },
     "execution_count": 107,
     "metadata": {},
     "output_type": "execute_result"
    }
   ],
   "source": [
    "gun_data_2011_2015.head(3)"
   ]
  },
  {
   "cell_type": "code",
   "execution_count": 108,
   "id": "a362179a",
   "metadata": {
    "execution": {
     "iopub.execute_input": "2022-12-21T06:31:21.153944Z",
     "iopub.status.busy": "2022-12-21T06:31:21.153536Z",
     "iopub.status.idle": "2022-12-21T06:31:21.174030Z",
     "shell.execute_reply": "2022-12-21T06:31:21.172714Z"
    },
    "papermill": {
     "duration": 0.068672,
     "end_time": "2022-12-21T06:31:21.176237",
     "exception": false,
     "start_time": "2022-12-21T06:31:21.107565",
     "status": "completed"
    },
    "tags": []
   },
   "outputs": [
    {
     "data": {
      "text/html": [
       "<div>\n",
       "<style scoped>\n",
       "    .dataframe tbody tr th:only-of-type {\n",
       "        vertical-align: middle;\n",
       "    }\n",
       "\n",
       "    .dataframe tbody tr th {\n",
       "        vertical-align: top;\n",
       "    }\n",
       "\n",
       "    .dataframe thead th {\n",
       "        text-align: right;\n",
       "    }\n",
       "</style>\n",
       "<table border=\"1\" class=\"dataframe\">\n",
       "  <thead>\n",
       "    <tr style=\"text-align: right;\">\n",
       "      <th>Fact</th>\n",
       "      <th>state</th>\n",
       "      <th>Population estimates, July 1, 2016,  (V2016)</th>\n",
       "      <th>Population estimates base, April 1, 2010,  (V2016)</th>\n",
       "      <th>Population, percent change - April 1, 2010 (estimates base) to July 1, 2016,  (V2016)</th>\n",
       "      <th>Population, Census, April 1, 2010</th>\n",
       "      <th>Persons under 5 years, percent, July 1, 2016,  (V2016)</th>\n",
       "      <th>Persons under 5 years, percent, April 1, 2010</th>\n",
       "      <th>Persons under 18 years, percent, July 1, 2016,  (V2016)</th>\n",
       "      <th>Persons under 18 years, percent, April 1, 2010</th>\n",
       "      <th>Persons 65 years and over, percent,  July 1, 2016,  (V2016)</th>\n",
       "      <th>...</th>\n",
       "      <th>Total nonemployer establishments, 2015</th>\n",
       "      <th>All firms, 2012</th>\n",
       "      <th>Men-owned firms, 2012</th>\n",
       "      <th>Women-owned firms, 2012</th>\n",
       "      <th>Minority-owned firms, 2012</th>\n",
       "      <th>Nonminority-owned firms, 2012</th>\n",
       "      <th>Veteran-owned firms, 2012</th>\n",
       "      <th>Nonveteran-owned firms, 2012</th>\n",
       "      <th>Population per square mile, 2010</th>\n",
       "      <th>Land area in square miles, 2010</th>\n",
       "    </tr>\n",
       "  </thead>\n",
       "  <tbody>\n",
       "    <tr>\n",
       "      <th>0</th>\n",
       "      <td>Alabama</td>\n",
       "      <td>4863300</td>\n",
       "      <td>4780131</td>\n",
       "      <td>170</td>\n",
       "      <td>4779736</td>\n",
       "      <td>600</td>\n",
       "      <td>640</td>\n",
       "      <td>2260</td>\n",
       "      <td>2370</td>\n",
       "      <td>1610</td>\n",
       "      <td>...</td>\n",
       "      <td>322025</td>\n",
       "      <td>374153</td>\n",
       "      <td>203604</td>\n",
       "      <td>137630</td>\n",
       "      <td>92219</td>\n",
       "      <td>272651</td>\n",
       "      <td>41943</td>\n",
       "      <td>316984</td>\n",
       "      <td>944</td>\n",
       "      <td>5064533</td>\n",
       "    </tr>\n",
       "    <tr>\n",
       "      <th>1</th>\n",
       "      <td>Alaska</td>\n",
       "      <td>741894</td>\n",
       "      <td>710249</td>\n",
       "      <td>450</td>\n",
       "      <td>710231</td>\n",
       "      <td>730</td>\n",
       "      <td>760</td>\n",
       "      <td>2520</td>\n",
       "      <td>2640</td>\n",
       "      <td>1040</td>\n",
       "      <td>...</td>\n",
       "      <td>55521</td>\n",
       "      <td>68032</td>\n",
       "      <td>35402</td>\n",
       "      <td>22141</td>\n",
       "      <td>13688</td>\n",
       "      <td>51147</td>\n",
       "      <td>7953</td>\n",
       "      <td>56091</td>\n",
       "      <td>12</td>\n",
       "      <td>57064095</td>\n",
       "    </tr>\n",
       "    <tr>\n",
       "      <th>2</th>\n",
       "      <td>Arizona</td>\n",
       "      <td>6931071</td>\n",
       "      <td>6392301</td>\n",
       "      <td>840</td>\n",
       "      <td>6392017</td>\n",
       "      <td>630</td>\n",
       "      <td>710</td>\n",
       "      <td>2350</td>\n",
       "      <td>2550</td>\n",
       "      <td>1690</td>\n",
       "      <td>...</td>\n",
       "      <td>451951</td>\n",
       "      <td>499926</td>\n",
       "      <td>245243</td>\n",
       "      <td>182425</td>\n",
       "      <td>135313</td>\n",
       "      <td>344981</td>\n",
       "      <td>46780</td>\n",
       "      <td>427582</td>\n",
       "      <td>563</td>\n",
       "      <td>11359408</td>\n",
       "    </tr>\n",
       "  </tbody>\n",
       "</table>\n",
       "<p>3 rows × 65 columns</p>\n",
       "</div>"
      ],
      "text/plain": [
       "Fact    state  Population estimates, July 1, 2016,  (V2016)  \\\n",
       "0     Alabama                                       4863300   \n",
       "1      Alaska                                        741894   \n",
       "2     Arizona                                       6931071   \n",
       "\n",
       "Fact  Population estimates base, April 1, 2010,  (V2016)  \\\n",
       "0                                               4780131    \n",
       "1                                                710249    \n",
       "2                                               6392301    \n",
       "\n",
       "Fact  Population, percent change - April 1, 2010 (estimates base) to July 1, 2016,  (V2016)  \\\n",
       "0                                                   170                                       \n",
       "1                                                   450                                       \n",
       "2                                                   840                                       \n",
       "\n",
       "Fact  Population, Census, April 1, 2010  \\\n",
       "0                               4779736   \n",
       "1                                710231   \n",
       "2                               6392017   \n",
       "\n",
       "Fact  Persons under 5 years, percent, July 1, 2016,  (V2016)  \\\n",
       "0                                                   600        \n",
       "1                                                   730        \n",
       "2                                                   630        \n",
       "\n",
       "Fact  Persons under 5 years, percent, April 1, 2010  \\\n",
       "0                                               640   \n",
       "1                                               760   \n",
       "2                                               710   \n",
       "\n",
       "Fact  Persons under 18 years, percent, July 1, 2016,  (V2016)  \\\n",
       "0                                                  2260         \n",
       "1                                                  2520         \n",
       "2                                                  2350         \n",
       "\n",
       "Fact  Persons under 18 years, percent, April 1, 2010  \\\n",
       "0                                               2370   \n",
       "1                                               2640   \n",
       "2                                               2550   \n",
       "\n",
       "Fact  Persons 65 years and over, percent,  July 1, 2016,  (V2016)  ...  \\\n",
       "0                                                  1610            ...   \n",
       "1                                                  1040            ...   \n",
       "2                                                  1690            ...   \n",
       "\n",
       "Fact  Total nonemployer establishments, 2015  All firms, 2012  \\\n",
       "0                                     322025           374153   \n",
       "1                                      55521            68032   \n",
       "2                                     451951           499926   \n",
       "\n",
       "Fact  Men-owned firms, 2012  Women-owned firms, 2012  \\\n",
       "0                    203604                   137630   \n",
       "1                     35402                    22141   \n",
       "2                    245243                   182425   \n",
       "\n",
       "Fact  Minority-owned firms, 2012  Nonminority-owned firms, 2012  \\\n",
       "0                          92219                         272651   \n",
       "1                          13688                          51147   \n",
       "2                         135313                         344981   \n",
       "\n",
       "Fact  Veteran-owned firms, 2012  Nonveteran-owned firms, 2012  \\\n",
       "0                         41943                        316984   \n",
       "1                          7953                         56091   \n",
       "2                         46780                        427582   \n",
       "\n",
       "Fact  Population per square mile, 2010  Land area in square miles, 2010  \n",
       "0                                  944                          5064533  \n",
       "1                                   12                         57064095  \n",
       "2                                  563                         11359408  \n",
       "\n",
       "[3 rows x 65 columns]"
      ]
     },
     "execution_count": 108,
     "metadata": {},
     "output_type": "execute_result"
    }
   ],
   "source": [
    "us_census.head(3)"
   ]
  },
  {
   "cell_type": "code",
   "execution_count": 109,
   "id": "adebb205",
   "metadata": {
    "execution": {
     "iopub.execute_input": "2022-12-21T06:31:21.266813Z",
     "iopub.status.busy": "2022-12-21T06:31:21.266397Z",
     "iopub.status.idle": "2022-12-21T06:31:21.301177Z",
     "shell.execute_reply": "2022-12-21T06:31:21.300127Z"
    },
    "papermill": {
     "duration": 0.082209,
     "end_time": "2022-12-21T06:31:21.303205",
     "exception": false,
     "start_time": "2022-12-21T06:31:21.220996",
     "status": "completed"
    },
    "tags": []
   },
   "outputs": [
    {
     "data": {
      "text/html": [
       "<div>\n",
       "<style scoped>\n",
       "    .dataframe tbody tr th:only-of-type {\n",
       "        vertical-align: middle;\n",
       "    }\n",
       "\n",
       "    .dataframe tbody tr th {\n",
       "        vertical-align: top;\n",
       "    }\n",
       "\n",
       "    .dataframe thead th {\n",
       "        text-align: right;\n",
       "    }\n",
       "</style>\n",
       "<table border=\"1\" class=\"dataframe\">\n",
       "  <thead>\n",
       "    <tr style=\"text-align: right;\">\n",
       "      <th></th>\n",
       "      <th>state</th>\n",
       "      <th>permit</th>\n",
       "      <th>permit_recheck</th>\n",
       "      <th>handgun</th>\n",
       "      <th>long_gun</th>\n",
       "      <th>other</th>\n",
       "      <th>multiple</th>\n",
       "      <th>Population estimates, July 1, 2016,  (V2016)</th>\n",
       "      <th>Population estimates base, April 1, 2010,  (V2016)</th>\n",
       "      <th>Population, percent change - April 1, 2010 (estimates base) to July 1, 2016,  (V2016)</th>\n",
       "      <th>...</th>\n",
       "      <th>Total nonemployer establishments, 2015</th>\n",
       "      <th>All firms, 2012</th>\n",
       "      <th>Men-owned firms, 2012</th>\n",
       "      <th>Women-owned firms, 2012</th>\n",
       "      <th>Minority-owned firms, 2012</th>\n",
       "      <th>Nonminority-owned firms, 2012</th>\n",
       "      <th>Veteran-owned firms, 2012</th>\n",
       "      <th>Nonveteran-owned firms, 2012</th>\n",
       "      <th>Population per square mile, 2010</th>\n",
       "      <th>Land area in square miles, 2010</th>\n",
       "    </tr>\n",
       "  </thead>\n",
       "  <tbody>\n",
       "    <tr>\n",
       "      <th>0</th>\n",
       "      <td>Alabama</td>\n",
       "      <td>9364.633333</td>\n",
       "      <td>NaN</td>\n",
       "      <td>15414.500000</td>\n",
       "      <td>14679.700000</td>\n",
       "      <td>476.350000</td>\n",
       "      <td>746.566667</td>\n",
       "      <td>4863300</td>\n",
       "      <td>4780131</td>\n",
       "      <td>170</td>\n",
       "      <td>...</td>\n",
       "      <td>322025</td>\n",
       "      <td>374153</td>\n",
       "      <td>203604</td>\n",
       "      <td>137630</td>\n",
       "      <td>92219</td>\n",
       "      <td>272651</td>\n",
       "      <td>41943</td>\n",
       "      <td>316984</td>\n",
       "      <td>944</td>\n",
       "      <td>5064533</td>\n",
       "    </tr>\n",
       "    <tr>\n",
       "      <th>1</th>\n",
       "      <td>Alaska</td>\n",
       "      <td>134.233333</td>\n",
       "      <td>NaN</td>\n",
       "      <td>2893.333333</td>\n",
       "      <td>3251.833333</td>\n",
       "      <td>164.066667</td>\n",
       "      <td>183.033333</td>\n",
       "      <td>741894</td>\n",
       "      <td>710249</td>\n",
       "      <td>450</td>\n",
       "      <td>...</td>\n",
       "      <td>55521</td>\n",
       "      <td>68032</td>\n",
       "      <td>35402</td>\n",
       "      <td>22141</td>\n",
       "      <td>13688</td>\n",
       "      <td>51147</td>\n",
       "      <td>7953</td>\n",
       "      <td>56091</td>\n",
       "      <td>12</td>\n",
       "      <td>57064095</td>\n",
       "    </tr>\n",
       "    <tr>\n",
       "      <th>2</th>\n",
       "      <td>Arizona</td>\n",
       "      <td>4476.416667</td>\n",
       "      <td>NaN</td>\n",
       "      <td>10963.566667</td>\n",
       "      <td>8048.566667</td>\n",
       "      <td>530.650000</td>\n",
       "      <td>511.983333</td>\n",
       "      <td>6931071</td>\n",
       "      <td>6392301</td>\n",
       "      <td>840</td>\n",
       "      <td>...</td>\n",
       "      <td>451951</td>\n",
       "      <td>499926</td>\n",
       "      <td>245243</td>\n",
       "      <td>182425</td>\n",
       "      <td>135313</td>\n",
       "      <td>344981</td>\n",
       "      <td>46780</td>\n",
       "      <td>427582</td>\n",
       "      <td>563</td>\n",
       "      <td>11359408</td>\n",
       "    </tr>\n",
       "  </tbody>\n",
       "</table>\n",
       "<p>3 rows × 71 columns</p>\n",
       "</div>"
      ],
      "text/plain": [
       "     state       permit  permit_recheck       handgun      long_gun  \\\n",
       "0  Alabama  9364.633333             NaN  15414.500000  14679.700000   \n",
       "1   Alaska   134.233333             NaN   2893.333333   3251.833333   \n",
       "2  Arizona  4476.416667             NaN  10963.566667   8048.566667   \n",
       "\n",
       "        other    multiple  Population estimates, July 1, 2016,  (V2016)  \\\n",
       "0  476.350000  746.566667                                       4863300   \n",
       "1  164.066667  183.033333                                        741894   \n",
       "2  530.650000  511.983333                                       6931071   \n",
       "\n",
       "   Population estimates base, April 1, 2010,  (V2016)  \\\n",
       "0                                            4780131    \n",
       "1                                             710249    \n",
       "2                                            6392301    \n",
       "\n",
       "   Population, percent change - April 1, 2010 (estimates base) to July 1, 2016,  (V2016)  \\\n",
       "0                                                170                                       \n",
       "1                                                450                                       \n",
       "2                                                840                                       \n",
       "\n",
       "   ...  Total nonemployer establishments, 2015  All firms, 2012  \\\n",
       "0  ...                                  322025           374153   \n",
       "1  ...                                   55521            68032   \n",
       "2  ...                                  451951           499926   \n",
       "\n",
       "   Men-owned firms, 2012  Women-owned firms, 2012  Minority-owned firms, 2012  \\\n",
       "0                 203604                   137630                       92219   \n",
       "1                  35402                    22141                       13688   \n",
       "2                 245243                   182425                      135313   \n",
       "\n",
       "   Nonminority-owned firms, 2012  Veteran-owned firms, 2012  \\\n",
       "0                         272651                      41943   \n",
       "1                          51147                       7953   \n",
       "2                         344981                      46780   \n",
       "\n",
       "   Nonveteran-owned firms, 2012  Population per square mile, 2010  \\\n",
       "0                        316984                               944   \n",
       "1                         56091                                12   \n",
       "2                        427582                               563   \n",
       "\n",
       "   Land area in square miles, 2010  \n",
       "0                          5064533  \n",
       "1                         57064095  \n",
       "2                         11359408  \n",
       "\n",
       "[3 rows x 71 columns]"
      ]
     },
     "execution_count": 109,
     "metadata": {},
     "output_type": "execute_result"
    }
   ],
   "source": [
    "gun_data_2011_2015 = pd.merge(gun_data_2011_2015, us_census, how = 'left', left_on='state', right_on= 'state' )\n",
    "gun_data_2011_2015.head(3)"
   ]
  },
  {
   "cell_type": "code",
   "execution_count": 110,
   "id": "273c7833",
   "metadata": {
    "execution": {
     "iopub.execute_input": "2022-12-21T06:31:21.395782Z",
     "iopub.status.busy": "2022-12-21T06:31:21.394516Z",
     "iopub.status.idle": "2022-12-21T06:31:21.402575Z",
     "shell.execute_reply": "2022-12-21T06:31:21.401281Z"
    },
    "papermill": {
     "duration": 0.058297,
     "end_time": "2022-12-21T06:31:21.405694",
     "exception": false,
     "start_time": "2022-12-21T06:31:21.347397",
     "status": "completed"
    },
    "tags": []
   },
   "outputs": [
    {
     "data": {
      "text/plain": [
       "Index(['state', 'permit', 'permit_recheck', 'handgun', 'long_gun', 'other',\n",
       "       'multiple', 'Population estimates, July 1, 2016,  (V2016)',\n",
       "       'Population estimates base, April 1, 2010,  (V2016)',\n",
       "       'Population, percent change - April 1, 2010 (estimates base) to July 1, 2016,  (V2016)',\n",
       "       'Population, Census, April 1, 2010',\n",
       "       'Persons under 5 years, percent, July 1, 2016,  (V2016)',\n",
       "       'Persons under 5 years, percent, April 1, 2010',\n",
       "       'Persons under 18 years, percent, July 1, 2016,  (V2016)',\n",
       "       'Persons under 18 years, percent, April 1, 2010',\n",
       "       'Persons 65 years and over, percent,  July 1, 2016,  (V2016)',\n",
       "       'Persons 65 years and over, percent, April 1, 2010',\n",
       "       'Female persons, percent,  July 1, 2016,  (V2016)',\n",
       "       'Female persons, percent, April 1, 2010',\n",
       "       'White alone, percent, July 1, 2016,  (V2016)',\n",
       "       'Black or African American alone, percent, July 1, 2016,  (V2016)',\n",
       "       'American Indian and Alaska Native alone, percent, July 1, 2016,  (V2016)',\n",
       "       'Asian alone, percent, July 1, 2016,  (V2016)',\n",
       "       'Native Hawaiian and Other Pacific Islander alone, percent, July 1, 2016,  (V2016)',\n",
       "       'Two or More Races, percent, July 1, 2016,  (V2016)',\n",
       "       'Hispanic or Latino, percent, July 1, 2016,  (V2016)',\n",
       "       'White alone, not Hispanic or Latino, percent, July 1, 2016,  (V2016)',\n",
       "       'Veterans, 2011-2015', 'Foreign born persons, percent, 2011-2015',\n",
       "       'Housing units,  July 1, 2016,  (V2016)',\n",
       "       'Housing units, April 1, 2010',\n",
       "       'Owner-occupied housing unit rate, 2011-2015',\n",
       "       'Median value of owner-occupied housing units, 2011-2015',\n",
       "       'Median selected monthly owner costs -with a mortgage, 2011-2015',\n",
       "       'Median selected monthly owner costs -without a mortgage, 2011-2015',\n",
       "       'Median gross rent, 2011-2015', 'Building permits, 2016',\n",
       "       'Households, 2011-2015', 'Persons per household, 2011-2015',\n",
       "       'Living in same house 1 year ago, percent of persons age 1 year+, 2011-2015',\n",
       "       'Language other than English spoken at home, percent of persons age 5 years+, 2011-2015',\n",
       "       'High school graduate or higher, percent of persons age 25 years+, 2011-2015',\n",
       "       'Bachelor's degree or higher, percent of persons age 25 years+, 2011-2015',\n",
       "       'With a disability, under age 65 years, percent, 2011-2015',\n",
       "       'Persons  without health insurance, under age 65 years, percent',\n",
       "       'In civilian labor force, total, percent of population age 16 years+, 2011-2015',\n",
       "       'In civilian labor force, female, percent of population age 16 years+, 2011-2015',\n",
       "       'Total accommodation and food services sales, 2012 ($1,000)',\n",
       "       'Total health care and social assistance receipts/revenue, 2012 ($1,000)',\n",
       "       'Total manufacturers shipments, 2012 ($1,000)',\n",
       "       'Total merchant wholesaler sales, 2012 ($1,000)',\n",
       "       'Total retail sales, 2012 ($1,000)',\n",
       "       'Total retail sales per capita, 2012',\n",
       "       'Mean travel time to work (minutes), workers age 16 years+, 2011-2015',\n",
       "       'Median household income (in 2015 dollars), 2011-2015',\n",
       "       'Per capita income in past 12 months (in 2015 dollars), 2011-2015',\n",
       "       'Persons in poverty, percent', 'Total employer establishments, 2015',\n",
       "       'Total employment, 2015', 'Total annual payroll, 2015 ($1,000)',\n",
       "       'Total employment, percent change, 2014-2015',\n",
       "       'Total nonemployer establishments, 2015', 'All firms, 2012',\n",
       "       'Men-owned firms, 2012', 'Women-owned firms, 2012',\n",
       "       'Minority-owned firms, 2012', 'Nonminority-owned firms, 2012',\n",
       "       'Veteran-owned firms, 2012', 'Nonveteran-owned firms, 2012',\n",
       "       'Population per square mile, 2010', 'Land area in square miles, 2010'],\n",
       "      dtype='object')"
      ]
     },
     "execution_count": 110,
     "metadata": {},
     "output_type": "execute_result"
    }
   ],
   "source": [
    "gun_data_2011_2015.columns"
   ]
  },
  {
   "cell_type": "markdown",
   "id": "ae95d9cd",
   "metadata": {
    "papermill": {
     "duration": 0.043654,
     "end_time": "2022-12-21T06:31:21.493198",
     "exception": false,
     "start_time": "2022-12-21T06:31:21.449544",
     "status": "completed"
    },
    "tags": []
   },
   "source": [
    "\n",
    "## Education\n",
    "- High school graduate or higher, percent of persons age 25 years+, 2011-2015\n",
    "- Bachelor's degree or higher, percent of persons age 25 years+, 2011-2015\n",
    "\n",
    "\n",
    "## Health\n",
    "- With a disability, under age 65 years, percent, 2011-2015"
   ]
  },
  {
   "cell_type": "code",
   "execution_count": 111,
   "id": "1c592c19",
   "metadata": {
    "execution": {
     "iopub.execute_input": "2022-12-21T06:31:21.582326Z",
     "iopub.status.busy": "2022-12-21T06:31:21.581996Z",
     "iopub.status.idle": "2022-12-21T06:31:21.605521Z",
     "shell.execute_reply": "2022-12-21T06:31:21.604341Z"
    },
    "papermill": {
     "duration": 0.070317,
     "end_time": "2022-12-21T06:31:21.607514",
     "exception": false,
     "start_time": "2022-12-21T06:31:21.537197",
     "status": "completed"
    },
    "tags": []
   },
   "outputs": [
    {
     "data": {
      "text/html": [
       "<div>\n",
       "<style scoped>\n",
       "    .dataframe tbody tr th:only-of-type {\n",
       "        vertical-align: middle;\n",
       "    }\n",
       "\n",
       "    .dataframe tbody tr th {\n",
       "        vertical-align: top;\n",
       "    }\n",
       "\n",
       "    .dataframe thead th {\n",
       "        text-align: right;\n",
       "    }\n",
       "</style>\n",
       "<table border=\"1\" class=\"dataframe\">\n",
       "  <thead>\n",
       "    <tr style=\"text-align: right;\">\n",
       "      <th></th>\n",
       "      <th>state</th>\n",
       "      <th>permit</th>\n",
       "      <th>handgun</th>\n",
       "      <th>long_gun</th>\n",
       "      <th>other</th>\n",
       "      <th>High school graduate or higher, percent of persons age 25 years+, 2011-2015</th>\n",
       "      <th>Bachelor's degree or higher, percent of persons age 25 years+, 2011-2015</th>\n",
       "      <th>With a disability, under age 65 years, percent, 2011-2015</th>\n",
       "    </tr>\n",
       "  </thead>\n",
       "  <tbody>\n",
       "    <tr>\n",
       "      <th>0</th>\n",
       "      <td>Alabama</td>\n",
       "      <td>9364.633333</td>\n",
       "      <td>15414.500000</td>\n",
       "      <td>14679.700000</td>\n",
       "      <td>476.350000</td>\n",
       "      <td>8430</td>\n",
       "      <td>2350</td>\n",
       "      <td>1180</td>\n",
       "    </tr>\n",
       "    <tr>\n",
       "      <th>1</th>\n",
       "      <td>Alaska</td>\n",
       "      <td>134.233333</td>\n",
       "      <td>2893.333333</td>\n",
       "      <td>3251.833333</td>\n",
       "      <td>164.066667</td>\n",
       "      <td>9210</td>\n",
       "      <td>2800</td>\n",
       "      <td>810</td>\n",
       "    </tr>\n",
       "    <tr>\n",
       "      <th>2</th>\n",
       "      <td>Arizona</td>\n",
       "      <td>4476.416667</td>\n",
       "      <td>10963.566667</td>\n",
       "      <td>8048.566667</td>\n",
       "      <td>530.650000</td>\n",
       "      <td>8600</td>\n",
       "      <td>2750</td>\n",
       "      <td>820</td>\n",
       "    </tr>\n",
       "    <tr>\n",
       "      <th>3</th>\n",
       "      <td>Arkansas</td>\n",
       "      <td>3948.766667</td>\n",
       "      <td>5615.633333</td>\n",
       "      <td>7232.483333</td>\n",
       "      <td>120.033333</td>\n",
       "      <td>8480</td>\n",
       "      <td>2110</td>\n",
       "      <td>1230</td>\n",
       "    </tr>\n",
       "    <tr>\n",
       "      <th>4</th>\n",
       "      <td>California</td>\n",
       "      <td>40797.966667</td>\n",
       "      <td>34331.283333</td>\n",
       "      <td>33042.033333</td>\n",
       "      <td>1748.616667</td>\n",
       "      <td>8180</td>\n",
       "      <td>3140</td>\n",
       "      <td>680</td>\n",
       "    </tr>\n",
       "    <tr>\n",
       "      <th>5</th>\n",
       "      <td>Colorado</td>\n",
       "      <td>3918.100000</td>\n",
       "      <td>15773.816667</td>\n",
       "      <td>13739.033333</td>\n",
       "      <td>569.216667</td>\n",
       "      <td>9070</td>\n",
       "      <td>3810</td>\n",
       "      <td>720</td>\n",
       "    </tr>\n",
       "    <tr>\n",
       "      <th>6</th>\n",
       "      <td>Connecticut</td>\n",
       "      <td>10631.966667</td>\n",
       "      <td>6407.116667</td>\n",
       "      <td>4345.033333</td>\n",
       "      <td>198.750000</td>\n",
       "      <td>8990</td>\n",
       "      <td>3760</td>\n",
       "      <td>710</td>\n",
       "    </tr>\n",
       "    <tr>\n",
       "      <th>7</th>\n",
       "      <td>Delaware</td>\n",
       "      <td>151.066667</td>\n",
       "      <td>1486.066667</td>\n",
       "      <td>1338.050000</td>\n",
       "      <td>55.266667</td>\n",
       "      <td>8840</td>\n",
       "      <td>3000</td>\n",
       "      <td>850</td>\n",
       "    </tr>\n",
       "    <tr>\n",
       "      <th>8</th>\n",
       "      <td>Florida</td>\n",
       "      <td>9556.033333</td>\n",
       "      <td>39968.850000</td>\n",
       "      <td>23136.466667</td>\n",
       "      <td>1392.150000</td>\n",
       "      <td>8690</td>\n",
       "      <td>2730</td>\n",
       "      <td>850</td>\n",
       "    </tr>\n",
       "    <tr>\n",
       "      <th>9</th>\n",
       "      <td>Georgia</td>\n",
       "      <td>12270.033333</td>\n",
       "      <td>12625.016667</td>\n",
       "      <td>10682.550000</td>\n",
       "      <td>278.983333</td>\n",
       "      <td>8540</td>\n",
       "      <td>2880</td>\n",
       "      <td>880</td>\n",
       "    </tr>\n",
       "    <tr>\n",
       "      <th>10</th>\n",
       "      <td>Hawaii</td>\n",
       "      <td>1298.966667</td>\n",
       "      <td>0.033333</td>\n",
       "      <td>0.033333</td>\n",
       "      <td>0.033333</td>\n",
       "      <td>9100</td>\n",
       "      <td>3080</td>\n",
       "      <td>650</td>\n",
       "    </tr>\n",
       "    <tr>\n",
       "      <th>11</th>\n",
       "      <td>Idaho</td>\n",
       "      <td>2404.600000</td>\n",
       "      <td>2861.016667</td>\n",
       "      <td>4439.533333</td>\n",
       "      <td>108.300000</td>\n",
       "      <td>8950</td>\n",
       "      <td>2590</td>\n",
       "      <td>900</td>\n",
       "    </tr>\n",
       "    <tr>\n",
       "      <th>12</th>\n",
       "      <td>Illinois</td>\n",
       "      <td>64249.600000</td>\n",
       "      <td>17342.166667</td>\n",
       "      <td>13251.700000</td>\n",
       "      <td>0.000000</td>\n",
       "      <td>8790</td>\n",
       "      <td>3230</td>\n",
       "      <td>710</td>\n",
       "    </tr>\n",
       "    <tr>\n",
       "      <th>13</th>\n",
       "      <td>Indiana</td>\n",
       "      <td>20668.233333</td>\n",
       "      <td>16589.816667</td>\n",
       "      <td>13459.650000</td>\n",
       "      <td>708.800000</td>\n",
       "      <td>8780</td>\n",
       "      <td>2410</td>\n",
       "      <td>970</td>\n",
       "    </tr>\n",
       "    <tr>\n",
       "      <th>14</th>\n",
       "      <td>Iowa</td>\n",
       "      <td>9097.316667</td>\n",
       "      <td>156.800000</td>\n",
       "      <td>3307.283333</td>\n",
       "      <td>22.366667</td>\n",
       "      <td>9150</td>\n",
       "      <td>2670</td>\n",
       "      <td>790</td>\n",
       "    </tr>\n",
       "    <tr>\n",
       "      <th>15</th>\n",
       "      <td>Kansas</td>\n",
       "      <td>1822.483333</td>\n",
       "      <td>6064.033333</td>\n",
       "      <td>6601.650000</td>\n",
       "      <td>239.800000</td>\n",
       "      <td>9020</td>\n",
       "      <td>3100</td>\n",
       "      <td>860</td>\n",
       "    </tr>\n",
       "    <tr>\n",
       "      <th>16</th>\n",
       "      <td>Kentucky</td>\n",
       "      <td>178562.016667</td>\n",
       "      <td>9416.850000</td>\n",
       "      <td>9790.433333</td>\n",
       "      <td>195.400000</td>\n",
       "      <td>8420</td>\n",
       "      <td>2230</td>\n",
       "      <td>1290</td>\n",
       "    </tr>\n",
       "    <tr>\n",
       "      <th>17</th>\n",
       "      <td>Louisiana</td>\n",
       "      <td>427.800000</td>\n",
       "      <td>11129.566667</td>\n",
       "      <td>12380.066667</td>\n",
       "      <td>446.716667</td>\n",
       "      <td>8340</td>\n",
       "      <td>2250</td>\n",
       "      <td>1100</td>\n",
       "    </tr>\n",
       "    <tr>\n",
       "      <th>18</th>\n",
       "      <td>Maine</td>\n",
       "      <td>63.000000</td>\n",
       "      <td>2955.666667</td>\n",
       "      <td>3748.216667</td>\n",
       "      <td>109.983333</td>\n",
       "      <td>9160</td>\n",
       "      <td>2900</td>\n",
       "      <td>1190</td>\n",
       "    </tr>\n",
       "    <tr>\n",
       "      <th>19</th>\n",
       "      <td>Maryland</td>\n",
       "      <td>764.400000</td>\n",
       "      <td>5621.883333</td>\n",
       "      <td>5597.166667</td>\n",
       "      <td>72.866667</td>\n",
       "      <td>8940</td>\n",
       "      <td>3790</td>\n",
       "      <td>710</td>\n",
       "    </tr>\n",
       "    <tr>\n",
       "      <th>20</th>\n",
       "      <td>Massachusetts</td>\n",
       "      <td>8057.916667</td>\n",
       "      <td>4739.416667</td>\n",
       "      <td>2790.550000</td>\n",
       "      <td>278.933333</td>\n",
       "      <td>8980</td>\n",
       "      <td>4050</td>\n",
       "      <td>790</td>\n",
       "    </tr>\n",
       "    <tr>\n",
       "      <th>21</th>\n",
       "      <td>Michigan</td>\n",
       "      <td>17314.583333</td>\n",
       "      <td>7076.200000</td>\n",
       "      <td>11700.083333</td>\n",
       "      <td>269.366667</td>\n",
       "      <td>8960</td>\n",
       "      <td>2690</td>\n",
       "      <td>1030</td>\n",
       "    </tr>\n",
       "    <tr>\n",
       "      <th>22</th>\n",
       "      <td>Minnesota</td>\n",
       "      <td>16978.083333</td>\n",
       "      <td>8356.066667</td>\n",
       "      <td>11630.383333</td>\n",
       "      <td>364.833333</td>\n",
       "      <td>9240</td>\n",
       "      <td>3370</td>\n",
       "      <td>710</td>\n",
       "    </tr>\n",
       "    <tr>\n",
       "      <th>23</th>\n",
       "      <td>Mississippi</td>\n",
       "      <td>629.183333</td>\n",
       "      <td>6691.566667</td>\n",
       "      <td>7831.550000</td>\n",
       "      <td>174.550000</td>\n",
       "      <td>8230</td>\n",
       "      <td>2070</td>\n",
       "      <td>1190</td>\n",
       "    </tr>\n",
       "    <tr>\n",
       "      <th>24</th>\n",
       "      <td>Missouri</td>\n",
       "      <td>4576.666667</td>\n",
       "      <td>18317.266667</td>\n",
       "      <td>15859.116667</td>\n",
       "      <td>688.916667</td>\n",
       "      <td>8840</td>\n",
       "      <td>2710</td>\n",
       "      <td>1040</td>\n",
       "    </tr>\n",
       "    <tr>\n",
       "      <th>25</th>\n",
       "      <td>Montana</td>\n",
       "      <td>1020.683333</td>\n",
       "      <td>2938.666667</td>\n",
       "      <td>4710.633333</td>\n",
       "      <td>82.300000</td>\n",
       "      <td>9280</td>\n",
       "      <td>2950</td>\n",
       "      <td>910</td>\n",
       "    </tr>\n",
       "    <tr>\n",
       "      <th>26</th>\n",
       "      <td>Nebraska</td>\n",
       "      <td>3766.050000</td>\n",
       "      <td>115.250000</td>\n",
       "      <td>2511.750000</td>\n",
       "      <td>15.616667</td>\n",
       "      <td>9070</td>\n",
       "      <td>2930</td>\n",
       "      <td>730</td>\n",
       "    </tr>\n",
       "    <tr>\n",
       "      <th>27</th>\n",
       "      <td>Nevada</td>\n",
       "      <td>1772.766667</td>\n",
       "      <td>4674.033333</td>\n",
       "      <td>3533.966667</td>\n",
       "      <td>182.083333</td>\n",
       "      <td>8510</td>\n",
       "      <td>2300</td>\n",
       "      <td>900</td>\n",
       "    </tr>\n",
       "    <tr>\n",
       "      <th>28</th>\n",
       "      <td>New Hampshire</td>\n",
       "      <td>3012.166667</td>\n",
       "      <td>4060.066667</td>\n",
       "      <td>3301.033333</td>\n",
       "      <td>59.666667</td>\n",
       "      <td>9230</td>\n",
       "      <td>3490</td>\n",
       "      <td>850</td>\n",
       "    </tr>\n",
       "    <tr>\n",
       "      <th>29</th>\n",
       "      <td>New Jersey</td>\n",
       "      <td>0.000000</td>\n",
       "      <td>4014.316667</td>\n",
       "      <td>3299.950000</td>\n",
       "      <td>146.950000</td>\n",
       "      <td>8860</td>\n",
       "      <td>3680</td>\n",
       "      <td>660</td>\n",
       "    </tr>\n",
       "    <tr>\n",
       "      <th>30</th>\n",
       "      <td>New Mexico</td>\n",
       "      <td>737.283333</td>\n",
       "      <td>4879.666667</td>\n",
       "      <td>4486.650000</td>\n",
       "      <td>222.766667</td>\n",
       "      <td>842</td>\n",
       "      <td>263</td>\n",
       "      <td>101</td>\n",
       "    </tr>\n",
       "    <tr>\n",
       "      <th>31</th>\n",
       "      <td>New York</td>\n",
       "      <td>3550.583333</td>\n",
       "      <td>7690.600000</td>\n",
       "      <td>15747.100000</td>\n",
       "      <td>522.116667</td>\n",
       "      <td>856</td>\n",
       "      <td>342</td>\n",
       "      <td>74</td>\n",
       "    </tr>\n",
       "    <tr>\n",
       "      <th>32</th>\n",
       "      <td>North Carolina</td>\n",
       "      <td>32032.983333</td>\n",
       "      <td>834.066667</td>\n",
       "      <td>14523.383333</td>\n",
       "      <td>429.516667</td>\n",
       "      <td>858</td>\n",
       "      <td>284</td>\n",
       "      <td>96</td>\n",
       "    </tr>\n",
       "    <tr>\n",
       "      <th>33</th>\n",
       "      <td>North Dakota</td>\n",
       "      <td>791.150000</td>\n",
       "      <td>1686.300000</td>\n",
       "      <td>3368.750000</td>\n",
       "      <td>50.433333</td>\n",
       "      <td>917</td>\n",
       "      <td>277</td>\n",
       "      <td>68</td>\n",
       "    </tr>\n",
       "    <tr>\n",
       "      <th>34</th>\n",
       "      <td>Ohio</td>\n",
       "      <td>1588.916667</td>\n",
       "      <td>26525.650000</td>\n",
       "      <td>19520.850000</td>\n",
       "      <td>1015.700000</td>\n",
       "      <td>891</td>\n",
       "      <td>261</td>\n",
       "      <td>99</td>\n",
       "    </tr>\n",
       "    <tr>\n",
       "      <th>35</th>\n",
       "      <td>Oklahoma</td>\n",
       "      <td>0.016667</td>\n",
       "      <td>12415.266667</td>\n",
       "      <td>11219.800000</td>\n",
       "      <td>610.383333</td>\n",
       "      <td>869</td>\n",
       "      <td>241</td>\n",
       "      <td>113</td>\n",
       "    </tr>\n",
       "    <tr>\n",
       "      <th>36</th>\n",
       "      <td>Oregon</td>\n",
       "      <td>44.316667</td>\n",
       "      <td>10706.850000</td>\n",
       "      <td>10300.233333</td>\n",
       "      <td>0.016667</td>\n",
       "      <td>898</td>\n",
       "      <td>308</td>\n",
       "      <td>102</td>\n",
       "    </tr>\n",
       "    <tr>\n",
       "      <th>37</th>\n",
       "      <td>Pennsylvania</td>\n",
       "      <td>14651.983333</td>\n",
       "      <td>18499.983333</td>\n",
       "      <td>43726.200000</td>\n",
       "      <td>70.283333</td>\n",
       "      <td>892</td>\n",
       "      <td>286</td>\n",
       "      <td>95</td>\n",
       "    </tr>\n",
       "    <tr>\n",
       "      <th>38</th>\n",
       "      <td>Rhode Island</td>\n",
       "      <td>0.000000</td>\n",
       "      <td>906.866667</td>\n",
       "      <td>761.633333</td>\n",
       "      <td>34.450000</td>\n",
       "      <td>862</td>\n",
       "      <td>319</td>\n",
       "      <td>89</td>\n",
       "    </tr>\n",
       "    <tr>\n",
       "      <th>39</th>\n",
       "      <td>South Carolina</td>\n",
       "      <td>6698.566667</td>\n",
       "      <td>8689.316667</td>\n",
       "      <td>6854.883333</td>\n",
       "      <td>293.666667</td>\n",
       "      <td>856</td>\n",
       "      <td>258</td>\n",
       "      <td>103</td>\n",
       "    </tr>\n",
       "    <tr>\n",
       "      <th>40</th>\n",
       "      <td>South Dakota</td>\n",
       "      <td>150.033333</td>\n",
       "      <td>2338.616667</td>\n",
       "      <td>4149.583333</td>\n",
       "      <td>91.300000</td>\n",
       "      <td>909</td>\n",
       "      <td>27</td>\n",
       "      <td>84</td>\n",
       "    </tr>\n",
       "    <tr>\n",
       "      <th>41</th>\n",
       "      <td>Tennessee</td>\n",
       "      <td>8999.750000</td>\n",
       "      <td>20035.200000</td>\n",
       "      <td>16148.966667</td>\n",
       "      <td>0.000000</td>\n",
       "      <td>855</td>\n",
       "      <td>249</td>\n",
       "      <td>112</td>\n",
       "    </tr>\n",
       "    <tr>\n",
       "      <th>42</th>\n",
       "      <td>Texas</td>\n",
       "      <td>18724.266667</td>\n",
       "      <td>44841.416667</td>\n",
       "      <td>41974.583333</td>\n",
       "      <td>1930.600000</td>\n",
       "      <td>8190</td>\n",
       "      <td>2760</td>\n",
       "      <td>810</td>\n",
       "    </tr>\n",
       "    <tr>\n",
       "      <th>43</th>\n",
       "      <td>Utah</td>\n",
       "      <td>26659.400000</td>\n",
       "      <td>3269.116667</td>\n",
       "      <td>4195.300000</td>\n",
       "      <td>91.866667</td>\n",
       "      <td>9120</td>\n",
       "      <td>3110</td>\n",
       "      <td>660</td>\n",
       "    </tr>\n",
       "    <tr>\n",
       "      <th>44</th>\n",
       "      <td>Vermont</td>\n",
       "      <td>0.000000</td>\n",
       "      <td>1205.766667</td>\n",
       "      <td>1431.900000</td>\n",
       "      <td>43.450000</td>\n",
       "      <td>9180</td>\n",
       "      <td>3600</td>\n",
       "      <td>1000</td>\n",
       "    </tr>\n",
       "    <tr>\n",
       "      <th>45</th>\n",
       "      <td>Virginia</td>\n",
       "      <td>112.666667</td>\n",
       "      <td>19215.000000</td>\n",
       "      <td>15895.150000</td>\n",
       "      <td>692.083333</td>\n",
       "      <td>8830</td>\n",
       "      <td>3630</td>\n",
       "      <td>770</td>\n",
       "    </tr>\n",
       "    <tr>\n",
       "      <th>46</th>\n",
       "      <td>Washington</td>\n",
       "      <td>10764.716667</td>\n",
       "      <td>14515.833333</td>\n",
       "      <td>11512.066667</td>\n",
       "      <td>928.716667</td>\n",
       "      <td>9040</td>\n",
       "      <td>3290</td>\n",
       "      <td>890</td>\n",
       "    </tr>\n",
       "    <tr>\n",
       "      <th>47</th>\n",
       "      <td>West Virginia</td>\n",
       "      <td>878.933333</td>\n",
       "      <td>6613.416667</td>\n",
       "      <td>7703.533333</td>\n",
       "      <td>181.450000</td>\n",
       "      <td>8500</td>\n",
       "      <td>1920</td>\n",
       "      <td>1440</td>\n",
       "    </tr>\n",
       "    <tr>\n",
       "      <th>48</th>\n",
       "      <td>Wisconsin</td>\n",
       "      <td>7179.716667</td>\n",
       "      <td>11905.300000</td>\n",
       "      <td>12478.766667</td>\n",
       "      <td>395.050000</td>\n",
       "      <td>9100</td>\n",
       "      <td>2780</td>\n",
       "      <td>820</td>\n",
       "    </tr>\n",
       "    <tr>\n",
       "      <th>49</th>\n",
       "      <td>Wyoming</td>\n",
       "      <td>476.916667</td>\n",
       "      <td>1888.933333</td>\n",
       "      <td>2250.466667</td>\n",
       "      <td>64.116667</td>\n",
       "      <td>9230</td>\n",
       "      <td>2570</td>\n",
       "      <td>850</td>\n",
       "    </tr>\n",
       "  </tbody>\n",
       "</table>\n",
       "</div>"
      ],
      "text/plain": [
       "             state         permit       handgun      long_gun        other  \\\n",
       "0          Alabama    9364.633333  15414.500000  14679.700000   476.350000   \n",
       "1           Alaska     134.233333   2893.333333   3251.833333   164.066667   \n",
       "2          Arizona    4476.416667  10963.566667   8048.566667   530.650000   \n",
       "3         Arkansas    3948.766667   5615.633333   7232.483333   120.033333   \n",
       "4       California   40797.966667  34331.283333  33042.033333  1748.616667   \n",
       "5         Colorado    3918.100000  15773.816667  13739.033333   569.216667   \n",
       "6      Connecticut   10631.966667   6407.116667   4345.033333   198.750000   \n",
       "7         Delaware     151.066667   1486.066667   1338.050000    55.266667   \n",
       "8          Florida    9556.033333  39968.850000  23136.466667  1392.150000   \n",
       "9          Georgia   12270.033333  12625.016667  10682.550000   278.983333   \n",
       "10          Hawaii    1298.966667      0.033333      0.033333     0.033333   \n",
       "11           Idaho    2404.600000   2861.016667   4439.533333   108.300000   \n",
       "12        Illinois   64249.600000  17342.166667  13251.700000     0.000000   \n",
       "13         Indiana   20668.233333  16589.816667  13459.650000   708.800000   \n",
       "14            Iowa    9097.316667    156.800000   3307.283333    22.366667   \n",
       "15          Kansas    1822.483333   6064.033333   6601.650000   239.800000   \n",
       "16        Kentucky  178562.016667   9416.850000   9790.433333   195.400000   \n",
       "17       Louisiana     427.800000  11129.566667  12380.066667   446.716667   \n",
       "18           Maine      63.000000   2955.666667   3748.216667   109.983333   \n",
       "19        Maryland     764.400000   5621.883333   5597.166667    72.866667   \n",
       "20   Massachusetts    8057.916667   4739.416667   2790.550000   278.933333   \n",
       "21        Michigan   17314.583333   7076.200000  11700.083333   269.366667   \n",
       "22       Minnesota   16978.083333   8356.066667  11630.383333   364.833333   \n",
       "23     Mississippi     629.183333   6691.566667   7831.550000   174.550000   \n",
       "24        Missouri    4576.666667  18317.266667  15859.116667   688.916667   \n",
       "25         Montana    1020.683333   2938.666667   4710.633333    82.300000   \n",
       "26        Nebraska    3766.050000    115.250000   2511.750000    15.616667   \n",
       "27          Nevada    1772.766667   4674.033333   3533.966667   182.083333   \n",
       "28   New Hampshire    3012.166667   4060.066667   3301.033333    59.666667   \n",
       "29      New Jersey       0.000000   4014.316667   3299.950000   146.950000   \n",
       "30      New Mexico     737.283333   4879.666667   4486.650000   222.766667   \n",
       "31        New York    3550.583333   7690.600000  15747.100000   522.116667   \n",
       "32  North Carolina   32032.983333    834.066667  14523.383333   429.516667   \n",
       "33    North Dakota     791.150000   1686.300000   3368.750000    50.433333   \n",
       "34            Ohio    1588.916667  26525.650000  19520.850000  1015.700000   \n",
       "35        Oklahoma       0.016667  12415.266667  11219.800000   610.383333   \n",
       "36          Oregon      44.316667  10706.850000  10300.233333     0.016667   \n",
       "37    Pennsylvania   14651.983333  18499.983333  43726.200000    70.283333   \n",
       "38    Rhode Island       0.000000    906.866667    761.633333    34.450000   \n",
       "39  South Carolina    6698.566667   8689.316667   6854.883333   293.666667   \n",
       "40    South Dakota     150.033333   2338.616667   4149.583333    91.300000   \n",
       "41       Tennessee    8999.750000  20035.200000  16148.966667     0.000000   \n",
       "42           Texas   18724.266667  44841.416667  41974.583333  1930.600000   \n",
       "43            Utah   26659.400000   3269.116667   4195.300000    91.866667   \n",
       "44         Vermont       0.000000   1205.766667   1431.900000    43.450000   \n",
       "45        Virginia     112.666667  19215.000000  15895.150000   692.083333   \n",
       "46      Washington   10764.716667  14515.833333  11512.066667   928.716667   \n",
       "47   West Virginia     878.933333   6613.416667   7703.533333   181.450000   \n",
       "48       Wisconsin    7179.716667  11905.300000  12478.766667   395.050000   \n",
       "49         Wyoming     476.916667   1888.933333   2250.466667    64.116667   \n",
       "\n",
       "    High school graduate or higher, percent of persons age 25 years+, 2011-2015  \\\n",
       "0                                                8430                             \n",
       "1                                                9210                             \n",
       "2                                                8600                             \n",
       "3                                                8480                             \n",
       "4                                                8180                             \n",
       "5                                                9070                             \n",
       "6                                                8990                             \n",
       "7                                                8840                             \n",
       "8                                                8690                             \n",
       "9                                                8540                             \n",
       "10                                               9100                             \n",
       "11                                               8950                             \n",
       "12                                               8790                             \n",
       "13                                               8780                             \n",
       "14                                               9150                             \n",
       "15                                               9020                             \n",
       "16                                               8420                             \n",
       "17                                               8340                             \n",
       "18                                               9160                             \n",
       "19                                               8940                             \n",
       "20                                               8980                             \n",
       "21                                               8960                             \n",
       "22                                               9240                             \n",
       "23                                               8230                             \n",
       "24                                               8840                             \n",
       "25                                               9280                             \n",
       "26                                               9070                             \n",
       "27                                               8510                             \n",
       "28                                               9230                             \n",
       "29                                               8860                             \n",
       "30                                                842                             \n",
       "31                                                856                             \n",
       "32                                                858                             \n",
       "33                                                917                             \n",
       "34                                                891                             \n",
       "35                                                869                             \n",
       "36                                                898                             \n",
       "37                                                892                             \n",
       "38                                                862                             \n",
       "39                                                856                             \n",
       "40                                                909                             \n",
       "41                                                855                             \n",
       "42                                               8190                             \n",
       "43                                               9120                             \n",
       "44                                               9180                             \n",
       "45                                               8830                             \n",
       "46                                               9040                             \n",
       "47                                               8500                             \n",
       "48                                               9100                             \n",
       "49                                               9230                             \n",
       "\n",
       "    Bachelor's degree or higher, percent of persons age 25 years+, 2011-2015  \\\n",
       "0                                                2350                          \n",
       "1                                                2800                          \n",
       "2                                                2750                          \n",
       "3                                                2110                          \n",
       "4                                                3140                          \n",
       "5                                                3810                          \n",
       "6                                                3760                          \n",
       "7                                                3000                          \n",
       "8                                                2730                          \n",
       "9                                                2880                          \n",
       "10                                               3080                          \n",
       "11                                               2590                          \n",
       "12                                               3230                          \n",
       "13                                               2410                          \n",
       "14                                               2670                          \n",
       "15                                               3100                          \n",
       "16                                               2230                          \n",
       "17                                               2250                          \n",
       "18                                               2900                          \n",
       "19                                               3790                          \n",
       "20                                               4050                          \n",
       "21                                               2690                          \n",
       "22                                               3370                          \n",
       "23                                               2070                          \n",
       "24                                               2710                          \n",
       "25                                               2950                          \n",
       "26                                               2930                          \n",
       "27                                               2300                          \n",
       "28                                               3490                          \n",
       "29                                               3680                          \n",
       "30                                                263                          \n",
       "31                                                342                          \n",
       "32                                                284                          \n",
       "33                                                277                          \n",
       "34                                                261                          \n",
       "35                                                241                          \n",
       "36                                                308                          \n",
       "37                                                286                          \n",
       "38                                                319                          \n",
       "39                                                258                          \n",
       "40                                                 27                          \n",
       "41                                                249                          \n",
       "42                                               2760                          \n",
       "43                                               3110                          \n",
       "44                                               3600                          \n",
       "45                                               3630                          \n",
       "46                                               3290                          \n",
       "47                                               1920                          \n",
       "48                                               2780                          \n",
       "49                                               2570                          \n",
       "\n",
       "    With a disability, under age 65 years, percent, 2011-2015  \n",
       "0                                                1180          \n",
       "1                                                 810          \n",
       "2                                                 820          \n",
       "3                                                1230          \n",
       "4                                                 680          \n",
       "5                                                 720          \n",
       "6                                                 710          \n",
       "7                                                 850          \n",
       "8                                                 850          \n",
       "9                                                 880          \n",
       "10                                                650          \n",
       "11                                                900          \n",
       "12                                                710          \n",
       "13                                                970          \n",
       "14                                                790          \n",
       "15                                                860          \n",
       "16                                               1290          \n",
       "17                                               1100          \n",
       "18                                               1190          \n",
       "19                                                710          \n",
       "20                                                790          \n",
       "21                                               1030          \n",
       "22                                                710          \n",
       "23                                               1190          \n",
       "24                                               1040          \n",
       "25                                                910          \n",
       "26                                                730          \n",
       "27                                                900          \n",
       "28                                                850          \n",
       "29                                                660          \n",
       "30                                                101          \n",
       "31                                                 74          \n",
       "32                                                 96          \n",
       "33                                                 68          \n",
       "34                                                 99          \n",
       "35                                                113          \n",
       "36                                                102          \n",
       "37                                                 95          \n",
       "38                                                 89          \n",
       "39                                                103          \n",
       "40                                                 84          \n",
       "41                                                112          \n",
       "42                                                810          \n",
       "43                                                660          \n",
       "44                                               1000          \n",
       "45                                                770          \n",
       "46                                                890          \n",
       "47                                               1440          \n",
       "48                                                820          \n",
       "49                                                850          "
      ]
     },
     "execution_count": 111,
     "metadata": {},
     "output_type": "execute_result"
    }
   ],
   "source": [
    "gun_data_11_15 = gun_data_2011_2015.iloc[:, [0,1,3,4,5,41,42,43]]\n",
    "gun_data_11_15"
   ]
  },
  {
   "cell_type": "code",
   "execution_count": 112,
   "id": "e6101fbb",
   "metadata": {
    "execution": {
     "iopub.execute_input": "2022-12-21T06:31:21.700595Z",
     "iopub.status.busy": "2022-12-21T06:31:21.699641Z",
     "iopub.status.idle": "2022-12-21T06:31:21.704554Z",
     "shell.execute_reply": "2022-12-21T06:31:21.703309Z"
    },
    "papermill": {
     "duration": 0.055215,
     "end_time": "2022-12-21T06:31:21.707246",
     "exception": false,
     "start_time": "2022-12-21T06:31:21.652031",
     "status": "completed"
    },
    "tags": []
   },
   "outputs": [],
   "source": [
    "# gun_data_2011_2015 = gun_data_2011_2015.iloc[[:],[0,1,3]]\n",
    "# gun_data_2011_2015"
   ]
  },
  {
   "cell_type": "code",
   "execution_count": 113,
   "id": "732227ff",
   "metadata": {
    "execution": {
     "iopub.execute_input": "2022-12-21T06:31:21.798941Z",
     "iopub.status.busy": "2022-12-21T06:31:21.798531Z",
     "iopub.status.idle": "2022-12-21T06:31:21.803863Z",
     "shell.execute_reply": "2022-12-21T06:31:21.803193Z"
    },
    "papermill": {
     "duration": 0.053944,
     "end_time": "2022-12-21T06:31:21.806037",
     "exception": false,
     "start_time": "2022-12-21T06:31:21.752093",
     "status": "completed"
    },
    "tags": []
   },
   "outputs": [
    {
     "data": {
      "text/plain": [
       "(50, 8)"
      ]
     },
     "execution_count": 113,
     "metadata": {},
     "output_type": "execute_result"
    }
   ],
   "source": [
    "gun_data_11_15.shape"
   ]
  },
  {
   "cell_type": "markdown",
   "id": "2ea9f244",
   "metadata": {
    "papermill": {
     "duration": 0.045273,
     "end_time": "2022-12-21T06:31:21.896691",
     "exception": false,
     "start_time": "2022-12-21T06:31:21.851418",
     "status": "completed"
    },
    "tags": []
   },
   "source": [
    "## State Classification"
   ]
  },
  {
   "cell_type": "code",
   "execution_count": 114,
   "id": "718b4c12",
   "metadata": {
    "execution": {
     "iopub.execute_input": "2022-12-21T06:31:21.991685Z",
     "iopub.status.busy": "2022-12-21T06:31:21.991049Z",
     "iopub.status.idle": "2022-12-21T06:31:21.997756Z",
     "shell.execute_reply": "2022-12-21T06:31:21.997061Z"
    },
    "papermill": {
     "duration": 0.05732,
     "end_time": "2022-12-21T06:31:22.000005",
     "exception": false,
     "start_time": "2022-12-21T06:31:21.942685",
     "status": "completed"
    },
    "tags": []
   },
   "outputs": [],
   "source": [
    "Northeast = ['Connecticut', 'Maine', 'Massachusetts', 'New Hampshire', 'Rhode Island', 'Vermont', 'New Jersey', 'New York', 'Pennsylvania']\n",
    "Midwest = ['Illinois', 'Indiana', 'Michigan', 'Ohio', 'Wisconsin', 'Iowa', 'Kansas', 'Minnesota', 'Missouri', 'Nebraska', 'North Dakota', 'South Dakota']\n",
    "South = ['Delaware', 'Florida', 'Georgia', 'Maryland', 'North Carolina', 'South Carolina', 'Virginia', 'Washington', 'West Virginia', 'Alabama', 'Kentucky', 'Mississippi', 'Tennessee', 'Arkansas', 'Louisiana', 'Oklahoma', 'Texas']\n",
    "West = ['Arizona', 'Colorado', 'Idaho', 'Montana', 'Nevada', 'New Mexico', 'Utah', 'Wyoming', 'Alaska', 'California', 'Hawaii', 'Oregon']"
   ]
  },
  {
   "cell_type": "code",
   "execution_count": 115,
   "id": "b61ef07c",
   "metadata": {
    "execution": {
     "iopub.execute_input": "2022-12-21T06:31:22.094780Z",
     "iopub.status.busy": "2022-12-21T06:31:22.094434Z",
     "iopub.status.idle": "2022-12-21T06:31:22.099981Z",
     "shell.execute_reply": "2022-12-21T06:31:22.098899Z"
    },
    "papermill": {
     "duration": 0.05566,
     "end_time": "2022-12-21T06:31:22.101708",
     "exception": false,
     "start_time": "2022-12-21T06:31:22.046048",
     "status": "completed"
    },
    "tags": []
   },
   "outputs": [],
   "source": [
    "def region(West, region = 'West'):\n",
    "    for i in West:\n",
    "        regional_gun_data =  gun_data_11_15[gun_data_11_15['state'] == i]\n",
    "        regional_gun_data['region'] = region\n",
    "    return regional_gun_data"
   ]
  },
  {
   "cell_type": "markdown",
   "id": "51716432",
   "metadata": {
    "papermill": {
     "duration": 0.045756,
     "end_time": "2022-12-21T06:31:22.193254",
     "exception": false,
     "start_time": "2022-12-21T06:31:22.147498",
     "status": "completed"
    },
    "tags": []
   },
   "source": [
    "## Countng the number of states prior regional classification"
   ]
  },
  {
   "cell_type": "code",
   "execution_count": 116,
   "id": "7c59ede8",
   "metadata": {
    "execution": {
     "iopub.execute_input": "2022-12-21T06:31:22.286013Z",
     "iopub.status.busy": "2022-12-21T06:31:22.285625Z",
     "iopub.status.idle": "2022-12-21T06:31:22.305610Z",
     "shell.execute_reply": "2022-12-21T06:31:22.304660Z"
    },
    "papermill": {
     "duration": 0.068588,
     "end_time": "2022-12-21T06:31:22.307413",
     "exception": false,
     "start_time": "2022-12-21T06:31:22.238825",
     "status": "completed"
    },
    "tags": []
   },
   "outputs": [
    {
     "name": "stderr",
     "output_type": "stream",
     "text": [
      "/opt/conda/lib/python3.7/site-packages/ipykernel_launcher.py:4: SettingWithCopyWarning: \n",
      "A value is trying to be set on a copy of a slice from a DataFrame.\n",
      "Try using .loc[row_indexer,col_indexer] = value instead\n",
      "\n",
      "See the caveats in the documentation: https://pandas.pydata.org/pandas-docs/stable/user_guide/indexing.html#returning-a-view-versus-a-copy\n",
      "  after removing the cwd from sys.path.\n"
     ]
    },
    {
     "data": {
      "text/html": [
       "<div>\n",
       "<style scoped>\n",
       "    .dataframe tbody tr th:only-of-type {\n",
       "        vertical-align: middle;\n",
       "    }\n",
       "\n",
       "    .dataframe tbody tr th {\n",
       "        vertical-align: top;\n",
       "    }\n",
       "\n",
       "    .dataframe thead th {\n",
       "        text-align: right;\n",
       "    }\n",
       "</style>\n",
       "<table border=\"1\" class=\"dataframe\">\n",
       "  <thead>\n",
       "    <tr style=\"text-align: right;\">\n",
       "      <th></th>\n",
       "      <th>state</th>\n",
       "      <th>permit</th>\n",
       "      <th>handgun</th>\n",
       "      <th>long_gun</th>\n",
       "      <th>other</th>\n",
       "      <th>High school graduate or higher, percent of persons age 25 years+, 2011-2015</th>\n",
       "      <th>Bachelor's degree or higher, percent of persons age 25 years+, 2011-2015</th>\n",
       "      <th>With a disability, under age 65 years, percent, 2011-2015</th>\n",
       "      <th>region</th>\n",
       "    </tr>\n",
       "  </thead>\n",
       "  <tbody>\n",
       "    <tr>\n",
       "      <th>37</th>\n",
       "      <td>Pennsylvania</td>\n",
       "      <td>14651.983333</td>\n",
       "      <td>18499.983333</td>\n",
       "      <td>43726.2</td>\n",
       "      <td>70.283333</td>\n",
       "      <td>892</td>\n",
       "      <td>286</td>\n",
       "      <td>95</td>\n",
       "      <td>Northeast</td>\n",
       "    </tr>\n",
       "  </tbody>\n",
       "</table>\n",
       "</div>"
      ],
      "text/plain": [
       "           state        permit       handgun  long_gun      other  \\\n",
       "37  Pennsylvania  14651.983333  18499.983333   43726.2  70.283333   \n",
       "\n",
       "    High school graduate or higher, percent of persons age 25 years+, 2011-2015  \\\n",
       "37                                                892                             \n",
       "\n",
       "    Bachelor's degree or higher, percent of persons age 25 years+, 2011-2015  \\\n",
       "37                                                286                          \n",
       "\n",
       "    With a disability, under age 65 years, percent, 2011-2015     region  \n",
       "37                                                 95          Northeast  "
      ]
     },
     "execution_count": 116,
     "metadata": {},
     "output_type": "execute_result"
    }
   ],
   "source": [
    "Northeast = region(Northeast, region = 'Northeast')\n",
    "Northeast.head(5)"
   ]
  },
  {
   "cell_type": "code",
   "execution_count": 117,
   "id": "317207da",
   "metadata": {
    "execution": {
     "iopub.execute_input": "2022-12-21T06:31:22.399389Z",
     "iopub.status.busy": "2022-12-21T06:31:22.399059Z",
     "iopub.status.idle": "2022-12-21T06:31:22.424259Z",
     "shell.execute_reply": "2022-12-21T06:31:22.422595Z"
    },
    "papermill": {
     "duration": 0.075386,
     "end_time": "2022-12-21T06:31:22.427560",
     "exception": false,
     "start_time": "2022-12-21T06:31:22.352174",
     "status": "completed"
    },
    "tags": []
   },
   "outputs": [
    {
     "name": "stderr",
     "output_type": "stream",
     "text": [
      "/opt/conda/lib/python3.7/site-packages/ipykernel_launcher.py:4: SettingWithCopyWarning: \n",
      "A value is trying to be set on a copy of a slice from a DataFrame.\n",
      "Try using .loc[row_indexer,col_indexer] = value instead\n",
      "\n",
      "See the caveats in the documentation: https://pandas.pydata.org/pandas-docs/stable/user_guide/indexing.html#returning-a-view-versus-a-copy\n",
      "  after removing the cwd from sys.path.\n"
     ]
    },
    {
     "data": {
      "text/html": [
       "<div>\n",
       "<style scoped>\n",
       "    .dataframe tbody tr th:only-of-type {\n",
       "        vertical-align: middle;\n",
       "    }\n",
       "\n",
       "    .dataframe tbody tr th {\n",
       "        vertical-align: top;\n",
       "    }\n",
       "\n",
       "    .dataframe thead th {\n",
       "        text-align: right;\n",
       "    }\n",
       "</style>\n",
       "<table border=\"1\" class=\"dataframe\">\n",
       "  <thead>\n",
       "    <tr style=\"text-align: right;\">\n",
       "      <th></th>\n",
       "      <th>state</th>\n",
       "      <th>permit</th>\n",
       "      <th>handgun</th>\n",
       "      <th>long_gun</th>\n",
       "      <th>other</th>\n",
       "      <th>High school graduate or higher, percent of persons age 25 years+, 2011-2015</th>\n",
       "      <th>Bachelor's degree or higher, percent of persons age 25 years+, 2011-2015</th>\n",
       "      <th>With a disability, under age 65 years, percent, 2011-2015</th>\n",
       "      <th>region</th>\n",
       "    </tr>\n",
       "  </thead>\n",
       "  <tbody>\n",
       "    <tr>\n",
       "      <th>40</th>\n",
       "      <td>South Dakota</td>\n",
       "      <td>150.033333</td>\n",
       "      <td>2338.616667</td>\n",
       "      <td>4149.583333</td>\n",
       "      <td>91.3</td>\n",
       "      <td>909</td>\n",
       "      <td>27</td>\n",
       "      <td>84</td>\n",
       "      <td>Midwest</td>\n",
       "    </tr>\n",
       "  </tbody>\n",
       "</table>\n",
       "</div>"
      ],
      "text/plain": [
       "           state      permit      handgun     long_gun  other  \\\n",
       "40  South Dakota  150.033333  2338.616667  4149.583333   91.3   \n",
       "\n",
       "    High school graduate or higher, percent of persons age 25 years+, 2011-2015  \\\n",
       "40                                                909                             \n",
       "\n",
       "    Bachelor's degree or higher, percent of persons age 25 years+, 2011-2015  \\\n",
       "40                                                 27                          \n",
       "\n",
       "    With a disability, under age 65 years, percent, 2011-2015   region  \n",
       "40                                                 84          Midwest  "
      ]
     },
     "execution_count": 117,
     "metadata": {},
     "output_type": "execute_result"
    }
   ],
   "source": [
    "Midwest = region(Midwest, region = 'Midwest')\n",
    "Midwest.head(3)"
   ]
  },
  {
   "cell_type": "code",
   "execution_count": 118,
   "id": "23531ab1",
   "metadata": {
    "execution": {
     "iopub.execute_input": "2022-12-21T06:31:22.520701Z",
     "iopub.status.busy": "2022-12-21T06:31:22.520282Z",
     "iopub.status.idle": "2022-12-21T06:31:22.548316Z",
     "shell.execute_reply": "2022-12-21T06:31:22.546568Z"
    },
    "papermill": {
     "duration": 0.076725,
     "end_time": "2022-12-21T06:31:22.550256",
     "exception": false,
     "start_time": "2022-12-21T06:31:22.473531",
     "status": "completed"
    },
    "tags": []
   },
   "outputs": [
    {
     "name": "stderr",
     "output_type": "stream",
     "text": [
      "/opt/conda/lib/python3.7/site-packages/ipykernel_launcher.py:4: SettingWithCopyWarning: \n",
      "A value is trying to be set on a copy of a slice from a DataFrame.\n",
      "Try using .loc[row_indexer,col_indexer] = value instead\n",
      "\n",
      "See the caveats in the documentation: https://pandas.pydata.org/pandas-docs/stable/user_guide/indexing.html#returning-a-view-versus-a-copy\n",
      "  after removing the cwd from sys.path.\n"
     ]
    },
    {
     "data": {
      "text/html": [
       "<div>\n",
       "<style scoped>\n",
       "    .dataframe tbody tr th:only-of-type {\n",
       "        vertical-align: middle;\n",
       "    }\n",
       "\n",
       "    .dataframe tbody tr th {\n",
       "        vertical-align: top;\n",
       "    }\n",
       "\n",
       "    .dataframe thead th {\n",
       "        text-align: right;\n",
       "    }\n",
       "</style>\n",
       "<table border=\"1\" class=\"dataframe\">\n",
       "  <thead>\n",
       "    <tr style=\"text-align: right;\">\n",
       "      <th></th>\n",
       "      <th>state</th>\n",
       "      <th>permit</th>\n",
       "      <th>handgun</th>\n",
       "      <th>long_gun</th>\n",
       "      <th>other</th>\n",
       "      <th>High school graduate or higher, percent of persons age 25 years+, 2011-2015</th>\n",
       "      <th>Bachelor's degree or higher, percent of persons age 25 years+, 2011-2015</th>\n",
       "      <th>With a disability, under age 65 years, percent, 2011-2015</th>\n",
       "      <th>region</th>\n",
       "    </tr>\n",
       "  </thead>\n",
       "  <tbody>\n",
       "    <tr>\n",
       "      <th>42</th>\n",
       "      <td>Texas</td>\n",
       "      <td>18724.266667</td>\n",
       "      <td>44841.416667</td>\n",
       "      <td>41974.583333</td>\n",
       "      <td>1930.6</td>\n",
       "      <td>8190</td>\n",
       "      <td>2760</td>\n",
       "      <td>810</td>\n",
       "      <td>South</td>\n",
       "    </tr>\n",
       "  </tbody>\n",
       "</table>\n",
       "</div>"
      ],
      "text/plain": [
       "    state        permit       handgun      long_gun   other  \\\n",
       "42  Texas  18724.266667  44841.416667  41974.583333  1930.6   \n",
       "\n",
       "    High school graduate or higher, percent of persons age 25 years+, 2011-2015  \\\n",
       "42                                               8190                             \n",
       "\n",
       "    Bachelor's degree or higher, percent of persons age 25 years+, 2011-2015  \\\n",
       "42                                               2760                          \n",
       "\n",
       "    With a disability, under age 65 years, percent, 2011-2015 region  \n",
       "42                                                810          South  "
      ]
     },
     "execution_count": 118,
     "metadata": {},
     "output_type": "execute_result"
    }
   ],
   "source": [
    "south = region(South, region = 'South')\n",
    "south.head(3)"
   ]
  },
  {
   "cell_type": "code",
   "execution_count": 119,
   "id": "5c9f22ce",
   "metadata": {
    "execution": {
     "iopub.execute_input": "2022-12-21T06:31:22.642623Z",
     "iopub.status.busy": "2022-12-21T06:31:22.641383Z",
     "iopub.status.idle": "2022-12-21T06:31:22.665056Z",
     "shell.execute_reply": "2022-12-21T06:31:22.664274Z"
    },
    "papermill": {
     "duration": 0.073326,
     "end_time": "2022-12-21T06:31:22.668389",
     "exception": false,
     "start_time": "2022-12-21T06:31:22.595063",
     "status": "completed"
    },
    "tags": []
   },
   "outputs": [
    {
     "name": "stderr",
     "output_type": "stream",
     "text": [
      "/opt/conda/lib/python3.7/site-packages/ipykernel_launcher.py:4: SettingWithCopyWarning: \n",
      "A value is trying to be set on a copy of a slice from a DataFrame.\n",
      "Try using .loc[row_indexer,col_indexer] = value instead\n",
      "\n",
      "See the caveats in the documentation: https://pandas.pydata.org/pandas-docs/stable/user_guide/indexing.html#returning-a-view-versus-a-copy\n",
      "  after removing the cwd from sys.path.\n"
     ]
    },
    {
     "data": {
      "text/html": [
       "<div>\n",
       "<style scoped>\n",
       "    .dataframe tbody tr th:only-of-type {\n",
       "        vertical-align: middle;\n",
       "    }\n",
       "\n",
       "    .dataframe tbody tr th {\n",
       "        vertical-align: top;\n",
       "    }\n",
       "\n",
       "    .dataframe thead th {\n",
       "        text-align: right;\n",
       "    }\n",
       "</style>\n",
       "<table border=\"1\" class=\"dataframe\">\n",
       "  <thead>\n",
       "    <tr style=\"text-align: right;\">\n",
       "      <th></th>\n",
       "      <th>state</th>\n",
       "      <th>permit</th>\n",
       "      <th>handgun</th>\n",
       "      <th>long_gun</th>\n",
       "      <th>other</th>\n",
       "      <th>High school graduate or higher, percent of persons age 25 years+, 2011-2015</th>\n",
       "      <th>Bachelor's degree or higher, percent of persons age 25 years+, 2011-2015</th>\n",
       "      <th>With a disability, under age 65 years, percent, 2011-2015</th>\n",
       "      <th>region</th>\n",
       "    </tr>\n",
       "  </thead>\n",
       "  <tbody>\n",
       "    <tr>\n",
       "      <th>36</th>\n",
       "      <td>Oregon</td>\n",
       "      <td>44.316667</td>\n",
       "      <td>10706.85</td>\n",
       "      <td>10300.233333</td>\n",
       "      <td>0.016667</td>\n",
       "      <td>898</td>\n",
       "      <td>308</td>\n",
       "      <td>102</td>\n",
       "      <td>West</td>\n",
       "    </tr>\n",
       "  </tbody>\n",
       "</table>\n",
       "</div>"
      ],
      "text/plain": [
       "     state     permit   handgun      long_gun     other  \\\n",
       "36  Oregon  44.316667  10706.85  10300.233333  0.016667   \n",
       "\n",
       "    High school graduate or higher, percent of persons age 25 years+, 2011-2015  \\\n",
       "36                                                898                             \n",
       "\n",
       "    Bachelor's degree or higher, percent of persons age 25 years+, 2011-2015  \\\n",
       "36                                                308                          \n",
       "\n",
       "    With a disability, under age 65 years, percent, 2011-2015 region  \n",
       "36                                                102           West  "
      ]
     },
     "execution_count": 119,
     "metadata": {},
     "output_type": "execute_result"
    }
   ],
   "source": [
    "West = region(West, region = 'West')\n",
    "West.head(3)"
   ]
  },
  {
   "cell_type": "markdown",
   "id": "c35e14bd",
   "metadata": {
    "papermill": {
     "duration": 0.045063,
     "end_time": "2022-12-21T06:31:22.760456",
     "exception": false,
     "start_time": "2022-12-21T06:31:22.715393",
     "status": "completed"
    },
    "tags": []
   },
   "source": [
    "## Appending Data"
   ]
  },
  {
   "cell_type": "code",
   "execution_count": 120,
   "id": "d79f23e7",
   "metadata": {
    "execution": {
     "iopub.execute_input": "2022-12-21T06:31:22.852468Z",
     "iopub.status.busy": "2022-12-21T06:31:22.852092Z",
     "iopub.status.idle": "2022-12-21T06:31:22.860985Z",
     "shell.execute_reply": "2022-12-21T06:31:22.859468Z"
    },
    "papermill": {
     "duration": 0.057819,
     "end_time": "2022-12-21T06:31:22.863679",
     "exception": false,
     "start_time": "2022-12-21T06:31:22.805860",
     "status": "completed"
    },
    "tags": []
   },
   "outputs": [
    {
     "data": {
      "text/plain": [
       "50"
      ]
     },
     "execution_count": 120,
     "metadata": {},
     "output_type": "execute_result"
    }
   ],
   "source": [
    "len(gun_data['state'].unique())"
   ]
  },
  {
   "cell_type": "code",
   "execution_count": 121,
   "id": "259d191e",
   "metadata": {
    "execution": {
     "iopub.execute_input": "2022-12-21T06:31:22.957443Z",
     "iopub.status.busy": "2022-12-21T06:31:22.957073Z",
     "iopub.status.idle": "2022-12-21T06:31:22.963124Z",
     "shell.execute_reply": "2022-12-21T06:31:22.961830Z"
    },
    "papermill": {
     "duration": 0.055892,
     "end_time": "2022-12-21T06:31:22.965907",
     "exception": false,
     "start_time": "2022-12-21T06:31:22.910015",
     "status": "completed"
    },
    "tags": []
   },
   "outputs": [
    {
     "data": {
      "text/plain": [
       "(11350, 29)"
      ]
     },
     "execution_count": 121,
     "metadata": {},
     "output_type": "execute_result"
    }
   ],
   "source": [
    "gun_data.shape"
   ]
  },
  {
   "cell_type": "code",
   "execution_count": 122,
   "id": "4f97a1cc",
   "metadata": {
    "execution": {
     "iopub.execute_input": "2022-12-21T06:31:23.060535Z",
     "iopub.status.busy": "2022-12-21T06:31:23.060120Z",
     "iopub.status.idle": "2022-12-21T06:31:23.078076Z",
     "shell.execute_reply": "2022-12-21T06:31:23.076508Z"
    },
    "papermill": {
     "duration": 0.068008,
     "end_time": "2022-12-21T06:31:23.080695",
     "exception": false,
     "start_time": "2022-12-21T06:31:23.012687",
     "status": "completed"
    },
    "tags": []
   },
   "outputs": [
    {
     "data": {
      "text/html": [
       "<div>\n",
       "<style scoped>\n",
       "    .dataframe tbody tr th:only-of-type {\n",
       "        vertical-align: middle;\n",
       "    }\n",
       "\n",
       "    .dataframe tbody tr th {\n",
       "        vertical-align: top;\n",
       "    }\n",
       "\n",
       "    .dataframe thead th {\n",
       "        text-align: right;\n",
       "    }\n",
       "</style>\n",
       "<table border=\"1\" class=\"dataframe\">\n",
       "  <thead>\n",
       "    <tr style=\"text-align: right;\">\n",
       "      <th></th>\n",
       "      <th>state</th>\n",
       "      <th>permit</th>\n",
       "      <th>handgun</th>\n",
       "      <th>long_gun</th>\n",
       "      <th>other</th>\n",
       "      <th>High school graduate or higher, percent of persons age 25 years+, 2011-2015</th>\n",
       "      <th>Bachelor's degree or higher, percent of persons age 25 years+, 2011-2015</th>\n",
       "      <th>With a disability, under age 65 years, percent, 2011-2015</th>\n",
       "      <th>region</th>\n",
       "    </tr>\n",
       "  </thead>\n",
       "  <tbody>\n",
       "    <tr>\n",
       "      <th>0</th>\n",
       "      <td>Pennsylvania</td>\n",
       "      <td>14651.983333</td>\n",
       "      <td>18499.983333</td>\n",
       "      <td>43726.200000</td>\n",
       "      <td>70.283333</td>\n",
       "      <td>892</td>\n",
       "      <td>286</td>\n",
       "      <td>95</td>\n",
       "      <td>Northeast</td>\n",
       "    </tr>\n",
       "    <tr>\n",
       "      <th>1</th>\n",
       "      <td>South Dakota</td>\n",
       "      <td>150.033333</td>\n",
       "      <td>2338.616667</td>\n",
       "      <td>4149.583333</td>\n",
       "      <td>91.300000</td>\n",
       "      <td>909</td>\n",
       "      <td>27</td>\n",
       "      <td>84</td>\n",
       "      <td>Midwest</td>\n",
       "    </tr>\n",
       "    <tr>\n",
       "      <th>2</th>\n",
       "      <td>Texas</td>\n",
       "      <td>18724.266667</td>\n",
       "      <td>44841.416667</td>\n",
       "      <td>41974.583333</td>\n",
       "      <td>1930.600000</td>\n",
       "      <td>8190</td>\n",
       "      <td>2760</td>\n",
       "      <td>810</td>\n",
       "      <td>South</td>\n",
       "    </tr>\n",
       "    <tr>\n",
       "      <th>3</th>\n",
       "      <td>Oregon</td>\n",
       "      <td>44.316667</td>\n",
       "      <td>10706.850000</td>\n",
       "      <td>10300.233333</td>\n",
       "      <td>0.016667</td>\n",
       "      <td>898</td>\n",
       "      <td>308</td>\n",
       "      <td>102</td>\n",
       "      <td>West</td>\n",
       "    </tr>\n",
       "  </tbody>\n",
       "</table>\n",
       "</div>"
      ],
      "text/plain": [
       "          state        permit       handgun      long_gun        other  \\\n",
       "0  Pennsylvania  14651.983333  18499.983333  43726.200000    70.283333   \n",
       "1  South Dakota    150.033333   2338.616667   4149.583333    91.300000   \n",
       "2         Texas  18724.266667  44841.416667  41974.583333  1930.600000   \n",
       "3        Oregon     44.316667  10706.850000  10300.233333     0.016667   \n",
       "\n",
       "   High school graduate or higher, percent of persons age 25 years+, 2011-2015  \\\n",
       "0                                                892                             \n",
       "1                                                909                             \n",
       "2                                               8190                             \n",
       "3                                                898                             \n",
       "\n",
       "   Bachelor's degree or higher, percent of persons age 25 years+, 2011-2015  \\\n",
       "0                                                286                          \n",
       "1                                                 27                          \n",
       "2                                               2760                          \n",
       "3                                                308                          \n",
       "\n",
       "   With a disability, under age 65 years, percent, 2011-2015     region  \n",
       "0                                                 95          Northeast  \n",
       "1                                                 84            Midwest  \n",
       "2                                                810              South  \n",
       "3                                                102               West  "
      ]
     },
     "execution_count": 122,
     "metadata": {},
     "output_type": "execute_result"
    }
   ],
   "source": [
    "new_g = pd.concat([Northeast, Midwest, south, West], ignore_index = True)\n",
    "new_g.head(5)"
   ]
  },
  {
   "cell_type": "code",
   "execution_count": 123,
   "id": "289359df",
   "metadata": {
    "execution": {
     "iopub.execute_input": "2022-12-21T06:31:23.178420Z",
     "iopub.status.busy": "2022-12-21T06:31:23.178026Z",
     "iopub.status.idle": "2022-12-21T06:31:23.183559Z",
     "shell.execute_reply": "2022-12-21T06:31:23.182817Z"
    },
    "papermill": {
     "duration": 0.058793,
     "end_time": "2022-12-21T06:31:23.185712",
     "exception": false,
     "start_time": "2022-12-21T06:31:23.126919",
     "status": "completed"
    },
    "tags": []
   },
   "outputs": [
    {
     "data": {
      "text/plain": [
       "(4, 9)"
      ]
     },
     "execution_count": 123,
     "metadata": {},
     "output_type": "execute_result"
    }
   ],
   "source": [
    "new_g.shape"
   ]
  },
  {
   "cell_type": "markdown",
   "id": "fa1c3738",
   "metadata": {
    "papermill": {
     "duration": 0.047109,
     "end_time": "2022-12-21T06:31:23.279132",
     "exception": false,
     "start_time": "2022-12-21T06:31:23.232023",
     "status": "completed"
    },
    "tags": []
   },
   "source": [
    "### Visualization"
   ]
  },
  {
   "cell_type": "code",
   "execution_count": 124,
   "id": "438ff93d",
   "metadata": {
    "execution": {
     "iopub.execute_input": "2022-12-21T06:31:23.374086Z",
     "iopub.status.busy": "2022-12-21T06:31:23.373739Z",
     "iopub.status.idle": "2022-12-21T06:31:23.599480Z",
     "shell.execute_reply": "2022-12-21T06:31:23.597898Z"
    },
    "papermill": {
     "duration": 0.276714,
     "end_time": "2022-12-21T06:31:23.602500",
     "exception": false,
     "start_time": "2022-12-21T06:31:23.325786",
     "status": "completed"
    },
    "tags": []
   },
   "outputs": [
    {
     "data": {
      "image/png": "[encoded data removed]",
      "text/plain": [
       "<Figure size 432x288 with 1 Axes>"
      ]
     },
     "metadata": {},
     "output_type": "display_data"
    }
   ],
   "source": [
    "plt.hist(new_g['handgun']);"
   ]
  },
  {
   "cell_type": "code",
   "execution_count": 125,
   "id": "1a13ab65",
   "metadata": {
    "execution": {
     "iopub.execute_input": "2022-12-21T06:31:23.756605Z",
     "iopub.status.busy": "2022-12-21T06:31:23.755418Z",
     "iopub.status.idle": "2022-12-21T06:31:25.455629Z",
     "shell.execute_reply": "2022-12-21T06:31:25.453765Z"
    },
    "papermill": {
     "duration": 1.809693,
     "end_time": "2022-12-21T06:31:25.458778",
     "exception": false,
     "start_time": "2022-12-21T06:31:23.649085",
     "status": "completed"
    },
    "tags": []
   },
   "outputs": [
    {
     "data": {
      "image/png": "[encoded data removed]",
      "text/plain": [
       "<Figure size 1800x1080 with 9 Axes>"
      ]
     },
     "metadata": {},
     "output_type": "display_data"
    }
   ],
   "source": [
    "new_g.hist(figsize=(25,15));"
   ]
  },
  {
   "cell_type": "markdown",
   "id": "b9afc0ed",
   "metadata": {
    "papermill": {
     "duration": 0.047741,
     "end_time": "2022-12-21T06:31:25.554564",
     "exception": false,
     "start_time": "2022-12-21T06:31:25.506823",
     "status": "completed"
    },
    "tags": []
   },
   "source": [
    "### Based on region"
   ]
  },
  {
   "cell_type": "markdown",
   "id": "da0baefd",
   "metadata": {
    "papermill": {
     "duration": 0.047356,
     "end_time": "2022-12-21T06:31:25.649684",
     "exception": false,
     "start_time": "2022-12-21T06:31:25.602328",
     "status": "completed"
    },
    "tags": []
   },
   "source": [
    "### Classifying/Grouping state s to west, east...\n",
    "\n",
    "\n",
    "np.repeat('red', len(red_df))\n",
    "# create color array for red dataframe\n",
    "color_red = np.repeat('red', len(red_df))\n",
    "color_red\n",
    "array(['red', 'red', 'red', ..., 'red', 'red', 'red'], \n",
    "      dtype='<U3')\n",
    ".shape\n",
    "white_df.shape\n",
    "(4898, 12)\n",
    "len(white_df)\n",
    "4898"
   ]
  },
  {
   "cell_type": "code",
   "execution_count": 126,
   "id": "7dd4830f",
   "metadata": {
    "execution": {
     "iopub.execute_input": "2022-12-21T06:31:25.747262Z",
     "iopub.status.busy": "2022-12-21T06:31:25.746797Z",
     "iopub.status.idle": "2022-12-21T06:31:25.752590Z",
     "shell.execute_reply": "2022-12-21T06:31:25.750824Z"
    },
    "papermill": {
     "duration": 0.05814,
     "end_time": "2022-12-21T06:31:25.755159",
     "exception": false,
     "start_time": "2022-12-21T06:31:25.697019",
     "status": "completed"
    },
    "tags": []
   },
   "outputs": [],
   "source": [
    "# Load your data and print out a few lines. Perform operations to inspect data\n",
    "#   types and look for instances of missing or possibly errant data.\n"
   ]
  },
  {
   "cell_type": "markdown",
   "id": "f7c70e16",
   "metadata": {
    "papermill": {
     "duration": 0.048082,
     "end_time": "2022-12-21T06:31:25.851574",
     "exception": false,
     "start_time": "2022-12-21T06:31:25.803492",
     "status": "completed"
    },
    "tags": []
   },
   "source": [
    "> **Tip**: You should _not_ perform too many operations in each cell. Create cells freely to explore your data. One option that you can take with this project is to do a lot of explorations in an initial notebook. These don't have to be organized, but make sure you use enough comments to understand the purpose of each code cell. Then, after you're done with your analysis, create a duplicate notebook where you will trim the excess and organize your steps so that you have a flowing, cohesive report.\n",
    "\n",
    "> **Tip**: Make sure that you keep your reader informed on the steps that you are taking in your investigation. Follow every code cell, or every set of related code cells, with a markdown cell to describe to the reader what was found in the preceding cell(s). Try to make it so that the reader can then understand what they will be seeing in the following cell(s).\n",
    "\n",
    "### Data Cleaning (Replace this with more specific notes!)"
   ]
  },
  {
   "cell_type": "code",
   "execution_count": 127,
   "id": "04ccec7f",
   "metadata": {
    "execution": {
     "iopub.execute_input": "2022-12-21T06:31:25.947575Z",
     "iopub.status.busy": "2022-12-21T06:31:25.947186Z",
     "iopub.status.idle": "2022-12-21T06:31:25.952322Z",
     "shell.execute_reply": "2022-12-21T06:31:25.950889Z"
    },
    "papermill": {
     "duration": 0.05547,
     "end_time": "2022-12-21T06:31:25.954439",
     "exception": false,
     "start_time": "2022-12-21T06:31:25.898969",
     "status": "completed"
    },
    "tags": []
   },
   "outputs": [],
   "source": [
    "# After discussing the structure of the data and any problems that need to be\n",
    "#   cleaned, perform those cleaning steps in the second part of this section.\n"
   ]
  },
  {
   "cell_type": "markdown",
   "id": "9b07137c",
   "metadata": {
    "papermill": {
     "duration": 0.047445,
     "end_time": "2022-12-21T06:31:26.049886",
     "exception": false,
     "start_time": "2022-12-21T06:31:26.002441",
     "status": "completed"
    },
    "tags": []
   },
   "source": [
    "<a id='eda'></a>\n",
    "## Exploratory Data Analysis\n",
    "\n",
    "> **Tip**: Now that you've trimmed and cleaned your data, you're ready to move on to exploration. Compute statistics and create visualizations with the goal of addressing the research questions that you posed in the Introduction section. It is recommended that you be systematic with your approach. Look at one variable at a time, and then follow it up by looking at relationships between variables.\n",
    "\n",
    "### Research Question 1 (Replace this header name!)"
   ]
  },
  {
   "cell_type": "code",
   "execution_count": 128,
   "id": "cee6629a",
   "metadata": {
    "execution": {
     "iopub.execute_input": "2022-12-21T06:31:26.150656Z",
     "iopub.status.busy": "2022-12-21T06:31:26.150190Z",
     "iopub.status.idle": "2022-12-21T06:31:26.155097Z",
     "shell.execute_reply": "2022-12-21T06:31:26.154028Z"
    },
    "papermill": {
     "duration": 0.056497,
     "end_time": "2022-12-21T06:31:26.156962",
     "exception": false,
     "start_time": "2022-12-21T06:31:26.100465",
     "status": "completed"
    },
    "tags": []
   },
   "outputs": [],
   "source": [
    "# Use this, and more code cells, to explore your data. Don't forget to add\n",
    "#   Markdown cells to document your observations and findings.\n"
   ]
  },
  {
   "cell_type": "markdown",
   "id": "a2848db1",
   "metadata": {
    "papermill": {
     "duration": 0.046982,
     "end_time": "2022-12-21T06:31:26.252351",
     "exception": false,
     "start_time": "2022-12-21T06:31:26.205369",
     "status": "completed"
    },
    "tags": []
   },
   "source": [
    "### Research Question 2  (Replace this header name!)"
   ]
  },
  {
   "cell_type": "code",
   "execution_count": 129,
   "id": "5b315b7f",
   "metadata": {
    "execution": {
     "iopub.execute_input": "2022-12-21T06:31:26.348958Z",
     "iopub.status.busy": "2022-12-21T06:31:26.348398Z",
     "iopub.status.idle": "2022-12-21T06:31:26.353920Z",
     "shell.execute_reply": "2022-12-21T06:31:26.352347Z"
    },
    "papermill": {
     "duration": 0.057956,
     "end_time": "2022-12-21T06:31:26.356964",
     "exception": false,
     "start_time": "2022-12-21T06:31:26.299008",
     "status": "completed"
    },
    "tags": []
   },
   "outputs": [],
   "source": [
    "# Continue to explore the data to address your additional research\n",
    "#   questions. Add more headers as needed if you have more questions to\n",
    "#   investigate.\n"
   ]
  },
  {
   "cell_type": "markdown",
   "id": "6f9807af",
   "metadata": {
    "papermill": {
     "duration": 0.047866,
     "end_time": "2022-12-21T06:31:26.454353",
     "exception": false,
     "start_time": "2022-12-21T06:31:26.406487",
     "status": "completed"
    },
    "tags": []
   },
   "source": [
    "<a id='conclusions'></a>\n",
    "## Conclusions\n",
    "\n",
    "> **Tip**: Finally, summarize your findings and the results that have been performed. Make sure that you are clear with regards to the limitations of your exploration. If you haven't done any statistical tests, do not imply any statistical conclusions. And make sure you avoid implying causation from correlation!\n",
    "\n",
    "> **Tip**: Once you are satisfied with your work, you should save a copy of the report in HTML or PDF form via the **File** > **Download as** submenu. Before exporting your report, check over it to make sure that the flow of the report is complete. You should probably remove all of the \"Tip\" quotes like this one so that the presentation is as tidy as possible. Congratulations!"
   ]
  },
  {
   "cell_type": "code",
   "execution_count": null,
   "id": "5a7a0d2f",
   "metadata": {
    "papermill": {
     "duration": 0.046563,
     "end_time": "2022-12-21T06:31:26.548215",
     "exception": false,
     "start_time": "2022-12-21T06:31:26.501652",
     "status": "completed"
    },
    "tags": []
   },
   "outputs": [],
   "source": []
  }
 ],
 "metadata": {
  "kernelspec": {
   "display_name": "Python 3",
   "language": "python",
   "name": "python3"
  },
  "language_info": {
   "codemirror_mode": {
    "name": "ipython",
    "version": 3
   },
   "file_extension": ".py",
   "mimetype": "text/x-python",
   "name": "python",
   "nbconvert_exporter": "python",
   "pygments_lexer": "ipython3",
   "version": "3.7.12"
  },
  "papermill": {
   "default_parameters": {},
   "duration": 31.085954,
   "end_time": "2022-12-21T06:31:27.418557",
   "environment_variables": {},
   "exception": null,
   "input_path": "__notebook__.ipynb",
   "output_path": "__notebook__.ipynb",
   "parameters": {},
   "start_time": "2022-12-21T06:30:56.332603",
   "version": "2.3.4"
  }
 },
 "nbformat": 4,
 "nbformat_minor": 5
}
